{
 "cells": [
  {
   "cell_type": "code",
   "execution_count": null,
   "metadata": {
    "collapsed": true
   },
   "outputs": [],
   "source": [
    "Week 1 Project One Answers\n",
    "\n",
    "Step 1:\n",
    "    1: Data describe statistics by state. Measurements appear to be rate of participation, Score in Verbal, and Score in Math. The data are arranged by Rate\n",
    "    2: Data look acceptable, but could benefit by improved labelling and the presence of absolute participant counts. \n",
    "        Improved labelling would take the guesswork out of understanding what a Rate was, as well as the All line, which I would assume means national.\n",
    "        Participant counts would be useful in order allow weighted averages to be performed across subsets of states (e.g. by region). Lack of participant counts also make verification of the All row as national.\n",
    "    3: \n"
   ]
  }
 ],
 "metadata": {
  "anaconda-cloud": {},
  "kernelspec": {
   "display_name": "Python [Root]",
   "language": "python",
   "name": "Python [Root]"
  },
  "language_info": {
   "codemirror_mode": {
    "name": "ipython",
    "version": 2
   },
   "file_extension": ".py",
   "mimetype": "text/x-python",
   "name": "python",
   "nbconvert_exporter": "python",
   "pygments_lexer": "ipython2",
   "version": "2.7.12"
  }
 },
 "nbformat": 4,
 "nbformat_minor": 0
}
