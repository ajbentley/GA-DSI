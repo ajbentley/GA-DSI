{
 "cells": [
  {
   "cell_type": "code",
   "execution_count": 3,
   "metadata": {
    "collapsed": false
   },
   "outputs": [
    {
     "name": "stdout",
     "output_type": "stream",
     "text": [
      "Pick a number from 1 - 10: y\n"
     ]
    },
    {
     "ename": "ValueError",
     "evalue": "invalid literal for int() with base 10: 'y'",
     "output_type": "error",
     "traceback": [
      "\u001b[0;31m---------------------------------------------------------------------------\u001b[0m",
      "\u001b[0;31mValueError\u001b[0m                                Traceback (most recent call last)",
      "\u001b[0;32m<ipython-input-3-94e4e6b6903d>\u001b[0m in \u001b[0;36m<module>\u001b[0;34m()\u001b[0m\n\u001b[1;32m     70\u001b[0m         \u001b[0;32mreturn\u001b[0m \u001b[0mguess_number\u001b[0m\u001b[0;34m(\u001b[0m\u001b[0;34m)\u001b[0m\u001b[0;34m\u001b[0m\u001b[0m\n\u001b[1;32m     71\u001b[0m \u001b[0;34m\u001b[0m\u001b[0m\n\u001b[0;32m---> 72\u001b[0;31m \u001b[0mguess_number\u001b[0m\u001b[0;34m(\u001b[0m\u001b[0;34m)\u001b[0m\u001b[0;34m\u001b[0m\u001b[0m\n\u001b[0m",
      "\u001b[0;32m<ipython-input-3-94e4e6b6903d>\u001b[0m in \u001b[0;36mguess_number\u001b[0;34m()\u001b[0m\n\u001b[1;32m      4\u001b[0m \u001b[0;34m\u001b[0m\u001b[0m\n\u001b[1;32m      5\u001b[0m     \u001b[0mguessd\u001b[0m \u001b[0;34m=\u001b[0m \u001b[0;34m[\u001b[0m\u001b[0;34m]\u001b[0m\u001b[0;34m\u001b[0m\u001b[0m\n\u001b[0;32m----> 6\u001b[0;31m     \u001b[0mguess\u001b[0m \u001b[0;34m=\u001b[0m \u001b[0mint\u001b[0m\u001b[0;34m(\u001b[0m\u001b[0mraw_input\u001b[0m\u001b[0;34m(\u001b[0m\u001b[0;34m\"Pick a number from 1 - 10: \"\u001b[0m\u001b[0;34m)\u001b[0m\u001b[0;34m)\u001b[0m\u001b[0;34m\u001b[0m\u001b[0m\n\u001b[0m\u001b[1;32m      7\u001b[0m     \u001b[0;32mif\u001b[0m \u001b[0mtype\u001b[0m\u001b[0;34m(\u001b[0m\u001b[0mguess\u001b[0m\u001b[0;34m)\u001b[0m \u001b[0;34m==\u001b[0m \u001b[0mint\u001b[0m\u001b[0;34m:\u001b[0m\u001b[0;34m\u001b[0m\u001b[0m\n\u001b[1;32m      8\u001b[0m          \u001b[0mguessd\u001b[0m\u001b[0;34m.\u001b[0m\u001b[0mappend\u001b[0m\u001b[0;34m(\u001b[0m\u001b[0mguess\u001b[0m\u001b[0;34m)\u001b[0m\u001b[0;34m\u001b[0m\u001b[0m\n",
      "\u001b[0;31mValueError\u001b[0m: invalid literal for int() with base 10: 'y'"
     ]
    }
   ],
   "source": [
    "from random import randint\n",
    "\n",
    "def guess_number():\n",
    "\n",
    "    guessd = []\n",
    "    guess = int(raw_input(\"Pick a number from 1 - 10: \"))\n",
    "    if type(guess) == int:\n",
    "         guessd.append(guess)\n",
    "             #   else:\n",
    "            # guess_number()\n",
    "    else:\n",
    "        print \"let's try an actual number, bozo. An integer, to be exact\"\n",
    "        return guess_number()\n",
    "   \n",
    "    random_number = randint(1, 10)\n",
    "    \n",
    "    for n in guessd:\n",
    "        if guess == random_number:\n",
    "            print \"WINNER WINNER CHICKEN DINNER!\"\n",
    "            print \"\"\n",
    "            TA = str.lower(raw_input(\"Try again? (y/n) \"))\n",
    "            print \"\"\n",
    "            if TA == 'y':\n",
    "                guess_number()\n",
    "                \n",
    "            elif TA == 'n':\n",
    "                return\n",
    "                print \"so how about a nice game of chess?\"\n",
    "                print \"\"                \n",
    "                print \"no? okay byeeeeee\"\n",
    "            \n",
    "            else:\n",
    "                # print \"I'll assume that your inability to type either y or n means that you're not mentally fit to play this game\"\n",
    "                return\n",
    "    \n",
    "        elif guess > random_number:\n",
    "            print \"too high\"\n",
    "            print \"\"\n",
    "            TA = str(raw_input(\"Try again? (y/n) \"))\n",
    "            if TA == 'y':\n",
    "                guess_number()\n",
    "            elif TA == 'n':\n",
    "                return\n",
    "                print \"so how about a nice game of chess?\"\n",
    "                print \"\"                \n",
    "                print \"no? okay byeeeeee\"\n",
    "            \n",
    "            else:\n",
    "                # print \"I'll assume that your inability to type either y or n means that you're not mentally fit to play this game, but let's try again just for funzies\"\n",
    "                return\n",
    "\n",
    "        elif guess < random_number:\n",
    "            print \"too low\"\n",
    "            TA = str(raw_input(\"Try again? (y/n) \"))\n",
    "            if TA == 'y':\n",
    "                guess_number()\n",
    "            elif TA == 'n':\n",
    "                return\n",
    "                print \"so how about a nice game of chess?\"\n",
    "                print \"\"                \n",
    "                print \"no? okay byeeeeee\"\n",
    "            \n",
    "            else:\n",
    "                # print \"I'll assume that your inability to type either y or n means that you're not mentally fit to play this game\"\n",
    "                return  \n",
    "                \n",
    "\n",
    "    else:\n",
    "        print \"let's try an actual number, bozo. An integer, to be exact\"\n",
    "        return guess_number()\n",
    "\n",
    "guess_number()   "
   ]
  }
 ],
 "metadata": {
  "kernelspec": {
   "display_name": "Python [Root]",
   "language": "python",
   "name": "Python [Root]"
  },
  "language_info": {
   "codemirror_mode": {
    "name": "ipython",
    "version": 2
   },
   "file_extension": ".py",
   "mimetype": "text/x-python",
   "name": "python",
   "nbconvert_exporter": "python",
   "pygments_lexer": "ipython2",
   "version": "2.7.12"
  }
 },
 "nbformat": 4,
 "nbformat_minor": 0
}
