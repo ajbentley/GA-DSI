{
 "cells": [
  {
   "cell_type": "code",
   "execution_count": 2,
   "metadata": {
    "collapsed": false
   },
   "outputs": [
    {
     "name": "stdout",
     "output_type": "stream",
     "text": [
      "Pick a number from 1 - 10: 5\n",
      "WINNER WINNER CHICKEN DINNER!\n",
      "\n",
      "Try again? (y/n) y\n",
      "Pick a number from 1 - 10: 4\n",
      "too low\n",
      "Try again? (y/n) y\n",
      "Pick a number from 1 - 10: 6\n",
      "too high\n",
      "\n",
      "Try again? (y/n) y\n",
      "Pick a number from 1 - 10: 5\n",
      "WINNER WINNER CHICKEN DINNER!\n",
      "\n",
      "Try again? (y/n) n\n",
      "so how about a nice game of chess?\n",
      "\n",
      "no? okay byeeeeee\n"
     ]
    }
   ],
   "source": [
    "from random import randint\n",
    "\n",
    "def guess_number():\n",
    "\n",
    "    guessd = []\n",
    "    guess = int(raw_input(\"Pick a number from 1 - 10: \"))\n",
    "    guessd.append(guess)\n",
    "   \n",
    "    # here is the random number, just replace '5' with the trailing comment\n",
    "\n",
    "    random_number = 5\n",
    "    # randint(1, 10)\n",
    "    \n",
    "    for n in guessd:\n",
    "        if guess == random_number:\n",
    "            print \"WINNER WINNER CHICKEN DINNER!\"\n",
    "            print \"\"\n",
    "            TA = str.lower(raw_input(\"Try again? (y/n) \"))\n",
    "            if TA == 'y':\n",
    "                guess_number()\n",
    "                \n",
    "            else:\n",
    "                print \"so how about a nice game of chess?\"\n",
    "                print \"\"                \n",
    "                print \"no? okay byeeeeee\"\n",
    "\n",
    "        elif guess > random_number:\n",
    "            print \"too high\"\n",
    "            print \"\"\n",
    "            TA = str(raw_input(\"Try again? (y/n) \"))\n",
    "            if TA == 'y':\n",
    "                guess_number()\n",
    "            else:\n",
    "                print \"how about a nice game of chess?\"\n",
    "                print \"no? okay byeeeeee\"\n",
    "\n",
    "        elif guess < random_number:\n",
    "            print \"too low\"\n",
    "            TA = str(raw_input(\"Try again? (y/n) \"))\n",
    "            if TA == 'y':\n",
    "                guess_number()\n",
    "            else:\n",
    "                print \"how about a nice game of chess?\"\n",
    "                print \"no? okay byeeeeee\"   \n",
    "                \n",
    "\n",
    "guess_number()   "
   ]
  }
 ],
 "metadata": {
  "kernelspec": {
   "display_name": "Python [Root]",
   "language": "python",
   "name": "Python [Root]"
  },
  "language_info": {
   "codemirror_mode": {
    "name": "ipython",
    "version": 2
   },
   "file_extension": ".py",
   "mimetype": "text/x-python",
   "name": "python",
   "nbconvert_exporter": "python",
   "pygments_lexer": "ipython2",
   "version": "2.7.12"
  }
 },
 "nbformat": 4,
 "nbformat_minor": 0
}
