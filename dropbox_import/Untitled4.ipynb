{
 "cells": [
  {
   "cell_type": "code",
   "execution_count": 1,
   "metadata": {
    "collapsed": false
   },
   "outputs": [
    {
     "data": {
      "text/plain": [
       "['A', 'B', 'C', 'D', 'E']"
      ]
     },
     "execution_count": 1,
     "metadata": {},
     "output_type": "execute_result"
    }
   ],
   "source": [
    "words = ['alpha', 'bravo', 'charlie', 'delta', 'echo']\n",
    "letters = []\n",
    "\n",
    "for w in words:\n",
    "    u = w.upper()[0]\n",
    "\n",
    "# w is defined as an item that appears in the list words\n",
    "# .upper makes whatever comes after it upper case\n",
    "# () selects every item in the list (because the parenthesis are empty)\n",
    "# [0] selects the first letter of each item indicated in the parenthesis (in this case, every item) \n",
    "    \n",
    "    letters.append(u)\n",
    "letters"
   ]
  },
  {
   "cell_type": "code",
   "execution_count": 2,
   "metadata": {
    "collapsed": false
   },
   "outputs": [
    {
     "data": {
      "text/plain": [
       "['A', 'B', 'C', 'D', 'E']"
      ]
     },
     "execution_count": 2,
     "metadata": {},
     "output_type": "execute_result"
    }
   ],
   "source": [
    "words = ['alpha', 'bravo', 'charlie', 'delta', 'echo']\n",
    "letters = []\n",
    "letters = [(w.upper()[0]) for w in words]\n",
    "letters\n"
   ]
  },
  {
   "cell_type": "code",
   "execution_count": 3,
   "metadata": {
    "collapsed": false
   },
   "outputs": [
    {
     "data": {
      "text/plain": [
       "[1, 3, 5]"
      ]
     },
     "execution_count": 3,
     "metadata": {},
     "output_type": "execute_result"
    }
   ],
   "source": [
    "orig_list = [0, 1, 2, 3, 4, 5]\n",
    "even_list = []\n",
    "\n",
    "for n in orig_list:\n",
    "    if n % 2:\n",
    "        even_list.append(n)\n",
    "even_list"
   ]
  },
  {
   "cell_type": "code",
   "execution_count": 5,
   "metadata": {
    "collapsed": false
   },
   "outputs": [
    {
     "ename": "SyntaxError",
     "evalue": "invalid syntax (<ipython-input-5-c0ddc04960ad>, line 1)",
     "output_type": "error",
     "traceback": [
      "\u001b[0;36m  File \u001b[0;32m\"<ipython-input-5-c0ddc04960ad>\"\u001b[0;36m, line \u001b[0;32m1\u001b[0m\n\u001b[0;31m    even_list = [e if (( n == n % 2) in orig_list)]\u001b[0m\n\u001b[0m                                                  ^\u001b[0m\n\u001b[0;31mSyntaxError\u001b[0m\u001b[0;31m:\u001b[0m invalid syntax\n"
     ]
    }
   ],
   "source": [
    "even_list = [e if (( n == n % 2) in orig_list)]\n",
    "even_list"
   ]
  },
  {
   "cell_type": "code",
   "execution_count": 10,
   "metadata": {
    "collapsed": false
   },
   "outputs": [
    {
     "data": {
      "text/plain": [
       "[0, 2, 4]"
      ]
     },
     "execution_count": 10,
     "metadata": {},
     "output_type": "execute_result"
    }
   ],
   "source": [
    "orig_list = [0, 1, 2, 3, 4, 5]\n",
    "even_list = []\n",
    "\n",
    "even_list = [n for n in orig_list if n % 2 == 0]\n",
    "even_list"
   ]
  },
  {
   "cell_type": "code",
   "execution_count": 11,
   "metadata": {
    "collapsed": false
   },
   "outputs": [
    {
     "data": {
      "text/plain": [
       "[1, 0, 1, 0, 1, 0]"
      ]
     },
     "execution_count": 11,
     "metadata": {},
     "output_type": "execute_result"
    }
   ],
   "source": [
    "eval_list = []\n",
    "\n",
    "for n in orig_list:\n",
    "    if n % 2 == 0:\n",
    "        eval_list.append(1)\n",
    "    else:\n",
    "        eval_list.append(0)\n",
    "eval_list"
   ]
  },
  {
   "cell_type": "code",
   "execution_count": 21,
   "metadata": {
    "collapsed": false
   },
   "outputs": [
    {
     "data": {
      "text/plain": [
       "[1, 0, 1, 0, 1, 0]"
      ]
     },
     "execution_count": 21,
     "metadata": {},
     "output_type": "execute_result"
    }
   ],
   "source": [
    "eval_list = []\n",
    "eval_list = [1 if o % 2 == 0 else 0 for o in orig_list]\n",
    "# eval_list = [1 if x % 2 == 0 else 0 for x in orig_list]\n",
    "eval_list"
   ]
  }
 ],
 "metadata": {
  "anaconda-cloud": {},
  "kernelspec": {
   "display_name": "Python [Root]",
   "language": "python",
   "name": "Python [Root]"
  },
  "language_info": {
   "codemirror_mode": {
    "name": "ipython",
    "version": 2
   },
   "file_extension": ".py",
   "mimetype": "text/x-python",
   "name": "python",
   "nbconvert_exporter": "python",
   "pygments_lexer": "ipython2",
   "version": "2.7.12"
  }
 },
 "nbformat": 4,
 "nbformat_minor": 0
}
