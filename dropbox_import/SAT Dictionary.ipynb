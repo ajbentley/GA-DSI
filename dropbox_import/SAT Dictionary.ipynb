{
 "cells": [
  {
   "cell_type": "code",
   "execution_count": 124,
   "metadata": {
    "collapsed": false
   },
   "outputs": [
    {
     "name": "stdout",
     "output_type": "stream",
     "text": [
      "Step 1.3: create empty dictionary\n",
      "\n",
      "Empty dictionary created\n"
     ]
    }
   ],
   "source": [
    "print 'Step 1.3: create data dictionary'\n",
    "sat_d = {}\n",
    "print''\n",
    "print 'dictionary created'\n",
    "\n",
    "\n"
   ]
  },
  {
   "cell_type": "code",
   "execution_count": 255,
   "metadata": {
    "collapsed": false
   },
   "outputs": [
    {
     "name": "stdout",
     "output_type": "stream",
     "text": [
      "Step 2.4: Load the data into a list of lists\n",
      "\n",
      "\n",
      "Data loaded\n"
     ]
    }
   ],
   "source": [
    "print 'Step 2.4: Load the data into a list of lists'\n",
    "print''\n",
    "\n",
    "import csv\n",
    "\n",
    "f = open('/Users/EKandTower/Dropbox/GA-DSI/sat_scores.csv','rU')\n",
    "reader = csv.reader(f)\n",
    "\n",
    "sat_l=[]\n",
    "\n",
    "for row in reader:\n",
    "    sat_l.append(row)\n",
    "\n",
    "\n",
    "print''\n",
    "    \n",
    "print 'Data loaded'\n",
    "\n"
   ]
  },
  {
   "cell_type": "code",
   "execution_count": 208,
   "metadata": {
    "collapsed": false
   },
   "outputs": [
    {
     "name": "stdout",
     "output_type": "stream",
     "text": [
      "Step 2.5: Print the data\n",
      "\n",
      "[['State', 'Rate', 'Verbal', 'Math'], ['CT', '82', '509', '510'], ['NJ', '81', '499', '513'], ['MA', '79', '511', '515'], ['NY', '77', '495', '505'], ['NH', '72', '520', '516'], ['RI', '71', '501', '499'], ['PA', '71', '500', '499'], ['VT', '69', '511', '506'], ['ME', '69', '506', '500'], ['VA', '68', '510', '501'], ['DE', '67', '501', '499'], ['MD', '65', '508', '510'], ['NC', '65', '493', '499'], ['GA', '63', '491', '489'], ['IN', '60', '499', '501'], ['SC', '57', '486', '488'], ['DC', '56', '482', '474'], ['OR', '55', '526', '526'], ['FL', '54', '498', '499'], ['WA', '53', '527', '527'], ['TX', '53', '493', '499'], ['HI', '52', '485', '515'], ['AK', '51', '514', '510'], ['CA', '51', '498', '517'], ['AZ', '34', '523', '525'], ['NV', '33', '509', '515'], ['CO', '31', '539', '542'], ['OH', '26', '534', '439'], ['MT', '23', '539', '539'], ['WV', '18', '527', '512'], ['ID', '17', '543', '542'], ['TN', '13', '562', '553'], ['NM', '13', '551', '542'], ['IL', '12', '576', '589'], ['KY', '12', '550', '550'], ['WY', '11', '547', '545'], ['MI', '11', '561', '572'], ['MN', '9', '580', '589'], ['KS', '9', '577', '580'], ['AL', '9', '559', '554'], ['NE', '8', '562', '568'], ['OK', '8', '567', '561'], ['MO', '8', '577', '577'], ['LA', '7', '564', '562'], ['WI', '6', '584', '596'], ['AR', '6', '562', '550'], ['UT', '5', '575', '570'], ['IA', '5', '593', '603'], ['SD', '4', '577', '582'], ['ND', '4', '592', '599'], ['MS', '4', '566', '551'], ['All', '45', '506', '514']]\n"
     ]
    }
   ],
   "source": [
    "print'Step 2.5: Print the data'\n",
    "print''\n",
    "print sat_l\n",
    "\n"
   ]
  },
  {
   "cell_type": "code",
   "execution_count": 209,
   "metadata": {
    "collapsed": false
   },
   "outputs": [
    {
     "name": "stdout",
     "output_type": "stream",
     "text": [
      "Step 2.6: Extract a list of the labels from the data, and remove them from the data\n",
      "\n",
      "The headers are\n",
      "['State', 'Rate', 'Verbal', 'Math']\n",
      "\n",
      "The data without the headers is\n",
      "[['CT', '82', '509', '510'], ['NJ', '81', '499', '513'], ['MA', '79', '511', '515'], ['NY', '77', '495', '505'], ['NH', '72', '520', '516'], ['RI', '71', '501', '499'], ['PA', '71', '500', '499'], ['VT', '69', '511', '506'], ['ME', '69', '506', '500'], ['VA', '68', '510', '501'], ['DE', '67', '501', '499'], ['MD', '65', '508', '510'], ['NC', '65', '493', '499'], ['GA', '63', '491', '489'], ['IN', '60', '499', '501'], ['SC', '57', '486', '488'], ['DC', '56', '482', '474'], ['OR', '55', '526', '526'], ['FL', '54', '498', '499'], ['WA', '53', '527', '527'], ['TX', '53', '493', '499'], ['HI', '52', '485', '515'], ['AK', '51', '514', '510'], ['CA', '51', '498', '517'], ['AZ', '34', '523', '525'], ['NV', '33', '509', '515'], ['CO', '31', '539', '542'], ['OH', '26', '534', '439'], ['MT', '23', '539', '539'], ['WV', '18', '527', '512'], ['ID', '17', '543', '542'], ['TN', '13', '562', '553'], ['NM', '13', '551', '542'], ['IL', '12', '576', '589'], ['KY', '12', '550', '550'], ['WY', '11', '547', '545'], ['MI', '11', '561', '572'], ['MN', '9', '580', '589'], ['KS', '9', '577', '580'], ['AL', '9', '559', '554'], ['NE', '8', '562', '568'], ['OK', '8', '567', '561'], ['MO', '8', '577', '577'], ['LA', '7', '564', '562'], ['WI', '6', '584', '596'], ['AR', '6', '562', '550'], ['UT', '5', '575', '570'], ['IA', '5', '593', '603'], ['SD', '4', '577', '582'], ['ND', '4', '592', '599'], ['MS', '4', '566', '551'], ['All', '45', '506', '514']]\n"
     ]
    }
   ],
   "source": [
    "print'Step 2.6: Extract a list of the labels from the data, and remove them from the data'\n",
    "\n",
    "headers = sat_l[0]\n",
    "\n",
    "print''\n",
    "print'The headers are'\n",
    "\n",
    "print headers\n",
    "\n",
    "print''\n",
    "\n",
    "print'The data without the headers is'\n",
    "\n",
    "sat_l.pop(0)\n",
    "\n",
    "print sat_l\n",
    "\n",
    "    \n"
   ]
  },
  {
   "cell_type": "code",
   "execution_count": 210,
   "metadata": {
    "collapsed": false
   },
   "outputs": [
    {
     "name": "stdout",
     "output_type": "stream",
     "text": [
      "Step 2.7: Create a list of State names extracted from the data. \n",
      "\n",
      "\n",
      "['NJ', 'MA', 'NY', 'NH', 'RI', 'PA', 'VT', 'ME', 'VA', 'DE', 'MD', 'NC', 'GA', 'IN', 'SC', 'DC', 'OR', 'FL', 'WA', 'TX', 'HI', 'AK', 'CA', 'AZ', 'NV', 'CO', 'OH', 'MT', 'WV', 'ID', 'TN', 'NM', 'IL', 'KY', 'WY', 'MI', 'MN', 'KS', 'AL', 'NE', 'OK', 'MO', 'LA', 'WI', 'AR', 'UT', 'IA', 'SD', 'ND', 'MS', 'All']\n"
     ]
    }
   ],
   "source": [
    "print'Step 2.7: Create a list of State names extracted from the data. '\n",
    "\n",
    "sat_d = {}\n",
    "import csv\n",
    "\n",
    "f = open('/Users/EKandTower/Dropbox/GA-DSI/sat_scores.csv','rU')\n",
    "\n",
    "reader = csv.reader(f)\n",
    "headers = [next(reader, None)]\n",
    "\n",
    "print''\n",
    "print''\n",
    "\n",
    "for row in reader:\n",
    "    state_list = [item[0] for item in reader]\n",
    "    print state_list\n"
   ]
  },
  {
   "cell_type": "code",
   "execution_count": 211,
   "metadata": {
    "collapsed": false
   },
   "outputs": [
    {
     "name": "stdout",
     "output_type": "stream",
     "text": [
      "Step 2.8: Print the types of each column\n",
      "<type 'str'>\n",
      "<type 'str'>\n",
      "<type 'str'>\n",
      "<type 'str'>\n"
     ]
    }
   ],
   "source": [
    "print'Step 2.8: Print the types of each column'\n",
    "print type(sat_l[1][0])\n",
    "print type(sat_l[1][1])\n",
    "print type(sat_l[1][2])\n",
    "print type(sat_l[1][3])"
   ]
  },
  {
   "cell_type": "code",
   "execution_count": 267,
   "metadata": {
    "collapsed": false
   },
   "outputs": [
    {
     "name": "stdout",
     "output_type": "stream",
     "text": [
      "Step 2.9: Do any types need to be reassigned?\n",
      "A: Yes, Rate, Verbal, and Math columns should be changed to int\n"
     ]
    },
    {
     "data": {
      "text/plain": [
       "rec.array([('CT', 82, 509, 510), ('NJ', 81, 499, 513), ('MA', 79, 511, 515),\n",
       " ('NY', 77, 495, 505), ('NH', 72, 520, 516), ('RI', 71, 501, 499),\n",
       " ('PA', 71, 500, 499), ('VT', 69, 511, 506), ('ME', 69, 506, 500),\n",
       " ('VA', 68, 510, 501), ('DE', 67, 501, 499), ('MD', 65, 508, 510),\n",
       " ('NC', 65, 493, 499), ('GA', 63, 491, 489), ('IN', 60, 499, 501),\n",
       " ('SC', 57, 486, 488), ('DC', 56, 482, 474), ('OR', 55, 526, 526),\n",
       " ('FL', 54, 498, 499), ('WA', 53, 527, 527), ('TX', 53, 493, 499),\n",
       " ('HI', 52, 485, 515), ('AK', 51, 514, 510), ('CA', 51, 498, 517),\n",
       " ('AZ', 34, 523, 525), ('NV', 33, 509, 515), ('CO', 31, 539, 542),\n",
       " ('OH', 26, 534, 439), ('MT', 23, 539, 539), ('WV', 18, 527, 512),\n",
       " ('ID', 17, 543, 542), ('TN', 13, 562, 553), ('NM', 13, 551, 542),\n",
       " ('IL', 12, 576, 589), ('KY', 12, 550, 550), ('WY', 11, 547, 545),\n",
       " ('MI', 11, 561, 572), ('MN', 9, 580, 589), ('KS', 9, 577, 580),\n",
       " ('AL', 9, 559, 554), ('NE', 8, 562, 568), ('OK', 8, 567, 561),\n",
       " ('MO', 8, 577, 577), ('LA', 7, 564, 562), ('WI', 6, 584, 596),\n",
       " ('AR', 6, 562, 550), ('UT', 5, 575, 570), ('IA', 5, 593, 603),\n",
       " ('SD', 4, 577, 582), ('ND', 4, 592, 599), ('MS', 4, 566, 551),\n",
       " ('All', 45, 506, 514)], \n",
       "          dtype=[('state', 'S3'), ('rate', '<i8'), ('verbal', '<i8'), ('math', '<i8')])"
      ]
     },
     "execution_count": 267,
     "metadata": {},
     "output_type": "execute_result"
    }
   ],
   "source": [
    "print'Step 2.9: Do any types need to be reassigned?'\n",
    "\n",
    "print'A: Yes, Rate, Verbal, and Math columns should be changed to int'\n",
    "\n",
    "#conversion solution coding found at http://stackoverflow.com/questions/3518778/how-to-read-csv-into-record-array-in-numpy\n",
    "\n",
    "import numpy as np\n",
    "from numpy import recfromcsv\n",
    "\n",
    "sat_lint = np.recfromcsv('/Users/EKandTower/Dropbox/GA-DSI/sat_scores.csv', delimiter=',')\n",
    "\n",
    "sat_lint"
   ]
  },
  {
   "cell_type": "code",
   "execution_count": 252,
   "metadata": {
    "collapsed": false
   },
   "outputs": [
    {
     "name": "stdout",
     "output_type": "stream",
     "text": [
      "Step 2.10: Create a dictionary for each column mapping the State to its respective value for that column.\n",
      "\n",
      "\n",
      "Rate Dictionary\n",
      "{'WA': '53', 'DE': '67', 'DC': '56', 'WI': '6', 'WV': '18', 'HI': '52', 'FL': '54', 'WY': '11', 'NH': '72', 'NJ': '81', 'NM': '13', 'TX': '53', 'LA': '7', 'NC': '65', 'ND': '4', 'NE': '8', 'TN': '13', 'NY': '77', 'PA': '71', 'RI': '71', 'NV': '33', 'VA': '68', 'CO': '31', 'AK': '51', 'AL': '9', 'AR': '6', 'VT': '69', 'IL': '12', 'GA': '63', 'IN': '60', 'IA': '5', 'OK': '8', 'AZ': '34', 'CA': '51', 'ID': '17', 'CT': '82', 'ME': '69', 'MD': '65', 'All': '45', 'MA': '79', 'OH': '26', 'UT': '5', 'MO': '8', 'MN': '9', 'MI': '11', 'KS': '9', 'MT': '23', 'MS': '4', 'SC': '57', 'KY': '12', 'OR': '55', 'SD': '4'}\n",
      "\n",
      "\n",
      "Verbal Dictionary\n",
      "{'WA': '527', 'DE': '501', 'DC': '482', 'WI': '584', 'WV': '527', 'HI': '485', 'FL': '498', 'WY': '547', 'NH': '520', 'NJ': '499', 'NM': '551', 'TX': '493', 'LA': '564', 'NC': '493', 'ND': '592', 'NE': '562', 'TN': '562', 'NY': '495', 'PA': '500', 'RI': '501', 'NV': '509', 'VA': '510', 'CO': '539', 'AK': '514', 'AL': '559', 'AR': '562', 'VT': '511', 'IL': '576', 'GA': '491', 'IN': '499', 'IA': '593', 'OK': '567', 'AZ': '523', 'CA': '498', 'ID': '543', 'CT': '509', 'ME': '506', 'MD': '508', 'All': '506', 'MA': '511', 'OH': '534', 'UT': '575', 'MO': '577', 'MN': '580', 'MI': '561', 'KS': '577', 'MT': '539', 'MS': '566', 'SC': '486', 'KY': '550', 'OR': '526', 'SD': '577'}\n",
      "\n",
      "\n",
      "Math Dictionary\n",
      "{'WA': '527', 'DE': '499', 'DC': '474', 'WI': '596', 'WV': '512', 'HI': '515', 'FL': '499', 'WY': '545', 'NH': '516', 'NJ': '513', 'NM': '542', 'TX': '499', 'LA': '562', 'NC': '499', 'ND': '599', 'NE': '568', 'TN': '553', 'NY': '505', 'PA': '499', 'RI': '499', 'NV': '515', 'VA': '501', 'CO': '542', 'AK': '510', 'AL': '554', 'AR': '550', 'VT': '506', 'IL': '589', 'GA': '489', 'IN': '501', 'IA': '603', 'OK': '561', 'AZ': '525', 'CA': '517', 'ID': '542', 'CT': '510', 'ME': '500', 'MD': '510', 'All': '514', 'MA': '515', 'OH': '439', 'UT': '570', 'MO': '577', 'MN': '589', 'MI': '572', 'KS': '580', 'MT': '539', 'MS': '551', 'SC': '488', 'KY': '550', 'OR': '526', 'SD': '582'}\n",
      "\n",
      "\n",
      "\n",
      "dictionaries created\n"
     ]
    }
   ],
   "source": [
    "print 'Step 2.10: Create a dictionary for each column mapping the State to its respective value for that column.'\n",
    "print''\n",
    "\n",
    "rate_dict = {s[0]: s[1] for s in sat_l}\n",
    "verbal_dict = {s[0]: s[2] for s in sat_l}\n",
    "math_dict = {s[0]: s[3] for s in sat_l}\n",
    "print''\n",
    "print'Rate Dictionary'\n",
    "print rate_dict\n",
    "print''\n",
    "print''\n",
    "print'Verbal Dictionary'\n",
    "print verbal_dict\n",
    "print''\n",
    "print''\n",
    "print'Math Dictionary'\n",
    "print math_dict\n",
    "print''\n",
    "print''\n",
    "print''\n",
    "print'dictionaries created'"
   ]
  },
  {
   "cell_type": "code",
   "execution_count": 251,
   "metadata": {
    "collapsed": false
   },
   "outputs": [
    {
     "name": "stdout",
     "output_type": "stream",
     "text": [
      "Step 2.11: Create a dictionary with the values for each of the numeric columns.\n",
      "\n",
      "{'WA': ['53', '527', '527'], 'DE': ['67', '501', '499'], 'DC': ['56', '482', '474'], 'WI': ['6', '584', '596'], 'WV': ['18', '527', '512'], 'HI': ['52', '485', '515'], 'FL': ['54', '498', '499'], 'WY': ['11', '547', '545'], 'NH': ['72', '520', '516'], 'NJ': ['81', '499', '513'], 'NM': ['13', '551', '542'], 'TX': ['53', '493', '499'], 'LA': ['7', '564', '562'], 'NC': ['65', '493', '499'], 'ND': ['4', '592', '599'], 'NE': ['8', '562', '568'], 'TN': ['13', '562', '553'], 'NY': ['77', '495', '505'], 'PA': ['71', '500', '499'], 'RI': ['71', '501', '499'], 'NV': ['33', '509', '515'], 'VA': ['68', '510', '501'], 'CO': ['31', '539', '542'], 'AK': ['51', '514', '510'], 'AL': ['9', '559', '554'], 'AR': ['6', '562', '550'], 'VT': ['69', '511', '506'], 'IL': ['12', '576', '589'], 'GA': ['63', '491', '489'], 'IN': ['60', '499', '501'], 'IA': ['5', '593', '603'], 'OK': ['8', '567', '561'], 'AZ': ['34', '523', '525'], 'CA': ['51', '498', '517'], 'ID': ['17', '543', '542'], 'CT': ['82', '509', '510'], 'ME': ['69', '506', '500'], 'MD': ['65', '508', '510'], 'All': ['45', '506', '514'], 'MA': ['79', '511', '515'], 'OH': ['26', '534', '439'], 'UT': ['5', '575', '570'], 'MO': ['8', '577', '577'], 'MN': ['9', '580', '589'], 'MI': ['11', '561', '572'], 'KS': ['9', '577', '580'], 'MT': ['23', '539', '539'], 'MS': ['4', '566', '551'], 'SC': ['57', '486', '488'], 'KY': ['12', '550', '550'], 'OR': ['55', '526', '526'], 'SD': ['4', '577', '582']}\n",
      "\n",
      "dictionary created\n"
     ]
    }
   ],
   "source": [
    "print 'Step 2.11: Create a dictionary with the values for each of the numeric columns.'\n",
    "print''\n",
    "sat_dict = {s[0]: s[1:] for s in sat_l}\n",
    "print sat_dict\n",
    "print''\n",
    "print'dictionary created'"
   ]
  },
  {
   "cell_type": "code",
   "execution_count": 308,
   "metadata": {
    "collapsed": false
   },
   "outputs": [
    {
     "name": "stdout",
     "output_type": "stream",
     "text": [
      "Step3.12: Print the min and max of each column\n",
      "\n"
     ]
    },
    {
     "ename": "TypeError",
     "evalue": "cannot perform reduce with flexible type",
     "output_type": "error",
     "traceback": [
      "\u001b[0;31m---------------------------------------------------------------------------\u001b[0m",
      "\u001b[0;31mTypeError\u001b[0m                                 Traceback (most recent call last)",
      "\u001b[0;32m<ipython-input-308-7f78de0b79bb>\u001b[0m in \u001b[0;36m<module>\u001b[0;34m()\u001b[0m\n\u001b[1;32m      3\u001b[0m \u001b[0;34m\u001b[0m\u001b[0m\n\u001b[1;32m      4\u001b[0m \u001b[0mx\u001b[0m \u001b[0;34m=\u001b[0m \u001b[0mnp\u001b[0m\u001b[0;34m.\u001b[0m\u001b[0marray\u001b[0m\u001b[0;34m(\u001b[0m\u001b[0;34m[\u001b[0m\u001b[0msat_lint\u001b[0m\u001b[0;34m]\u001b[0m\u001b[0;34m)\u001b[0m\u001b[0;34m\u001b[0m\u001b[0m\n\u001b[0;32m----> 5\u001b[0;31m \u001b[0mx\u001b[0m\u001b[0;34m.\u001b[0m\u001b[0mmin\u001b[0m\u001b[0;34m(\u001b[0m\u001b[0maxis\u001b[0m\u001b[0;34m=\u001b[0m\u001b[0;36m0\u001b[0m\u001b[0;34m)\u001b[0m\u001b[0;34m\u001b[0m\u001b[0m\n\u001b[0m\u001b[1;32m      6\u001b[0m \u001b[0mx\u001b[0m\u001b[0;34m.\u001b[0m\u001b[0mmax\u001b[0m\u001b[0;34m(\u001b[0m\u001b[0maxis\u001b[0m\u001b[0;34m=\u001b[0m\u001b[0;36m0\u001b[0m\u001b[0;34m)\u001b[0m\u001b[0;34m\u001b[0m\u001b[0m\n",
      "\u001b[0;32m/Users/EKandTower/anaconda/lib/python2.7/site-packages/numpy/core/_methods.pyc\u001b[0m in \u001b[0;36m_amin\u001b[0;34m(a, axis, out, keepdims)\u001b[0m\n\u001b[1;32m     27\u001b[0m \u001b[0;34m\u001b[0m\u001b[0m\n\u001b[1;32m     28\u001b[0m \u001b[0;32mdef\u001b[0m \u001b[0m_amin\u001b[0m\u001b[0;34m(\u001b[0m\u001b[0ma\u001b[0m\u001b[0;34m,\u001b[0m \u001b[0maxis\u001b[0m\u001b[0;34m=\u001b[0m\u001b[0mNone\u001b[0m\u001b[0;34m,\u001b[0m \u001b[0mout\u001b[0m\u001b[0;34m=\u001b[0m\u001b[0mNone\u001b[0m\u001b[0;34m,\u001b[0m \u001b[0mkeepdims\u001b[0m\u001b[0;34m=\u001b[0m\u001b[0mFalse\u001b[0m\u001b[0;34m)\u001b[0m\u001b[0;34m:\u001b[0m\u001b[0;34m\u001b[0m\u001b[0m\n\u001b[0;32m---> 29\u001b[0;31m     \u001b[0;32mreturn\u001b[0m \u001b[0mumr_minimum\u001b[0m\u001b[0;34m(\u001b[0m\u001b[0ma\u001b[0m\u001b[0;34m,\u001b[0m \u001b[0maxis\u001b[0m\u001b[0;34m,\u001b[0m \u001b[0mNone\u001b[0m\u001b[0;34m,\u001b[0m \u001b[0mout\u001b[0m\u001b[0;34m,\u001b[0m \u001b[0mkeepdims\u001b[0m\u001b[0;34m)\u001b[0m\u001b[0;34m\u001b[0m\u001b[0m\n\u001b[0m\u001b[1;32m     30\u001b[0m \u001b[0;34m\u001b[0m\u001b[0m\n\u001b[1;32m     31\u001b[0m \u001b[0;32mdef\u001b[0m \u001b[0m_sum\u001b[0m\u001b[0;34m(\u001b[0m\u001b[0ma\u001b[0m\u001b[0;34m,\u001b[0m \u001b[0maxis\u001b[0m\u001b[0;34m=\u001b[0m\u001b[0mNone\u001b[0m\u001b[0;34m,\u001b[0m \u001b[0mdtype\u001b[0m\u001b[0;34m=\u001b[0m\u001b[0mNone\u001b[0m\u001b[0;34m,\u001b[0m \u001b[0mout\u001b[0m\u001b[0;34m=\u001b[0m\u001b[0mNone\u001b[0m\u001b[0;34m,\u001b[0m \u001b[0mkeepdims\u001b[0m\u001b[0;34m=\u001b[0m\u001b[0mFalse\u001b[0m\u001b[0;34m)\u001b[0m\u001b[0;34m:\u001b[0m\u001b[0;34m\u001b[0m\u001b[0m\n",
      "\u001b[0;31mTypeError\u001b[0m: cannot perform reduce with flexible type"
     ]
    }
   ],
   "source": [
    "print'Step3.12: Print the min and max of each column'\n",
    "print''\n",
    "\n",
    "x = np.array([sat_lint])\n",
    "x.min(axis=0)\n",
    "x.max(axis=0)"
   ]
  }
 ],
 "metadata": {
  "anaconda-cloud": {},
  "kernelspec": {
   "display_name": "Python [Root]",
   "language": "python",
   "name": "Python [Root]"
  },
  "language_info": {
   "codemirror_mode": {
    "name": "ipython",
    "version": 2
   },
   "file_extension": ".py",
   "mimetype": "text/x-python",
   "name": "python",
   "nbconvert_exporter": "python",
   "pygments_lexer": "ipython2",
   "version": "2.7.12"
  }
 },
 "nbformat": 4,
 "nbformat_minor": 0
}
