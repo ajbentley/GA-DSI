{
 "cells": [
  {
   "cell_type": "code",
   "execution_count": 104,
   "metadata": {
    "collapsed": true
   },
   "outputs": [],
   "source": [
    "import pandas as pd\n",
    "import numpy as np\n",
    "from sklearn.feature_extraction.text import CountVectorizer"
   ]
  },
  {
   "cell_type": "raw",
   "metadata": {},
   "source": [
    "problematics with data: FDR is Alive! (find Deadpool picture)\n",
    "trans / genderfluid listed under GSM, not SEX. SEX should be GENDER"
   ]
  },
  {
   "cell_type": "code",
   "execution_count": 105,
   "metadata": {
    "collapsed": false
   },
   "outputs": [
    {
     "data": {
      "text/html": [
       "<div>\n",
       "<table border=\"1\" class=\"dataframe\">\n",
       "  <thead>\n",
       "    <tr style=\"text-align: right;\">\n",
       "      <th></th>\n",
       "      <th>name</th>\n",
       "      <th>ID</th>\n",
       "      <th>ALIGN</th>\n",
       "      <th>EYE</th>\n",
       "      <th>HAIR</th>\n",
       "      <th>SEX</th>\n",
       "      <th>GSM</th>\n",
       "      <th>ALIVE</th>\n",
       "      <th>APPEARANCES</th>\n",
       "      <th>1st_APPEARANCE</th>\n",
       "      <th>YEAR</th>\n",
       "      <th>dc_mv</th>\n",
       "    </tr>\n",
       "  </thead>\n",
       "  <tbody>\n",
       "    <tr>\n",
       "      <th>0</th>\n",
       "      <td>Spider-Man (Peter Parker)</td>\n",
       "      <td>Secret Identity</td>\n",
       "      <td>Good Characters</td>\n",
       "      <td>Hazel Eyes</td>\n",
       "      <td>Brown Hair</td>\n",
       "      <td>Male Characters</td>\n",
       "      <td>Sraight</td>\n",
       "      <td>Living Characters</td>\n",
       "      <td>4043.0</td>\n",
       "      <td>Aug-62</td>\n",
       "      <td>1962.0</td>\n",
       "      <td>1</td>\n",
       "    </tr>\n",
       "    <tr>\n",
       "      <th>1</th>\n",
       "      <td>Captain America (Steven Rogers)</td>\n",
       "      <td>Public Identity</td>\n",
       "      <td>Good Characters</td>\n",
       "      <td>Blue Eyes</td>\n",
       "      <td>White Hair</td>\n",
       "      <td>Male Characters</td>\n",
       "      <td>Sraight</td>\n",
       "      <td>Living Characters</td>\n",
       "      <td>3360.0</td>\n",
       "      <td>Mar-41</td>\n",
       "      <td>1941.0</td>\n",
       "      <td>1</td>\n",
       "    </tr>\n",
       "    <tr>\n",
       "      <th>2</th>\n",
       "      <td>Wolverine (James \\\"Logan\\\" Howlett)</td>\n",
       "      <td>Public Identity</td>\n",
       "      <td>Neutral Characters</td>\n",
       "      <td>Blue Eyes</td>\n",
       "      <td>Black Hair</td>\n",
       "      <td>Male Characters</td>\n",
       "      <td>Sraight</td>\n",
       "      <td>Living Characters</td>\n",
       "      <td>3061.0</td>\n",
       "      <td>Oct-74</td>\n",
       "      <td>1974.0</td>\n",
       "      <td>1</td>\n",
       "    </tr>\n",
       "    <tr>\n",
       "      <th>3</th>\n",
       "      <td>Iron Man (Anthony \\\"Tony\\\" Stark)</td>\n",
       "      <td>Public Identity</td>\n",
       "      <td>Good Characters</td>\n",
       "      <td>Blue Eyes</td>\n",
       "      <td>Black Hair</td>\n",
       "      <td>Male Characters</td>\n",
       "      <td>Sraight</td>\n",
       "      <td>Living Characters</td>\n",
       "      <td>2961.0</td>\n",
       "      <td>Mar-63</td>\n",
       "      <td>1963.0</td>\n",
       "      <td>1</td>\n",
       "    </tr>\n",
       "    <tr>\n",
       "      <th>4</th>\n",
       "      <td>Thor (Thor Odinson)</td>\n",
       "      <td>No Dual Identity</td>\n",
       "      <td>Good Characters</td>\n",
       "      <td>Blue Eyes</td>\n",
       "      <td>Blond Hair</td>\n",
       "      <td>Male Characters</td>\n",
       "      <td>Sraight</td>\n",
       "      <td>Living Characters</td>\n",
       "      <td>2258.0</td>\n",
       "      <td>Nov-50</td>\n",
       "      <td>1950.0</td>\n",
       "      <td>1</td>\n",
       "    </tr>\n",
       "  </tbody>\n",
       "</table>\n",
       "</div>"
      ],
      "text/plain": [
       "                                  name                ID               ALIGN  \\\n",
       "0            Spider-Man (Peter Parker)   Secret Identity     Good Characters   \n",
       "1      Captain America (Steven Rogers)   Public Identity     Good Characters   \n",
       "2  Wolverine (James \\\"Logan\\\" Howlett)   Public Identity  Neutral Characters   \n",
       "3    Iron Man (Anthony \\\"Tony\\\" Stark)   Public Identity     Good Characters   \n",
       "4                  Thor (Thor Odinson)  No Dual Identity     Good Characters   \n",
       "\n",
       "          EYE        HAIR              SEX      GSM              ALIVE  \\\n",
       "0  Hazel Eyes  Brown Hair  Male Characters  Sraight  Living Characters   \n",
       "1   Blue Eyes  White Hair  Male Characters  Sraight  Living Characters   \n",
       "2   Blue Eyes  Black Hair  Male Characters  Sraight  Living Characters   \n",
       "3   Blue Eyes  Black Hair  Male Characters  Sraight  Living Characters   \n",
       "4   Blue Eyes  Blond Hair  Male Characters  Sraight  Living Characters   \n",
       "\n",
       "   APPEARANCES 1st_APPEARANCE    YEAR  dc_mv  \n",
       "0       4043.0         Aug-62  1962.0      1  \n",
       "1       3360.0         Mar-41  1941.0      1  \n",
       "2       3061.0         Oct-74  1974.0      1  \n",
       "3       2961.0         Mar-63  1963.0      1  \n",
       "4       2258.0         Nov-50  1950.0      1  "
      ]
     },
     "execution_count": 105,
     "metadata": {},
     "output_type": "execute_result"
    }
   ],
   "source": [
    "dc = pd.read_csv(\"https://raw.githubusercontent.com/fivethirtyeight/data/master/comic-characters/dc-wikia-data.csv\")\n",
    "mv = pd.read_csv(\"https://raw.githubusercontent.com/fivethirtyeight/data/master/comic-characters/marvel-wikia-data.csv\")\n",
    "\n",
    "#column continuity\n",
    "mv.rename(columns={'Year':'YEAR'}, inplace=True)\n",
    "\n",
    "#DC/MV dummies\n",
    "mv['dc_mv'] = 1\n",
    "dc['dc_mv'] = 0\n",
    "\n",
    "#concat df\n",
    "df = pd.concat([mv, dc], axis = 0)\n",
    "\n",
    "#rename columns\n",
    "df.columns = ['page_id', 'name', 'urlslug', 'ID', 'ALIGN', 'EYE', 'HAIR', 'SEX', 'GSM', 'ALIVE', 'APPEARANCES', '1st_APPEARANCE', 'YEAR', 'dc_mv']\n",
    "\n",
    "df['GSM'] = df['GSM'].fillna('Sraight')\n",
    "df['HAIR'] = df['HAIR'].fillna('None')\n",
    "df['EYE'] = df['EYE'].fillna('None')\n",
    "\n",
    "\n",
    "#resetting index\n",
    "df.reset_index()\n",
    "\n",
    "\n",
    "df.drop(['page_id','urlslug'], axis=1, inplace=True)\n",
    "\n",
    "df.dropna(inplace=True)\n",
    "\n",
    "df.head()"
   ]
  },
  {
   "cell_type": "code",
   "execution_count": 106,
   "metadata": {
    "collapsed": false
   },
   "outputs": [
    {
     "data": {
      "text/plain": [
       "name              0\n",
       "ID                0\n",
       "ALIGN             0\n",
       "EYE               0\n",
       "HAIR              0\n",
       "SEX               0\n",
       "GSM               0\n",
       "ALIVE             0\n",
       "APPEARANCES       0\n",
       "1st_APPEARANCE    0\n",
       "YEAR              0\n",
       "dc_mv             0\n",
       "dtype: int64"
      ]
     },
     "execution_count": 106,
     "metadata": {},
     "output_type": "execute_result"
    }
   ],
   "source": [
    "df.isnull().sum()"
   ]
  },
  {
   "cell_type": "code",
   "execution_count": 107,
   "metadata": {
    "collapsed": false,
    "scrolled": true
   },
   "outputs": [
    {
     "name": "stdout",
     "output_type": "stream",
     "text": [
      "<class 'pandas.core.frame.DataFrame'>\n",
      "Int64Index: 13832 entries, 0 to 6528\n",
      "Data columns (total 12 columns):\n",
      "name              13832 non-null object\n",
      "ID                13832 non-null object\n",
      "ALIGN             13832 non-null object\n",
      "EYE               13832 non-null object\n",
      "HAIR              13832 non-null object\n",
      "SEX               13832 non-null object\n",
      "GSM               13832 non-null object\n",
      "ALIVE             13832 non-null object\n",
      "APPEARANCES       13832 non-null float64\n",
      "1st_APPEARANCE    13832 non-null object\n",
      "YEAR              13832 non-null float64\n",
      "dc_mv             13832 non-null int64\n",
      "dtypes: float64(2), int64(1), object(9)\n",
      "memory usage: 1.4+ MB\n"
     ]
    }
   ],
   "source": [
    "df.info()"
   ]
  },
  {
   "cell_type": "code",
   "execution_count": 108,
   "metadata": {
    "collapsed": false
   },
   "outputs": [
    {
     "data": {
      "text/html": [
       "<div>\n",
       "<table border=\"1\" class=\"dataframe\">\n",
       "  <thead>\n",
       "    <tr style=\"text-align: right;\">\n",
       "      <th></th>\n",
       "      <th>name</th>\n",
       "      <th>ID</th>\n",
       "      <th>ALIGN</th>\n",
       "      <th>EYE</th>\n",
       "      <th>HAIR</th>\n",
       "      <th>SEX</th>\n",
       "      <th>GSM</th>\n",
       "      <th>ALIVE</th>\n",
       "      <th>APPEARANCES</th>\n",
       "      <th>1st_APPEARANCE</th>\n",
       "      <th>YEAR</th>\n",
       "      <th>dc_mv</th>\n",
       "    </tr>\n",
       "  </thead>\n",
       "  <tbody>\n",
       "    <tr>\n",
       "      <th>567</th>\n",
       "      <td>Franklin Delano Roosevelt (New Earth)</td>\n",
       "      <td>Public Identity</td>\n",
       "      <td>Good Characters</td>\n",
       "      <td>None</td>\n",
       "      <td>Grey Hair</td>\n",
       "      <td>Male Characters</td>\n",
       "      <td>Sraight</td>\n",
       "      <td>Living Characters</td>\n",
       "      <td>52.0</td>\n",
       "      <td>1936, March</td>\n",
       "      <td>1936.0</td>\n",
       "      <td>0</td>\n",
       "    </tr>\n",
       "    <tr>\n",
       "      <th>705</th>\n",
       "      <td>Arthur Pendragon (New Earth)</td>\n",
       "      <td>Public Identity</td>\n",
       "      <td>Good Characters</td>\n",
       "      <td>Brown Eyes</td>\n",
       "      <td>Brown Hair</td>\n",
       "      <td>Male Characters</td>\n",
       "      <td>Sraight</td>\n",
       "      <td>Living Characters</td>\n",
       "      <td>41.0</td>\n",
       "      <td>1936, February</td>\n",
       "      <td>1936.0</td>\n",
       "      <td>0</td>\n",
       "    </tr>\n",
       "    <tr>\n",
       "      <th>1468</th>\n",
       "      <td>Lancelot (New Earth)</td>\n",
       "      <td>Public Identity</td>\n",
       "      <td>Good Characters</td>\n",
       "      <td>None</td>\n",
       "      <td>None</td>\n",
       "      <td>Male Characters</td>\n",
       "      <td>Sraight</td>\n",
       "      <td>Living Characters</td>\n",
       "      <td>18.0</td>\n",
       "      <td>1936, February</td>\n",
       "      <td>1936.0</td>\n",
       "      <td>0</td>\n",
       "    </tr>\n",
       "    <tr>\n",
       "      <th>1708</th>\n",
       "      <td>Guinevere (New Earth)</td>\n",
       "      <td>Public Identity</td>\n",
       "      <td>Good Characters</td>\n",
       "      <td>None</td>\n",
       "      <td>Blond Hair</td>\n",
       "      <td>Female Characters</td>\n",
       "      <td>Sraight</td>\n",
       "      <td>Living Characters</td>\n",
       "      <td>15.0</td>\n",
       "      <td>1936, February</td>\n",
       "      <td>1936.0</td>\n",
       "      <td>0</td>\n",
       "    </tr>\n",
       "    <tr>\n",
       "      <th>2840</th>\n",
       "      <td>Gawain (New Earth)</td>\n",
       "      <td>Public Identity</td>\n",
       "      <td>Good Characters</td>\n",
       "      <td>None</td>\n",
       "      <td>None</td>\n",
       "      <td>Male Characters</td>\n",
       "      <td>Sraight</td>\n",
       "      <td>Living Characters</td>\n",
       "      <td>8.0</td>\n",
       "      <td>1936, September</td>\n",
       "      <td>1936.0</td>\n",
       "      <td>0</td>\n",
       "    </tr>\n",
       "  </tbody>\n",
       "</table>\n",
       "</div>"
      ],
      "text/plain": [
       "                                       name               ID            ALIGN  \\\n",
       "567   Franklin Delano Roosevelt (New Earth)  Public Identity  Good Characters   \n",
       "705            Arthur Pendragon (New Earth)  Public Identity  Good Characters   \n",
       "1468                   Lancelot (New Earth)  Public Identity  Good Characters   \n",
       "1708                  Guinevere (New Earth)  Public Identity  Good Characters   \n",
       "2840                     Gawain (New Earth)  Public Identity  Good Characters   \n",
       "\n",
       "             EYE        HAIR                SEX      GSM              ALIVE  \\\n",
       "567         None   Grey Hair    Male Characters  Sraight  Living Characters   \n",
       "705   Brown Eyes  Brown Hair    Male Characters  Sraight  Living Characters   \n",
       "1468        None        None    Male Characters  Sraight  Living Characters   \n",
       "1708        None  Blond Hair  Female Characters  Sraight  Living Characters   \n",
       "2840        None        None    Male Characters  Sraight  Living Characters   \n",
       "\n",
       "      APPEARANCES   1st_APPEARANCE    YEAR  dc_mv  \n",
       "567          52.0      1936, March  1936.0      0  \n",
       "705          41.0   1936, February  1936.0      0  \n",
       "1468         18.0   1936, February  1936.0      0  \n",
       "1708         15.0   1936, February  1936.0      0  \n",
       "2840          8.0  1936, September  1936.0      0  "
      ]
     },
     "execution_count": 108,
     "metadata": {},
     "output_type": "execute_result"
    }
   ],
   "source": [
    "dfT = pd.DataFrame(df)\n",
    "dfT.sort_values(by='YEAR', inplace=True)\n",
    "dfT.head()"
   ]
  },
  {
   "cell_type": "code",
   "execution_count": 109,
   "metadata": {
    "collapsed": false
   },
   "outputs": [],
   "source": [
    "# dfT.drop(['name','EYE','ALIVE','HAIR','1st_APPEARANCE','APPEARANCES'], axis=1, inplace=True)\n"
   ]
  },
  {
   "cell_type": "code",
   "execution_count": 110,
   "metadata": {
    "collapsed": false
   },
   "outputs": [],
   "source": [
    "# gsm_dummy = pd.get_dummies(dfT['GSM'], prefix='GSM')\n",
    "# dfT = dfT.join(gsm_dummy)\n",
    "\n",
    "# dfT.head()\n",
    "\n",
    "# gsm_dummy = pd.get_dummies(dfT['GSM'], prefix='GSM')\n",
    "# dfT = dfT.join(gsm_dummy)"
   ]
  },
  {
   "cell_type": "code",
   "execution_count": 111,
   "metadata": {
    "collapsed": true
   },
   "outputs": [],
   "source": [
    "# ID_dummy = pd.get_dummies(dfT['ID'], prefix='ID')\n",
    "# dfT = dfT.join(ID_dummy)\n"
   ]
  },
  {
   "cell_type": "code",
   "execution_count": 112,
   "metadata": {
    "collapsed": true
   },
   "outputs": [],
   "source": [
    "# ALIGN_dummy = pd.get_dummies(dfT['ALIGN'], prefix='ALIGN')\n",
    "# dfT = dfT.join(ALIGN_dummy)\n"
   ]
  },
  {
   "cell_type": "code",
   "execution_count": 113,
   "metadata": {
    "collapsed": false
   },
   "outputs": [],
   "source": [
    "# sex_dummy = pd.get_dummies(dfT['SEX'], prefix='gender')\n",
    "# dfT = dfT.join(sex_dummy)\n"
   ]
  },
  {
   "cell_type": "code",
   "execution_count": 114,
   "metadata": {
    "collapsed": false
   },
   "outputs": [],
   "source": [
    "# dfT.head()"
   ]
  },
  {
   "cell_type": "code",
   "execution_count": 115,
   "metadata": {
    "collapsed": false
   },
   "outputs": [
    {
     "data": {
      "text/html": [
       "<div>\n",
       "<table border=\"1\" class=\"dataframe\">\n",
       "  <thead>\n",
       "    <tr style=\"text-align: right;\">\n",
       "      <th></th>\n",
       "      <th>ID</th>\n",
       "      <th>ALIGN</th>\n",
       "      <th>YEAR</th>\n",
       "      <th>dc_mv</th>\n",
       "      <th>SexPref</th>\n",
       "      <th>gender</th>\n",
       "    </tr>\n",
       "  </thead>\n",
       "  <tbody>\n",
       "    <tr>\n",
       "      <th>567</th>\n",
       "      <td>1</td>\n",
       "      <td>1</td>\n",
       "      <td>1936.0</td>\n",
       "      <td>0</td>\n",
       "      <td>1</td>\n",
       "      <td>0</td>\n",
       "    </tr>\n",
       "    <tr>\n",
       "      <th>705</th>\n",
       "      <td>1</td>\n",
       "      <td>1</td>\n",
       "      <td>1936.0</td>\n",
       "      <td>0</td>\n",
       "      <td>1</td>\n",
       "      <td>0</td>\n",
       "    </tr>\n",
       "    <tr>\n",
       "      <th>1468</th>\n",
       "      <td>1</td>\n",
       "      <td>1</td>\n",
       "      <td>1936.0</td>\n",
       "      <td>0</td>\n",
       "      <td>1</td>\n",
       "      <td>0</td>\n",
       "    </tr>\n",
       "    <tr>\n",
       "      <th>1708</th>\n",
       "      <td>1</td>\n",
       "      <td>1</td>\n",
       "      <td>1936.0</td>\n",
       "      <td>0</td>\n",
       "      <td>1</td>\n",
       "      <td>1</td>\n",
       "    </tr>\n",
       "    <tr>\n",
       "      <th>2840</th>\n",
       "      <td>1</td>\n",
       "      <td>1</td>\n",
       "      <td>1936.0</td>\n",
       "      <td>0</td>\n",
       "      <td>1</td>\n",
       "      <td>0</td>\n",
       "    </tr>\n",
       "  </tbody>\n",
       "</table>\n",
       "</div>"
      ],
      "text/plain": [
       "      ID  ALIGN    YEAR  dc_mv  SexPref  gender\n",
       "567    1      1  1936.0      0        1       0\n",
       "705    1      1  1936.0      0        1       0\n",
       "1468   1      1  1936.0      0        1       0\n",
       "1708   1      1  1936.0      0        1       1\n",
       "2840   1      1  1936.0      0        1       0"
      ]
     },
     "execution_count": 115,
     "metadata": {},
     "output_type": "execute_result"
    }
   ],
   "source": [
    "\n",
    "\n",
    "\n",
    "dfT.replace(to_replace=\"Bad Characters\", value = 0, inplace=True)\n",
    "dfT.replace(to_replace=\"Good Characters\", value = 1, inplace=True)\n",
    "dfT.replace(to_replace=\"Neutral Characters\", value = 0, inplace=True)\n",
    "dfT.replace(to_replace=\"Reformed Criminals\", value = 0, inplace=True)\n",
    "\n",
    "dfT.replace(to_replace=\"Secret Identity\", value = 0, inplace=True)\n",
    "dfT.replace(to_replace=\"Public Identity\", value = 1, inplace=True)\n",
    "dfT.replace(to_replace=\"No Dual Identity\", value = 1, inplace=True)\n",
    "dfT.replace(to_replace=\"Known to Authorities Identity\", value = 0, inplace=True)\n",
    "dfT.replace(to_replace=\"Identity Unknown\", value = 0, inplace=True)\n",
    "\n",
    "dfT['SexPref'] = dfT['GSM'].apply(lambda x: 0 if x=='Straight' else 1)\n",
    "del dfT['GSM']\n",
    "\n",
    "dfT['gender'] = dfT['SEX'].apply(lambda x: 0 if x=='Male Characters' else 1)\n",
    "del dfT['SEX']\n",
    "\n",
    "dfT.drop(['name','EYE','ALIVE','HAIR','1st_APPEARANCE','APPEARANCES'], axis=1, inplace=True)\n",
    "\n",
    "dfT.head()"
   ]
  },
  {
   "cell_type": "code",
   "execution_count": 116,
   "metadata": {
    "collapsed": false
   },
   "outputs": [],
   "source": [
    "# total character count\n"
   ]
  },
  {
   "cell_type": "code",
   "execution_count": 117,
   "metadata": {
    "collapsed": false
   },
   "outputs": [
    {
     "data": {
      "text/html": [
       "<div>\n",
       "<table border=\"1\" class=\"dataframe\">\n",
       "  <thead>\n",
       "    <tr style=\"text-align: right;\">\n",
       "      <th></th>\n",
       "      <th>ID_cume</th>\n",
       "    </tr>\n",
       "    <tr>\n",
       "      <th>YEAR</th>\n",
       "      <th></th>\n",
       "    </tr>\n",
       "  </thead>\n",
       "  <tbody>\n",
       "    <tr>\n",
       "      <th>1936.0</th>\n",
       "      <td>5</td>\n",
       "    </tr>\n",
       "    <tr>\n",
       "      <th>1937.0</th>\n",
       "      <td>8</td>\n",
       "    </tr>\n",
       "    <tr>\n",
       "      <th>1938.0</th>\n",
       "      <td>11</td>\n",
       "    </tr>\n",
       "    <tr>\n",
       "      <th>1939.0</th>\n",
       "      <td>66</td>\n",
       "    </tr>\n",
       "    <tr>\n",
       "      <th>1940.0</th>\n",
       "      <td>223</td>\n",
       "    </tr>\n",
       "  </tbody>\n",
       "</table>\n",
       "</div>"
      ],
      "text/plain": [
       "        ID_cume\n",
       "YEAR           \n",
       "1936.0        5\n",
       "1937.0        8\n",
       "1938.0       11\n",
       "1939.0       66\n",
       "1940.0      223"
      ]
     },
     "execution_count": 117,
     "metadata": {},
     "output_type": "execute_result"
    }
   ],
   "source": [
    "# column for running total of ID\n",
    "\n",
    "dfT_I = dfT.groupby('YEAR')['ID'].sum().to_frame()\n",
    "dfT_I['ID_cume'] = dfT_I['ID'].cumsum()\n",
    "dfT_I.pop('ID')\n",
    "dfT_I.head()"
   ]
  },
  {
   "cell_type": "code",
   "execution_count": 118,
   "metadata": {
    "collapsed": false
   },
   "outputs": [
    {
     "data": {
      "text/html": [
       "<div>\n",
       "<table border=\"1\" class=\"dataframe\">\n",
       "  <thead>\n",
       "    <tr style=\"text-align: right;\">\n",
       "      <th></th>\n",
       "      <th>gender_cume</th>\n",
       "    </tr>\n",
       "    <tr>\n",
       "      <th>YEAR</th>\n",
       "      <th></th>\n",
       "    </tr>\n",
       "  </thead>\n",
       "  <tbody>\n",
       "    <tr>\n",
       "      <th>1936.0</th>\n",
       "      <td>1</td>\n",
       "    </tr>\n",
       "    <tr>\n",
       "      <th>1937.0</th>\n",
       "      <td>2</td>\n",
       "    </tr>\n",
       "    <tr>\n",
       "      <th>1938.0</th>\n",
       "      <td>3</td>\n",
       "    </tr>\n",
       "    <tr>\n",
       "      <th>1939.0</th>\n",
       "      <td>15</td>\n",
       "    </tr>\n",
       "    <tr>\n",
       "      <th>1940.0</th>\n",
       "      <td>53</td>\n",
       "    </tr>\n",
       "  </tbody>\n",
       "</table>\n",
       "</div>"
      ],
      "text/plain": [
       "        gender_cume\n",
       "YEAR               \n",
       "1936.0            1\n",
       "1937.0            2\n",
       "1938.0            3\n",
       "1939.0           15\n",
       "1940.0           53"
      ]
     },
     "execution_count": 118,
     "metadata": {},
     "output_type": "execute_result"
    }
   ],
   "source": [
    "# column for running total of gender\n",
    "\n",
    "dfT_G = dfT.groupby('YEAR')['gender'].sum().to_frame()\n",
    "dfT_G['gender_cume'] = dfT_G['gender'].cumsum()\n",
    "dfT_G.pop('gender')\n",
    "dfT_G.head()"
   ]
  },
  {
   "cell_type": "code",
   "execution_count": 119,
   "metadata": {
    "collapsed": false
   },
   "outputs": [
    {
     "data": {
      "text/html": [
       "<div>\n",
       "<table border=\"1\" class=\"dataframe\">\n",
       "  <thead>\n",
       "    <tr style=\"text-align: right;\">\n",
       "      <th></th>\n",
       "      <th>SexPref_cume</th>\n",
       "    </tr>\n",
       "    <tr>\n",
       "      <th>YEAR</th>\n",
       "      <th></th>\n",
       "    </tr>\n",
       "  </thead>\n",
       "  <tbody>\n",
       "    <tr>\n",
       "      <th>1936.0</th>\n",
       "      <td>6</td>\n",
       "    </tr>\n",
       "    <tr>\n",
       "      <th>1937.0</th>\n",
       "      <td>9</td>\n",
       "    </tr>\n",
       "    <tr>\n",
       "      <th>1938.0</th>\n",
       "      <td>16</td>\n",
       "    </tr>\n",
       "    <tr>\n",
       "      <th>1939.0</th>\n",
       "      <td>85</td>\n",
       "    </tr>\n",
       "    <tr>\n",
       "      <th>1940.0</th>\n",
       "      <td>323</td>\n",
       "    </tr>\n",
       "  </tbody>\n",
       "</table>\n",
       "</div>"
      ],
      "text/plain": [
       "        SexPref_cume\n",
       "YEAR                \n",
       "1936.0             6\n",
       "1937.0             9\n",
       "1938.0            16\n",
       "1939.0            85\n",
       "1940.0           323"
      ]
     },
     "execution_count": 119,
     "metadata": {},
     "output_type": "execute_result"
    }
   ],
   "source": [
    "# column for running total of Sexual Preference\n",
    "\n",
    "dfT_S = dfT.groupby('YEAR')['SexPref'].sum().to_frame()\n",
    "dfT_S['SexPref_cume'] = dfT_S['SexPref'].cumsum()\n",
    "dfT_S.pop('SexPref')\n",
    "dfT_S.head()"
   ]
  },
  {
   "cell_type": "code",
   "execution_count": 120,
   "metadata": {
    "collapsed": false
   },
   "outputs": [
    {
     "data": {
      "text/html": [
       "<div>\n",
       "<table border=\"1\" class=\"dataframe\">\n",
       "  <thead>\n",
       "    <tr style=\"text-align: right;\">\n",
       "      <th></th>\n",
       "      <th>align_cume</th>\n",
       "    </tr>\n",
       "    <tr>\n",
       "      <th>YEAR</th>\n",
       "      <th></th>\n",
       "    </tr>\n",
       "  </thead>\n",
       "  <tbody>\n",
       "    <tr>\n",
       "      <th>1936.0</th>\n",
       "      <td>5</td>\n",
       "    </tr>\n",
       "    <tr>\n",
       "      <th>1937.0</th>\n",
       "      <td>8</td>\n",
       "    </tr>\n",
       "    <tr>\n",
       "      <th>1938.0</th>\n",
       "      <td>15</td>\n",
       "    </tr>\n",
       "    <tr>\n",
       "      <th>1939.0</th>\n",
       "      <td>46</td>\n",
       "    </tr>\n",
       "    <tr>\n",
       "      <th>1940.0</th>\n",
       "      <td>186</td>\n",
       "    </tr>\n",
       "  </tbody>\n",
       "</table>\n",
       "</div>"
      ],
      "text/plain": [
       "        align_cume\n",
       "YEAR              \n",
       "1936.0           5\n",
       "1937.0           8\n",
       "1938.0          15\n",
       "1939.0          46\n",
       "1940.0         186"
      ]
     },
     "execution_count": 120,
     "metadata": {},
     "output_type": "execute_result"
    }
   ],
   "source": [
    "# column for running total of Alignment\n",
    "\n",
    "dfT_A = dfT.groupby('YEAR')['ALIGN'].sum().to_frame()\n",
    "dfT_A['align_cume'] = dfT_A['ALIGN'].cumsum()\n",
    "dfT_A.pop('ALIGN')\n",
    "dfT_A.head()"
   ]
  },
  {
   "cell_type": "code",
   "execution_count": 121,
   "metadata": {
    "collapsed": false,
    "scrolled": true
   },
   "outputs": [
    {
     "data": {
      "text/html": [
       "<div>\n",
       "<table border=\"1\" class=\"dataframe\">\n",
       "  <thead>\n",
       "    <tr style=\"text-align: right;\">\n",
       "      <th></th>\n",
       "      <th>align_cume</th>\n",
       "      <th>ID_cume</th>\n",
       "      <th>gender_cume</th>\n",
       "      <th>SexPref_cume</th>\n",
       "    </tr>\n",
       "    <tr>\n",
       "      <th>YEAR</th>\n",
       "      <th></th>\n",
       "      <th></th>\n",
       "      <th></th>\n",
       "      <th></th>\n",
       "    </tr>\n",
       "  </thead>\n",
       "  <tbody>\n",
       "    <tr>\n",
       "      <th>1936.0</th>\n",
       "      <td>5</td>\n",
       "      <td>5</td>\n",
       "      <td>1</td>\n",
       "      <td>6</td>\n",
       "    </tr>\n",
       "    <tr>\n",
       "      <th>1937.0</th>\n",
       "      <td>8</td>\n",
       "      <td>8</td>\n",
       "      <td>2</td>\n",
       "      <td>9</td>\n",
       "    </tr>\n",
       "    <tr>\n",
       "      <th>1938.0</th>\n",
       "      <td>15</td>\n",
       "      <td>11</td>\n",
       "      <td>3</td>\n",
       "      <td>16</td>\n",
       "    </tr>\n",
       "    <tr>\n",
       "      <th>1939.0</th>\n",
       "      <td>46</td>\n",
       "      <td>66</td>\n",
       "      <td>15</td>\n",
       "      <td>85</td>\n",
       "    </tr>\n",
       "    <tr>\n",
       "      <th>1940.0</th>\n",
       "      <td>186</td>\n",
       "      <td>223</td>\n",
       "      <td>53</td>\n",
       "      <td>323</td>\n",
       "    </tr>\n",
       "  </tbody>\n",
       "</table>\n",
       "</div>"
      ],
      "text/plain": [
       "        align_cume  ID_cume  gender_cume  SexPref_cume\n",
       "YEAR                                                  \n",
       "1936.0           5        5            1             6\n",
       "1937.0           8        8            2             9\n",
       "1938.0          15       11            3            16\n",
       "1939.0          46       66           15            85\n",
       "1940.0         186      223           53           323"
      ]
     },
     "execution_count": 121,
     "metadata": {},
     "output_type": "execute_result"
    }
   ],
   "source": [
    "dfT_ts = pd.DataFrame(dfT_A)\n",
    "dfT_ts = pd.concat([dfT_ts, dfT_I], axis = 1)\n",
    "dfT_ts = pd.concat([dfT_ts, dfT_G], axis = 1)\n",
    "dfT_ts = pd.concat([dfT_ts, dfT_S], axis = 1)\n",
    "dfT_ts.head()\n",
    "\n"
   ]
  },
  {
   "cell_type": "code",
   "execution_count": 122,
   "metadata": {
    "collapsed": false,
    "scrolled": true
   },
   "outputs": [
    {
     "data": {
      "text/html": [
       "<div>\n",
       "<table border=\"1\" class=\"dataframe\">\n",
       "  <thead>\n",
       "    <tr style=\"text-align: right;\">\n",
       "      <th></th>\n",
       "      <th>align_cume</th>\n",
       "      <th>ID_cume</th>\n",
       "      <th>gender_cume</th>\n",
       "      <th>SexPref_cume</th>\n",
       "    </tr>\n",
       "    <tr>\n",
       "      <th>YEAR</th>\n",
       "      <th></th>\n",
       "      <th></th>\n",
       "      <th></th>\n",
       "      <th></th>\n",
       "    </tr>\n",
       "  </thead>\n",
       "  <tbody>\n",
       "    <tr>\n",
       "      <th>1936.0</th>\n",
       "      <td>5</td>\n",
       "      <td>5</td>\n",
       "      <td>1</td>\n",
       "      <td>6</td>\n",
       "    </tr>\n",
       "    <tr>\n",
       "      <th>1937.0</th>\n",
       "      <td>8</td>\n",
       "      <td>8</td>\n",
       "      <td>2</td>\n",
       "      <td>9</td>\n",
       "    </tr>\n",
       "    <tr>\n",
       "      <th>1938.0</th>\n",
       "      <td>15</td>\n",
       "      <td>11</td>\n",
       "      <td>3</td>\n",
       "      <td>16</td>\n",
       "    </tr>\n",
       "    <tr>\n",
       "      <th>1939.0</th>\n",
       "      <td>46</td>\n",
       "      <td>66</td>\n",
       "      <td>15</td>\n",
       "      <td>85</td>\n",
       "    </tr>\n",
       "    <tr>\n",
       "      <th>1940.0</th>\n",
       "      <td>186</td>\n",
       "      <td>223</td>\n",
       "      <td>53</td>\n",
       "      <td>323</td>\n",
       "    </tr>\n",
       "  </tbody>\n",
       "</table>\n",
       "</div>"
      ],
      "text/plain": [
       "        align_cume  ID_cume  gender_cume  SexPref_cume\n",
       "YEAR                                                  \n",
       "1936.0           5        5            1             6\n",
       "1937.0           8        8            2             9\n",
       "1938.0          15       11            3            16\n",
       "1939.0          46       66           15            85\n",
       "1940.0         186      223           53           323"
      ]
     },
     "execution_count": 122,
     "metadata": {},
     "output_type": "execute_result"
    }
   ],
   "source": [
    "dfT_ts.head()"
   ]
  },
  {
   "cell_type": "code",
   "execution_count": 128,
   "metadata": {
    "collapsed": false
   },
   "outputs": [],
   "source": [
    "dfT_ts.rename(columns={'align_cume':'good guys','ID_cume':'no secret identity','gender_cume':'female',\\\n",
    "                       'SexPref_cume':'not straight'}, inplace=True)\n",
    "\n"
   ]
  },
  {
   "cell_type": "code",
   "execution_count": 133,
   "metadata": {
    "collapsed": false
   },
   "outputs": [
    {
     "data": {
      "text/plain": [
       "<matplotlib.figure.Figure at 0x1164b3150>"
      ]
     },
     "metadata": {},
     "output_type": "display_data"
    },
    {
     "data": {
      "image/png": "[encoded data removed]",
      "text/plain": [
       "<matplotlib.figure.Figure at 0x11db12250>"
      ]
     },
     "metadata": {},
     "output_type": "display_data"
    }
   ],
   "source": [
    "from matplotlib import pyplot as plt\n",
    "%matplotlib inline\n",
    "\n",
    "plt.figure()\n",
    "dfT_ts.plot(figsize=(10,5))\n",
    "plt.legend(loc='best');\n"
   ]
  },
  {
   "cell_type": "code",
   "execution_count": 125,
   "metadata": {
    "collapsed": false
   },
   "outputs": [
    {
     "data": {
      "text/plain": [
       "<matplotlib.axes._subplots.AxesSubplot at 0x11db24b50>"
      ]
     },
     "execution_count": 125,
     "metadata": {},
     "output_type": "execute_result"
    },
    {
     "data": {
      "image/png": "[encoded data removed]",
      "text/plain": [
       "<matplotlib.figure.Figure at 0x116799cd0>"
      ]
     },
     "metadata": {},
     "output_type": "display_data"
    }
   ],
   "source": [
    "dfT_ts.plot()"
   ]
  }
 ],
 "metadata": {
  "anaconda-cloud": {},
  "kernelspec": {
   "display_name": "Python [conda root]",
   "language": "python",
   "name": "conda-root-py"
  },
  "language_info": {
   "codemirror_mode": {
    "name": "ipython",
    "version": 2
   },
   "file_extension": ".py",
   "mimetype": "text/x-python",
   "name": "python",
   "nbconvert_exporter": "python",
   "pygments_lexer": "ipython2",
   "version": "2.7.12"
  }
 },
 "nbformat": 4,
 "nbformat_minor": 1
}
