{
 "cells": [
  {
   "cell_type": "markdown",
   "metadata": {
    "slideshow": {
     "slide_type": "slide"
    }
   },
   "source": [
    "# ![](https://ga-dash.s3.amazonaws.com/production/assets/logo-9f88ae6c9c3871690e33280fcf557f33.png) Group EDA\n",
    "Week 8 | Day 3"
   ]
  },
  {
   "cell_type": "markdown",
   "metadata": {
    "slideshow": {
     "slide_type": "slide"
    }
   },
   "source": [
    "## Congratulations! 🎉\n",
    "\n",
    "You have just completed your final weekly project!\n",
    "\n",
    "We're going to be moving into time series and big data in the weeks to follow, but for the rest of \n",
    "the week, we're going take a break and consolidate the skills you have learned so far on a project of your choosing..."
   ]
  },
  {
   "cell_type": "markdown",
   "metadata": {
    "slideshow": {
     "slide_type": "slide"
    }
   },
   "source": [
    "## Today we will be splitting into 4 groups to perform an end-to-end analysis of a dataset\n",
    "#### This analysis will take place over the next two days and culminate in a presentation tomorrow afternoon\n",
    "\n",
    "#### Your group will be responsible for the following:\n",
    "\n",
    "- Choosing a dataset to explore\n",
    "- Defining a problem statement as a group\n",
    "- Exloring your data and practicing exploratory analysis \n",
    "- Validating results\n",
    "- Communicating results succinctly"
   ]
  },
  {
   "cell_type": "markdown",
   "metadata": {
    "slideshow": {
     "slide_type": "slide"
    }
   },
   "source": [
    "## Deliverables\n",
    "\n",
    "- 5-10 minute presentation \n",
    "- Jupyter notebook of your analysis\n",
    "\n",
    "## Peer Feedback\n",
    "\n",
    "After each team's presentation, the other teams will be asked to provide peer feedback\n",
    "- This should include at least one thing the team did well and one thing they could have improved\n",
    "- Please focus on both the analysis and the presentation style\n",
    "\n",
    "You will also be prompted to provide feedback on other team member's on a Google form"
   ]
  },
  {
   "cell_type": "markdown",
   "metadata": {
    "slideshow": {
     "slide_type": "slide"
    }
   },
   "source": [
    "## Suggestions\n",
    "\n",
    "- Appoint someone to present / organize\n",
    "- Look at summary statistics, explore data\n",
    "- Refine problem statement\n",
    "- Divide and conquer your workload\n",
    "- Don't fight - you will be held accountable for presenting _something_.\n",
    "- You will present"
   ]
  },
  {
   "cell_type": "markdown",
   "metadata": {
    "collapsed": true,
    "slideshow": {
     "slide_type": "slide"
    }
   },
   "source": [
    "## The Datasets\n",
    "\n",
    "#### You many use any dataset you like, here are a few places to get you started:\n",
    "- https://github.com/caesar0301/awesome-public-datasets\n",
    "- https://github.com/fivethirtyeight/data\n",
    "\n",
    "### You have one hour to choose a dataset, if you fail to choose one, you will randomly be assigned one\n",
    "\n",
    "\n",
    "## Good luck!"
   ]
  }
 ],
 "metadata": {
  "celltoolbar": "Slideshow",
  "kernelspec": {
   "display_name": "Python [default]",
   "language": "python",
   "name": "python2"
  },
  "language_info": {
   "codemirror_mode": {
    "name": "ipython",
    "version": 2
   },
   "file_extension": ".py",
   "mimetype": "text/x-python",
   "name": "python",
   "nbconvert_exporter": "python",
   "pygments_lexer": "ipython2",
   "version": "2.7.12"
  }
 },
 "nbformat": 4,
 "nbformat_minor": 0
}
