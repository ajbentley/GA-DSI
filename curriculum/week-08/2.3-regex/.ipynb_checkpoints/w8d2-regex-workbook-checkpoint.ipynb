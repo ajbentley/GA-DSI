{
 "cells": [
  {
   "cell_type": "code",
   "execution_count": 1,
   "metadata": {
    "collapsed": true,
    "slideshow": {
     "slide_type": "skip"
    }
   },
   "outputs": [],
   "source": [
    "from __future__ import division, print_function\n",
    "\n",
    "from IPython.core.display import Image\n",
    "\n",
    "import numpy as np\n",
    "import pandas as pd\n",
    "\n",
    "import matplotlib.pyplot as plt\n",
    "%matplotlib inline"
   ]
  },
  {
   "cell_type": "markdown",
   "metadata": {
    "slideshow": {
     "slide_type": "skip"
    }
   },
   "source": [
    "```\n",
    "1. This is a string\n",
    "\n",
    "2. That is also a string\n",
    "\n",
    "3. This is an illusion\n",
    "\n",
    "4. THIS IS LOUD\n",
    "\n",
    "that isn't thus\n",
    "\n",
    "bob this is bob\n",
    "bob bob_ ralph_ bobbobbobbybobbob\n",
    "ababababab\n",
    "\n",
    "6. tHiS\tiS\tCoFu SEd\n",
    "\n",
    "777. THIS IS 100%-THE-BEST!!!\n",
    "\n",
    "8888. this_is_a_fiiile.py\n",
    "\n",
    "hidden bob\n",
    "```"
   ]
  },
  {
   "cell_type": "markdown",
   "metadata": {
    "slideshow": {
     "slide_type": "skip"
    }
   },
   "source": [
    "[RegExr](http://regexr.com/)\n",
    "\n",
    "- Copy the text in the cell above into the body of the site above\n",
    "\n",
    "- Make sure to click on flags in the upper-right hand corner and make sure that **g** and **m** is clicked"
   ]
  },
  {
   "cell_type": "markdown",
   "metadata": {
    "slideshow": {
     "slide_type": "slide"
    }
   },
   "source": [
    "# ![](https://ga-dash.s3.amazonaws.com/production/assets/logo-9f88ae6c9c3871690e33280fcf557f33.png) Regular Expressions\n",
    "Week 8 | Day 2"
   ]
  },
  {
   "cell_type": "markdown",
   "metadata": {
    "slideshow": {
     "slide_type": "slide"
    }
   },
   "source": [
    "## Aka, the most useful lecture ever..."
   ]
  },
  {
   "cell_type": "markdown",
   "metadata": {
    "slideshow": {
     "slide_type": "slide"
    }
   },
   "source": [
    "### LEARNING OBJECTIVES\n",
    "*After this lesson, you will be able to:*\n",
    "- Explain what regular expressions are\n",
    "- Use regular expressions to match text\n",
    "- Demonstrate how to use capturing and non-capturing groups\n",
    "- Use advanced methods such as look-aheads"
   ]
  },
  {
   "cell_type": "markdown",
   "metadata": {
    "slideshow": {
     "slide_type": "slide"
    }
   },
   "source": [
    "## First things first:\n",
    "\n",
    "<img src=\"http://i.imgur.com/ivYeT7a.png\">\n",
    "<br>\n",
    "<center>as in</center>\n",
    "<br>\n",
    "<img src=\"http://i.imgur.com/TrLtmfM.png\">\n",
    "<br>\n",
    "<center>not as in</center>\n",
    "<img src=\"http://i.imgur.com/mPdr0y9.png\">"
   ]
  },
  {
   "cell_type": "markdown",
   "metadata": {
    "slideshow": {
     "slide_type": "slide"
    }
   },
   "source": [
    "## LESSON OUTLINE\n",
    "\n",
    "- The History\n",
    "- Regular Expression Syntax\n",
    "     - Literals\n",
    "     - Character Classes\n",
    "     - Shorthand Character Classes\n",
    "     - Special Characters\n",
    "     - The Dot\n",
    "     - Anchors\n",
    "     - Modifiers\n",
    "     - Quantifiers\n",
    "     - Groups and Capturing\n",
    "     - Alternation\n",
    "     - Lookahed"
   ]
  },
  {
   "cell_type": "markdown",
   "metadata": {
    "slideshow": {
     "slide_type": "slide"
    }
   },
   "source": [
    "## Most famous quote in regex-dom:\n",
    "\n",
    ">Some people, when confronted with a problem, think \n",
    "“I know, I'll use regular expressions.”   Now they have two problems. -Jamie Zawinski (Netscape Engineer)"
   ]
  },
  {
   "cell_type": "markdown",
   "metadata": {
    "slideshow": {
     "slide_type": "slide"
    }
   },
   "source": [
    "## So what does a regular expression look like?"
   ]
  },
  {
   "cell_type": "markdown",
   "metadata": {
    "slideshow": {
     "slide_type": "fragment"
    }
   },
   "source": [
    "\n",
    "## ```/^([a-z0-9_\\.-]+)@([\\da-z\\.-]+)\\.([a-z\\.]{2,6})$/```"
   ]
  },
  {
   "cell_type": "markdown",
   "metadata": {
    "collapsed": false,
    "hideCode": true,
    "hidePrompt": true,
    "slideshow": {
     "slide_type": "slide"
    }
   },
   "source": [
    "<img src=\"http://imgs.xkcd.com/comics/regular_expressions.png\">"
   ]
  },
  {
   "cell_type": "markdown",
   "metadata": {
    "slideshow": {
     "slide_type": "slide"
    }
   },
   "source": [
    "## The History of Regular Expressions"
   ]
  },
  {
   "cell_type": "markdown",
   "metadata": {
    "slideshow": {
     "slide_type": "-"
    }
   },
   "source": [
    "Regular expressions and neural nets have a common ancestry in the work of McColloch and Pitts (1943) in their attempt to\n",
    "computationally represent a model of a neuron. This work was picked up on by Steve Kleene (Mr. \\*) and developed futher into\n",
    "the idea of regular expressions. This was then popularized by the inclusion of it in Unix in the the 1970s in the form of **grep**. It's inclusion in PERL in the 1980s cemented its use popular usage.\n",
    "\n",
    "[The Story of Walter Pitts](http://nautil.us/issue/21/information/the-man-who-tried-to-redeem-the-world-with-logic)"
   ]
  },
  {
   "cell_type": "markdown",
   "metadata": {
    "slideshow": {
     "slide_type": "slide"
    }
   },
   "source": [
    "## Where is regex implemented?"
   ]
  },
  {
   "cell_type": "markdown",
   "metadata": {
    "slideshow": {
     "slide_type": "slide"
    }
   },
   "source": [
    "There are any number of places where regexs can be run. From your text editor, to the bash shell, to Python and even SQL. It is typically baked in to the standard libary in all programming languages.\n",
    "\n",
    "In Python it can be imported as follows:\n",
    "\n",
    "```\n",
    "import re\n",
    "```"
   ]
  },
  {
   "cell_type": "markdown",
   "metadata": {
    "slideshow": {
     "slide_type": "slide"
    }
   },
   "source": [
    "## Regular Expression Syntax"
   ]
  },
  {
   "cell_type": "markdown",
   "metadata": {
    "slideshow": {
     "slide_type": "slide"
    }
   },
   "source": [
    "## Literals"
   ]
  },
  {
   "cell_type": "markdown",
   "metadata": {
    "slideshow": {
     "slide_type": "-"
    }
   },
   "source": [
    "Literals are essentially just what you think of as characters in a string:\n",
    "    \n",
    "```\n",
    "a\n",
    "b\n",
    "c\n",
    "X\n",
    "Y\n",
    "Z\n",
    "1\n",
    "5\n",
    "100\n",
    "``` \n",
    "\n",
    "are all examples of literals"
   ]
  },
  {
   "cell_type": "markdown",
   "metadata": {
    "slideshow": {
     "slide_type": "slide"
    }
   },
   "source": [
    "## Character Classes"
   ]
  },
  {
   "cell_type": "markdown",
   "metadata": {
    "slideshow": {
     "slide_type": "-"
    }
   },
   "source": [
    "Character classes are a set of characters that are matched as an \"or\".\n",
    "\n",
    "```\n",
    "[io]\n",
    "```\n",
    "\n",
    "So this would run as \"match either i or o\".\n",
    "\n",
    "You can put as many characters as you like in between the brackets.\n",
    "\n",
    "Character classes match only a single character."
   ]
  },
  {
   "cell_type": "markdown",
   "metadata": {
    "slideshow": {
     "slide_type": "slide"
    }
   },
   "source": [
    "## Character classes can also accept certain ranges. \n",
    "\n",
    "For example, the following all work:\n",
    "    \n",
    "```\n",
    "[a-f]\n",
    "[a-z]\n",
    "[A-Z]\n",
    "[a-zA-z]\n",
    "[1-4]\n",
    "[a-c1-3]\n",
    "```"
   ]
  },
  {
   "cell_type": "markdown",
   "metadata": {
    "slideshow": {
     "slide_type": "slide"
    }
   },
   "source": [
    "## We can also add negation to character classes\n",
    "\n",
    "For example:\n",
    "\n",
    "```\n",
    "[^a-z]\n",
    "```\n",
    "\n",
    "This means match _anything_ NOT a through z"
   ]
  },
  {
   "cell_type": "markdown",
   "metadata": {
    "slideshow": {
     "slide_type": "slide"
    }
   },
   "source": [
    "## What happens if we put two character class brackets back to back?"
   ]
  },
  {
   "cell_type": "markdown",
   "metadata": {
    "slideshow": {
     "slide_type": "-"
    }
   },
   "source": [
    "## Exercise:\n",
    "\n",
    "Using regexr and the text snippet above, match **That, that, and thus** but not **This and this** using at least one literal and one negation in a character class."
   ]
  },
  {
   "cell_type": "markdown",
   "metadata": {
    "slideshow": {
     "slide_type": "slide"
    }
   },
   "source": []
  },
  {
   "cell_type": "markdown",
   "metadata": {
    "slideshow": {
     "slide_type": "slide"
    }
   },
   "source": [
    "## Shorthand Character Classes"
   ]
  },
  {
   "cell_type": "markdown",
   "metadata": {
    "slideshow": {
     "slide_type": "-"
    }
   },
   "source": [
    "```\n",
    "\\w - matches word characters (includes digits and underscores)\n",
    "\\W - matches what that one doesn't - non-word characters\n",
    "\\d - matches all digit character\n",
    "\\D - matches all non-digit characters\n",
    "\\s - matches whitespace (including tabs)\n",
    "\\S - matches non-whitespace\n",
    "\\n - matches new lines\n",
    "\\r - matches carriage returns\n",
    "\\t - matches tabs\n",
    "```"
   ]
  },
  {
   "cell_type": "markdown",
   "metadata": {
    "slideshow": {
     "slide_type": "slide"
    }
   },
   "source": [
    "These can also be placed into brackets like so:\n",
    "\n",
    "```\n",
    "[\\d\\t]\n",
    "[^\\d\\t]\n",
    "```"
   ]
  },
  {
   "cell_type": "markdown",
   "metadata": {
    "slideshow": {
     "slide_type": "slide"
    }
   },
   "source": [
    "## Special Characters"
   ]
  },
  {
   "cell_type": "markdown",
   "metadata": {
    "slideshow": {
     "slide_type": "-"
    }
   },
   "source": [
    "Certain characters must be escaped with a backslash: \\\n",
    "\n",
    "These include the following:\n",
    "\n",
    "```\n",
    ".\n",
    "?\n",
    "\\\n",
    "{\n",
    "}\n",
    "(\n",
    ")\n",
    "[\n",
    "]\n",
    "+\n",
    "-\n",
    "&\n",
    "<\n",
    ">\n",
    "```"
   ]
  },
  {
   "cell_type": "markdown",
   "metadata": {
    "slideshow": {
     "slide_type": "slide"
    }
   },
   "source": [
    "## Exercise:\n",
    "\n",
    "Use regexr and the text to match all the digits. Do it three ways:\n",
    "\n",
    "```\n",
    "1st with character classes\n",
    "2nd with the shorthand character classes\n",
    "3rd with only negation\n",
    "```"
   ]
  },
  {
   "cell_type": "markdown",
   "metadata": {
    "slideshow": {
     "slide_type": "slide"
    }
   },
   "source": []
  },
  {
   "cell_type": "markdown",
   "metadata": {
    "slideshow": {
     "slide_type": "slide"
    }
   },
   "source": [
    "## The dot"
   ]
  },
  {
   "cell_type": "markdown",
   "metadata": {
    "slideshow": {
     "slide_type": "-"
    }
   },
   "source": [
    "The dot matches any single character"
   ]
  },
  {
   "cell_type": "markdown",
   "metadata": {
    "slideshow": {
     "slide_type": "slide"
    }
   },
   "source": [
    "## Anchors"
   ]
  },
  {
   "cell_type": "markdown",
   "metadata": {
    "slideshow": {
     "slide_type": "-"
    }
   },
   "source": [
    "Anchors are used to denote the start and end of a line\n",
    "\n",
    "```\n",
    "^ - matches the start of the line\n",
    "$ - matches the end of the line\n",
    "```"
   ]
  },
  {
   "cell_type": "markdown",
   "metadata": {
    "slideshow": {
     "slide_type": "slide"
    }
   },
   "source": [
    "## Exercise:\n",
    "\n",
    "Use an achor and character class to find the **bab** and the **bob** at the end of the line, but not elsewhere"
   ]
  },
  {
   "cell_type": "markdown",
   "metadata": {
    "slideshow": {
     "slide_type": "slide"
    }
   },
   "source": []
  },
  {
   "cell_type": "markdown",
   "metadata": {
    "slideshow": {
     "slide_type": "slide"
    }
   },
   "source": [
    "## Modifiers"
   ]
  },
  {
   "cell_type": "markdown",
   "metadata": {
    "slideshow": {
     "slide_type": "-"
    }
   },
   "source": [
    "Modifiers control the following:\n",
    "    \n",
    "```\n",
    "g - global match (matches every occurance in the text rather than the first)\n",
    "i - case insensitivity\n",
    "m - multiline (modifies how ^ and $ work)\n",
    "```"
   ]
  },
  {
   "cell_type": "markdown",
   "metadata": {
    "slideshow": {
     "slide_type": "slide"
    }
   },
   "source": [
    "## Quantifiers"
   ]
  },
  {
   "cell_type": "markdown",
   "metadata": {
    "slideshow": {
     "slide_type": "-"
    }
   },
   "source": [
    "Quantfiers adjust how many items are matched\n",
    "\n",
    "```\n",
    "* - zero or more\n",
    "+ - one or more\n",
    "? - zero or one\n",
    "{n} - exactly n number\n",
    "{n,} - matches n or more occurences\n",
    "{n,m} - between n and m\n",
    "```"
   ]
  },
  {
   "cell_type": "markdown",
   "metadata": {
    "slideshow": {
     "slide_type": "slide"
    }
   },
   "source": [
    "## Greedy and Lazy Matching\n",
    "\n",
    "\n",
    "```.+ and .*``` are by nature greedy matchers. This means they will match for as many characters as possible (longest match)\n",
    "This can be flipped to lazy matching (shortest match) by adding a question mark\n"
   ]
  },
  {
   "cell_type": "markdown",
   "metadata": {
    "slideshow": {
     "slide_type": "slide"
    }
   },
   "source": [
    "## Exercise\n",
    "\n",
    "1. Find **bob** only if it occurs three times in a row without any spaces\n",
    "2. Find **bob** if it occurs twice in a row with or without spaces"
   ]
  },
  {
   "cell_type": "markdown",
   "metadata": {
    "slideshow": {
     "slide_type": "slide"
    }
   },
   "source": []
  },
  {
   "cell_type": "markdown",
   "metadata": {
    "slideshow": {
     "slide_type": "slide"
    }
   },
   "source": [
    "## Groups and Capturing"
   ]
  },
  {
   "cell_type": "markdown",
   "metadata": {
    "slideshow": {
     "slide_type": "-"
    }
   },
   "source": [
    "In regex, parenthesis, (),  denote groupings\n",
    "\n",
    "These groupings can then be quantified\n",
    "\n",
    "Additionally, these groups can be designated as either capture groups or non-capture groups\n",
    "\n",
    "To mark a group as a capture group, just put it in parenthesis - (match_phrase)\n",
    "\n",
    "To mark it as a non-capturing group, mark it like the following - (?:match_phrase)\n",
    "\n",
    "Each capture group is assigned a consecutive number that may be referenced, e.g., ```$1, $2...```"
   ]
  },
  {
   "cell_type": "markdown",
   "metadata": {
    "slideshow": {
     "slide_type": "slide"
    }
   },
   "source": [
    "## Exercise\n",
    "\n",
    "1. Run the following in regexr: ```(bob.?) (bob.?)```\n",
    "\n",
    "2. Then click on \"list\" in the bottom to open the tab and try enetering ```$1```\n",
    "3. Now enter ```$2``` instead - what is the difference?\n",
    "4. Change the code to make the first one a non-capturing group \n",
    "5. Enter ```$1``` again - what has changed?"
   ]
  },
  {
   "cell_type": "markdown",
   "metadata": {
    "slideshow": {
     "slide_type": "slide"
    }
   },
   "source": [
    "## Alternation"
   ]
  },
  {
   "cell_type": "markdown",
   "metadata": {
    "slideshow": {
     "slide_type": "-"
    }
   },
   "source": [
    "The pipe character, |,  can be used to denote an OR relation just as it is done in Python.\n",
    "\n",
    "For example, (bob|bab) or (b(o|a)b)"
   ]
  },
  {
   "cell_type": "markdown",
   "metadata": {
    "slideshow": {
     "slide_type": "slide"
    }
   },
   "source": [
    "## Word border"
   ]
  },
  {
   "cell_type": "markdown",
   "metadata": {
    "slideshow": {
     "slide_type": "-"
    }
   },
   "source": [
    "The word border, \\b, limits matches to those the mark the boundaries of words\n",
    "\n",
    "They can be used on both the left and the right side of the match"
   ]
  },
  {
   "cell_type": "markdown",
   "metadata": {
    "slideshow": {
     "slide_type": "slide"
    }
   },
   "source": [
    "## Lookahead"
   ]
  },
  {
   "cell_type": "markdown",
   "metadata": {
    "slideshow": {
     "slide_type": "-"
    }
   },
   "source": [
    "There are two types of lookaheads: postive and negative\n",
    "\n",
    "```    \n",
    "(?=match_text) - a postive lookahead says only match the current pattern if it is followed by another pattern\n",
    "(?!match_text) - a negative lookahead is the opposite\n",
    "```"
   ]
  },
  {
   "cell_type": "markdown",
   "metadata": {
    "slideshow": {
     "slide_type": "slide"
    }
   },
   "source": [
    "## Exercise\n",
    "\n",
    "1. Match bob only if it is followed by \"_\"\n",
    "2. Match bob if it is followed by \"_\" or a new line character\n",
    "3. Match bob only if it isn't followed by a space or a new line character"
   ]
  },
  {
   "cell_type": "markdown",
   "metadata": {
    "slideshow": {
     "slide_type": "slide"
    }
   },
   "source": []
  },
  {
   "cell_type": "markdown",
   "metadata": {
    "slideshow": {
     "slide_type": "slide"
    }
   },
   "source": [
    "## Independent Practice"
   ]
  },
  {
   "cell_type": "markdown",
   "metadata": {
    "slideshow": {
     "slide_type": "-"
    }
   },
   "source": [
    "Pull up the following tutorial for regular expressions in Python \n",
    "\n",
    "[TutorialPoint](http://www.tutorialspoint.com/python/python_reg_expressions.htm)<br>\n",
    "[Google Regex Tutorial](https://developers.google.com/edu/python/regular-expressions) (findall)\n",
    "\n",
    "In the cells below, import Python's regex library and experiment with matching on the string in the cells below\n",
    "\n",
    "Try some of the following:\n",
    "- Match with and without case sensitivity\n",
    "- Match using word borders (try \"bob\")\n",
    "- Use positive and negative lookaheads\n",
    "- Experiment with the multi-line flag\n",
    "- Try matching the 2nd or 3rd instance of a repetitive pattern (ab or bob for example)\n",
    "- Try using re.sub to replace a matching string\n",
    "- Note the difference between search and match - what makes them different?\n",
    "- What happens to the order of groups if they are nested?"
   ]
  },
  {
   "cell_type": "code",
   "execution_count": 2,
   "metadata": {
    "collapsed": true,
    "slideshow": {
     "slide_type": "skip"
    }
   },
   "outputs": [],
   "source": [
    "test = \"\"\"\n",
    "1. This is a string\n",
    "\n",
    "2. That is also a string\n",
    "\n",
    "3. This is an illusion\n",
    "\n",
    "4. THIS IS LOUD\n",
    "\n",
    "that isn't thus\n",
    "\n",
    "bob this is bob\n",
    "bob bob_ ralph_ bobbobbobbybobbob\n",
    "ababababab\n",
    "\n",
    "6. tHiS\tiS\tCoFu SEd\n",
    "\n",
    "777. THIS IS 100%-THE-BEST!!!\n",
    "\n",
    "8888. this_is_a_fiiile.py\n",
    "\n",
    "hidden bob\n",
    "\n",
    "\"\"\""
   ]
  },
  {
   "cell_type": "markdown",
   "metadata": {
    "slideshow": {
     "slide_type": "slide"
    }
   },
   "source": [
    "## Lab"
   ]
  },
  {
   "cell_type": "markdown",
   "metadata": {
    "slideshow": {
     "slide_type": "-"
    }
   },
   "source": [
    "Pull up the site [Regex Golf](http://regex.alf.nu/) and solve as many as you can before lunch!"
   ]
  }
 ],
 "metadata": {
  "anaconda-cloud": {},
  "celltoolbar": "Slideshow",
  "kernelspec": {
   "display_name": "Python [default]",
   "language": "python",
   "name": "python2"
  },
  "language_info": {
   "codemirror_mode": {
    "name": "ipython",
    "version": 2
   },
   "file_extension": ".py",
   "mimetype": "text/x-python",
   "name": "python",
   "nbconvert_exporter": "python",
   "pygments_lexer": "ipython2",
   "version": "2.7.12"
  }
 },
 "nbformat": 4,
 "nbformat_minor": 0
}
