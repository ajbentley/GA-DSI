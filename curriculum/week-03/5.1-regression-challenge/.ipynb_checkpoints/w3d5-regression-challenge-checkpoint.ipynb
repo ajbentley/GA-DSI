{
 "cells": [
  {
   "cell_type": "markdown",
   "metadata": {
    "slideshow": {
     "slide_type": "slide"
    }
   },
   "source": [
    "# ![](https://ga-dash.s3.amazonaws.com/production/assets/logo-9f88ae6c9c3871690e33280fcf557f33.png) Regression Challenge\n",
    "Week 3 | Day 5"
   ]
  },
  {
   "cell_type": "markdown",
   "metadata": {
    "slideshow": {
     "slide_type": "slide"
    }
   },
   "source": [
    "## The Times university ranking dataset analysis\n",
    "\n",
    "In this challenge, you will draw on the skills you have learned over the past three weeks to create a model of university prestige using the provided predictors. Specifically, your goal is to **predict the total score for each university for the year 2016**. This score directly maps into the university ranking.\n",
    "\n",
    "You will be drawing on the following skills:\n",
    "- Basic python and pandas skills\n",
    "- Data cleaning\n",
    "- EDA\n",
    "- Regression\n",
    "- Regularization\n",
    "- Cross validation"
   ]
  },
  {
   "cell_type": "markdown",
   "metadata": {
    "slideshow": {
     "slide_type": "slide"
    }
   },
   "source": [
    "## The Dataset\n",
    "\n",
    "The data is in a csv file in your repo. It contains the following columns:\n",
    "\n",
    "- **world_rank** - world rank for the university. Contains rank ranges and equal ranks (e.g. = 94 and 201-250).\n",
    "- **university_name** - name of university.\n",
    "- **country** - country of each university.\n",
    "- **teaching** - university score for teaching (the learning environment).\n",
    "- **international** - university score international outlook (staff, students, research).\n",
    "- **research** - university score for research (volume, income and reputation).\n",
    "- **citations** - university score for citations (research influence).\n",
    "- **income** - university score for industry income (knowledge transfer).\n",
    "- **total_score** - total score for university, used to determine rank.\n",
    "- **num_students** - number of students at the university.\n",
    "- **student_staff_ratio** - Number of students divided by number of staff.\n",
    "- **international_students** - Percentage of students who are international.\n",
    "- **female_male_ratio** - Female student to Male student ratio.\n",
    "- **year** - year of the ranking (2011 to 2016 included).\n",
    "\n",
    "The target is the **total score**, which directly corresponds to the final ranking.\n",
    "\n",
    "**N.B. - if the total score is reported as \"-\" that will be considered a 0 when scoring.**"
   ]
  },
  {
   "cell_type": "markdown",
   "metadata": {},
   "source": [
    "## Guidelines\n",
    "\n",
    "- You will be provided with the data and targets from 2011 through 2015 and the data (no targets) for 2016.<br><br>\n",
    "\n",
    "- Before 12:00pm, all final answers should be submitted by filling in the  predicted values for each university in the submission sheet. (.to_csv() should be useful for this). <br><br>\n",
    "\n",
    "- Your submission will be assessed on MSE -- so consider your loss functions! <br><br>"
   ]
  },
  {
   "cell_type": "markdown",
   "metadata": {
    "slideshow": {
     "slide_type": "slide"
    }
   },
   "source": [
    "## Guidelines\n",
    "\n",
    "The analysis is up to you. **This is fully open-ended.** You are expected to:\n",
    "\n",
    "- Load the packages you need to do analysis\n",
    "- Perform EDA on variables of interest\n",
    "- Form a hypothesis or hypotheses on what is important for the score\n",
    "- Check your data for problems, clean and munge data into correct formats\n",
    "- Create or combine new columns/features where beneficial\n",
    "- Perform statistical analysis with regression and describe the results\n",
    "\n",
    "---\n",
    "\n",
    "I will be here in class to help, but if you do not know how to do something, I expect you to **check documentation first**.\n",
    "\n",
    "**You are not expected to know how to do things by heart. Knowing how to effectively look up the answers on the internet is a critical skill for data scientists!**"
   ]
  },
  {
   "cell_type": "markdown",
   "metadata": {
    "slideshow": {
     "slide_type": "slide"
    }
   },
   "source": [
    "## Teams\n",
    "\n",
    "Finally, you will be working as part of a team on this. To the randomizer..."
   ]
  }
 ],
 "metadata": {
  "anaconda-cloud": {},
  "celltoolbar": "Slideshow",
  "kernelspec": {
   "display_name": "Python [Root]",
   "language": "python",
   "name": "Python [Root]"
  },
  "language_info": {
   "codemirror_mode": {
    "name": "ipython",
    "version": 2
   },
   "file_extension": ".py",
   "mimetype": "text/x-python",
   "name": "python",
   "nbconvert_exporter": "python",
   "pygments_lexer": "ipython2",
   "version": "2.7.12"
  }
 },
 "nbformat": 4,
 "nbformat_minor": 0
}
