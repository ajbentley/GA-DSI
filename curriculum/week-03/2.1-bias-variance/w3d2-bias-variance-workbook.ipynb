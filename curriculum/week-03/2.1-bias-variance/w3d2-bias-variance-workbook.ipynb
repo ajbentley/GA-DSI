{
 "cells": [
  {
   "cell_type": "markdown",
   "metadata": {
    "slideshow": {
     "slide_type": "slide"
    }
   },
   "source": [
    "# ![](https://ga-dash.s3.amazonaws.com/production/assets/logo-9f88ae6c9c3871690e33280fcf557f33.png) Bias-variance tradeoff\n",
    "Week 3 | Lesson 2.1\n",
    "\n"
   ]
  },
  {
   "cell_type": "markdown",
   "metadata": {
    "slideshow": {
     "slide_type": "slide"
    }
   },
   "source": [
    "### LEARNING OBJECTIVES\n",
    "*After this lesson, you will be able to:*\n",
    "- Define bias and variance at an intuitive level\n",
    "- Explain a model's error in terms of bias and variance\n"
   ]
  },
  {
   "cell_type": "markdown",
   "metadata": {
    "slideshow": {
     "slide_type": "slide"
    }
   },
   "source": [
    "### LESSON GUIDE\n",
    "| TIMING  | TYPE  | TOPIC  |\n",
    "|:-:|---|---|\n",
    "| 5 min  | [Introduction](#introduction)   |  The bias-variance tradeoff |\n",
    "| 20 min  | [Demo ](#demo)  | SSE and bias, variance, and irreducible error  |\n",
    "| 10 min  | [Stop + jot ](#demo)  | Conceptual and visual demonstration  |\n",
    "| 45 min  | [Guided Practice](#demo)  | Visualizing bias and variance  |\n",
    "\n",
    "---\n"
   ]
  },
  {
   "cell_type": "markdown",
   "metadata": {
    "slideshow": {
     "slide_type": "slide"
    }
   },
   "source": [
    "## Quantifying error\n",
    "\n",
    "We want to minimize the predictive error of our models. (I.e. we need an objective function.) How do we quantify the error in our model?\n",
    "\n",
    "One metric: Sum of Squared Errors (SSE)\n",
    "\n",
    "$$ SSE = \\sum_{i=1}^{n}(y_i - f(x_i))^2 = \\sum_{i=1}^{n}(y_i - \\hat y)^2 $$\n",
    "\n",
    "$x_i$ -- a given x value\n",
    "\n",
    "$y_i$ -- actual y value\n",
    "\n",
    "$f(x_i)$-- the model's predicted y value\n",
    "\n",
    "$\\hat y $ -- predicted y value"
   ]
  },
  {
   "cell_type": "markdown",
   "metadata": {
    "slideshow": {
     "slide_type": "slide"
    }
   },
   "source": [
    "### SSE can be decomposed<sup>1</sup> into error due to Bias and Variance\n",
    "\n",
    "\n",
    "$$SSE \\sim E(y_i - \\hat{f}(x_i))^2 = Var(\\hat{f}(x_i))\\ + [Bias(\\hat{f}(x_i))]^2 + Var(\\epsilon)$$\n",
    "\n",
    "Bias?\n",
    "*Your model makes assumptions about the shape of the data and consistently gets it wrong as it is run on new sample data.*\n",
    "\n",
    "Variance?\n",
    "*Imagine building your model many times, on different slices of data. Variance is related to how much your predictions for a given $x_i$ differ each time you make a prediction*\n",
    "\n",
    "<sup>1</sup>See the derivation of this result [here](https://theclevermachine.wordpress.com/tag/bias-variance-decomposition/)"
   ]
  },
  {
   "cell_type": "markdown",
   "metadata": {
    "slideshow": {
     "slide_type": "slide"
    }
   },
   "source": [
    "### Graphical Representation\n",
    "Imagine each dart throw is a new prediction *for a single data point $x_i$*.\n",
    "![](./assets/images/bullseyes.png)\n",
    "\n",
    "(Image from http://scott.fortmann-roe.com/docs/BiasVariance.html)"
   ]
  },
  {
   "cell_type": "markdown",
   "metadata": {
    "slideshow": {
     "slide_type": "slide"
    }
   },
   "source": [
    "**A high-bias model**\n",
    "![](./assets/images/linear-fit-quadratic.png)"
   ]
  },
  {
   "cell_type": "markdown",
   "metadata": {
    "slideshow": {
     "slide_type": "slide"
    }
   },
   "source": [
    "**If we increase the complexity, the bias decreases**\n",
    "![](./assets/images/quadratic-fit-quadratic.png)"
   ]
  },
  {
   "cell_type": "markdown",
   "metadata": {
    "slideshow": {
     "slide_type": "slide"
    }
   },
   "source": [
    "All datasets contain error. Here's a subset of that same data with one error point as an outlier\n",
    "\n",
    "We can fit a high-degree polynomial to these points to fit the training set perfectly.\n",
    "![](./assets/images/variance_1.png)"
   ]
  },
  {
   "cell_type": "markdown",
   "metadata": {
    "slideshow": {
     "slide_type": "slide"
    }
   },
   "source": [
    "However, when we repeat that model fit on new data, our prediction makes errors. This is error due to variance. \n",
    "![](./assets/images/variance_2.png)"
   ]
  },
  {
   "cell_type": "markdown",
   "metadata": {
    "slideshow": {
     "slide_type": "slide"
    }
   },
   "source": [
    "## The tradeoff:\n",
    "\n",
    "![](https://camo.githubusercontent.com/be96d619bff8883343cf541ed1405a8f7f5991cc/68747470733a2f2f75706c6f61642e77696b696d656469612e6f72672f6d6174682f632f622f632f63626336353331306430396136656661363330643863316633336364666138382e706e67)\n",
    "![](https://camo.githubusercontent.com/34d8f46b4220c71b359f55db15ed9124474b397d/687474703a2f2f73636f74742e666f72746d616e6e2d726f652e636f6d2f646f63732f646f63732f4269617356617269616e63652f6269617376617269616e63652e706e67)"
   ]
  },
  {
   "cell_type": "markdown",
   "metadata": {
    "slideshow": {
     "slide_type": "slide"
    }
   },
   "source": [
    "## Conceptual definition\n",
    "Take 5 minutes to read the definition of error from \"bias\" and from \"variance\" at this link:\n",
    "http://scott.fortmann-roe.com/docs/BiasVariance.html\n",
    "\n",
    "Jot down a definition for each in your own words, and draw at least two illustrative models: a high-variance model, and a high-bias model."
   ]
  },
  {
   "cell_type": "markdown",
   "metadata": {
    "slideshow": {
     "slide_type": "slide"
    }
   },
   "source": [
    "### Here's sample code for getting variance and bias from an sklearn model\n",
    "\n",
    "```python\n",
    "from sklearn import linear_model\n",
    "regr = linear_model.LinearRegression()\n",
    "regr.fit(X, Y)\n",
    "\n",
    "yhat = regr.predict(X)\n",
    "sse = np.mean((np.mean(yhat) - Y) ** 2)\n",
    "var = np.var(yhat)\n",
    "bias = sse - var - 0.01\n",
    "```\n",
    "\n",
    "Note that the way this is written implies fitting the model just once; strictly speaking, we conceptualize the bias and variance as calculated by fitting the same model many times on new data. In practice this is hard to compute."
   ]
  },
  {
   "cell_type": "markdown",
   "metadata": {
    "slideshow": {
     "slide_type": "slide"
    }
   },
   "source": [
    "## Guided practice\n",
    "\n",
    "\n",
    "We've seen that as the complexity in our models change so too do the bias and variance. Let's investigate from another angle using linear regression. Rather than change the model, we'll change the underlying data to be drawn from a higher dimensional model.\n",
    "\n",
    "We'll investigate fitting functions of the form $f(x) = a + b * x^n$ to some cubic data with noise.\n",
    "\n",
    "\n",
    "Your tasks are:\n",
    "* Fill in the code to fit a linear regression to the data\n",
    "* Investiage the bias and variance as the data source changes in complexity"
   ]
  },
  {
   "cell_type": "markdown",
   "metadata": {
    "slideshow": {
     "slide_type": "slide"
    }
   },
   "source": [
    "## Some helper functions\n",
    "The following functions will generate data and polynomial values."
   ]
  },
  {
   "cell_type": "code",
   "execution_count": 21,
   "metadata": {
    "collapsed": true,
    "slideshow": {
     "slide_type": "slide"
    }
   },
   "outputs": [],
   "source": [
    "%matplotlib inline\n",
    "import random\n",
    "\n",
    "from matplotlib import pyplot as plt\n",
    "import numpy as np\n",
    "import pandas as pd\n",
    "from scipy import stats\n",
    "from sklearn import datasets, linear_model\n",
    "\n",
    "def polynomials(X, degree=1):\n",
    "    array = [X]\n",
    "    y = X\n",
    "    for i in range(2, int(degree + 1)):\n",
    "        y = y * X\n",
    "        array.append(y)\n",
    "    return np.array(array).transpose()\n",
    "\n",
    "def monomials(X, degree=1):\n",
    "    y = np.array(X)\n",
    "    y = np.power(X, degree)\n",
    "    return np.array([y]).transpose()\n",
    "\n",
    "def generate_data(func, a, b, n=100):\n",
    "    data = []\n",
    "    for _ in range(n):\n",
    "        x = random.random() * (b - a)\n",
    "        y = func(x)\n",
    "        data.append((x, y))\n",
    "    return list(sorted(data))"
   ]
  },
  {
   "cell_type": "code",
   "execution_count": 22,
   "metadata": {
    "collapsed": false,
    "slideshow": {
     "slide_type": "slide"
    }
   },
   "outputs": [
    {
     "data": {
      "text/plain": [
       "array([[  0,   0,   0],\n",
       "       [  1,   1,   1],\n",
       "       [  2,   4,   8],\n",
       "       [  3,   9,  27],\n",
       "       [  4,  16,  64],\n",
       "       [  5,  25, 125],\n",
       "       [  6,  36, 216],\n",
       "       [  7,  49, 343],\n",
       "       [  8,  64, 512],\n",
       "       [  9,  81, 729]])"
      ]
     },
     "execution_count": 22,
     "metadata": {},
     "output_type": "execute_result"
    }
   ],
   "source": [
    "X = np.array(range(10))\n",
    "polynomials(X, 3)"
   ]
  },
  {
   "cell_type": "code",
   "execution_count": 23,
   "metadata": {
    "collapsed": true,
    "slideshow": {
     "slide_type": "fragment"
    }
   },
   "outputs": [],
   "source": [
    "mu, sigma = 0, 0.1 # mean and standard deviation for the random error component\n",
    "# norm = np.random.normal(mu, sigma)\n",
    "\n",
    "# Generate some data for the formula below\n",
    "f = lambda x: 4 + 5 * x - 3 * x*x + 0.1 * x * x * x + np.random.normal(mu, sigma)\n",
    "data = generate_data(f, 0, 2, n=20)"
   ]
  },
  {
   "cell_type": "markdown",
   "metadata": {
    "slideshow": {
     "slide_type": "slide"
    }
   },
   "source": [
    "## Fitting Polynomial Functions\n",
    "\n",
    "Here we fit try to fit our sample data with an increasing exponent:\n",
    "\n",
    "$$f(x) = 1 + b x^n$$\n",
    "\n",
    "None of these models are quite right because the data is generate from the function\n",
    "\n",
    "$$ \\hat{f}(x) = 4 + 5 x - 3 x^2 + 0.1 x^3 + \\epsilon$$\n",
    "\n",
    "So each model is not quite right because one or more terms is missing. This will allow us to take a closer look at the bias-variance tradeoff.\n",
    "\n",
    "Let's start with $n = 1, 2, 3, 4, ..., 9$."
   ]
  },
  {
   "cell_type": "code",
   "execution_count": 25,
   "metadata": {
    "collapsed": false,
    "slideshow": {
     "slide_type": "slide"
    }
   },
   "outputs": [
    {
     "ename": "SyntaxError",
     "evalue": "invalid syntax (<ipython-input-25-6d87fca2e10f>, line 8)",
     "output_type": "error",
     "traceback": [
      "\u001b[0;36m  File \u001b[0;32m\"<ipython-input-25-6d87fca2e10f>\"\u001b[0;36m, line \u001b[0;32m8\u001b[0m\n\u001b[0;31m    regr =\u001b[0m\n\u001b[0m           ^\u001b[0m\n\u001b[0;31mSyntaxError\u001b[0m\u001b[0;31m:\u001b[0m invalid syntax\n"
     ]
    }
   ],
   "source": [
    "# Workbook code\n",
    "\n",
    "domain = np.array([x[0] for x in data]) # The x values we're \"observing\"\n",
    "Y = np.array([x[1] for x in data]) # The values we are trying to predict\n",
    "\n",
    "\n",
    "for i in range(1, 10):\n",
    "    X = monomials(domain, i) \n",
    "    # Create linear regression object and fit it to X and Y\n",
    "    regr = ???\n",
    "\n",
    "    yhat = ???\n",
    "    sse = ???\n",
    "    var = ???\n",
    "    bias = ???\n",
    "    \n",
    "    # The coefficients\n",
    "    print('Coefficients: %.4f' % regr.coef_)\n",
    "    # Explained variance score: 1 is perfect prediction\n",
    "    print('Variance score: %.2f' % regr.score(X, Y))\n",
    "\n",
    "    # The mean square error\n",
    "    print(\"Residual sum of squares: %.2f\" % sse)\n",
    "\n",
    "    print(\"Bias: {bias}\".format(bias=bias))\n",
    "    print(\"Variance: {var}\".format(var=var))\n",
    "        \n",
    "    # Plot outputs\n",
    "    plt.scatter(domain, Y,  color='black')\n",
    "    plt.plot(domain, regr.predict(X), color='blue', linewidth=3)\n",
    "\n",
    "    plt.title(\"n = \" + str(i))\n",
    "\n",
    "    plt.show()"
   ]
  },
  {
   "cell_type": "markdown",
   "metadata": {
    "slideshow": {
     "slide_type": "slide"
    }
   },
   "source": [
    "It's important to **note that the true measures of bias and variance are averaged over many fits of a model to many samples from the same data source, and we're only looking at one instance here** as illustration.\n",
    "\n",
    "The bias is at first decreasing as the exponent increases, but at $n=6$ we see the bias start to increase while the squared errors are basically unchanged. Let's make a plot of the bias as the exponent increases."
   ]
  },
  {
   "cell_type": "code",
   "execution_count": 37,
   "metadata": {
    "collapsed": false,
    "slideshow": {
     "slide_type": "slide"
    }
   },
   "outputs": [
    {
     "data": {
      "image/png": "[encoded data removed]",
      "text/plain": [
       "<matplotlib.figure.Figure at 0x117acdd90>"
      ]
     },
     "metadata": {},
     "output_type": "display_data"
    }
   ],
   "source": [
    "# Workbook code\n",
    "\n",
    "bs = [] #list of biases\n",
    "vars_ = [] #list of variances\n",
    "exps = np.arange(0, 10, 0.1)\n",
    "\n",
    "for i in exps:\n",
    "    X = monomials(domain, i)\n",
    "    # Create linear regression object\n",
    "    #regr = \n",
    "    \n",
    "    # Calculate statistics\n",
    "    #yhat = \n",
    "    #sse = \n",
    "    #var = \n",
    "    #bias = \n",
    "    \n",
    "    regr = regr.fit(X, Y)\n",
    "\n",
    "    yhat = regr.predict(X)\n",
    "    sse = np.mean((np.mean(yhat) - Y) ** 2)\n",
    "    var = np.var(yhat)\n",
    "    bias = sse - var - 0.01\n",
    "\n",
    "    \n",
    "    bs.append(bias)\n",
    "    vars_.append(var)\n",
    "\n",
    "#Plot the variance and bias\n",
    "plt.plot(exps, bs, label=\"Bias\")\n",
    "plt.plot(exps, vars_, label=\"Variance\")\n",
    "ax = plt.gca()\n",
    "\n",
    "handles, labels = ax.get_legend_handles_labels()\n",
    "ax.legend(handles, labels)\n",
    "\n",
    "plt.show()"
   ]
  },
  {
   "cell_type": "markdown",
   "metadata": {
    "slideshow": {
     "slide_type": "slide"
    }
   },
   "source": [
    "Just as in the conceptual diagram from the lesson, there's a spot where the bias is minimized around $n=5$."
   ]
  },
  {
   "cell_type": "markdown",
   "metadata": {
    "slideshow": {
     "slide_type": "slide"
    }
   },
   "source": [
    "# Independent practice\n",
    "\n",
    "Now let's look at some situations where adding more polynomial terms decreases both bias and variance."
   ]
  },
  {
   "cell_type": "markdown",
   "metadata": {
    "slideshow": {
     "slide_type": "slide"
    }
   },
   "source": [
    "# Variance\n",
    "\n",
    "Now let's try to fit the full polynomial as the degree increases, which will help us visualize variance error.\n",
    "\n",
    "**Check**: In the next code section, what is different from the code above?"
   ]
  },
  {
   "cell_type": "code",
   "execution_count": 45,
   "metadata": {
    "collapsed": false,
    "slideshow": {
     "slide_type": "slide"
    }
   },
   "outputs": [
    {
     "name": "stdout",
     "output_type": "stream",
     "text": [
      "Coefficients: -1.4804 \n",
      "Variance score: 0.63\n",
      "Residual sum of squares: 0.87\n",
      "Bias: 0.312096410801\n",
      "Variance: 0.547060017714\n"
     ]
    },
    {
     "data": {
      "image/png": "[encoded data removed]",
      "text/plain": [
       "<matplotlib.figure.Figure at 0x1180547d0>"
      ]
     },
     "metadata": {},
     "output_type": "display_data"
    },
    {
     "name": "stdout",
     "output_type": "stream",
     "text": [
      "Coefficients: 4.2872 -2.4960 \n",
      "Variance score: 0.99\n",
      "Residual sum of squares: 0.87\n",
      "Bias: -0.000355791415924\n",
      "Variance: 0.85951221993\n"
     ]
    },
    {
     "data": {
      "image/png": "[encoded data removed]",
      "text/plain": [
       "<matplotlib.figure.Figure at 0x117cce990>"
      ]
     },
     "metadata": {},
     "output_type": "display_data"
    },
    {
     "name": "stdout",
     "output_type": "stream",
     "text": [
      "Coefficients: 4.7932 -3.0087 0.1523 \n",
      "Variance score: 0.99\n",
      "Residual sum of squares: 0.87\n",
      "Bias: -0.000628613808435\n",
      "Variance: 0.859785042323\n"
     ]
    },
    {
     "data": {
      "image/png": "[encoded data removed]",
      "text/plain": [
       "<matplotlib.figure.Figure at 0x117cb0990>"
      ]
     },
     "metadata": {},
     "output_type": "display_data"
    },
    {
     "name": "stdout",
     "output_type": "stream",
     "text": [
      "Coefficients: 4.4405 -2.4310 -0.2175 0.0809 \n",
      "Variance score: 0.99\n",
      "Residual sum of squares: 0.87\n",
      "Bias: -0.000641821041829\n",
      "Variance: 0.859798249556\n"
     ]
    },
    {
     "data": {
      "image/png": "[encoded data removed]",
      "text/plain": [
       "<matplotlib.figure.Figure at 0x117ab9f90>"
      ]
     },
     "metadata": {},
     "output_type": "display_data"
    },
    {
     "name": "stdout",
     "output_type": "stream",
     "text": [
      "Coefficients: 10.8523 -16.7733 14.1753 -6.5594 1.1463 \n",
      "Variance score: 0.99\n",
      "Residual sum of squares: 0.87\n",
      "Bias: -0.00107084756384\n",
      "Variance: 0.860227276078\n"
     ]
    },
    {
     "data": {
      "image/png": "[encoded data removed]",
      "text/plain": [
       "<matplotlib.figure.Figure at 0x114b3d490>"
      ]
     },
     "metadata": {},
     "output_type": "display_data"
    },
    {
     "name": "stdout",
     "output_type": "stream",
     "text": [
      "Coefficients: -4.7698 27.6547 -47.4002 38.0146 -15.0299 2.3216 \n",
      "Variance score: 0.99\n",
      "Residual sum of squares: 0.87\n",
      "Bias: -0.00146475349818\n",
      "Variance: 0.860621182013\n"
     ]
    },
    {
     "data": {
      "image/png": "[encoded data removed]",
      "text/plain": [
       "<matplotlib.figure.Figure at 0x117102d10>"
      ]
     },
     "metadata": {},
     "output_type": "display_data"
    },
    {
     "name": "stdout",
     "output_type": "stream",
     "text": [
      "Coefficients: 87.7809 -309.8169 582.3407 -617.4777 369.0789 -115.9994 14.8893 \n",
      "Variance score: 0.99\n",
      "Residual sum of squares: 0.87\n",
      "Bias: -0.00369151932371\n",
      "Variance: 0.862847947838\n"
     ]
    },
    {
     "data": {
      "image/png": "[encoded data removed]",
      "text/plain": [
       "<matplotlib.figure.Figure at 0x117ae5090>"
      ]
     },
     "metadata": {},
     "output_type": "display_data"
    },
    {
     "name": "stdout",
     "output_type": "stream",
     "text": [
      "Coefficients: 56.2321 -171.3975 260.3040 -179.6083 9.9817 58.6916 -31.4832 5.1698 \n",
      "Variance score: 0.99\n",
      "Residual sum of squares: 0.87\n",
      "Bias: -0.00371939227408\n",
      "Variance: 0.862875820788\n"
     ]
    },
    {
     "data": {
      "image/png": "[encoded data removed]",
      "text/plain": [
       "<matplotlib.figure.Figure at 0x1176fb490>"
      ]
     },
     "metadata": {},
     "output_type": "display_data"
    },
    {
     "name": "stdout",
     "output_type": "stream",
     "text": [
      "Coefficients: -721.9102 3686.4402 -10188.8349 16971.7845 -17797.5620 11821.6980 -4822.7088 1101.8646 -107.8858 \n",
      "Variance score: 0.99\n",
      "Residual sum of squares: 0.87\n",
      "Bias: -0.00484583174323\n",
      "Variance: 0.864002260258\n"
     ]
    },
    {
     "data": {
      "image/png": "[encoded data removed]",
      "text/plain": [
       "<matplotlib.figure.Figure at 0x118a236d0>"
      ]
     },
     "metadata": {},
     "output_type": "display_data"
    }
   ],
   "source": [
    "domain = np.array([x[0] for x in data])\n",
    "Y = np.array([x[1] for x in data])\n",
    "\n",
    "for i in range(1, 10):\n",
    "    X = polynomials(domain, i)\n",
    "    # Create linear regression object\n",
    "    #regr = \n",
    "\n",
    "    #yhat = \n",
    "    #sse = \n",
    "    #var = \n",
    "    #bias = \n",
    "    \n",
    "    regr = regr.fit(X, Y)\n",
    "\n",
    "    yhat = regr.predict(X)\n",
    "    sse = np.mean((np.mean(yhat) - Y) ** 2)\n",
    "    var = np.var(yhat)\n",
    "    bias = sse - var - 0.01\n",
    "    \n",
    "    # The coefficients\n",
    "    print 'Coefficients:',\n",
    "    for b in ['%.4f' % b for b in regr.coef_]: print b,\n",
    "    # Explained variance score: 1 is perfect prediction\n",
    "    print('\\nVariance score: %.2f' % regr.score(X, Y))\n",
    "\n",
    "    # The mean square error\n",
    "    print(\"Residual sum of squares: %.2f\" % sse)\n",
    "\n",
    "    print(\"Bias: {bias}\".format(bias=bias))\n",
    "    print(\"Variance: {var}\".format(var=var))\n",
    "        \n",
    "    # Plot outputs\n",
    "    plt.scatter(domain, Y,  color='black')\n",
    "    plt.plot(domain, regr.predict(X), color='blue', linewidth=3)\n",
    "\n",
    "    plt.title(\"n = \" + str(i))\n",
    "\n",
    "    plt.show()"
   ]
  },
  {
   "cell_type": "code",
   "execution_count": 46,
   "metadata": {
    "collapsed": false,
    "slideshow": {
     "slide_type": "slide"
    }
   },
   "outputs": [
    {
     "data": {
      "image/png": "[encoded data removed]",
      "text/plain": [
       "<matplotlib.figure.Figure at 0x118a02350>"
      ]
     },
     "metadata": {},
     "output_type": "display_data"
    }
   ],
   "source": [
    "bs = [] # bias values\n",
    "vars = [] # variance values\n",
    "exps = np.arange(0, 12, .1)\n",
    "\n",
    "for i in exps:\n",
    "    X = polynomials(domain, i)\n",
    "    # Create linear regression object\n",
    "    regr = ???\n",
    "    regr.fit(X, Y)\n",
    "\n",
    "    yhat = ???\n",
    "    sse = ???\n",
    "    var = ???\n",
    "    bias = ???\n",
    "    bs.append(bias)\n",
    "    vars.append(var)\n",
    "\n",
    "plt.plot(exps, bs, label=\"Bias\")\n",
    "plt.plot(exps, vars, label=\"Variance\")\n",
    "ax = plt.gca()\n",
    "\n",
    "handles, labels = ax.get_legend_handles_labels()\n",
    "ax.legend(handles, labels)\n",
    "\n",
    "plt.show()"
   ]
  },
  {
   "cell_type": "markdown",
   "metadata": {
    "slideshow": {
     "slide_type": "slide"
    }
   },
   "source": [
    "Notice that the fits for $n = 2, 3, 4$ are pretty good. As the exponent increases, the best fit curve is overfitting the dataset, and the shape of the curve does not reflect what we know the underlying data to really look like. In this case we have error due to variance -- with too many parameters, our model is fitting the random variations in the data which we generally want to avoid."
   ]
  },
  {
   "cell_type": "code",
   "execution_count": null,
   "metadata": {
    "collapsed": true
   },
   "outputs": [],
   "source": [
    "for i in range(1, 7):\n",
    "    # Generate some data\n",
    "    f = lambda x: 1 - 2 * x + 3 * x ** i + np.random.normal(mu, sigma)\n",
    "    data = generate_data(f, 0, 2, n=20)\n",
    "\n",
    "    domain = np.array([x[0] for x in data])\n",
    "    Y = np.array([x[1] for x in data])\n",
    "\n",
    "    X = np.array([domain]).transpose()\n",
    "    # Create linear regression object\n",
    "   \n",
    "    # Computer the errors\n",
    "\n",
    "    # Plot outputs"
   ]
  },
  {
   "cell_type": "markdown",
   "metadata": {
    "slideshow": {
     "slide_type": "skip"
    }
   },
   "source": [
    "# Advanced exercises (optional)\n",
    "\n",
    "Some functions, like $sin$ and $exp$ can be better fit with increasing large polynomials.\n",
    "\n",
    "* By modifying the above code, fit polynomials of degree $n$ as $n$ ranges from 1 to 10 to $sin$ on the interval $[0, 2 \\pi]$.\n",
    "* Can you explain why the bias and variance continue to decrease as $n$ gets large?"
   ]
  },
  {
   "cell_type": "code",
   "execution_count": null,
   "metadata": {
    "collapsed": true,
    "slideshow": {
     "slide_type": "skip"
    }
   },
   "outputs": [],
   "source": [
    "import math\n",
    "f = lambda x: math.sin(x) + np.random.normal(mu, sigma)\n",
    "data = generate_data(f, 0, 2*3.14, n=100)\n",
    "\n",
    "domain = np.array([x[0] for x in data])\n",
    "Y = np.array([x[1] for x in data])\n",
    "\n",
    "for i in range(1, 10):\n",
    "    pass\n",
    "    # Fit a polynomial of degree i to the data\n",
    "    \n",
    "    # Compute the errors\n",
    "\n",
    "    # Plot outputs"
   ]
  },
  {
   "cell_type": "markdown",
   "metadata": {
    "slideshow": {
     "slide_type": "skip"
    }
   },
   "source": [
    "### Repeat the same exercise with the function\n",
    "\n",
    "$$ y = e^x $$\n",
    "\n",
    "You should again find that larger polynomials fit the data better.\n"
   ]
  },
  {
   "cell_type": "markdown",
   "metadata": {
    "slideshow": {
     "slide_type": "skip"
    }
   },
   "source": [
    "### A bad model for the exponential\n",
    "\n",
    "To see a model with high variance, try fitting the model:\n",
    "\n",
    "```\n",
    "y = a sin(x) + b cos(x)\n",
    "```\n",
    "\n",
    "to `y = e^x`. Does this model have more bias or variance?"
   ]
  }
 ],
 "metadata": {
  "celltoolbar": "Slideshow",
  "kernelspec": {
   "display_name": "Python 2",
   "language": "python",
   "name": "python2"
  },
  "language_info": {
   "codemirror_mode": {
    "name": "ipython",
    "version": 2
   },
   "file_extension": ".py",
   "mimetype": "text/x-python",
   "name": "python",
   "nbconvert_exporter": "python",
   "pygments_lexer": "ipython2",
   "version": "2.7.12"
  }
 },
 "nbformat": 4,
 "nbformat_minor": 0
}
