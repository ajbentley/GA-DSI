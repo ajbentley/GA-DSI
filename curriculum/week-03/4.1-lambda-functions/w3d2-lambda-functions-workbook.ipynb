{
 "cells": [
  {
   "cell_type": "markdown",
   "metadata": {
    "slideshow": {
     "slide_type": "slide"
    }
   },
   "source": [
    "# ![](https://ga-dash.s3.amazonaws.com/production/assets/logo-9f88ae6c9c3871690e33280fcf557f33.png) Flash lesson: lambda functions\n",
    "Week 3 | Lesson 4.1\n",
    "\n"
   ]
  },
  {
   "cell_type": "markdown",
   "metadata": {
    "hideCode": true,
    "slideshow": {
     "slide_type": "slide"
    }
   },
   "source": [
    "### LEARNING OBJECTIVES\n",
    "*After this lesson, you will be able to:*\n",
    "- Write and apply one-line **lambda functions**"
   ]
  },
  {
   "cell_type": "code",
   "execution_count": 1,
   "metadata": {
    "collapsed": false,
    "slideshow": {
     "slide_type": "skip"
    }
   },
   "outputs": [],
   "source": [
    "import pandas as pd\n",
    "import numpy as np\n",
    "import matplotlib.pyplot as plt\n",
    "%matplotlib inline"
   ]
  },
  {
   "cell_type": "markdown",
   "metadata": {
    "slideshow": {
     "slide_type": "slide"
    }
   },
   "source": [
    "### Lambda\n",
    "\n",
    "Lambda is a tool for building functions. We already know how to build functions\n",
    "using def, but let's do a quick comparison of the two.\n",
    "\n",
    "Here's building a function using def:\n",
    "```Python\n",
    "def square_root(x): return x ** .5\n",
    "```\n",
    "\n",
    "Here's building the same function using lambda\n",
    "```Python\n",
    "square_root_lambda = lambda x: x ** .5\n",
    "```"
   ]
  },
  {
   "cell_type": "code",
   "execution_count": 3,
   "metadata": {
    "collapsed": true,
    "slideshow": {
     "slide_type": "fragment"
    }
   },
   "outputs": [],
   "source": [
    "def square_root(x): \n",
    "    return x** .5\n",
    "\n",
    "square_root_lambda = lambda x: x ** .5"
   ]
  },
  {
   "cell_type": "code",
   "execution_count": 4,
   "metadata": {
    "collapsed": false,
    "slideshow": {
     "slide_type": "fragment"
    }
   },
   "outputs": [
    {
     "data": {
      "text/plain": [
       "1.4142135623730951"
      ]
     },
     "execution_count": 4,
     "metadata": {},
     "output_type": "execute_result"
    }
   ],
   "source": [
    "square_root(2)"
   ]
  },
  {
   "cell_type": "code",
   "execution_count": 5,
   "metadata": {
    "collapsed": false,
    "slideshow": {
     "slide_type": "fragment"
    }
   },
   "outputs": [
    {
     "data": {
      "text/plain": [
       "1.4142135623730951"
      ]
     },
     "execution_count": 5,
     "metadata": {},
     "output_type": "execute_result"
    }
   ],
   "source": [
    "square_root_lambda(2)"
   ]
  },
  {
   "cell_type": "markdown",
   "metadata": {
    "slideshow": {
     "slide_type": "slide"
    }
   },
   "source": [
    "### Quck check\n",
    "Write a normal function to calculate the area of a rectangle.\n",
    "\n",
    "Then, re-write that function as a lambda function."
   ]
  },
  {
   "cell_type": "code",
   "execution_count": 12,
   "metadata": {
    "collapsed": false,
    "slideshow": {
     "slide_type": "fragment"
    }
   },
   "outputs": [
    {
     "name": "stdout",
     "output_type": "stream",
     "text": [
      " 20 20\n"
     ]
    }
   ],
   "source": [
    "#Function here\n",
    "def area(x, y):\n",
    "    return x*y\n",
    "    \n",
    "    \n",
    "#Lambda function here:\n",
    "area_lambda = lambda x,y: x*y\n",
    "\n",
    "# Test them out!\n",
    "print area(4,5), area_lambda(4,5)"
   ]
  },
  {
   "cell_type": "markdown",
   "metadata": {
    "slideshow": {
     "slide_type": "slide"
    }
   },
   "source": [
    "### Lambdas are 'anonymous functions'\n",
    "Lambda functions are useful when you have an operation that your code only calls once.\n",
    "\n",
    "Some things to remember about lambda:\n",
    "- it does not contain a return statement\n",
    "- it is not a named function\n",
    "- it is a tool for creating anonymous procedures\n",
    "- it only takes a single expression (so, no loops or if statements)\n",
    "\n",
    "More information on [Lambda](https://pythonconquerstheuniverse.wordpress.com/2011/08/29/lambda_tutorial/).\n"
   ]
  },
  {
   "cell_type": "markdown",
   "metadata": {
    "slideshow": {
     "slide_type": "fragment"
    }
   },
   "source": [
    "For example, in this code:\n",
    "```Python\n",
    "def _range(x):\n",
    "    return np.max(x) - np.min(x)\n",
    "    \n",
    "df.pivot_table(index='A', aggfunc = (np.mean, _range))\n",
    "```\n",
    "\n",
    "\n",
    "You can replace the `_range` function with a lambda:\n",
    "\n",
    "```Python\n",
    "df.pivot_table(index='A', aggfunc = (np.mean, lambda x: np.max(x) - np.min(x)))\n",
    "```"
   ]
  },
  {
   "cell_type": "code",
   "execution_count": 13,
   "metadata": {
    "collapsed": false,
    "slideshow": {
     "slide_type": "slide"
    }
   },
   "outputs": [
    {
     "data": {
      "text/html": [
       "<div>\n",
       "<table border=\"1\" class=\"dataframe\">\n",
       "  <thead>\n",
       "    <tr style=\"text-align: right;\">\n",
       "      <th></th>\n",
       "      <th>A</th>\n",
       "      <th>B</th>\n",
       "      <th>C</th>\n",
       "      <th>D</th>\n",
       "      <th>Group</th>\n",
       "    </tr>\n",
       "  </thead>\n",
       "  <tbody>\n",
       "    <tr>\n",
       "      <th>0</th>\n",
       "      <td>70</td>\n",
       "      <td>40</td>\n",
       "      <td>6</td>\n",
       "      <td>42</td>\n",
       "      <td>0</td>\n",
       "    </tr>\n",
       "    <tr>\n",
       "      <th>1</th>\n",
       "      <td>70</td>\n",
       "      <td>75</td>\n",
       "      <td>57</td>\n",
       "      <td>5</td>\n",
       "      <td>1</td>\n",
       "    </tr>\n",
       "    <tr>\n",
       "      <th>2</th>\n",
       "      <td>4</td>\n",
       "      <td>90</td>\n",
       "      <td>8</td>\n",
       "      <td>70</td>\n",
       "      <td>0</td>\n",
       "    </tr>\n",
       "    <tr>\n",
       "      <th>3</th>\n",
       "      <td>70</td>\n",
       "      <td>98</td>\n",
       "      <td>77</td>\n",
       "      <td>23</td>\n",
       "      <td>1</td>\n",
       "    </tr>\n",
       "    <tr>\n",
       "      <th>4</th>\n",
       "      <td>31</td>\n",
       "      <td>91</td>\n",
       "      <td>17</td>\n",
       "      <td>26</td>\n",
       "      <td>0</td>\n",
       "    </tr>\n",
       "    <tr>\n",
       "      <th>5</th>\n",
       "      <td>0</td>\n",
       "      <td>50</td>\n",
       "      <td>87</td>\n",
       "      <td>81</td>\n",
       "      <td>1</td>\n",
       "    </tr>\n",
       "    <tr>\n",
       "      <th>6</th>\n",
       "      <td>5</td>\n",
       "      <td>68</td>\n",
       "      <td>55</td>\n",
       "      <td>84</td>\n",
       "      <td>0</td>\n",
       "    </tr>\n",
       "    <tr>\n",
       "      <th>7</th>\n",
       "      <td>6</td>\n",
       "      <td>9</td>\n",
       "      <td>76</td>\n",
       "      <td>42</td>\n",
       "      <td>1</td>\n",
       "    </tr>\n",
       "  </tbody>\n",
       "</table>\n",
       "</div>"
      ],
      "text/plain": [
       "    A   B   C   D  Group\n",
       "0  70  40   6  42      0\n",
       "1  70  75  57   5      1\n",
       "2   4  90   8  70      0\n",
       "3  70  98  77  23      1\n",
       "4  31  91  17  26      0\n",
       "5   0  50  87  81      1\n",
       "6   5  68  55  84      0\n",
       "7   6   9  76  42      1"
      ]
     },
     "execution_count": 13,
     "metadata": {},
     "output_type": "execute_result"
    }
   ],
   "source": [
    "df = pd.DataFrame(np.random.randint(0,100,size=(8, 4)), columns=list('ABCD'))\n",
    "df2 = pd.DataFrame([x for x in range(0,2)]*4, columns=['Group'])\n",
    "df = pd.concat([df, df2], axis = 1)\n",
    "df"
   ]
  },
  {
   "cell_type": "code",
   "execution_count": 17,
   "metadata": {
    "collapsed": false,
    "slideshow": {
     "slide_type": "slide"
    }
   },
   "outputs": [
    {
     "data": {
      "text/html": [
       "<div>\n",
       "<table border=\"1\" class=\"dataframe\">\n",
       "  <thead>\n",
       "    <tr style=\"text-align: right;\">\n",
       "      <th></th>\n",
       "      <th>A</th>\n",
       "      <th>B</th>\n",
       "      <th>C</th>\n",
       "      <th>D</th>\n",
       "      <th>Group</th>\n",
       "    </tr>\n",
       "  </thead>\n",
       "  <tbody>\n",
       "    <tr>\n",
       "      <th>0</th>\n",
       "      <td>280</td>\n",
       "      <td>160</td>\n",
       "      <td>24</td>\n",
       "      <td>168</td>\n",
       "      <td>0</td>\n",
       "    </tr>\n",
       "    <tr>\n",
       "      <th>1</th>\n",
       "      <td>280</td>\n",
       "      <td>300</td>\n",
       "      <td>228</td>\n",
       "      <td>20</td>\n",
       "      <td>4</td>\n",
       "    </tr>\n",
       "    <tr>\n",
       "      <th>2</th>\n",
       "      <td>16</td>\n",
       "      <td>360</td>\n",
       "      <td>32</td>\n",
       "      <td>280</td>\n",
       "      <td>0</td>\n",
       "    </tr>\n",
       "    <tr>\n",
       "      <th>3</th>\n",
       "      <td>280</td>\n",
       "      <td>392</td>\n",
       "      <td>308</td>\n",
       "      <td>92</td>\n",
       "      <td>4</td>\n",
       "    </tr>\n",
       "    <tr>\n",
       "      <th>4</th>\n",
       "      <td>124</td>\n",
       "      <td>364</td>\n",
       "      <td>68</td>\n",
       "      <td>104</td>\n",
       "      <td>0</td>\n",
       "    </tr>\n",
       "  </tbody>\n",
       "</table>\n",
       "</div>"
      ],
      "text/plain": [
       "     A    B    C    D  Group\n",
       "0  280  160   24  168      0\n",
       "1  280  300  228   20      4\n",
       "2   16  360   32  280      0\n",
       "3  280  392  308   92      4\n",
       "4  124  364   68  104      0"
      ]
     },
     "execution_count": 17,
     "metadata": {},
     "output_type": "execute_result"
    }
   ],
   "source": [
    "df = df.applymap(lambda x: x*2)\n",
    "df.head()\n",
    "# df = df.applymap(lambda x: x*2)\n",
    "# df.head()"
   ]
  },
  {
   "cell_type": "code",
   "execution_count": 18,
   "metadata": {
    "collapsed": false,
    "slideshow": {
     "slide_type": "fragment"
    }
   },
   "outputs": [
    {
     "data": {
      "text/html": [
       "<div>\n",
       "<table border=\"1\" class=\"dataframe\">\n",
       "  <thead>\n",
       "    <tr>\n",
       "      <th></th>\n",
       "      <th colspan=\"2\" halign=\"left\">A</th>\n",
       "      <th colspan=\"2\" halign=\"left\">B</th>\n",
       "      <th colspan=\"2\" halign=\"left\">C</th>\n",
       "      <th colspan=\"2\" halign=\"left\">D</th>\n",
       "    </tr>\n",
       "    <tr>\n",
       "      <th></th>\n",
       "      <th>mean</th>\n",
       "      <th>_range</th>\n",
       "      <th>mean</th>\n",
       "      <th>_range</th>\n",
       "      <th>mean</th>\n",
       "      <th>_range</th>\n",
       "      <th>mean</th>\n",
       "      <th>_range</th>\n",
       "    </tr>\n",
       "    <tr>\n",
       "      <th>Group</th>\n",
       "      <th></th>\n",
       "      <th></th>\n",
       "      <th></th>\n",
       "      <th></th>\n",
       "      <th></th>\n",
       "      <th></th>\n",
       "      <th></th>\n",
       "      <th></th>\n",
       "    </tr>\n",
       "  </thead>\n",
       "  <tbody>\n",
       "    <tr>\n",
       "      <th>0</th>\n",
       "      <td>110</td>\n",
       "      <td>264</td>\n",
       "      <td>289</td>\n",
       "      <td>204</td>\n",
       "      <td>86</td>\n",
       "      <td>196</td>\n",
       "      <td>222</td>\n",
       "      <td>232</td>\n",
       "    </tr>\n",
       "    <tr>\n",
       "      <th>4</th>\n",
       "      <td>146</td>\n",
       "      <td>280</td>\n",
       "      <td>232</td>\n",
       "      <td>356</td>\n",
       "      <td>297</td>\n",
       "      <td>120</td>\n",
       "      <td>151</td>\n",
       "      <td>304</td>\n",
       "    </tr>\n",
       "  </tbody>\n",
       "</table>\n",
       "</div>"
      ],
      "text/plain": [
       "         A           B           C           D       \n",
       "      mean _range mean _range mean _range mean _range\n",
       "Group                                                \n",
       "0      110    264  289    204   86    196  222    232\n",
       "4      146    280  232    356  297    120  151    304"
      ]
     },
     "execution_count": 18,
     "metadata": {},
     "output_type": "execute_result"
    }
   ],
   "source": [
    "def _range(x): return np.max(x) - np.min(x)\n",
    "\n",
    "df.pivot_table(index = 'Group', aggfunc = (np.mean, _range))\n",
    "\n",
    "# def _range(x):\n",
    "#     return np.max(x) - np.min(x)\n",
    "\n",
    "# df.pivot_table(index = 'Group', aggfunc = (np.mean, _range))"
   ]
  },
  {
   "cell_type": "code",
   "execution_count": 24,
   "metadata": {
    "collapsed": false,
    "slideshow": {
     "slide_type": "fragment"
    }
   },
   "outputs": [
    {
     "ename": "SyntaxError",
     "evalue": "invalid syntax (<ipython-input-24-c5105e2622dc>, line 4)",
     "output_type": "error",
     "traceback": [
      "\u001b[1;36m  File \u001b[1;32m\"<ipython-input-24-c5105e2622dc>\"\u001b[1;36m, line \u001b[1;32m4\u001b[0m\n\u001b[1;33m    df.pivot_table(index='Group', aggfunc = (np.mean, lambda x: np.max(x) - np.min(x))\u001b[0m\n\u001b[1;37m                                                                                      ^\u001b[0m\n\u001b[1;31mSyntaxError\u001b[0m\u001b[1;31m:\u001b[0m invalid syntax\n"
     ]
    }
   ],
   "source": [
    "# df.pivot_table(index='Group', aggfunc = (np.mean, lambda x: np.max(x) - np.min(x)))\n",
    "\n",
    "\n",
    "df.pivot_table(index='Group', aggfunc = (np.mean, lambda x: np.max(x) - np.min(x))"
   ]
  },
  {
   "cell_type": "markdown",
   "metadata": {
    "slideshow": {
     "slide_type": "slide"
    }
   },
   "source": [
    "### Independent practice\n",
    "Practice writing a few lambda functions and applying them to this dataframe"
   ]
  },
  {
   "cell_type": "code",
   "execution_count": 25,
   "metadata": {
    "collapsed": false,
    "slideshow": {
     "slide_type": "fragment"
    }
   },
   "outputs": [
    {
     "data": {
      "text/html": [
       "<div>\n",
       "<table border=\"1\" class=\"dataframe\">\n",
       "  <thead>\n",
       "    <tr style=\"text-align: right;\">\n",
       "      <th></th>\n",
       "      <th>A</th>\n",
       "      <th>B</th>\n",
       "      <th>C</th>\n",
       "      <th>D</th>\n",
       "      <th>Group</th>\n",
       "    </tr>\n",
       "  </thead>\n",
       "  <tbody>\n",
       "    <tr>\n",
       "      <th>0</th>\n",
       "      <td>1721036800000</td>\n",
       "      <td>104857600000</td>\n",
       "      <td>7962624</td>\n",
       "      <td>133827821568</td>\n",
       "      <td>0</td>\n",
       "    </tr>\n",
       "    <tr>\n",
       "      <th>1</th>\n",
       "      <td>1721036800000</td>\n",
       "      <td>2430000000000</td>\n",
       "      <td>616132666368</td>\n",
       "      <td>3200000</td>\n",
       "      <td>1024</td>\n",
       "    </tr>\n",
       "    <tr>\n",
       "      <th>2</th>\n",
       "      <td>1048576</td>\n",
       "      <td>6046617600000</td>\n",
       "      <td>33554432</td>\n",
       "      <td>1721036800000</td>\n",
       "      <td>0</td>\n",
       "    </tr>\n",
       "    <tr>\n",
       "      <th>3</th>\n",
       "      <td>1721036800000</td>\n",
       "      <td>9256148959232</td>\n",
       "      <td>2771746976768</td>\n",
       "      <td>6590815232</td>\n",
       "      <td>1024</td>\n",
       "    </tr>\n",
       "    <tr>\n",
       "      <th>4</th>\n",
       "      <td>29316250624</td>\n",
       "      <td>6390089165824</td>\n",
       "      <td>1453933568</td>\n",
       "      <td>12166529024</td>\n",
       "      <td>0</td>\n",
       "    </tr>\n",
       "    <tr>\n",
       "      <th>5</th>\n",
       "      <td>0</td>\n",
       "      <td>320000000000</td>\n",
       "      <td>5103830227968</td>\n",
       "      <td>3570467226624</td>\n",
       "      <td>1024</td>\n",
       "    </tr>\n",
       "    <tr>\n",
       "      <th>6</th>\n",
       "      <td>3200000</td>\n",
       "      <td>1488827973632</td>\n",
       "      <td>515363200000</td>\n",
       "      <td>4282490290176</td>\n",
       "      <td>0</td>\n",
       "    </tr>\n",
       "    <tr>\n",
       "      <th>7</th>\n",
       "      <td>7962624</td>\n",
       "      <td>60466176</td>\n",
       "      <td>2596377985024</td>\n",
       "      <td>133827821568</td>\n",
       "      <td>1024</td>\n",
       "    </tr>\n",
       "  </tbody>\n",
       "</table>\n",
       "</div>"
      ],
      "text/plain": [
       "               A              B              C              D  Group\n",
       "0  1721036800000   104857600000        7962624   133827821568      0\n",
       "1  1721036800000  2430000000000   616132666368        3200000   1024\n",
       "2        1048576  6046617600000       33554432  1721036800000      0\n",
       "3  1721036800000  9256148959232  2771746976768     6590815232   1024\n",
       "4    29316250624  6390089165824     1453933568    12166529024      0\n",
       "5              0   320000000000  5103830227968  3570467226624   1024\n",
       "6        3200000  1488827973632   515363200000  4282490290176      0\n",
       "7        7962624       60466176  2596377985024   133827821568   1024"
      ]
     },
     "execution_count": 25,
     "metadata": {},
     "output_type": "execute_result"
    }
   ],
   "source": [
    "# Problem 1: apply a lambda function that gives the square root of every element\n",
    "df.applymap(lambda x: x**5)\n",
    "\n",
    "# Problem 2: apply a lambda function that returns 'skewed' for each column if the difference between\n",
    "# its mean and median is more than 10% of its standard deviation, otherwise return 'normalish'\n",
    "# df.apply()\n",
    "\n",
    "# # Problem 3: create a pivot table, indexed on 'Group', with a lambda aggfunc that returns \n",
    "# # the number of group elements greater than 100\n",
    "# df.pivot_table(???)"
   ]
  }
 ],
 "metadata": {
  "anaconda-cloud": {},
  "celltoolbar": "Slideshow",
  "kernelspec": {
   "display_name": "Python [Root]",
   "language": "python",
   "name": "Python [Root]"
  },
  "language_info": {
   "codemirror_mode": {
    "name": "ipython",
    "version": 2
   },
   "file_extension": ".py",
   "mimetype": "text/x-python",
   "name": "python",
   "nbconvert_exporter": "python",
   "pygments_lexer": "ipython2",
   "version": "2.7.12"
  }
 },
 "nbformat": 4,
 "nbformat_minor": 0
}
