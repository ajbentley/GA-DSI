{
 "cells": [
  {
   "cell_type": "code",
   "execution_count": 188,
   "metadata": {
    "collapsed": false,
    "slideshow": {
     "slide_type": "skip"
    }
   },
   "outputs": [],
   "source": [
    "import pandas as pd"
   ]
  },
  {
   "cell_type": "markdown",
   "metadata": {
    "slideshow": {
     "slide_type": "slide"
    }
   },
   "source": [
    "# ![](https://ga-dash.s3.amazonaws.com/production/assets/logo-9f88ae6c9c3871690e33280fcf557f33.png) <br>Regularization & Cross Validation Implementation <br>in Scikit-Learn\n",
    "\n",
    "Week 3 | Day 4"
   ]
  },
  {
   "cell_type": "markdown",
   "metadata": {
    "slideshow": {
     "slide_type": "slide"
    }
   },
   "source": [
    "### LEARNING OBJECTIVES\n",
    "*After this lesson, you will be able to:*\n",
    "- Implement LASSO and Ridge regressions in sklearn\n",
    "- Explain the importance of hold-out data\n",
    "- Explain the different cross val strategies\n",
    "- Perform cross validation scoring\n",
    "- Make cross validation predictions"
   ]
  },
  {
   "cell_type": "markdown",
   "metadata": {
    "slideshow": {
     "slide_type": "slide"
    }
   },
   "source": [
    "## Regularization Recap\n",
    "\n",
    "- What is regularization?\n",
    "- Why do we use it?"
   ]
  },
  {
   "cell_type": "markdown",
   "metadata": {
    "slideshow": {
     "slide_type": "slide"
    }
   },
   "source": [
    "## Key Takeaway:\n",
    "<br>\n",
    "__A model that fits well is not necessarily a model that predicts well.__\n",
    "\n",
    "- Regularization ensures we don't overfit our training data. \n",
    "- Our ultimate goal in modeling is to be able to predict using new/future data."
   ]
  },
  {
   "cell_type": "markdown",
   "metadata": {
    "slideshow": {
     "slide_type": "slide"
    }
   },
   "source": [
    "## Example: Modeling a chair\n",
    "\n",
    "- Partner up and create a model of a chair\n",
    "- Your model should include a checklist of positive attributes\n",
    "- If an example passes these it will be considered a chair\n",
    "- If it fails it will not be considered a chair\n",
    "- I will provide a test set and we will see which team builds the best model"
   ]
  },
  {
   "cell_type": "markdown",
   "metadata": {
    "slideshow": {
     "slide_type": "slide"
    }
   },
   "source": [
    "## Modeling success = predictive success\n",
    "\n",
    "To ensure this, we do a couple of things:\n",
    "    \n",
    "- Regularization: enforces simple models by penalizing complexity (as measured by beta magnitudes)\n",
    "\n",
    "- Cross Validation: ensures our model performs well on unseen data"
   ]
  },
  {
   "cell_type": "markdown",
   "metadata": {
    "slideshow": {
     "slide_type": "slide"
    }
   },
   "source": [
    "## We're now going to see how we can implement both regularization and cross validation in sklearn"
   ]
  },
  {
   "cell_type": "markdown",
   "metadata": {
    "slideshow": {
     "slide_type": "slide"
    }
   },
   "source": [
    "## Load the data"
   ]
  },
  {
   "cell_type": "code",
<<<<<<< HEAD
   "execution_count": 6,
=======
   "execution_count": 1,
>>>>>>> 815d92c6b557ae6b7e3cf1707a05dff48b91fedd
   "metadata": {
    "collapsed": false,
    "hidePrompt": true,
    "slideshow": {
     "slide_type": "-"
    }
   },
   "outputs": [],
   "source": [
    "# import the sklearn datasets library\n",
    "from sklearn import datasets\n",
    "\n",
    "# load the boston dataset\n",
    "boston = datasets.load_boston()"
   ]
  },
  {
   "cell_type": "code",
<<<<<<< HEAD
   "execution_count": 8,
=======
   "execution_count": 2,
>>>>>>> 815d92c6b557ae6b7e3cf1707a05dff48b91fedd
   "metadata": {
    "collapsed": false,
    "slideshow": {
     "slide_type": "-"
    }
   },
   "outputs": [
    {
     "data": {
      "text/plain": [
       "sklearn.datasets.base.Bunch"
      ]
     },
<<<<<<< HEAD
     "execution_count": 8,
=======
     "execution_count": 2,
>>>>>>> 815d92c6b557ae6b7e3cf1707a05dff48b91fedd
     "metadata": {},
     "output_type": "execute_result"
    }
   ],
   "source": [
    "# see what we're dealing with...\n",
    "type(boston)"
   ]
  },
  {
   "cell_type": "markdown",
   "metadata": {
    "slideshow": {
     "slide_type": "slide"
    }
   },
   "source": [
    "## Let's examine it further"
   ]
  },
  {
   "cell_type": "code",
   "execution_count": 10,
   "metadata": {
    "collapsed": false,
    "scrolled": true,
    "slideshow": {
     "slide_type": "-"
    }
   },
   "outputs": [
    {
     "data": {
      "text/plain": [
       "{'DESCR': \"Boston House Prices dataset\\n\\nNotes\\n------\\nData Set Characteristics:  \\n\\n    :Number of Instances: 506 \\n\\n    :Number of Attributes: 13 numeric/categorical predictive\\n    \\n    :Median Value (attribute 14) is usually the target\\n\\n    :Attribute Information (in order):\\n        - CRIM     per capita crime rate by town\\n        - ZN       proportion of residential land zoned for lots over 25,000 sq.ft.\\n        - INDUS    proportion of non-retail business acres per town\\n        - CHAS     Charles River dummy variable (= 1 if tract bounds river; 0 otherwise)\\n        - NOX      nitric oxides concentration (parts per 10 million)\\n        - RM       average number of rooms per dwelling\\n        - AGE      proportion of owner-occupied units built prior to 1940\\n        - DIS      weighted distances to five Boston employment centres\\n        - RAD      index of accessibility to radial highways\\n        - TAX      full-value property-tax rate per $10,000\\n        - PTRATIO  pupil-teacher ratio by town\\n        - B        1000(Bk - 0.63)^2 where Bk is the proportion of blacks by town\\n        - LSTAT    % lower status of the population\\n        - MEDV     Median value of owner-occupied homes in $1000's\\n\\n    :Missing Attribute Values: None\\n\\n    :Creator: Harrison, D. and Rubinfeld, D.L.\\n\\nThis is a copy of UCI ML housing dataset.\\nhttp://archive.ics.uci.edu/ml/datasets/Housing\\n\\n\\nThis dataset was taken from the StatLib library which is maintained at Carnegie Mellon University.\\n\\nThe Boston house-price data of Harrison, D. and Rubinfeld, D.L. 'Hedonic\\nprices and the demand for clean air', J. Environ. Economics & Management,\\nvol.5, 81-102, 1978.   Used in Belsley, Kuh & Welsch, 'Regression diagnostics\\n...', Wiley, 1980.   N.B. Various transformations are used in the table on\\npages 244-261 of the latter.\\n\\nThe Boston house-price data has been used in many machine learning papers that address regression\\nproblems.   \\n     \\n**References**\\n\\n   - Belsley, Kuh & Welsch, 'Regression diagnostics: Identifying Influential Data and Sources of Collinearity', Wiley, 1980. 244-261.\\n   - Quinlan,R. (1993). Combining Instance-Based and Model-Based Learning. In Proceedings on the Tenth International Conference of Machine Learning, 236-243, University of Massachusetts, Amherst. Morgan Kaufmann.\\n   - many more! (see http://archive.ics.uci.edu/ml/datasets/Housing)\\n\",\n",
       " 'data': array([[  6.32000000e-03,   1.80000000e+01,   2.31000000e+00, ...,\n",
       "           1.53000000e+01,   3.96900000e+02,   4.98000000e+00],\n",
       "        [  2.73100000e-02,   0.00000000e+00,   7.07000000e+00, ...,\n",
       "           1.78000000e+01,   3.96900000e+02,   9.14000000e+00],\n",
       "        [  2.72900000e-02,   0.00000000e+00,   7.07000000e+00, ...,\n",
       "           1.78000000e+01,   3.92830000e+02,   4.03000000e+00],\n",
       "        ..., \n",
       "        [  6.07600000e-02,   0.00000000e+00,   1.19300000e+01, ...,\n",
       "           2.10000000e+01,   3.96900000e+02,   5.64000000e+00],\n",
       "        [  1.09590000e-01,   0.00000000e+00,   1.19300000e+01, ...,\n",
       "           2.10000000e+01,   3.93450000e+02,   6.48000000e+00],\n",
       "        [  4.74100000e-02,   0.00000000e+00,   1.19300000e+01, ...,\n",
       "           2.10000000e+01,   3.96900000e+02,   7.88000000e+00]]),\n",
       " 'feature_names': array(['CRIM', 'ZN', 'INDUS', 'CHAS', 'NOX', 'RM', 'AGE', 'DIS', 'RAD',\n",
       "        'TAX', 'PTRATIO', 'B', 'LSTAT'], \n",
       "       dtype='|S7'),\n",
       " 'target': array([ 24. ,  21.6,  34.7,  33.4,  36.2,  28.7,  22.9,  27.1,  16.5,\n",
       "         18.9,  15. ,  18.9,  21.7,  20.4,  18.2,  19.9,  23.1,  17.5,\n",
       "         20.2,  18.2,  13.6,  19.6,  15.2,  14.5,  15.6,  13.9,  16.6,\n",
       "         14.8,  18.4,  21. ,  12.7,  14.5,  13.2,  13.1,  13.5,  18.9,\n",
       "         20. ,  21. ,  24.7,  30.8,  34.9,  26.6,  25.3,  24.7,  21.2,\n",
       "         19.3,  20. ,  16.6,  14.4,  19.4,  19.7,  20.5,  25. ,  23.4,\n",
       "         18.9,  35.4,  24.7,  31.6,  23.3,  19.6,  18.7,  16. ,  22.2,\n",
       "         25. ,  33. ,  23.5,  19.4,  22. ,  17.4,  20.9,  24.2,  21.7,\n",
       "         22.8,  23.4,  24.1,  21.4,  20. ,  20.8,  21.2,  20.3,  28. ,\n",
       "         23.9,  24.8,  22.9,  23.9,  26.6,  22.5,  22.2,  23.6,  28.7,\n",
       "         22.6,  22. ,  22.9,  25. ,  20.6,  28.4,  21.4,  38.7,  43.8,\n",
       "         33.2,  27.5,  26.5,  18.6,  19.3,  20.1,  19.5,  19.5,  20.4,\n",
       "         19.8,  19.4,  21.7,  22.8,  18.8,  18.7,  18.5,  18.3,  21.2,\n",
       "         19.2,  20.4,  19.3,  22. ,  20.3,  20.5,  17.3,  18.8,  21.4,\n",
       "         15.7,  16.2,  18. ,  14.3,  19.2,  19.6,  23. ,  18.4,  15.6,\n",
       "         18.1,  17.4,  17.1,  13.3,  17.8,  14. ,  14.4,  13.4,  15.6,\n",
       "         11.8,  13.8,  15.6,  14.6,  17.8,  15.4,  21.5,  19.6,  15.3,\n",
       "         19.4,  17. ,  15.6,  13.1,  41.3,  24.3,  23.3,  27. ,  50. ,\n",
       "         50. ,  50. ,  22.7,  25. ,  50. ,  23.8,  23.8,  22.3,  17.4,\n",
       "         19.1,  23.1,  23.6,  22.6,  29.4,  23.2,  24.6,  29.9,  37.2,\n",
       "         39.8,  36.2,  37.9,  32.5,  26.4,  29.6,  50. ,  32. ,  29.8,\n",
       "         34.9,  37. ,  30.5,  36.4,  31.1,  29.1,  50. ,  33.3,  30.3,\n",
       "         34.6,  34.9,  32.9,  24.1,  42.3,  48.5,  50. ,  22.6,  24.4,\n",
       "         22.5,  24.4,  20. ,  21.7,  19.3,  22.4,  28.1,  23.7,  25. ,\n",
       "         23.3,  28.7,  21.5,  23. ,  26.7,  21.7,  27.5,  30.1,  44.8,\n",
       "         50. ,  37.6,  31.6,  46.7,  31.5,  24.3,  31.7,  41.7,  48.3,\n",
       "         29. ,  24. ,  25.1,  31.5,  23.7,  23.3,  22. ,  20.1,  22.2,\n",
       "         23.7,  17.6,  18.5,  24.3,  20.5,  24.5,  26.2,  24.4,  24.8,\n",
       "         29.6,  42.8,  21.9,  20.9,  44. ,  50. ,  36. ,  30.1,  33.8,\n",
       "         43.1,  48.8,  31. ,  36.5,  22.8,  30.7,  50. ,  43.5,  20.7,\n",
       "         21.1,  25.2,  24.4,  35.2,  32.4,  32. ,  33.2,  33.1,  29.1,\n",
       "         35.1,  45.4,  35.4,  46. ,  50. ,  32.2,  22. ,  20.1,  23.2,\n",
       "         22.3,  24.8,  28.5,  37.3,  27.9,  23.9,  21.7,  28.6,  27.1,\n",
       "         20.3,  22.5,  29. ,  24.8,  22. ,  26.4,  33.1,  36.1,  28.4,\n",
       "         33.4,  28.2,  22.8,  20.3,  16.1,  22.1,  19.4,  21.6,  23.8,\n",
       "         16.2,  17.8,  19.8,  23.1,  21. ,  23.8,  23.1,  20.4,  18.5,\n",
       "         25. ,  24.6,  23. ,  22.2,  19.3,  22.6,  19.8,  17.1,  19.4,\n",
       "         22.2,  20.7,  21.1,  19.5,  18.5,  20.6,  19. ,  18.7,  32.7,\n",
       "         16.5,  23.9,  31.2,  17.5,  17.2,  23.1,  24.5,  26.6,  22.9,\n",
       "         24.1,  18.6,  30.1,  18.2,  20.6,  17.8,  21.7,  22.7,  22.6,\n",
       "         25. ,  19.9,  20.8,  16.8,  21.9,  27.5,  21.9,  23.1,  50. ,\n",
       "         50. ,  50. ,  50. ,  50. ,  13.8,  13.8,  15. ,  13.9,  13.3,\n",
       "         13.1,  10.2,  10.4,  10.9,  11.3,  12.3,   8.8,   7.2,  10.5,\n",
       "          7.4,  10.2,  11.5,  15.1,  23.2,   9.7,  13.8,  12.7,  13.1,\n",
       "         12.5,   8.5,   5. ,   6.3,   5.6,   7.2,  12.1,   8.3,   8.5,\n",
       "          5. ,  11.9,  27.9,  17.2,  27.5,  15. ,  17.2,  17.9,  16.3,\n",
       "          7. ,   7.2,   7.5,  10.4,   8.8,   8.4,  16.7,  14.2,  20.8,\n",
       "         13.4,  11.7,   8.3,  10.2,  10.9,  11. ,   9.5,  14.5,  14.1,\n",
       "         16.1,  14.3,  11.7,  13.4,   9.6,   8.7,   8.4,  12.8,  10.5,\n",
       "         17.1,  18.4,  15.4,  10.8,  11.8,  14.9,  12.6,  14.1,  13. ,\n",
       "         13.4,  15.2,  16.1,  17.8,  14.9,  14.1,  12.7,  13.5,  14.9,\n",
       "         20. ,  16.4,  17.7,  19.5,  20.2,  21.4,  19.9,  19. ,  19.1,\n",
       "         19.1,  20.1,  19.9,  19.6,  23.2,  29.8,  13.8,  13.3,  16.7,\n",
       "         12. ,  14.6,  21.4,  23. ,  23.7,  25. ,  21.8,  20.6,  21.2,\n",
       "         19.1,  20.6,  15.2,   7. ,   8.1,  13.6,  20.1,  21.8,  24.5,\n",
       "         23.1,  19.7,  18.3,  21.2,  17.5,  16.8,  22.4,  20.6,  23.9,\n",
       "         22. ,  11.9])}"
      ]
     },
     "execution_count": 10,
     "metadata": {},
     "output_type": "execute_result"
    }
   ],
   "source": [
    "# further examination shows it functions as a python dict\n",
    "boston"
   ]
  },
  {
   "cell_type": "markdown",
   "metadata": {
    "slideshow": {
     "slide_type": "slide"
    }
   },
   "source": [
    "## Treating it like a dict"
   ]
  },
  {
   "cell_type": "code",
   "execution_count": 7,
   "metadata": {
    "collapsed": false,
    "hidePrompt": true,
    "slideshow": {
     "slide_type": "-"
    }
   },
   "outputs": [
    {
     "data": {
      "text/plain": [
       "['data', 'feature_names', 'DESCR', 'target']"
      ]
     },
     "execution_count": 7,
     "metadata": {},
     "output_type": "execute_result"
    }
   ],
   "source": [
    "boston.keys()"
   ]
  },
  {
   "cell_type": "code",
   "execution_count": 5,
   "metadata": {
    "collapsed": false,
    "hidePrompt": true,
    "slideshow": {
     "slide_type": "-"
    }
   },
   "outputs": [
    {
     "data": {
      "text/plain": [
       "(506, 13)"
      ]
     },
     "execution_count": 5,
     "metadata": {},
     "output_type": "execute_result"
    }
   ],
   "source": [
    "boston.data.shape"
   ]
  },
  {
   "cell_type": "code",
   "execution_count": 5,
   "metadata": {
    "collapsed": false,
    "hidePrompt": true,
    "slideshow": {
     "slide_type": "-"
    }
   },
   "outputs": [
    {
     "data": {
      "text/plain": [
       "array(['CRIM', 'ZN', 'INDUS', 'CHAS', 'NOX', 'RM', 'AGE', 'DIS', 'RAD',\n",
       "       'TAX', 'PTRATIO', 'B', 'LSTAT'], \n",
       "      dtype='|S7')"
      ]
     },
     "execution_count": 5,
     "metadata": {},
     "output_type": "execute_result"
    }
   ],
   "source": [
    "boston.feature_names"
   ]
  },
  {
   "cell_type": "markdown",
   "metadata": {
    "slideshow": {
     "slide_type": "slide"
    }
   },
   "source": [
    "## Load it into a DataFrame"
   ]
  },
  {
   "cell_type": "code",
   "execution_count": 18,
   "metadata": {
    "collapsed": false,
    "hidePrompt": true,
    "slideshow": {
     "slide_type": "-"
    }
   },
   "outputs": [],
   "source": [
    "# set the X matrix/DataFrame (IVs) and use the feature names as cols\n",
    "df_X = pd.DataFrame(boston.data, columns=boston.feature_names)\n",
    "\n",
    "# set the y vector/Series (DV)\n",
    "df_y = boston.target"
   ]
  },
  {
   "cell_type": "markdown",
   "metadata": {
    "slideshow": {
     "slide_type": "slide"
    }
   },
   "source": [
    "## Set X matrix (independent variables) and y (dependent variable)"
   ]
  },
  {
   "cell_type": "code",
   "execution_count": 21,
   "metadata": {
    "collapsed": false,
    "hidePrompt": true,
    "slideshow": {
     "slide_type": "-"
    }
   },
   "outputs": [],
   "source": [
    "# save feature matrix and target vector as X and y by convention\n",
    "X = df_X\n",
    "y = df_y"
   ]
  },
  {
   "cell_type": "code",
   "execution_count": 22,
   "metadata": {
    "collapsed": false,
    "hidePrompt": true,
    "slideshow": {
     "slide_type": "-"
    }
   },
   "outputs": [
    {
     "data": {
      "text/plain": [
       "(506, 13)"
      ]
     },
     "execution_count": 22,
     "metadata": {},
     "output_type": "execute_result"
    }
   ],
   "source": [
    "X.shape"
   ]
  },
  {
   "cell_type": "code",
   "execution_count": 23,
   "metadata": {
    "collapsed": false,
    "hidePrompt": true,
    "slideshow": {
     "slide_type": "-"
    }
   },
   "outputs": [
    {
     "data": {
      "text/plain": [
       "(506,)"
      ]
     },
     "execution_count": 23,
     "metadata": {},
     "output_type": "execute_result"
    }
   ],
   "source": [
    "y.shape"
   ]
  },
  {
   "cell_type": "markdown",
   "metadata": {
    "slideshow": {
     "slide_type": "slide"
    }
   },
   "source": [
    "## Fit a standard linear regression"
   ]
  },
  {
   "cell_type": "code",
   "execution_count": 189,
   "metadata": {
    "collapsed": true,
    "hidePrompt": true,
    "slideshow": {
     "slide_type": "-"
    }
   },
   "outputs": [],
   "source": [
    "from sklearn import linear_model\n",
    "\n",
    "# import our estimator\n",
    "lr = linear_model.LinearRegression()"
   ]
  },
  {
   "cell_type": "code",
   "execution_count": 190,
   "metadata": {
    "collapsed": false,
    "hidePrompt": true,
    "slideshow": {
     "slide_type": "-"
    }
   },
   "outputs": [],
   "source": [
    "# fit our model using our data and target\n",
    "lr_model = lr.fit(X, y)"
   ]
  },
  {
   "cell_type": "markdown",
   "metadata": {
    "slideshow": {
     "slide_type": "slide"
    }
   },
   "source": [
    "## Get the r<sup>2</sup>"
   ]
  },
  {
   "cell_type": "code",
   "execution_count": 191,
   "metadata": {
    "collapsed": false,
    "hidePrompt": true,
    "slideshow": {
     "slide_type": "-"
    }
   },
   "outputs": [],
   "source": [
    "from sklearn.metrics import r2_score\n",
    "\n",
    "y_true = y\n",
    "y_pred = lr_model.predict(X)\n",
    "\n",
    "lr_r2 =  r2_score(y_true=y_true, y_pred=y_pred)"
   ]
  },
  {
   "cell_type": "code",
   "execution_count": 192,
   "metadata": {
    "collapsed": false,
    "hidePrompt": true,
    "slideshow": {
     "slide_type": "-"
    }
   },
   "outputs": [
    {
     "data": {
      "text/plain": [
       "0.74060774286494269"
      ]
     },
     "execution_count": 192,
     "metadata": {},
     "output_type": "execute_result"
    }
   ],
   "source": [
    "lr_r2"
   ]
  },
  {
   "cell_type": "markdown",
   "metadata": {
    "slideshow": {
     "slide_type": "slide"
    }
   },
   "source": [
    "## Plot our predictions vs. actual values"
   ]
  },
  {
   "cell_type": "code",
   "execution_count": 193,
   "metadata": {
    "collapsed": false,
    "slideshow": {
     "slide_type": "-"
    }
   },
   "outputs": [
    {
     "data": {
      "image/png": "iVBORw0KGgoAAAANSUhEUgAAA00AAAGKCAYAAADQcaoJAAAABHNCSVQICAgIfAhkiAAAAAlwSFlz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\nookkTREREREREU38B6EQz/H4xz7OAAAAAElFTkSuQmCC\n",
      "text/plain": [
       "<matplotlib.figure.Figure at 0x11ed5b510>"
      ]
     },
     "metadata": {},
     "output_type": "display_data"
    }
   ],
   "source": [
    "import matplotlib.pyplot as plt\n",
    "import seaborn as sns\n",
    "plt.style.use('seaborn-white')\n",
    "%matplotlib inline\n",
    "\n",
    "ax = sns.regplot(y_pred, y_true)\n",
    "ax.figure.set_figheight(6)\n",
    "ax.figure.set_figwidth(14)\n",
    "plt.annotate('r-squared = ' + str(round(lr_r2,2)), xy=(41,-7), fontsize=12)\n",
    "ax.set_ylabel('Actual Values')\n",
    "ax.set_xlabel('Predicted Values')\n",
    "ax.set_title('Predicted vs. Actual Values');"
   ]
  },
  {
   "cell_type": "markdown",
   "metadata": {
    "slideshow": {
     "slide_type": "slide"
    }
   },
   "source": [
    "## Get the coefficients (betas)"
   ]
  },
  {
   "cell_type": "code",
   "execution_count": 194,
   "metadata": {
    "collapsed": false,
    "hidePrompt": true,
    "slideshow": {
     "slide_type": "-"
    }
   },
   "outputs": [
    {
     "data": {
      "text/plain": [
       "13"
      ]
     },
     "execution_count": 194,
     "metadata": {},
     "output_type": "execute_result"
    }
   ],
   "source": [
    "# each feature has an associated coefficient\n",
    "len(lr_model.coef_)"
   ]
  },
  {
   "cell_type": "code",
   "execution_count": 195,
   "metadata": {
    "collapsed": false,
    "hidePrompt": true,
    "slideshow": {
     "slide_type": "-"
    }
   },
   "outputs": [
    {
     "data": {
      "text/plain": [
       "array([ -1.07170557e-01,   4.63952195e-02,   2.08602395e-02,\n",
       "         2.68856140e+00,  -1.77957587e+01,   3.80475246e+00,\n",
       "         7.51061703e-04,  -1.47575880e+00,   3.05655038e-01,\n",
       "        -1.23293463e-02,  -9.53463555e-01,   9.39251272e-03,\n",
       "        -5.25466633e-01])"
      ]
     },
     "execution_count": 195,
     "metadata": {},
     "output_type": "execute_result"
    }
   ],
   "source": [
    "# we can retrieve those\n",
    "lr_model.coef_"
   ]
  },
  {
   "cell_type": "markdown",
   "metadata": {
    "slideshow": {
     "slide_type": "slide"
    }
   },
   "source": [
    "## Mean abs. value of the coefficients"
   ]
  },
  {
   "cell_type": "code",
   "execution_count": 196,
   "metadata": {
    "collapsed": false,
    "hidePrompt": true,
    "slideshow": {
     "slide_type": "-"
    }
   },
   "outputs": [
    {
     "data": {
      "text/plain": [
       "2.1343319598991153"
      ]
     },
     "execution_count": 196,
     "metadata": {},
     "output_type": "execute_result"
    }
   ],
   "source": [
    "abs(lr_model.coef_).mean()"
   ]
  },
  {
   "cell_type": "code",
   "execution_count": 197,
   "metadata": {
    "collapsed": false,
    "hidePrompt": true,
    "slideshow": {
     "slide_type": "-"
    }
   },
   "outputs": [
    {
     "data": {
      "text/plain": [
       "3.8047524602580145"
      ]
     },
     "execution_count": 197,
     "metadata": {},
     "output_type": "execute_result"
    }
   ],
   "source": [
    "lr_model.coef_.max()"
   ]
  },
  {
   "cell_type": "markdown",
   "metadata": {
    "slideshow": {
     "slide_type": "slide"
    }
   },
   "source": [
    "## Let's re-model it using regularization"
   ]
  },
  {
   "cell_type": "code",
   "execution_count": 198,
   "metadata": {
    "collapsed": true,
    "hidePrompt": true,
    "slideshow": {
     "slide_type": "-"
    }
   },
   "outputs": [],
   "source": [
    "# we'll use LASSO, aka L1\n",
    "lasso = linear_model.Lasso(alpha=1)"
   ]
  },
  {
   "cell_type": "code",
   "execution_count": 199,
   "metadata": {
    "collapsed": false,
    "hidePrompt": true,
    "slideshow": {
     "slide_type": "-"
    }
   },
   "outputs": [],
   "source": [
    "# next we fit\n",
    "lasso_model = lasso.fit(X, y)"
   ]
  },
  {
   "cell_type": "markdown",
   "metadata": {
    "slideshow": {
     "slide_type": "slide"
    }
   },
   "source": [
    "## Get the r<sup>2</sup>"
   ]
  },
  {
   "cell_type": "code",
   "execution_count": 200,
   "metadata": {
    "collapsed": false,
    "hidePrompt": true,
    "slideshow": {
     "slide_type": "-"
    }
   },
   "outputs": [],
   "source": [
    "y_true_lasso = y\n",
    "y_pred_lasso = lasso_model.predict(X)\n",
    "\n",
    "lasso_r2 =  r2_score(y_true=y_true_lasso, y_pred=y_pred_lasso)"
   ]
  },
  {
   "cell_type": "code",
   "execution_count": 201,
   "metadata": {
    "collapsed": false,
    "hidePrompt": true,
    "slideshow": {
     "slide_type": "-"
    }
   },
   "outputs": [
    {
     "data": {
      "text/plain": [
       "0.682549461750665"
      ]
     },
     "execution_count": 201,
     "metadata": {},
     "output_type": "execute_result"
    }
   ],
   "source": [
    "lasso_r2"
   ]
  },
  {
   "cell_type": "markdown",
   "metadata": {
    "slideshow": {
     "slide_type": "slide"
    }
   },
   "source": [
    "## Get the coefficients (betas)"
   ]
  },
  {
   "cell_type": "code",
   "execution_count": 202,
   "metadata": {
    "collapsed": false,
    "hidePrompt": true,
    "slideshow": {
     "slide_type": "-"
    }
   },
   "outputs": [
    {
     "data": {
      "text/plain": [
       "13"
      ]
     },
     "execution_count": 202,
     "metadata": {},
     "output_type": "execute_result"
    }
   ],
   "source": [
    "len(lasso_model.coef_)"
   ]
  },
  {
   "cell_type": "code",
   "execution_count": 203,
   "metadata": {
    "collapsed": false,
    "hidePrompt": true,
    "slideshow": {
     "slide_type": "-"
    }
   },
   "outputs": [
    {
     "data": {
      "text/plain": [
       "array([ -1.07170557e-01,   4.63952195e-02,   2.08602395e-02,\n",
       "         2.68856140e+00,  -1.77957587e+01,   3.80475246e+00,\n",
       "         7.51061703e-04,  -1.47575880e+00,   3.05655038e-01,\n",
       "        -1.23293463e-02,  -9.53463555e-01,   9.39251272e-03,\n",
       "        -5.25466633e-01])"
      ]
     },
     "execution_count": 203,
     "metadata": {},
     "output_type": "execute_result"
    }
   ],
   "source": [
    "lr_model.coef_"
   ]
  },
  {
   "cell_type": "markdown",
   "metadata": {
    "slideshow": {
     "slide_type": "slide"
    }
   },
   "source": [
    "## Mean of absolute value of the coefficients"
   ]
  },
  {
   "cell_type": "code",
   "execution_count": 204,
   "metadata": {
    "collapsed": false,
    "hidePrompt": true,
    "slideshow": {
     "slide_type": "-"
    }
   },
   "outputs": [
    {
     "data": {
      "text/plain": [
       "0.27089386015469102"
      ]
     },
     "execution_count": 204,
     "metadata": {},
     "output_type": "execute_result"
    }
   ],
   "source": [
    "abs(lasso_model.coef_).mean()"
   ]
  },
  {
   "cell_type": "code",
   "execution_count": 205,
   "metadata": {
    "collapsed": false,
    "hidePrompt": true,
    "slideshow": {
     "slide_type": "-"
    }
   },
   "outputs": [
    {
     "data": {
      "text/plain": [
       "0.94678566695975275"
      ]
     },
     "execution_count": 205,
     "metadata": {},
     "output_type": "execute_result"
    }
   ],
   "source": [
    "lasso_model.coef_.max()"
   ]
  },
  {
   "cell_type": "markdown",
   "metadata": {
    "slideshow": {
     "slide_type": "slide"
    }
   },
   "source": [
    "# What did we just see?\n",
    "- We fit a standard linear regression and a regularized linear regression (LASSO - L1)\n",
    "- We saw that the mean of the absolute value of the coefficients fell with regularization\n",
    "- We saw that the r<sup>2</sup> also fell in the penalized/regularized regression -- on our training data"
   ]
  },
  {
   "cell_type": "markdown",
   "metadata": {
    "slideshow": {
     "slide_type": "slide"
    }
   },
   "source": [
    "## Exercise\n",
    "\n",
    "- Create a function that accepts a list of alpha values (Use 0.0001, 0.001, 0.01, 0.1, 0.25, 0.5, and 1 at a minimum).\n",
    "- The function should fit a LASSO regression for each of the alphas.\n",
    "- Save each alpha parameter in a dictionary as the key and use the mean absolute value of the beta coefficients as the value (this should be a single value as seen above).\n",
    "- Return this dictionary from the function.\n",
    "- What happens to the magnitude of the betas as alpha increases?\n",
    "- Bonus: create a scatterplot from of the alphas vs. the mean absolute betas"
   ]
  },
  {
   "cell_type": "code",
   "execution_count": null,
   "metadata": {
    "collapsed": false,
    "slideshow": {
     "slide_type": "slide"
    }
   },
   "outputs": [],
   "source": []
  },
  {
   "cell_type": "code",
   "execution_count": null,
   "metadata": {
    "collapsed": false,
    "slideshow": {
     "slide_type": "slide"
    }
   },
   "outputs": [],
   "source": []
  },
  {
   "cell_type": "markdown",
   "metadata": {
    "slideshow": {
     "slide_type": "slide"
    }
   },
   "source": [
    "# Cross Validation\n",
    "\n",
    "<br><br>\n",
    "\n",
    "- Cross validation is the process that ensures the model we fit generalizes to data outside of the data our model was trained on.\n",
    "- The two most common flavors are train/test split and k-fold cv.\n",
    "- Let's see it implemented now."
   ]
  },
  {
   "cell_type": "markdown",
   "metadata": {
    "slideshow": {
     "slide_type": "slide"
    }
   },
   "source": [
    "## Train test split (holdout)"
   ]
  },
  {
   "cell_type": "markdown",
   "metadata": {
    "slideshow": {
     "slide_type": "-"
    }
   },
   "source": [
    "With a holdout set, we split our data into two parts. Typically this split is 2/3 train and 1/3 testing."
   ]
  },
  {
   "cell_type": "markdown",
   "metadata": {
    "collapsed": false,
    "hideCode": false,
    "hidePrompt": true,
    "slideshow": {
     "slide_type": "-"
    }
   },
   "source": [
    "![](http://i.imgur.com/DFdGUNG.png)"
   ]
  },
  {
   "cell_type": "markdown",
   "metadata": {
    "slideshow": {
     "slide_type": "slide"
    }
   },
   "source": [
    "## How we implement a train test split in sklearn"
   ]
  },
  {
   "cell_type": "markdown",
   "metadata": {
    "slideshow": {
     "slide_type": "-"
    }
   },
   "source": [
    "[sklearn train_test_split documentation](http://scikit-learn.org/stable/modules/cross_validation.html#cross-validation)"
   ]
  },
  {
   "cell_type": "code",
   "execution_count": 174,
   "metadata": {
    "collapsed": false,
    "slideshow": {
     "slide_type": "-"
    }
   },
   "outputs": [],
   "source": [
    "from sklearn.cross_validation import train_test_split\n",
    "\n",
    "X_train, X_test, y_train, y_test = train_test_split(X, y, test_size=.33)"
   ]
  },
  {
   "cell_type": "code",
   "execution_count": 177,
   "metadata": {
    "collapsed": false,
    "slideshow": {
     "slide_type": "-"
    }
   },
   "outputs": [
    {
     "name": "stdout",
     "output_type": "stream",
     "text": [
      "Length of X_train: 339\n",
      "Length of y_train: 339\n",
      "\n",
      "Length of X_test: 167\n",
      "Length of y_test: 167\n"
     ]
    }
   ],
   "source": [
    "print 'Length of X_train: ' + str(len(X_train))\n",
    "print 'Length of y_train: ' + str(len(y_train))\n",
    "print\n",
    "print 'Length of X_test: ' + str(len(X_test))\n",
    "print 'Length of y_test: ' + str(len(y_test))"
   ]
  },
  {
   "cell_type": "markdown",
   "metadata": {
    "slideshow": {
     "slide_type": "slide"
    }
   },
   "source": [
    "## Let's fit again on our training data and test it on our test data"
   ]
  },
  {
   "cell_type": "code",
   "execution_count": 187,
   "metadata": {
    "collapsed": false,
    "slideshow": {
     "slide_type": "-"
    }
   },
   "outputs": [
    {
     "name": "stdout",
     "output_type": "stream",
     "text": [
      "original lasso r2: 0.682549461751\n",
      "tts lasso r2:      0.779052156802\n"
     ]
    }
   ],
   "source": [
    "lasso_tts = linear_model.Lasso(alpha=.01)\n",
    "tts_model = lasso_tts.fit(X_train, y_train)\n",
    "\n",
    "tts_lasso_r2 =  r2_score(y_true=y_test, y_pred=tts_model.predict(X_test))\n",
    "\n",
    "print 'original lasso r2:', lasso_r2\n",
    "print 'tts lasso r2:     ', tts_lasso_r2"
   ]
  },
  {
   "cell_type": "markdown",
   "metadata": {
    "slideshow": {
     "slide_type": "slide"
    }
   },
   "source": [
    "## K-fold Procedure"
   ]
  },
  {
   "cell_type": "code",
   "execution_count": 27,
   "metadata": {
    "collapsed": false,
    "hideCode": true,
    "hidePrompt": true,
    "slideshow": {
     "slide_type": "-"
    }
   },
   "outputs": [
    {
     "data": {
      "image/png": "iVBORw0KGgoAAAANSUhEUgAABZYAAACiCAYAAADSvZgbAAAMGGlDQ1BJQ0MgUHJvZmlsZQAASImV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\nQAIkQAIk0FgI/H9Z9Wkq3VAgWwAAAABJRU5ErkJggg==\n",
      "text/plain": [
       "<IPython.core.display.Image object>"
      ]
     },
     "execution_count": 27,
     "metadata": {},
     "output_type": "execute_result"
    }
   ],
   "source": [
    "from IPython.core.display import Image\n",
    "Image(PATH + 'kfold.png')"
   ]
  },
  {
   "cell_type": "markdown",
   "metadata": {
    "slideshow": {
     "slide_type": "slide"
    }
   },
   "source": [
    "## K-fold"
   ]
  },
  {
   "cell_type": "markdown",
   "metadata": {
    "collapsed": false,
    "hideCode": false,
    "hidePrompt": true,
    "slideshow": {
     "slide_type": "-"
    }
   },
   "source": [
    "![](http://i.imgur.com/wnruaYT.png)"
   ]
  },
  {
   "cell_type": "markdown",
   "metadata": {
    "slideshow": {
     "slide_type": "slide"
    }
   },
   "source": [
    "## Check: Is 2-fold the same as a 50:50 train test split? Why or why not?"
   ]
  },
  {
   "cell_type": "markdown",
   "metadata": {
    "slideshow": {
     "slide_type": "slide"
    }
   },
   "source": [
    "## Check: Will two different 50:50 (or x:y) splits produce the same model score?"
   ]
  },
  {
   "cell_type": "markdown",
   "metadata": {
    "slideshow": {
     "slide_type": "slide"
    }
   },
   "source": [
    "## K-Fold implementation in sklearn"
   ]
  },
  {
   "cell_type": "markdown",
   "metadata": {
    "slideshow": {
     "slide_type": "-"
    }
   },
   "source": [
    "The easiest way to do so is with:\n",
    "[cross_val_score( )](http://scikit-learn.org/stable/modules/generated/sklearn.model_selection.cross_val_score.html#sklearn.model_selection.cross_val_score)"
   ]
  },
  {
   "cell_type": "markdown",
   "metadata": {
    "slideshow": {
     "slide_type": "-"
    }
   },
   "source": [
    "**But, which scoring metric does cross_val_score return?**\n",
    "\n",
    ">By default cross_val_score uses the scoring provided in the given estimator, which is usually the simplest appropriate scoring method. E.g. for most classifiers this is accuracy score and for regressors this is r2 score.<br><br>\n",
    "If you want to use a different scoring method you can pass a scorer to cross_val_score using the scoring= keyword. You can choose anything from sklearn.metrics.scorer (but it may not work if it is not appropriate to your setting [classification / regression])\n",
    "-- [Stack Overflow](http://stackoverflow.com/questions/25006369/what-is-sklearn-cross-validation-cross-val-score)"
   ]
  },
  {
   "cell_type": "markdown",
   "metadata": {
    "slideshow": {
     "slide_type": "slide"
    }
   },
   "source": [
    "## Let's now use cross_val_score on our two models:\n",
    "1. First in our standard linear model: lr\n",
    "2. Then in our regularizied model: lasso"
   ]
  },
  {
   "cell_type": "markdown",
   "metadata": {
    "slideshow": {
     "slide_type": "slide"
    }
   },
   "source": [
    "## Get Cross Val Score - Using 5 folds"
   ]
  },
  {
   "cell_type": "code",
   "execution_count": 210,
   "metadata": {
    "collapsed": false,
    "hidePrompt": true,
    "slideshow": {
     "slide_type": "-"
    }
   },
   "outputs": [
    {
     "data": {
      "text/plain": [
       "array([ 0.63861069,  0.71334432,  0.58645134,  0.07842495, -0.26312455])"
      ]
     },
     "execution_count": 210,
     "metadata": {},
     "output_type": "execute_result"
    }
   ],
   "source": [
    "# we pass in our estimator, lr, and our data and target\n",
    "cross_val_score(lr, X, y, n_jobs=1, cv=5)"
   ]
  },
  {
   "cell_type": "code",
   "execution_count": 211,
   "metadata": {
    "collapsed": false,
    "hidePrompt": true,
    "slideshow": {
     "slide_type": "-"
    }
   },
   "outputs": [
    {
     "data": {
      "text/plain": [
       "array([ 0.56129809,  0.63387223,  0.33465716,  0.35466072,  0.27435636])"
      ]
     },
     "execution_count": 211,
     "metadata": {},
     "output_type": "execute_result"
    }
   ],
   "source": [
    "# testing this time with the lasso estimator\n",
    "cross_val_score(lasso, X, y, n_jobs=1, cv=5)"
   ]
  },
  {
   "cell_type": "markdown",
   "metadata": {
    "slideshow": {
     "slide_type": "slide"
    }
   },
   "source": [
    "## Get the mean of the 5 runs"
   ]
  },
  {
   "cell_type": "code",
   "execution_count": 212,
   "metadata": {
    "collapsed": false,
    "hidePrompt": true,
    "slideshow": {
     "slide_type": "-"
    }
   },
   "outputs": [
    {
     "data": {
      "text/plain": [
       "0.35074135093252234"
      ]
     },
     "execution_count": 212,
     "metadata": {},
     "output_type": "execute_result"
    }
   ],
   "source": [
    "cross_val_score(lr, X, y, n_jobs=1, cv=5).mean()"
   ]
  },
  {
   "cell_type": "code",
   "execution_count": 213,
   "metadata": {
    "collapsed": false,
    "hidePrompt": true,
    "slideshow": {
     "slide_type": "-"
    }
   },
   "outputs": [
    {
     "data": {
      "text/plain": [
       "0.43176891192320488"
      ]
     },
     "execution_count": 213,
     "metadata": {},
     "output_type": "execute_result"
    }
   ],
   "source": [
    "cross_val_score(lasso, X, y, n_jobs=1, cv=5).mean()"
   ]
  },
  {
   "cell_type": "markdown",
   "metadata": {
    "slideshow": {
     "slide_type": "slide"
    }
   },
   "source": [
    "## Change cross val scoring metric -  MSE"
   ]
  },
  {
   "cell_type": "code",
   "execution_count": 214,
   "metadata": {
    "collapsed": false,
    "hidePrompt": true,
    "slideshow": {
     "slide_type": "-"
    }
   },
   "outputs": [
    {
     "data": {
      "text/plain": [
       "array([-12.48065021, -26.09620267, -33.11995587, -80.83305378, -33.58435565])"
      ]
     },
     "execution_count": 214,
     "metadata": {},
     "output_type": "execute_result"
    }
   ],
   "source": [
    "cross_val_score(lr, X, y, n_jobs=1, cv=5,\n",
    "                scoring='mean_squared_error')"
   ]
  },
  {
   "cell_type": "code",
   "execution_count": 215,
   "metadata": {
    "collapsed": false,
    "hidePrompt": true,
    "slideshow": {
     "slide_type": "-"
    }
   },
   "outputs": [
    {
     "data": {
      "text/plain": [
       "-37.222843637138425"
      ]
     },
     "execution_count": 215,
     "metadata": {},
     "output_type": "execute_result"
    }
   ],
   "source": [
    "cross_val_score(lr, X, y, n_jobs=1, cv=5,\n",
    "                scoring='mean_squared_error').mean()"
   ]
  },
  {
   "cell_type": "code",
   "execution_count": 216,
   "metadata": {
    "collapsed": false,
    "hidePrompt": true,
    "slideshow": {
     "slide_type": "-"
    }
   },
   "outputs": [
    {
     "data": {
      "text/plain": [
       "array([-15.1506561 , -33.33108327, -53.28544689, -56.60390369, -19.29364303])"
      ]
     },
     "execution_count": 216,
     "metadata": {},
     "output_type": "execute_result"
    }
   ],
   "source": [
    "cross_val_score(lasso, X, y, n_jobs=1, cv=5,\n",
    "                scoring='mean_squared_error')"
   ]
  },
  {
   "cell_type": "code",
   "execution_count": 217,
   "metadata": {
    "collapsed": false,
    "hidePrompt": true,
    "slideshow": {
     "slide_type": "-"
    }
   },
   "outputs": [
    {
     "data": {
      "text/plain": [
       "-35.53294659598334"
      ]
     },
     "execution_count": 217,
     "metadata": {},
     "output_type": "execute_result"
    }
   ],
   "source": [
    "cross_val_score(lasso, X, y, n_jobs=1, cv=5,\n",
    "                scoring='mean_squared_error').mean()"
   ]
  },
  {
   "cell_type": "markdown",
   "metadata": {
    "slideshow": {
     "slide_type": "slide"
    }
   },
   "source": [
    "## Some models have their own CV version"
   ]
  },
  {
   "cell_type": "markdown",
   "metadata": {
    "slideshow": {
     "slide_type": "-"
    }
   },
   "source": [
    "RidgeCV implements cross validation on a ridge regression with various alphas"
   ]
  },
  {
   "cell_type": "code",
   "execution_count": 343,
   "metadata": {
    "collapsed": false,
    "hidePrompt": true,
    "slideshow": {
     "slide_type": "-"
    }
   },
   "outputs": [],
   "source": [
    "# testing eight different alpha levels\n",
    "rcv = linear_model.RidgeCV(alphas=\n",
    "                           (.001, .001, .01, .1, .5, 1, 5, 10),\n",
    "                           store_cv_values=True,\n",
    "                          )"
   ]
  },
  {
   "cell_type": "markdown",
   "metadata": {
    "slideshow": {
     "slide_type": "slide"
    }
   },
   "source": [
    "## Fitting our RidgeCV model"
   ]
  },
  {
   "cell_type": "code",
   "execution_count": 344,
   "metadata": {
    "collapsed": false,
    "hidePrompt": true,
    "slideshow": {
     "slide_type": "-"
    }
   },
   "outputs": [],
   "source": [
    "# fit the ridge cv model\n",
    "rcv_model = rcv.fit(X, y)"
   ]
  },
  {
   "cell_type": "markdown",
   "metadata": {
    "slideshow": {
     "slide_type": "slide"
    }
   },
   "source": [
    "## Get r<sup>2</sup>"
   ]
  },
  {
   "cell_type": "code",
   "execution_count": 345,
   "metadata": {
    "collapsed": false,
    "hidePrompt": true,
    "slideshow": {
     "slide_type": "-"
    }
   },
   "outputs": [],
   "source": [
    "rcv_r2 =  rcv_model.score(X, y)"
   ]
  },
  {
   "cell_type": "code",
   "execution_count": 346,
   "metadata": {
    "collapsed": false,
    "hidePrompt": true,
    "slideshow": {
     "slide_type": "-"
    }
   },
   "outputs": [
    {
     "data": {
      "text/plain": [
       "0.74060726698742951"
      ]
     },
     "execution_count": 346,
     "metadata": {},
     "output_type": "execute_result"
    }
   ],
   "source": [
    "rcv_r2"
   ]
  },
  {
   "cell_type": "markdown",
   "metadata": {
    "slideshow": {
     "slide_type": "slide"
    }
   },
   "source": [
    "## Retrieve the best alpha"
   ]
  },
  {
   "cell_type": "code",
   "execution_count": 347,
   "metadata": {
    "collapsed": false,
    "hidePrompt": true,
    "slideshow": {
     "slide_type": "-"
    }
   },
   "outputs": [
    {
     "data": {
      "text/plain": [
       "0.01"
      ]
     },
     "execution_count": 347,
     "metadata": {},
     "output_type": "execute_result"
    }
   ],
   "source": [
    "# this is the alpha that cv showed to have the best r^2\n",
    "rcv_model.alpha_"
   ]
  },
  {
   "cell_type": "code",
   "execution_count": 348,
   "metadata": {
    "collapsed": false,
    "hidePrompt": true,
    "slideshow": {
     "slide_type": "-"
    }
   },
   "outputs": [
    {
     "data": {
      "text/plain": [
       "13"
      ]
     },
     "execution_count": 348,
     "metadata": {},
     "output_type": "execute_result"
    }
   ],
   "source": [
    "# we can retrieve all the beta coeffs\n",
    "len(rcv_model.coef_)"
   ]
  },
  {
   "cell_type": "code",
   "execution_count": 349,
   "metadata": {
    "collapsed": false,
    "hidePrompt": false,
    "slideshow": {
     "slide_type": "-"
    }
   },
   "outputs": [
    {
     "data": {
      "text/plain": [
       "2.1251605697910847"
      ]
     },
     "execution_count": 349,
     "metadata": {},
     "output_type": "execute_result"
    }
   ],
   "source": [
    "# here we can see their mean\n",
    "abs(rcv_model.coef_).mean()"
   ]
  },
  {
   "cell_type": "markdown",
   "metadata": {
    "slideshow": {
     "slide_type": "slide"
    }
   },
   "source": [
    "## Get CV fold scores"
   ]
  },
  {
   "cell_type": "markdown",
   "metadata": {
    "slideshow": {
     "slide_type": "-"
    }
   },
   "source": [
    "Gives us the MSE (or whatever our scoring metric was) for each alpha for all samples"
   ]
  },
  {
   "cell_type": "code",
   "execution_count": 350,
   "metadata": {
    "collapsed": false,
    "hidePrompt": true,
    "slideshow": {
     "slide_type": "-"
    }
   },
   "outputs": [
    {
     "data": {
      "text/plain": [
       "(506, 8)"
      ]
     },
     "execution_count": 350,
     "metadata": {},
     "output_type": "execute_result"
    }
   ],
   "source": [
    "rcv_model.cv_values_.shape"
   ]
  },
  {
   "cell_type": "code",
   "execution_count": 352,
   "metadata": {
    "collapsed": false,
    "scrolled": true,
    "slideshow": {
     "slide_type": "-"
    }
   },
   "outputs": [
    {
     "data": {
      "text/html": [
       "<div>\n",
       "<table border=\"1\" class=\"dataframe\">\n",
       "  <thead>\n",
       "    <tr style=\"text-align: right;\">\n",
       "      <th></th>\n",
       "      <th>0.001</th>\n",
       "      <th>0.001</th>\n",
       "      <th>0.01</th>\n",
       "      <th>0.1</th>\n",
       "      <th>0.5</th>\n",
       "      <th>1.0</th>\n",
       "      <th>5.0</th>\n",
       "      <th>10.0</th>\n",
       "    </tr>\n",
       "  </thead>\n",
       "  <tbody>\n",
       "    <tr>\n",
       "      <th>0</th>\n",
       "      <td>37.206996</td>\n",
       "      <td>37.206996</td>\n",
       "      <td>37.251234</td>\n",
       "      <td>37.669189</td>\n",
       "      <td>39.115423</td>\n",
       "      <td>40.334784</td>\n",
       "      <td>43.937305</td>\n",
       "      <td>45.550298</td>\n",
       "    </tr>\n",
       "    <tr>\n",
       "      <th>1</th>\n",
       "      <td>11.979066</td>\n",
       "      <td>11.979066</td>\n",
       "      <td>11.955850</td>\n",
       "      <td>11.739225</td>\n",
       "      <td>11.029528</td>\n",
       "      <td>10.485599</td>\n",
       "      <td>9.358038</td>\n",
       "      <td>9.262169</td>\n",
       "    </tr>\n",
       "    <tr>\n",
       "      <th>2</th>\n",
       "      <td>17.396187</td>\n",
       "      <td>17.396187</td>\n",
       "      <td>17.400312</td>\n",
       "      <td>17.439275</td>\n",
       "      <td>17.574329</td>\n",
       "      <td>17.689758</td>\n",
       "      <td>18.088168</td>\n",
       "      <td>18.377968</td>\n",
       "    </tr>\n",
       "  </tbody>\n",
       "</table>\n",
       "</div>"
      ],
      "text/plain": [
       "      0.001      0.001      0.010      0.100      0.500      1.000   \\\n",
       "0  37.206996  37.206996  37.251234  37.669189  39.115423  40.334784   \n",
       "1  11.979066  11.979066  11.955850  11.739225  11.029528  10.485599   \n",
       "2  17.396187  17.396187  17.400312  17.439275  17.574329  17.689758   \n",
       "\n",
       "      5.000      10.000  \n",
       "0  43.937305  45.550298  \n",
       "1   9.358038   9.262169  \n",
       "2  18.088168  18.377968  "
      ]
     },
     "execution_count": 352,
     "metadata": {},
     "output_type": "execute_result"
    }
   ],
   "source": [
    "pd.DataFrame(rcv_model.cv_values_, columns=rcv.alphas).head(3)"
   ]
  },
  {
   "cell_type": "markdown",
   "metadata": {
    "slideshow": {
     "slide_type": "slide"
    }
   },
   "source": [
    "## Using cross_val_predict"
   ]
  },
  {
   "cell_type": "markdown",
   "metadata": {
    "slideshow": {
     "slide_type": "-"
    }
   },
   "source": [
    "[cross_val_predict](http://scikit-learn.org/stable/modules/generated/sklearn.model_selection.cross_val_predict.html#sklearn.model_selection.cross_val_predict)"
   ]
  },
  {
   "cell_type": "markdown",
   "metadata": {
    "slideshow": {
     "slide_type": "-"
    }
   },
   "source": [
    "Returns for each sample, the prediction that was obtained for that element when it was in the test set. Only cross-validation strategies that assign all elements to a test set exactly once can be used."
   ]
  },
  {
   "cell_type": "markdown",
   "metadata": {
    "slideshow": {
     "slide_type": "slide"
    }
   },
   "source": [
    "## Let's use it on our linear model"
   ]
  },
  {
   "cell_type": "code",
   "execution_count": 359,
   "metadata": {
    "collapsed": false,
    "hidePrompt": true,
    "slideshow": {
     "slide_type": "-"
    }
   },
   "outputs": [],
   "source": [
    "from sklearn.cross_validation import cross_val_predict\n",
    "\n",
    "cvp_lr_preds = cross_val_predict(lr, X, y, cv=5)"
   ]
  },
  {
   "cell_type": "code",
   "execution_count": 360,
   "metadata": {
    "collapsed": false,
    "hidePrompt": true,
    "slideshow": {
     "slide_type": "-"
    }
   },
   "outputs": [
    {
     "data": {
      "text/plain": [
       "(506,)"
      ]
     },
     "execution_count": 360,
     "metadata": {},
     "output_type": "execute_result"
    }
   ],
   "source": [
    "cvp_lr_preds.shape"
   ]
  },
  {
   "cell_type": "code",
   "execution_count": 362,
   "metadata": {
    "collapsed": false,
    "hidePrompt": true,
    "slideshow": {
     "slide_type": "-"
    }
   },
   "outputs": [
    {
     "data": {
      "text/html": [
       "<div>\n",
       "<table border=\"1\" class=\"dataframe\">\n",
       "  <thead>\n",
       "    <tr style=\"text-align: right;\">\n",
       "      <th></th>\n",
       "      <th>y_hat</th>\n",
       "    </tr>\n",
       "  </thead>\n",
       "  <tbody>\n",
       "    <tr>\n",
       "      <th>0</th>\n",
       "      <td>30.207942</td>\n",
       "    </tr>\n",
       "    <tr>\n",
       "      <th>1</th>\n",
       "      <td>24.790116</td>\n",
       "    </tr>\n",
       "    <tr>\n",
       "      <th>2</th>\n",
       "      <td>30.294281</td>\n",
       "    </tr>\n",
       "  </tbody>\n",
       "</table>\n",
       "</div>"
      ],
      "text/plain": [
       "       y_hat\n",
       "0  30.207942\n",
       "1  24.790116\n",
       "2  30.294281"
      ]
     },
     "execution_count": 362,
     "metadata": {},
     "output_type": "execute_result"
    }
   ],
   "source": [
    "pd.DataFrame(cvp_lr_preds, columns=['y_hat']).head(3)"
   ]
  },
  {
   "cell_type": "markdown",
   "metadata": {
    "slideshow": {
     "slide_type": "slide"
    }
   },
   "source": [
    "## On the regularized model"
   ]
  },
  {
   "cell_type": "code",
   "execution_count": 363,
   "metadata": {
    "collapsed": true,
    "hidePrompt": true,
    "slideshow": {
     "slide_type": "-"
    }
   },
   "outputs": [],
   "source": [
    "cvp_rcv_preds = cross_val_predict(rcv_model, X, y, cv=5)"
   ]
  },
  {
   "cell_type": "code",
   "execution_count": 364,
   "metadata": {
    "collapsed": false,
    "hidePrompt": true,
    "slideshow": {
     "slide_type": "-"
    }
   },
   "outputs": [
    {
     "data": {
      "text/plain": [
       "(506,)"
      ]
     },
     "execution_count": 364,
     "metadata": {},
     "output_type": "execute_result"
    }
   ],
   "source": [
    "cvp_rcv_preds.shape"
   ]
  },
  {
   "cell_type": "code",
   "execution_count": 366,
   "metadata": {
    "collapsed": false,
    "hidePrompt": true,
    "slideshow": {
     "slide_type": "-"
    }
   },
   "outputs": [
    {
     "data": {
      "text/html": [
       "<div>\n",
       "<table border=\"1\" class=\"dataframe\">\n",
       "  <thead>\n",
       "    <tr style=\"text-align: right;\">\n",
       "      <th></th>\n",
       "      <th>y_hat</th>\n",
       "    </tr>\n",
       "  </thead>\n",
       "  <tbody>\n",
       "    <tr>\n",
       "      <th>0</th>\n",
       "      <td>30.212783</td>\n",
       "    </tr>\n",
       "    <tr>\n",
       "      <th>1</th>\n",
       "      <td>24.784849</td>\n",
       "    </tr>\n",
       "    <tr>\n",
       "      <th>2</th>\n",
       "      <td>30.293271</td>\n",
       "    </tr>\n",
       "  </tbody>\n",
       "</table>\n",
       "</div>"
      ],
      "text/plain": [
       "       y_hat\n",
       "0  30.212783\n",
       "1  24.784849\n",
       "2  30.293271"
      ]
     },
     "execution_count": 366,
     "metadata": {},
     "output_type": "execute_result"
    }
   ],
   "source": [
    "pd.DataFrame(cvp_rcv_preds, columns=['y_hat']).head(3)"
   ]
  },
  {
   "cell_type": "markdown",
   "metadata": {
    "slideshow": {
     "slide_type": "slide"
    }
   },
   "source": [
    "## Get r<sup>2</sup>"
   ]
  },
  {
   "cell_type": "code",
   "execution_count": 371,
   "metadata": {
    "collapsed": false,
    "hidePrompt": true,
    "slideshow": {
     "slide_type": "-"
    }
   },
   "outputs": [
    {
     "data": {
      "text/plain": [
       "0.55965243464550907"
      ]
     },
     "execution_count": 371,
     "metadata": {},
     "output_type": "execute_result"
    }
   ],
   "source": [
    "cvp_lr_r2 =  r2_score(y_true=y, y_pred=cvp_lr_preds)\n",
    "cvp_lr_r2"
   ]
  },
  {
   "cell_type": "code",
   "execution_count": 372,
   "metadata": {
    "collapsed": false,
    "hidePrompt": true,
    "slideshow": {
     "slide_type": "-"
    }
   },
   "outputs": [
    {
     "data": {
      "text/plain": [
       "0.56115300367094623"
      ]
     },
     "execution_count": 372,
     "metadata": {},
     "output_type": "execute_result"
    }
   ],
   "source": [
    "cvp_rcv_r2 =  r2_score(y_true=y, y_pred=cvp_rcv_preds)\n",
    "cvp_rcv_r2"
   ]
  },
  {
   "cell_type": "markdown",
   "metadata": {
    "slideshow": {
     "slide_type": "slide"
    }
   },
   "source": [
    "## Plot the two"
   ]
  },
  {
   "cell_type": "code",
   "execution_count": 244,
   "metadata": {
    "collapsed": false,
    "hideCode": true,
    "hidePrompt": true,
    "slideshow": {
     "slide_type": "-"
    }
   },
   "outputs": [
    {
     "data": {
      "image/png": "iVBORw0KGgoAAAANSUhEUgAAA7QAAAH5CAYAAACxnnI1AAAABHNCSVQICAgIfAhkiAAAAAlwSFlz\nAAALEgAACxIB0t1+/AAAIABJREFUeJzs3X94XOV95/2P7NhYjpNYExmQGYqngE43PCkmjedJnWDT\nJ3Uf45VjZdvoQNKGxGWfotltd7fJXhDYbZNucTBZ2qvbbdRuiwu0+Fe2xcJeTKqkteOut2uR2jSG\n7S0rFcRjK4CORljmh+Xg8/wxPzxzNL81ozln5v26Ll1oZs6cuc9I8s13vt/7e7e5risAAAAAAIJm\nQaMHAAAAAABANQhoAQAAAACBREALAAAAAAgkAloAAAAAQCAR0AIAAAAAAomAFgAAAAAQSO9q9ACA\nZmBZ1nWSThpj3pPnsa9IOmWM+fN5HtOXJf2GpK3GmMey7l8q6RVJf2OM+UQF53u/pNeMMUU/CLMs\n608lfc8Y8zvVjBsAgFqyLOuSpO9JuiTJlbRU0uuS+o0xf29Z1q9Iep8x5uE8z52WdJMx5gc1GMdd\nkv5U0m8ZY77seeyfJJ03xvxkhecsOT7Lsn5T0vuNMb9W+agB/yOgBWon76bOxpjfnO+BpLiSXpb0\ni5Iey7r/5yVNV3G+NhW4RgAAfMyVdJsxJpG+w7KsL0j6r5LWGmP+qMRza+kHkj4j6ctZY7lVUruk\n81Wcj3kZLY+AFqiz7IylZVlvSXpI0gZJXZL+izHm91LHbZUUUzJwdCT9qjHGWJZ1o6Q/kPRuSSsl\nnZBkG2NmLMt6W9KgpJ+U9BljzN97Xv6bkrZYlrXSGHM2dd9dkv5c0k+kXve9qfOvVvLT62clfckY\nc8myrH8h6bclvSHpOc91ecf7r40xI3N/xwAAqKm21JckybKshZJ+TNJE6vZvSuo0xvxqKrj8L0rO\nh88pa3meZVn3Sdoq6ZykI5J6jTERy7IWSdouaZ2khZKOS/o1Y0y+APV7ksKWZX3EGPN3qfvukvRn\nkjamXuddkn5H0scl/UjS/5b074wxb5QYX4+k/yBpkaQ3JX3RGPO/q3rHgABhDS0wv66Q9Kox5mOS\nPiXpIcuyFluWtV7JCe1jxpifkvQ1SX+Zes6/lPSYMeajkm6U9OOS/nnqscWSBo0x/yxPMCtJFyXt\nVTJLK8uyrpW0TNLJrGN+X9KEMeaDkj4s6WZJX7Qs60pJj0r6pDFmjZLZXqXOk2+8T83hfQEAoJ7+\nxrKsE5ZlnZE0omRmc2vW424qMN2rZPD4U5L+RsnMqSzL+n8lfVbSTxljPizpPbqcHb1P0kVjzIeN\nMbdIGlcywM3HlfRE6lyyLKtd0seU/DA57T8q+aH3B40xNysZJH+txPhukLRN0u2px35F0lOp8wNN\njYAWmH9PS1IqAF2sZOZ1k6TrJR21LOu4pIclLbcsa7mkeyVNWJb17yUNKDnJLcs6398Wea30xPmZ\n1O1fSt1uyzpmo5JlVzLGXJT0h6nxfEzSPxhjTOq47JKsYuMFAMBvbjPGrFbyA+F2SUeNMROeYz4o\nacYYc0iSjDG7dXmJzu2SvmGMSd/+g6zn9ShZDXU8NSduUaoKqoCdkv5FKlP8SSX/v+CdrMc3SvpD\nY8yl1O3fT71+sfFtkHS1pG+nxvCkktndG4qMA2gKBLTA/HvLc7tNyU9f/8wY8yFjzC2pT3jXGGOm\nJO1WMkv7kpIlSMeVG5AWXXNjjPmupIWWZd0syVZyIs3m/XdggZLLES55HsuebIuNFwAAv2mTJGPM\nCUm/LulRy7J+zHOMq9lzYnru+5Fy595LWd8vlPRvsubDqJJVWHkZY16R9F0lg+u7lNvnQnnGsFDJ\nMmLvvJw9voWSvu2Zl9dKeqHQOIBmQUAL1E5b6UMKPuevJN1pWdbVkmRZVkzSt1OP/ZySHRG/kTr+\n/1Zy4qrEn0v6XUkmT9D5TUn/KvW6V0j6/1Lj+VtJH7As64Op4z6X9Zxi4wUAwLdSmc2jkn7P89D3\nJMmyrPRa1k9ISlce/Q9JP5/qOyFJv6zLJcfflPSvLctaZFnWAiWX63y1xDD+TNIXJL3XGPOi57Fv\nSrrHsqx3pc4XU3LePVlkfH8t6ecsy7JSj22S9LySS52ApkZAC9TOUsuyzqW+plP/vUm5HQi93Qhd\nSTLG/JWS622GLMs6IekOJcuQJOlLkvZZlnVM0tclHdLlEqJyuxv+uaRbldwuwOvXJF1lWdb3lJz8\n/o+kbalSrE9L2mlZ1nOSrks/ocR46bgIAPCTfPPSr0raaFnWhvQdxpgfKTmX/bZlWX8vqVfSq6nH\n/kbSnyi51OaYkmto30w99T8pWUV1XMmg01UyWC1mn5INHZ/I89hvS/qhkk0gX1CyaurfpsbXW2B8\nLyr5gfTuVMnxVyRtNsZ4q8KAptPmuvX9f0/Lst6n5D8A/5eSpRJblVyMv0fJ/0F+SVKfMeb1ug4E\nAABIYm4GKmVZ1k8pucXP76du/ztJUWPMnY0dGYD5yND+nqRnjDH/TMnuqf+oZDe4bxljLCVLJL40\nD+MAAABJzM1AZUYk3WpZ1vcsy/oHSf+PkmtxATRYXTO0qXUGx40x13vu/0dJ640xr6TW4B0yxhTr\nBgcAAGqAuRkA0EzeVefzR5TcbuRPlfwE+DlJ/1bSVakObzLG/DC132VBqUY1a5Tc1+udYscCAFCG\nhUpugTVsjLnQ6MHMM+ZmAIAfVTU31zugfZekD0n6V8aY5yzL+l0lS5ryNsYpYo2kI3UYHwCgtd2q\n4ns5NyPmZgCAn1U0N9c7oI1LOm2MeS51+y+UnDRfsSzrqqyypldLnGdckp588kldffXV9RstAKAl\n/PCHP9RnPvMZKTW/tBjmZgCA71Q7N9c1oE1Niqcty+o2xoxI+riS7cdfUHJPy+1Kbig9WOJU70jS\n1VdfrXA4XMcRAwBaTMuVyjI3AwB8rqK5ud4ZWim5x+WTlmUtkvRPkj6vZH30Xsuytkp6WVLfPIwD\nAAAkMTcDAJpC3QNaY8zzSq6z8frZer82AACYjbkZANAs5mMfWgAAAAAAao6AFgAAAAAQSAS0AAAA\nAIBAIqAFAAAAAAQSAS0AAAAAIJAIaAEAAAAAgURACwAAAAAIJAJaAAAAAEAgEdACAAAAAAKJgBYA\nAAAAEEgEtAAAAACAQCKgBQAAAAAEEgEtAAAAACCQCGgBAAAAAIFEQAsAAAAACCQCWgAAAABAIBHQ\nAgAAAAACiYAWAAAAABBIBLQAAAAAgEAioAUAAAAABBIBLQAAAAAgkAhoAQAAAACBREALAAAAAAgk\nAloAAAAAQCAR0AIAAAAAAomAFgAAAAAQSAS0AAAAAIBAIqAFAAAAAAQSAS0AAAAAIJAIaAEAAAAA\ngURACwAAAAAIJAJaAAAAAEAgEdACAAAAAAKJgBYAAAAAEEgEtAAAAACAQCKgBQAAAAAEEgEtAAAA\nACCQCGgBAAAAAIFEQAsAAAAACCQCWgAAAABAIBHQAgAAAAACiYAWAAAAABBIBLQAAAAAgEAioAUA\nAAAABBIBLQAAAAAgkAhoAQAAAACBREALAAAAAAgkAloAAAAAQCAR0AIAAAAAAomAFgAAAAAQSAS0\nAAAAAIBAIqAFAAAAAAQSAS0AAAAAIJAIaAEAAAAAgURACwAAAAAIJAJaAAAAAEAgEdACAAAAAAKJ\ngBYAAAAAEEgEtAAAAACAQCKgBQAAAAAEEgEtAAAAACCQCGgBAAAAAIFEQAsAAAAACCQCWgAAAABA\nIBHQAgAAAAACiYAWAAAAABBI76r3C1iW9ZKk1yVdknTRGBO1LKtD0h5J10l6SVKfMeb1eo8FAAAw\nNwMAmsd8ZGgvSbrNGHOLMSaauu8+Sd8yxliS/lrSl+ZhHAAAIIm5GQDQFOYjoG3L8zpbJD2e+v5x\nSb3zMA6gpCnH0S7b1v5oVDttW1OTk40eUl6VjtNv11Xr8fjh+qYcR49/8pN6LBTS10Ih/XFvr14e\nHc07rmLjreRa0sfuuuUWffXaa/XUhz6kx3p79Se9vTnPL/ecjX4fG/36LYa5GYHhOI5s21Y0GpVt\n25r06b8NlY7Tb9dV6/H45fpOnTqla6+9Vu9+97t17bXX6rnnnss7rmLjreZnu2XLFoVCIYVCIW3a\ntEm9vb05zy/3nI1+Hxv9+mVxXbeuX93d3f/U3d39993d3cPd3d13p+5LeI6ZLHGOVd3d3e7p06dd\noJ529vW5lyTXldxLkruzr6/RQ8qr0nH67bpqPR4/XJ93DE9K7lfD4bzjKjbeSq4lfezO1LHZr539\n/HLP2ej3cT5f//Tp0253d7fb3d29yq3zPOjHL+ZmBElfX58rKfPV59O5udJx+u26aj0ev1xfOBzO\nGUd7e3vecRUb71x/tt6vvr6+ss/Z6PdxPl+/2rm57mtoJX3UGDNuWdYKSX9lWZZJvSHZvLeBhlg2\nNqa21Pdtqdt+VOk4/XZdtR6PH67PO4b3SFo5OZl3XMXGW8m1pI9dljo2+7W9zy/nnI1+Hxv9+i2G\nuRmBMeb5t8B72y8qHaffrqvW4/HL9Xkzim+//XbO7fS4io13rj/bch4v9JxGv4+Nfv1y1L3k2Bgz\nnvrva5L2SYpKesWyrKskybKsqyW9Wu9xAOWYjkQy/wfnSjofiTRyOAVVOk6/XVetx+OH6/OOYVrS\nmVAo77iKjbeSa0kfOy3Neu3s55d7zka/j41+/VbC3IwgiXj+LfDe9otKx+m366r1ePxyfaFQKOf2\nkiVLcm6nx1VsvHP92eZ7vNxzNvp9bPTrl6OuGVrLspZKWmCMOW9Z1rsl/Zykr0h6WtLnJG2XdJek\nwXqOAyjXpoEB7VYyM3Q+EtHtAwONHlJelY7Tb9dV6/H44fo2DQzoiZkZuYcPa0LS8nXr9OlHHtHu\n+++fNa5i463kWtLHto2MaPvEhKwVK3Tuuut00XW1/+zZnOeXc85Gv4+Nfv1WwdyMoBlI/VswNjam\nSCSSue03lY7Tb9dV6/H45foOHTqk2267TZOTkwqFQtq3b58efvjhWeMqNt5qfrYXLlzQd77zHUnS\nT//0T2vRokU6e/bsrOeXOmej38dGv3452ly3fhVFlmVFJD2l5Ift75L0pDHmIcuyQpL2SrpW0stK\nbg0wVeQ8qySNffvb31Y4HK7beAEArSEej+vjH/+4JEWMMS81eDjzirkZAOBH1c7Ndc3QGmPGJK3O\nc/+kpJ+t52sDAIDZmJsBAM1kPrbtAQAAAACg5ghoAQAAAACBREALAD4z5TjaZdvaH41qp21ryo+b\nmAMA0EIcx5Ft24pGo7Jte9Z2QGic+diHFgBQgYOxmO7Yu1dtktzhYe2WdOeePY0eFgAALSsWi2nv\n3r2SpOHhYUnSHuZmXyBDCwA+s2xsTG2p79tSt2uJDDAAAJUZ88zF3ttzRQa4emRoAaBKU46jg7GY\nlo2NaToS0aaBAS33bOBejelIRO7wcDJDK+l8jTcxJwMMAGhWjuMoFovl7JsaqsHcHIlEMpnZ9O1a\nIgNcPQJaAKhSvQLDTQMD2q1kZvZ8JKLba7yJeb0zwAAANEq9AsOB1FycHSjXUr0zwM2MgBYAqlSv\nwHB5KFTXjGm9M8AAADRKvQLDUChU14xpvTPAzYyAFgCqFNTAsN4ZYAAAGiWogWG9M8DNjIAWAKoU\n1MCw3hlgAAAaJaiBYb0zwM2MgBYAqkRgCACAvxAYth627QEAAAAABBIBLQAAAAAgkAhoAQAAAACB\nREALAAAAAAgkAloAAAAAQCAR0AIAAAAAAomAFgCyTDmOdtm29kej2mnbmpqcbPSQAABoaY7jyLZt\nRaNR2batSeZmZGEfWgDIcjAW0x1796pNkjs8rN0Se80CANBAsVhMe/fulSQNDw9LEnvNIoMMLQBk\nWTY2prbU922p2wAAoHHGPHOx9zZaGwEtAGSZjkTkpr53JZ2PRBo5HAAAWl7EMxd7b6O1UXIMAFk2\nDQxot5KZ2fORiG4fGGj0kAAAaGkDqbl4bGxMkUgkcxuQCGgBIMfyUIg1swAA+EgoFGLNLAqi5BgA\nkEGXZwAA/IUuz8WRoQUAZNDlGQAAf6HLc3FkaAEAGXR5BgDAX+jyXBwBLQAggy7PAAD4C12ei6Pk\nGAB8YspxdDAW07KxMU1HIto0MKDlodC8joEuzwAAXOY4jmKxWE6H5dA8z810eS6OgBYAfMIP61fp\n8gwAwGV+WL9Kl+fiKDkGAJ9g/SoAAP7C+lX/I6AFAJ9g/SoAAP7C+lX/o+QYAOqoknWxrF8FAKD+\nKlkXy/pV/yOgBYA6qmRdLOtXAQCov0rWxbJ+1f8oOQaAOmJdLAAA/sK62OZCQAsAdcS6WAAA/IV1\nsc2FkmMAqCPWxQIA4C+si20uBLQAUEesiwUAwF9YF9tcKDkGAB+Zchztsm3tj0a107Y1NTnZ6CEB\nANDSHMeRbduKRqOybVuTzM2+QoYWAHykkq7IAACg/irpioz5R4YWAOqkmmwrXZEBAKifarKtdEX2\nNzK0AFAn1WRbpyMRucPDyeeIrsgAANRSNdnWSCSSOTZ9G/5BhhYA6qSabOtHH3xQ28NhPbF0qR4K\nh7V227a6jhEAgFZSTbb1wQcfVDgc1tKlSxUOh7WNudlXCGgBoE6q2YP26AMP6N54XJ99803dF4/r\n6P3313WMAAC0kmr2oH3ggQcUj8f15ptvKh6P637mZl+h5BgA6qSaPWhZQwsAQP1Uswcta2j9jYAW\nAGpsynF0MBbTsrExuZGIbn32WS0Phcp6LmtoAQCoPcdxFIvFMoHss88+q1CZczNraP2NgBYAamwu\nW+9Uk9UFAADFzWXrnWqyupg/BLQA5l12BnM6EtGmgYGyM5hBMJey4eWhEPvOAgDmnTeDOTAwUHYG\nMwjmUjYcCoXYd9bHCGgBzLu5ZDCDgLJhAEDQzCWDGQSUDTcvAloA867ZGx9RNgwACJpmb3xE2XDz\nIqAFMO+aPYNJ2TAAIGiaPYNJ2XDzIqAFMO/IYOZq9jXFAAD/I4OZq9nXFDcTAloA844MZq5mX1MM\nAPA/Mpi5mn1NcTNZ0OgBAECra/Y1xQAABE2zryluJgS0ANBg05GI3NT3zbimGACAoPGuIW62NcXN\nhJJjAGgw1hQDAOAvrCkODgJaAKixSps8saYYAID6qrTJE2uKg4OAFgBqjCZPAAD4C02emhdraAGg\nxmjyBACAv9DkqXkR0AJoSVOOo122rf3RqHbatqYmJ2t2bpo8AQBQOcdxZNu2otGobNvWZA3nZpo8\nNS9KjgG0pHqWBdPkCQCAytWzLJgmT82LgBZAS6pnWTBNngAAqFw9y4Jp8tS8KDkG0JIoCwYAwF8o\nC0Y1yNACaEmUBQMA4C+UBaMaBLQAWhJlwQAA+AtlwagGJccAAAAAgECalwytZVkLJD0nKW6M+YRl\nWR2S9ki6TtJLkvqMMa/Px1gAAABzMwCgOcxXhvbfSHox6/Z9kr5ljLEk/bWkL83TOAAAQBJzMwAg\n8Ooe0FqWFZa0SdKfZN29RdLjqe8fl9Rb73EAAIAk5mYAQLOYjwzt70r691JmhwxJusoY84okGWN+\nKOnKeRgHAABIYm4GADSFuga0lmX9c0mvGGNOSGorcqhb5DEA8K0px9Eu29b+aFQ7bVtTk5ONHhJQ\nFHMzgGbnOI5s21Y0GpVt25pkbm5q9W4K9VFJn7Asa5OkdknvsSzrzyT90LKsq4wxr1iWdbWkV+s8\nDgCoi4OxmO7Yu1dtktzhYe2W2A4IfsfcDKCpxWIx7d27V5I0PDwsSWwH1MTqmqE1xtxvjPkxY8yP\nS7pD0l8bY35J0n5Jn0sddpekwXqOAwDqZdnYWCbF1Za6DfgZczOAZjfmmYu9t9FcGrUP7UOSNliW\nZSR9PHUbAAJnOhLJ1GW6ks5HIo0cDjAXzM0AmkLEMxd7b6O5zMs+tJJkjDks6XDq+0lJPztfrw0A\n9bJpYEC7lczMno9EdPvAQKOHBJSNuRlAMxpIzcVjY2OKRCKZ22hO8xbQAkAzWh4KsWYWAAAfCYVC\nrJltIY0qOQYAAAAAYE4IaAEAAAAAgURACwB1xl61AAD4C3vVNg/W0AJAnbFXLQAA/sJetc2DDC0A\n1Bl71QIA4C/sVds8CGgBoM7YqxYAAH9hr9rmQckxANQZe9UCAOAv7FXbPAhoAaDO2KsWAAB/Ya/a\n5kHJMQBUie7FAAD4C92LWw8ZWgCoEt2LAQDwF7oXtx4ytABQpVLdi8ngAgAwv0p1LyaD23zI0AJA\nlaYjEbnDw8kMrWZ3LyaDCwDA/IpEIpnMbPp2NjK4zYeAFgCqtGlgQDvefluJI0fUKUkXLmhqclLL\nQyFJ7D8LAMB8GxgY0Ntvv60jR45Iki5cuKDJyUmFUnMz+882H0qOAaCIYmXDy0MhLV2yRF9IJPS5\nREJ3DQ7qYH9/5nH2nwUAoPaKlQ2HQiEtWbJEiURCiURCg4OD6s+am9l/tvmQoQWAIkqVDRfLwrL/\nLAAAtVeqbLhYFpb9Z5sPAS2AljPlODoYi2nZ2JimIxFtGhjIlAl7lSobLraOlv1nAQAoj+M4isVi\nOYFmqMDcXKpsuNg6WvafbT4EtABaTiXNmko1fiILCwDA3FXSrKlU4yeysK2FgBZAy6mkWVOpgJUs\nLAAAc1dJs6ZSAStZ2NZCQAug5ZTKumYrFbBWUr4MAADyK5V1zVYqYK2kfBnBR0ALoOVUWyacL3hl\nr1kAAOau2jLhfMEre822FgJaAL5QKtNZy0xotWXC+YJX9poFADSrYpnOWmdBqy0Tzhe8stdsayGg\nBeALpTKdfsiE5gteveXLr3Z1aZdtU4IMAAi8YplOv2RB8wWv3vLlrq4u2bZNCXKTIqAF4AulMp1+\nyITmW3vrLV92z5/PCbyfmJnRXU89Ne9jBQBgroplOv2SBc239tZbvnz+/Pmc4HtmZkZPMTc3DQJa\nAL5QqlFTJY2c6iXf2ltv+fJjoVBO4O0ePjzv4wQAoBaKNWqqpIlTPeVbe+stX/ZmYw8zNzcVAloA\nvlCqUZMf9nstZ+3ta0oG3OnAe2IexgUAQD0Ua9Tkl71e2aIHBLQAfKFUsBiU/V6Xr1unXYODeo+k\n6dRtAACCqFiwGKRAct26dRocHMy5jeaxoNEDAID5NuU42mXb2h+Naqdta2pysmbP+9SOHWrr65PW\nrFFbX59+YceOWg8fAICm4ziObNtWNBqVbduaLHNuLud5O3bsUF9fn9asWaO+vj7tYG5uKmRoAbSc\najsml/O8oGSSAQDwk2q7JpfzvCBlk1E5MrQAWk61HZPr1Wm52owxAADNotquyfXqtlxtxhjzj4AW\nQMuZjkTkpr6vpGNyqedVG5imM7+bh4d15969OtjfX9bzAABoFt4uyeV2TS71vGoD03Tmd3h4WHv3\n7lU/c7NvUXIMoGlNOY4OxmJaNjam6dSesctDoao7Jpd6nrckefvRo7I6O/WPExNa1dkpt7s7M4Zs\nfthjFwCA+eA4jmKx2Kxtdqrtmlzqed6S5KNHj6qzs1MTExPq7OxUd3d3ZgzZ/LLPLkojoAXQtAqt\nea12nWup53kD0w/E4/pEPC5X0u54XHeeOJF33a0f9tgFAGA+FFrzWu0611LP8wai8Xhc8Xg88/2J\nEycyY8jml312URoBLYCmtWRkJCfAXHLqVF1fzxuYviBpnaTlkpapcPbVD3vsAgAwH0ZGRnJun6rz\n3OwNTPPJl331yz67KI2AFkDT+seJCblSJsA0r71W19fbNDCg7UeP6gPxuN6QdI+kg5LukHRehbOv\ndEYGALSKiYmJnNuv1XluHhgY0NGjRzNZ2XzyZV/pjBwcBLQAmtaqzk7tjse1TMmA8rrOzrq+3vJQ\nSDd1dWlz1qQ5096u7e9/v67r7NTu7m6yrwCAltbZ2ZkTXHbWeW4OhULq6urKec329na9//3vz1lD\ni+AioAXQtNzubt154kQmQ7u7u7vur+ktO168ebPu4xNeAAAkSd3d3Zl1q+nb9eYtO968eTPZ1yZC\nQAugaTVibSrrYQEAKKwRa1NZD9vcCGgBNK1GrE1lPSwAAIU1Ym0q62Gb24JGDwAA/GrKcbTLtrU/\nGtVO29ZUmZuxAwCA+nAcR7ZtKxqNyrZtTTI3tzwytABQQKF9bAEAQGMU2scWrYsMLQAUsGxsLGcf\n23x7yAIAgPnj3TM23x6yaC0EtAB8rZFlv9ORiNzU94X2kK0W5cwAgKBqZNmvd8/YfHvIVoty5mCi\n5BiArzWy7LeeHYsH775bn923L3NdT8zM6K6nnqrZ+QEAqJdGlv3Ws2Px3XffrX379klKXtfMzIye\nYm72PQJaAL42n2W/U46jg7GYlo2NaToS0aaBgboFz+7hwznX5R4+XPHYlodCdRkbAADFzGfZr+M4\nisViOQFsvYLnw5652Hu71LhCzMsNQUALtKigBEjTkYjc4eFk0Kfalv2mpd+LC0NDWpRI6FZJ76tz\nNvg1Ja8nfV0TPhobAKAxghIkRSKRTGY2fbvW0u/F0NCQEomEJP80gXIcR6tXr1Y8Hpfkn3G1KgJa\noEUFpYNvrcp+iwXwOe+FlHwvVN9s8PJ167RrcFDvkTSdup1PI8YGAGiMoHTwrVXZb7EAPvu9yFbP\nbPC6des0ODiYczufWCyWCWbnY1wojoAWaFFB6eC7PBSqSaBdLICf9V6oftngtE/t2KGD/f3S2Jja\nIhH9QoH/GWjE2AAAjRGUDr6hUKgmgXaxAL7QtdcjG5y2Y8cO9ff3lwzU842tnuNCcXQ5BlpUPTv4\n+lGxAN77Xjz/3vdqezisJadO1a0DcTpQ33zsmO7cs6dgubd3bKajQ7v7+mraoAoA4A/17ODrR8UC\neO+1v/e971U4HNapU6fq1oE4HagfO3ZMe/bsKVju7R1bOByuaXMqVIYMLdCi6tnB14/yrcVNlyG3\njYzooXBYP7Fihd6+8UZdOzOT7EAcj8s9fryh5djen9PdPl3rDACYu3p28PWjfGtx02XIIyMjCofD\nWrFihW688UbNzMxo3759isfjOn78uKTGlWPn+zn5ca1zqyCgBVpUrUp5gyJfAH+wvz93feratbpz\nzx7tj0bW8CpBAAAgAElEQVR9U45d7s8pKE2+AACF1aqUNyjyBYb9/f05a2fXrl2rPXv2KBqN5jy3\nkeXY5f6cgtLkK+gIaAG0hOzAcMpxdLC/XxcPHNAuSZskLdflwHU+OivXWlCafAEAkJYdGDqOo/7+\nfh04cCDnmHTgOh+dlWstKE2+go6AFkDLydc5+A5dDlyDWI4dlCZfAADkU6ircTpwDWI5dlCafAUd\nAS2AluMN/i4uXardPT2ZwLVUma+3vPejDz6oow880NBy3yBmlQEASPMGe0uXLlVPT08mcC1V5ust\n733wwQf1wAMPNLTcN4hZ5SAioAXQcrzB36KenorKc73lvduPHtW98XhDy32DmFUGACDNG/z19PRU\nVJ7rLe89evRoZq/YRpX7BjGrHEQEtABaTnbwN3nNNbp44YL2R6NlZ1e9Gd6Vk5MNL/dttSZfAIDm\nkh38XXPNNbpw4YKi0WjZ2VVvhte7rU8jyn1brclXoxDQAmhKhbr+TjmOBu++W+7hw4pLmo7H9ZXx\n8Yqyq94M7ynXlStR7gsAQBGFuv46jqO7775bhw8fliTF43GNj49LKj+76s3wuq4763E0p4IBrWVZ\nl5T8fzNJmeRDmmuMWVi3UQHAHBXq+nswFkvuMavkP3CPSBVnVzcNDGj70aP6QDyuNyT98ltvaXs4\nrJu6uij3RV0xNwMIskJdf2OxmPbt21fweeVkVwcGBnLKjN966y2Fw2F1dXVR7tvkCga0xpgF8zkQ\nAKilQl1/vfd3ShVnV5eHQrqpq0ubU5OmpOTtY8dqNn4gH+ZmAEFWqOtvqYC1nOxqKBRSV1dXJqCV\npK6uLh1jbm56JUuOLcu6UtJnJC1T8v/5FkqKGGM+W+exAcAshUqJvQp1/fXe3yZpezgsq7NTZmJC\n142MaKdtl1xLS1dhNBJzMwA/KVRK7FWo66/3fkkKh8Pq7OzUxMSERkZGZNt2ybW0dBVuTeWsof1L\nSd+X9BFJ+yT9nKTn6zkoACikUCmxV6Guv5sGBvTEzIzcw4c1IWn5unW6Z8cOHezv170nTuj1eFzP\nnDihfUNDWrxhQ8HAlq7CaDDmZgC+UaiU2KtQ19+BgQHNzMxk1tCuW7dOO3bsUH9/v06cOKF4PK4T\nJ05oaGhIGzZsKBjY0lW4NZUT0HYaYz5mWdZ/VnIC3SbpW/UdFgDkV6iU2KtQ19/loZDueuqpguc9\nKOlOSW2JhNy9ewsGzHQVRoMxNwPwjUKlxF6Fuv6GQiE9lWdu9p4nkUhkAudC56GrcOspZy1OIvVf\nI+lmY8zrkhbVb0gAUNh0JJLpiONKemF8XPujUe20bU15WvRXc950/aZS/70wNDSn8wJ1wtwMwDe8\npb3j4+OKRqOybXvW9jlzOW/a0NDQnM6L5lJOhvavLcv6hqQvSvory7I+JOnt+g4LAPLLLvV9YXxc\nvxKPqyMeL3vLnVLnjQ8NqSeRyKyNXZxI6GB/P9lY+A1zMwDfyC71HR8fVzweVzweL3vLnVLnHRoa\nUiKRyNyfSCTU399PNhaSysjQGmMekHSfMeZlJSvxjKRP1ntgAJBPutR387FjuqmrSx2p+8vdcmfK\ncbTLtmdlddPn/Zejo3qko0P7Je2WtKnM8wLzibkZgJ+kS32PHTumrq6unMfK2XLHcRzZtj0rq5s+\n7+joqDo6OnKeU8550RrK6XL82dR/P5q6y5G0QdITZTz3CknfkbQ49Vr/3RjzFcuyOiTtkXSdpJck\n9aXKpQCgbNV0Gi7VVGp5KKSVGzaoZ+9evS7pGUkzo6NldT4G5gtzMwC/qqbTcKmmUqFQSBs2bMgc\nIyXLmicnJ4t2PUZrKKfk+Geyvl8k6VYlJ8KSk6Yx5oJlWT9jjHnTsqyFkv6nZVkHJf28pG8ZYx62\nLOteSV+SdF/lwwfQyqrpNFxOU6n0ec8MDekLiUTJBlFAAzA3A/ClajoNl9NUamBgQEePHs3sMxuP\nxyk7hqTySo4/n/X1i5JukXR1uS9gjHkz9e0VSgbQrqQtkh5P3f+4pN6KRg2gYQqV7DZCukz41oMH\nJUlHNm4sOSZvU6l8Wd30ea0bbigZ/Prp/UDrYG4GkK1QyW4jpMuED6bm5o0bN5YckzeLmy+rGwqF\nyi5n9tP7gforJ0PrdV7SqnIPtixrgaTvSrpe0h8YY4Yty7rKGPOKJBljfpjaIB5AAJS7D6xfx5Qv\nqzvlODoYi2nZ2JimI5FMaXE5Jc1+fD/QkpibgRZW7j6w86mSMeXL6jqOo1gslnNfueXMfnw/UD/l\nrKH9GymT0GiT9ONKLisrizHmkqRbLMt6r6SnLMu6Ket8ad7bAHyq3H1g66FQ4FnJmPLtH7vLtvMG\npeUEv+2nTjXs/UDrYm4GkK3cfWDrIV/gGQqFKhpTvv1jbdueFZQWKmf2juHUqVNlvzaCr5wM7Zez\nvnclTRhjXqz0hYwx5yzLOiRpo6RX0p8EW5Z1taRXKz0fgMaophFTrRTKhs51TIUC4nKC34fCYbmp\n5833+4GW9uWs75mbgRZXTSOmWimUDZ3rmPIFxPkC33xjCIfDOY/P5/uB+VdOQPsLxphfzb7DsqzH\njTF3lXqiZVmdki4aY163LKtdyQ6MD0l6WtLnJG2XdJekwUoHDmB+pTOTbSMjeigc1k+sWKG3b7xx\nViOmQlnUWigUeFbTHCpbJQGxdwyrOju1e+3aql8bqBJzMwBJyezkhQsXMtvarF+/flYjpkJZ1Foo\nlImtpjlUtkoCYu8YOjs7tXbt2qpfG8FSMKC1LOtPlCxh+nCqFCltkaT3lXn+LkmPp9bqLJC0xxjz\njGVZfydpr2VZWyW9LKmvqtEDmDc52VFJu9euzbtWtJ5rSgsFnvkyqcV4g+6PbttWdkDsHYO6u1kz\ni3nD3AzAKxaLaXDw8udPixcvnhWs1nNNaaHAs1A2tRBv0L1t2zZJ5QXE3jF0d3ezZraFFMvQ/raS\nDSZ+T8nSpnRS4keS/k85JzfGfE/Sh/LcPynpZysYJ4AGK3edaj3X2M41E5s2l6C7VmMAqsTcDCBH\nOWtV67nGdq6Z2LS5BN21GgOCqWBAa4x5SdJLlmV9TNJnjTF/YFnWNZJ+RdLxeRofAJ8otyy3nmts\n55qJzddE6nUl95vdH42WVSJd6RiAWmJuBuBVTmluPdfYzjUTW6iJ1NDQkKLRaFkl0pWOAc2lnDW0\nT0r6h9T300qWJ/2ZkhuwA2gR5WYm/ZTBLNVE6nVJA5JuSiQ0PTys24eHdVCVl0jXc90wUABzMwBJ\n5WUn/ZTBLLeJVCKR0PDwcNUl0vVcNwx/KSegvc4Y8wkp2Q1R0n+wLOtEfYcFwG/KzUz6KYNZqonU\nmaEh3ZdIXF4XrOpKpNmLFg3A3AxAUnnZST9lMEs1kRoaGlIikSj6nHKwF23rWFDGMa5lWR9M37As\n6yckXazfkAAE1ZTjaJdta380qp22ranJyYaeZzoSyWyk6UqavOYa7bJtHdm4Ua6k61etygl4363q\nSqQbuTcvWhZzM4CyOI4j27YVjUZl27Ymq5xTa3Ueb7nzNddcI9u2tXHjRknSqlWrSj6nHI3cmxfz\nq5wM7RclDVmWFU/dXiHpF+s3JABBVatM5V9s3ar2p5+WUuf57xcu6O59+yo+j7f8+eKFC/pskT1k\nXwyHdU8VZViN3JsXLYu5GUBZapWp3Lp1q55Ozc3Dw8O6cOGC9lUxN3vLny9cuFB0D9lwOFxViXQj\n9+bF/CoZ0BpjvmVZ1o9JulnS7amvg5KW1XlsAAKmVpnKxJEj2qrLgeYj3/lOVefxlj/vj0aL7iF7\nT5lrX+ey7Q9QC8zNAMpVq0zlkSNHcm5/p8q52Vv+HI1Gcx7Pt4dsOWtf57LtD4KtZEBrWVZEye6J\nn5e0XNKDkj5R53EBCKBaZSo7pZzAszPPMcUaMRV6rFZ7yLJmFo3G3AygXPOZqSzWiKnQY7XaQ5Y1\ns62rYEBrWdYnJd2j5F51TylZyvTHxpjfmqexAQiYmnU4XrdO7uBgJvBsW79+1iHFgspCj+UbXzUd\nilkzi0ZhbgZQqVp1OF63bp0GBwczt9fnmZuLBZWFHss3vmo6FLNmtnUVy9D+haRvSPppY8yoJFmW\ndWleRgUgEPIFg7XIVPbu2KHd/f2ZwHNL1uSbfs2LBw4UDCoLBZz5OjDvsu2Ks62smUUDMTcDKCpf\nMFiLTOWOHTvU39+fNzBOv+aBAwdynpMdVBYKOPN1YLZtu+JsK2tmW1exgPYnJX1O0t9alvWSpF0l\njgfgc7XeL7VepbfFtv5Jv+YuKaehU3ZQWUnA6Q1+l4yMaJdtF32P/LTXLloOczPQZGq9X2q9Sm+L\nbf2T/ZrZsoPKSgJOb/A7MjIi27aLvkd+2msX86vgJGiMOSnpi5Zl3SupR8kJ9CrLsv6HpD8wxjwz\nP0MEUCu1DkAbUXqbfs1NSu4be3HpUi3q6ckJKisJOL3Br5mY0L0nThR9j/y01y5aC3Mz0HxqHYA2\novTW+xpLly5VT09PTlBZScDpDX4nJiZ04kRyq+1C75Gf9trF/Cqny/E7kgYlDVqWtULSL0n6qiQm\nTSBgah2ANqL0Nv2ayyXdIWl3T8+cAk5v8HvdyIja4smdUFgfC79ibgaaR60D0EaU3npfs6enZ04B\npzf4HRkZUTwezzzO+lhkq6hMyRjzmqTfSX3BB2pdQormNtcANN92NU/MzMg9fFgTkt534YKmJifr\n+jtY63Jfb/C707blpjO0quw94u8RjcDc7D+1LiFFc5tLAJrvd21gYEAzMzM6fPiwJOnChQuanJys\n6+9grct9vcGvbduZDK1U/nvE32JrYN1NwLF9CCox12Aw3+/b4sWLdUcikbxvcFC7+/vr+jtY73Lf\nubxH/D0CkNg+BJWZSzBY6Hdt8eLFSiQSkqTBwUH19/fX9Xew3uW+1b5H/C22BgLagGP7EFRirsFg\nod+3ZvodnMt7xN8jAIntQ1CZuQSDhX7Xmu13sNr3qNneB+S3oNEDwNxMRyJyU9+zfUjzmnIc7bJt\n7Y9GtdO2NTU52ZBx5Pt9q8XvoF+ub674ewQgzS6HZPuQ5uQ4jmzbVjQalW3bmmzA3FXod60Wv4N+\nuL654m+xNZChDTi2D2kNfillLfT7NtffQb9c31zXwPL3CEBi+5BW4Ydy1kK/a7X4HfTD9UlzWwfL\n32JrIKANOLYPaQ1+KWUt9Ps2199Bv1zfXANr/h4BSGwf0ir8UM5a6HetFr+Dfrg+aW6BNX+LrYGS\nYyAAmr2U1S/XV8/AulnKqgEASc1ezuqX66tnYN0MZdUgQwsEgt9KWWu9PU2h65tyHA3efbfcw4f1\nmqTl69bpUzt21G0rnHruq+uXsmoAQG34rZy11lvUFLo+x3F09913Z7YFWrdunXbs2FG37XDqua+u\nX8qqMTcEtEAA+KGUNTuIPTk+rvvi8bKCs3KC30LXdzAW02f37csEmI8ODuoPb75ZN3V11WWf13p+\ncOCXsmoAQG34oZw1O4gdHx9XPB6XVDo4Kyf4LXR9sVhM+/bty9weHBzUzTffrK6urrrs9VrPDw78\nUlaNuSGgBVCWnAyjyt+qZy6ZSW8QOCXp3nhcbfF4XbKc9fzgoJ7ZXwBAa8rOMHoVC87mkpnMd954\nPK54PF6XLGc9PzioZ/YX84eAFkBR6QzrxQMHtEvSJknndTmoLRWczSUz6Q0COxXcPW/9VjYOAAiu\ndIb1wIEDBY8pFpzNJTPpDQJLndvP/FY2juoQ0AIoypuZ3S3pdknbw2Hd1NVVMjibS2Zy08CAnpiZ\nkXv4sCYkvdXeLvfs2UBmOf1QNg4AaA6FMrPhcDin9LeQuWQmBwYGNDMzk1lD297errNnz1Z1rkbz\nQ9k45o6AFkBR3gzrxaVL9WxPj+4pc/3qXDKTy0Mh3fXUU5nbU5OT2t3fT5YTANDSvFnQpUuXqqen\np+z1q3PJTIZCIT2VNTdPTk6qv7+fLCcahoAWQFHeDOuinp6G7c1KlhMAgNkZ1p6enooyjbXMTJLl\nRKMR0AIoirWfAAD4C2s/gcsIaAEURVYUAAB/ISsKXLag0QMAAAAAAKAaBLQA6mbKcbTLtrU/GtVO\n29bU5GRVxwAAgNpwHEe2bSsajcq2bU3mmXfLOQbwC0qOAdRNzpY/w8PaLc0qXy7nmEZK78O7bGxM\n05GINpXZ3RkAAD/K3vIn3VjKW75czjGNlN6HN3sNcTndndGcyNACAVZtdnOuWdEpx9GjW7boP4dC\neiwU0mO9vTnnSJ//4oED2iVpSsktf5bl2Wzduy1Q+phaZW7znaeSc6cD7s3Dw7pz714d7O+vahwA\ngNZQbXZzrllRx3G0ZcsWhUIhhUIh9fb25pwjff4DBw7kPM+7BVC++9K3a5W59Z5ndHS0ovOmA+7h\n4WHt3btX/czNLY0MLRBg1WY355oVPRiLqf3pp7VVySDUHRzUjs9/XkuXLNGysTGdHB/XffF4Zquf\n3ZLukHQ+tdl6dtbzuXhc05LeI+mcpLdWrqzJGItd68zMjD67b1/mvidmZnL2u81WKOAGACCfarOb\nc82KxmIxPf3005nbg4OD+vznP68lS5ZobGxM4+Pjisfjs54XSc3N2VlP73ErU3NzrTK33vMcPXo0\n85rp288//3zBrGuhgButiYAWCLBqg61Knpev5DZ9fPY5nEOHtPXcuUwQm/3YxaVLtbunJ7PlT3aQ\nOSnpztRxrqQn2trmdG3lXKszOppzn3v4cMHne/fhTQflAADkU22wVcnz8pXc5jv+O9/5jqampvKe\nY+nSperp6cls+ZMdZHq1pebmWgWS3ud5M7LxeFz9/f0Fg2XvPrwR5uaWRkALBFi1wVYlz8uX4XRT\nz08Hrq6k90xPZ4LE87oc1CYknQ2FdNPYmJ7p788ExOljQ8oNfkNnzszp2qTcIPzk+Lg+Jqkj6zyv\njY7mjH2iyLnYhxcAUIlqg61KnpcvU+p9viS98cYbBc8RCoU0Njam/v7+ggFx2pnU3DyXQDI7CB8f\nH581ljfffDPnvmLjYR9eZCOgBQLMG2ytffBB7bLtgg2M0oFe+6lTeigc1qrOTqm7u2CQNuU4OjM0\npAOSpiV9VNKZoSFdv2qVTq5cqd8+f17XLlyotvXr9drTT8t1XbVJul3Sb0iKrlmjF8bHdW88rrZ4\nfFZA/ANJx5QKNFPPSweulV5btuwgvEfS9nBYN3V1ZQLSb2zdql2Dg3pP6rqWr1tX8D1mH14AQCW8\nwdaDDz4o27YLNjBKB3qnTp1SOBxWZ2enuru7CwZpjuNoaGgo576hoSGtWrVKK1eu1Pnz57Vw4UKt\nX79ehw4dmpWhXbp0qUKhkOLxuOLxeNGAOC0duFZ6bdm8GeBwOKyuri5FIhFt27ZNt912W06pc7Fg\nmX14kcN1Xd9/dXd3r+ru7nZPnz7tAihsZ1+fe0lyXcm9JLlf6+hwn+zrcxOOk/fxnX19FZ1vW+q/\n+Z5/75VXutsk9/HUcfdeeaXruq779Jo1rpt6jiu5T69Z4yYcx93Z1+f+xqJFOef7j+3tmbEmJibc\nnX197tNr1rhP9vW5j/X2lj32fK+ZLf36T69Z4+7Men/QOk6fPu12d3e73d3dq1wfzHNB/GJuBsrT\n19fnKvnZrSvJ7ejocPv6+lwnNfd4H+8rMTd7j/d+ZT9/48aNeR9fs2ZNzn1r1qxxHcdx+/r63EWL\nFuU81t7enhnrxMRE5vl9fX1ub29v2WPP95rZ0q+fPrfD3Nxyqp2bydACTWLKcXRhaCinfNdKJNSz\nd2+moVKl61K9x1+1cKHa3nkn7/Nv+PCH9cvPPJMp4330wx+WJDkrV+aU905ec00yzJR03Y9+lHP+\nG9raMllXb6nz4x0dZY/9la4u7dTsRlNpZF0BAPMhXzY1kUhkMpV79uypeF2q9/GFCxfqndTc7H18\nyZIlOceuXLlSAwMD2rp1a879K1asUH9/v8bGxnTp0qWcx9ra2jJZV2+pc0dHR9lj7+rqmjWWbGRd\nUS227QGaxMFYTIsSCbmp2+ky3uzgbzoSyX28xNoX7/GvdHUVfP5Vr72WCThflzT1v/6X9kej+qdj\nx/SEpP2Sdkm66LqZYPUV180539msMiVvMP1a6phyxr5owQLdKWmzpE9Lmjh8eE5b/wAAUI1YLKZE\nIpH3sXTw5y2tLbUu1fu4N1DMfjy99jXtrbfe0saNG3Xs2LGc+48fP57ZBic7OJaUU0JcKtguNvYF\nC3LDjsOHD89p6x8gjQwt0CSWjY3pViW3yFkmyUi6W7nBX6UNjrzHf3rbNu2+//68z8/OxD4j6QuJ\nhF4fHta0pBkl16puknTk7FkpddynJW2T1Cnp1bY2XTx3Tn/c26tP7diR0xQqIelCe7seVzKw7Vi3\nTr9QZOyhM2dyguGbpqZyMtUAAMyHYgFgoXWppRoceY/ftm2b7r///rzP92ZBE4lE3nWyr7/+es7t\nd73rXbp06ZJc19W5c+fU29urHTt2zFpn+5GPfETf+973NDk5qVAopG3bthUctze4npqayslUA9Ui\noEXg5dtWplCzoGY2HYnofcPDulPJIPaFcFhHshohSbmltlOOo4P9/UXft3yludcVmHRenZ7Wb0iK\nSDoj6QdKZmQ/oMsNn56R1JbK+rrDw7oudfydktpcV+65c3pkcFADN9+sTx86lAmm/+HMGT1w9mzO\n1j75ml2lr+UNT5mzN1MNAKivfNvKFGoW1My8AWB2I6R04Jldaus4Tqb0t9D7lq80t1BAOD09XdY4\nvV2Gr7766kyDpnPnzmlwcFA333yzDh06JCkZTHd1dem5557T2dQH1W+++abuv/9+7dmzJ+/Pv1DT\nKfaQxVwR0CLw8m0r04pZOG829Z4SgX2t37c3jhzRb+lyEPmQpPuybu+WNNPRod7UBJ4e68zoqNpS\n5VhtkixJPfG4dt9/f2Y8TihUdN9Y77VsX75cD4XDuvL8ebVPTemjknZKmhkd1U7bbtkPPQBgvuTb\nVqYVs3D5sq/FAvtav29HjhwpeUxHR4cOHTqUk+U9depUTsdhKbk3bDpglSTbtjPBbFo6OPVex9Gj\nR9XZ2alwOKzz58/ndF4eHR2Vbdst+6EH5o6AFoFXaaOjZlVpo6Nav2/XXbqUc74rlbu/7LslacOG\nTCCZHutO25abDkaVP5uaXj9baN9Y77XcNDWlnqkpPdHbq7bFi/WNoSF9IZFQWyIh11N6TIYfAGqv\n0kZHzarSRke1ft+8DZ7y2bBhg66//vqccdq2rePHjxcdX76xpcuovY+ltwiSpN7eXi1evFhDQ0NK\nJBKzmmRJZPhRGZpCIfAqbXTU6qYcR7tsW/84Opr3fUs/vj8aLdpIKX3crltu0VevvVb/1NaWc76x\nJUtybr8YDudds7tpYEBP9PbqjxYt0i4lS5O9P8fl69bpCUmPSXpE0rklS3LG5f0deEHSAUmvHj6s\n2wcGZN1wQ8HgPZ3d3Tw8rDv37tXB/v6S7yEAoLhKGx21OsdxZNu2RkdHc+5Pv2/px6PRaNFGSunj\nbrnlFl177bVqa2vLedzb9TgcDuddszswMKDe3l4tWrQo73i830tSe3t7Zg1tsZ/3Sy+9pD179uiG\nG27IuT87CE5neIeHh7V37171MzejCDK0CLxKGx35QSOzgukA7nUl17jOdHToig0bMu9buaXI6eN2\nS7pH0l9I+m9KZlMvdnWpb/9+7X744bwl0N7r3/Loo8lz9vfrSNbPMX1c5w9+oL9vb9evv/WWOiS5\n4+Pa3d+fGVf6d+DC0JDGEwndI6lDUk8iod39/XKzGkx5g2Uy/ABQe5U2OvKDRmYFs0t0pWQZ8IYN\nGzLvW7mlyN7zZOvq6tL+/fv18MMP571G7/U/mpqbvWt608edOnVK7e3teuuttyQlOyinS5Kzf/4n\nT57MHCNJExPJOivvmtrsIJgMPypBQOtzlEOW5vc9RfP9DOdj3W+h3510ALdcyS7D+2+4QZuzXrvc\nAO/NF1/UdiU7FH9N0oPKWj+7cKF+LBLRTxa4pkLX730Pdtl25rheJdfd3plnXOnfganJSe274QZ1\nZK3JXTY2pluffbbghx7TRYJdAMiHcsjSgrCnqPfneOHCBQ0ODkqq37rfQr873oDthhtuyHntcgO8\nF198seBrL1y4UJFIpOA1FQqavcfbtl0waE6PK/vn/6EPfSinfHnFihWSin/oUSzYBbwIaH2OhkfB\nl+9nmC9orOWHF1OOoz9cvVofiMc1Len24WEdVPJ3p1QA53385Pi4bp2cnNVV+PsvvpgJYp9W7nrZ\n6+Jxff2DH9TKt97Sa0qWDH9qx47MOcoNmr3HvTv1faHAc3kopMUbNuSsyT05Pq5bVfjvplSGnw+V\nAHjR8Kg5eH+OHR0dOY+PjY3V9MMLx3G0evXqzFrS7N+dUgGc9/Hx8fHMVjnZ5y8W0MbjcV1//fVa\ntmyZOjs71d3dnXM95QbN5WxFlO3GG2/MCWhfeumlTBOoQn83pTL8fKiEbAS0Pkc5ZPDl+xnmCypr\n+eHFwVhM98bjOR2G0787pQK4TQMD2n70qD4Qj+sNSffE4zqYVd6bPv9HsppAnVdu06YfSPpS1jY7\nuwYHM+eYchydHB9XT9bx2et3i22/82I4rDc6O/XyxISsU6fydiwuZ/zZSmX4+VAJgBflkM2h1M8t\nEonU9MOLWCw2q3NwegylAriBgQEdPXo08/x4PK7+/v6cscRisZJNoKampjQ1NaV4PK4TJ05krsdx\nHI2Pj+ccm71+Nzt49O5tGw6H1dnZqYmJCZ06dWpWx+L0tRRrAuVVKsPPh0rIRkDrc5RDBl++n2G+\noPLIxo2ZAPF1SWeGhrQ/Gq0qK5gvs5n+3SkVwC0PhXRTV5c2pybNqTxjWTY2pmldDmJvl7RdyT1n\nX5TUrdyM7XskKTVpH4zFdE88rt2pcb0YDuueAut3n+jt1e6+vpx1uAf7+3XviRNqi8flHj8+K8D0\njjRoDNkAACAASURBVD/9flSLD5UAeFEO2Ry8P8f169dr8eLFOUHlxo0bc54zNDSkaDRaVVawWFfg\nUgFcKBRSV1dXTkDsHUs1H6xkb7OTfe7sZlHe4LG3t1d9fX0571N/f79OnDiheDyeycamryd9bdFo\nNOf9nssHQXyohGwEtD4XxIZHyJXvZ5hZ85nKSB7ZuFEnx8f1MSWbGT0jJbeZGR6WOzysh44eVf/z\nz5cd1HqD6OygMZ8px9FfbN2qxJEj6pR0ur294Fh2S3IjEd2e+v7dkv5uwQJZlqUXp6d1XWenTrzw\ngj558eLlsl9JXak9YNtGRtSh5FpYSWrr6spc15KRkZzgUd/8ptzNm3Xrs89WVK48HYkoMTysZ1Pj\neyFP2XS5+FAJgFcQGx5htkJ7xKYzkhs3bpyVtUwkEhoeHs7srfr888+XHdR6A+hCHYbTHMfR1q1b\nM3vJtre3FxxLvvMvSM3N09PTs/Z+TUvvATsyMpJzf1dXV+a6vI9985vf1ObNm/Xss89WVK5cTtl0\nufhQCTlc1/X9V3d396ru7m739OnTLtBMdvb1uZck15XcS5L71XDYfXrNGvdPOzpcN3W/K7mDkruz\nr6/s8yYcx93Z1+c+vWaNu7Ovz004TslxPJkaQ7GxJCT3ax0d7l/ecou7LRx2d65enff8/23LFvcx\nyf1Tyf0NyZ3MOu9/aG93ByX3ydT92de1LRzOGcPO9H+zjnnS857le18SjuN+1XuuCt6/ubyXCIbT\np0+73d3dbnd39yrXB/NcEL+Ym9Gs+vr6XCU/w3QlueFw2F2zZo3b0dGRc78kt6+CucVxHLevr89d\ns2aN29fX5zol5hPvOIqNZfXq1W5vb6/b0dHhdnR0uFu2bMk5v+M4bjgcnnW+9Fd7e3vB6yr0vOxj\nvGPN977kG0Ml799c3ksEQ7VzMxlaoIG82caburq0+dgx7bTtnMZGb6iyUtdKOz+nz11qLJlsbSKR\nXJu7dm3mdbLXvy5auVIXt2zRVWfPSqOjOV2H17z1lj6Ruq7tnszxqs5O7Y7HdVHSIiVLmdskaWRE\nu2xby8bGNLNypR5NnbtQ1UK67LgtVT41l1Jhv3fRBgDUlje72NXVpWPHjuXt7ltJqWulnZ/znbvQ\nWCYmJjJrYiXpiiuumLUdT7q7cGdnp15++WUlUnOzpJxtdbyZ487Ozllrf6Xckuf0/rPFqhbylU1X\nWyochC7amD8EtEADFSpn3TQwoIeOHtVNqcZGGyU9W2E5TTndedPHXBgd1biUKTP2juWJmRm5hw9r\n5tw5tb3zjqRkkLgkK9A8OT6ue+LxzPN39/Xp1oMHNbB6tdxEIic4Tz//6jfeyBmP292tO0+c0C5J\nd+hyM6iXJyaS62azzr352LGq3lsAAIopVM7qbcyU/Vi5yunOmz5mdHQ079jSY5mZmdHhw4clSefP\nn885LjvYzN6OSEpuozMxMZET0GZ7wzM3d3d35wTLad6S53ICTEqFUQ8EtEAD5Vtfmw4yV3V26gVJ\nP7FihZ698caK10/n6857+9e/nhPkXpyZ0Wf37csEfV9etEiRZcvUtn69tqReb3kopMWLF+uOREK7\nlNvN2GQFmj2avU+stwHUcHu7fj31KfBLkr6fSOgvr7xSr3R16dOHDmXejzdffFG/+f3vq+vSJZ1d\nsEDXO07u2tqsQLpQsM76cwBANfKtrU0HmZ2dnZKSe6neeOONFa+fzted9+tf/3pOkDszM6N9+/Zl\nnrNo0SItW7ZM69evz7xeKDU3FwpKs4NN73ZER44cyXlee3t7ToY2kUjo6quv1rJly7Ru3To98sgj\nkpJ73H7/+9/XpUuXNDMzI9d1M88ZGRmRbdslt9Fh/TnqgYAWvtUK+3/mK2fdZduXA1HllvVWIl/z\nJG+Q+3hHR84xH169Om/mM32uTUoGrReXLtWinh5dNzKSU9br3Sd22dhYTgOoiSuu0H9dtEirz53T\nsKTfktT2zjty43Ftv+023Xf6tO7cs0e7bFtfOXlSuyXdI80KpHMytgW20mn1UuFW+PsBMP9aYf/P\nfOWs3hLftWvXVlXymq95Uqn9cFevXq1jeeZm77k6Ojp0ww03aHR0tGCgm88VV1yhRYsW6dy5c5n7\nLl68qEQiocHBQV1xxRXas2ePbNvWyZMn854ju+S5WMa21UuFW+HvpxEIaOFbrbr/ZyXbxGQHLa90\ndWnRggUKnTmj6UhEU52dOUHgC6dO6erR0Zxzv6bcQPHk+Lh+cnRURx94ICcQSpfvLleyFHh3T4/u\n3LMnub42FVgmJD3X3q6ptjadCYX06W3b9D/vvz+n7HfJ1JRm2tvlSlql3DW7V545k9lXNv0eLEs9\n5g2krVOnarI+tpm16t8PgPpq1f0/K9kmJjto6erq0oIFC3TmzBlFIpFMhjft1KlTeUuLs42Pj2t0\ndFQPPPBATiDkLd/dsGFDJvDMDr5d183sFdvd3T2rBHlqampWB2XvGItdc0dHh1asWFGTtbHNrlX/\nfuqNgBa+1ar7f1ay9jM7aNmpy+W+7vCwHly5UruU3AN2WlLn1JQWKTeA7Vi3Ttu/+119ILVW9554\nXH/0Mz+je+PxnEDIW7679sEHtcu21X7qlB4Kh7Wqs1Njr76qr5w9m3zem2/qiS9+UVsefVSPDA3J\nSiR0XsnAdFmqKdRXPWN51XV17969mW2B3OHhzF63eQPp48dZH1tEq/79AKivVt3/s5K1n9lBS7bh\n4WGtXLky5758W+msW7dO3/3udzMBYjwe1//f3v3HR3Xfd75/jTC/bKWWJmB3xNRENeikpmnsbtC9\ndRxM4lWKXSikm2qC82jaOrmP9ai7t7vJ9uEUtu1mHws199a3271ZK31sQjfuxgi220WGh0WtpGuC\nq2RRYuCWuDmSvNjxSDJGMyN+SQgBc/+YH8wczY9z5vfRvJ+PRx4gaeac7zlAjt/z+X4/349//OOp\nr5PjsE7f3bNnD4FAgNHRUfx+P5cuXeLSpUtMT0+nzvOd73wHgHXr1uVsCmV14cKFrPcgqaurCyC1\n/2zytbJQo/77qTQFWqlbjdrU56N79rBvaIi2SCRV6cwlPbS8j8yK533T0zyZ9tojwMeA51pbMdat\n40p7O5/u7eXEli1sS/tUtS0SWRCErNN3s02Lbnv77Yz3xY4fp8Xrpa2ri62Wjs0ATxJfs7v2xg3e\ni8Uy1t5+7Ngx+gDPyAj7pqYwVq/m0tq1zM/NcaSzk6ttbbywYwfe8XGtj82hUf/9iEhlNWpTnz17\n9jA0NJTaN3VvnmdzvpCSLcDC7enCyerrli1bMiqekUhkwTms03etlVnr1OVQKEQwGOTgwYN0dXVl\nDd0AHo8nY31ssqqcDNAjIyNMTU2xevVq1q5dy9zcHG+//TZ+v7/otcWNolH//VSaAq3UrUZt6jO0\ne/ftCunMDPs2b2aDz5d1HWR6aLlEZsVz3OslNjNzO9AAdwNrurrYlvYAPO/z8SLxQHwJeLulJeN9\n5tgYlxNTgZPntlb/5o8e5c35+Yzz/68rV5iORDL+HJOdkAHuAz74qU8RA55JC7xX2ttzri3+XHqI\nttHpuJE16r8fEamsRm3qs3v37lTAnJmZYfPmzfh8vqzrIHNVMiG+hnRmZmbB95PThZN8Pl/Gz1ta\nWjLeNzY2RiAQyDi3NUinr4lNGhwcJBKJZPw5Tk5OZoTnNWvWZHzd0dGRGnul1hY3ikb991NpCrRS\ntxq1qY81LD4QCrEtFMq6DjI9tMy2tfGCx5OqWj65dy99u3Zx8403GHnzTX4W2NPSgvfKFY50dqYC\n8tKmpttTlYHeBx+k75FHmH3lFVZMT/OFaJS7Dx3iG1eucFdzcyqYbk28JwpMzMzwELAL+FDi+/9y\nfp6BYJCdBw+mxvyxSISBYHBByLITvDSF1plG/fcjIpXVqE19rGExFAoRCoWyroNMDy1tbW14PJ7U\nGtq9e/eya9cuRkdHeffdd1NTfV977TUeeughOjo66O3tpampKeN8Dz74II888givvPIK09PTRKNR\nDh06xGuvvcaaNWtob29fMJ35ZmKbvXTRaDRVpU2OORKJEAwGUyErOUY7oUtTaJ1p1H8/laZAK1Jn\nrFNF0/dttYa4XKElvVnU2elpvjI7Gz/e7CwHJifZxu31sd7x8Yyg6JuY4FpHB1y+nDFl+ebgIJ+Z\nn8dDfL/afX4/bZEIEzMzPJN476e4vXUPDsZrJ3hpCq2IiNRKvqqrNcTlCi3pzaLWr1/P2rVrU9vz\nTE9PMzExkeoUPD4+nvHeiYkJOjo6uHz58oLvT0xMMDw8zPbt2+nu7ubo0aNZq8BOxms3dGkKrdQD\nBVqROpNriq6dEJcMsuODg3wpGk2Fv/TA+r603yc7GacHxddNky+ePs0AmVOYp+bnOUC8sVMrxKdB\nP/wwDySmASePad26p1w0hVZERGol3xTdQiEuGWQHBwdTjZiGh4dZunRp1tcnK6PpQdE0zVTYzeUn\nP/kJr7/++oJpwFblDJ2aQiv1QIFWGoob9uZMr2LmmqKby0BPD1sOHeIbwFHi3Y2vkxlMk5/tJgPn\nE7297BsaSnU6/uLsLMe4vVXOLLAC+B3ia3D7iHccNsfGWNXWxpm2NrYluxsDb/j9eHy+sodOTaEV\nEVmc3LA3Z3oV0zpFt1CIe+qpp3jppZcWfH9+fj7r65PHHBoaSgXnfF2Ik3784x/T2dlJW1sbbW1t\nTExMpH7m9/sz1vyWi6bQSj1QoJWG4ra9OZ2GuOZz5zgGfInbAfbrwD5gAxABfvJTP8URw+A9n487\nrl/nxJYtLLl6lU3Et8eBeJU1uVXOHy9Zwq60dTizwAGIr63t7+cb27fTt3x5KnQ/XaMPCdzwYYWI\niCzktr05nYa4EydOFHzN0qVL2bBhA/fddx/Xr19ny5YtXL16NefrlyxZsmCN7OzsbOr+bd++neXL\nl9f8QwI3fFgh7qdAKw2l2MZC5QhL1Qhcl9vbaU5MH4b4Nd7weLgvFuMy8KvAX2/ezJUVK1gyOEgs\nGuWtxOsOAsuB7cSrrFdXreLtqSnuvXKFb01P8yvEK7Rh4PfSzvn+n/yET73+elmvI8nJPXPbhxUi\nIhJXbGOhcoSlWgSupqYmli9fnlF1ffzxx1mxYkXGtGQrv9/PqlWrmJqa4sqVKzm3AILb048rwck9\nc9uHFeJOCrTSUIptLFSOsFTuwJUt7D3R20vv0BDbktv+AHfHYjyZ+P0frlzJ2hs3MvaQfRb4Mrcr\nuvv8fp4+c4aBYJBnTp9OfX/v0qUsb27mwswMsbm529v6JDZcrwQn90xdkEVE3KnYxkLlCEvlDlzZ\nwt6mTZvo7+9PvWbZsmUZYXblypXcuHEj77pXv9/PmTNnCAaDGWtply5dSnNzMzMzM8zNzaW+f6GC\nz2Yn90xdkKUaKhpoDcPwAy8A9wK3gP9kmuZ/MAyjlXhBaC3wFtBtmubFSo5FBIpvLFSOsFTMMfJV\nKLOFvceff57V/+gf8dzVq7zvyhUi8/ME0865cXaWyPe+lzGONWQ2jTJWr6bF610w3jXNzewYG2Pg\nscfoO32aZuJ7265NbLheCU7umbogi9ijZ7PUm2IbC5UjLBVzjHwVymxh70/+5E/44Q9/SCQSIRaL\nLVgPOzs7y/e+972851y9ejVer3fB+JqbmxkbG+Oxxx7LCLqrKvhsdnLP1AVZqqHSFdobwBdN0zxt\nGEYz8EPDMF4Bfhv4tmma/5dhGM8Av0+8SCRSUcU2FsoXluxOiw23tWU0Z4qsWVPwvLlC60BPD/NH\nj6a6DrcQD3sDPT18vr8/o/p6NzANvEy8QdSbV65kjGOczKZRyYqr9ZqXRaMMBIPEOjrYmVa57evo\nSN0DRkZ4a2qKD65ezez69SVPq3YSUtUFWcQ2PZulrhTbWChXWHIyJda6d+saG8/mbKH1+eefp6en\nh6NHj2a89ty5c+zevTujK3I2V65cyfvzZMXVes3JfWU7OjoyAm1HR0fqPoyMjDA1NcXq1atZv359\nydOqnYRUdUGWaqhooDVN813g3cTvrxiG8Q+An/gyvUcTL/sm8Cp6aEodyxeW7E6LvUG8mdL7iHca\nno/FCp43W4Uy43zc7jp8pb099fppYABoIx5qbwD/OnGM6Pw8f7BiBT9z7RoriDeAei4xrhWAv6WF\nA4EAnpER9i5dyi/Mz3OFeHD+H6OjfPzb315wLwaCQT5z6BB9JKYvh0LETp0qeVq1k5CqLsgi9ujZ\nLItFrrBUyjTimI1nc7YKZfo507W3t9uq+s7Pz7NixQquXbuW9ectLS0EAgFGRkZYunRpRofk0dFR\nvv3tb6fGkrwXwWAwY0yhUIhTp04BpU2rdhJS1QVZqqFqa2gNw/gA8CDwfeBe0zTPQ/zBahjGPdUa\nh0gx8oUlu9Ni752YYFva10cmJgpWd5MVyoskKqxjYzA2lnG+S0uW8I2tW/l0by8vB4NEh4f5c+AB\n4oH3aeCr3J5W3ArcNz/PrwN/TTxc+4BJoB04+8Yb/PzZswDMAVvJrN5+Ksu9SN6DZrB1L+xSSBWp\nLD2bxc1yhSUnU2LTt7ZJfl2owmutUI6NjTE2NpZxnCVLlrB169ZUsEx/fS65tvEBeOONNzibeDZb\nXbhwIeu9yHXdpa5jVUiVetNUjZMkpjT9FfC7pmleIf7fxukKfxwmUgXT4TAHAgGOdHbyYiDAdCRS\n8D2X29tTf4HzTYvN9rpktXXb8DA7Dx1iIBjMeM8Tvb30dXfz9dZWdgK/FY2yNBrNOM77bt7kruXL\nafF6eaK3lz/3+3mGeEfjncAx4J6mpoz3XGhqohW4E9gFPJX41QPsuXULT+K9dxKvAB9J/JprvWzy\n2i6DrXshIrWnZ7O4RTgcJhAI0NnZSSAQIFLg2WydAptvSmy21yarrcPDwxw6dIig5dnc29tLd3c3\nra2tQHzar7Uz8c2bN1m+fDler5fe3l78fv+Cczc1NeX9Ot2tW7dy/izXetlc1611rLLYVLxCaxjG\nHcQfmH9pmmayxdt5wzDuNU3zvGEYPw28V+lxiNhRTCfiQtNik1XYlaOjPOv384FVq5i57z7uuH4d\n/uZvMiqaK0ZHM96brFAe6ezEk/h091eI7w37oZs3U1OBTyQ+bW3xetng8+FJrNXxEJ9SfCYW4zlg\nVeJ7V71eYufPL6yoWn69l/h05vT1svnuwewbb/BHb77J/cDE+9/Pk3v35r13IlIbejaLmzidQmxn\nSmyyCjs6OpraDie5B+zf/M3fZLx21PJsTlYoOzs7Myqv1r1hk5VQr9eLz+dbsI7WOr3Z6/Vy/vz5\nnNeVS0eOZ/OePXsYGhoiHA4DcP/99/PAAw9oHassOtWYcrwfeMM0zT9L+95LwG8B+4DfBPqzvE+k\n6px2IrbTEMq65vWFj3yECz/4Ac+EQhwgsyHT6z/+MR+PRBYcI7050t3A7LJlfGh2lu8BfwucOnuW\nKw89RKyjg+uW5lPfb2rimVu3aOX2mtsP+Xz0Pfoobx47xtZLl243qkr8+h7wIjB3xx3svecefvae\ne6CjI+ca1mTwPhAI8JWzZ+PHC4Xo27WLtTn+o6Ma+/KKSE56NotrOO1EbGcdrHXN60c+8hF+8IMf\nZG3e9OMf/5hIJLKgkZJ16rF1O56zZ8/y0EMP0dHRsaD5VFNT04Kqq8/n49FHH+XYsWNcunQp59jv\nuOMO7rnnHu655x46OjpyBlRrM6oHHnig4FThWuzLK1KqSm/b81Hgs8DfG4Zxivh/K+8i/rA8ZBjG\nU8DbQHclxyFil9OtX+xUdK0hOXb8OA9Eo3iIV1f7gHlgKfDF2VkGgsEFx3iit5d9Q0M8EApxNfG6\nP125kq/MzuIBPjU7S9/p0+w8fZpvbN/OCzt2EDt+nClgxc2beC5dYhr4b8T/wS09c4Y1b73FxWvX\nMhpVjTY18UfLl7N0bo5/fesWnhs3iE1M0PfII7bWsjr5QKDc+/KKiD16NovbON36xU5F1xqKjx8/\nvmDacNLs7CzBYHDBMXp7exkaGkqFxtnZWVauXJkKtbOzs5w+fZrTp0+zfft2duzYwfHjx4H4lGRr\naD1z5gxvvfVW1sZQS5cuJRaLcePGDW7cuMHExASPPPJI3oBazJZE5d6XV6QaKt3l+O+AJTl+/I8r\neW6RYjjd+sVOgLOG5ClgWeL3LcSn9L6QeO1rQGhwkGlLlTY5lXhb2iet6zyerNOF752Y4Ep7O59J\nhOYY8e7KHmAl8EFgZyyGZ3qal4ivtU3a7/Hw27OzHKVwc6dsFVYnHwiUY29fEXFOz2ZxG6dbv9gJ\nctaQXMjg4OCCKm22qcQejyfb25mYmKC9vT1naIZ4ZXl6ejrrz7I1jMp2XekV1snJyYyf2Vk7W469\nfUWqrWpdjkXcwGlXXTsBzhqS756b4/H+fvqIr2/9flMT7bdu8Tniwe6RaJSvffjDbPD5Mqbipp8r\nCozGYrwEXAEeT/yaHEPzuXNcJL51zwrgDY+Hn47FmAW8xKvCzcCPgI9Bajry201NeG7eJEzmVOhs\ne+Zmq7A6+UDAaTVcREQak9OuunYqutaQPDc3R3//7Vn21inB0WiUdevW0dXVlTEN13quXJ2KfT4f\ng4ODGd9bunQpN27csDVFOptse+Zap1L7/X58Pp/tPWCdVsNF6oECrUgJ0gNcZM0a5ufmONLZmRFE\nrSF5OhJhIBhMhb5/uncv/2PjRjyJT22PAc+EQvG9XIeHeXZoiOCZMxnn+tHkJP82FEqFwT9auZKf\nMwz6EutcXw4GeXl4mJ3EQ+mOWCy1X+0fAv828f2twO6mJj64YgUTXi/eD32I2MCArT1zV4yMLGho\n5eQDAafVcBERETvSw+qaNWuYm5ujs7MzY02oNSRHIhGCwWAq4O7du5eNGzdmVFSj0SiHDh1icHAw\nFWyT5xocHCQajaYCbUtLC83NzaxatYqOjg6uX7++oDqbb5uelStX4vF4iMViGety02ULwiMjIxlf\nr169mpMnT+a7XRmcVsNF6oECrUgJ0gPcgUCAz+VZE5o+RTfW3s7Hjh1LTSte1tVFLPHeu8ic7rsh\nFEqtq00dr7Mzo5Pxxp//ebalPbCe6O3l8OBgKiSnT0leazn+xg9/mE+9/np8jJEIfcEgy44e5cmZ\nmdTxjlj26QP48dRURhXXvHCh6HsnIiJSLulhNRAI5F0Tam2CdOzYsVT1taurK6PamZQMtsljZet4\nvH79+owg2dnZmXEMa0fkdC0tLbz55pt4vd6MoD02NpYRiq176AJMTU1lfH3B4bNZe8yKG1VlH1qR\nRpBcEzpNotHT0aMZe9nm2nN2OhxmZm6O51pb+c+trfx9oksxxIPiVRauL8239+3bo6N87cMfZvzS\npczXJH69QOZesdfWr0+9Nxky79i6teB+sh9YtcrWHrUiIiK1Yl0DOjg4mLGfba49Z8PhMHNzc7S2\ntrJ06dKCxy609611r9g77shdU/rkJz+ZCtXJgHny5Em6urryniPbeXLtUSuymKhCK1Ika1Okq4kg\nOkBi79aZGWKHDqUqtbmaIA309PD5/n4uAi8DrTdv8ocrV/LQ7CyXgevA3NgYLwYCqWnM+abrHvjE\nJ3gmFOIi8WnD14hvw3Mf8RamT0J8T9rWVpZ3dWWd6mtnOnCso4Odp0/n3KNW2/KIiEi1WSuu1u1y\notEow8PDqWpqriZIPT09GWtqk6E2fZrw2NgYgUAgY+pxrqm6p0+fzvh6bm4u6/j9fn/Oab52pgN3\ndHRknMu6R6225ZHFSIFWJI98oczaFOmFHTvo6+5m/uhRPInpuunBNVcTpGTQHYD4mtdEZXWf388d\nV6/ypWgUTzRK7NAhnhscpK2riyd6e3NO122LRPAQ76D8BPB1YAPxtbBriQfbG34/O86cyRkw7UwH\nLhR6tS2PiIhUQr5QZt12ZseOHXR3d2edspt8f7YmSNagmwyyfr+fq1evEo1Gs66pzRUOL168WPC6\n/H4/Z86cyXkMO9OBC4Vebcsji5ECrSx6pVQK84Uya8XVOz7OtpMneTEQSK2HTQ+uuQJgMugm17gm\nj7fB5+PG/DyeaJRp4oH3nkSw/X9OnOCLZ89mvY5xr5fYzAwe4hXfL3F7nesf3HEHfb/2azxdhmpp\nodCrbXlERCSfYquF+UKZNYiOj4+n1rKmr6cFMgKfNQDm2tbH5/MxPz+ftVnUiRMnOHv2bNZr8Hq9\nzKT1prAqFGbtKhR6tS2PLEYKtLLolVIpzBXKpsNhzk5OshVsB9dcATD5+tDgIFvT9o690t7OW0ND\nmdOYEz97bnIy1SjK6slXX2Xf5s20RSJcnZ3Fk+iC6AF+trm5alVSbcsjIiL5FFstzBXKwuFw3r1X\ns4XXXAHQ2r04/XhDQ0NZxzU5OUkwGMx6vFdffZXNmzcTiUS4desW165dy/i5z+erytRfbcsji5EC\nrSx6pVQKc4WygZ4eng6FUnvJvuH383SO4DodDnMgEMhZIU6+PtlhOD0IDzz2GH2hELNkVm9X5bmO\ntfffz5ffeQeA/9vrJZYWkiM5NnyvBG3LIyIi+RRbLcwVynp6eggldgCAhetRreE1HA4TCASyVoiT\nr7Vu59Pb28tjjz2WcR4713D//ffzTuLZbO2InH4NlaZteWQxUqAVR4qdvlvLBkGlVAqf6O1l/7Vr\nRE+cYBXA3BzTkQjN587RSnzNK4DH58t5PXYqxLnuT7Lx0tcTY09eww2b19GyaRMH+vtT+8m2bNpk\n+9pLlQrqiWs7sWWLmkOJiJRRORr81LJJULHVwt7eXq5du8aJEyeAeIOlSCSyIEwWqnoWqhDnujfW\nxkvWayrEet35GkGVW3qoD4fDC8K6GkSJGynQiiPFTt+tZYOgUiqFLV4vd65YwVPJKmd/P33BIDEH\nIdlOhTjX/UmO/d1jxzhw6VIqmL7j8/EvbVzHr+/fH98e6Nw5PO3tfNrGe8r94YOaQ4mIVEY5nUCE\nagAAIABJREFUGvzUsklQsdVCr9fLihUrUlOB+/v7CQaDjgNyoQpxrnuTHOexY8e4dOlS6vU+n8/W\nNeSa+pxPJT54UIMoWSwUaMWRYqfv1rJBkJ2OvflkG/vHjh2zHZLtVIiznSM9WP7MkiU8mfb6I36/\nrZBZzLWXO4CqOZSISGWUo8FPLZsE2enam0u2cR87diz1ezsBuVAAznaO9GC5ZMmSjJ/7/X5bIbOY\n665E+FSDKFksFGjFkWKn77qxQVAyUIbGxhY0f3ISFJ/o7eWF69eJHT/OFHB3YtoysRgDPT2sGBnh\nh6bJI8Ax4mtyfzQ5yfnPf57P9/fjAb5F5pRjp/fPSdW13AHUjX/2IiJuUI4GP25rEpQMlGNjYxnf\nb29vdxwU9+zZw9DQEJFIBK/Xy969e1PHHxkZwTTNjNePjY3x4IMP5lw/6/TeOam6ViJ8uu3PXiQX\nBVpxpNjpu/XUIMhuuEtWKi8CB4Drra0s7+pyPPYWr5dly5bxGcu0ZSBVCd0M/CnwFeIhclsoxHNX\nr6aC5a8Az7W2YqxbV9T9c1J1LXcArac/exGRxaQcDX7qpUmQ3XCXXqkEaG1tTe0B69Tu3btT4XRm\nZoZdu3YBZBw/XXLv2XStra2sW7euqHvnpOpaifBZL3/2IqVSoBVHip2+W+q033KyG+6SlcoW4Eng\nyLp1bCtwDW+PjnLgE5+gLRJh3OvlyVdfZe399+eseia/1wqsS/s62ck4WZW9G1jT1VXw/LnYqbom\ng75nZIRn/X4+uHo119avLzmA1tOfvYjIYlLKlN1yHqMc7IY7a2Vy3bp1eccfDof5whe+wPHjxwHY\ntGkT+/fvx+v1lqXq2dXVVdZp00nWgL93797Ua8oVPuvlz16kVAq00nDsTqktplJ54BOf4JlQKP6e\nmRn2bd7Ml995J3Wsi8DLwPWxMSbvuitjKvM4mdOKPY8+St+yZVkrm9mqzMRi9H/hC8SOH+cC8Y7G\nv75/Py1er61ryQj6QN/DDyuIiohIVdgNl04rlT09PRw+fDj1dbKB1MGDBxcca3JykqtXrxYcq9/v\nx+fzZQ2W1iC6Z88edu/ezcjICFNTU6xatYqOjg56e3vzXosaNonYp0ArDcduUC1mqmxbJJIRltsi\nkYxjjQ8O8qVoFE9i2tI+vx9j9WrMCxdY3dLCvulpjERldHueda7ZqswAnzt8OHVdB/r7GQgGM7ol\n57sWNW8SEZFasRtUnU6TzRaMk99LP9bk5GTG2tiWlhaam5tZtWoVa9euxePxMD4+XnCtqzWIDg0N\nZRw3FAqltvzJdy1q2CRinwKtNBy7QdXpVNnpcJiRWCyjyjqReOAlj3WksxNP4oHdCmzw+dh28qTj\na8gVPi8CA0Az8Yqvf2TE9rWoeZOIiNSK3aDqdJpsW1vbgu8lw3L6sTo7OzOC5/r16zlZxPPZGjwj\niQ+2s70u37WoYZOIfQq00nDKuaYzferv2clJvjQ7Sx/xTsU/WLmSz7/6asbrs4XGYvZ9zXacGPDy\n8DA7iYfcrcC+qSnb1zF//TrfbG3lnZs38TQ3s2F0lBcDgZL3oRURESmknOs506f9WjsS59orNtv0\n487OTsd7vlqP4/V6mZmZyfq6fHp7e7l27RonTpzg5s2bvPbaa/ziL/4i69evL8setCKLiQKtuF4x\ngbBcrOtOW4GdiZ95fv7nWXv//Rmvz1YdHggGHe/7mqvK/NevvIJnejp+fsBYvdr2dSSnK78I7Lx0\nCc/EBLFTpzLGU8t7LSIi7uFkS5pys3ZCTpdrr9hs049DoZDj9avWSvPevXvZuHFjRnfk1tbWglOl\nvV4vK1asSL3v0qVLTExMcOrUqQXjqeW9FqkHCrTiek62pCm39Km/Vyi8V2y26nAxa1dzVZlXfPKT\nxNIC9rX16x1fx/vI7La8YmSEA4FAqgr9dChEK9W/1yIi4h61bGqUb71prspovunHTtavZqs0d3V1\nZQTsrq4uW4Ez13nPnTuXEWLT1/+qgZQ0IgVacb1SmhlZK44f3bOHod27bVcg06f+Pg7s8/vZ4PM5\n2m/VztpVu5XRYvd8TR/DJTKDuTk1xTOnT6emMfdBalqzGkeJiEg2xTY1ylZtjMVijiqQ1mm/+boS\n23l/rhBstzJa7H6v1nGkfz9fFVoNpKTRKNCK65XSzMha3d03NHR72x0bFUhrgHzaEjTtBFE7IdRu\nFTpb5dbpGGbb2njB48E7Ps6V9nbWjozgSXzy6yG+PhjK0zhKU5hFRBanYpsaZavsAo6qvdkCZHrQ\nLBRE7QZQu1XobFVbO2E4ed7klj+rV69OraHdsmVLzusvpYGUpi+LGynQiusVW5WEhdVd67Y7hSqQ\nhRpM2Qmi6ceYDocZCAYXBLxSqtBOx2D1YiBALFGhjQFv+P14HFahSxmbiIi4T7FVSTuV3UIVyEIN\npgoFUev7w+EwgUBgQcgrZWsdO2HYSRdkp1XoUsYlUm8UaMX1SulabK3ujnu9xGZmyrZ1jdMgmivg\nlVKFLnV/2UJV6FJo71sRkcWp2K7FuSq75dzCxmkQzRXyStlap9R9ZgtVoYul/W/FjRRoZVEoduqq\nNaw9uXcvfbt2FVXtzcZpEM0V8EqpQpe6v2w5tzkq99hERKR+FTN9NV9l12m1NxenQTRXyCu2Cl3M\nGKzKuc1ROu1/K26kQCuuUCiw5qpsFnpftrC2tsD0XydjcxpE0wNeFPjR5CR0dpa0vrSUMFxp9Tw2\nERHJr1BgzVXZzPe+XEHNzhRgu2NzGkTLtUdtulLCcCXV67hE8orFYnX/v46Ojg90dHTE3nnnnZg0\nphe7u2O3IBaD2C2IvdjdnfHzlzZujMUSP49B/Osc74tOTcVe7O6OvbRxY+xb3d2xaDhc1Dmdvs6O\naDicGtsf+/2Oj2v32kQa3TvvvBPr6OiIdXR0fCBWB885N/5Pz2bp7u6OEZ9gEwNi3Zbn1MaNGzN+\nvjHxbM72vqmpqVh3d3ds48aNse7u7lg4z/Or0HntvsaucDicGpvf73d8XCfXJtLIin02q0IrrlBo\nrWWuqavZ3me3EZHd9Z3lXAeaUTHu7MzoLpw8br6KsJosiYhItRRab5lr+mq29zlpRlRM46hS1oLa\n2aM2X0VYjZZEKqup1gMQseNyezuxxO+zrbX86J497PP7eeHOO3nW7+fhvXtzvs9uAC10zulwmAOB\nABdGR/kWMJ14XWTNmhKutPD5k6F12/AwOw8dYiAYTL2n1D15DwQCHOns5MVAgOlIpCzXISIii5N1\nfWX61+FwmOvXr9Pa2kprayvbt29PTV/N9j4nAbTQeQOBAKOjoxmvWVOmZ3OucydD6/DwMIcOHSKY\n9mwuJVwnr6ezs5NAIEBEz2aRBVShFVcotNZyaPfu2/vHzszQt2sXaw8ezPq+l4NBW42ICp0zoxoK\nPAe0AfOx2MKDZZGt0koslvre1bY2XtixI7UfbPL8+UJrOffkrafqrvarFRGpP/nWW/b09HD48OHU\n18uXL8+7hjUYDNpuRlTovMlqaLpYgWdzvgpr+s/a2trYsWMH4+PjGefOF1pLabRUz9Vd7Vkr9UKB\nVlyhUKfdXCEv2/vsNiJyek4D2AYcmZiwc0lZAySQEZL7urvZdvJkxvvyhdb0a3vP5yN25Qr/2evl\nAtCyaRO/vn9/RhBMD4qhsTEuAi3U3xY69Ry2RUQaVb5Ou/kCXrb3OWlG5OS8SRMFns35gqM1JHd3\nd3PS8mzOF1rTr83n83HlypVU8Nu0aRP79+/PGp7b29sZGRmxdX21UM9hWxqLAq0sCk4qk8VsQ5Ot\nQrjgnDbOnS5XCC80ZThfIE+/tgOBQEY4PtDfz0AwmHHt6UFxK3AAeNLhdVSD9qsVEXEXp1XJYrah\nyVYhtJ7X7vnzBXA7U4bzBfL0awsEAhnhuL+/n2AwmDU8Dw8P4/f7HV1HNWnPWqkXCrRSNrWcFlrp\n7V+yVQiT51wxOop54QJrV62ir6PD9rmzhfBY4vj5grndQN587hwXgQGgGRgH/JZPeq1B8XprK0fW\nrau7LXS0X62ISPFqMTW0Gtu/ZKsQJs8zOjrKhQsXWLVqFR0dHY635kkPjnbCud1Abq24Qv7wvHr1\nah5++OG63EZHe9ZKvVCglbKp5bTQYqqu2eQK5dkqhKWeMz2ER9asYX5ujvf/5Cc86/fzgVWrwEE4\nzuZyezsvDw+zMzHmrcC+qakFr0kPisu7uthmuaZ6WL+q/WpFRIpXi6mhxVRcc8kVyLNVCIs9b7YA\nnjzv6Ogofr/fdjjOZ8ryHIb84Xn9+vWO9+CtFu1ZK/VCgXYRq3YQKXZaaDXHWehcuUJ5JSqE1unB\nn0tfO/vwwyUH9Cd6e/nrV17BMz0NJNb5rl694DXWoGi9RzNzc3y+v7+m61fL9YGFiEit1aJaWszU\n0GqOs9C5cgXyclYIswVh6/Tghx9+uOSQvnr16oxtf1paWjKCYK6QmLxHg4ODRKNRoPbrVsv5oYVI\nKRRoF7FqV0yLDX3VHGehc+UK5ZWuEFZkjWgsxvnmZmLT06k/k2vr12e8JFtQzFh7OzzMc62tWr8q\nIlImtaiWFhP8qjnOQufKFcgrXSGsxBrR++67j1OnTqW+3rx5c0Z4zxUSc3Vv1rpVEQXaRa3ajXSK\nDX3VHGehc+UK5ZWuEDr5MMBuRXugp4enQyH6gLuAN/x+ns7xZ5Kv2/GqxJisY6uHqcgiIm5Ti0Y6\nxQS/ao6z0LlyBfJKVwidfhBQTFU713ZChbodW8ekLXSkkSnQLmLVbqRTbOgr5zgLhax855oOh5m/\nfp1vtrZyAWjdtIlPV2k9iJMPA+xWtJvPnaMV2Jn42uPzQSzGgUBgwf3J1+3Y8+ij9C1btmBs2kpH\nRMS5WjTSKSb4lXOchcJWvnOFw2GuX79Oa2srEN/mplprNZ1+EGCnqm3dPmhiYiLr/SnU7bi1tZWu\nrq7UmLSFjjQyBdpFxBrmPrp3b9010skWOHOFuWIqgIVCVr7gONDTw+cOH769jnX58qpVHFu8Xh5/\n/vnU9b4cDGa93ulwmLnBQVsV7WzhPdf9ydfteHuO+66tdERECrOGlb179wL11UgnW6AqtJbTSSWw\nUNjKFxx7eno4fPhw6uvly5dXrfKYq3pqlbwnR48ezfh+tqp2tvCe7f7Y6Xacfh+0hY40MgXaRcQN\nFbNcY8w2zmKup1DIyldFrnVAs3O9Az09LI1Gs04BtsoW3k9s2ZL1Gu10O7bSVjoiIoW5oXKWa4yF\n1nLavZ5CYStfBbmWQc3uteZa35qtqp0tvG/ZsiXjNcmf5et2nO1c2kJHGpUC7SJS60Bmh5MxFnM9\nhUJWrqrvdDjMmfFxwsAF4G6gqa3N6eWVxNb1joxwA/gm8XFe+6mf4p/n+HQ/W3jPdX+KWf+srXRE\nRApzQ+XMyRiLuZ5CYStX1TccDjM+Pp7x2rYqPpvtXGs4HGZwcDDje3feeSdbt27NWn3PFt6z3R+n\n0521hY40MgXaRcQNFTMnYyzmegqFrPQqaHR4mK8NDbHB5+Ps5CS7JyZS5zoAzHs8C09QQYXW9w70\n9PC/fvQjdnG7OvuH8/OOzpHr/thZ/5ztw4B6mwEgIlJv3FA5czLGYq6nUNiyVkKvXbvGihUrMrao\nSfJU8dlcaG1vT08Pr7zyCtOJ7fGStm7d6qgKn+3+2Fn3rEZQInEKtIuIGypmTsZYzPVkC2a5Ovge\nA54JhfCEQqkpvCR+fR+A5VPhSst3vf/tqadY+dJL/AzxsP0E8WvYODvLQDBoO1g6adxlDbDz16/f\nXmNcp1PaRUTqjRsqZ07GWMz1ZAtn6WFsbGws42cnTpxYEGSTrBXbSsp3rU899RQvvfTSgvcsXbrU\n8Z+xk6Zd6fdtcnIytadtvU5nF6kGBdpFpNJby5RD+hinw2EGgsGcTZ/KdT3JquxF4DJwGFiW+Fky\nxF4hc2uay4Cnvbrb0+S73uiJEzyVNr4+4DPAVWBucJAjnZ0LplCXOmbrmt5vaj9aERHHKr21TDmk\njzEcDhMMBnNW/cp1PbnWnQLcvHkz5/uquU1Nvms9ceJE1u83NzcTi8UIBAJZp1CXOuZ8960ep7OL\nVIMCrdRMtZpYJdemDhDfwiY1XXflSmKzs3iAx4E/bmujbXaWKaAlbcueemi2tYrMCvIs8VC7BRiI\nRtk2PJwa2+PPP8/XHnyQB0IhLgOPDw/Hr93hmK1rei+QfT9aERFZPKrVxCpf+GpububSpUupr5cu\nXUpzc3PGlj312mxr06ZNWcf2/PPP8+CDD5ZcUc133+pxOrtINSjQSs1Uq4lVcm1qM5mh8Bc/+EH6\n1q9PTfHtqeftaTZtItbfnwqTE21tfHjNGr4xNsYXEtOykmMb6OmJT6XmdjW3mDFb1/S2btpE3/Ll\ndT2lXURESlOtJlbW9anp7r33Xh555JG8lcxaN9vatGkT/f39qa9bWlr45Cc/mbNrcU9PTyrMpn/f\nKet98/v9+Hy+up3OLlINCrRSM+VuYpVrmm1ybWpocJCt0WjqfNfWr7dVtUyO8yLwMnB9bIwXAwHH\n03hLmQa8Y/9++oJBVoyMYE5Ncf+qVVxub+futjbuTjxQk/fQGsDvorh7a13T++kKTbUWEZH6Ue4m\nVrmm2aavT01fCwqFt6jJNs7JyUk6OzsdT+Utdhrw/v37U1Oz16xZQywW49y5cwSDwQWdmNvb23Pu\nSetUrgZSIo3MY3fT6FoyDOMDwLnvfOc7+P3+Wg9HymQ6EkmtoU1W/EoJTAcCgdtTg4G+7u6MwFrs\n+ZLvGx8c5Etpgdh6/FLHV8wxXtixg2XLltF87hzv+Xzc0dTEe8eP86/SxrnP7+fpM2cURkXShEIh\nHnvsMYB20zTfqvFwXEnP5sUpEonkXUPrVCAQyFjz2d3dvSCsFnPO9PdYA3G2c5QyPqfH2JF4Np87\ndw6fz0dTUxPHjx/PaHTl9/s5c+aMwqhImmKfzarQSs2Uu4lVoanBxZ4v+b4jnZ14Ep8GFzP1uBxT\nl63H8I6Ps+3kSabDYb724IM8EwpxkXgn5OutrSzv6uJpVVZFRMSmcjexsjM1uJhzpr+ns7MzI9A6\nmcpbjqnL1veMj49z8uRJwuFwxrpZgNbWVrq6ulRZFSmjploPQKRcLre3k5xvYHcK83Q4zIFAgCOd\nnbwYCDAdiZT1+OV8f75jDPT08EBi3WwL8CTw/nXr2HnwoMKsiIjUjHVarZ1ptuFwmEAgQGdnJ4FA\ngEieZ3Ox5yjHewsdI9u62XXr1nHw4EGFWZEyUoVWFo1i9q110sG41H1+y7FPcK5jNJ87x2XUhVhE\nROpLMfvWOu1gXMpev+XYJzjXMcq1blZE8lOglUWjmCnFTqYBlzpFuhxTrJPHSDaYOrFlC5fb27na\n1saniXc0vgt4w+/naXU7FBGRGitmOrHTacClTJMuxxTr5DGSDaa2bNlCe3v7guZQfr9fnYhFKkBT\njqXinEzrrfZ4zk5OkmzR4KaqZrKyvG14mJ2HDrHM4+FYdzfNGzdytbvbdhOoevuzERGR6nA6rbea\n45mcnMz4mVuqmsnK8vDwMIcOHcLj8dDd3c3GjRvp7u521ASq3v58ROqZKrRSdtbtaeavX+dzhw/b\nmtZbDenTjLcS7wK8wedz1d6q6ZXli8CF48cx1q1zvB2QkynXIiLiXtbtaa5fv87hw4cBe9N6Ky19\nmjG4c39VayX5+PHjrFu3rqhu0U6nXYs0MgVaKTtrSPpma2vJ3X3LyTrNeIPPx7aTJ2s5JMfS9/B9\nGeLbCQ0PExse5tmhIYJnzkAsVnDf23J0XhYRkfpnDUitra0ZPy+mu285Wc/v8/k46bJns3Vv3Gg0\nyvDwcEYgtbvvbTm6L4s0CgVaKTtrSLpA/TQrmg6HOTs5ydY6GU+x0ptDXR8bw5PY284DbAiFGAgG\nAQpWX9ODsVvvhYiIFFYoENVyWm84HHbtNON0yUry4OBgxp6zcPv+2628WsOxG++HSLUo0ErZWUNS\n66ZN9C1fXlJ333IZ6Onh6VDI9c2T0htMvRgIEEsGV+Aqtyuthaqv5ei8LCIi9c8akDZt2sTy5ctL\n6u5bLtbtbdzaPCnZHKqzszPjXsPtQGq38lqO7ssijUKBVsrOGpI+7WBNZ6U1nztHK7Az8bXH54NY\njAOBQN6pufXsid5enh0aYkMoxFVgC3AssV9toeprOTovi4hI/csWkOplL9Rs041jsRiBQKAux1uI\n9cOD9IBut/Jaju7LIo1CgVbKrp5DUrYptm5vjNTi9RI8c4aBYJDmc+c4llZpVfVVRESgvgNStpDn\n5qZI+T48UOVVpPwUaKWhZJtie2LLFtc1RrJ2kn6itzdrCHdTMBcRkcaULeRt2bIl4zVuaIpkbfh0\n7NixBVXlev5gQcStFGiloWSrHjttjJQtTJY6RdnpMZ1UlSsxXhERkXLJFvKcNkWy2z3YrmKO56Sq\nXO7xijQyBVppeE4bI1ViirLTYzrZbsftU6pFRKTxOJ2aW+4pysUcz8lWO26eUi1SbxRopeE5XfNb\nib1bnR7TSVVZe82KiIjbOJ2aW+59W4s5npOqsvaZFSmfploPQBaH6XCYA4EARzo7eTEQYDoSccWx\niznP5UQHYSjf3q1Oj/lEby993d0c2biRvu7uvFXlSozXjmr9uYmISHbhcJhAIEBnZyeBQIBImf5/\nuFLHLeV81vBY6r6txRyvt7eX7u5uNm7cSHd3d96qcrnHa1e1/+xEqqGiFVrDML4BbAXOm6b5C4nv\ntQIHgbXAW0C3aZoXKzkOqbxKTmut1pRZu+epxN6tTo/ppKpcq71mNdVZpD7p2dw4KjWttdrTZe2c\nr9zdg4s5npOqcq26HWuqsyxGla7Q/gXwy5bvfRn4tmmaBvC3wO9XeAxSBdZprYyMlK06V60ps3bP\nkwyT206eZOfBg2VpsJTvmKVWOpPH/tjAAAAntmypSsVUU51F6paezQ3COo11ZGSkLNW5ak+XtXO+\nZJg8efIkBw8eLLnBUqHjlVrp9Hq9PP/887S3t3Pu3DmCwWBVqqWa6iyLUUUrtKZpvmYYxlrLt7cD\njyZ+/03gVeIPUnEx65rOt6emeOb06bJU55x2IS5Wtc7jVLkqndWumNbr/RRpdHo2Nw7rms6pqSlO\nnz4NlFadc9qBuFTVPp8d5ah01qJaWo/3UqRUtWgKdY9pmucBTNN81zCMe2owBikz67RWY3QUTygE\nlF6dq9aU2VpNzS2kXJXOaldM6/V+ikhWejYvQtZpraOjo4QSz+bk98tx3EpPl63V9Nx8ylHprEW1\ntB7vpUip6qHLcazwS6TeWdd0vhgIEDt1qizVOaddiOv9PE6Vq9JZ7Yppvd5PEbFFz+ZFwLqmMxAI\ncOrUqdTXxVbnnHYgLlW1z2dHOSqdtaiW1uO9FClVLQLtecMw7jVN87xhGD8NvFeDMUiFlVKdmw6H\nGejpofncOS63t/NEb29Z1qm6ldN7mev+qWIqInno2dwASqnOhcNhenp6Mt5b6jpVN3NyL3PdO1VL\nRcqjGoHWk/hf0kvAbwH7gN8E+qswBqmyUqpz6o5rEbtdKLFTMsl1/1QxFZE0ejY3oFKqc+qOe5vT\ncJ/r3qlaKlIeld6250VgM/B+wzB+AvwR8CzwXw3DeAp4G+iu5BjEfdQdN5PTgK/7JyL56NksxVB3\n3NuchnvdO5HKqnSX4ydz/OgfV/K84m7qjpvJaUDV/RORfPRslmKoO+5tTgOq7p1IZdVDUyiRDFrr\nmclpQNX9ExGRctN6z9ucBlTdO5HKUqCVuqO1npmcBlTdPxERKTet97zNaUDVvROpLAXaRa5WHYPV\nqbh8FFBFRBaXWnQMVpfi8lFAFakvCrSLXK06Bi/mTsUK6yIiUopadAxezF2KFdZFGpsC7SJXq463\ni7nT7mIO6yIiUnm16Hq7mDvtLuawLiKFNdV6AFJZl9vbU3uXVrPjbaXOOx0OcyAQ4EhnJy8GAkxH\nIlV5bzprWJ8bHCz5mJVQrusVEZHysjYRqkbX20qeMxwOEwgE6OzsJBAIEHHwvCnlvUnWcD4yMlLy\nMSuhHNcqIgupQrvI1arjbaXOW0p11Pre5wYHaevqcjxl2Np12BONcmV4mObhYXqHhgieOVMXU5BV\nSRYRqU+16HpbyXOWUiG1vndwcJCuri5H04atXYffe+89Tp8+nTrm3Nwchw8ftn09laJKskhlKNAu\ncrVqKFSp85Yyldn6XiMaZeuhQ46DXnpYN8fGaIlG+VzimNtCIfqCwboIjot52reIiJvVoqlQJc9Z\nynRm62uj0Wgq9NkdrzWsHzt2LOPn3/3ud22Pp5IW87RvkVrSlOMG5OapqKVMZV7wXooLesmwvu3k\nSdq6urgncRyKPF6l1Gq6uYiIOOP2qailTGfO9VonYS8Z1k+ePMnBgwdZsmSJ7fdWUy2mmos0AlVo\nG5Cbp6KWMpU5+d65wUGWRaM8QelB74neXnqHhtgWCqWmINdLcKzVdHMREXHG7VNRS5nOnHzt4OAg\n0Wg09f1Swt6mTZvo7+9Pff3oo48WfaxyqsVUc5FGoEDbgNw8FbWUqczJ905HIgwEg5woQ9Br8XoJ\nnjlDXzBYd8FR+9eKiLiD26eiljKdOfneSCRCMBgsS9jbv39/2Y5VTtq/VqQyFGgbkLWpUb1UFKul\n3EFPwVFEREphbWrUiFNRyxn2FBxFGosCbQPSVNTFYzocZqCnh+Zz57jc3u64Y7OIiNSepqIuHuFw\nmJ6enow/S7vdmkWkOAq0DajeKooKZcVz83poERGJq8eKooJZcdy+HlrEjRRopeaKCWX1EIJrNYb0\n886Njbl2PbSIiNSvYoJZrUNwLc+fPPfRo0czvu+29dAibqRAKzVXTJOqeqhM1moM6ef9FvF10I26\nHlpERCqjmEZVta5O1vL86edO14jroUWqTfvQlsjNe7rWQrb7Vcx+qfXQqblWY0g/76+rrOdPAAAM\ngElEQVQAz7W2cmTjRvq6u7UeWkQantv3dK22XPermD1Ta92tuZbnt57rzjvvpLu7W+uhRapAFdoS\n1UOl0E2y3a9imlTVQ6fmWo0h/bx3A2u6utimv3MiIkDtq4Ruk+t+FdOoqtbdmmt5fuu5t27dqr93\nIlWiQFuieqgUukm2+1VMk6p66NRcqzHUw7WLiNSrWlcJ3SbX/SqmUVWtuzXX8vy1vnaRRqZAW6J6\nqBS6SbnuVz10aq7VGOrh2kVE6lWtq4RuU877VetuzbU8f62vXaSRKdCWSNUyZ3S/RESkklQpc0b3\nS0TcToG2RKqWOePm+1UPWwWJiEh+qpQ54/b7VeutgkSk9hRoRWxSAzAREZH6oiZgIqJte0RsUgMw\nERGR+qImYCKiQCtiUzH75YqIiEjlFLNfrogsLppyLGKTGlqJiIjUFzW1EhEFWhGb7DS0UuMoERGR\n6rHT1EqNo0QWNwVakTJS4ygREZH6osZRIoub1tCKlJEaR4mIiNQXNY4SWdwUaEXKSI2jRERE6osa\nR4ksbppyLFJGahwlIiJSX9Q4SmRxU6CVvNzc5KgWY7fTOEpERKQUbm5yVIux22kcJSLupUArebm5\nyZGbxy4iIpKLm5scuXnsIlKftIZW8nJzkyM3j11ERCQXNzc5cvPYRaQ+KdBKXm5ucuTmsYuIiOTi\n5iZHbh67iNQnTTmWvNzc5MjNYxcREcnFzU2O3Dx2EalPCrSSl5ubHLl57CIiIrm4ucmRm8cuIvVJ\nU45FRERERETElRRoRURERERExJUUaEVERERERMSVFGhFRERERETElRRoRURERERExJUUaEVERERE\nRMSVFGhFRERERETElRRoRURERERExJUUaEVERERERMSVFGhFRERERETElRRoRURERERExJUUaEVE\nRERERMSVFGhFRERERETElRRoRURERERExJUUaEVERERERMSVFGhFRERERETElRRoRURERERExJUU\naEVERERERMSVFGhFRERERETElRRoRURERERExJUUaEVERERERMSVFGhFRERERETElRRoRURERERE\nxJUUaEVERERERMSVFGhFRERERETElRRoRURERERExJUUaEVERERERMSVFGhFRERERETElRRoRURE\nRERExJXuqNWJDcPYAvx74qH6G6Zp7qvVWERERETPZhERcZ+aVGgNw2gCvgr8MrAB2GkYxgdrMRYR\nERHRs1lERNypVlOOO4FR0zTfNk1zHugDttdoLCIiIqJns4iIuFCtphyvAd5J+zpE/EGayxKAd999\nt5JjEhGRBpH2PFlSy3HUGT2bRUSkZop9NtdsDa1DPoDPfvaztR6HiIgsLj7gzVoPwqX0bBYRkUpw\n9GyuVaAdB+5L+9qf+F4uw8DHgEngZgXHJSIijWEJ8QfmcK0HUkf0bBYRkVoq6tnsicVilRlOHoZh\nLAFM4DHiD8KTwE7TNP+h6oMRERERPZtFRMSVatIUyjTNm8A/A14BfgT06YEpIiJSO3o2i4iIG9Wk\nQisiIiIiIiJSqlpt2yMiIiIiIiJSEgVaERERERERcSUFWhEREREREXGlut6H1jCMTwP/Bvg5YKNp\nmq+n/ez3gaeAG8Dvmqb5Sk0GWWWGYWwB/j3xDyO+YZrmvhoPqaoMw/gGsBU4b5rmLyS+1wocBNYC\nbwHdpmlerNkgq8QwDD/wAnAvcAv4T6Zp/ocGvh/Lge8Cy4j/f9tfmab5lUa9HwCGYTQBPwBCpmn+\naoPfi7eAi8T/rcybptnZyPejFHo2L6Rns57NSXo2Z9KzeSE9m28r17O53iu0fw98Cjie/k3DMH4O\n6Cb+MH0ceN4wDE/1h1ddiX8AXwV+GdgA7DQM44O1HVXV/QXx60/3ZeDbpmkawN8Cv1/1UdXGDeCL\npmluAH4J+J3E34eGvB+mac4BHzdN8yHgQeBxwzA6adD7kfC7wBtpXzfyvbgFbDZN8yHTNDsT32vk\n+1EKPZvT6NkM6NmcTs/mNHo2Z6Vn821leTbXdaA140YB6wNxO/HtBG6YpvkWMAp0Wt+/CHUCo6Zp\nvm2a5jzQR/xeNAzTNF8DopZvbwe+mfj9N4EdVR1UjZim+a5pmqcTv78C/APgp0HvB4BpmjOJ3y4n\n/klwjAa9H4kqwRPA19O+3ZD3IsHDwmdeI9+PounZvICezXo2p+jZvJCezbfp2bxAWZ7NdR1o81gD\nvJP29Xjie4ud9bpDNMZ1F3KPaZrnIf4gAe6p8XiqzjCMDxD/5PP7wL2Nej8Mw2gyDOMU8C4waJrm\nMI17P/4U+D3i/+GQ1Kj3AuL3YdAwjGHDML6Q+F4j349K0LM5Ts/mOD2b9WwG9Gy20LM5U1mezTVf\nQ2sYxiDxdQZJHuIXt9s0zSO1GZW4XENtrmwYRjPwV8TXq10xDMN6/Q1zP0zTvAU8ZBjGTwH/3TCM\nDSy8/kV/PwzD+BXia9lOG4axOc9LF/29SPNR0zQnDcNYDbxiGIZJA/7dsEvPZqmAhvr3pWfzbXo2\nx+nZnFVZns01D7SmaXYV8bZx4GfSvvYnvrfYjQP3pX3dKNddyHnDMO41TfO8YRg/DbxX6wFVi2EY\ndxB/YP6laZr9iW837P1IMk3zkmEYrwJbaMz78VHgVw3DeAJYCbzPMIy/BN5twHsBgGmak4lfLxiG\ncZj4NNFG/Lthi57NjujZnF3D/vvSszk7PZv1bLYq17PZTVOO09fqvAR8xjCMZYZhtAPrgJO1GVZV\nDQPrDMNYaxjGMuAzxO9Fo/Gw8O/DbyV+/5tAv/UNi9h+4A3TNP8s7XsNeT8Mw1hlGMbdid+vBLqI\nr11quPthmuYu0zTvM03zZ4n//8Tfmqb5G8ARGuxeABiGcWeiWoJhGHcBnyTe2Kjh/m5UgJ7NejYn\n6dl8m57NCXo236Znc6ZyPps9sVj9VrUNw9gB/L/AKmAaOG2a5uOJn/0+8HlgnsbbGuDPuL01wLM1\nHlJVGYbxIrAZeD9wHvgj4DDwX4lXBt4m3t57ulZjrBbDMD5KvBX+3xOfjhEDdhH/D8hDNN79+BDx\n5gFNif8dNE1zj2EYXhrwfiQZhvEo8KXE1gANeS8S4eq/E/83cgfwLdM0n23U+1EqPZsX0rNZz+Yk\nPZsz6dmcnZ7N5X0213WgFREREREREcnFTVOORURERERERFIUaEVERERERMSVFGhFRERERETElRRo\nRURERERExJUUaEVERERERMSVFGhFRERERETEle6o9QBEGpFhGGuBEeBHiW8tA8aB3zZNc6KI4/0m\n8Khpmk8ZhnEU+IJpmu/meO2/AQZN0/w7B8e/ZZqmPgATEZFFS89mEXdSoBWpnXHTNH8x+YVhGHuB\nrwK/VspBTdPcWuAljwJ/6/Cw2rBaREQagZ7NIi6jQCtSP74L/KphGOeA/wl8GPgY8DjwLwAP8EPg\nd0zTvG4Yxm8Au4GLwE+AywCJ9z8KnAf+I/AIcB34d8By4CPA1w3D+BRwDegFvMAM8H+apnk68Sn1\nfwHuSoxFRESkEenZLFLnNE1BpA4YhrEUCACvEf/E9WXTNH8OuAf4P4BfSnxifAH4V4Zh+IB9xB+I\nvwS8L+1wyU9s/zlwl2maHwS6gD8ADgA/AD5vmuaPgG8Cv2ea5keAfwr0Jd77VWB/4py2pz+JiIgs\nFno2i7iDKrQitbPGMIzXiX+6u4z4p61fBn6Z25+8fhxYB3zfMAwPsBR4HXgY+DvTNKcADMP4L8An\nEu/xJH59FPhzANM0zwMfSrwWwGMYxl3ARuAvEscGuNMwDC+wGfhM4nvfAr5ezgsXERGpU3o2i7iM\nAq1I7WSs00lKPNRmE18uAQ6ZpvkvEj+7k/iD87HEz5JupP0++SnwvOW49xOf/pS0BJi1rBVqM00z\nYhjGLRIzOEzTjCW+FhERWez0bBZxGU05FqkdT+GX8CrwKcMwVic+qf0a8LvEpz/9b4Zh+AzDaCI+\nJcp63O8C3QCGYdyTONYy4g/YO0zTvASMGobx2cRruhLvAfg28BuJ7/8T4ut7REREFjs9m0VcRoFW\npHZydSdMfd80zf8P+Arxzod/T/yB+Kxpmu8RX4fzHeD7xJtPWN//PDBjGMYZ4BXgn5mmeRU4BnzN\nMIz/Hfgs8IXEa/aQeMgmjv1PDMM4DWwBLpV4rSIiIm6gZ7OIy3hiMXX8FhEREREREfdRhVZERERE\nRERcSYFWREREREREXEmBVkRERERERFxJgVZERERERERcSYFWREREREREXEmBVkRERERERFxJgVZE\nRERERERc6f8HmngYeCyePEMAAAAASUVORK5CYII=\n",
      "text/plain": [
       "<matplotlib.figure.Figure at 0x121d6c550>"
      ]
     },
     "metadata": {},
     "output_type": "display_data"
    }
   ],
   "source": [
    "fig, axes = plt.subplots(1,2, figsize=(16,8))\n",
    "\n",
    "axes[0].scatter(cvp_lr_preds, y, c='red')\n",
    "axes[1].scatter(cvp_rcv_preds, y, c='k')\n",
    "\n",
    "axes[0].set_title('Linear Model')\n",
    "axes[0].set_ylabel('Actual')\n",
    "axes[0].set_xlabel('Predicted')\n",
    "\n",
    "axes[1].set_title('Ridge Model')\n",
    "axes[1].set_ylabel('Actual')\n",
    "axes[1].set_xlabel('Predicted');"
   ]
  },
  {
   "cell_type": "markdown",
   "metadata": {
    "slideshow": {
     "slide_type": "slide"
    }
   },
   "source": [
    "## Independent Practice\n",
    "\n",
    "Using the diabetes dataset given below:\n",
    "1. Fit a linear model on all the data\n",
    "2. Get the r-squared value\n",
    "3. Now implement train_test_split using sklearn\n",
    "4. Get the r-squared value on your test set. How does it compare?\n",
    "5. Rerun the steps above using a LASSO and Ridge model. What are the default alphas?\n",
    "6. Retrieve the coefficients of both. How do they compare?\n",
    "7. Now use RidgeCV and LASSOCV to find the optimal alphas. What are they?\n",
    "8. Finally, use cross_val_score on all three models."
   ]
  },
  {
   "cell_type": "code",
   "execution_count": 444,
   "metadata": {
    "collapsed": false,
    "hidePrompt": true,
    "slideshow": {
     "slide_type": "-"
    }
   },
   "outputs": [
    {
     "data": {
      "text/html": [
       "<div>\n",
       "<table border=\"1\" class=\"dataframe\">\n",
       "  <thead>\n",
       "    <tr style=\"text-align: right;\">\n",
       "      <th></th>\n",
       "      <th>age</th>\n",
       "      <th>sex</th>\n",
       "      <th>bmi</th>\n",
       "      <th>map</th>\n",
       "      <th>tc</th>\n",
       "      <th>ldl</th>\n",
       "      <th>hdl</th>\n",
       "      <th>tch</th>\n",
       "      <th>ltg</th>\n",
       "      <th>glu</th>\n",
       "    </tr>\n",
       "  </thead>\n",
       "  <tbody>\n",
       "    <tr>\n",
       "      <th>0</th>\n",
       "      <td>0.038076</td>\n",
       "      <td>0.050680</td>\n",
       "      <td>0.061696</td>\n",
       "      <td>0.021872</td>\n",
       "      <td>-0.044223</td>\n",
       "      <td>-0.034821</td>\n",
       "      <td>-0.043401</td>\n",
       "      <td>-0.002592</td>\n",
       "      <td>0.019908</td>\n",
       "      <td>-0.017646</td>\n",
       "    </tr>\n",
       "    <tr>\n",
       "      <th>1</th>\n",
       "      <td>-0.001882</td>\n",
       "      <td>-0.044642</td>\n",
       "      <td>-0.051474</td>\n",
       "      <td>-0.026328</td>\n",
       "      <td>-0.008449</td>\n",
       "      <td>-0.019163</td>\n",
       "      <td>0.074412</td>\n",
       "      <td>-0.039493</td>\n",
       "      <td>-0.068330</td>\n",
       "      <td>-0.092204</td>\n",
       "    </tr>\n",
       "    <tr>\n",
       "      <th>2</th>\n",
       "      <td>0.085299</td>\n",
       "      <td>0.050680</td>\n",
       "      <td>0.044451</td>\n",
       "      <td>-0.005671</td>\n",
       "      <td>-0.045599</td>\n",
       "      <td>-0.034194</td>\n",
       "      <td>-0.032356</td>\n",
       "      <td>-0.002592</td>\n",
       "      <td>0.002864</td>\n",
       "      <td>-0.025930</td>\n",
       "    </tr>\n",
       "    <tr>\n",
       "      <th>3</th>\n",
       "      <td>-0.089063</td>\n",
       "      <td>-0.044642</td>\n",
       "      <td>-0.011595</td>\n",
       "      <td>-0.036656</td>\n",
       "      <td>0.012191</td>\n",
       "      <td>0.024991</td>\n",
       "      <td>-0.036038</td>\n",
       "      <td>0.034309</td>\n",
       "      <td>0.022692</td>\n",
       "      <td>-0.009362</td>\n",
       "    </tr>\n",
       "    <tr>\n",
       "      <th>4</th>\n",
       "      <td>0.005383</td>\n",
       "      <td>-0.044642</td>\n",
       "      <td>-0.036385</td>\n",
       "      <td>0.021872</td>\n",
       "      <td>0.003935</td>\n",
       "      <td>0.015596</td>\n",
       "      <td>0.008142</td>\n",
       "      <td>-0.002592</td>\n",
       "      <td>-0.031991</td>\n",
       "      <td>-0.046641</td>\n",
       "    </tr>\n",
       "  </tbody>\n",
       "</table>\n",
       "</div>"
      ],
      "text/plain": [
       "        age       sex       bmi       map        tc       ldl       hdl  \\\n",
       "0  0.038076  0.050680  0.061696  0.021872 -0.044223 -0.034821 -0.043401   \n",
       "1 -0.001882 -0.044642 -0.051474 -0.026328 -0.008449 -0.019163  0.074412   \n",
       "2  0.085299  0.050680  0.044451 -0.005671 -0.045599 -0.034194 -0.032356   \n",
       "3 -0.089063 -0.044642 -0.011595 -0.036656  0.012191  0.024991 -0.036038   \n",
       "4  0.005383 -0.044642 -0.036385  0.021872  0.003935  0.015596  0.008142   \n",
       "\n",
       "        tch       ltg       glu  \n",
       "0 -0.002592  0.019908 -0.017646  \n",
       "1 -0.039493 -0.068330 -0.092204  \n",
       "2 -0.002592  0.002864 -0.025930  \n",
       "3  0.034309  0.022692 -0.009362  \n",
       "4 -0.002592 -0.031991 -0.046641  "
      ]
     },
     "execution_count": 444,
     "metadata": {},
     "output_type": "execute_result"
    }
   ],
   "source": [
    "columns = \"age sex bmi map tc ldl hdl tch ltg glu\".split()\n",
    "diabetes = datasets.load_diabetes()\n",
    "dd = pd.DataFrame(diabetes.data, columns=columns)\n",
    "dy = diabetes.target\n",
    "# Take a look at the data again\n",
    "dd.head()"
   ]
  },
  {
   "cell_type": "code",
   "execution_count": null,
   "metadata": {
    "collapsed": false,
    "slideshow": {
     "slide_type": "slide"
    }
   },
   "outputs": [],
   "source": []
  },
  {
   "cell_type": "code",
   "execution_count": null,
   "metadata": {
    "collapsed": false,
    "slideshow": {
     "slide_type": "slide"
    }
   },
   "outputs": [],
   "source": []
  },
  {
   "cell_type": "code",
   "execution_count": null,
   "metadata": {
    "collapsed": false,
    "slideshow": {
     "slide_type": "slide"
    }
   },
   "outputs": [],
   "source": []
  },
  {
   "cell_type": "code",
   "execution_count": null,
   "metadata": {
    "collapsed": false,
    "slideshow": {
     "slide_type": "-"
    }
   },
   "outputs": [],
   "source": []
  },
  {
   "cell_type": "code",
   "execution_count": null,
   "metadata": {
    "collapsed": false,
    "slideshow": {
     "slide_type": "slide"
    }
   },
   "outputs": [],
   "source": []
  },
  {
   "cell_type": "code",
   "execution_count": null,
   "metadata": {
    "collapsed": false,
    "slideshow": {
     "slide_type": "-"
    }
   },
   "outputs": [],
   "source": []
  },
  {
   "cell_type": "code",
   "execution_count": null,
   "metadata": {
    "collapsed": false,
    "slideshow": {
     "slide_type": "slide"
    }
   },
   "outputs": [],
   "source": []
  },
  {
   "cell_type": "code",
   "execution_count": null,
   "metadata": {
    "collapsed": false,
    "slideshow": {
     "slide_type": "-"
    }
   },
   "outputs": [],
   "source": []
  },
  {
   "cell_type": "code",
   "execution_count": null,
   "metadata": {
    "collapsed": false,
    "slideshow": {
     "slide_type": "slide"
    }
   },
   "outputs": [],
   "source": []
  },
  {
   "cell_type": "code",
   "execution_count": null,
   "metadata": {
    "collapsed": false,
    "slideshow": {
     "slide_type": "-"
    }
   },
   "outputs": [],
   "source": []
  },
  {
   "cell_type": "code",
   "execution_count": null,
   "metadata": {
    "collapsed": false,
    "slideshow": {
     "slide_type": "slide"
    }
   },
   "outputs": [],
   "source": []
  },
  {
   "cell_type": "code",
   "execution_count": null,
   "metadata": {
    "collapsed": false,
    "slideshow": {
     "slide_type": "-"
    }
   },
   "outputs": [],
   "source": []
  },
  {
   "cell_type": "code",
   "execution_count": null,
   "metadata": {
    "collapsed": false,
    "slideshow": {
     "slide_type": "-"
    }
   },
   "outputs": [],
   "source": []
  },
  {
   "cell_type": "code",
   "execution_count": null,
   "metadata": {
    "collapsed": true
   },
   "outputs": [],
   "source": []
  }
 ],
 "metadata": {
  "anaconda-cloud": {},
  "celltoolbar": "Slideshow",
  "kernelspec": {
   "display_name": "Python [Root]",
   "language": "python",
   "name": "Python [Root]"
  },
  "language_info": {
   "codemirror_mode": {
    "name": "ipython",
    "version": 2
   },
   "file_extension": ".py",
   "mimetype": "text/x-python",
   "name": "python",
   "nbconvert_exporter": "python",
   "pygments_lexer": "ipython2",
   "version": "2.7.12"
  }
 },
 "nbformat": 4,
 "nbformat_minor": 0
}
