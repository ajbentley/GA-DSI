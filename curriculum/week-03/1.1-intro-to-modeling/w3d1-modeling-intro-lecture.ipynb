{
 "cells": [
  {
   "cell_type": "code",
   "execution_count": 1,
   "metadata": {
    "collapsed": true,
    "slideshow": {
     "slide_type": "skip"
    }
   },
   "outputs": [],
   "source": [
    "import numpy as np\n",
    "import pandas as pd\n",
    "\n",
    "import matplotlib.pyplot as plt\n",
    "%matplotlib inline\n",
    "\n",
    "import seaborn as sns"
   ]
  },
  {
   "cell_type": "markdown",
   "metadata": {
    "slideshow": {
     "slide_type": "slide"
    }
   },
   "source": [
    "# ![](https://ga-dash.s3.amazonaws.com/production/assets/logo-9f88ae6c9c3871690e33280fcf557f33.png) Intro to Modeling\n",
    "\n",
    "Week 3 | Day 1"
   ]
  },
  {
   "cell_type": "markdown",
   "metadata": {
    "slideshow": {
     "slide_type": "slide"
    }
   },
   "source": [
    "### LEARNING OBJECTIVES\n",
    "*After this lesson, you will be able to:*\n",
    "- Define the terms: modeling, prediction\n",
    "- Understand the best line of a set of data\n",
    "- Find the best fit line by hand"
   ]
  },
  {
   "cell_type": "markdown",
   "metadata": {
    "slideshow": {
     "slide_type": "slide"
    }
   },
   "source": [
    "## What is a model?"
   ]
  },
  {
   "cell_type": "markdown",
   "metadata": {
    "slideshow": {
     "slide_type": "slide"
    }
   },
   "source": [
    "> the generation of a physical, conceptual, or mathematical representation of a real phenomenon that is difficult to observe directly. Scientific models are used to explain and predict the behaviour of real objects or systems and are used in a variety of scientific disciplines, ranging from physics and chemistry to ecology and the Earth sciences. Although modeling is a central component of modern science, scientific models at best are approximations of the objects and systems that they represent—they are not exact replicas. -- Encyclopedia Britannica"
   ]
  },
  {
   "cell_type": "markdown",
   "metadata": {
    "slideshow": {
     "slide_type": "slide"
    }
   },
   "source": [
    "## Key takeaways:\n",
    "\n",
    "- Models explain and predict (through quantifying relationships)\n",
    "- Models are approximations (i.e., they are not perfect representations)"
   ]
  },
  {
   "cell_type": "markdown",
   "metadata": {
    "slideshow": {
     "slide_type": "slide"
    }
   },
   "source": [
    "# Time/Direction Example\n",
    "\n",
    "When we drive a constant speed in a single direction, what happens?"
   ]
  },
  {
   "cell_type": "markdown",
   "metadata": {
    "slideshow": {
     "slide_type": "slide"
    }
   },
   "source": [
    "**When you drive at a constant speed `s` for `t` hours, the distance you travel is**\n",
    "\n",
    "<span style=\"font-size: 20pt;\">\n",
    "$$ \n",
    "d = st \n",
    "$$\n",
    "</span>\n"
   ]
  },
  {
   "cell_type": "markdown",
   "metadata": {
    "slideshow": {
     "slide_type": "-"
    }
   },
   "source": [
    "* The quantities of distance and time are in a **linear relationship**\n",
    "because the graph is a line with **slope (rate) `s`**.\n",
    "* This equation is a **model** between the **distance travelled** and the **time travelled**."
   ]
  },
  {
   "cell_type": "markdown",
   "metadata": {
    "slideshow": {
     "slide_type": "slide"
    }
   },
   "source": [
    "## Newton's Second Law of Motion\n",
    "\n",
    "$$ F = ma $$\n",
    "\n",
    "- The sum of forces on an object is equal to the mass of the object times the acceleration\n",
    "- Again we see a linear relationship"
   ]
  },
  {
   "cell_type": "markdown",
   "metadata": {
    "slideshow": {
     "slide_type": "slide"
    }
   },
   "source": [
    "## Intro: Linear Relationships\n",
    "\n",
    "Because we use rates to commonly understand natural processes, linear\n",
    "relationships are ubiquitous in our lives and our data. We don't always know\n",
    "how two quantities are related. Linear regression is a way to determine the\n",
    "relationship from a set of data.\n",
    "\n",
    "* Models are relationships between quantities\n",
    "* Linear regression is a method to determine the coefficients of linear\n",
    "relationships\n",
    "\n",
    "![](http://www.comfsm.fm/~dleeling/statistics/relationships.gif)"
   ]
  },
  {
   "cell_type": "markdown",
   "metadata": {
    "slideshow": {
     "slide_type": "slide"
    }
   },
   "source": [
    "## Prediction\n",
    "\n",
    "**With a model we can make _predictions.**\n",
    "\n",
    "35 miles per hour for 2 hours then I predict that you will travel ?? miles.\n",
    "\n",
    "<br><br>\n",
    "\n",
    "<div style=\"font-size: 20pt;\">\n",
    "$$\n",
    "d=st\n",
    "$$\n",
    "</div>"
   ]
  },
  {
   "cell_type": "markdown",
   "metadata": {
    "slideshow": {
     "slide_type": "-"
    }
   },
   "source": [
    "<div style=\"font-size: 20pt;\">\n",
    "$$\n",
    "distance = 35 miles * 2 hours\n",
    "$$\n",
    "</div>"
   ]
  },
  {
   "cell_type": "markdown",
   "metadata": {
    "slideshow": {
     "slide_type": "-"
    }
   },
   "source": [
    "<div style=\"font-size: 20pt;\">\n",
    "$$\n",
    "mph 35 * 2 hours = 70 miles\n",
    "$$\n",
    "</div>"
   ]
  },
  {
   "cell_type": "markdown",
   "metadata": {
    "slideshow": {
     "slide_type": "slide"
    }
   },
   "source": [
    "## \"All models are wrong but some are useful\" - George Box"
   ]
  },
  {
   "cell_type": "markdown",
   "metadata": {
    "slideshow": {
     "slide_type": "slide"
    }
   },
   "source": [
    "## Predictions Don't Have to Be Accurate to be Useful\n",
    "\n",
    "In general our models are not so precise if the relationship between our quantities are not perfect, but we can still make a reasonable guess using our models.\n",
    "\n",
    "* They have to generalize well to be useful\n",
    "* Real life data comes installed with lots of unexpected variation\n",
    "* Nothing in life is 100% certain, not even relationships 🙄"
   ]
  },
  {
   "cell_type": "markdown",
   "metadata": {
    "slideshow": {
     "slide_type": "slide"
    }
   },
   "source": [
    "## Exercise:\n",
    "\n",
    "Pair up and consider the situation of the movie theather owner. What are some of the things that it would be useful to model/predict for this person and her business?"
   ]
  },
  {
   "cell_type": "markdown",
   "metadata": {
    "slideshow": {
     "slide_type": "slide"
    }
   },
   "source": [
    "### Follow up\n",
    "\n",
    "For example, if you own a movie theatre, you need need to make sure you have enough\n",
    "staff on nights and weekends to handle the increased number of patrons. A model\n",
    "to **predict how many movie-goers will show up on a given night** will help you\n",
    "predict the amount of employees that you'll need -- enough to handle the customers\n",
    "but not too many so that you keep labor costs reasonable. Too few employees and\n",
    "you won't be able to serve all the customers; too many and you've spent too much\n",
    "on labor. The better the estimate the better your business runs, and even if\n",
    "the estimate is off a bit you are still more prepared than if you had no\n",
    "model at all.\n",
    "\n",
    "Similarly, other models might **predict**:\n",
    "- **How much** inventory to **stock**\n",
    "- **How much** a component or raw material will **cost** during **different times of year**\n",
    "- The **percentage of voters** that will show up in various **weather conditions** \n",
    "- and just about anything else\n",
    "\n",
    "With models we can make predictions.  Good predictions are extremely valuable for a wide variety of purposes"
   ]
  },
  {
   "cell_type": "markdown",
   "metadata": {
    "slideshow": {
     "slide_type": "slide"
    }
   },
   "source": [
    "# Linear Regression By Eye\n",
    "\n",
    "One way we can approximate a slope, is by drawing a line seperating a set of datapoints approximately, then calculating the intercept and slope using a simple equation:\n",
    "\n",
    "$$ y = mx + b $$\n",
    "\n",
    "The basic steps:\n",
    "\n",
    " - Draw a line that splits the data in half\n",
    " - Find the intercept \"b\"\n",
    " - Calculate the slope (the increase in y / increase in x)\n"
   ]
  },
  {
   "cell_type": "markdown",
   "metadata": {
    "slideshow": {
     "slide_type": "slide"
    }
   },
   "source": [
    "## Let's consider the points (0,1) and (2,2). "
   ]
  },
  {
   "cell_type": "code",
   "execution_count": 2,
   "metadata": {
    "collapsed": false,
    "slideshow": {
     "slide_type": "-"
    }
   },
   "outputs": [
    {
     "data": {
      "text/plain": [
       "[<matplotlib.lines.Line2D at 0xa9d5400>]"
      ]
     },
     "execution_count": 2,
     "metadata": {},
     "output_type": "execute_result"
    },
    {
     "data": {
      "image/png": "[encoded data removed]",
      "text/plain": [
       "<matplotlib.figure.Figure at 0xa9d53c8>"
      ]
     },
     "metadata": {},
     "output_type": "display_data"
    }
   ],
   "source": [
    "# (x0, x1), (y0, y1)\n",
    "data = [[0,2], [1, 2]]\n",
    "\n",
    "plt.plot(data[0], data[1], \"k-\")\n",
    "plt.plot(data[0], data[1], \"o\")"
   ]
  },
  {
   "cell_type": "markdown",
   "metadata": {
    "slideshow": {
     "slide_type": "slide"
    }
   },
   "source": [
    "We can find the slope by taking the difference of _x_ points / difference in _y_ points:\n",
    "\n",
    "$$ \\frac{y_0-y_1}{x_0-x_1} $$ \n",
    "\n",
    "With our points **[0,1] and [2,2]** respectively, we should have something that looks like this:\n",
    "\n",
    "$$ \\frac{1-2}{0-2} $$\n",
    "\n",
    "Our slope ends up being:\n",
    "\n",
    "$$ .5 $$\n",
    "\n",
    "Completing our equation _(intercept is 1, where the x crosses the y boundary)_:\n",
    "\n",
    "$$ y = .5x + 1 $$"
   ]
  },
  {
   "cell_type": "markdown",
   "metadata": {
    "slideshow": {
     "slide_type": "slide"
    }
   },
   "source": [
    "## Exercise\n",
    "\n",
    "Using this dataset:\n",
    "[1, 2.5], [1.5, 3.5], [2, 3.0], [3, 3], [4, 5.2], [5, 4.5], [6, 5.9]\n",
    "\n",
    "- Find the line of best fit by eye on your desk or the whiteboard\n",
    "- We'll come together to compare results"
   ]
  },
  {
   "cell_type": "code",
   "execution_count": 3,
   "metadata": {
    "collapsed": false,
    "slideshow": {
     "slide_type": "slide"
    }
   },
   "outputs": [
    {
     "data": {
      "text/plain": [
       "<matplotlib.axes._subplots.AxesSubplot at 0xaa08e80>"
      ]
     },
     "execution_count": 3,
     "metadata": {},
     "output_type": "execute_result"
    },
    {
     "data": {
      "image/png": "[encoded data removed]",
      "text/plain": [
       "<matplotlib.figure.Figure at 0xaa12be0>"
      ]
     },
     "metadata": {},
     "output_type": "display_data"
    }
   ],
   "source": [
    "sample_data = [[1,2.5], [1.5,3.5], [2,3.0], [3,3], [4, 5.2], [5, 4.5], [6, 5.9]]\n",
    "pd.DataFrame(sample_data).plot(kind=\"scatter\", x=0, y=1, figsize=(10, 5))"
   ]
  },
  {
   "cell_type": "markdown",
   "metadata": {
    "slideshow": {
     "slide_type": "slide"
    }
   },
   "source": [
    "## Simple linear regression\n",
    "\n",
    "Simple linear regression is an approach for predicting a **continuous response** using a **single feature**. It takes the following form:\n",
    "\n",
    "$y = \\beta_0 + \\beta_1x$\n",
    "\n",
    "- $y$ is the response\n",
    "- $x$ is the feature\n",
    "- $\\beta_0$ is the intercept\n",
    "- $\\beta_1$ is the coefficient for x\n",
    "\n",
    "$\\beta_0$ and $\\beta_1$ are called the **model coefficients**:\n",
    "\n",
    "- We must \"learn\" the values of these coefficients to create our model.\n",
    "- And once we've learned these coefficients, we can use the model to predict **something**.\n"
   ]
  },
  {
   "cell_type": "markdown",
   "metadata": {
    "slideshow": {
     "slide_type": "slide"
    }
   },
   "source": [
    "[Wikipedia](https://en.wikipedia.org/wiki/Simple_linear_regression) has a great explanation about how to get the best fit line from the least squares method.  \n",
    "\n",
    "_In other words, α (the y-intercept) and β (the slope)._\n",
    "\n",
    "![Best fit coefficients](https://upload.wikimedia.org/math/e/e/d/eed68731d1230938d457c576deee1bcf.png)\n",
    "\n",
    "Looks messy.  This is the fun part of statistics.  Generally, you don't want to calculate these by hand.  Fortunately, you likely never will."
   ]
  },
  {
   "cell_type": "markdown",
   "metadata": {
    "slideshow": {
     "slide_type": "slide"
    }
   },
   "source": [
    "## Estimating (\"learning\") model coefficients\n",
    "- Coefficients are estimated during the model fitting process using the least squares criterion.\n",
    "- We are find the line (mathematically) which minimizes the sum of squared residuals (or \"sum of squared errors\").\n",
    "\n",
    "![](https://snag.gy/9R57Or.jpg)\n",
    "\n",
    "_Residuals: The difference between the observed value of the dependent variable (y) and the predicted value (ŷ) is called the residual (e). Each data point has one residual._"
   ]
  },
  {
   "cell_type": "markdown",
   "metadata": {
    "slideshow": {
     "slide_type": "slide"
    }
   },
   "source": [
    "## Plotting relationships"
   ]
  },
  {
   "cell_type": "markdown",
   "metadata": {
    "slideshow": {
     "slide_type": "-"
    }
   },
   "source": [
    "Seaborn's regplot"
   ]
  },
  {
   "cell_type": "code",
   "execution_count": 6,
   "metadata": {
    "collapsed": false,
    "slideshow": {
     "slide_type": "-"
    }
   },
   "outputs": [
    {
     "data": {
      "image/png": "[encoded data removed]",
      "text/plain": [
       "<matplotlib.figure.Figure at 0xc500780>"
      ]
     },
     "metadata": {},
     "output_type": "display_data"
    }
   ],
   "source": [
    "# Our sample data\n",
    "x = (60, 61, 62, 63, 65)\n",
    "y = (3.1, 3.6, 3.8, 4, 4.1)\n",
    "\n",
    "sample_data = zip(x, y)\n",
    "df = pd.DataFrame(sample_data, columns=[\"x\", \"y\"])\n",
    "\n",
    "df.head()\n",
    "\n",
    "my_plot = df.plot(kind=\"scatter\", x=\"x\", y=\"y\", title=\"Sample Data\", figsize=(10, 5))\n",
    "\n",
    "# Add value markers because it's nice to have a visual reference to data points\n",
    "for point in sample_data:\n",
    "    my_plot.text(point[0] + .2, point[1] - .02, str(point))\n",
    "\n",
    "sns.regplot(x=\"x\", y=\"y\", data=df);"
   ]
  },
  {
   "cell_type": "markdown",
   "metadata": {
    "slideshow": {
     "slide_type": "slide"
    }
   },
   "source": [
    "## Plotting relationships"
   ]
  },
  {
   "cell_type": "markdown",
   "metadata": {
    "slideshow": {
     "slide_type": "-"
    }
   },
   "source": [
    "Seaborn's pairplot"
   ]
  },
  {
   "cell_type": "code",
   "execution_count": 7,
   "metadata": {
    "collapsed": false,
    "slideshow": {
     "slide_type": "-"
    }
   },
   "outputs": [
    {
     "data": {
      "text/html": [
       "<div>\n",
       "<table border=\"1\" class=\"dataframe\">\n",
       "  <thead>\n",
       "    <tr style=\"text-align: right;\">\n",
       "      <th></th>\n",
       "      <th>total_bill</th>\n",
       "      <th>tip</th>\n",
       "      <th>sex</th>\n",
       "      <th>smoker</th>\n",
       "      <th>day</th>\n",
       "      <th>time</th>\n",
       "      <th>size</th>\n",
       "    </tr>\n",
       "  </thead>\n",
       "  <tbody>\n",
       "    <tr>\n",
       "      <th>0</th>\n",
       "      <td>16.99</td>\n",
       "      <td>1.01</td>\n",
       "      <td>Female</td>\n",
       "      <td>No</td>\n",
       "      <td>Sun</td>\n",
       "      <td>Dinner</td>\n",
       "      <td>2</td>\n",
       "    </tr>\n",
       "    <tr>\n",
       "      <th>1</th>\n",
       "      <td>10.34</td>\n",
       "      <td>1.66</td>\n",
       "      <td>Male</td>\n",
       "      <td>No</td>\n",
       "      <td>Sun</td>\n",
       "      <td>Dinner</td>\n",
       "      <td>3</td>\n",
       "    </tr>\n",
       "    <tr>\n",
       "      <th>2</th>\n",
       "      <td>21.01</td>\n",
       "      <td>3.50</td>\n",
       "      <td>Male</td>\n",
       "      <td>No</td>\n",
       "      <td>Sun</td>\n",
       "      <td>Dinner</td>\n",
       "      <td>3</td>\n",
       "    </tr>\n",
       "  </tbody>\n",
       "</table>\n",
       "</div>"
      ],
      "text/plain": [
       "   total_bill   tip     sex smoker  day    time  size\n",
       "0       16.99  1.01  Female     No  Sun  Dinner     2\n",
       "1       10.34  1.66    Male     No  Sun  Dinner     3\n",
       "2       21.01  3.50    Male     No  Sun  Dinner     3"
      ]
     },
     "execution_count": 7,
     "metadata": {},
     "output_type": "execute_result"
    }
   ],
   "source": [
    "tips = sns.load_dataset(\"tips\")\n",
    "tips.head(3)"
   ]
  },
  {
   "cell_type": "code",
   "execution_count": 8,
   "metadata": {
    "collapsed": false,
    "slideshow": {
     "slide_type": "slide"
    }
   },
   "outputs": [
    {
     "data": {
      "text/plain": [
       "<seaborn.axisgrid.PairGrid at 0xc31d908>"
      ]
     },
     "execution_count": 8,
     "metadata": {},
     "output_type": "execute_result"
    },
    {
     "data": {
      "image/png": "[encoded data removed]",
      "text/plain": [
       "<matplotlib.figure.Figure at 0xc31d860>"
      ]
     },
     "metadata": {},
     "output_type": "display_data"
    }
   ],
   "source": [
    "sns.pairplot(tips, kind=\"reg\")"
   ]
  },
  {
   "cell_type": "markdown",
   "metadata": {
    "slideshow": {
     "slide_type": "slide"
    }
   },
   "source": [
    "## Exercise\n",
    "\n",
    "Create a Python function from scratch that minimizes the sum of squared errors using the formula above. The function should accept a list of points and return the best slope and intercept.\n",
    "\n",
    "Use the following data points:<br>\n",
    "[[-1, 0], [1, 3],  [2, 4], [3, 7],  [4, 10]]\n",
    "<br>Check your results by doing the calculations by hand\n",
    "\n",
    "This is an excellent video on the calculation if you need help:<br>\n",
    "[Calculation By Hand](https://youtu.be/Qa2APhWjQPc)<br>\n",
    "The derivation of the calculation begins at around the 17:35 mark."
   ]
  },
  {
   "cell_type": "code",
   "execution_count": 41,
   "metadata": {
    "collapsed": false
   },
   "outputs": [],
   "source": [
    "\n",
    "\n",
    "\n",
    "\n",
    "\n",
    "\n",
    "\n",
    "\n",
    "\n",
    "\n",
    "# # solution\n",
    "\n",
    "# def min_sse(my_list):\n",
    "    \n",
    "#     xy_bar = pd.Series([x*y for x,y in my_list]).mean()\n",
    "#     x_bar = pd.Series([x[0] for x in my_list]).mean()\n",
    "#     y_bar = pd.Series([x[1] for x in my_list]).mean()\n",
    "#     x_sq_bar = pd.Series([x[0]**2 for x in my_list]).mean()\n",
    "#     x_bar_sq = x_bar**2\n",
    "    \n",
    "#     m = (xy_bar - x_bar * y_bar)/(x_sq_bar - x_bar_sq)\n",
    "#     a = y_bar - m*x_bar\n",
    "    \n",
    "#     return m, a\n",
    "    \n",
    "    \n",
    "    \n",
    "# m, a = min_sse([[-1, 0], [1, 3], [2, 4], [3, 7], [4, 10]] )"
   ]
  },
  {
   "cell_type": "code",
   "execution_count": 42,
   "metadata": {
    "collapsed": false
   },
   "outputs": [
    {
     "data": {
      "text/plain": [
       "1.9459459459459458"
      ]
     },
     "execution_count": 42,
     "metadata": {},
     "output_type": "execute_result"
    }
   ],
   "source": [
    "m"
   ]
  },
  {
   "cell_type": "code",
   "execution_count": 43,
   "metadata": {
    "collapsed": false
   },
   "outputs": [
    {
     "data": {
      "text/plain": [
       "1.2972972972972974"
      ]
     },
     "execution_count": 43,
     "metadata": {},
     "output_type": "execute_result"
    }
   ],
   "source": [
    "a"
   ]
  },
  {
   "cell_type": "code",
   "execution_count": null,
   "metadata": {
    "collapsed": true
   },
   "outputs": [],
   "source": []
  }
 ],
 "metadata": {
  "anaconda-cloud": {},
  "celltoolbar": "Slideshow",
  "kernelspec": {
   "display_name": "Python [Root]",
   "language": "python",
   "name": "Python [Root]"
  },
  "language_info": {
   "codemirror_mode": {
    "name": "ipython",
    "version": 2
   },
   "file_extension": ".py",
   "mimetype": "text/x-python",
   "name": "python",
   "nbconvert_exporter": "python",
   "pygments_lexer": "ipython2",
   "version": "2.7.12"
  }
 },
 "nbformat": 4,
 "nbformat_minor": 0
}
