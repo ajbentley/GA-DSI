{
 "cells": [
  {
   "cell_type": "markdown",
   "metadata": {
    "slideshow": {
     "slide_type": "slide"
    }
   },
   "source": [
    "# ![](https://ga-dash.s3.amazonaws.com/production/assets/logo-9f88ae6c9c3871690e33280fcf557f33.png) SQL JOINS\n",
    "Week 6 | Lesson 1.1"
   ]
  },
  {
   "cell_type": "markdown",
   "metadata": {
    "slideshow": {
     "slide_type": "slide"
    }
   },
   "source": [
    "### LEARNING OBJECTIVES\n",
    "*After this lesson, you will be able to:*\n",
    "- explain what a `JOIN` operation is\n",
    "- visualize a `JOIN` operation as an operation between sets\n",
    "- distinguish different types of `JOIN`\n",
    "- perform `JOINS` in `SQL`"
   ]
  },
  {
   "cell_type": "markdown",
   "metadata": {
    "slideshow": {
     "slide_type": "slide"
    }
   },
   "source": [
    "### STUDENT PRE-WORK\n",
    "*Before this lesson, you should already be able to:*\n",
    "- connect to a local or remote relational database\n",
    "- perform SQL CRUD actions and queries\n",
    "- merge dataframes with Pandas.merge"
   ]
  },
  {
   "cell_type": "markdown",
   "metadata": {
    "slideshow": {
     "slide_type": "slide"
    }
   },
   "source": [
    "### LESSON GUIDE\n",
    "| TIMING  | TYPE  | TOPIC  |\n",
    "|:-:|---|---|\n",
    "| 5 mins | [Opening](#opening) | Opening |\n",
    "| 15 mins | [Introduction](#introduction) | Joining tables |\n",
    "| 15 mins | [Demo](#demo) | Demo: Different types of JOIN |\n",
    "| 15 mins | [Guided-practice](#guided-practice) | Guided Practice: Other Joins |\n",
    "| 15 mins | [Demo](#demo_2) | Demo: Sub-queries |\n",
    "| 25 minutes | [Ind-practice](#ind-practice) | Independent Practice: Other SQL Commands |\n",
    "| 5 mins | [Conclusion](#conclusion) | Conclusion |"
   ]
  },
  {
   "cell_type": "markdown",
   "metadata": {
    "slideshow": {
     "slide_type": "slide"
    }
   },
   "source": [
    "<a name=\"opening\"></a>\n",
    "## Opening (5 mins)\n",
    "Last week we learned many things about databases, including:\n",
    "\n",
    "- how to connect to a local or remote db\n",
    "- how to add, remove, edit data\n",
    "- how to perform simple queries\n",
    "- how to aggregate, group and sort data\n",
    "\n",
    "> **Check:** What SQL commands did we learn last week? What do they do?\n",
    "\n",
    "We often need to use data stored in more than one table. Last week we did this using `Pandas merge`, but time has come to learn about _`JOIN`_, which is the natural way to merge data within `SQL`."
   ]
  },
  {
   "cell_type": "markdown",
   "metadata": {
    "slideshow": {
     "slide_type": "slide"
    }
   },
   "source": [
    "<a name=\"introduction\"></a>\n",
    "## Joining tables (15 mins)\n",
    "\n",
    "We will use the [Northwind sample database](https://northwinddatabase.codeplex.com/):\n",
    "\n",
    "    psql -h dsi.c20gkj5cvu3l.us-east-1.rds.amazonaws.com -p 5432 -U dsi_student northwind\n",
    "    password: gastudents\n",
    "\n",
    "As a reminder, here are what some of the tables looks like:\n",
    "\n",
    "`customers`:\n",
    "\n",
    "|CustomerID |CompanyName |ContactName | ContactTitle |Address|City | Region | PostalCode | Country |Phone | Fax|\n",
    "|---|\n",
    "|ALFKI| Alfreds Futterkiste| Maria Anders | Sales Representative | Obere Str. 57 | Berlin|| 12209| Germany | 030-0074321| 030-0076545|\n",
    "|ANATR| Ana Trujillo Emparedados y helados | Ana Trujillo | Owner| Avda. de la Constitución 2222 | México D.F. || 05021| Mexico| (5) 555-4729 | (5) 555-3745|\n",
    "|ANTON| Antonio Moreno Taquería| Antonio Moreno | Owner| Mataderos2312 | México D.F. || 05023| Mexico| (5) 555-3932 |\n",
    "|...|...|...|...|...|...|...|...|...|...|...|\n",
    "\n"
   ]
  },
  {
   "cell_type": "markdown",
   "metadata": {
    "slideshow": {
     "slide_type": "slide"
    }
   },
   "source": [
    "`orders`:\n",
    "\n",
    "|OrderID | CustomerID | EmployeeID | OrderDate| RequiredDate | ShippedDate | ShipVia | Freight | ShipName|ShipAddress |ShipCity| ShipRegion | ShipPostalCode | ShipCountry |\n",
    "|----|\n",
    "|10248 | VINET|5 | 1996-07-04 | 1996-08-01 | 1996-07-16| 3 | 32.38 | Vins et alcools Chevalier | 59 rue de l'Abbaye | Reims|| 51100| France|\n",
    "|10249 | TOMSP|6 | 1996-07-05 | 1996-08-16 | 1996-07-10| 1 | 11.61 | Toms Spezialitäten| Luisenstr. 48| Münster|| 44087| Germany|\n",
    "|10250 | HANAR|4 | 1996-07-08 | 1996-08-05 | 1996-07-12| 2 | 65.83 | Hanari Carnes | Rua do Paço, 67| Rio de Janeiro | RJ | 05454-876| Brazil|\n",
    "|...|...|...|...|...|...|...|...|...|...|...|\n",
    "\n"
   ]
  },
  {
   "cell_type": "markdown",
   "metadata": {
    "slideshow": {
     "slide_type": "slide"
    }
   },
   "source": [
    "`order_details`:\n",
    "\n",
    "| OrderID |  ProductID |  UnitPrice | Quantity | Discount |\n",
    "| ----- |\n",
    "|10248|11|14|12|0|\n",
    "|10248|42|9.8|10|0|\n",
    "|10248|72|34.8|5|0|\n",
    "|10249|14|18.6|9|0|\n",
    "|10249|51|42.4|40|0|\n",
    "|10250|41|7.7|10|0|\n",
    "|...|...|...|...|...|\n"
   ]
  },
  {
   "cell_type": "markdown",
   "metadata": {
    "slideshow": {
     "slide_type": "slide"
    }
   },
   "source": [
    "\n",
    "### Joins\n",
    "\n",
    "_SQL joins_ are used when data is spread across different tables. A _join_ operation combines rows from two or more tables in a single new table. To do this, there needs to be a common field between the tables.\n",
    "\n",
    "Join operations can be thought of as operations between two sets, where records with the same key are combined and records missing in one set are either discarded or included as NULL values.\n",
    "\n",
    "> **Check:** where have you encountered a similar functionality in Pandas? How have you used it?"
   ]
  },
  {
   "cell_type": "markdown",
   "metadata": {
    "slideshow": {
     "slide_type": "slide"
    }
   },
   "source": [
    "\n",
    "#### INNER JOIN\n",
    "The most common type of join is: SQL INNER JOIN (simple join). An SQL INNER JOIN returns all rows from multiple tables where the join condition is met.\n",
    "\n",
    "Let's consider a few columns of the `orders` table above:\n",
    "\n",
    "|OrderID|CustomerID|OrderDate|\n",
    "|---|---|---|\n",
    "|10308|2|1996-09-18|\n",
    "|10309|37|1996-09-19|\n",
    "|10310|77|1996-09-20|\n",
    "\n"
   ]
  },
  {
   "cell_type": "markdown",
   "metadata": {
    "slideshow": {
     "slide_type": "slide"
    }
   },
   "source": [
    "In the `customers` table, let's focus on these columns:\n",
    "\n",
    "|CustomerID|CompanyName|ContactName|Country|\n",
    "|---|---|---|---|\n",
    "|1|Alfreds Futterkiste|Maria Anders|Germany|\n",
    "|2|Ana Trujillo Emparedados y helados|Ana Trujillo|Mexico|\n",
    "|3|Antonio Moreno Taquería|Antonio Moreno|Mexico|\n",
    "\n",
    "\n"
   ]
  },
  {
   "cell_type": "markdown",
   "metadata": {
    "slideshow": {
     "slide_type": "slide"
    }
   },
   "source": [
    "Notice that the `CustomerID` column in the `Orders` table refers to the `CustomerID` in the `Customers` table. We can _JOIN_ the two tables in order to obtain a table like the following:\n",
    "\n",
    "|OrderID|CompanyName|OrderDate|\n",
    "|---|---|---|\n",
    "|10308|Ana Trujillo Emparedados y helados|9/18/1996|\n",
    "|10365|Antonio Moreno Taquería|11/27/1996|\n",
    "|10383|Around the Horn|12/16/1996|\n",
    "|10355|Around the Horn|11/15/1996|\n",
    "|10278|Berglunds snabbköp|8/12/1996|\n",
    "\n",
    "A selection of the information contained in the two tables is _joined_ in a single table, using the common key of `CustomerID`."
   ]
  },
  {
   "cell_type": "markdown",
   "metadata": {
    "slideshow": {
     "slide_type": "skip"
    }
   },
   "source": [
    "#### Comparison with Pandas Merge\n",
    "\n",
    "See [here](http://pandas.pydata.org/pandas-docs/stable/comparison_with_sql.html) for a comparison between pandas and SQL and [here](http://pandas.pydata.org/pandas-docs/stable/merging.html#database-style-dataframe-joining-merging) for an in depth review of Pandas merge."
   ]
  },
  {
   "cell_type": "markdown",
   "metadata": {
    "slideshow": {
     "slide_type": "slide"
    }
   },
   "source": [
    "<a name=\"demo\"></a>\n",
    "## Demo: Different types of JOIN (15 mins)\n",
    "\n",
    "|OrderID|CompanyName|OrderDate|\n",
    "|---|---|---|\n",
    "|10308|Ana Trujillo Emparedados y helados|9/18/1996|\n",
    "|10365|Antonio Moreno Taquería|11/27/1996|\n",
    "|10383|Around the Horn|12/16/1996|\n",
    "|10355|Around the Horn|11/15/1996|\n",
    "|10278|Berglunds snabbköp|8/12/1996|\n",
    "\n",
    "We created this result with this statement:\n",
    "\n",
    "\n",
    "```sql\n",
    "    SELECT orders.\"OrderID\", customers.\"CompanyName\", orders.\"OrderDate\"\n",
    "    FROM orders\n",
    "    INNER JOIN customers\n",
    "    ON orders.\"CustomerID\"=customers.\"CustomerID\";\n",
    "```\n",
    "\n",
    "An `INNER JOIN` takes the intersection of the two datasets, excluding the rows for which `CustomerID` is null in either of the two tables.\n"
   ]
  },
  {
   "cell_type": "markdown",
   "metadata": {
    "slideshow": {
     "slide_type": "slide"
    }
   },
   "source": [
    "There are several types of join operations.\n",
    "\n",
    "- INNER JOIN: Returns all rows when there is at least one match in BOTH tables\n",
    "- LEFT JOIN: Return all rows from the left table, and the matched rows from the right table\n",
    "- RIGHT JOIN: Return all rows from the right table, and the matched rows from the left table\n",
    "- FULL JOIN: Return all rows when there is a match in ONE of the tables\n",
    "\n",
    "(This is all rooted in [Relational Algebra](https://en.wikipedia.org/wiki/Relational_algebra). We won't go into it here, but it's an interesting topic.)\n",
    "\n"
   ]
  },
  {
   "cell_type": "markdown",
   "metadata": {
    "slideshow": {
     "slide_type": "slide"
    }
   },
   "source": [
    "![Joins](./assets/images/joins.gif)\n",
    "\n",
    "> Check: stop and jot! Can you annotate this diagram with examples of when you would use each? If you need a concrete starting point, imagine you have a table of Q1 orders for your company, and a second table of Q1's new sales leads."
   ]
  },
  {
   "cell_type": "markdown",
   "metadata": {
    "slideshow": {
     "slide_type": "slide"
    }
   },
   "source": [
    "### Left Join\n",
    "\n",
    "The LEFT JOIN keyword returns all rows from the left table (table1), with the matching rows in the right table (table2). The right-hand result is NULL when the left-hand rows do not have a match.\n",
    "\n",
    "\n",
    "#### Left Join Syntax\n",
    "```sql\n",
    "SELECT column_name(s)\n",
    "FROM table1\n",
    "LEFT JOIN table2\n",
    "ON table1.column_name=table2.column_name;\n",
    "```\n",
    "\n",
    "> **Check:** Consider the JOIN we performed between `orders` and `customers`. Which column might contain NULL values in the joined table if we performed a LEFT JOIN?"
   ]
  },
  {
   "cell_type": "markdown",
   "metadata": {
    "slideshow": {
     "slide_type": "slide"
    }
   },
   "source": [
    "### Right Join\n",
    "\n",
    "Similarly, the RIGHT JOIN keyword returns all rows from the right table (table2), with the matching rows in the left table (table1). The result is NULL in the left side when there is no match.\n",
    "\n",
    "#### Right Join Syntax\n",
    "```sql\n",
    "SELECT column_name(s)\n",
    "FROM table1\n",
    "RIGHT JOIN table2\n",
    "ON table1.column_name=table2.column_name;\n",
    "```\n",
    "> **Check:** What use cases can you imagine for a RIGHT JOIN?"
   ]
  },
  {
   "cell_type": "markdown",
   "metadata": {
    "slideshow": {
     "slide_type": "slide"
    }
   },
   "source": [
    "### Full (outer) Join\n",
    "\n",
    "The FULL OUTER JOIN keyword returns all rows from the left table (table1) and from the right table (table2). The FULL OUTER JOIN keyword combines the result of both LEFT and RIGHT joins. In this case we could have NULL values on both sides.\n",
    "\n",
    "#### Full Join Syntax\n",
    "\n",
    "```sql\n",
    "SELECT column_name(s)\n",
    "FROM table1\n",
    "FULL OUTER JOIN table2\n",
    "ON table1.column_name=table2.column_name;\n",
    "```"
   ]
  },
  {
   "cell_type": "markdown",
   "metadata": {
    "slideshow": {
     "slide_type": "slide"
    }
   },
   "source": [
    "<a name=\"guided-practice\"></a>\n",
    "## Guided Practice: Joins (15 mins)\n",
    "\n",
    "- How many products per category does the catalog contain? Print the answer with the `CategoryName`, and `Count`.\n"
   ]
  },
  {
   "cell_type": "markdown",
   "metadata": {
    "slideshow": {
     "slide_type": "fragment"
    }
   },
   "source": [
    "> Answer:\n",
    "```sql\n",
    "SELECT \"CategoryName\", count(\"ProductID\")\n",
    "FROM products AS p\n",
    "JOIN categories AS c\n",
    "ON p.\"CategoryID\" = c.\"CategoryID\"\n",
    "GROUP BY c.\"CategoryName\"\n",
    "```\n"
   ]
  },
  {
   "cell_type": "markdown",
   "metadata": {
    "slideshow": {
     "slide_type": "slide"
    }
   },
   "source": [
    "- What 5 customers are generating the highest revenue? Print a table with `CustomerID` and `Total Revenue`.\n"
   ]
  },
  {
   "cell_type": "markdown",
   "metadata": {
    "slideshow": {
     "slide_type": "fragment"
    }
   },
   "source": [
    "Answer:\n",
    "```sql\n",
    "SELECT \"CustomerID\",\n",
    "       CAST(\n",
    "       SUM(\"UnitPrice\" *\n",
    "           \"Quantity\" *\n",
    "           (1.0 - \"Discount\"))\n",
    "      AS numeric(36,2)) \n",
    "      AS \"Revenue\"\n",
    "FROM orders AS o\n",
    "JOIN order_details AS od\n",
    "ON o.\"OrderID\" = od.\"OrderID\"\n",
    "GROUP BY \"CustomerID\"\n",
    "ORDER BY \"Revenue\" DESC\n",
    "LIMIT 5\n",
    "```\n",
    "\n",
    "> Check: can you infer what CAST(...) and numeric(P,s) do?"
   ]
  },
  {
   "cell_type": "markdown",
   "metadata": {
    "slideshow": {
     "slide_type": "slide"
    }
   },
   "source": [
    "- In which country are the top 5 suppliers by number of units supplied? Print a table with the supplier's `CompanyName`, `Country` and total number of units supplied. (This uses four tables!)"
   ]
  },
  {
   "cell_type": "markdown",
   "metadata": {
    "slideshow": {
     "slide_type": "slide"
    }
   },
   "source": [
    ">Answer:\n",
    "```sql\n",
    "SELECT s.\"CompanyName\", s.\"Country\", sum(od.\"Quantity\") AS \"UnitsSupplied\"\n",
    "FROM orders o\n",
    "JOIN order_details as od\n",
    "ON o.\"OrderID\" = od.\"OrderID\"\n",
    "JOIN products p\n",
    "ON od.\"ProductID\" = p.\"ProductID\"\n",
    "JOIN suppliers s\n",
    "ON s.\"SupplierID\" = p.\"SupplierID\"\n",
    "GROUP BY s.\"SupplierID\"\n",
    "ORDER BY \"UnitsSupplied\" DESC\n",
    "LIMIT 5\n",
    "```\n",
    "> Check: s.\"CompanyName\" and s.\"Country\" are [functionally dependent](https://en.wikipedia.org/wiki/Functional_dependency#Examples) on s.\"SupplierID\". Why does that matter here? [(Answer)](http://stackoverflow.com/questions/5986127/do-all-columns-in-a-select-list-have-to-appear-in-a-group-by-clause)"
   ]
  },
  {
   "cell_type": "markdown",
   "metadata": {
    "slideshow": {
     "slide_type": "slide"
    }
   },
   "source": [
    "<a name=\"demo_2\"></a>\n",
    "## Demo: Sub-queries (15 mins)\n",
    "\n",
    "SQL is very versatile and it can be stretched a bit further than simple JOIN operations between two different tables.\n",
    "\n",
    "### Subqueries\n",
    "\n",
    "A _Subquery_ or _Inner query_ or _Nested query_ is a query within another SQL query. It is used to further restrict the data to be retrieved by returning data that will be used in the main query as a condition.\n",
    "\n",
    "Subqueries can be used with the SELECT, INSERT, UPDATE, and DELETE statements along with the operators like =, <, >, >=, <=, IN, BETWEEN etc.\n",
    "\n",
    "\n",
    "\n",
    "\n"
   ]
  },
  {
   "cell_type": "markdown",
   "metadata": {
    "slideshow": {
     "slide_type": "slide"
    }
   },
   "source": [
    "#### Syntax\n",
    "\n",
    "Here is an example of a subquery. The table resulting from the subquery is used as condition in the `WHERE` condition of the main query.\n",
    "\n",
    "```sql\n",
    "SELECT column_name1\n",
    "    FROM table_name1\n",
    "    WHERE column_name2 [Comparison Operator]\n",
    "        (SELECT column_name3\n",
    "         FROM table_name2\n",
    "         WHERE condition);\n",
    "```\n",
    "\n",
    "\n"
   ]
  },
  {
   "cell_type": "markdown",
   "metadata": {
    "slideshow": {
     "slide_type": "slide"
    }
   },
   "source": [
    "For example, let's extract all the `orders` from `customers` based in France.\n",
    "\n",
    "```sql\n",
    "SELECT \"OrderID\", \"OrderDate\" FROM orders\n",
    "WHERE \"CustomerID\" IN\n",
    "(SELECT \"CustomerID\"\n",
    " FROM customers\n",
    " WHERE \"Country\" = 'France')\n",
    "```\n",
    "\n",
    "> **Check:** How would you get the same result with a `JOIN` operation?"
   ]
  },
  {
   "cell_type": "markdown",
   "metadata": {
    "slideshow": {
     "slide_type": "fragment"
    }
   },
   "source": [
    "\n",
    "```sql\n",
    "SELECT \"OrderID\", \"OrderDate\" FROM orders\n",
    "JOIN customers\n",
    "ON orders.\"CustomerID\" = customers.\"CustomerID\"\n",
    "WHERE \"Country\" = 'France'\n",
    "```"
   ]
  },
  {
   "cell_type": "markdown",
   "metadata": {
    "slideshow": {
     "slide_type": "slide"
    }
   },
   "source": [
    "<a name=\"ind-practice\"></a>\n",
    "## Independent Practice: Other SQL Commands (25 minutes)\n",
    "\n",
    "First, working in pairs: go to http://www.w3schools.com/sql and choose a command you have not heard of. Read about it for 5 minutes, then explain it to your partner (take 2.5 minutes each).\n",
    "\n",
    "Next, get started on the `join` exercises at https://pgexercises.com/questions/joins/. Bookmark this -- it's a good resource for brushing up on the basic syntax before job interviews!"
   ]
  },
  {
   "cell_type": "markdown",
   "metadata": {
    "slideshow": {
     "slide_type": "slide"
    }
   },
   "source": [
    "<a name=\"conclusion\"></a>\n",
    "## Conclusion (5 mins)\n",
    "\n",
    "In this class we have started to discover the full power of Relational databases through JOINs and sub-queries. These allow us to mix and match data from various tables, in order to extract meaningful results.\n"
   ]
  },
  {
   "cell_type": "markdown",
   "metadata": {
    "slideshow": {
     "slide_type": "skip"
    }
   },
   "source": [
    "### ADDITIONAL RESOURCES\n",
    "\n",
    "- [SQL Join Documentation](http://www.w3schools.com/sql/sql_join.asp)\n",
    "- [Relational Algebra](https://en.wikipedia.org/wiki/Relational_algebra)\n",
    "- [Wikipedia on JOINS](https://en.wikipedia.org/wiki/Join_(SQL))\n"
   ]
  }
 ],
 "metadata": {
  "celltoolbar": "Slideshow",
  "kernelspec": {
   "display_name": "Python 2",
   "language": "python",
   "name": "python2"
  },
  "language_info": {
   "codemirror_mode": {
    "name": "ipython",
    "version": 2
   },
   "file_extension": ".py",
   "mimetype": "text/x-python",
   "name": "python",
   "nbconvert_exporter": "python",
   "pygments_lexer": "ipython2",
   "version": "2.7.12"
  }
 },
 "nbformat": 4,
 "nbformat_minor": 0
}
