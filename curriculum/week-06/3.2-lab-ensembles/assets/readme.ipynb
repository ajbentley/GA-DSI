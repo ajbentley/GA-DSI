{
 "cells": [
  {
   "cell_type": "markdown",
   "metadata": {},
   "source": [
    "---\n",
    "title: Decision Trees and Ensembles Lab\n",
    "type: lab\n",
    "duration: \"1:25\"\n",
    "creator:\n",
    "    name: Francesco Mosconi\n",
    "    city: SF\n",
    "---"
   ]
  },
  {
   "cell_type": "markdown",
   "metadata": {},
   "source": [
    "# ![](https://ga-dash.s3.amazonaws.com/production/assets/logo-9f88ae6c9c3871690e33280fcf557f33.png) Decision Trees and Ensembles Lab"
   ]
  },
  {
   "cell_type": "markdown",
   "metadata": {},
   "source": [
    "## Introduction\n",
    "\n",
    "In this lab we will compare the performance of a simple Decision Tree classifier with a Bagging classifier. We will do that on few datasets, starting from the ones offered by Scikit Learn.\n",
    "\n",
    "As you have learned, data science is an iterative process. We often start with a very simple model and then try to improve its performance or find better models to compare with our initial one.\n",
    "\n",
    "This is exactly the process that you will follow in this lab. Start from a simple model (Decision Tree) and then compare its performance with a more complex Ensemble model.\n",
    "\n",
    "We will use two dataset:\n",
    "\n",
    "- for classification we will use the [Breast Cancer Dataset](http://archive.ics.uci.edu/ml/datasets/Breast+Cancer+Wisconsin+(Diagnostic)) as an example of classification. We will try to diagnose a breast cancer starting from few features of the cell nucleus\n",
    "\n",
    "- for regression we will use the [Diabetes Dataset](http://web.stanford.edu/~hastie/Papers/LARS/LeastAngle_2002.pdf), where we'll try to obtain a quantitative measure of disease progression one year after baseline from 10 baseline variables."
   ]
  },
  {
   "cell_type": "markdown",
   "metadata": {},
   "source": [
    "## Exercise\n",
    "\n",
    "### Requirements\n",
    "\n",
    "1. Using the Breast Cancer Dataset, initialize a Decision Tree Classifier and use cross_val_score to evaluate it's performance\n",
    "    1. Compare performance with Bagging Classifier\n",
    "    - Use pipelines and scaling and see if performance improve\n",
    "    - Explore parameter space with Grid Search\n",
    "- Using the Diabetes Dataset, initialize a Decision Tree Regression and compare it with Bagging Regressor\n",
    "    1. Simple comparison using cross_val_score\n",
    "    - Explore parameter space with Grid Search\n",
    "\n",
    "**Bonus:**\n",
    "\n",
    "- Repeat the analysis you have just performed using the dataset you have downloaded from IMDB as part of Project 6.\n",
    "\n",
    "\n",
    "### Code\n",
    "\n",
    "[Starter Code](./code/starter-code/starter-code-2_4.ipynb)\n",
    "\n",
    ">[Solution Code](./code/solution-code/solution-code-2_4.ipynb)"
   ]
  },
  {
   "cell_type": "markdown",
   "metadata": {},
   "source": [
    "## Additional resources\n",
    "\n",
    "- [Cross Validation on Diabetes example](http://scikit-learn.org/stable/auto_examples/exercises/plot_cv_diabetes.html)\n",
    "- [Diabetes Dataset paper](http://web.stanford.edu/~hastie/Papers/LARS/LeastAngle_2002.pdf)\n",
    "- [Bagging Classifier](http://scikit-learn.org/stable/modules/generated/sklearn.ensemble.BaggingClassifier.html)\n",
    "- [Grid Search](http://scikit-learn.org/stable/modules/grid_search.html)"
   ]
  }
 ],
 "metadata": {
  "kernelspec": {
   "display_name": "Python 2",
   "language": "python",
   "name": "python2"
  },
  "language_info": {
   "codemirror_mode": {
    "name": "ipython",
    "version": 2
   },
   "file_extension": ".py",
   "mimetype": "text/x-python",
   "name": "python",
   "nbconvert_exporter": "python",
   "pygments_lexer": "ipython2",
   "version": "2.7.11"
  }
 },
 "nbformat": 4,
 "nbformat_minor": 0
}
