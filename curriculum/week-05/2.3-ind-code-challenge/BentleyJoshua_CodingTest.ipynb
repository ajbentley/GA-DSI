{
 "cells": [
  {
   "cell_type": "markdown",
   "metadata": {},
   "source": [
    "# ![](https://ga-dash.s3.amazonaws.com/production/assets/logo-9f88ae6c9c3871690e33280fcf557f33.png) Individual Coding Challenge\n",
    "Week 5 | Day 2"
   ]
  },
  {
   "cell_type": "markdown",
   "metadata": {},
   "source": [
    "This is your first individual coding challenge. There are a series of exercises in this notebook that you will need to perform. This challenge to be done individually - **without help from either fellow students or the instructors**. You are free to use the documention or any online resources you choose. You will have one hour to complete this workbook. If you get stuck on one question keep moving.<br><br> **It must be submitted before 5pm via Slack**. <br><br>**- _NO LATE ENTRIES WILL BE ACCEPTED_ - <br><br>The Slack timestamp of submission will be definitive.**"
   ]
  },
  {
   "cell_type": "markdown",
   "metadata": {},
   "source": [
    "### 1. Read in the csv at this link using pandas and save it as a DataFrame:\n",
    "https://www.dropbox.com/s/1k9cgsd7bzce0yk/housing-data.csv?dl=1"
   ]
  },
  {
   "cell_type": "code",
   "execution_count": 4,
   "metadata": {
    "collapsed": false
   },
   "outputs": [],
   "source": [
    "import pandas as pd\n",
    "import numpy as np\n",
    "import seaborn as sns\n",
    "import matplotlib.pyplot as plt\n",
    "%matplotlib inline\n",
    "import datetime as dt\n",
    "from sklearn import linear_model\n",
    "from sklearn.metrics import r2_score\n",
    "\n",
    "\n",
    "df = pd.read_csv('~/Downloads/housing-data.csv')"
   ]
  },
  {
   "cell_type": "code",
   "execution_count": null,
   "metadata": {
    "collapsed": false,
    "scrolled": true
   },
   "outputs": [],
   "source": []
  },
  {
   "cell_type": "markdown",
   "metadata": {},
   "source": [
    "### 2. Get the datatypes of your DataFrame and find the 75th percentile of 'age' and 'price'"
   ]
  },
  {
   "cell_type": "code",
   "execution_count": 5,
   "metadata": {
    "collapsed": false
   },
   "outputs": [
    {
     "name": "stdout",
     "output_type": "stream",
     "text": [
      "<class 'pandas.core.frame.DataFrame'>\n",
      "RangeIndex: 47 entries, 0 to 46\n",
      "Data columns (total 4 columns):\n",
      "sqft     47 non-null int64\n",
      "bdrms    47 non-null int64\n",
      "age      47 non-null int64\n",
      "price    47 non-null int64\n",
      "dtypes: int64(4)\n",
      "memory usage: 1.5 KB\n"
     ]
    }
   ],
   "source": [
    "df.info()"
   ]
  },
  {
   "cell_type": "code",
   "execution_count": 7,
   "metadata": {
    "collapsed": false
   },
   "outputs": [
    {
     "data": {
      "text/html": [
       "<div>\n",
       "<table border=\"1\" class=\"dataframe\">\n",
       "  <thead>\n",
       "    <tr style=\"text-align: right;\">\n",
       "      <th></th>\n",
       "      <th>sqft</th>\n",
       "      <th>bdrms</th>\n",
       "      <th>age</th>\n",
       "      <th>price</th>\n",
       "    </tr>\n",
       "  </thead>\n",
       "  <tbody>\n",
       "    <tr>\n",
       "      <th>count</th>\n",
       "      <td>47.000000</td>\n",
       "      <td>47.000000</td>\n",
       "      <td>47.000000</td>\n",
       "      <td>47.000000</td>\n",
       "    </tr>\n",
       "    <tr>\n",
       "      <th>mean</th>\n",
       "      <td>2000.680851</td>\n",
       "      <td>3.170213</td>\n",
       "      <td>42.744681</td>\n",
       "      <td>340412.659574</td>\n",
       "    </tr>\n",
       "    <tr>\n",
       "      <th>std</th>\n",
       "      <td>794.702354</td>\n",
       "      <td>0.760982</td>\n",
       "      <td>22.873440</td>\n",
       "      <td>125039.899586</td>\n",
       "    </tr>\n",
       "    <tr>\n",
       "      <th>min</th>\n",
       "      <td>852.000000</td>\n",
       "      <td>1.000000</td>\n",
       "      <td>5.000000</td>\n",
       "      <td>169900.000000</td>\n",
       "    </tr>\n",
       "    <tr>\n",
       "      <th>25%</th>\n",
       "      <td>1432.000000</td>\n",
       "      <td>3.000000</td>\n",
       "      <td>24.500000</td>\n",
       "      <td>249900.000000</td>\n",
       "    </tr>\n",
       "    <tr>\n",
       "      <th>50%</th>\n",
       "      <td>1888.000000</td>\n",
       "      <td>3.000000</td>\n",
       "      <td>44.000000</td>\n",
       "      <td>299900.000000</td>\n",
       "    </tr>\n",
       "    <tr>\n",
       "      <th>75%</th>\n",
       "      <td>2269.000000</td>\n",
       "      <td>4.000000</td>\n",
       "      <td>61.500000</td>\n",
       "      <td>384450.000000</td>\n",
       "    </tr>\n",
       "    <tr>\n",
       "      <th>max</th>\n",
       "      <td>4478.000000</td>\n",
       "      <td>5.000000</td>\n",
       "      <td>79.000000</td>\n",
       "      <td>699900.000000</td>\n",
       "    </tr>\n",
       "  </tbody>\n",
       "</table>\n",
       "</div>"
      ],
      "text/plain": [
       "              sqft      bdrms        age          price\n",
       "count    47.000000  47.000000  47.000000      47.000000\n",
       "mean   2000.680851   3.170213  42.744681  340412.659574\n",
       "std     794.702354   0.760982  22.873440  125039.899586\n",
       "min     852.000000   1.000000   5.000000  169900.000000\n",
       "25%    1432.000000   3.000000  24.500000  249900.000000\n",
       "50%    1888.000000   3.000000  44.000000  299900.000000\n",
       "75%    2269.000000   4.000000  61.500000  384450.000000\n",
       "max    4478.000000   5.000000  79.000000  699900.000000"
      ]
     },
     "execution_count": 7,
     "metadata": {},
     "output_type": "execute_result"
    }
   ],
   "source": [
    "df.describe()"
   ]
  },
  {
   "cell_type": "markdown",
   "metadata": {},
   "source": [
    "### 3. Get the correlations for each column vs. the others. Which feature has the highest correlation with price?"
   ]
  },
  {
   "cell_type": "code",
   "execution_count": 9,
   "metadata": {
    "collapsed": false
   },
   "outputs": [
    {
     "data": {
      "text/html": [
       "<div>\n",
       "<table border=\"1\" class=\"dataframe\">\n",
       "  <thead>\n",
       "    <tr style=\"text-align: right;\">\n",
       "      <th></th>\n",
       "      <th>sqft</th>\n",
       "      <th>bdrms</th>\n",
       "      <th>age</th>\n",
       "      <th>price</th>\n",
       "    </tr>\n",
       "  </thead>\n",
       "  <tbody>\n",
       "    <tr>\n",
       "      <th>sqft</th>\n",
       "      <td>1.000000</td>\n",
       "      <td>0.559967</td>\n",
       "      <td>0.079853</td>\n",
       "      <td>0.854988</td>\n",
       "    </tr>\n",
       "    <tr>\n",
       "      <th>bdrms</th>\n",
       "      <td>0.559967</td>\n",
       "      <td>1.000000</td>\n",
       "      <td>0.077486</td>\n",
       "      <td>0.442261</td>\n",
       "    </tr>\n",
       "    <tr>\n",
       "      <th>age</th>\n",
       "      <td>0.079853</td>\n",
       "      <td>0.077486</td>\n",
       "      <td>1.000000</td>\n",
       "      <td>0.051791</td>\n",
       "    </tr>\n",
       "    <tr>\n",
       "      <th>price</th>\n",
       "      <td>0.854988</td>\n",
       "      <td>0.442261</td>\n",
       "      <td>0.051791</td>\n",
       "      <td>1.000000</td>\n",
       "    </tr>\n",
       "  </tbody>\n",
       "</table>\n",
       "</div>"
      ],
      "text/plain": [
       "           sqft     bdrms       age     price\n",
       "sqft   1.000000  0.559967  0.079853  0.854988\n",
       "bdrms  0.559967  1.000000  0.077486  0.442261\n",
       "age    0.079853  0.077486  1.000000  0.051791\n",
       "price  0.854988  0.442261  0.051791  1.000000"
      ]
     },
     "execution_count": 9,
     "metadata": {},
     "output_type": "execute_result"
    }
   ],
   "source": [
    "df.corr()\n",
    "# sqft has the highest correlation with price"
   ]
  },
  {
   "cell_type": "markdown",
   "metadata": {},
   "source": [
    "### 4. Plot the correlations and histograms using seaborn"
   ]
  },
  {
   "cell_type": "code",
   "execution_count": 14,
   "metadata": {
    "collapsed": false
   },
   "outputs": [
    {
     "data": {
      "image/png": "[encoded data removed]",
      "text/plain": [
       "<matplotlib.figure.Figure at 0xc862d68>"
      ]
     },
     "metadata": {},
     "output_type": "display_data"
    },
    {
     "data": {
      "image/png": "[encoded data removed]",
      "text/plain": [
       "<matplotlib.figure.Figure at 0xd2e9dd8>"
      ]
     },
     "metadata": {},
     "output_type": "display_data"
    },
    {
     "data": {
      "image/png": "[encoded data removed]",
      "text/plain": [
       "<matplotlib.figure.Figure at 0xd7bd630>"
      ]
     },
     "metadata": {},
     "output_type": "display_data"
    },
    {
     "data": {
      "image/png": "[encoded data removed]",
      "text/plain": [
       "<matplotlib.figure.Figure at 0xdc4e780>"
      ]
     },
     "metadata": {},
     "output_type": "display_data"
    }
   ],
   "source": [
    "import seaborn as sns\n",
    "\n",
    "\n",
    "for iv in df.columns.values:\n",
    "    sns.jointplot(x=df[iv], y=df[iv])"
   ]
  },
  {
   "cell_type": "markdown",
   "metadata": {},
   "source": [
    "### 5. Change the column names to uppercase using a list comprehension"
   ]
  },
  {
   "cell_type": "code",
   "execution_count": 22,
   "metadata": {
    "collapsed": false
   },
   "outputs": [],
   "source": [
    "df.columns = [x.upper() for x in df.columns]"
   ]
  },
  {
   "cell_type": "code",
   "execution_count": 23,
   "metadata": {
    "collapsed": false,
    "scrolled": true
   },
   "outputs": [
    {
     "data": {
      "text/html": [
       "<div>\n",
       "<table border=\"1\" class=\"dataframe\">\n",
       "  <thead>\n",
       "    <tr style=\"text-align: right;\">\n",
       "      <th></th>\n",
       "      <th>SQFT</th>\n",
       "      <th>BDRMS</th>\n",
       "      <th>AGE</th>\n",
       "      <th>PRICE</th>\n",
       "    </tr>\n",
       "  </thead>\n",
       "  <tbody>\n",
       "  </tbody>\n",
       "</table>\n",
       "</div>"
      ],
      "text/plain": [
       "Empty DataFrame\n",
       "Columns: [SQFT, BDRMS, AGE, PRICE]\n",
       "Index: []"
      ]
     },
     "execution_count": 23,
     "metadata": {},
     "output_type": "execute_result"
    }
   ],
   "source": [
    "df.head(0)"
   ]
  },
  {
   "cell_type": "markdown",
   "metadata": {},
   "source": [
    "### 6. Standardize each column - except price - using a list comprehension. Save the newly scaled columns to the DataFrame with the prepend 'SC_'. For example, 'SC_BDRMS'. You may use numpy for this. \n",
    "\n",
    "Refer to this if you are confused as to the formula: [Standardization](http://sebastianraschka.com/Articles/2014_about_feature_scaling.html#z-score-standardization-or-min-max-scaling)"
   ]
  },
  {
   "cell_type": "code",
   "execution_count": 24,
   "metadata": {
    "collapsed": false,
    "scrolled": true
   },
   "outputs": [],
   "source": [
    "from sklearn import preprocessing\n",
    "\n",
    "std_scale = preprocessing.StandardScaler().fit(df[['SQFT', 'BDRMS', 'AGE']])\n",
    "\n",
    "df_std = std_scale.transform(df[['SQFT', 'BDRMS', 'AGE']])"
   ]
  },
  {
   "cell_type": "code",
   "execution_count": 26,
   "metadata": {
    "collapsed": false,
    "scrolled": true
   },
   "outputs": [
    {
     "data": {
      "text/html": [
       "<div>\n",
       "<table border=\"1\" class=\"dataframe\">\n",
       "  <thead>\n",
       "    <tr style=\"text-align: right;\">\n",
       "      <th></th>\n",
       "      <th>SQFT</th>\n",
       "      <th>BDRMS</th>\n",
       "      <th>AGE</th>\n",
       "      <th>PRICE</th>\n",
       "    </tr>\n",
       "  </thead>\n",
       "  <tbody>\n",
       "    <tr>\n",
       "      <th>0</th>\n",
       "      <td>-0.493088</td>\n",
       "      <td>-0.503615</td>\n",
       "      <td>-0.503279</td>\n",
       "      <td>1.499982</td>\n",
       "    </tr>\n",
       "    <tr>\n",
       "      <th>1</th>\n",
       "      <td>-0.493580</td>\n",
       "      <td>-0.503278</td>\n",
       "      <td>-0.503126</td>\n",
       "      <td>1.499985</td>\n",
       "    </tr>\n",
       "    <tr>\n",
       "      <th>2</th>\n",
       "      <td>-0.491385</td>\n",
       "      <td>-0.504405</td>\n",
       "      <td>-0.504182</td>\n",
       "      <td>1.499972</td>\n",
       "    </tr>\n",
       "    <tr>\n",
       "      <th>3</th>\n",
       "      <td>-0.491984</td>\n",
       "      <td>-0.504199</td>\n",
       "      <td>-0.503793</td>\n",
       "      <td>1.499976</td>\n",
       "    </tr>\n",
       "    <tr>\n",
       "      <th>4</th>\n",
       "      <td>-0.492668</td>\n",
       "      <td>-0.503788</td>\n",
       "      <td>-0.503524</td>\n",
       "      <td>1.499980</td>\n",
       "    </tr>\n",
       "    <tr>\n",
       "      <th>5</th>\n",
       "      <td>-0.491290</td>\n",
       "      <td>-0.504531</td>\n",
       "      <td>-0.504150</td>\n",
       "      <td>1.499972</td>\n",
       "    </tr>\n",
       "    <tr>\n",
       "      <th>6</th>\n",
       "      <td>-0.493521</td>\n",
       "      <td>-0.503260</td>\n",
       "      <td>-0.503203</td>\n",
       "      <td>1.499984</td>\n",
       "    </tr>\n",
       "    <tr>\n",
       "      <th>7</th>\n",
       "      <td>-0.490606</td>\n",
       "      <td>-0.504953</td>\n",
       "      <td>-0.504409</td>\n",
       "      <td>1.499967</td>\n",
       "    </tr>\n",
       "    <tr>\n",
       "      <th>8</th>\n",
       "      <td>-0.491346</td>\n",
       "      <td>-0.504365</td>\n",
       "      <td>-0.504261</td>\n",
       "      <td>1.499972</td>\n",
       "    </tr>\n",
       "    <tr>\n",
       "      <th>9</th>\n",
       "      <td>-0.491810</td>\n",
       "      <td>-0.504132</td>\n",
       "      <td>-0.504033</td>\n",
       "      <td>1.499975</td>\n",
       "    </tr>\n",
       "    <tr>\n",
       "      <th>10</th>\n",
       "      <td>-0.489209</td>\n",
       "      <td>-0.505386</td>\n",
       "      <td>-0.505361</td>\n",
       "      <td>1.499956</td>\n",
       "    </tr>\n",
       "    <tr>\n",
       "      <th>11</th>\n",
       "      <td>-0.492351</td>\n",
       "      <td>-0.503883</td>\n",
       "      <td>-0.503744</td>\n",
       "      <td>1.499978</td>\n",
       "    </tr>\n",
       "    <tr>\n",
       "      <th>12</th>\n",
       "      <td>-0.492439</td>\n",
       "      <td>-0.503897</td>\n",
       "      <td>-0.503642</td>\n",
       "      <td>1.499979</td>\n",
       "    </tr>\n",
       "    <tr>\n",
       "      <th>13</th>\n",
       "      <td>-0.491493</td>\n",
       "      <td>-0.504303</td>\n",
       "      <td>-0.504177</td>\n",
       "      <td>1.499973</td>\n",
       "    </tr>\n",
       "    <tr>\n",
       "      <th>14</th>\n",
       "      <td>-0.493636</td>\n",
       "      <td>-0.503387</td>\n",
       "      <td>-0.502963</td>\n",
       "      <td>1.499985</td>\n",
       "    </tr>\n",
       "    <tr>\n",
       "      <th>15</th>\n",
       "      <td>-0.493286</td>\n",
       "      <td>-0.503511</td>\n",
       "      <td>-0.503186</td>\n",
       "      <td>1.499983</td>\n",
       "    </tr>\n",
       "    <tr>\n",
       "      <th>16</th>\n",
       "      <td>-0.494261</td>\n",
       "      <td>-0.503064</td>\n",
       "      <td>-0.502663</td>\n",
       "      <td>1.499988</td>\n",
       "    </tr>\n",
       "    <tr>\n",
       "      <th>17</th>\n",
       "      <td>-0.492001</td>\n",
       "      <td>-0.504364</td>\n",
       "      <td>-0.503612</td>\n",
       "      <td>1.499976</td>\n",
       "    </tr>\n",
       "    <tr>\n",
       "      <th>18</th>\n",
       "      <td>-0.493037</td>\n",
       "      <td>-0.503475</td>\n",
       "      <td>-0.503471</td>\n",
       "      <td>1.499982</td>\n",
       "    </tr>\n",
       "    <tr>\n",
       "      <th>19</th>\n",
       "      <td>-0.493264</td>\n",
       "      <td>-0.503388</td>\n",
       "      <td>-0.503331</td>\n",
       "      <td>1.499983</td>\n",
       "    </tr>\n",
       "    <tr>\n",
       "      <th>20</th>\n",
       "      <td>-0.490776</td>\n",
       "      <td>-0.504759</td>\n",
       "      <td>-0.504434</td>\n",
       "      <td>1.499968</td>\n",
       "    </tr>\n",
       "    <tr>\n",
       "      <th>21</th>\n",
       "      <td>-0.490303</td>\n",
       "      <td>-0.505133</td>\n",
       "      <td>-0.504528</td>\n",
       "      <td>1.499965</td>\n",
       "    </tr>\n",
       "    <tr>\n",
       "      <th>22</th>\n",
       "      <td>-0.491210</td>\n",
       "      <td>-0.504422</td>\n",
       "      <td>-0.504339</td>\n",
       "      <td>1.499971</td>\n",
       "    </tr>\n",
       "    <tr>\n",
       "      <th>23</th>\n",
       "      <td>-0.490043</td>\n",
       "      <td>-0.505149</td>\n",
       "      <td>-0.504771</td>\n",
       "      <td>1.499963</td>\n",
       "    </tr>\n",
       "    <tr>\n",
       "      <th>24</th>\n",
       "      <td>-0.490977</td>\n",
       "      <td>-0.504554</td>\n",
       "      <td>-0.504439</td>\n",
       "      <td>1.499970</td>\n",
       "    </tr>\n",
       "    <tr>\n",
       "      <th>25</th>\n",
       "      <td>-0.494286</td>\n",
       "      <td>-0.503079</td>\n",
       "      <td>-0.502622</td>\n",
       "      <td>1.499988</td>\n",
       "    </tr>\n",
       "    <tr>\n",
       "      <th>26</th>\n",
       "      <td>-0.495854</td>\n",
       "      <td>-0.502126</td>\n",
       "      <td>-0.502014</td>\n",
       "      <td>1.499994</td>\n",
       "    </tr>\n",
       "    <tr>\n",
       "      <th>27</th>\n",
       "      <td>-0.492822</td>\n",
       "      <td>-0.503601</td>\n",
       "      <td>-0.503558</td>\n",
       "      <td>1.499981</td>\n",
       "    </tr>\n",
       "    <tr>\n",
       "      <th>28</th>\n",
       "      <td>-0.493854</td>\n",
       "      <td>-0.503119</td>\n",
       "      <td>-0.503013</td>\n",
       "      <td>1.499986</td>\n",
       "    </tr>\n",
       "    <tr>\n",
       "      <th>29</th>\n",
       "      <td>-0.488287</td>\n",
       "      <td>-0.505904</td>\n",
       "      <td>-0.505757</td>\n",
       "      <td>1.499949</td>\n",
       "    </tr>\n",
       "    <tr>\n",
       "      <th>30</th>\n",
       "      <td>-0.493054</td>\n",
       "      <td>-0.503573</td>\n",
       "      <td>-0.503355</td>\n",
       "      <td>1.499982</td>\n",
       "    </tr>\n",
       "    <tr>\n",
       "      <th>31</th>\n",
       "      <td>-0.492153</td>\n",
       "      <td>-0.503936</td>\n",
       "      <td>-0.503889</td>\n",
       "      <td>1.499977</td>\n",
       "    </tr>\n",
       "    <tr>\n",
       "      <th>32</th>\n",
       "      <td>-0.491502</td>\n",
       "      <td>-0.504462</td>\n",
       "      <td>-0.504010</td>\n",
       "      <td>1.499973</td>\n",
       "    </tr>\n",
       "    <tr>\n",
       "      <th>33</th>\n",
       "      <td>-0.492848</td>\n",
       "      <td>-0.503677</td>\n",
       "      <td>-0.503456</td>\n",
       "      <td>1.499981</td>\n",
       "    </tr>\n",
       "    <tr>\n",
       "      <th>34</th>\n",
       "      <td>-0.491593</td>\n",
       "      <td>-0.504260</td>\n",
       "      <td>-0.504120</td>\n",
       "      <td>1.499974</td>\n",
       "    </tr>\n",
       "    <tr>\n",
       "      <th>35</th>\n",
       "      <td>-0.492452</td>\n",
       "      <td>-0.503952</td>\n",
       "      <td>-0.503575</td>\n",
       "      <td>1.499979</td>\n",
       "    </tr>\n",
       "    <tr>\n",
       "      <th>36</th>\n",
       "      <td>-0.492867</td>\n",
       "      <td>-0.503640</td>\n",
       "      <td>-0.503474</td>\n",
       "      <td>1.499981</td>\n",
       "    </tr>\n",
       "    <tr>\n",
       "      <th>37</th>\n",
       "      <td>-0.491797</td>\n",
       "      <td>-0.504159</td>\n",
       "      <td>-0.504019</td>\n",
       "      <td>1.499975</td>\n",
       "    </tr>\n",
       "    <tr>\n",
       "      <th>38</th>\n",
       "      <td>-0.489809</td>\n",
       "      <td>-0.505189</td>\n",
       "      <td>-0.504963</td>\n",
       "      <td>1.499961</td>\n",
       "    </tr>\n",
       "    <tr>\n",
       "      <th>39</th>\n",
       "      <td>-0.490027</td>\n",
       "      <td>-0.505104</td>\n",
       "      <td>-0.504831</td>\n",
       "      <td>1.499963</td>\n",
       "    </tr>\n",
       "    <tr>\n",
       "      <th>40</th>\n",
       "      <td>-0.494042</td>\n",
       "      <td>-0.503076</td>\n",
       "      <td>-0.502869</td>\n",
       "      <td>1.499987</td>\n",
       "    </tr>\n",
       "    <tr>\n",
       "      <th>41</th>\n",
       "      <td>-0.491005</td>\n",
       "      <td>-0.504586</td>\n",
       "      <td>-0.504379</td>\n",
       "      <td>1.499970</td>\n",
       "    </tr>\n",
       "    <tr>\n",
       "      <th>42</th>\n",
       "      <td>-0.489185</td>\n",
       "      <td>-0.505555</td>\n",
       "      <td>-0.505216</td>\n",
       "      <td>1.499956</td>\n",
       "    </tr>\n",
       "    <tr>\n",
       "      <th>43</th>\n",
       "      <td>-0.494814</td>\n",
       "      <td>-0.502832</td>\n",
       "      <td>-0.502343</td>\n",
       "      <td>1.499990</td>\n",
       "    </tr>\n",
       "    <tr>\n",
       "      <th>44</th>\n",
       "      <td>-0.493937</td>\n",
       "      <td>-0.503403</td>\n",
       "      <td>-0.502646</td>\n",
       "      <td>1.499986</td>\n",
       "    </tr>\n",
       "    <tr>\n",
       "      <th>45</th>\n",
       "      <td>-0.491892</td>\n",
       "      <td>-0.504242</td>\n",
       "      <td>-0.503841</td>\n",
       "      <td>1.499975</td>\n",
       "    </tr>\n",
       "    <tr>\n",
       "      <th>46</th>\n",
       "      <td>-0.493325</td>\n",
       "      <td>-0.503363</td>\n",
       "      <td>-0.503296</td>\n",
       "      <td>1.499983</td>\n",
       "    </tr>\n",
       "  </tbody>\n",
       "</table>\n",
       "</div>"
      ],
      "text/plain": [
       "        SQFT     BDRMS       AGE     PRICE\n",
       "0  -0.493088 -0.503615 -0.503279  1.499982\n",
       "1  -0.493580 -0.503278 -0.503126  1.499985\n",
       "2  -0.491385 -0.504405 -0.504182  1.499972\n",
       "3  -0.491984 -0.504199 -0.503793  1.499976\n",
       "4  -0.492668 -0.503788 -0.503524  1.499980\n",
       "5  -0.491290 -0.504531 -0.504150  1.499972\n",
       "6  -0.493521 -0.503260 -0.503203  1.499984\n",
       "7  -0.490606 -0.504953 -0.504409  1.499967\n",
       "8  -0.491346 -0.504365 -0.504261  1.499972\n",
       "9  -0.491810 -0.504132 -0.504033  1.499975\n",
       "10 -0.489209 -0.505386 -0.505361  1.499956\n",
       "11 -0.492351 -0.503883 -0.503744  1.499978\n",
       "12 -0.492439 -0.503897 -0.503642  1.499979\n",
       "13 -0.491493 -0.504303 -0.504177  1.499973\n",
       "14 -0.493636 -0.503387 -0.502963  1.499985\n",
       "15 -0.493286 -0.503511 -0.503186  1.499983\n",
       "16 -0.494261 -0.503064 -0.502663  1.499988\n",
       "17 -0.492001 -0.504364 -0.503612  1.499976\n",
       "18 -0.493037 -0.503475 -0.503471  1.499982\n",
       "19 -0.493264 -0.503388 -0.503331  1.499983\n",
       "20 -0.490776 -0.504759 -0.504434  1.499968\n",
       "21 -0.490303 -0.505133 -0.504528  1.499965\n",
       "22 -0.491210 -0.504422 -0.504339  1.499971\n",
       "23 -0.490043 -0.505149 -0.504771  1.499963\n",
       "24 -0.490977 -0.504554 -0.504439  1.499970\n",
       "25 -0.494286 -0.503079 -0.502622  1.499988\n",
       "26 -0.495854 -0.502126 -0.502014  1.499994\n",
       "27 -0.492822 -0.503601 -0.503558  1.499981\n",
       "28 -0.493854 -0.503119 -0.503013  1.499986\n",
       "29 -0.488287 -0.505904 -0.505757  1.499949\n",
       "30 -0.493054 -0.503573 -0.503355  1.499982\n",
       "31 -0.492153 -0.503936 -0.503889  1.499977\n",
       "32 -0.491502 -0.504462 -0.504010  1.499973\n",
       "33 -0.492848 -0.503677 -0.503456  1.499981\n",
       "34 -0.491593 -0.504260 -0.504120  1.499974\n",
       "35 -0.492452 -0.503952 -0.503575  1.499979\n",
       "36 -0.492867 -0.503640 -0.503474  1.499981\n",
       "37 -0.491797 -0.504159 -0.504019  1.499975\n",
       "38 -0.489809 -0.505189 -0.504963  1.499961\n",
       "39 -0.490027 -0.505104 -0.504831  1.499963\n",
       "40 -0.494042 -0.503076 -0.502869  1.499987\n",
       "41 -0.491005 -0.504586 -0.504379  1.499970\n",
       "42 -0.489185 -0.505555 -0.505216  1.499956\n",
       "43 -0.494814 -0.502832 -0.502343  1.499990\n",
       "44 -0.493937 -0.503403 -0.502646  1.499986\n",
       "45 -0.491892 -0.504242 -0.503841  1.499975\n",
       "46 -0.493325 -0.503363 -0.503296  1.499983"
      ]
     },
     "execution_count": 26,
     "metadata": {},
     "output_type": "execute_result"
    }
   ],
   "source": []
  },
  {
   "cell_type": "markdown",
   "metadata": {},
   "source": [
    "## 7. Use sk-learn's StandardScaler to confirm that your results are correct. You will need to read the documentation on how to use this.\n",
    "\n",
    "[StandardScaler](http://scikit-learn.org/stable/modules/generated/sklearn.preprocessing.StandardScaler.html)"
   ]
  },
  {
   "cell_type": "code",
   "execution_count": 27,
   "metadata": {
    "collapsed": false
   },
   "outputs": [
    {
     "data": {
      "text/plain": [
       "array([[  1.31415422e-01,  -2.26093368e-01,   1.20445283e+00],\n",
       "       [ -5.09640698e-01,  -2.26093368e-01,  -6.51589238e-01],\n",
       "       [  5.07908699e-01,  -2.26093368e-01,   5.54744084e-02],\n",
       "       [ -7.43677059e-01,  -1.55439190e+00,   2.76431798e-01],\n",
       "       [  1.27107075e+00,   1.10220517e+00,   1.42541022e+00],\n",
       "       [ -1.99450507e-02,   1.10220517e+00,   8.06729533e-01],\n",
       "       [ -5.93588523e-01,  -2.26093368e-01,  -1.35865288e+00],\n",
       "       [ -7.29685755e-01,  -2.26093368e-01,   6.29963621e-01],\n",
       "       [ -7.89466782e-01,  -2.26093368e-01,  -1.27026993e+00],\n",
       "       [ -6.44465993e-01,  -2.26093368e-01,  -1.22607845e+00],\n",
       "       [ -7.71822042e-02,   1.10220517e+00,  -1.57961027e+00],\n",
       "       [ -8.65999486e-04,  -2.26093368e-01,  -6.95780716e-01],\n",
       "       [ -1.40779041e-01,  -2.26093368e-01,   9.96658863e-02],\n",
       "       [  3.15099326e+00,   2.43050370e+00,   2.76431798e-01],\n",
       "       [ -9.31923697e-01,  -2.26093368e-01,   6.74155099e-01],\n",
       "       [  3.80715024e-01,   1.10220517e+00,   1.51379318e+00],\n",
       "       [ -8.65782986e-01,  -1.55439190e+00,   8.50921011e-01],\n",
       "       [ -9.72625673e-01,  -2.26093368e-01,   1.55798466e+00],\n",
       "       [  7.73743478e-01,   1.10220517e+00,  -1.66799323e+00],\n",
       "       [  1.31050078e+00,   1.10220517e+00,  -9.60929583e-01],\n",
       "       [ -2.97227261e-01,  -2.26093368e-01,   5.54744084e-02],\n",
       "       [ -1.43322915e-01,  -1.55439190e+00,   1.60217613e+00],\n",
       "       [ -5.04552951e-01,  -2.26093368e-01,  -1.31446141e+00],\n",
       "       [ -4.91995958e-02,   1.10220517e+00,   4.53197709e-01],\n",
       "       [  2.40309445e+00,  -2.26093368e-01,  -2.98057415e-01],\n",
       "       [ -1.14560907e+00,  -2.26093368e-01,   7.62538055e-01],\n",
       "       [ -6.90255715e-01,  -2.26093368e-01,  -6.07397760e-01],\n",
       "       [  6.68172729e-01,  -2.26093368e-01,  -1.31446141e+00],\n",
       "       [  2.53521350e-01,  -2.26093368e-01,  -6.51589238e-01],\n",
       "       [  8.09357707e-01,  -2.26093368e-01,  -7.84163672e-01],\n",
       "       [ -2.05647815e-01,  -1.55439190e+00,  -1.21291503e-01],\n",
       "       [ -1.27280274e+00,  -2.88269044e+00,  -1.66799323e+00],\n",
       "       [  5.00114703e-02,   1.10220517e+00,   1.42541022e+00],\n",
       "       [  1.44532608e+00,  -2.26093368e-01,   1.07187840e+00],\n",
       "       [ -2.41262044e-01,   1.10220517e+00,  -8.28355149e-01],\n",
       "       [ -7.16966387e-01,  -2.26093368e-01,   3.20623276e-01],\n",
       "       [ -9.68809863e-01,  -2.26093368e-01,  -9.16738105e-01],\n",
       "       [  1.67029651e-01,   1.10220517e+00,  -6.51589238e-01],\n",
       "       [  2.81647389e+00,   1.10220517e+00,   1.02768692e+00],\n",
       "       [  2.05187753e-01,   1.10220517e+00,   1.12829305e-02],\n",
       "       [ -4.28236746e-01,  -1.55439190e+00,  -1.21291503e-01],\n",
       "       [  3.01854946e-01,  -2.26093368e-01,  -2.53865937e-01],\n",
       "       [  7.20322135e-01,   1.10220517e+00,   6.29963621e-01],\n",
       "       [ -1.01841540e+00,  -2.26093368e-01,   1.46960170e+00],\n",
       "       [ -1.46104938e+00,  -1.55439190e+00,   1.20445283e+00],\n",
       "       [ -1.89112638e-01,   1.10220517e+00,   9.39303966e-01],\n",
       "       [ -1.01459959e+00,  -2.26093368e-01,  -1.40284436e+00]])"
      ]
     },
     "execution_count": 27,
     "metadata": {},
     "output_type": "execute_result"
    }
   ],
   "source": [
    "# no wonder I had such a hard time figuring out how to make that into a list comprehension!\n",
    "\n",
    "from sklearn import preprocessing\n",
    "\n",
    "std_scale = preprocessing.StandardScaler().fit(df[['SQFT', 'BDRMS', 'AGE']])\n",
    "\n",
    "df_std = std_scale.transform(df[['SQFT', 'BDRMS', 'AGE']])\n"
   ]
  },
  {
   "cell_type": "code",
   "execution_count": null,
   "metadata": {
    "collapsed": true
   },
   "outputs": [],
   "source": []
  },
  {
   "cell_type": "code",
   "execution_count": null,
   "metadata": {
    "collapsed": false
   },
   "outputs": [],
   "source": []
  },
  {
   "cell_type": "code",
   "execution_count": null,
   "metadata": {
    "collapsed": false,
    "scrolled": true
   },
   "outputs": [],
   "source": []
  },
  {
   "cell_type": "markdown",
   "metadata": {},
   "source": [
    "### 8. Using .apply() on your _DataFrame_, create a function that returns a count of the number of scaled columns that are positive. For example, if one scaled column is positive and two are negative, return 1. If all are negative return 0. Hint: It may be helpful to use .apply() on just a portion of your DataFrame. Save this new column as 'POS'."
   ]
  },
  {
   "cell_type": "code",
   "execution_count": null,
   "metadata": {
    "collapsed": false
   },
   "outputs": [],
   "source": []
  },
  {
   "cell_type": "code",
   "execution_count": null,
   "metadata": {
    "collapsed": false,
    "scrolled": true
   },
   "outputs": [],
   "source": []
  },
  {
   "cell_type": "markdown",
   "metadata": {},
   "source": [
    "### 9. Using a lambda function with .apply() return a 1 if the price is above the mean price and a 0 if not. Save this new column as 'HIGH_PRICE'."
   ]
  },
  {
   "cell_type": "code",
   "execution_count": null,
   "metadata": {
    "collapsed": false
   },
   "outputs": [],
   "source": []
  },
  {
   "cell_type": "markdown",
   "metadata": {},
   "source": [
    "### 9. Using a minimum of 3 feature columns (not 'PRICE'), set a design matrix (X).  Next set a target vector (y). The target vector should be the 'HIGH_PRICE' column you just created."
   ]
  },
  {
   "cell_type": "code",
   "execution_count": null,
   "metadata": {
    "collapsed": false
   },
   "outputs": [],
   "source": []
  },
  {
   "cell_type": "markdown",
   "metadata": {},
   "source": [
    "### 10. Using sk-learn's GridSearchCV and k-nn, find the optimal hyper-parmaters. Set the number of folds to 3 and the k to the range from 1 to 5. What is the best k? What is the best score? What does this score represent?"
   ]
  },
  {
   "cell_type": "code",
   "execution_count": null,
   "metadata": {
    "collapsed": true
   },
   "outputs": [],
   "source": []
  },
  {
   "cell_type": "code",
   "execution_count": null,
   "metadata": {
    "collapsed": false
   },
   "outputs": [],
   "source": []
  },
  {
   "cell_type": "code",
   "execution_count": null,
   "metadata": {
    "collapsed": false
   },
   "outputs": [],
   "source": []
  },
  {
   "cell_type": "code",
   "execution_count": null,
   "metadata": {
    "collapsed": false
   },
   "outputs": [],
   "source": []
  },
  {
   "cell_type": "code",
   "execution_count": null,
   "metadata": {
    "collapsed": false
   },
   "outputs": [],
   "source": []
  },
  {
   "cell_type": "markdown",
   "metadata": {},
   "source": [
    "### Bonus: If you have time, re-run the model using the scaled feature columns using a logistic regression. Test which features are most important using a penalized regression. Which is better L1 or L2? What penalty (C) is optimal?"
   ]
  },
  {
   "cell_type": "code",
   "execution_count": null,
   "metadata": {
    "collapsed": true
   },
   "outputs": [],
   "source": []
  }
 ],
 "metadata": {
  "anaconda-cloud": {},
  "kernelspec": {
   "display_name": "Python [Root]",
   "language": "python",
   "name": "Python [Root]"
  },
  "language_info": {
   "codemirror_mode": {
    "name": "ipython",
    "version": 2
   },
   "file_extension": ".py",
   "mimetype": "text/x-python",
   "name": "python",
   "nbconvert_exporter": "python",
   "pygments_lexer": "ipython2",
   "version": "2.7.12"
  }
 },
 "nbformat": 4,
 "nbformat_minor": 0
}
