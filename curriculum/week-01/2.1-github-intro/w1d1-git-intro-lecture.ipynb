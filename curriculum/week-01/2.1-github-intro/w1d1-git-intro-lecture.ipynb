{
 "cells": [
  {
   "cell_type": "markdown",
   "metadata": {
    "slideshow": {
     "slide_type": "slide"
    }
   },
   "source": [
    "# ![](https://ga-dash.s3.amazonaws.com/production/assets/logo-9f88ae6c9c3871690e33280fcf557f33.png) Intro to Git\n",
    "Week 1 | Lesson 2.1\n"
   ]
  },
  {
   "cell_type": "markdown",
   "metadata": {
    "slideshow": {
     "slide_type": "slide"
    }
   },
   "source": [
    "### LEARNING OBJECTIVES\n",
    "*After this lesson, you will be able to:*\n",
    "- Use the git commands init, add, commit, push, pull, and clone\n",
    "- Distinguish between local and remote repositories\n",
    "- Create, copy, and delete repositories locally, or on Github\n",
    "- Clone remote repositories"
   ]
  },
  {
   "cell_type": "markdown",
   "metadata": {
    "slideshow": {
     "slide_type": "slide"
    }
   },
   "source": [
    "### STUDENT PRE-WORK\n",
    "*Before this lesson, you should already be able to:*\n",
    "\n",
    "- Install git\n",
    "- Setup a GitHub account\n",
    "- Setup [SSH key](https://help.github.com/articles/generating-a-new-ssh-key-and-adding-it-to-the-ssh-agent/)\n",
    "\n"
   ]
  },
  {
   "cell_type": "markdown",
   "metadata": {
    "slideshow": {
     "slide_type": "slide"
    }
   },
   "source": [
    "\n",
    "### LESSON GUIDE\n",
    "| TIMING  | TYPE  | TOPIC  |\n",
    "|:-:|---|---|\n",
    "| 20 min  | [Introduction](#introduction)   | Git vs GitHub and version control  |\n",
    "| 15 min  | [Codealong](#demo1)  | Let's use Git  |\n",
    "| 15 min  | [Codealong](#demo2)  | Making and cloning repositories  |\n",
    "| 25 min  | [Independent Practice](#ind-practice)  \n",
    "| 5 min  | [Conclusion](#conclusion)\n",
    "\n"
   ]
  },
  {
   "cell_type": "markdown",
   "metadata": {
    "slideshow": {
     "slide_type": "slide"
    }
   },
   "source": [
    "![](./assets/images/xkcd_git.png)"
   ]
  },
  {
   "cell_type": "markdown",
   "metadata": {
    "slideshow": {
     "slide_type": "slide"
    }
   },
   "source": [
    "<a name=\"introduction\"></a>\n",
    "## Git vs GitHub and version control - Intro (20 mins)\n",
    "\n",
    "#### What is Git?\n",
    "\n",
    "[Git](https://git-scm.com/) is:\n",
    "\n",
    "- A program you run from the command line\n",
    "- A distributed version control system\n",
    "\n",
    "Programmers use Git so that they can keep the history of all the changes to their code. This means that they can rollback changes (or switch to older versions) as far back into time as they started using Git on their project.\n",
    "\n",
    "A codebase in Git is referred to as a **repository**, or **repo**, for short.\n",
    "\n",
    "Git was created by [Linus Torvalds](https://en.wikipedia.org/wiki/Linus_Torvalds), the principal developer of Linux."
   ]
  },
  {
   "cell_type": "markdown",
   "metadata": {
    "slideshow": {
     "slide_type": "slide"
    }
   },
   "source": [
    "![](./assets/images/git_book_areas.png)"
   ]
  },
  {
   "cell_type": "markdown",
   "metadata": {
    "slideshow": {
     "slide_type": "slide"
    }
   },
   "source": [
    "#### What is Github?\n",
    "\n",
    "[Github](https://github.com/) is:\n",
    "\n",
    "- A hosting service for Git repositories: we all have individual accounts and put our codebases on our Github account\n",
    "- A web interface to explore Git repositories: developers can access codebases on other public accounts\n",
    "- A social network of programmers: you can follow users and star your favorite projects\n",
    "\n"
   ]
  },
  {
   "cell_type": "markdown",
   "metadata": {
    "slideshow": {
     "slide_type": "slide"
    }
   },
   "source": [
    "#### So many commands?!\n",
    "\n",
    "There are a lot of commands you can use in git. You can see a list of the available commands by running:\n",
    "\n",
    "```bash\n",
    "$ git help -a\n",
    "```\n",
    "\n",
    "Even though there are lots of commands, in the course we will really only need about 10.\n",
    "\n"
   ]
  },
  {
   "cell_type": "markdown",
   "metadata": {
    "slideshow": {
     "slide_type": "slide"
    }
   },
   "source": [
    "<a name=\"demo1\"></a>\n",
    "## Let's use Git - Codealong (15 mins)\n",
    "\n",
    "First, create and navigate into a new directory on your Home directory:\n",
    "\n",
    "```bash\n",
    "$ cd ~\n",
    "$ mkdir GA-DSI\n",
    "$ cd GA-DSI\n",
    "```\n",
    "\n",
    "You can place this directory under Git revision control using the command:\n",
    "\n",
    "```bash\n",
    "$ git init\n",
    "```\n",
    "\n"
   ]
  },
  {
   "cell_type": "markdown",
   "metadata": {
    "slideshow": {
     "slide_type": "slide"
    }
   },
   "source": [
    "Git will reply:\n",
    "\n",
    "```bash\n",
    "Initialized empty Git repository in <location>\n",
    "```\n",
    "\n",
    "You've now initialized the working directory.\n",
    "\n"
   ]
  },
  {
   "cell_type": "markdown",
   "metadata": {
    "slideshow": {
     "slide_type": "slide"
    }
   },
   "source": [
    "#### The .git folder\n",
    "\n",
    "If we look at the contents of this empty folder using:\n",
    "\n",
    "```bash\n",
    "ls -A\n",
    "```\n",
    "\n",
    "> Check: what do you see?"
   ]
  },
  {
   "cell_type": "markdown",
   "metadata": {
    "slideshow": {
     "slide_type": "slide"
    }
   },
   "source": [
    "We should see that there is now a hidden folder called `.git` this is where all of the information about your repository is stored. There is no need for you to make any changes to this folder. You can control all the git flow using `git` commands.\n",
    "\n",
    "#### Add a file\n",
    "\n",
    "Let's create a new file:\n",
    "\n",
    "```bash\n",
    "$ touch a.txt\n",
    "```\n",
    "\n"
   ]
  },
  {
   "cell_type": "markdown",
   "metadata": {
    "slideshow": {
     "slide_type": "slide"
    }
   },
   "source": [
    "If we run `git status` we should get:\n",
    "\n",
    "```bash\n",
    "On branch master\n",
    "\n",
    "Initial commit\n",
    "\n",
    "Untracked files:\n",
    "  (use \"git add <file>...\" to include in what will be committed)\n",
    "\n",
    "\ta.txt\n",
    "\n",
    "nothing added to commit but untracked files present (use \"git add\" to track)\n",
    "```\n"
   ]
  },
  {
   "cell_type": "markdown",
   "metadata": {
    "slideshow": {
     "slide_type": "slide"
    }
   },
   "source": [
    "This means that there is a new **untracked** file. Next, tell Git to take a snapshot of the contents of all files under the current directory (note the '.')\n",
    "\n",
    "```bash\n",
    "$ git add .\n",
    "```\n",
    "\n"
   ]
  },
  {
   "cell_type": "markdown",
   "metadata": {
    "slideshow": {
     "slide_type": "slide"
    }
   },
   "source": [
    "After this, `git status` returns:\n",
    "\n",
    "```bash\n",
    "On branch master\n",
    "\n",
    "Initial commit\n",
    "\n",
    "Changes to be committed:\n",
    "  (use \"git rm --cached <file>...\" to unstage)\n",
    "\n",
    "\tnew file:   a.txt\n",
    "```\n",
    "\n",
    "This snapshot is now stored in a temporary staging area which Git calls the \"index\"."
   ]
  },
  {
   "cell_type": "markdown",
   "metadata": {
    "slideshow": {
     "slide_type": "slide"
    }
   },
   "source": [
    "#### Commit\n",
    "\n",
    "To permanently store the contents of the index in the repository, you need to run:\n",
    "\n",
    "```bash\n",
    "$ git commit -m \"Add a.txt\"\n",
    "```\n",
    "\n",
    "`Commit` is the command; the `-m` flag lets you add a \"commit message\" documenting your change, which you should always do. (If you don't use the `-m` flag, git will open a text editor and prompt you for a message.)\n",
    "\n"
   ]
  },
  {
   "cell_type": "markdown",
   "metadata": {
    "slideshow": {
     "slide_type": "slide"
    }
   },
   "source": [
    "You should now get:\n",
    "\n",
    "```bash\n",
    "[master (root-commit) b4faebd] Add a.txt\n",
    " 1 file changed, 0 insertions(+), 0 deletions(-)\n",
    " create mode 100644 a.txt\n",
    "```"
   ]
  },
  {
   "cell_type": "markdown",
   "metadata": {
    "slideshow": {
     "slide_type": "slide"
    }
   },
   "source": [
    "#### Checking the log\n",
    "\n",
    "If we want to view the commit history, we can run:\n",
    "\n",
    "```bash\n",
    "git log\n",
    "```\n",
    "\n",
    "You should see something similar to:\n",
    "\n",
    "```bash\n",
    "commit ec1b1ebad5927e74d498ee588190686c51cab446\n",
    "Author: <author>\n",
    "Date:   <date>\n",
    "\n",
    "    Add a.txt\n",
    "```\n"
   ]
  },
  {
   "cell_type": "markdown",
   "metadata": {
    "slideshow": {
     "slide_type": "slide"
    }
   },
   "source": [
    "<a name=\"demo2\"></a>\n",
    "#### Making and cloning repositories - Codealong (10 mins)\n",
    "\n",
    "Let's do this together:\n",
    "\n",
    "1. Go to your Github account, and click through to the \"Repositories\" tab on your profile\n",
    "2. In the right hand side, hit the green + button for `New repository`\n",
    "3. Name your repository `GA-DSI`\n",
    "4. Check \"Initialize this repository with a README\" (double-check this!)\n",
    "5. Click the big green Create Repository button"
   ]
  },
  {
   "cell_type": "markdown",
   "metadata": {
    "slideshow": {
     "slide_type": "slide"
    }
   },
   "source": [
    "We now need to connect our local Git repo with our remote repository on GitHub. We have to add a \"remote\" repository, an address where we can send our local files to be stored. Type the following in to the command line, replacing 'github-name' with your account name.\n",
    "\n",
    "```bash\n",
    "git remote add origin git@github.com:github-name/GA-DSI.git\n",
    "```\n",
    "\n",
    "You've now initialized a local repo in which to share your projects, and connected it with a remote repo on GitHub which you own.\n",
    "\n",
    "> Check: can you draw a diagram with the repos we're using so far? Add to this diagram the rest of the lesson.\n"
   ]
  },
  {
   "cell_type": "markdown",
   "metadata": {
    "slideshow": {
     "slide_type": "slide"
    }
   },
   "source": [
    "#### Pushing to Github\n",
    "\n",
    "In order to send files from our local machine to our remote repository on Github, we use the command `git push`. You also need to specify the name of the remote repo -- we called it `origin` -- and the name of the branch, in this case `master`.\n",
    "\n",
    "```bash\n",
    "git push origin master\n",
    "```\n",
    "> Check: what do you see?\n",
    "\n"
   ]
  },
  {
   "cell_type": "markdown",
   "metadata": {
    "slideshow": {
     "slide_type": "slide"
    }
   },
   "source": [
    "This should fail due to new files on the remote repo. This is a common part of a collaborative project workflow: someone makes changes to the remote while you are working on the local version, so you need to bring your version up to date by fetching and merging the additions. After that you can push your own changes."
   ]
  },
  {
   "cell_type": "markdown",
   "metadata": {
    "slideshow": {
     "slide_type": "slide"
    }
   },
   "source": [
    "#### Pulling from Github\n",
    "\n",
    "As we added the README.md in our remote repo, we need to first `pull` that file to our local repository so there's no discrepency ('conflict') between our repositories.\n",
    "\n",
    "```bash\n",
    "git pull origin master\n",
    "```\n"
   ]
  },
  {
   "cell_type": "markdown",
   "metadata": {
    "slideshow": {
     "slide_type": "slide"
    }
   },
   "source": [
    "```bash\n",
    "git status\n",
    "```\n",
    "\n",
    "```bash\n",
    "git add .\n",
    "```\n",
    "\n",
    "```bash\n",
    "git commit -m \"README.md\"\n",
    "```\n",
    "\n"
   ]
  },
  {
   "cell_type": "markdown",
   "metadata": {
    "slideshow": {
     "slide_type": "slide"
    }
   },
   "source": [
    "Once we have done this, you should see the README file on your computer.\n",
    "\n",
    "```bash\n",
    "ls\n",
    "```\n",
    "\n",
    "Open it up and type some kind of modification/addition, then stage and commit it again. (This time we're committing the specific file rather than everything in the directory; in this case either works.)\n",
    "\n",
    "```bash\n",
    "git add README.md\n",
    "git commit -m \"Edit README.md\"\n",
    "```\n",
    "\n"
   ]
  },
  {
   "cell_type": "markdown",
   "metadata": {
    "slideshow": {
     "slide_type": "slide"
    }
   },
   "source": [
    "Now you can push your changes:\n",
    "\n",
    "```bash\n",
    "git push origin master\n",
    "```\n",
    "\n",
    "Refresh your GitHub webpage, and the files should be there!"
   ]
  },
  {
   "cell_type": "markdown",
   "metadata": {},
   "source": [
    "What did we just do?\n",
    "\n",
    "![](./assets/images/git_file_editing.png)"
   ]
  },
  {
   "cell_type": "markdown",
   "metadata": {
    "slideshow": {
     "slide_type": "slide"
    }
   },
   "source": [
    "#### Forking and cloning\n",
    "\n",
    "Now that everyone has their first repository on GitHub, let's fork and clone a repository.\n",
    "\n",
    "Forking gives you a copy of an existing repository -- you can make any changes you want without affecting the original. (You can also propose that the maintainer of the original merge your changes!)\n",
    "\n",
    "Cloning gives you a local copy of a remote repository.\n",
    "\n",
    "Let's fork and then clone the DSI-NYC-2 course repo, which will include all our lecture material and project specifications.\n"
   ]
  },
  {
   "cell_type": "markdown",
   "metadata": {
    "slideshow": {
     "slide_type": "slide"
    }
   },
   "source": [
    "\n",
    "#### Fork the repo!\n",
    "\n",
    "While logged into GitHub, go to https://github.com/ga-students/DSI-NYC-2 and click the icon that says 'fork'. That's it!\n",
    "\n",
    "To retrieve the contents of the repo, all you need to do is navigate back to Home and `clone`:\n",
    "\n",
    "```bash\n",
    "$ cd ~\n",
    "$ git clone git@github.com:github-name/DSI-NYC-2.git\n",
    "```\n",
    "\n",
    "(You can also copy that git@... string from GitHub by clicking the green button saying \"Clone or download\". Try the \"Use HTTPS\" option if you're having trouble with SSH.)\n",
    "\n"
   ]
  },
  {
   "cell_type": "markdown",
   "metadata": {
    "slideshow": {
     "slide_type": "slide"
    }
   },
   "source": [
    "Git should reply:\n",
    "\n",
    "```bash\n",
    "Cloning into 'DSI-NYC-2'...\n",
    "remote: Counting objects: 3, done.\n",
    "remote: Total 3 (delta 0), reused 3 (delta 0), pack-reused 0\n",
    "Receiving objects: 100% (3/3), done.\n",
    "Checking connectivity... done.\n",
    "```\n",
    "\n",
    "You now have cloned your first repository! Navigate into it:\n",
    "```bash\n",
    "$ cd DSI-NYC-2\n",
    "```\n",
    "\n",
    "Note: Git commands apply to the repository you're working in at the time. So `cd` into your repository each time.\n",
    "\n"
   ]
  },
  {
   "cell_type": "markdown",
   "metadata": {
    "slideshow": {
     "slide_type": "slide"
    }
   },
   "source": [
    "#### Syncing the repo\n",
    "\n",
    "We also need a way to keep your new copy of DSI-NYC-2 up-to-date. Let's tell Git what the \"upstream\" repo is:\n",
    "\n",
    "```bash\n",
    "git remote add upstream git@github.com:ga-students/DSI-NYC-2.git\n",
    "```\n",
    "(Look closely: where exactly is the \"upstream\" repo?) Now, you can update your local repo each morning with:\n",
    "\n",
    "```bash\n",
    "git pull upstream master\n",
    "```"
   ]
  },
  {
   "cell_type": "markdown",
   "metadata": {
    "slideshow": {
     "slide_type": "slide"
    }
   },
   "source": [
    "#### Our workflow\n",
    "\n",
    "Each day, `pull` down new lesson material from the upstream master, then `cp` it to your personal GA-DSI repo.\n",
    "\n",
    "> Check: why do you think we want you to copy it to a different repo?\n",
    "\n",
    "![](./assets/images/dsi_git_workflow.png)\n"
   ]
  },
  {
   "cell_type": "markdown",
   "metadata": {
    "slideshow": {
     "slide_type": "slide"
    }
   },
   "source": [
    "<a name=\"ind-practice\"></a>\n",
    "## Independent Practice (25 mins)\n",
    "- Show a partner how to use Git to:  init, add, commit, push, pull, and clone\n",
    "\n"
   ]
  },
  {
   "cell_type": "markdown",
   "metadata": {
    "slideshow": {
     "slide_type": "slide"
    }
   },
   "source": [
    "<a name=\"conclusion\"></a>\n",
    "## Conclusion (5 mins)\n",
    "Feel comfortable with Git and GitHub? We'll be using it for a lot of coursework!\n",
    "\n"
   ]
  },
  {
   "cell_type": "markdown",
   "metadata": {
    "slideshow": {
     "slide_type": "skip"
    }
   },
   "source": [
    "<a name=\"bonus\"></a>\n",
    "## Advanced reading (optional)\n",
    "\n",
    "Once you've mastered the basics, learn more about Git by:\n",
    "\n",
    "- Diving into the book [\"Pro Git\"](https://git-scm.com/book/en/v2).\n",
    "- Considering best practices for Git commit messages by reading [this post](http://chris.beams.io/posts/git-commit/)."
   ]
  }
 ],
 "metadata": {
  "celltoolbar": "Slideshow",
  "kernelspec": {
   "display_name": "Python 2",
   "language": "python",
   "name": "python2"
  },
  "language_info": {
   "codemirror_mode": {
    "name": "ipython",
    "version": 2
   },
   "file_extension": ".py",
   "mimetype": "text/x-python",
   "name": "python",
   "nbconvert_exporter": "python",
   "pygments_lexer": "ipython2",
   "version": "2.7.12"
  }
 },
 "nbformat": 4,
 "nbformat_minor": 0
}
