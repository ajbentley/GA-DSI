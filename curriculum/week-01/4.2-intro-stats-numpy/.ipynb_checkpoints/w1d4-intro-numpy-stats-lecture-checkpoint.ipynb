{
 "cells": [
  {
   "cell_type": "markdown",
   "metadata": {
    "slideshow": {
     "slide_type": "slide"
    }
   },
   "source": [
    "# ![](https://ga-dash.s3.amazonaws.com/production/assets/logo-9f88ae6c9c3871690e33280fcf557f33.png) Basic Stats Review + Intro to NumPy\n",
    "Week 1 | Lesson 4.1\n",
    "\n"
   ]
  },
  {
   "cell_type": "markdown",
   "metadata": {
    "slideshow": {
     "slide_type": "slide"
    }
   },
   "source": [
    "### LEARNING OBJECTIVES\n",
    "*After this lesson, you will be able to:*\n",
    "- Calculate measures of Central Tendency (mean, median, and mode) in Python\n",
    "- Explain how mean, median and mode are typically affected by skewness in data\n",
    "- Calculate measures of variability (variance and standard deviation) in Python\n",
    "\n",
    "\n"
   ]
  },
  {
   "cell_type": "markdown",
   "metadata": {
    "slideshow": {
     "slide_type": "slide"
    }
   },
   "source": [
    "### STUDENT PRE-WORK\n",
    "*Before this lesson, you should already be able to:*\n",
    "- Define basic descriptive statistic measures such as mean and variance\n",
    "\n",
    "\n",
    "If your pre-work is not fresh in your mind, you can rewatch [Intro to Stats](https://www.udacity.com/course/intro-to-statistics--st101)\n",
    "\n",
    "\n",
    "\n"
   ]
  },
  {
   "cell_type": "markdown",
   "metadata": {
    "slideshow": {
     "slide_type": "slide"
    }
   },
   "source": [
    "### LESSON GUIDE\n",
    "| TIMING  | TYPE  | TOPIC  |\n",
    "|:-:|---|---|\n",
    "| 5 min  | [Introduction](#introduction)   |  Descriptive Statistics |\n",
    "| 20 min  | [Demo / Guided Practice](#demo)  | Mean, Median, and Mode  |\n",
    "| 20 min  | [Demo / Guided Practice](#demo)  | Skewness  |\n",
    "| 20 min  | [Demo / Guided Practice](#demo)  | Range, Variance and Standard Deviation  |\n",
    "| 20 min  | [Independent Practice](#ind-practice)  |   |\n",
    "| 5 min  | [Conclusion](#conclusion)  |   |\n",
    "\n",
    "---\n"
   ]
  },
  {
   "cell_type": "markdown",
   "metadata": {
    "slideshow": {
     "slide_type": "slide"
    }
   },
   "source": [
    "\n",
    "<a name=\"Descriptive Statistics\"></a>\n",
    "## Introduction: Stats review  (5 mins)\n",
    "\n",
    "There are two main approaches in statistics: **descriptive** and **inferential**. Right now, we'll focus on basic descriptive statistics: describing, summarizing, and understanding data.\n",
    "\n",
    "**Measures of central tendency** provide descriptive information about a single numerical value 'typical' of the values of a quantitative variable.\n",
    "\n",
    "You're probably already familiar with some of these summary measures: the **mean**, **median**, and **mode**.\n",
    "\n",
    "We'll also discuss **skewness**, which is the lack of symmetry in a distribution of data.\n",
    "\n",
    "Lastly we'll take a look at measures of variability: namely the **range**, **variance**, and **standard deviation**.\n",
    "\n",
    "The **NumPy** library has functions to calculate all of these, but before we let NumPy do the work, let's be sure we can apply these fundamental concepts by hand.\n",
    "\n",
    "[descriptive stats](http://www.southalabama.edu/coe/bset/johnson/lectures/lec15.htm)\n",
    "\n",
    "\n",
    "\n"
   ]
  },
  {
   "cell_type": "markdown",
   "metadata": {
    "slideshow": {
     "slide_type": "slide"
    }
   },
   "source": [
    "<a name=\"Mean, median, and mode\"></a>\n",
    "## Guided Practice: Mean, median, and mode (20 mins)\n",
    "\n",
    "##### Mean\n",
    "\n",
    "_The mean is the sum of the numbers divided by the length of the list._\n",
    "\n",
    "**Check:** Find the **mean** of this list using python:\n",
    "```python\n",
    "n = [1,2,3,4,5]\n",
    "```\n",
    "\n",
    "<details><summary> **calculate the mean**\n",
    "</summary>\n",
    "```python\n",
    "n = [1,2,3,4,5]\n",
    "n_mean = (1+2+3+4+5)/len(n)\n",
    "```\n",
    "</details>\n",
    "\n",
    "---\n"
   ]
  },
  {
   "cell_type": "markdown",
   "metadata": {
    "slideshow": {
     "slide_type": "slide"
    }
   },
   "source": [
    "\n",
    "##### Median\n",
    "\n",
    "_For odd-length lists: the median is the middle number of the ordered list._\n",
    "\n",
    "_For even-length lists: the median is the average of the two middle numbers of the ordered list._\n",
    "\n",
    "**Check:** Find the **median** of each list using python:\n",
    "\n",
    "```python\n",
    "n_odd = [1,5,9,2,8,3,10,15,7]\n",
    "n_even = [8,2,3,1,0,-1,-5,20]\n",
    "```"
   ]
  },
  {
   "cell_type": "markdown",
   "metadata": {
    "slideshow": {
     "slide_type": "slide"
    }
   },
   "source": [
    "\n",
    "<details><summary> **calculate the median**</summary>\n",
    "```python\n",
    "n_odd = [1,5,9,2,8,3,10,15,7]\n",
    "n_even = [8,2,3,1,0,-1,-5,20]\n",
    "\n",
    "# STEP 1: Order the numbers:\n",
    "n_odd = sorted(n_odd)\n",
    "n_even = sorted(n_even)\n",
    "\n",
    "# STEP 2: Find the middle\n",
    "# for odd-numbered lists of numbers:\n",
    "n_odd_len_half = len(n_odd)/2.\n",
    "odd_median = n_odd[int(n_odd_len_half - 0.5)]\n",
    "\n",
    "# for even-numbered lists of numbers:\n",
    "n_even_len_half = len(n_even)/2\n",
    "even_median = (n_even[n_even_len_half-1] + n_even[n_even_len_half]) / 2.\n",
    "\n",
    "print n_odd, n_odd_len_half, odd_median\n",
    "print n_even, n_even_len_half, even_median\n",
    "```\n",
    "</details>"
   ]
  },
  {
   "cell_type": "markdown",
   "metadata": {
    "slideshow": {
     "slide_type": "slide"
    }
   },
   "source": [
    "##### Mode\n",
    "\n",
    "_The mode is the most frequently occurring number._\n",
    "\n",
    "Finding the mode is not as trivial as the mean or median, so here it is calculated using scipy.stats.mode().\n",
    "\n",
    "Note: doing this without scipy.stats.mode() is a challenge problem in the independent practice section.\n",
    "\n",
    "```python\n",
    "from scipy.stats import mode\n",
    "\n",
    "n = [0,1,1,2,2,2,2,3,3,4,4,4,5]\n",
    "\n",
    "n_mode = mode(n)\n",
    "\n",
    "# mode() returns an object with the array of mode(s) and the count(s):\n",
    "print(n_mode)\n",
    "ModeResult(mode=array([2]), count=array([4]))\n",
    "\n",
    "print(n_mode.mode[0])\n",
    "2\n",
    "\n",
    "```\n",
    "\n",
    "> Additional information here:\n",
    "> [descriptive stats](http://www.southalabama.edu/coe/bset/johnson/lectures/lec15.htm)\n",
    "\n",
    "---\n",
    "\n"
   ]
  },
  {
   "cell_type": "markdown",
   "metadata": {
    "slideshow": {
     "slide_type": "slide"
    }
   },
   "source": [
    "##### Let numpy and scipy do the work\n",
    "\n",
    "Luckily numpy and scipy come with convenience functions to calculate these values for you.\n",
    "\n",
    "```python\n",
    "from numpy import mean, median\n",
    "from scipy.stats import mode\n",
    "\n",
    "n = [3, 75, 98, 2, 10, 3, 14, 99, 44, 25, 31, 100, 356, 4, 23, 55, 327, 64, 6, 20]\n",
    "\n",
    "print(mean(n))\n",
    "67.950000000000003\n",
    "\n",
    "print(median(n))\n",
    "28.0\n",
    "\n",
    "print(mode(n))\n",
    "ModeResult(mode=array([3]), count=array([2]))\n",
    "```\n",
    "\n",
    "> **Check:** Explain the output of the mode() function.\n",
    "\n"
   ]
  },
  {
   "cell_type": "markdown",
   "metadata": {
    "slideshow": {
     "slide_type": "slide"
    }
   },
   "source": [
    "<a name=\"Skewness\"></a>\n",
    "## Guided Practice: Skewness (20 mins)\n",
    "\n",
    "**Skewness** is lack of symmetry in a distribution of data.\n",
    "\n",
    "[Technical note: we will be talking about skewness here in the context of _unimodal_ distributions.]\n",
    "\n",
    "![](./assets/images/skewness.png)\n",
    "\n",
    "A **positive-skewed** distribution means the right side tail of the distribution is longer or fatter than the left.\n",
    "\n",
    "Likewise a **negative-skewed** distribution means the left side tail is longer or fatter than the right.\n",
    "\n",
    "Symmetric distributions have no skewness!\n",
    "\n",
    "---\n"
   ]
  },
  {
   "cell_type": "markdown",
   "metadata": {
    "slideshow": {
     "slide_type": "slide"
    }
   },
   "source": [
    "\n",
    "##### Skewness and measures of central tendency\n",
    "\n",
    "The skewness of a distribution is given by:\n",
    "\n",
    "$$\n",
    "E\\left[ \\left( \\frac{X - \\mu}{\\sigma} \\right)^3 \\right]\n",
    "$$\n",
    "\n",
    "Where $\\mu$ is the mean and $\\sigma$ is the standard deviation (which we'll review shortly).\n",
    "\n",
    "\n"
   ]
  },
  {
   "cell_type": "markdown",
   "metadata": {
    "slideshow": {
     "slide_type": "slide"
    }
   },
   "source": [
    "When a distribution is symmetrical, the mean, median, and mode are the same number, and the skew is 0.\n",
    "\n",
    "When a distribution is negatively skewed, (generally) the mean is less than the median, which is less than the mode.\n",
    "\n",
    "**Negative skew: mean < median < mode**\n",
    "\n",
    "When a distribution is positively skewed, (generally) the mean is greater than the median, which is greater than the mode.\n",
    "\n",
    "**Positive skew: mode < median < mean**\n"
   ]
  },
  {
   "cell_type": "markdown",
   "metadata": {
    "slideshow": {
     "slide_type": "slide"
    }
   },
   "source": [
    "We often need to decide what the most 'accurate' summary statistic for a distribution is; this rule of thumb can help you judge the consequences of skewed data, or to infer whether a distribution is skewed if you know the mean and median.\n",
    "\n",
    "1. If the mean < median, the data are skewed left.\n",
    "2. If the mean > median, the data are skewed right.\n",
    "\n",
    "> **Check:** Using this information, does the list of numbers form a symmetric distribution? Is it skewed left of right?"
   ]
  },
  {
   "cell_type": "markdown",
   "metadata": {
    "slideshow": {
     "slide_type": "slide"
    }
   },
   "source": [
    "<a name=\"Range, Variance and Standard Deviation\"></a>\n",
    "## Guided Practice: Range, Variance and Standard Deviation (20 mins)\n",
    "\n",
    "Measures of variability like the **range**, **variance**, and **standard deviation** tell you about the spread of your data.\n",
    "\n",
    "These measurements give complementary (and no less important!) information to the measures of central tendency (mean, median, mode).\n",
    "\n",
    "---\n",
    "\n"
   ]
  },
  {
   "cell_type": "markdown",
   "metadata": {
    "slideshow": {
     "slide_type": "slide"
    }
   },
   "source": [
    "##### Range\n",
    "\n",
    "The **range** is the difference between the lowest and highest values of a distribution.\n",
    "\n",
    "\n",
    "<details><summary> **calculate the range**\n",
    "</summary>\n",
    "```python\n",
    "n = [3, 75, 98, 2, 10, 3, 14, 99, 44, 25, 31, 100, 356, 4, 23, 55, 327, 64, 6, 20]\n",
    "\n",
    "# In pure python:\n",
    "n = sorted(n)\n",
    "n_range = n[len(n) - 1] - n[0]\n",
    "\n",
    "print(n_range)\n",
    "354\n",
    "\n",
    "# With numpy:\n",
    "n_range = np.ptp(n)\n",
    "\n",
    "print(n_range)\n",
    "354\n",
    "```\n",
    "</details>\n",
    "\n"
   ]
  },
  {
   "cell_type": "markdown",
   "metadata": {
    "slideshow": {
     "slide_type": "slide"
    }
   },
   "source": [
    "---\n",
    "\n",
    "##### Variance\n",
    "\n",
    "The **variance** is a numeric value used to describe how widely the numbers distribution vary.\n",
    "\n",
    "In python variance can be calculated with:\n",
    "```python\n",
    "variance = []\n",
    "n_mean = np.mean(n)\n",
    "\n",
    "for n_ in n:\n",
    "  variance.append((n_ - n_mean) ** 2)\n",
    "\n",
    "variance = np.sum(variance)\n",
    "variance = variance / len(n)\n",
    "```\n",
    "\n"
   ]
  },
  {
   "cell_type": "markdown",
   "metadata": {
    "slideshow": {
     "slide_type": "slide"
    }
   },
   "source": [
    "Which is **the average of the sum of the squared distances of each number from the mean of the numbers.**\n",
    "\n",
    "> **Check:** What could a distribution with a large variance look like? A small? What does a variance of 0 mean?\n",
    "\n",
    "Using numpy the variance is simply:\n",
    "```python\n",
    "variance = np.var(n)\n",
    "\n",
    "print(variance)\n",
    "9414.6475\n",
    "```\n",
    "\n",
    "![](./assets/images/dist_with_variance.png)\n",
    "\n",
    "\n"
   ]
  },
  {
   "cell_type": "markdown",
   "metadata": {
    "slideshow": {
     "slide_type": "slide"
    }
   },
   "source": [
    "---\n",
    "\n",
    "##### Standard deviation\n",
    "\n",
    "The **standard deviation** is the square root of the variance.\n",
    "\n",
    "Because the variance is the average of the distances from the mean _squared_, the standard deviation tells us approximately, on average, the distance of numbers in a distribution from the mean.\n",
    "\n",
    "The standard deviation can be calculated with:\n",
    "```python\n",
    "std = np.std(n)\n",
    "\n",
    "print(std)\n",
    "97.029106457804716\n",
    "```\n",
    "\n"
   ]
  },
  {
   "cell_type": "markdown",
   "metadata": {
    "slideshow": {
     "slide_type": "slide"
    }
   },
   "source": [
    "**Check**  Is this the same as the average of the absolute deviations from the mean? If not, what is the difference between the measures?\n",
    "\n",
    "\n",
    "![](./assets/images/dist_with_var_std.png)"
   ]
  },
  {
   "cell_type": "markdown",
   "metadata": {
    "slideshow": {
     "slide_type": "slide"
    }
   },
   "source": [
    "\n",
    "<a name=\"ind-practice\"></a>\n",
    "## Independent Practice: Topic (20 minutes)\n",
    "- With the provided data, determine the mean, median, and mode.\n",
    "- Is the data skewed left or right? How do you know?\n",
    "- Find the range, variance and standard deviation of your data set. What does the standard deviation tell you about the distribution?\n",
    "- Challenge: calculate the mode without using scipy!\n",
    "\n"
   ]
  },
  {
   "cell_type": "markdown",
   "metadata": {
    "slideshow": {
     "slide_type": "slide"
    }
   },
   "source": [
    "<a name=\"conclusion\"></a>\n",
    "## Conclusion (5 mins)"
   ]
  },
  {
   "cell_type": "markdown",
   "metadata": {
    "slideshow": {
     "slide_type": "slide"
    }
   },
   "source": [
    "### Advanced reading (optional)\n"
   ]
  }
 ],
 "metadata": {
  "celltoolbar": "Slideshow",
  "kernelspec": {
   "display_name": "Python 2",
   "language": "python",
   "name": "python2"
  },
  "language_info": {
   "codemirror_mode": {
    "name": "ipython",
    "version": 2
   },
   "file_extension": ".py",
   "mimetype": "text/x-python",
   "name": "python",
   "nbconvert_exporter": "python",
   "pygments_lexer": "ipython2",
   "version": "2.7.12"
  }
 },
 "nbformat": 4,
 "nbformat_minor": 0
}
