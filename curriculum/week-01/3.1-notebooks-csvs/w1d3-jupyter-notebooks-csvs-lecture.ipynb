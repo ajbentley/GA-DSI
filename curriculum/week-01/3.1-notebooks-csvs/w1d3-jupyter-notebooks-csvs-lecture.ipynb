{
 "cells": [
  {
   "cell_type": "markdown",
   "metadata": {
    "slideshow": {
     "slide_type": "slide"
    }
   },
   "source": [
    "# ![](https://ga-dash.s3.amazonaws.com/production/assets/logo-9f88ae6c9c3871690e33280fcf557f33.png) Jupyter Notebooks, CSV Library\n",
    "Week 1 | Lesson 3.1"
   ]
  },
  {
   "cell_type": "markdown",
   "metadata": {
    "slideshow": {
     "slide_type": "slide"
    }
   },
   "source": [
    "### LEARNING OBJECTIVES\n",
    "*After this lesson, you will be able to:*\n",
    "- Use code and markdown modes in Jupyter notebookk\n",
    "- Save and share Jupyter notebooks\n",
    "- Use Python's csv module"
   ]
  },
  {
   "cell_type": "markdown",
   "metadata": {
    "slideshow": {
     "slide_type": "slide"
    }
   },
   "source": [
    "### STUDENT PRE-WORK\n",
    "*Before this lesson, you should already be able to:*\n",
    "- Install Anaconda\n",
    "- Launch a Jupyter Notebook instance\n"
   ]
  },
  {
   "cell_type": "markdown",
   "metadata": {
    "slideshow": {
     "slide_type": "slide"
    }
   },
   "source": [
    "### LESSON GUIDE\n",
    "| TIMING  | TYPE  | TOPIC  |\n",
    "|:-:|---|---|\n",
    "| 5 min  | [Introduction](#introduction)   |  Anaconda, iPython notebook, Jupyter, Code vs. Markdown, and csv library |\n",
    "| 5 min  | [Demo ](#jupyter)  | Jupyter  |\n",
    "| 10 min  | [Demo / Guided Practice ](#kernel)  | The kernel and executing commands |\n",
    "| 10 min  | [Demo / Guided Practice ](#code)  | Code vs. Markdown  |\n",
    "| 10 min  | [Demo / Guided Practice ](#files)  | Reading files and parsing text  |\n",
    "| 10 min  | [Demo / Guided Practice ](#csv)  | CSV library  |\n",
    "| 30 min  | [Independent Practice](#ind-practice)  |  |\n",
    "| 5 min  | [Conclusion](#conclusion)  |   |\n",
    "\n",
    "\n",
    "\n"
   ]
  },
  {
   "cell_type": "markdown",
   "metadata": {
    "slideshow": {
     "slide_type": "slide"
    }
   },
   "source": [
    "<a name=\"introduction\"></a>\n",
    "## Introduction: (5 mins)\n",
    "\n",
    "\"Anaconda is a completely free Python distribution. It includes more than 400\n",
    "of the most popular Python packages for science, math, engineering, and data analysis.\"\n",
    "[Anaconda](https://www.continuum.io/downloads)\n",
    "\n",
    "\"The Jupyter Notebook is a web application that allows you to create and share\n",
    "documents that contain live code, equations, visualizations and explanatory text.\n",
    "Uses include: data cleaning and transformation, numerical simulation,\n",
    "statistical modeling, machine learning and much more.\"\n",
    "[Jupyter](http://jupyter.org/)\n",
    "\n",
    "After distinguishing between the concepts of Python, a distribution, and an environment, we'll learn some more fundamental operations in Python: reading lines of text from files, and using the CSV library.\n",
    "\n"
   ]
  },
  {
   "cell_type": "markdown",
   "metadata": {
    "slideshow": {
     "slide_type": "slide"
    }
   },
   "source": [
    "<a name=\"jupyter\"></a>\n",
    "## Demo: Jupyter Notebook (5 mins)\n",
    "\n",
    "Jupyter Notebook comes as part of Anaconda. If you've installed the Anaconda distribution, you should be able to launch Jupyter from the command line by typing:\n",
    "\n",
    "```bash\n",
    "$ jupyter notebook\n",
    "```\n",
    "\n"
   ]
  },
  {
   "cell_type": "markdown",
   "metadata": {
    "slideshow": {
     "slide_type": "slide"
    }
   },
   "source": [
    "<a name=\"code\"></a>\n",
    "## Demo: Code vs. Markdown (5 mins)\n",
    "\n",
    "Let's play around with Jupyter Notebook first to get a feel for it. Create a new notebook by clicking on the \"New\" dropdown and selecting under \"Notebooks\", \"Python 2\". Let's change the title right away to something like \"Practice\".\n",
    "\n",
    "The notebook starts off in the \"Code\" mode, which means that the cell is ready to accept any code we write. Let's toggle it to \"Markdown\" mode. Practice writing a cell of code and then a cell of markdown and run it.\n",
    "\n",
    "Next, click through the dropdown menus: File, Edit, View, Insert, Cell, Kernel, and Help, just to get a look at what's available.\n",
    "\n",
    "You can find more about the [Markdown syntax](http://daringfireball.net/projects/markdown/syntax) [online](https://github.com/adam-p/markdown-here/wiki/Markdown-Cheatsheet).\n",
    "\n"
   ]
  },
  {
   "cell_type": "markdown",
   "metadata": {
    "slideshow": {
     "slide_type": "slide"
    }
   },
   "source": [
    "<a name=\"kernel\"></a>\n",
    "## Demo: The kernel and executing commands (5 mins)\n",
    "\n",
    "In this context, a \"kernel\" is just a program that runs your programming code. Jupyter Notebook is actually language agnostic -- you can install and use other kernels (e.g. Ruby, Julia, R). If you make changes to your Python 2 kernel, like installing new modules, you may want to `restart` the kernel from the Jupyter kernel menu. You can also `interrupt` the kernel if it is taking unconscionably long to execute something.\n",
    "\n",
    "You use the notebook's \"cells\" to write and execute commands. Click into a specific cell to do so. The \"Cell\" menu gives several options for running code; a convenient keyboard shortcut is shift-enter, which runs the code in the cell and selects the next cell below it (or creates a new cell if you're at the last one.)\n",
    "\n",
    "Check out more \"Keyboard Shortcuts\" under the \"Help\" menu."
   ]
  },
  {
   "cell_type": "markdown",
   "metadata": {
    "slideshow": {
     "slide_type": "slide"
    }
   },
   "source": [
    "<a name=\"files\"></a>\n",
    "## Demo / Codealong: Reading files and parsing text (10 mins)\n",
    "\n",
    "Datasets exist in many forms. We'll start with one basic format: a plain text file. 'sales.txt' is in 3.1-jupyter-notebook-csvs/assets/datasets/ in your repo. (Find its path, either absolute or relative to where you are creating your Jupyter notebooks.) Here's how you can open it:\n",
    "\n",
    "```python\n",
    "f = open('../assets/datasets/sales.txt', 'rU')\n",
    "print f.readline()\n",
    "print f.readline()\n",
    "sample_record = f.readline()\n",
    "f.close()\n",
    "print 'file closed'   # Always remember to close a file after writing to it!\n",
    "```\n",
    "\n"
   ]
  },
  {
   "cell_type": "markdown",
   "metadata": {
    "slideshow": {
     "slide_type": "slide"
    }
   },
   "source": [
    "What just happened? Using the `open()` function, we created a `file` object and assigned it to the variable \"f\". `open()` takes a minimum of one argument, the path/name of the file you want to open.\n",
    "\n",
    "The second argument here tells Python which \"mode\" to open the file in: read, write, or append. \"rU\" opens the file in read mode. (The 'U' in \"rU\" isn't always necessary; it tells Python to open the file as text and look for several different possible newline characters.)\n",
    "\n",
    "Like many other object types, this file object has special methods (functions) which you can call with dot notation. So `f.readline()` reads the next line in \"f\". `f.close()` closed the open file.\n",
    "\n",
    "Take a look at what is in the file. What's the structure? What delimits the values?\n",
    "\n"
   ]
  },
  {
   "cell_type": "markdown",
   "metadata": {
    "slideshow": {
     "slide_type": "slide"
    }
   },
   "source": [
    "Python is great for text parsing! Let's learn the `str.split()` command:\n",
    "\n",
    "```python\n",
    "sample_record.split(',')\n",
    "```\n",
    "\n",
    "This turns a string into a list, by splitting it up at every occurrence of the delimiter you specify. You could do this with spaces, tabs, or almost any arbitrary character(s):\n",
    "\n",
    "```python\n",
    "\"this has spaces between elements\".split(' ')\n",
    "\"this   one    has   tabs\".split('\\t')\n",
    "\"here|+is|+a|+pipe|+delimited|+record|+with|+extra|+plus|+signs\".split('|+')\n",
    "```\n",
    "\n",
    "Note that some characters, including whitespaces, have special representations that use \"escape characters\". Learn more about those [here](http://python-reference.readthedocs.io/en/latest/docs/str/escapes.html).\n",
    "\n",
    "> Check: Slack a string with an unusual (but standardized) delimiter to a partner. Can they parse it?\n",
    "\n"
   ]
  },
  {
   "cell_type": "markdown",
   "metadata": {
    "slideshow": {
     "slide_type": "slide"
    }
   },
   "source": [
    "<a name=\"csv\"></a>\n",
    "## Demo / Codealong: csv module (10 mins)\n",
    "\n",
    "Python has many modules to make common tasks easier: one example is its csv module. The csv module’s reader and writer objects read and write sequences, and can save you the trouble of manually parsing. We'll use \"sales.txt\" again to practice.\n",
    "\n",
    "In Jupyter notebook type:\n",
    "\n",
    "```python\n",
    "import csv\n",
    "print 'Opening File. Data: '\n",
    "print ''\n",
    "with open('sales.txt', 'rU') as f: # Provide the correct path!\n",
    "    reader = csv.reader(f)\n",
    "    for row in reader:\n",
    "        print row\n",
    "print ''\n",
    "```\n",
    "\n",
    "The output will be the contents of sales.txt file. We did a couple things differently here. We opened the file using a new syntax, `with ... as ...:`. A benefit of this is that you don't need to explicitly close the file when you're done.  Now, let's write to a csv file.\n",
    "\n"
   ]
  },
  {
   "cell_type": "markdown",
   "metadata": {
    "slideshow": {
     "slide_type": "slide"
    }
   },
   "source": [
    "```python\n",
    "print 'Adding the following record: '\n",
    "data = ['123456', 'cosmos', 'neil', 'lucy', 'universe', '1', '1,000,000', 'presented']\n",
    "print ''\n",
    "print data\n",
    "with open('sales.txt', 'a') as fp: # Again, check this path\n",
    "    a = csv.writer(fp, delimiter=',')\n",
    "    a.writerows([data])\n",
    "\n",
    "```\n",
    "\n"
   ]
  },
  {
   "cell_type": "markdown",
   "metadata": {
    "slideshow": {
     "slide_type": "slide"
    }
   },
   "source": [
    "Now, let's see the file again, with the data you just added:\n",
    "\n",
    "```python\n",
    "print 'The new data that was just added, can be seen on the last line: '\n",
    "with open('sales.txt', 'rU') as f:\n",
    "    reader = csv.reader(f)\n",
    "    for row in reader:\n",
    "        print row\n",
    "```\n",
    "\n",
    "\n"
   ]
  },
  {
   "cell_type": "markdown",
   "metadata": {
    "slideshow": {
     "slide_type": "slide"
    }
   },
   "source": [
    "<a name=\"ind-practice\"></a>\n",
    "## Independent Practice: notebooks and parsing csv files (30 minutes)\n",
    "- Practice creating an Jupyter/iPython Notebook that uses both code and Markdown cells.\n",
    "Upload it to GitHub and check that it renders correctly in your browser.\n",
    "- Practice reading and writing csv files. Try reading this one to start: http://samplecsvs.s3.amazonaws.com/Sacramentorealestatetransactions.csv\n",
    "\n",
    "\n"
   ]
  },
  {
   "cell_type": "markdown",
   "metadata": {
    "slideshow": {
     "slide_type": "slide"
    }
   },
   "source": [
    "<a name=\"conclusion\"></a>\n",
    "## Conclusion (5 mins)\n",
    "\n",
    "We reviewed Jupyter, opening files, parsing text and using the CSV module to read and write files. (You probably also wrestled with writing relative paths!)\n",
    "\n",
    "These operations will be a regular part of your data science workflow."
   ]
  },
  {
   "cell_type": "markdown",
   "metadata": {
    "slideshow": {
     "slide_type": "skip"
    }
   },
   "source": [
    "### Advanced reading (optional)\n",
    "\n",
    "Python's base string methods make text parsing a (relative) joy, but sometimes nothing but [regex will do](https://pymotw.com/2/re/). [Fore!](http://regex.alf.nu/)\n",
    "\n",
    "If you're interested in the history of Jupyter/IPython, then you really have too much time on your hands. Nonetheless [this blog post](https://blog.jupyter.org/2015/04/15/the-big-split/) summarizes the project well. And the code is open source and in Python, mainly, so [browsing its repo](https://github.com/jupyter/notebook/tree/master/notebook) offers a nice look at production-style Python."
   ]
  }
 ],
 "metadata": {
  "celltoolbar": "Slideshow",
  "kernelspec": {
   "display_name": "Python 2",
   "language": "python",
   "name": "python2"
  },
  "language_info": {
   "codemirror_mode": {
    "name": "ipython",
    "version": 2
   },
   "file_extension": ".py",
   "mimetype": "text/x-python",
   "name": "python",
   "nbconvert_exporter": "python",
   "pygments_lexer": "ipython2",
   "version": "2.7.12"
  }
 },
 "nbformat": 4,
 "nbformat_minor": 0
}
