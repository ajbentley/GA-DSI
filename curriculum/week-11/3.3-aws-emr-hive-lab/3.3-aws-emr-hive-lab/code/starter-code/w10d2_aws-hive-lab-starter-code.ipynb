{
 "cells": [
  {
   "cell_type": "markdown",
   "metadata": {},
   "source": [
    "# Hive Queries Lab\n",
    "\n",
    "For this lab we will use data from the [Bay Area Bike Share Open Data Website](http://www.bayareabikeshare.com/open-data)\n",
    "\n",
    "We've downloaded a part of it which is available in your assets folder. Each trip is anonymized and includes:\n",
    "\n",
    "- Bike number\n",
    "- Trip start day and time\n",
    "- Trip end day and time\n",
    "- Trip start station\n",
    "- Trip end station\n",
    "- Rider type – Annual or Casual (24-hour or 3-day member)\n",
    "\n",
    "If an annual member trip, it will also include the member’s home zip code\n",
    "\n",
    "The data set also includes:\n",
    "\n",
    "- Weather information per day per service area\n",
    "- Bike and dock availability per minute per station\n",
    "\n"
   ]
  },
  {
   "cell_type": "markdown",
   "metadata": {},
   "source": [
    "### Exercise 1: Spin up EMR cluster\n",
    "\n",
    "Log into your AWS - EMR account and start a cluster with the following properties:\n",
    "- Amazon EMR 4.7.0 Core Hadoop\n",
    "- 3 instances (you can use m1.medium)"
   ]
  },
  {
   "cell_type": "markdown",
   "metadata": {},
   "source": [
    "### Exercise 2: Log into HUE\n",
    "\n",
    "Connect to HUE on master node as you have learned to do (using SSH tunnelling and FoxyProxy)\n",
    "\n",
    "(Check lesson 2.2 if you don't remember how to do that)"
   ]
  },
  {
   "cell_type": "markdown",
   "metadata": {},
   "source": [
    "### Exercise 3: Import Data and create tables\n",
    "\n",
    "Use the file browser to import the [zip file](../../assets/datasets/201408_babs_open_data.zip) provided in the assets folder into the cluster's HDFS.\n",
    "\n",
    "![](filebrowser.png)\n",
    "\n",
    "Once you've imported the data you can use the `Metastore Manager` to create tables for each of the files you imported.\n",
    "\n",
    "![](metastore.png)\n",
    "\n",
    "\n",
    "**Important:**\n",
    "- Make sure to set the field type to `INT` for `Duration`"
   ]
  },
  {
   "cell_type": "markdown",
   "metadata": {},
   "source": [
    "### Exercise 4:  Top start stations\n",
    "Let's start with some exploratory analysis. For example the trips table contains information on the trips. Let's find the top 10 most popular start stations based on the trip data.\n",
    "\n",
    "- Formulate a HIVE query to retrieve the top 10 start stations and sort them by count in descending order."
   ]
  },
  {
   "cell_type": "code",
   "execution_count": null,
   "metadata": {
    "collapsed": true
   },
   "outputs": [],
   "source": []
  },
  {
   "cell_type": "markdown",
   "metadata": {},
   "source": [
    "\n",
    "||startterminal|startstation|count|\n",
    "|---|\n",
    "|0|70|San Francisco Caltrain (Townsend at 4th)|12950|\n",
    "|1|50|Harry Bridges Plaza (Ferry Building)|8336|\n",
    "|2|60|Embarcadero at Sansome|7010|\n",
    "|3|69|San Francisco Caltrain 2 (330 Townsend)|7008|\n",
    "|4|61|2nd at Townsend|6824|\n",
    "|5|77|Market at Sansome|6819|\n",
    "|6|55|Temporary Transbay Terminal (Howard at Beale)|6540|\n",
    "|7|74|Steuart at Market|6238|\n",
    "|8|65|Townsend at 7th|5479|\n",
    "|9|76|Market at 4th|5241|"
   ]
  },
  {
   "cell_type": "markdown",
   "metadata": {},
   "source": [
    "### Exercise 5: Chart of top start stations\n",
    "\n",
    "Use the Chart tab in Hue to generate a chart of the results, sorting them with the most popular on the left.\n",
    "\n",
    "![](popular_stations.png)"
   ]
  },
  {
   "cell_type": "markdown",
   "metadata": {},
   "source": [
    "Question:\n",
    "- what was the most popular start station? (the station with the highest count)"
   ]
  },
  {
   "cell_type": "markdown",
   "metadata": {},
   "source": [
    "### Exercise 6: Top destinations + Map \n",
    "Let’s determine which end stations, for trips starting from the most popular station, were the most popular.\n",
    "\n",
    "- Fetch the latitude and longitude coordinates for trips starting in the most common starting point. In order to do this you will need to join data from both the trip and station files.\n",
    "- Return a table that contains the top 10 most common destinations with the following fields:\n",
    "    - station_id\n",
    "    - name\n",
    "    - lat\n",
    "    - long\n",
    "    - count (# of trips between the most popular start and that station)\n",
    "- Display the results using the map chart. Note that you can decide what label to assign to the points."
   ]
  },
  {
   "cell_type": "markdown",
   "metadata": {},
   "source": []
  },
  {
   "cell_type": "markdown",
   "metadata": {},
   "source": [
    "||s.station_id|s.name|s.lat|s.long|count|\n",
    "|---|\n",
    "|0|55|Temporary Transbay Terminal (Howard at Beale)|37.789756774902344|-122.39464569091797|929|\n",
    "|1|77|Market at Sansome|37.789623260498047|-122.40081024169922|915|\n",
    "|2|74|Steuart at Market|37.794139862060547|-122.39443206787109|826|\n",
    "|3|51|Embarcadero at Folsom|37.791465759277344|-122.39103698730469|806|\n",
    "|4|50|Harry Bridges Plaza (Ferry Building)|37.795391082763672|-122.39420318603516|749|\n",
    "|5|68|Yerba Buena Center of the Arts (3rd @ Howard)|37.784877777099609|-122.40101623535156|670|\n",
    "|6|65|Townsend at 7th|37.77105712890625|-122.40271759033203|554|\n",
    "|7|63|Howard at 2nd|37.786979675292969|-122.39810943603516|552|\n",
    "|8|42|Davis at Jackson|37.797279357910156|-122.3984375|468|\n",
    "|9|61|2nd at Townsend|37.780525207519531|-122.39028930664062|461|\n",
    "\n",
    "\n",
    "![](map.png)"
   ]
  },
  {
   "cell_type": "markdown",
   "metadata": {},
   "source": [
    "### Bonus: Hourly data\n",
    "\n",
    "Dig further into the trip data for the most popular station to find the total number of trips and average duration (in minutes) of those trips, grouped by hour.\n",
    "\n",
    "You will need to do a nested query on the trip table:\n",
    "- the innerquery should parse the startdate and return just the hour as int for the trips originating in the most common start station\n",
    "- the outer query should count such trips and calculate the average duration grouped and sorted by hour \n",
    "\n",
    "\n",
    "Hints:\n",
    "- Since the trip data stores startdate as a STRING, you’ll need to apply some string-manipulation to extract the hour within an inline SQL query.\n",
    "- Be careful with trips that have no duration information\n",
    "\n",
    "- Return a table with the following fields:\n",
    "    - hour\n",
    "    - number of trips\n",
    "    - average duration\n",
    "    \n",
    "- Display the results with two charts displaying the number of trips and the average duration as a function of the hour\n"
   ]
  },
  {
   "cell_type": "markdown",
   "metadata": {},
   "source": []
  },
  {
   "cell_type": "markdown",
   "metadata": {},
   "source": [
    "||hour|trip|avg_duration|\n",
    "|---|\n",
    "|0|0|26|8|\n",
    "|1|1|14|49|\n",
    "|2|2|7|93|\n",
    "|3|3|1|21|\n",
    "|4|4|1|4|\n",
    "|5|5|41|52|\n",
    "|6|6|545|11|\n",
    "|7|7|2126|12|\n",
    "|8|8|3273|12|\n",
    "|9|9|1702|14|\n",
    "|10|10|481|12|\n",
    "|11|11|306|22|\n",
    "|12|12|235|20|\n",
    "|13|13|205|30|\n",
    "|14|14|181|19|\n",
    "|15|15|211|21|\n",
    "|16|16|347|18|\n",
    "|17|17|1008|12|\n",
    "|18|18|1029|11|\n",
    "|19|19|684|10|\n",
    "|20|20|229|9|\n",
    "|21|21|130|28|\n",
    "|22|22|113|9|\n",
    "|23|23|55|10|\n",
    "\n",
    "![](trips_by_hour.png)\n",
    "![](average_duration.png)"
   ]
  }
 ],
 "metadata": {
  "kernelspec": {
   "display_name": "Python 2",
   "language": "python",
   "name": "python2"
  },
  "language_info": {
   "codemirror_mode": {
    "name": "ipython",
    "version": 2
   },
   "file_extension": ".py",
   "mimetype": "text/x-python",
   "name": "python",
   "nbconvert_exporter": "python",
   "pygments_lexer": "ipython2",
   "version": "2.7.12"
  }
 },
 "nbformat": 4,
 "nbformat_minor": 0
}
