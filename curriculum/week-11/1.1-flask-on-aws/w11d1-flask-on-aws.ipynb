{
 "cells": [
  {
   "cell_type": "markdown",
   "metadata": {
    "slideshow": {
     "slide_type": "slide"
    }
   },
   "source": [
    "<img src=\"https://ga-dash.s3.amazonaws.com/production/assets/logo-9f88ae6c9c3871690e33280fcf557f33.png\" style=\"float: left; margin: 15px;\">\n",
    "# Flask on AWS\n",
    "Week 11 | Day 1 "
   ]
  },
  {
   "cell_type": "markdown",
   "metadata": {
    "slideshow": {
     "slide_type": "slide"
    }
   },
   "source": [
    "### LEARNING OBJECTIVES\n",
    "*After this lesson, you will be able to:*\n",
    "- Launch an EC2 box with an Apache webserver and Flask app\n",
    "- Create a front-end page with a form that accepts user input\n",
    "- Send POST requests from the front-end to the back-end flask app\n",
    "- Return processed data to a front-end"
   ]
  },
  {
   "cell_type": "markdown",
   "metadata": {
    "slideshow": {
     "slide_type": "slide"
    }
   },
   "source": [
    "### Opening\n",
    "\n",
    "In class so far, we've run a basic Flask app locally and used AWS to launch an EC2 instance. Today, we'll bring the two together to learn how to build an end-to-end solution for taking data input via a web page, processing it, and then finally returning the output via a webpage. We'll do all this on an EC2 instance that is public facing.\n",
    "\n",
    "Hopefully, you'll use this as inspiration for showcasing your capstone!"
   ]
  },
  {
   "cell_type": "markdown",
   "metadata": {
    "slideshow": {
     "slide_type": "slide"
    }
   },
   "source": [
    "### Demo/Guided Practice: Launching an EC2 Box\n",
    "\n",
    "We have launched and EC2 instance before, so we'll just quickly go through this. The one difference is that we'll be using an existing AMI with Anaconda and a number of other tools rather than starting from scratch."
   ]
  },
  {
   "cell_type": "markdown",
   "metadata": {
    "slideshow": {
     "slide_type": "-"
    }
   },
   "source": [
    "### Step 1:\n",
    "\n",
    "Log into AWS and select EC2.\n",
    "\n",
    "<img src=\"http://i.imgur.com/xBVVEQp.png\">"
   ]
  },
  {
   "cell_type": "markdown",
   "metadata": {
    "slideshow": {
     "slide_type": "slide"
    }
   },
   "source": [
    "### Step 2:\n",
    "\n",
    "In the EC2 dashboard, click `Launch Instance`.\n",
    "\n",
    "<img src=\"http://i.imgur.com/xVd41n6.png\">"
   ]
  },
  {
   "cell_type": "markdown",
   "metadata": {
    "slideshow": {
     "slide_type": "slide"
    }
   },
   "source": [
    "### Step 3:\n",
    "\n",
    "On the left, when configuring the box, select 'Community AMI'. Then search for 'kaggle' and select the box called 'kaggle-machine'. Select that and continue on with the defaults.\n",
    "\n",
    "<img src=\"http://i.imgur.com/HwuMQMa.png\">"
   ]
  },
  {
   "cell_type": "markdown",
   "metadata": {
    "slideshow": {
     "slide_type": "slide"
    }
   },
   "source": [
    "### Step 4:\n",
    "\n",
    "Choose the pre-selected t2-micro box. Then click - at the top `Step 6: Configure Security Group`\n",
    "    \n",
    "<img src=\"http://i.imgur.com/wUmhXLe.png\">"
   ]
  },
  {
   "cell_type": "markdown",
   "metadata": {
    "slideshow": {
     "slide_type": "slide"
    }
   },
   "source": [
    "### Step 5:\n",
    "\n",
    "Make sure that in security groups for the box that port 80 (web) and 22 (ssh) are open and reachable from anywhere. Then at the bottom, click `Review and Launch`.\n",
    "\n",
    "<img src=\"http://i.imgur.com/fmKfFth.png\">"
   ]
  },
  {
   "cell_type": "markdown",
   "metadata": {
    "slideshow": {
     "slide_type": "slide"
    }
   },
   "source": [
    "### Step 6:\n",
    "\n",
    "Return to the EC2 instances screen. You will see the box `pending` as it starts up. Once that is complete, tick the box next to the instance and click `Connect`.\n",
    "\n",
    "<img src=\"http://i.imgur.com/v5rrkaD.png\">"
   ]
  },
  {
   "cell_type": "markdown",
   "metadata": {
    "slideshow": {
     "slide_type": "slide"
    }
   },
   "source": [
    "You should see something similar to the following. It will contain your ip (address to reach in the browser) and the ssh string need to connect with your pem file. Make sure you have the full path to the file or are in the directory where that pem file is when connecting (usually ~/Downloads/<myfile.pem>). You will also need to change the login from \"root@\" to \"ubuntu@\".\n",
    "\n",
    "<img src=\"http://i.imgur.com/4J6ZyDJ.png\">"
   ]
  },
  {
   "cell_type": "markdown",
   "metadata": {
    "slideshow": {
     "slide_type": "slide"
    }
   },
   "source": [
    "Once you're on the box, you can run `ls` and see the following:\n",
    "\n",
    "<img src=\"http://i.imgur.com/nYzw2mk.png\">"
   ]
  },
  {
   "cell_type": "markdown",
   "metadata": {
    "slideshow": {
     "slide_type": "slide"
    }
   },
   "source": [
    "### Step 7:\n",
    "\n",
    "Installing Apache webserver. Back at the terminal, run the following commnads:\n",
    "\n",
    "```\n",
    "sudo apt-get update\n",
    "sudo apt-get install apache2\n",
    "sudo apt-get install libapache2-mod-wsgi\n",
    "```\n",
    "\n",
    "That will install a number of updates and libraries. Once that is complete, we're ready to test our first web page.\n",
    "\n",
    "Go to the EC2's public web address and put that in your browser. The address is on the page where you go to find the ssh info ('Connect').\n",
    "\n",
    "You should see the following: "
   ]
  },
  {
   "cell_type": "markdown",
   "metadata": {
    "slideshow": {
     "slide_type": "slide"
    }
   },
   "source": [
    "<img src=\"http://i.imgur.com/jFeN2Nk.png\">"
   ]
  },
  {
   "cell_type": "markdown",
   "metadata": {
    "slideshow": {
     "slide_type": "slide"
    }
   },
   "source": [
    "## Setting up our 'Hello World!' page\n",
    "\n",
    "At the command line, type the follow in to create a webpage:\n",
    "\n",
    "```\n",
    "cd /var/www/html\n",
    "sudo mkdir myapp\n",
    "cd myapp\n",
    "sudo touch index.html\n",
    "sudo chmod 755 index.html\n",
    "sudo vim index.html\n",
    "```"
   ]
  },
  {
   "cell_type": "markdown",
   "metadata": {
    "slideshow": {
     "slide_type": "slide"
    }
   },
   "source": [
    "What did we do there? We moved into the Apache directory that holds the files that are served as webpages. We then made a new directory there called myapp. We then changed into that directory and created a page called index.html. Finally, we set the permissions on the file and opened it in our text editor.\n",
    "\n",
    "Now that you are in vim, you should hit 'i' for insert, and then type in something like the following: \"Hello from DSI NYC!\". Once you have that done, hit 'ESC' and then ':wq'. This means write the file and then quit vim.\n",
    "\n",
    "Once that is done, we can view our webpage. Go the the address you did earlier for the box in your browser, but this time add '/myapp' or '/myapp/index.html' to the end.\n",
    "\n",
    "If everything went according to plan, you will see the following:"
   ]
  },
  {
   "cell_type": "markdown",
   "metadata": {
    "slideshow": {
     "slide_type": "-"
    }
   },
   "source": [
    "<img src=\"http://i.imgur.com/NuDWUMI.png\">\n",
    "\n",
    "Congrats! You have the most boring page on the web! Let's now make it better by adding a flask app back-end."
   ]
  },
  {
   "cell_type": "markdown",
   "metadata": {
    "slideshow": {
     "slide_type": "slide"
    }
   },
   "source": [
    "## Running a Flask App\n",
    "\n",
    "Now let's do the following to get Flask running:\n",
    "\n",
    "```\n",
    "cd /var/www/html/myapp\n",
    "sudo touch myapp.py\n",
    "sudo chmod 755 myapp.py\n",
    "sudo vim myapp.py\n",
    "```"
   ]
  },
  {
   "cell_type": "markdown",
   "metadata": {
    "slideshow": {
     "slide_type": "slide"
    }
   },
   "source": [
    "Once you are in vim, paste the following code in myapp.py\n",
    "\n",
    "```python\n",
    "from flask import Flask\n",
    "app = Flask(__name__)\n",
    "\n",
    "@app.route('/')\n",
    "def hello_world():\n",
    "  return 'Hello from Flask!'\n",
    "\n",
    "if __name__ == '__main__':\n",
    "  app.run()\n",
    "```\n",
    "\n",
    "Use the usual routine in vim to save and exit (ESC then ':wq')"
   ]
  },
  {
   "cell_type": "markdown",
   "metadata": {
    "slideshow": {
     "slide_type": "slide"
    }
   },
   "source": [
    "Next, we need to create a wsgi file which will tell Apache to serve from our Flask app.\n",
    "\n",
    "```\n",
    "sudo touch myapp.wsgi\n",
    "sudo chmod 755 myapp.wsgi\n",
    "sudo vim myapp.wsgi\n",
    "```\n"
   ]
  },
  {
   "cell_type": "markdown",
   "metadata": {
    "slideshow": {
     "slide_type": "-"
    }
   },
   "source": [
    "Paste the following into the file:\n",
    "    \n",
    "```python\n",
    "import sys\n",
    "sys.path.insert(0, '/var/www/html/myapp')\n",
    "sys.path.insert(0, '/home/ubuntu/anaconda2/bin/python')\n",
    "sys.path.insert(0, '/home/ubuntu/anaconda2/lib/python2.7/site-packages')\n",
    "\n",
    "from myapp import app as application\n",
    "```\n",
    "\n",
    "Once that is done, save and exit.\n",
    "\n",
    "This code makes sure that the version of python our code is using is the anaconda one."
   ]
  },
  {
   "cell_type": "markdown",
   "metadata": {
    "slideshow": {
     "slide_type": "slide"
    }
   },
   "source": [
    "We have to enable mod_wsgi now to complete the connection between Flask and Apache. This ensures that pages are from Flask and not the default static web pages (like the one you created earlier). We can do this as follows:\n",
    "\n",
    "```bash\n",
    "sudo vim /etc/apache2/sites-enabled/000-default.conf\n",
    "```\n",
    "\n",
    "Once that is open, insert the following code. It should go after the 'DocumentRoot /var/www/html' line.\n",
    "\n",
    "```bash\n",
    "        WSGIDaemonProcess myapp threads=5\n",
    "        WSGIScriptAlias /myapp /var/www/html/myapp/myapp.wsgi\n",
    "\n",
    "    <Directory myapp>\n",
    "        WSGIProcessGroup myapp\n",
    "        WSGIApplicationGroup %{GLOBAL}\n",
    "        Order deny,allow\n",
    "        Allow from all\n",
    "    </Directory>\n",
    "```\n",
    "\n",
    "Save and exit. Then type the following to restart apache:\n",
    "\n",
    "```bash\n",
    "sudo service apache2 restart\n",
    "```"
   ]
  },
  {
   "cell_type": "markdown",
   "metadata": {
    "slideshow": {
     "slide_type": "slide"
    }
   },
   "source": [
    "Now when you go to your webpage '/myapp' in your browser you should see:\n",
    "<img src=\"http://i.imgur.com/XOcMAVX.png\">"
   ]
  },
  {
   "cell_type": "markdown",
   "metadata": {
    "slideshow": {
     "slide_type": "slide"
    }
   },
   "source": [
    "## Setting up a webform\n",
    "\n",
    "Now that we have the basic Flask app deployed, let's now set up a page with a form that can accept user input.\n",
    "\n",
    "We'll first create the page. This should be in your /myapp directory.\n",
    "\n",
    "```bash\n",
    "sudo touch input_page.html\n",
    "sudo chmod 755 input_page.html\n",
    "sudo vim input_page.html\n",
    "```\n",
    "\n",
    "Now, let's add a form\n",
    "```HTML\n",
    "<!DOCTYPE html>\n",
    "<html>\n",
    "<form action=\"make_it_happen\" method=\"post\">\n",
    "  First name: <input type=\"text\" name=\"myname\"><br><br>\n",
    "  Excitement Level: <input type=\"text\" name=\"mylevel\"><br>\n",
    "  <input type=\"submit\" value=\"Submit\">\n",
    "</form>\n",
    "</html>\n",
    "```\n",
    "Now save that and exit vim."
   ]
  },
  {
   "cell_type": "markdown",
   "metadata": {
    "slideshow": {
     "slide_type": "slide"
    }
   },
   "source": [
    "That created our input page. We now need to modify Flask to accept the input from this page. We'll open the myapp.py file using:\n",
    "\n",
    "```python\n",
    "import jinja2\n",
    "from flask import Flask, render_template, request\n",
    "app = Flask(__name__)\n",
    "app._static_folder = '/var/www/html/myapp/'\n",
    "\n",
    "@app.route('/')\n",
    "def send_form():\n",
    "  return app.send_static_file('input_page.html')\n",
    "\n",
    "\n",
    "@app.route('/make_it_happen', methods=['POST'])\n",
    "def say_hi():\n",
    "  name=request.form['myname']\n",
    "  excitement_level=request.form['mylevel']\n",
    "  return render_template('stuff_you_know.html', name=name, lvl=excitement_level)\n",
    "\n",
    "if __name__ == '__main__':\n",
    "  app.run()\n",
    "```\n",
    "\n",
    "Again, save and exit. Once that is done, you'll need to restart apache again."
   ]
  },
  {
   "cell_type": "markdown",
   "metadata": {
    "slideshow": {
     "slide_type": "slide"
    }
   },
   "source": [
    "If everything went well, you should see this in your browser:\n",
    "\n",
    "<img src=\"http://i.imgur.com/A7gN3Ng.png\"> \n",
    "\n",
    "If you got an error, most likely it is because you pasted it in before pressing `i` to insert and your `import` is `mport`"
   ]
  },
  {
   "cell_type": "markdown",
   "metadata": {
    "slideshow": {
     "slide_type": "slide"
    }
   },
   "source": [
    "We'll walk through what each piece of this does. The first piece of code under the imports set our app as Flask and point it to where we will be serving our static HTML pages. This is the directory of our '/myapp'.\n",
    "\n",
    "Next we have a function that runs when the default route for our app is called ('/'). We are returning the page we just created.\n",
    "\n",
    "The next function is called when the form is submitted and takes the payload of that form: the entered name and the level of excitement level. It then sends it to what is called a string template. A string template allows us to pass in values from our code that can then be manipulated outside of our code in the HTML. This allows for a separation of concerns. The view can be dynamically generated based on the values passed to it, rather than having to code all the conditionals in Python on the back-end.\n",
    "\n",
    "We capture the values passed to us in the form. Notice that the names in the HTML are captured and stored into Python variables.\n",
    "\n",
    "Next, we discuss how to return an output with those values."
   ]
  },
  {
   "cell_type": "markdown",
   "metadata": {
    "slideshow": {
     "slide_type": "slide"
    }
   },
   "source": [
    "## Returning values\n",
    "\n",
    "The return of that last function is returning a page that utilizes a Jinja2 string template. We are passing our Python variables, 'name' and 'excitement_level' to our string template under the Jinga2 variable names 'name' and 'lvl'. We could have used any variable names for these. We can also use as many as we want. Note, that they don't have to just be an integer. The can be a string or a list of values or basically any other type.\n",
    "\n",
    "The next step is to create the folder that will hold our output pages.\n",
    "\n",
    "In the /myapp directory:\n",
    "\n",
    "```python\n",
    "mkdir templates\n",
    "sudo chmod 755 templates\n",
    "cd templates\n",
    "sudo touch stuff_you_know.html\n",
    "sudo chmod 755 stuff_you_know.html\n",
    "sudo vim stuff_you_know.html\n",
    "```\n",
    "\n",
    "That will create the templates folder and files. "
   ]
  },
  {
   "cell_type": "markdown",
   "metadata": {
    "slideshow": {
     "slide_type": "slide"
    }
   },
   "source": [
    "You should now be int the stuff_you_know.html file. Paste in the following:\n",
    "```HTML\n",
    "<!DOCTYPE html>\n",
    "<html>\n",
    "<head>\n",
    "</head>\n",
    "<body>\n",
    " <center>\n",
    " {{ name }} your excitement level is {{ lvl }}\n",
    " {% if  lvl|int <= 5  %}\n",
    "  is a failure. Shame.<br><br>\n",
    "  <img src=\"https://media.giphy.com/media/c2YyNySJ1CbFC/giphy.gif\">\n",
    " {% elif lvl|int > 5 and lvl|int < 10 %}\n",
    "  is meh. Try harder.<br><br>\n",
    "  <img src=\"https://media0.giphy.com/media/11lLn6lwsdicLK/200.gif\">\n",
    " {% else %}\n",
    "  is fantastic. You are a star.<br><br>\n",
    "  <img src=\"https://media4.giphy.com/media/arm7b1hJrw1BS/200.gif\">\n",
    " {% endif %}\n",
    "  </center>\n",
    "</body>\n",
    "</html>\n",
    "```"
   ]
  },
  {
   "cell_type": "markdown",
   "metadata": {
    "slideshow": {
     "slide_type": "slide"
    }
   },
   "source": [
    "N.B.: We are hotlinking in this example, but that should be discourage in any live app. Use images served from the box you are on.\n",
    "\n",
    "Lots of code there. What's going on?\n",
    "\n",
    "Our variables that we passed in using Flask were 'name' and 'lvl' if you remember. Notice that we are using those here. The are in the curly braces {{ name }} and {{ lvl }}. Just putting the curly braced values prints out to our page the values we passed in.\n",
    "\n",
    "Here we also employed some conditional logic. This is how string templating works. We can do a number of operations using Jinja2; we can do everything from formatting values to showing or hiding data based on its values. It is very flexible and prevents us from having to change our back-end code for every scenario."
   ]
  },
  {
   "cell_type": "markdown",
   "metadata": {
    "slideshow": {
     "slide_type": "slide"
    }
   },
   "source": [
    "## Tying it all together\n",
    "\n",
    "Now that we have all the pieces, go ahead and go to the page for our app in your browser.\n",
    "\n",
    "/myapp\n",
    "\n",
    "Fill in the form. Try different values like 2, 7, 10.\n",
    "\n",
    "Notice how the output changes with those values.\n",
    "\n",
    "What are some ways you could use this in your work?"
   ]
  },
  {
   "cell_type": "markdown",
   "metadata": {
    "slideshow": {
     "slide_type": "slide"
    }
   },
   "source": [
    "## Independent Practice\n",
    "\n",
    "Modify the code so that it accepts another input.\n",
    "You'll need to do all of the following to make it work:\n",
    "- Change the input form page to add another field\n",
    "- Change the myapp.py Flask code to accept the new field\n",
    "- Change the Jinja template file to react to this new variable\n",
    "<br><br>\n",
    "**Bonus**\n",
    "- Try setting it up so that your webpage uses ajax. Ajax is a method that returns data to the same page, so that loading a new page isn't necessary. You'll need to learn about jQuery to use this. The page in additional resources should help."
   ]
  },
  {
   "cell_type": "markdown",
   "metadata": {
    "slideshow": {
     "slide_type": "slide"
    }
   },
   "source": [
    "## Conclusion\n",
    "\n",
    "In this lesson we have learned how to launch and AWS EC2 box from an existing AMI. We learned how to install an Apache webserver and to use mod_wsgi to run our flask application as a daemon. We also learned how to build a front-end that can take in values that are POST'ed to the back-end flask application. We saw how those values can be processed or not and then passed into a string template engine.\n",
    "\n",
    "Some additional things we could have done:\n",
    "\n",
    "- Change the mimetype on our form to pass in a csv\n",
    "- Manipulate the variables in Python/Flask before returning them\n",
    "- Use a charting library to visualize what we pass to the templates"
   ]
  },
  {
   "cell_type": "markdown",
   "metadata": {
    "slideshow": {
     "slide_type": "slide"
    }
   },
   "source": [
    "## Additional Resources\n",
    "- [Apache Web Server Tutorial](https://www.digitalocean.com/community/tutorials/how-to-configure-the-apache-web-server-on-an-ubuntu-or-debian-vps)\n",
    "- [Flask Docs](http://flask.pocoo.org/docs/0.11/)\n",
    "- [Jinja2 Docs](http://jinja.pocoo.org/docs/dev/)\n",
    "- [AJAX/jQuery](http://flask.pocoo.org/docs/0.11/patterns/jquery/)"
   ]
  },
  {
   "cell_type": "code",
   "execution_count": null,
   "metadata": {
    "collapsed": true
   },
   "outputs": [],
   "source": []
  }
 ],
 "metadata": {
  "anaconda-cloud": {},
  "celltoolbar": "Slideshow",
  "kernelspec": {
   "display_name": "Python [default]",
   "language": "python",
   "name": "python2"
  },
  "language_info": {
   "codemirror_mode": {
    "name": "ipython",
    "version": 2
   },
   "file_extension": ".py",
   "mimetype": "text/x-python",
   "name": "python",
   "nbconvert_exporter": "python",
   "pygments_lexer": "ipython2",
   "version": "2.7.12"
  }
 },
 "nbformat": 4,
 "nbformat_minor": 0
}
