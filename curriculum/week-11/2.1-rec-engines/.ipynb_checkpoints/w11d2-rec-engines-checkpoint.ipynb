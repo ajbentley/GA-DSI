{
 "cells": [
  {
   "cell_type": "code",
   "execution_count": 1,
   "metadata": {
    "collapsed": true,
    "slideshow": {
     "slide_type": "skip"
    }
   },
   "outputs": [],
   "source": [
    "import pandas as pd\n",
    "import numpy as np"
   ]
  },
  {
   "cell_type": "markdown",
   "metadata": {
    "slideshow": {
     "slide_type": "slide"
    }
   },
   "source": [
    "# ![](https://ga-dash.s3.amazonaws.com/production/assets/logo-9f88ae6c9c3871690e33280fcf557f33.png) Recommendation Engines\n",
    "\n",
    "Week 11 | Day 2"
   ]
  },
  {
   "cell_type": "markdown",
   "metadata": {
    "slideshow": {
     "slide_type": "slide"
    }
   },
   "source": [
    "### LEARNING OBJECTIVES\n",
    "*After this lesson, you will be able to:*\n",
    "- Explain what a recommendation engines is\n",
    "- Explain the math behind recommendation engines\n",
    "- Explain the types of recommendation engines and their pros and cons"
   ]
  },
  {
   "cell_type": "markdown",
   "metadata": {
    "slideshow": {
     "slide_type": "slide"
    }
   },
   "source": [
    "### LESSON GUIDE\n",
    "\n",
    "- What is a recommendation engine?\n",
    "- Who uses a recommendation engine?\n",
    "- The data for recommendation engines\n",
    "- Collaborative filtering\n",
    "- Content-based filtering"
   ]
  },
  {
   "cell_type": "markdown",
   "metadata": {
    "slideshow": {
     "slide_type": "slide"
    }
   },
   "source": [
    "## What is a recommendation engine?\n",
    "\n",
    "At its most basic: A system designed to match users to things that they will like.\n",
    "\n",
    "- The \"things\" can be products, brands, media, or even other people. \n",
    "- Ideally, they should be things the user doesn't know about. \n",
    "- **The goal is to rank all the possible things that are available to the user and to only present the top items**"
   ]
  },
  {
   "cell_type": "markdown",
   "metadata": {
    "slideshow": {
     "slide_type": "slide"
    }
   },
   "source": [
    "## Why bother?\n",
    "\n",
    "- 1/4 to a 1/3 of consumer choices at Amazon are driven by personalized recommendations\n",
    "- Netflix says there recommendation engine reduce churn saving the company in excess of $1 billion a year"
   ]
  },
  {
   "cell_type": "markdown",
   "metadata": {
    "slideshow": {
     "slide_type": "slide"
    }
   },
   "source": [
    "## Who uses recommendation systems?"
   ]
  },
  {
   "cell_type": "markdown",
   "metadata": {
    "slideshow": {
     "slide_type": "slide"
    }
   },
   "source": [
    "<img src=\"http://i.imgur.com/zOJt5mR.png\">"
   ]
  },
  {
   "cell_type": "markdown",
   "metadata": {
    "slideshow": {
     "slide_type": "slide"
    }
   },
   "source": [
    "![](http://res.cloudinary.com/goodsearch/image/upload/v1410895418/hi_resolution_merchant_logos/target_coupons.gif)"
   ]
  },
  {
   "cell_type": "markdown",
   "metadata": {
    "slideshow": {
     "slide_type": "slide"
    }
   },
   "source": [
    "![](https://cdn1.vox-cdn.com/thumbor/lazP2aCcxVUI5RnbcxWpmjr7MU0=/cdn0.vox-cdn.com/uploads/chorus_asset/file/4109214/Discover_Weekly_Snapshot.0.png)"
   ]
  },
  {
   "cell_type": "markdown",
   "metadata": {
    "slideshow": {
     "slide_type": "slide"
    }
   },
   "source": [
    "![](https://pmcvariety.files.wordpress.com/2015/09/pandora-logo.jpg?w=670&h=377&crop=1)"
   ]
  },
  {
   "cell_type": "markdown",
   "metadata": {
    "slideshow": {
     "slide_type": "slide"
    }
   },
   "source": [
    "![](http://techlogitic.com/wp-content/uploads/2015/11/rs_560x415-140917143530-1024.Tinder-Logo.ms_.091714_copy.jpg)"
   ]
  },
  {
   "cell_type": "markdown",
   "metadata": {
    "slideshow": {
     "slide_type": "slide"
    }
   },
   "source": [
    "![](https://pbs.twimg.com/profile_images/744949842720391168/wuzyVTTX.jpg)"
   ]
  },
  {
   "cell_type": "markdown",
   "metadata": {
    "slideshow": {
     "slide_type": "slide"
    }
   },
   "source": [
    "<img src=\"https://www.facebook.com/images/fb_icon_325x325.png\">"
   ]
  },
  {
   "cell_type": "markdown",
   "metadata": {
    "slideshow": {
     "slide_type": "slide"
    }
   },
   "source": [
    "## The data for recommendations\n",
    "\n",
    "\n",
    "To make a prediction on what someone will like, it goes without saying, we need to have data. "
   ]
  },
  {
   "cell_type": "markdown",
   "metadata": {
    "slideshow": {
     "slide_type": "slide"
    }
   },
   "source": [
    "## The two types of data\n",
    "\n",
    "\n",
    "<img src=\"http://i.imgur.com/bf5YGWd.png\">"
   ]
  },
  {
   "cell_type": "markdown",
   "metadata": {
    "slideshow": {
     "slide_type": "slide"
    }
   },
   "source": [
    "## Explicit data vs Implicit data\n",
    "\n",
    "Explicit\n",
    "- Explicity given/pro-actively acquired\n",
    "- Clear signals\n",
    "- Cost associated with acquisition (time/cognitive)\n",
    "- Limited and sparse data because of this\n",
    "\n",
    "\n",
    "Implicit\n",
    "- Provided/collected passively (digital exhaust)\n",
    "- Signals can be difficult to interpret\n",
    "- Enormous quantities"
   ]
  },
  {
   "cell_type": "markdown",
   "metadata": {
    "slideshow": {
     "slide_type": "slide"
    }
   },
   "source": [
    "## Quiz: Implicit or Explicit?"
   ]
  },
  {
   "cell_type": "markdown",
   "metadata": {
    "slideshow": {
     "slide_type": "slide"
    }
   },
   "source": [
    "<img src=\"http://i.imgur.com/y1XMIeO.png\">"
   ]
  },
  {
   "cell_type": "markdown",
   "metadata": {
    "slideshow": {
     "slide_type": "slide"
    }
   },
   "source": [
    "<img src=\"http://i.imgur.com/mrIpGsL.png\">"
   ]
  },
  {
   "cell_type": "markdown",
   "metadata": {
    "slideshow": {
     "slide_type": "slide"
    }
   },
   "source": [
    "<img src=\"http://i.imgur.com/ICf7mWp.png\">"
   ]
  },
  {
   "cell_type": "markdown",
   "metadata": {
    "slideshow": {
     "slide_type": "slide"
    }
   },
   "source": [
    "<img src=\"http://i.imgur.com/RDfXXRI.png\">"
   ]
  },
  {
   "cell_type": "markdown",
   "metadata": {
    "slideshow": {
     "slide_type": "slide"
    }
   },
   "source": [
    "<img src=\"http://i.imgur.com/maP4PBv.png\">"
   ]
  },
  {
   "cell_type": "markdown",
   "metadata": {
    "slideshow": {
     "slide_type": "slide"
    }
   },
   "source": [
    "### If you have the data, you can build it....\n",
    "\n",
    "But how?"
   ]
  },
  {
   "cell_type": "markdown",
   "metadata": {
    "slideshow": {
     "slide_type": "slide"
    }
   },
   "source": [
    "### We have essentially two options:\n",
    "- Based upon similar people\n",
    "- Based upon similar characteristics of the item"
   ]
  },
  {
   "cell_type": "markdown",
   "metadata": {
    "slideshow": {
     "slide_type": "fragment"
    }
   },
   "source": [
    "- The first is called **Collaborative Filtering**\n",
    "- The second is called **Content-based Filtering**"
   ]
  },
  {
   "cell_type": "markdown",
   "metadata": {
    "slideshow": {
     "slide_type": "slide"
    }
   },
   "source": [
    "## Collaborative Filtering"
   ]
  },
  {
   "cell_type": "markdown",
   "metadata": {
    "slideshow": {
     "slide_type": "-"
    }
   },
   "source": [
    "We'll first look at user-to-user filtering. The idea behind this method is finding your taste **doppelgänger**. This is the person who is most similar to you based upon the ratings both of you have given to a mix of products."
   ]
  },
  {
   "cell_type": "markdown",
   "metadata": {
    "slideshow": {
     "slide_type": "slide"
    }
   },
   "source": [
    "<img src=\"http://i.imgur.com/fOn04Tj.png\">"
   ]
  },
  {
   "cell_type": "markdown",
   "metadata": {
    "slideshow": {
     "slide_type": "slide"
    }
   },
   "source": [
    "<img src=\"http://i.imgur.com/R0dwkgp.png\">"
   ]
  },
  {
   "cell_type": "markdown",
   "metadata": {
    "slideshow": {
     "slide_type": "slide"
    }
   },
   "source": [
    "<img src=\"http://i.imgur.com/B1ASjVi.png\">"
   ]
  },
  {
   "cell_type": "markdown",
   "metadata": {
    "slideshow": {
     "slide_type": "slide"
    }
   },
   "source": [
    "## So, let's see how we construct it\n",
    "\n",
    "We begin with what's called a utility matrix. This is a user by product matrix.\n",
    "<img src=\"http://i.imgur.com/Ce838dV.png\">"
   ]
  },
  {
   "cell_type": "markdown",
   "metadata": {
    "slideshow": {
     "slide_type": "slide"
    }
   },
   "source": [
    "## Check: If we want to find the most similar users, what do we need?"
   ]
  },
  {
   "cell_type": "markdown",
   "metadata": {
    "slideshow": {
     "slide_type": "fragment"
    }
   },
   "source": [
    "If we want to find the users most similar to user A, we need a similarity metric.\n",
    "\n",
    "One we can use is cosine similarity. Cosine similarity uses the cosine between two vectors to compute a scalar value that represents how closely related these vectors are. If the vectors have an angle of 0 (they are pointing in exactly the same direction), then the cosine of 0 is 1 and they are perfectly similar. If they point in completely different directions (the angle is 90 degrees), then the cosine similarity is 0 and they are unrelated. "
   ]
  },
  {
   "cell_type": "markdown",
   "metadata": {
    "slideshow": {
     "slide_type": "slide"
    }
   },
   "source": [
    "## Let's calculate it\n",
    "\n",
    "With that, let's calculate the cosine similarity of A against all other users. We'll start with B. We have a sparse matrix so let's just fill in 0 for the missing values.\n",
    "\n",
    "### A vs B\n",
    "```python\n",
    "from sklearn.metrics.pairwise import cosine_similarity\n",
    "cosine_similarity(np.array([4,0,5,3,5,0,0]).reshape(1,-1),\\\n",
    "np.array([0,4,0,4,0,5,0]).reshape(1,-1))\n",
    "```\n",
    " This give us cosine similarity of **.1835**\n",
    "\n",
    "This is a low rating and makes sense since they have no ratings in common.\n",
    "\n",
    "Let's run it for user A and C now.\n",
    "\n",
    "### A vs C\n",
    "```python\n",
    "cosine_similarity(np.array([4,0,5,3,5,0,0]).reshape(1,-1),\\\n",
    "np.array([2,0,2,0,1,0,0]).reshape(1,-1))\n",
    "```\n",
    "\n",
    "This gives us a cosine simularity of **.8852.**\n",
    "\n",
    "#### This indicates these users are very similar. But are they?"
   ]
  },
  {
   "cell_type": "markdown",
   "metadata": {
    "slideshow": {
     "slide_type": "slide"
    }
   },
   "source": [
    "## The problem with zero"
   ]
  },
  {
   "cell_type": "markdown",
   "metadata": {
    "slideshow": {
     "slide_type": "fragment"
    }
   },
   "source": [
    "By inputing 0 to fill the missing values, we have indicated strong negative sentiment for the missing ratings and thus agreement where there is none. We should instead represent that with a neutral value. We can do this by **mean centering** the values at zero. Let's see how that works."
   ]
  },
  {
   "cell_type": "markdown",
   "metadata": {
    "slideshow": {
     "slide_type": "slide"
    }
   },
   "source": [
    "We add up all the ratings for user A and then divide by the total ratings. In this case that is 17/4 or 4.25. We then subtract this 4.25 from every individual rating. We then do the same for all other users. <br><br>That gives us the following table:\n",
    "\n",
    "<img src=\"http://i.imgur.com/QuM7xsa.png\">"
   ]
  },
  {
   "cell_type": "markdown",
   "metadata": {
    "slideshow": {
     "slide_type": "slide"
    }
   },
   "source": [
    "\n",
    "### A vs B\n",
    "```python\n",
    "cosine_similarity(np.array([-.25,0,.75,-1.25,.75,0,0])\\\n",
    ".reshape(1,-1),\\\n",
    "np.array([0,-.33,0,-.33,0,.66,0])\\\n",
    ".reshape(1,-1))\n",
    "```\n",
    "\n",
    "This new figure for this is:  **.3077**\n",
    "\n",
    "\n",
    "### A vs C\n",
    "```python\n",
    "cosine_similarity(np.array([-.25,0,.75,-1.25,.75,0,0])\\\n",
    ".reshape(1,-1),\\\n",
    "np.array([.33,0,.33,0,-.66,0,0])\\\n",
    ".reshape(1,-1))\n",
    "```\n",
    "The new figure for this is: **-0.246**"
   ]
  },
  {
   "cell_type": "markdown",
   "metadata": {
    "slideshow": {
     "slide_type": "slide"
    }
   },
   "source": [
    "## So what happened?\n",
    "\n",
    "So the A and B got more similar and A and C got further apart which is what we'd hope to see. This centering process also has another benefit in that easy and hard raters are put on the same basis."
   ]
  },
  {
   "cell_type": "markdown",
   "metadata": {
    "slideshow": {
     "slide_type": "slide"
    }
   },
   "source": [
    "## Exercise: Find the similarity between X and Y and X and Z for the following.\n",
    "\n",
    "|User |Snarky's Potato Chips\t| SoSo Smoth Lotion\t|Duffly Beer\t|BetterTap Water\t|XXLargeLivin' Football Jersey\t|Snowy Cotton Ballas\t|Disposos Diapers|\n",
    "|:-:|---|---|---|---|---|---|---|---|\n",
    "| X| |4| | 3| | 4| |\n",
    "| Y| |3.5| | 2.5| | 4| 4|\n",
    "| Z| | 4| | 3.5| | 4.5| 4.5|"
   ]
  },
  {
   "cell_type": "code",
   "execution_count": 9,
   "metadata": {
    "collapsed": false
   },
   "outputs": [
    {
     "data": {
      "text/plain": [
       "(array([[-0.47637492]]),)"
      ]
     },
     "execution_count": 9,
     "metadata": {},
     "output_type": "execute_result"
    }
   ],
   "source": [
    "from sklearn.metrics.pairwise import cosine_similarity\n",
    "\n",
    "# x to y with all\n",
    "cosine_similarity(np.array([0,  .33,    0, -.67,   0, .33,   0,   0]).reshape(1,-1),\\\n",
    "                  np.array([0,    0,    0,    1,   0, .50,   0, .66]).reshape(1,-1)).reshape(1,-1),\\"
   ]
  },
  {
   "cell_type": "code",
   "execution_count": 10,
   "metadata": {
    "collapsed": false
   },
   "outputs": [
    {
     "data": {
      "text/plain": [
       "(array([[ 0.73727235]]),)"
      ]
     },
     "execution_count": 10,
     "metadata": {},
     "output_type": "execute_result"
    }
   ],
   "source": [
    "# x t z with all\n",
    "cosine_similarity(np.array([0,  .33,    0, -.67,   0, .33,   0,   0]).reshape(1,-1),\\\n",
    "                  np.array([0, -.13,    0, -.63,   0, .38,   0, .38]).reshape(1,-1)).reshape(1,-1),\\"
   ]
  },
  {
   "cell_type": "code",
   "execution_count": 11,
   "metadata": {
    "collapsed": false
   },
   "outputs": [
    {
     "data": {
      "text/plain": [
       "(array([[-0.47637492]]),)"
      ]
     },
     "execution_count": 11,
     "metadata": {},
     "output_type": "execute_result"
    }
   ],
   "source": [
    "# x to y abridged\n",
    "cosine_similarity(np.array([  .33,     -.67,    .33,      0]).reshape(1,-1),\\\n",
    "                  np.array([    0,        1,    .50,    .66]).reshape(1,-1)).reshape(1,-1),\\"
   ]
  },
  {
   "cell_type": "code",
   "execution_count": 8,
   "metadata": {
    "collapsed": false
   },
   "outputs": [
    {
     "data": {
      "text/plain": [
       "(array([[ 0.73727235]]),)"
      ]
     },
     "execution_count": 8,
     "metadata": {},
     "output_type": "execute_result"
    }
   ],
   "source": [
    "# x t z abridged\n",
    "cosine_similarity(np.array([  .33,     -.67,    .33,      0]).reshape(1,-1),\\\n",
    "                  np.array([ -.13,     -.63,    .38,    .38]).reshape(1,-1)).reshape(1,-1),\\"
   ]
  },
  {
   "cell_type": "markdown",
   "metadata": {
    "slideshow": {
     "slide_type": "slide"
    }
   },
   "source": [
    "## But how do we predict the rating of an item for a user?"
   ]
  },
  {
   "cell_type": "markdown",
   "metadata": {
    "slideshow": {
     "slide_type": "-"
    }
   },
   "source": [
    "|User |Snarky's Potato Chips\t| SoSo Smoth Lotion\t|Duffly Beer\t|BetterTap Water\t|XXLargeLivin' Football Jersey\t|Snowy Cotton Ballas\t|Disposos Diapers|\n",
    "|:-:|---|---|---|---|---|---|---|---|\n",
    "| X| |4| | 3| | 4|? |\n",
    "| Y| |3.5| | 2.5| | 4| 4|\n",
    "| Z| | 4| | 3.5| | 4.5| 4.5|"
   ]
  },
  {
   "cell_type": "markdown",
   "metadata": {
    "slideshow": {
     "slide_type": "slide"
    }
   },
   "source": [
    "Next we'll find the expected rating for User X for Disposo's Diapers using the weighted results of the two closest users (we only have two here, but normally k would be selected) Y and Z.\n",
    "\n",
    "We do this by weighing each user's similarity to X and multiplying by their rating. We then divide by the sum of their similarities to arrive at our rating.\n",
    "\n",
    "For k of 2:<br>\n",
    "** (1st closest cosine sim x their product rating + 2nd closest cosine sim x their product rating) / (sum of 1st and 2nd's cosine sims) **\n",
    "\n",
    "(.42447212 * (4) + .46571861 * (4.5)) / (.42447212 + .46571861) = 4.26"
   ]
  },
  {
   "cell_type": "markdown",
   "metadata": {
    "slideshow": {
     "slide_type": "slide"
    }
   },
   "source": [
    "#### Check: What might be some problems with user-to-user filtering?"
   ]
  },
  {
   "cell_type": "markdown",
   "metadata": {
    "slideshow": {
     "slide_type": "fragment"
    }
   },
   "source": [
    "- A lot of people like WestWorld\n",
    "- Some of the people that like WestWorld like Norweigan death metal\n",
    "- I like WestWorld\n",
    "- Perhaps I just haven't given Norwegian death metal the chance it deserves"
   ]
  },
  {
   "cell_type": "markdown",
   "metadata": {
    "slideshow": {
     "slide_type": "slide"
    }
   },
   "source": [
    "In practice, there is a type of collaborative filtering that performs much better than user-to-user filtering: item-to-item filtering."
   ]
  },
  {
   "cell_type": "markdown",
   "metadata": {
    "slideshow": {
     "slide_type": "slide"
    }
   },
   "source": [
    "## Item-to-item filtering"
   ]
  },
  {
   "cell_type": "markdown",
   "metadata": {
    "slideshow": {
     "slide_type": "slide"
    }
   },
   "source": [
    "Let's take a look at an example ratings table.\n",
    "\n",
    "<img src=\"http://i.imgur.com/JoBHXcG.png\">\n",
    "\n",
    "Just as in user-to-user filtering, we need to center our values by row."
   ]
  },
  {
   "cell_type": "markdown",
   "metadata": {
    "slideshow": {
     "slide_type": "slide"
    }
   },
   "source": [
    "## Exercise: Center the values by row and find the cosine similarity for each row vs. row 5 (S5)."
   ]
  },
  {
   "cell_type": "markdown",
   "metadata": {
    "slideshow": {
     "slide_type": "slide"
    }
   },
   "source": [
    "The nearest songs should have been S1 and S3. To calculate the rating for our target song, S5, for U3, using a k of 2, we have the following equation:\n",
    "\n",
    "(.98 * (4) + .72 * (5)) / (.98 + .72) = 4.42\n",
    "\n",
    "This is the similarity of our closest song S1 times User 3's rating + the similarity of song S3 times User 3's rating of it. This is then divided by the total similarity.\n",
    "\n",
    "Therefore, based on this item-to-item collaborative filtering, we can see U3 is likely to rate S5 very highly at 4.42 from our calculations."
   ]
  },
  {
   "cell_type": "markdown",
   "metadata": {
    "slideshow": {
     "slide_type": "slide"
    }
   },
   "source": [
    "## Content-based Filtering"
   ]
  },
  {
   "cell_type": "markdown",
   "metadata": {
    "slideshow": {
     "slide_type": "-"
    }
   },
   "source": [
    "Finally, there is another method called content-based filtering. In content-based filtering, the items are broken down into \"feature baskets\". These are the characteristics that represent the item. The idea is that if you like the features of song X, then finding a song that has similar characteristics will tell us that you're likely to like it as well.\n",
    "\n",
    "\n",
    "The quintessential example of this is Pandora with it's musical genome. Each song is rated on ~450 characteristics by a trained musicologist."
   ]
  },
  {
   "cell_type": "markdown",
   "metadata": {
    "slideshow": {
     "slide_type": "slide"
    }
   },
   "source": [
    "## Example \n",
    "Content-based filtering begins by mapping each item into\n",
    "a feature space. Both users and items are represented by\n",
    "vectors in this space.\n",
    "Item vectors measure the degree to which the item is\n",
    "described by each feature, and user vectors measure a\n",
    "user’s preferences for each feature.\n",
    "Ratings are generated by taking dot products of user &\n",
    "item vectors. "
   ]
  },
  {
   "cell_type": "markdown",
   "metadata": {
    "slideshow": {
     "slide_type": "slide"
    }
   },
   "source": [
    "<img src=\"http://i.imgur.com/NzHksKK.png\">"
   ]
  },
  {
   "cell_type": "markdown",
   "metadata": {
    "slideshow": {
     "slide_type": "slide"
    }
   },
   "source": [
    "## Independent Exercise:\n",
    "\n",
    "Write a function that takes in a utility matrix with users along the index and songs along the columns as seen above in the item-to-item filtering example. The function should accept a target user and song (as strings) that it will return a rating for. \n",
    "\n",
    "Use the following as your utility matrix;"
   ]
  },
  {
   "cell_type": "code",
   "execution_count": 63,
   "metadata": {
    "collapsed": false,
    "hideCode": true,
    "hidePrompt": true,
    "slideshow": {
     "slide_type": "-"
    }
   },
   "outputs": [
    {
     "name": "stdout",
     "output_type": "stream",
     "text": [
      "<class 'pandas.core.frame.DataFrame'>\n",
      "Index: 5 entries, S1 to S5\n",
      "Data columns (total 5 columns):\n",
      "U1    3 non-null float64\n",
      "U2    2 non-null float64\n",
      "U3    3 non-null float64\n",
      "U4    2 non-null float64\n",
      "U5    3 non-null float64\n",
      "dtypes: float64(5)\n",
      "memory usage: 240.0+ bytes\n",
      "U1    2\n",
      "U2    3\n",
      "U3    2\n",
      "U4    3\n",
      "U5    2\n",
      "dtype: int64\n"
     ]
    },
    {
     "data": {
      "text/html": [
       "<div>\n",
       "<table border=\"1\" class=\"dataframe\">\n",
       "  <thead>\n",
       "    <tr style=\"text-align: right;\">\n",
       "      <th></th>\n",
       "      <th>U1</th>\n",
       "      <th>U2</th>\n",
       "      <th>U3</th>\n",
       "      <th>U4</th>\n",
       "      <th>U5</th>\n",
       "    </tr>\n",
       "  </thead>\n",
       "  <tbody>\n",
       "    <tr>\n",
       "      <th>S1</th>\n",
       "      <td>2.0</td>\n",
       "      <td>NaN</td>\n",
       "      <td>4.0</td>\n",
       "      <td>NaN</td>\n",
       "      <td>5.0</td>\n",
       "    </tr>\n",
       "    <tr>\n",
       "      <th>S2</th>\n",
       "      <td>NaN</td>\n",
       "      <td>3.0</td>\n",
       "      <td>NaN</td>\n",
       "      <td>3.0</td>\n",
       "      <td>NaN</td>\n",
       "    </tr>\n",
       "    <tr>\n",
       "      <th>S3</th>\n",
       "      <td>1.0</td>\n",
       "      <td>NaN</td>\n",
       "      <td>5.0</td>\n",
       "      <td>NaN</td>\n",
       "      <td>4.0</td>\n",
       "    </tr>\n",
       "    <tr>\n",
       "      <th>S4</th>\n",
       "      <td>NaN</td>\n",
       "      <td>4.0</td>\n",
       "      <td>4.0</td>\n",
       "      <td>4.0</td>\n",
       "      <td>NaN</td>\n",
       "    </tr>\n",
       "    <tr>\n",
       "      <th>S5</th>\n",
       "      <td>3.0</td>\n",
       "      <td>NaN</td>\n",
       "      <td>NaN</td>\n",
       "      <td>NaN</td>\n",
       "      <td>5.0</td>\n",
       "    </tr>\n",
       "  </tbody>\n",
       "</table>\n",
       "</div>"
      ],
      "text/plain": [
       "     U1   U2   U3   U4   U5\n",
       "S1  2.0  NaN  4.0  NaN  5.0\n",
       "S2  NaN  3.0  NaN  3.0  NaN\n",
       "S3  1.0  NaN  5.0  NaN  4.0\n",
       "S4  NaN  4.0  4.0  4.0  NaN\n",
       "S5  3.0  NaN  NaN  NaN  5.0"
      ]
     },
     "execution_count": 63,
     "metadata": {},
     "output_type": "execute_result"
    }
   ],
   "source": [
    "df = pd.DataFrame({'U1':[2 , None, 1, None, 3], 'U2': [None, 3, None, 4,\n",
    "None],'U3': [4, None, 5, 4, None], 'U4': [None, 3, None, 4, None], 'U5': [5, None, 4, None, 5]})\n",
    "df.index = ['S1', 'S2', 'S3', 'S4', 'S5']\n",
    "df.info()\n",
    "print df.isnull().sum()\n",
    "df"
   ]
  },
  {
   "cell_type": "code",
   "execution_count": 64,
   "metadata": {
    "collapsed": false
   },
   "outputs": [],
   "source": [
    "df.fillna(0, inplace=True)"
   ]
  },
  {
   "cell_type": "code",
   "execution_count": 67,
   "metadata": {
    "collapsed": false
   },
   "outputs": [],
   "source": [
    "df['usum'] = df.sum(axis=1)\n",
    "\n"
   ]
  },
  {
   "cell_type": "code",
   "execution_count": null,
   "metadata": {
    "collapsed": true
   },
   "outputs": [],
   "source": [
    "lenc = []\n",
    "\n",
    "for row in df:\n"
   ]
  },
  {
   "cell_type": "code",
   "execution_count": 68,
   "metadata": {
    "collapsed": false
   },
   "outputs": [
    {
     "data": {
      "text/html": [
       "<div>\n",
       "<table border=\"1\" class=\"dataframe\">\n",
       "  <thead>\n",
       "    <tr style=\"text-align: right;\">\n",
       "      <th></th>\n",
       "      <th>U1</th>\n",
       "      <th>U2</th>\n",
       "      <th>U3</th>\n",
       "      <th>U4</th>\n",
       "      <th>U5</th>\n",
       "      <th>usum</th>\n",
       "    </tr>\n",
       "  </thead>\n",
       "  <tbody>\n",
       "    <tr>\n",
       "      <th>S1</th>\n",
       "      <td>2.0</td>\n",
       "      <td>0.0</td>\n",
       "      <td>4.0</td>\n",
       "      <td>0.0</td>\n",
       "      <td>5.0</td>\n",
       "      <td>11.0</td>\n",
       "    </tr>\n",
       "    <tr>\n",
       "      <th>S2</th>\n",
       "      <td>0.0</td>\n",
       "      <td>3.0</td>\n",
       "      <td>0.0</td>\n",
       "      <td>3.0</td>\n",
       "      <td>0.0</td>\n",
       "      <td>6.0</td>\n",
       "    </tr>\n",
       "    <tr>\n",
       "      <th>S3</th>\n",
       "      <td>1.0</td>\n",
       "      <td>0.0</td>\n",
       "      <td>5.0</td>\n",
       "      <td>0.0</td>\n",
       "      <td>4.0</td>\n",
       "      <td>10.0</td>\n",
       "    </tr>\n",
       "    <tr>\n",
       "      <th>S4</th>\n",
       "      <td>0.0</td>\n",
       "      <td>4.0</td>\n",
       "      <td>4.0</td>\n",
       "      <td>4.0</td>\n",
       "      <td>0.0</td>\n",
       "      <td>12.0</td>\n",
       "    </tr>\n",
       "    <tr>\n",
       "      <th>S5</th>\n",
       "      <td>3.0</td>\n",
       "      <td>0.0</td>\n",
       "      <td>0.0</td>\n",
       "      <td>0.0</td>\n",
       "      <td>5.0</td>\n",
       "      <td>8.0</td>\n",
       "    </tr>\n",
       "  </tbody>\n",
       "</table>\n",
       "</div>"
      ],
      "text/plain": [
       "     U1   U2   U3   U4   U5  usum\n",
       "S1  2.0  0.0  4.0  0.0  5.0  11.0\n",
       "S2  0.0  3.0  0.0  3.0  0.0   6.0\n",
       "S3  1.0  0.0  5.0  0.0  4.0  10.0\n",
       "S4  0.0  4.0  4.0  4.0  0.0  12.0\n",
       "S5  3.0  0.0  0.0  0.0  5.0   8.0"
      ]
     },
     "execution_count": 68,
     "metadata": {},
     "output_type": "execute_result"
    }
   ],
   "source": [
    "df"
   ]
  },
  {
   "cell_type": "markdown",
   "metadata": {
    "slideshow": {
     "slide_type": "slide"
    }
   },
   "source": [
    "## Conclusion\n",
    "\n",
    "We have looked at the major types of recommender systems in this lesson. Let's quickly wrap up by looking at the pros and cons of each.\n",
    "\n",
    "Collaborative Filtering:\n",
    "Pros:\n",
    "- No need to hand craft features\n",
    "Cons:\n",
    "- Needs a large existing set of ratings (cold-start problem)\n",
    "- Sparsity occurs when the number of items far exceeds what a person could purchase\n",
    "\n",
    "Content-based Filtering:\n",
    "Pros:\n",
    "- No need for a large number of users\n",
    "Cons:\n",
    "- Lacks serendipity\n",
    "- May be difficult to generate the right features\n",
    "- Hard to create cross-content recommendations (different feature spaces)\n",
    "\n",
    "In fact, the best solution -- and the one most likely in use in any large-scale, production system is a combination of both of these. This is known as a **hybrid system**. By combining the two systems, you can get the best of both worlds."
   ]
  },
  {
   "cell_type": "markdown",
   "metadata": {
    "slideshow": {
     "slide_type": "slide"
    }
   },
   "source": [
    "## Additional Resources\n",
    "\n",
    "- [Wharton Study of Recommender Systems](http://knowledge.wharton.upenn.edu/article/recommended-for-you-how-well-does-personalized-marketing-work/)\n",
    "- [Netflix Recommendations](https://www.rtinsights.com/netflix-recommendations-machine-learning-algorithms/)\n",
    "- [Netflix Paper](http://dl.acm.org/citation.cfm?id=2843948)"
   ]
  }
 ],
 "metadata": {
  "anaconda-cloud": {},
  "celltoolbar": "Slideshow",
  "kernelspec": {
   "display_name": "Python [default]",
   "language": "python",
   "name": "python2"
  },
  "language_info": {
   "codemirror_mode": {
    "name": "ipython",
    "version": 2
   },
   "file_extension": ".py",
   "mimetype": "text/x-python",
   "name": "python",
   "nbconvert_exporter": "python",
   "pygments_lexer": "ipython2",
   "version": "2.7.12"
  }
 },
 "nbformat": 4,
 "nbformat_minor": 0
}
