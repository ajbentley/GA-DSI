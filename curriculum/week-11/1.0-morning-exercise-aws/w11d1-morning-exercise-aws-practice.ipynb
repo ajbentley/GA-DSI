{
 "cells": [
  {
   "cell_type": "markdown",
   "metadata": {},
   "source": [
    "\n",
    "# ![](https://ga-dash.s3.amazonaws.com/production/assets/logo-9f88ae6c9c3871690e33280fcf557f33.png) Practice with AWS and remote servers\n",
    "Week 11 | Exercise 1.0\n",
    "\n"
   ]
  },
  {
   "cell_type": "markdown",
   "metadata": {},
   "source": [
    "1. Turn on a new Amazon EC2 instance running **Ubuntu**."
   ]
  },
  {
   "cell_type": "markdown",
   "metadata": {},
   "source": [
    "## Review\n",
    "\n",
    "- Launch an Amazon EC2 Instance\n",
    "\n",
    "![](./assets/images/launch_instance.png)\n"
   ]
  },
  {
   "cell_type": "markdown",
   "metadata": {},
   "source": [
    "- Configure your instance\n",
    "\n",
    "![](./assets/images/configure_instance.png)"
   ]
  },
  {
   "cell_type": "markdown",
   "metadata": {},
   "source": [
    "## Challenges\n",
    "1. Edit your .ssh config file to give your EC2 a host name. You should be able to launch the EC2 from local by running e.g. `ssh my-cool-host-name`\n",
    "3. Copy a csv to your cloud machine in a folder called `my_csv`. Use the titanic dataset, or anything else you like.\n",
    "4. Install [postgres](https://help.ubuntu.com/community/PostgreSQL) on your cloud machine.\n",
    "\n",
    "\n",
    "## Super Challenge: `cron`\n",
    "Use `cron` on your cloud machine so that a file in your home directory is updated every minute.\n",
    "\n",
    "Confirm that it is updating every minute.\n",
    "\n",
    "Turn off the `cron` job."
   ]
  }
 ],
 "metadata": {
  "kernelspec": {
   "display_name": "Python 2",
   "language": "python",
   "name": "python2"
  },
  "language_info": {
   "codemirror_mode": {
    "name": "ipython",
    "version": 2
   },
   "file_extension": ".py",
   "mimetype": "text/x-python",
   "name": "python",
   "nbconvert_exporter": "python",
   "pygments_lexer": "ipython2",
   "version": "2.7.12"
  }
 },
 "nbformat": 4,
 "nbformat_minor": 0
}
