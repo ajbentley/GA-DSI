{
 "cells": [
  {
   "cell_type": "markdown",
   "metadata": {},
   "source": [
    "Let's first setup our imports"
   ]
  },
  {
   "cell_type": "code",
   "execution_count": 2,
   "metadata": {
    "collapsed": false
   },
   "outputs": [],
   "source": [
    "import pandas as pd\n",
    "import numpy as np\n",
    "from sklearn import cluster\n",
    "from sklearn import metrics\n",
    "from sklearn.metrics import pairwise_distances\n",
    "import matplotlib.pyplot as plt\n",
    "import matplotlib\n",
    "from matplotlib import pyplot\n",
    "from sklearn import datasets\n",
    "import seaborn as sms\n",
    "from pandas.tools.plotting import scatter_matrix"
   ]
  },
  {
   "cell_type": "markdown",
   "metadata": {},
   "source": [
    "## Step 1: Import and format the data"
   ]
  },
  {
   "cell_type": "markdown",
   "metadata": {},
   "source": [
    "Sklearn already has the Iris dataset built in, so all we have to do is import it!"
   ]
  },
  {
   "cell_type": "code",
   "execution_count": 28,
   "metadata": {
    "collapsed": false
   },
   "outputs": [],
   "source": [
    "from sklearn.datasets import load_iris\n",
    "data = load_iris()"
   ]
  },
  {
   "cell_type": "code",
   "execution_count": 44,
   "metadata": {
    "collapsed": false
   },
   "outputs": [
    {
     "data": {
      "text/html": [
       "<div>\n",
       "<table border=\"1\" class=\"dataframe\">\n",
       "  <thead>\n",
       "    <tr style=\"text-align: right;\">\n",
       "      <th></th>\n",
       "      <th>sepal length (cm)</th>\n",
       "      <th>sepal width (cm)</th>\n",
       "      <th>petal length (cm)</th>\n",
       "      <th>petal width (cm)</th>\n",
       "      <th>target</th>\n",
       "    </tr>\n",
       "  </thead>\n",
       "  <tbody>\n",
       "    <tr>\n",
       "      <th>0</th>\n",
       "      <td>5.1</td>\n",
       "      <td>3.5</td>\n",
       "      <td>1.4</td>\n",
       "      <td>0.2</td>\n",
       "      <td>0.0</td>\n",
       "    </tr>\n",
       "    <tr>\n",
       "      <th>1</th>\n",
       "      <td>4.9</td>\n",
       "      <td>3.0</td>\n",
       "      <td>1.4</td>\n",
       "      <td>0.2</td>\n",
       "      <td>0.0</td>\n",
       "    </tr>\n",
       "    <tr>\n",
       "      <th>2</th>\n",
       "      <td>4.7</td>\n",
       "      <td>3.2</td>\n",
       "      <td>1.3</td>\n",
       "      <td>0.2</td>\n",
       "      <td>0.0</td>\n",
       "    </tr>\n",
       "    <tr>\n",
       "      <th>3</th>\n",
       "      <td>4.6</td>\n",
       "      <td>3.1</td>\n",
       "      <td>1.5</td>\n",
       "      <td>0.2</td>\n",
       "      <td>0.0</td>\n",
       "    </tr>\n",
       "    <tr>\n",
       "      <th>4</th>\n",
       "      <td>5.0</td>\n",
       "      <td>3.6</td>\n",
       "      <td>1.4</td>\n",
       "      <td>0.2</td>\n",
       "      <td>0.0</td>\n",
       "    </tr>\n",
       "  </tbody>\n",
       "</table>\n",
       "</div>"
      ],
      "text/plain": [
       "   sepal length (cm)  sepal width (cm)  petal length (cm)  petal width (cm)  \\\n",
       "0                5.1               3.5                1.4               0.2   \n",
       "1                4.9               3.0                1.4               0.2   \n",
       "2                4.7               3.2                1.3               0.2   \n",
       "3                4.6               3.1                1.5               0.2   \n",
       "4                5.0               3.6                1.4               0.2   \n",
       "\n",
       "   target  \n",
       "0     0.0  \n",
       "1     0.0  \n",
       "2     0.0  \n",
       "3     0.0  \n",
       "4     0.0  "
      ]
     },
     "execution_count": 44,
     "metadata": {},
     "output_type": "execute_result"
    }
   ],
   "source": [
    "iris = load_iris()\n",
    "df = pd.DataFrame(data=np.c_[iris['data'], iris['target']],\n",
    "                     columns=iris['feature_names'] + ['target'])\n",
    "df.head()"
   ]
  },
  {
   "cell_type": "markdown",
   "metadata": {},
   "source": [
    "Define the \"x\" and \"y\" variables. *Remember*, y is our classifer, and x is our attributes."
   ]
  },
  {
   "cell_type": "code",
   "execution_count": 56,
   "metadata": {
    "collapsed": false
   },
   "outputs": [],
   "source": [
    "x = iris['data']\n",
    "y = iris['targetc\n",
    "\n"
   ]
  },
  {
   "cell_type": "markdown",
   "metadata": {},
   "source": [
    "## Step 2: Plot the data to estimate clusters"
   ]
  },
  {
   "cell_type": "markdown",
   "metadata": {},
   "source": [
    "Plot the data using scatterplots - take a look at all the combinations of variables to get a feel for how the data is distributed. "
   ]
  },
  {
   "cell_type": "code",
   "execution_count": 55,
   "metadata": {
    "collapsed": false
   },
   "outputs": [
    {
     "name": "stderr",
     "output_type": "stream",
     "text": [
      "Traceback (most recent call last):\n",
      "  File \"C:\\Users\\Elizabeth\\Anaconda2\\lib\\site-packages\\matplotlib\\backends\\backend_qt5agg.py\", line 180, in __draw_idle_agg\n",
      "    FigureCanvasAgg.draw(self)\n",
      "  File \"C:\\Users\\Elizabeth\\Anaconda2\\lib\\site-packages\\matplotlib\\backends\\backend_agg.py\", line 474, in draw\n",
      "    self.figure.draw(self.renderer)\n",
      "  File \"C:\\Users\\Elizabeth\\Anaconda2\\lib\\site-packages\\matplotlib\\artist.py\", line 62, in draw_wrapper\n",
      "    draw(artist, renderer, *args, **kwargs)\n",
      "  File \"C:\\Users\\Elizabeth\\Anaconda2\\lib\\site-packages\\matplotlib\\figure.py\", line 1159, in draw\n",
      "    func(*args)\n",
      "  File \"C:\\Users\\Elizabeth\\Anaconda2\\lib\\site-packages\\matplotlib\\artist.py\", line 62, in draw_wrapper\n",
      "    draw(artist, renderer, *args, **kwargs)\n",
      "  File \"C:\\Users\\Elizabeth\\Anaconda2\\lib\\site-packages\\matplotlib\\axes\\_base.py\", line 2319, in draw\n",
      "    a.draw(renderer)\n",
      "  File \"C:\\Users\\Elizabeth\\Anaconda2\\lib\\site-packages\\matplotlib\\artist.py\", line 62, in draw_wrapper\n",
      "    draw(artist, renderer, *args, **kwargs)\n",
      "  File \"C:\\Users\\Elizabeth\\Anaconda2\\lib\\site-packages\\matplotlib\\collections.py\", line 815, in draw\n",
      "    Collection.draw(self, renderer)\n",
      "  File \"C:\\Users\\Elizabeth\\Anaconda2\\lib\\site-packages\\matplotlib\\artist.py\", line 62, in draw_wrapper\n",
      "    draw(artist, renderer, *args, **kwargs)\n",
      "  File \"C:\\Users\\Elizabeth\\Anaconda2\\lib\\site-packages\\matplotlib\\collections.py\", line 265, in draw\n",
      "    transform, transOffset, offsets, paths = self._prepare_points()\n",
      "  File \"C:\\Users\\Elizabeth\\Anaconda2\\lib\\site-packages\\matplotlib\\collections.py\", line 238, in _prepare_points\n",
      "    offsets = np.asanyarray(offsets, np.float_)\n",
      "  File \"C:\\Users\\Elizabeth\\Anaconda2\\lib\\site-packages\\numpy\\core\\numeric.py\", line 533, in asanyarray\n",
      "    return array(a, dtype, copy=False, order=order, subok=True)\n",
      "ValueError: could not convert string to float: feature_names\n"
     ]
    }
   ],
   "source": [
    "# colors = np.random.rand(N)\n",
    "\n",
    "plt.scatter(x[0], x[1])\n",
    "plt.show()"
   ]
  },
  {
   "cell_type": "code",
   "execution_count": 26,
   "metadata": {
    "collapsed": false
   },
   "outputs": [
    {
     "data": {
      "text/plain": [
       "array([[<matplotlib.axes._subplots.AxesSubplot object at 0x00000000281A6B70>,\n",
       "        <matplotlib.axes._subplots.AxesSubplot object at 0x00000000282F05C0>,\n",
       "        <matplotlib.axes._subplots.AxesSubplot object at 0x0000000028375F28>,\n",
       "        <matplotlib.axes._subplots.AxesSubplot object at 0x0000000028477E10>,\n",
       "        <matplotlib.axes._subplots.AxesSubplot object at 0x000000002850F668>,\n",
       "        <matplotlib.axes._subplots.AxesSubplot object at 0x000000002865D240>,\n",
       "        <matplotlib.axes._subplots.AxesSubplot object at 0x000000002874BBA8>,\n",
       "        <matplotlib.axes._subplots.AxesSubplot object at 0x0000000028838B00>,\n",
       "        <matplotlib.axes._subplots.AxesSubplot object at 0x000000002893D4A8>,\n",
       "        <matplotlib.axes._subplots.AxesSubplot object at 0x00000000289DC5C0>,\n",
       "        <matplotlib.axes._subplots.AxesSubplot object at 0x0000000028A9B6D8>,\n",
       "        <matplotlib.axes._subplots.AxesSubplot object at 0x0000000028B74B70>],\n",
       "       [<matplotlib.axes._subplots.AxesSubplot object at 0x0000000028C91A58>,\n",
       "        <matplotlib.axes._subplots.AxesSubplot object at 0x0000000028D5B400>,\n",
       "        <matplotlib.axes._subplots.AxesSubplot object at 0x0000000028E07048>,\n",
       "        <matplotlib.axes._subplots.AxesSubplot object at 0x0000000028EFB9B0>,\n",
       "        <matplotlib.axes._subplots.AxesSubplot object at 0x0000000028FA63C8>,\n",
       "        <matplotlib.axes._subplots.AxesSubplot object at 0x00000000290A94E0>,\n",
       "        <matplotlib.axes._subplots.AxesSubplot object at 0x000000002914B0B8>,\n",
       "        <matplotlib.axes._subplots.AxesSubplot object at 0x0000000029202B00>,\n",
       "        <matplotlib.axes._subplots.AxesSubplot object at 0x000000002930C4A8>,\n",
       "        <matplotlib.axes._subplots.AxesSubplot object at 0x0000000029433550>,\n",
       "        <matplotlib.axes._subplots.AxesSubplot object at 0x0000000029541EB8>,\n",
       "        <matplotlib.axes._subplots.AxesSubplot object at 0x00000000295F48D0>],\n",
       "       [<matplotlib.axes._subplots.AxesSubplot object at 0x00000000296F69E8>,\n",
       "        <matplotlib.axes._subplots.AxesSubplot object at 0x00000000297D35C0>,\n",
       "        <matplotlib.axes._subplots.AxesSubplot object at 0x000000002992F048>,\n",
       "        <matplotlib.axes._subplots.AxesSubplot object at 0x00000000299E59B0>,\n",
       "        <matplotlib.axes._subplots.AxesSubplot object at 0x0000000029ADAA58>,\n",
       "        <matplotlib.axes._subplots.AxesSubplot object at 0x0000000029BA4400>,\n",
       "        <matplotlib.axes._subplots.AxesSubplot object at 0x0000000029C45DD8>,\n",
       "        <matplotlib.axes._subplots.AxesSubplot object at 0x0000000029D4EEF0>,\n",
       "        <matplotlib.axes._subplots.AxesSubplot object at 0x0000000029DA5AC8>,\n",
       "        <matplotlib.axes._subplots.AxesSubplot object at 0x0000000029ECD550>,\n",
       "        <matplotlib.axes._subplots.AxesSubplot object at 0x0000000029FCAEB8>,\n",
       "        <matplotlib.axes._subplots.AxesSubplot object at 0x000000002A0BEF60>],\n",
       "       [<matplotlib.axes._subplots.AxesSubplot object at 0x000000002A1C9908>,\n",
       "        <matplotlib.axes._subplots.AxesSubplot object at 0x000000002A1EFC50>,\n",
       "        <matplotlib.axes._subplots.AxesSubplot object at 0x0000000025E29B00>,\n",
       "        <matplotlib.axes._subplots.AxesSubplot object at 0x00000000279862E8>,\n",
       "        <matplotlib.axes._subplots.AxesSubplot object at 0x000000002108C160>,\n",
       "        <matplotlib.axes._subplots.AxesSubplot object at 0x000000001F07FDD8>,\n",
       "        <matplotlib.axes._subplots.AxesSubplot object at 0x000000001C0F1898>,\n",
       "        <matplotlib.axes._subplots.AxesSubplot object at 0x000000002A1FAF60>,\n",
       "        <matplotlib.axes._subplots.AxesSubplot object at 0x000000002A48EEF0>,\n",
       "        <matplotlib.axes._subplots.AxesSubplot object at 0x000000002A5B72E8>,\n",
       "        <matplotlib.axes._subplots.AxesSubplot object at 0x000000002A55F320>,\n",
       "        <matplotlib.axes._subplots.AxesSubplot object at 0x000000002A8064E0>],\n",
       "       [<matplotlib.axes._subplots.AxesSubplot object at 0x000000002A8BFFD0>,\n",
       "        <matplotlib.axes._subplots.AxesSubplot object at 0x000000002A971748>,\n",
       "        <matplotlib.axes._subplots.AxesSubplot object at 0x000000002AA7C0F0>,\n",
       "        <matplotlib.axes._subplots.AxesSubplot object at 0x000000002AABCF98>,\n",
       "        <matplotlib.axes._subplots.AxesSubplot object at 0x000000002AC1BA20>,\n",
       "        <matplotlib.axes._subplots.AxesSubplot object at 0x000000002AC6C0F0>,\n",
       "        <matplotlib.axes._subplots.AxesSubplot object at 0x000000002AE29208>,\n",
       "        <matplotlib.axes._subplots.AxesSubplot object at 0x000000002AEA1B70>,\n",
       "        <matplotlib.axes._subplots.AxesSubplot object at 0x000000002AF87E10>,\n",
       "        <matplotlib.axes._subplots.AxesSubplot object at 0x000000002B04D7B8>,\n",
       "        <matplotlib.axes._subplots.AxesSubplot object at 0x000000002B14D400>,\n",
       "        <matplotlib.axes._subplots.AxesSubplot object at 0x000000002B20AF98>],\n",
       "       [<matplotlib.axes._subplots.AxesSubplot object at 0x000000002B316940>,\n",
       "        <matplotlib.axes._subplots.AxesSubplot object at 0x000000002B3C82B0>,\n",
       "        <matplotlib.axes._subplots.AxesSubplot object at 0x000000002B4C1C18>,\n",
       "        <matplotlib.axes._subplots.AxesSubplot object at 0x000000002B5BBD30>,\n",
       "        <matplotlib.axes._subplots.AxesSubplot object at 0x000000002B6426D8>,\n",
       "        <matplotlib.axes._subplots.AxesSubplot object at 0x000000002B71BC18>,\n",
       "        <matplotlib.axes._subplots.AxesSubplot object at 0x000000002B852EB8>,\n",
       "        <matplotlib.axes._subplots.AxesSubplot object at 0x000000002B9A2860>,\n",
       "        <matplotlib.axes._subplots.AxesSubplot object at 0x000000002BA02BA8>,\n",
       "        <matplotlib.axes._subplots.AxesSubplot object at 0x000000002BB1F550>,\n",
       "        <matplotlib.axes._subplots.AxesSubplot object at 0x000000002BC2D198>,\n",
       "        <matplotlib.axes._subplots.AxesSubplot object at 0x000000002BCE5C88>],\n",
       "       [<matplotlib.axes._subplots.AxesSubplot object at 0x000000002BDF1630>,\n",
       "        <matplotlib.axes._subplots.AxesSubplot object at 0x000000002BF150F0>,\n",
       "        <matplotlib.axes._subplots.AxesSubplot object at 0x000000002BFD0A58>,\n",
       "        <matplotlib.axes._subplots.AxesSubplot object at 0x000000002C075B70>,\n",
       "        <matplotlib.axes._subplots.AxesSubplot object at 0x000000002C17E5F8>,\n",
       "        <matplotlib.axes._subplots.AxesSubplot object at 0x000000002C1B3C88>,\n",
       "        <matplotlib.axes._subplots.AxesSubplot object at 0x000000002C32BDA0>,\n",
       "        <matplotlib.axes._subplots.AxesSubplot object at 0x000000002C406748>,\n",
       "        <matplotlib.axes._subplots.AxesSubplot object at 0x000000002C4EF9E8>,\n",
       "        <matplotlib.axes._subplots.AxesSubplot object at 0x000000002C5B8390>,\n",
       "        <matplotlib.axes._subplots.AxesSubplot object at 0x000000002C6BEF98>,\n",
       "        <matplotlib.axes._subplots.AxesSubplot object at 0x000000002C7D0B70>],\n",
       "       [<matplotlib.axes._subplots.AxesSubplot object at 0x000000002C8DC518>,\n",
       "        <matplotlib.axes._subplots.AxesSubplot object at 0x000000002C97CE48>,\n",
       "        <matplotlib.axes._subplots.AxesSubplot object at 0x000000002CA467F0>,\n",
       "        <matplotlib.axes._subplots.AxesSubplot object at 0x000000002CB82908>,\n",
       "        <matplotlib.axes._subplots.AxesSubplot object at 0x000000002CC8E2B0>,\n",
       "        <matplotlib.axes._subplots.AxesSubplot object at 0x000000002CCD37F0>,\n",
       "        <matplotlib.axes._subplots.AxesSubplot object at 0x000000002CE0AA90>,\n",
       "        <matplotlib.axes._subplots.AxesSubplot object at 0x000000002CF16438>,\n",
       "        <matplotlib.axes._subplots.AxesSubplot object at 0x000000002D01E780>,\n",
       "        <matplotlib.axes._subplots.AxesSubplot object at 0x000000002D128128>,\n",
       "        <matplotlib.axes._subplots.AxesSubplot object at 0x000000002D194D30>,\n",
       "        <matplotlib.axes._subplots.AxesSubplot object at 0x000000002D2A6860>],\n",
       "       [<matplotlib.axes._subplots.AxesSubplot object at 0x000000002D3B0208>,\n",
       "        <matplotlib.axes._subplots.AxesSubplot object at 0x000000002D452C88>,\n",
       "        <matplotlib.axes._subplots.AxesSubplot object at 0x000000002D5A1630>,\n",
       "        <matplotlib.axes._subplots.AxesSubplot object at 0x000000002D673748>,\n",
       "        <matplotlib.axes._subplots.AxesSubplot object at 0x000000002D77E1D0>,\n",
       "        <matplotlib.axes._subplots.AxesSubplot object at 0x000000002D7B1860>,\n",
       "        <matplotlib.axes._subplots.AxesSubplot object at 0x000000002D92C978>,\n",
       "        <matplotlib.axes._subplots.AxesSubplot object at 0x000000002DA38320>,\n",
       "        <matplotlib.axes._subplots.AxesSubplot object at 0x000000002DADB5C0>,\n",
       "        <matplotlib.axes._subplots.AxesSubplot object at 0x000000002DBA6F28>,\n",
       "        <matplotlib.axes._subplots.AxesSubplot object at 0x000000002DC93B70>,\n",
       "        <matplotlib.axes._subplots.AxesSubplot object at 0x000000002DDA3748>],\n",
       "       [<matplotlib.axes._subplots.AxesSubplot object at 0x000000002DEF10F0>,\n",
       "        <matplotlib.axes._subplots.AxesSubplot object at 0x000000002DF95A20>,\n",
       "        <matplotlib.axes._subplots.AxesSubplot object at 0x000000002E0B33C8>,\n",
       "        <matplotlib.axes._subplots.AxesSubplot object at 0x000000002E1584E0>,\n",
       "        <matplotlib.axes._subplots.AxesSubplot object at 0x000000002E253E48>,\n",
       "        <matplotlib.axes._subplots.AxesSubplot object at 0x000000002E2933C8>,\n",
       "        <matplotlib.axes._subplots.AxesSubplot object at 0x000000002E40F668>,\n",
       "        <matplotlib.axes._subplots.AxesSubplot object at 0x000000002E4DAFD0>,\n",
       "        <matplotlib.axes._subplots.AxesSubplot object at 0x000000002E603358>,\n",
       "        <matplotlib.axes._subplots.AxesSubplot object at 0x000000002E6FECC0>,\n",
       "        <matplotlib.axes._subplots.AxesSubplot object at 0x000000002E765908>,\n",
       "        <matplotlib.axes._subplots.AxesSubplot object at 0x000000002E8BC438>],\n",
       "       [<matplotlib.axes._subplots.AxesSubplot object at 0x000000002E974DA0>,\n",
       "        <matplotlib.axes._subplots.AxesSubplot object at 0x000000002EA67860>,\n",
       "        <matplotlib.axes._subplots.AxesSubplot object at 0x000000002EB73208>,\n",
       "        <matplotlib.axes._subplots.AxesSubplot object at 0x000000002EC18320>,\n",
       "        <matplotlib.axes._subplots.AxesSubplot object at 0x000000002ECD1D68>,\n",
       "        <matplotlib.axes._subplots.AxesSubplot object at 0x000000002ED96438>,\n",
       "        <matplotlib.axes._subplots.AxesSubplot object at 0x000000002EEE1550>,\n",
       "        <matplotlib.axes._subplots.AxesSubplot object at 0x000000002EF9BEB8>,\n",
       "        <matplotlib.axes._subplots.AxesSubplot object at 0x000000002F091198>,\n",
       "        <matplotlib.axes._subplots.AxesSubplot object at 0x000000002F18CB00>,\n",
       "        <matplotlib.axes._subplots.AxesSubplot object at 0x000000002F28D748>,\n",
       "        <matplotlib.axes._subplots.AxesSubplot object at 0x000000002F39E320>],\n",
       "       [<matplotlib.axes._subplots.AxesSubplot object at 0x000000002F457C88>,\n",
       "        <matplotlib.axes._subplots.AxesSubplot object at 0x000000002F5095F8>,\n",
       "        <matplotlib.axes._subplots.AxesSubplot object at 0x000000002F5F7F60>,\n",
       "        <matplotlib.axes._subplots.AxesSubplot object at 0x000000002F6EF0B8>,\n",
       "        <matplotlib.axes._subplots.AxesSubplot object at 0x000000002F7E9A20>,\n",
       "        <matplotlib.axes._subplots.AxesSubplot object at 0x000000002F861F60>,\n",
       "        <matplotlib.axes._subplots.AxesSubplot object at 0x000000002F9E7240>,\n",
       "        <matplotlib.axes._subplots.AxesSubplot object at 0x000000002FAA0BA8>,\n",
       "        <matplotlib.axes._subplots.AxesSubplot object at 0x000000002FB45EF0>,\n",
       "        <matplotlib.axes._subplots.AxesSubplot object at 0x000000002FC85898>,\n",
       "        <matplotlib.axes._subplots.AxesSubplot object at 0x000000002FD724E0>,\n",
       "        <matplotlib.axes._subplots.AxesSubplot object at 0x000000002FE30208>]], dtype=object)"
      ]
     },
     "execution_count": 26,
     "metadata": {},
     "output_type": "execute_result"
    }
   ],
   "source": [
    "scatter_matrix(df, alpha=0.2, figsize=(60, 60), diagonal='kde')"
   ]
  },
  {
   "cell_type": "code",
   "execution_count": null,
   "metadata": {
    "collapsed": true
   },
   "outputs": [],
   "source": []
  },
  {
   "cell_type": "markdown",
   "metadata": {},
   "source": [
    "## Step 3: Cluster the data"
   ]
  },
  {
   "cell_type": "markdown",
   "metadata": {},
   "source": [
    "Run the clustering analysis using scikit-learn.\n",
    "\n",
    "*Hint*: Estimate the number of clusters, k, based on your visual examination of the distributions."
   ]
  },
  {
   "cell_type": "code",
   "execution_count": null,
   "metadata": {
    "collapsed": true
   },
   "outputs": [],
   "source": []
  },
  {
   "cell_type": "markdown",
   "metadata": {},
   "source": [
    "Compute the labels and centroids"
   ]
  },
  {
   "cell_type": "code",
   "execution_count": null,
   "metadata": {
    "collapsed": true
   },
   "outputs": [],
   "source": []
  },
  {
   "cell_type": "markdown",
   "metadata": {},
   "source": [
    "## Step 4: Evaluate the clusters"
   ]
  },
  {
   "cell_type": "markdown",
   "metadata": {},
   "source": [
    "First, go ahead and plot the results of your clustering analysis"
   ]
  },
  {
   "cell_type": "markdown",
   "metadata": {},
   "source": [
    "Plot the clusters"
   ]
  },
  {
   "cell_type": "code",
   "execution_count": null,
   "metadata": {
    "collapsed": true
   },
   "outputs": [],
   "source": []
  },
  {
   "cell_type": "markdown",
   "metadata": {},
   "source": [
    "Plot the predicted vs actual classifcations to see how our clustering analysis compares"
   ]
  },
  {
   "cell_type": "code",
   "execution_count": null,
   "metadata": {
    "collapsed": true
   },
   "outputs": [],
   "source": []
  },
  {
   "cell_type": "markdown",
   "metadata": {},
   "source": [
    "Check the centroids to see where each cluster is lying "
   ]
  },
  {
   "cell_type": "code",
   "execution_count": null,
   "metadata": {
    "collapsed": true
   },
   "outputs": [],
   "source": []
  },
  {
   "cell_type": "markdown",
   "metadata": {},
   "source": [
    "Check the labels of the clusters"
   ]
  },
  {
   "cell_type": "code",
   "execution_count": null,
   "metadata": {
    "collapsed": true
   },
   "outputs": [],
   "source": []
  },
  {
   "cell_type": "markdown",
   "metadata": {},
   "source": [
    "Compute the accuracy score using scikit to see how accurate our analysis is"
   ]
  },
  {
   "cell_type": "code",
   "execution_count": null,
   "metadata": {
    "collapsed": true
   },
   "outputs": [],
   "source": []
  },
  {
   "cell_type": "markdown",
   "metadata": {},
   "source": [
    "Compute the silhoutte coefficient to see how consistent our data is within the clusters"
   ]
  },
  {
   "cell_type": "code",
   "execution_count": null,
   "metadata": {
    "collapsed": true
   },
   "outputs": [],
   "source": []
  },
  {
   "cell_type": "markdown",
   "metadata": {},
   "source": [
    "Calculate the Precision, Recall, and F - Score to see the test's accuracy"
   ]
  },
  {
   "cell_type": "code",
   "execution_count": null,
   "metadata": {
    "collapsed": true
   },
   "outputs": [],
   "source": []
  },
  {
   "cell_type": "markdown",
   "metadata": {},
   "source": [
    "Compute the Confusion Matrix to test the performance of the clustering analysis"
   ]
  },
  {
   "cell_type": "code",
   "execution_count": null,
   "metadata": {
    "collapsed": true
   },
   "outputs": [],
   "source": []
  }
 ],
 "metadata": {
  "kernelspec": {
   "display_name": "Python [Root]",
   "language": "python",
   "name": "Python [Root]"
  },
  "language_info": {
   "codemirror_mode": {
    "name": "ipython",
    "version": 2
   },
   "file_extension": ".py",
   "mimetype": "text/x-python",
   "name": "python",
   "nbconvert_exporter": "python",
   "pygments_lexer": "ipython2",
   "version": "2.7.12"
  }
 },
 "nbformat": 4,
 "nbformat_minor": 0
}
