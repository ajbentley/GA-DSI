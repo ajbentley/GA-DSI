{
 "cells": [
  {
   "cell_type": "markdown",
   "metadata": {},
   "source": [
    "# PCA and DBSCAN codealong\n",
    "\n",
    "---\n",
    "\n",
    "In this detailed codealong/lab we are going to practice and look more extensively at PCA (primarily). If time permits, we will also look at a popular unsupervized learning clustering algorithm called \"Density Based Clustering of Applications with Noise\" (DBSCAN).\n",
    "\n",
    "PCA is one of the more difficult concepts/algorithms in this class to understand well in such a short amount of time, but considering how often people use it to simplify their data, reduce noise in their data, and find unmeasured \"latent variables\", it is important to spend the time to understand what's going on.\n",
    "\n",
    "Hopefully this will help with that!\n",
    "\n",
    "---\n",
    "\n",
    "### How does DBSCAN work?\n",
    "\n",
    "DBSCAN, in a nutshell, groups datapoints together based on \"density\", or in other words how close they are together. Nearby points get assigned to a common cluster, whereas outlier points get assigned to their own clusters. DBSCAN is very effective and attractive for its simplicity and minimal pre-specified conditions; for these reasons it is the most popular clustering algorithm.\n",
    "\n",
    "There are only two parameters that need to be specified for DBSCAN:\n",
    "\n",
    "    eps : a minimum distance between points that can define a \"connection\"\n",
    "    \n",
    "    min_samples : minimum number of points that a point needs to have \n",
    "                  as neighbors to define it as a \"core sample\"\n",
    "    \n",
    "**Core samples** are by design the points that lie internally within a cluster. Non-core samples do not meet the minimum required neighboring points, but are still connected to a cluster defined by a core sample or samples. Hence these points lie on the edges of a cluster.\n",
    "\n",
    "The DBSCAN algorithm proceeds iteratively through the points, determining via the distance measure and minimum samples specified whether points are core samples, edge samples, or outliers (which are not assigned to any cluster).\n",
    "\n",
    "---\n",
    "\n",
    "### Dataset\n",
    "\n",
    "The dataset we are using for this lab is a subset of the [much more detailed speed dating dataset](https://www.kaggle.com/annavictoria/speed-dating-experiment). In particular, this contains no information on the actual speed dating itself (successes with or opinions of other individuals). It also contains no \"follow-up\" information where individuals are re-asked the same questions about themselves. All it contains are things that an individual enjoys doing, their ratings of themselves on how desireable they are, and how they think others rate them on desireability.\n",
    "\n",
    "Specifically, the columns in the data are outlined below:\n",
    "\n",
    "    subject_id                   :   unique individual identifier\n",
    "    like_sports                  :   enjoyment of participating in sports\n",
    "    like_tvsports                :   enjoyment of watching sports on tv\n",
    "    like_exercise                :   enjoyment of exercise\n",
    "    like_food                    :   enjoyment of food\n",
    "    like_museums                 :   enjoyment of museums\n",
    "    like_art                     :   enjoyment of art\n",
    "    like_hiking                  :   enjoyment of hiking\n",
    "    like_gaming                  :   enjoyment of pl aying games\n",
    "    like_clubbing                :   enjoyment of going clubbing/partying\n",
    "    like_reading                 :   enjoyment of reading\n",
    "    like_tv                      :   enjoyment of tv in general\n",
    "    like_theater                 :   enjoyment of the theater (plays, musicals, etc.)\n",
    "    like_movies                  :   enjoyment of movies\n",
    "    like_concerts                :   enjoyment of concerts\n",
    "    like_music                   :   enjoyment of music\n",
    "    like_shopping                :   enjoyment of shopping\n",
    "    like_yoga                    :   enjoyment of yoga\n",
    "    subjective_attractiveness    :   how attractive they rate themselves\n",
    "    subjective_sincerity         :   how sincere they rate themselves\n",
    "    subjective_intelligence      :   how intelligent they rate themselves\n",
    "    subjective_fun               :   how fun they rate themselves\n",
    "    subjective_ambition          :   how ambitious they rate themselves\n",
    "    objective_attractiveness     :   percieved rating others would give them on how attractive they are\n",
    "    objective_sincerity          :   percieved rating others would give them on how sincere they are\n",
    "    objective_intelligence       :   percieved rating others would give them on how intelligent they are\n",
    "    objective_fun                :   percieved rating others would give them on how fun they are\n",
    "    objective_ambition           :   percieved rating others would give them on how ambitious they are\n",
    "    \n",
    "There are 551 subjects total.\n",
    "\n",
    "---"
   ]
  },
  {
   "cell_type": "code",
   "execution_count": null,
   "metadata": {
    "collapsed": true
   },
   "outputs": [],
   "source": []
  }
 ],
 "metadata": {
  "kernelspec": {
   "display_name": "Python 2",
   "language": "python",
   "name": "python2"
  },
  "language_info": {
   "codemirror_mode": {
    "name": "ipython",
    "version": 2
   },
   "file_extension": ".py",
   "mimetype": "text/x-python",
   "name": "python",
   "nbconvert_exporter": "python",
   "pygments_lexer": "ipython2",
   "version": "2.7.11"
  }
 },
 "nbformat": 4,
 "nbformat_minor": 0
}
