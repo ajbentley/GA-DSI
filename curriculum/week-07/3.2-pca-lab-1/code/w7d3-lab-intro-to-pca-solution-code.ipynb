{
 "cells": [
  {
   "cell_type": "code",
   "execution_count": 1,
   "metadata": {
    "collapsed": false
   },
   "outputs": [],
   "source": [
    "import pandas as pd\n",
    "import numpy as np\n",
    "from matplotlib import pyplot as plt\n",
    "import math\n",
    "from sklearn.preprocessing import StandardScaler\n",
    "from sklearn.decomposition import PCA \n",
    "from sklearn import metrics\n",
    "\n",
    "\n",
    "%matplotlib inline"
   ]
  },
  {
   "cell_type": "markdown",
   "metadata": {},
   "source": [
    "# Case #1: Congressional Voting Data"
   ]
  },
  {
   "cell_type": "markdown",
   "metadata": {},
   "source": [
    "After you've downloaded the data from the repository, go ahead and load it with Pandas"
   ]
  },
  {
   "cell_type": "code",
   "execution_count": 2,
   "metadata": {
    "collapsed": false
   },
   "outputs": [],
   "source": [
    "votes = pd.read_csv('../assets/datasets/votes.csv')"
   ]
  },
  {
   "cell_type": "code",
   "execution_count": 3,
   "metadata": {
    "collapsed": false,
    "scrolled": true
   },
   "outputs": [
    {
     "name": "stdout",
     "output_type": "stream",
     "text": [
      "435\n"
     ]
    },
    {
     "data": {
      "text/plain": [
       "232"
      ]
     },
     "execution_count": 3,
     "metadata": {},
     "output_type": "execute_result"
    }
   ],
   "source": [
    "votes.head()\n",
    "print len(votes)\n",
    "votes=votes.dropna(axis=0)\n",
    "votes.head()\n",
    "len(votes)"
   ]
  },
  {
   "cell_type": "markdown",
   "metadata": {},
   "source": [
    "Next, let's define the x and y variables: "
   ]
  },
  {
   "cell_type": "code",
   "execution_count": 4,
   "metadata": {
    "collapsed": false
   },
   "outputs": [
    {
     "data": {
      "text/html": [
       "<div>\n",
       "<table border=\"1\" class=\"dataframe\">\n",
       "  <thead>\n",
       "    <tr style=\"text-align: right;\">\n",
       "      <th></th>\n",
       "      <th>Unnamed: 0</th>\n",
       "      <th>Class</th>\n",
       "      <th>V1</th>\n",
       "      <th>V2</th>\n",
       "      <th>V3</th>\n",
       "      <th>V4</th>\n",
       "      <th>V5</th>\n",
       "      <th>V6</th>\n",
       "      <th>V7</th>\n",
       "      <th>V8</th>\n",
       "      <th>V9</th>\n",
       "      <th>V10</th>\n",
       "      <th>V11</th>\n",
       "      <th>V12</th>\n",
       "      <th>V13</th>\n",
       "      <th>V14</th>\n",
       "      <th>V15</th>\n",
       "      <th>V16</th>\n",
       "    </tr>\n",
       "  </thead>\n",
       "  <tbody>\n",
       "    <tr>\n",
       "      <th>5</th>\n",
       "      <td>6</td>\n",
       "      <td>democrat</td>\n",
       "      <td>n</td>\n",
       "      <td>y</td>\n",
       "      <td>y</td>\n",
       "      <td>n</td>\n",
       "      <td>y</td>\n",
       "      <td>y</td>\n",
       "      <td>n</td>\n",
       "      <td>n</td>\n",
       "      <td>n</td>\n",
       "      <td>n</td>\n",
       "      <td>n</td>\n",
       "      <td>n</td>\n",
       "      <td>y</td>\n",
       "      <td>y</td>\n",
       "      <td>y</td>\n",
       "      <td>y</td>\n",
       "    </tr>\n",
       "    <tr>\n",
       "      <th>8</th>\n",
       "      <td>9</td>\n",
       "      <td>republican</td>\n",
       "      <td>n</td>\n",
       "      <td>y</td>\n",
       "      <td>n</td>\n",
       "      <td>y</td>\n",
       "      <td>y</td>\n",
       "      <td>y</td>\n",
       "      <td>n</td>\n",
       "      <td>n</td>\n",
       "      <td>n</td>\n",
       "      <td>n</td>\n",
       "      <td>n</td>\n",
       "      <td>y</td>\n",
       "      <td>y</td>\n",
       "      <td>y</td>\n",
       "      <td>n</td>\n",
       "      <td>y</td>\n",
       "    </tr>\n",
       "    <tr>\n",
       "      <th>19</th>\n",
       "      <td>20</td>\n",
       "      <td>democrat</td>\n",
       "      <td>y</td>\n",
       "      <td>y</td>\n",
       "      <td>y</td>\n",
       "      <td>n</td>\n",
       "      <td>n</td>\n",
       "      <td>n</td>\n",
       "      <td>y</td>\n",
       "      <td>y</td>\n",
       "      <td>y</td>\n",
       "      <td>n</td>\n",
       "      <td>y</td>\n",
       "      <td>n</td>\n",
       "      <td>n</td>\n",
       "      <td>n</td>\n",
       "      <td>y</td>\n",
       "      <td>y</td>\n",
       "    </tr>\n",
       "    <tr>\n",
       "      <th>23</th>\n",
       "      <td>24</td>\n",
       "      <td>democrat</td>\n",
       "      <td>y</td>\n",
       "      <td>y</td>\n",
       "      <td>y</td>\n",
       "      <td>n</td>\n",
       "      <td>n</td>\n",
       "      <td>n</td>\n",
       "      <td>y</td>\n",
       "      <td>y</td>\n",
       "      <td>y</td>\n",
       "      <td>n</td>\n",
       "      <td>n</td>\n",
       "      <td>n</td>\n",
       "      <td>n</td>\n",
       "      <td>n</td>\n",
       "      <td>y</td>\n",
       "      <td>y</td>\n",
       "    </tr>\n",
       "    <tr>\n",
       "      <th>25</th>\n",
       "      <td>26</td>\n",
       "      <td>democrat</td>\n",
       "      <td>y</td>\n",
       "      <td>n</td>\n",
       "      <td>y</td>\n",
       "      <td>n</td>\n",
       "      <td>n</td>\n",
       "      <td>n</td>\n",
       "      <td>y</td>\n",
       "      <td>y</td>\n",
       "      <td>y</td>\n",
       "      <td>y</td>\n",
       "      <td>n</td>\n",
       "      <td>n</td>\n",
       "      <td>n</td>\n",
       "      <td>n</td>\n",
       "      <td>y</td>\n",
       "      <td>y</td>\n",
       "    </tr>\n",
       "  </tbody>\n",
       "</table>\n",
       "</div>"
      ],
      "text/plain": [
       "    Unnamed: 0       Class V1 V2 V3 V4 V5 V6 V7 V8 V9 V10 V11 V12 V13 V14 V15  \\\n",
       "5            6    democrat  n  y  y  n  y  y  n  n  n   n   n   n   y   y   y   \n",
       "8            9  republican  n  y  n  y  y  y  n  n  n   n   n   y   y   y   n   \n",
       "19          20    democrat  y  y  y  n  n  n  y  y  y   n   y   n   n   n   y   \n",
       "23          24    democrat  y  y  y  n  n  n  y  y  y   n   n   n   n   n   y   \n",
       "25          26    democrat  y  n  y  n  n  n  y  y  y   y   n   n   n   n   y   \n",
       "\n",
       "   V16  \n",
       "5    y  \n",
       "8    y  \n",
       "19   y  \n",
       "23   y  \n",
       "25   y  "
      ]
     },
     "execution_count": 4,
     "metadata": {},
     "output_type": "execute_result"
    }
   ],
   "source": [
    "votes.head()"
   ]
  },
  {
   "cell_type": "code",
   "execution_count": 5,
   "metadata": {
    "collapsed": false
   },
   "outputs": [],
   "source": [
    "def vcheck(x):\n",
    "    vs = str(x)\n",
    "    if \"y\" == vs:\n",
    "        return 1\n",
    "    elif \"n\" == vs:\n",
    "        return 0\n",
    "    \n",
    "v2 = votes.applymap(vcheck)\n",
    " \n",
    "\n",
    "\n",
    "# votes['vcode'] = df['Language'].apply(check_lang);\n"
   ]
  },
  {
   "cell_type": "code",
   "execution_count": 6,
   "metadata": {
    "collapsed": false
   },
   "outputs": [
    {
     "data": {
      "text/html": [
       "<div>\n",
       "<table border=\"1\" class=\"dataframe\">\n",
       "  <thead>\n",
       "    <tr style=\"text-align: right;\">\n",
       "      <th></th>\n",
       "      <th>Unnamed: 0</th>\n",
       "      <th>Class</th>\n",
       "      <th>V1</th>\n",
       "      <th>V2</th>\n",
       "      <th>V3</th>\n",
       "      <th>V4</th>\n",
       "      <th>V5</th>\n",
       "      <th>V6</th>\n",
       "      <th>V7</th>\n",
       "      <th>V8</th>\n",
       "      <th>V9</th>\n",
       "      <th>V10</th>\n",
       "      <th>V11</th>\n",
       "      <th>V12</th>\n",
       "      <th>V13</th>\n",
       "      <th>V14</th>\n",
       "      <th>V15</th>\n",
       "      <th>V16</th>\n",
       "    </tr>\n",
       "  </thead>\n",
       "  <tbody>\n",
       "    <tr>\n",
       "      <th>5</th>\n",
       "      <td>None</td>\n",
       "      <td>None</td>\n",
       "      <td>0</td>\n",
       "      <td>1</td>\n",
       "      <td>1</td>\n",
       "      <td>0</td>\n",
       "      <td>1</td>\n",
       "      <td>1</td>\n",
       "      <td>0</td>\n",
       "      <td>0</td>\n",
       "      <td>0</td>\n",
       "      <td>0</td>\n",
       "      <td>0</td>\n",
       "      <td>0</td>\n",
       "      <td>1</td>\n",
       "      <td>1</td>\n",
       "      <td>1</td>\n",
       "      <td>1</td>\n",
       "    </tr>\n",
       "    <tr>\n",
       "      <th>8</th>\n",
       "      <td>None</td>\n",
       "      <td>None</td>\n",
       "      <td>0</td>\n",
       "      <td>1</td>\n",
       "      <td>0</td>\n",
       "      <td>1</td>\n",
       "      <td>1</td>\n",
       "      <td>1</td>\n",
       "      <td>0</td>\n",
       "      <td>0</td>\n",
       "      <td>0</td>\n",
       "      <td>0</td>\n",
       "      <td>0</td>\n",
       "      <td>1</td>\n",
       "      <td>1</td>\n",
       "      <td>1</td>\n",
       "      <td>0</td>\n",
       "      <td>1</td>\n",
       "    </tr>\n",
       "    <tr>\n",
       "      <th>19</th>\n",
       "      <td>None</td>\n",
       "      <td>None</td>\n",
       "      <td>1</td>\n",
       "      <td>1</td>\n",
       "      <td>1</td>\n",
       "      <td>0</td>\n",
       "      <td>0</td>\n",
       "      <td>0</td>\n",
       "      <td>1</td>\n",
       "      <td>1</td>\n",
       "      <td>1</td>\n",
       "      <td>0</td>\n",
       "      <td>1</td>\n",
       "      <td>0</td>\n",
       "      <td>0</td>\n",
       "      <td>0</td>\n",
       "      <td>1</td>\n",
       "      <td>1</td>\n",
       "    </tr>\n",
       "    <tr>\n",
       "      <th>23</th>\n",
       "      <td>None</td>\n",
       "      <td>None</td>\n",
       "      <td>1</td>\n",
       "      <td>1</td>\n",
       "      <td>1</td>\n",
       "      <td>0</td>\n",
       "      <td>0</td>\n",
       "      <td>0</td>\n",
       "      <td>1</td>\n",
       "      <td>1</td>\n",
       "      <td>1</td>\n",
       "      <td>0</td>\n",
       "      <td>0</td>\n",
       "      <td>0</td>\n",
       "      <td>0</td>\n",
       "      <td>0</td>\n",
       "      <td>1</td>\n",
       "      <td>1</td>\n",
       "    </tr>\n",
       "    <tr>\n",
       "      <th>25</th>\n",
       "      <td>None</td>\n",
       "      <td>None</td>\n",
       "      <td>1</td>\n",
       "      <td>0</td>\n",
       "      <td>1</td>\n",
       "      <td>0</td>\n",
       "      <td>0</td>\n",
       "      <td>0</td>\n",
       "      <td>1</td>\n",
       "      <td>1</td>\n",
       "      <td>1</td>\n",
       "      <td>1</td>\n",
       "      <td>0</td>\n",
       "      <td>0</td>\n",
       "      <td>0</td>\n",
       "      <td>0</td>\n",
       "      <td>1</td>\n",
       "      <td>1</td>\n",
       "    </tr>\n",
       "  </tbody>\n",
       "</table>\n",
       "</div>"
      ],
      "text/plain": [
       "   Unnamed: 0 Class  V1  V2  V3  V4  V5  V6  V7  V8  V9  V10  V11  V12  V13  \\\n",
       "5        None  None   0   1   1   0   1   1   0   0   0    0    0    0    1   \n",
       "8        None  None   0   1   0   1   1   1   0   0   0    0    0    1    1   \n",
       "19       None  None   1   1   1   0   0   0   1   1   1    0    1    0    0   \n",
       "23       None  None   1   1   1   0   0   0   1   1   1    0    0    0    0   \n",
       "25       None  None   1   0   1   0   0   0   1   1   1    1    0    0    0   \n",
       "\n",
       "    V14  V15  V16  \n",
       "5     1    1    1  \n",
       "8     1    0    1  \n",
       "19    0    1    1  \n",
       "23    0    1    1  \n",
       "25    0    1    1  "
      ]
     },
     "execution_count": 6,
     "metadata": {},
     "output_type": "execute_result"
    }
   ],
   "source": [
    "v2.head()"
   ]
  },
  {
   "cell_type": "code",
   "execution_count": 7,
   "metadata": {
    "collapsed": false
   },
   "outputs": [],
   "source": [
    "x = v2.ix[:,2:14].values\n",
    "y = votes.ix[:,1].values"
   ]
  },
  {
   "cell_type": "code",
   "execution_count": 8,
   "metadata": {
    "collapsed": false
   },
   "outputs": [
    {
     "name": "stderr",
     "output_type": "stream",
     "text": [
      "/Users/ajbentley/anaconda/lib/python2.7/site-packages/sklearn/utils/validation.py:420: DataConversionWarning: Data with input dtype int64 was converted to float64 by StandardScaler.\n",
      "  warnings.warn(msg, DataConversionWarning)\n",
      "/Users/ajbentley/anaconda/lib/python2.7/site-packages/sklearn/utils/validation.py:420: DataConversionWarning: Data with input dtype int64 was converted to float64 by StandardScaler.\n",
      "  warnings.warn(msg, DataConversionWarning)\n"
     ]
    }
   ],
   "source": [
    "xStand = StandardScaler().fit_transform(x)"
   ]
  },
  {
   "cell_type": "markdown",
   "metadata": {},
   "source": [
    "Next, create the covariance matrix from the standardized x-values and decompose these values to find the eigenvalues and eigenvectors"
   ]
  },
  {
   "cell_type": "code",
   "execution_count": 11,
   "metadata": {
    "collapsed": false
   },
   "outputs": [],
   "source": [
    "covMat1 = np.cov(xStand.T)\n",
    "eigenValues, eigenVectors = np.linalg.eig(covMat1)"
   ]
  },
  {
   "cell_type": "markdown",
   "metadata": {},
   "source": [
    "Now, let's check the eigenvalues: "
   ]
  },
  {
   "cell_type": "code",
   "execution_count": 12,
   "metadata": {
    "collapsed": false
   },
   "outputs": [
    {
     "name": "stdout",
     "output_type": "stream",
     "text": [
      "[ 5.98641626  1.34559587  1.00591093  0.84131011  0.70467454  0.54652567\n",
      "  0.10793467  0.18802968  0.22236937  0.33057064  0.30421838  0.46839193]\n"
     ]
    }
   ],
   "source": [
    "print(eigenValues)"
   ]
  },
  {
   "cell_type": "markdown",
   "metadata": {},
   "source": [
    "And the eigenvectors: "
   ]
  },
  {
   "cell_type": "code",
   "execution_count": 13,
   "metadata": {
    "collapsed": false
   },
   "outputs": [
    {
     "name": "stdout",
     "output_type": "stream",
     "text": [
      "[[  2.16447105e-01   2.00372933e-01   1.52623519e-01  -6.57735838e-01\n",
      "   -5.88278228e-01   1.35833663e-01  -1.76507800e-02   6.91594282e-02\n",
      "   -2.24380469e-02  -1.93655097e-01   2.22339165e-01   5.81948994e-03]\n",
      " [ -5.14298479e-02   6.60344281e-01   3.36196928e-02  -3.78806441e-01\n",
      "    6.06148287e-01  -1.05574514e-01   2.84934924e-03   3.12284380e-02\n",
      "    9.10218410e-02  -4.00342191e-02  -5.15066761e-02  -1.56812269e-01]\n",
      " [  3.29292550e-01   5.59615306e-02  -1.11199233e-01   4.27399041e-03\n",
      "    1.08087655e-01   4.96004063e-01  -1.59380800e-01   8.72626424e-02\n",
      "    4.06772084e-02   7.07326775e-01   2.82839744e-01  -5.80265831e-02]\n",
      " [ -3.45762494e-01  -1.36473623e-01   7.13202167e-02  -1.71190461e-01\n",
      "    1.22031337e-02  -2.71169015e-01  -3.30050667e-01  -1.19967267e-01\n",
      "   -6.34919025e-01   2.21114187e-01   2.50686749e-01  -3.39949795e-01]\n",
      " [ -3.77129953e-01   2.96144319e-02  -4.06062368e-02  -1.11437673e-01\n",
      "   -1.29007859e-01   1.17807013e-01   8.16638279e-01   9.65715638e-02\n",
      "   -1.16078325e-01   3.03973159e-01  -8.28143504e-02  -1.52810410e-01]\n",
      " [ -2.96373089e-01   1.22367642e-01  -2.98503918e-01   1.57016743e-01\n",
      "    4.94988065e-02   6.70669352e-01  -1.10647058e-01   1.08110343e-01\n",
      "   -2.47463794e-01  -4.70015627e-01   9.54234465e-02  -1.26465507e-01]\n",
      " [  3.13046166e-01  -1.51675610e-01   9.07348267e-02   3.40337047e-02\n",
      "   -5.45721255e-02   5.39422791e-02  -1.92703735e-02   1.06865873e-01\n",
      "    9.07637281e-02  -8.57484363e-02  -3.85601438e-01  -8.29244620e-01]\n",
      " [  3.65997111e-01  -3.57125331e-02  -3.59121946e-03   8.26750870e-02\n",
      "    1.65170018e-01   2.99664896e-02   3.58867043e-01  -6.85462307e-01\n",
      "   -1.28533273e-01  -2.09432400e-01   3.91418048e-01  -1.32320020e-01]\n",
      " [  3.57319863e-01  -9.93574212e-02  -1.41064425e-02   1.05903289e-01\n",
      "    2.01510549e-01  -2.23929453e-01   2.34986612e-01   6.76698783e-01\n",
      "   -2.98303854e-01  -1.85717050e-01   3.50061422e-01   3.35597446e-02]\n",
      " [  3.37129104e-02  -4.12573681e-01  -7.42719417e-01  -4.68286950e-01\n",
      "    1.60745753e-01  -1.03264343e-01  -7.71342792e-04  -2.66464319e-02\n",
      "    1.28562104e-01  -3.09985825e-02  -5.41297531e-02   9.43881892e-03]\n",
      " [  9.28438271e-02   5.21991223e-01  -5.51513236e-01   3.36011342e-01\n",
      "   -3.97721749e-01  -3.33053684e-01  -2.91460390e-02  -2.66294715e-02\n",
      "   -3.57025144e-02   8.95516041e-02   4.69784532e-02  -1.40241275e-01]\n",
      " [ -3.50814078e-01  -9.66636918e-02   5.59178058e-02   7.80188077e-02\n",
      "   -2.64655053e-02  -1.07862227e-01  -3.12746309e-02   1.02964258e-01\n",
      "    6.16583586e-01  -6.07617845e-02   5.99608021e-01  -3.01762096e-01]]\n"
     ]
    }
   ],
   "source": [
    "print(eigenVectors)"
   ]
  },
  {
   "cell_type": "markdown",
   "metadata": {},
   "source": [
    "To find the principal componants, find the eigenpairs, and sort them from highest to lowest. "
   ]
  },
  {
   "cell_type": "code",
   "execution_count": 18,
   "metadata": {
    "collapsed": false
   },
   "outputs": [
    {
     "name": "stdout",
     "output_type": "stream",
     "text": [
      "5.98641626143\n",
      "1.34559586978\n",
      "1.00591092861\n",
      "0.841310113295\n",
      "0.704674536358\n",
      "0.546525670617\n",
      "0.468391933877\n",
      "0.330570641824\n",
      "0.304218377388\n",
      "0.222369372326\n",
      "0.188029678945\n",
      "0.107934667498\n"
     ]
    }
   ],
   "source": [
    "eigenPairs = [(np.abs(eigenValues[i]), eigenVectors[:,i]) for i in range(len(eigenValues))]\n",
    "eigenPairs.sort()\n",
    "eigenPairs.reverse()\n",
    "for i in eigenPairs:\n",
    "    print(i[0])"
   ]
  },
  {
   "cell_type": "markdown",
   "metadata": {
    "collapsed": true
   },
   "source": [
    "Now, calculate the explained variance. Recall the methods we learned in lesson 2.2!"
   ]
  },
  {
   "cell_type": "code",
   "execution_count": 19,
   "metadata": {
    "collapsed": true
   },
   "outputs": [],
   "source": [
    "totalEigen = sum(eigenValues)\n",
    "varExpl = [(i / totalEigen)*100 for i in sorted(eigenValues, reverse=True)]"
   ]
  },
  {
   "cell_type": "code",
   "execution_count": 20,
   "metadata": {
    "collapsed": false
   },
   "outputs": [
    {
     "name": "stdout",
     "output_type": "stream",
     "text": [
      "[49.67177285888792, 11.164965729833389, 8.3464592136806353, 6.9806981383280631, 5.84697621762521, 4.5347496376634355, 3.8864416927284582, 2.7428814030625133, 2.5242257606522074, 1.8450906970989365, 1.5601600515885756, 0.89557859885066493]\n"
     ]
    }
   ],
   "source": [
    "print(varExpl)"
   ]
  },
  {
   "cell_type": "markdown",
   "metadata": {},
   "source": [
    "Now, calculate the explained variance and the Cumulative explained variance"
   ]
  },
  {
   "cell_type": "code",
   "execution_count": 21,
   "metadata": {
    "collapsed": true
   },
   "outputs": [],
   "source": [
    "cvarex = np.cumsum(varExpl)"
   ]
  },
  {
   "cell_type": "code",
   "execution_count": 22,
   "metadata": {
    "collapsed": false
   },
   "outputs": [
    {
     "name": "stdout",
     "output_type": "stream",
     "text": [
      "[  49.67177286   60.83673859   69.1831978    76.16389594   82.01087216\n",
      "   86.5456218    90.43206349   93.17494489   95.69917065   97.54426135\n",
      "   99.1044214   100.        ]\n"
     ]
    }
   ],
   "source": [
    "print(cvarex)"
   ]
  },
  {
   "cell_type": "markdown",
   "metadata": {},
   "source": [
    "Now, conduct the PCA using scikit learn"
   ]
  },
  {
   "cell_type": "code",
   "execution_count": 23,
   "metadata": {
    "collapsed": true
   },
   "outputs": [],
   "source": [
    "PCA_set = PCA(n_components=5)\n",
    "X = PCA_set.fit_transform(xStand)"
   ]
  },
  {
   "cell_type": "markdown",
   "metadata": {},
   "source": [
    "# Case #2: Airport Delays"
   ]
  },
  {
   "cell_type": "code",
   "execution_count": 24,
   "metadata": {
    "collapsed": false
   },
   "outputs": [],
   "source": [
    "airports = pd.read_csv('../assets/datasets/airport_operations.csv')"
   ]
  },
  {
   "cell_type": "code",
   "execution_count": 25,
   "metadata": {
    "collapsed": false
   },
   "outputs": [
    {
     "data": {
      "text/html": [
       "<div>\n",
       "<table border=\"1\" class=\"dataframe\">\n",
       "  <thead>\n",
       "    <tr style=\"text-align: right;\">\n",
       "      <th></th>\n",
       "      <th>airport</th>\n",
       "      <th>year</th>\n",
       "      <th>departures for metric computation</th>\n",
       "      <th>arrivals for metric computation</th>\n",
       "      <th>percent on-time gate departures</th>\n",
       "      <th>percent on-time airport departures</th>\n",
       "      <th>percent on-time gate arrivals</th>\n",
       "      <th>average_gate_departure_delay</th>\n",
       "      <th>average_taxi_out_time</th>\n",
       "      <th>average taxi out delay</th>\n",
       "      <th>average airport departure delay</th>\n",
       "      <th>average airborne delay</th>\n",
       "      <th>average taxi in delay</th>\n",
       "      <th>average block delay</th>\n",
       "      <th>average gate arrival delay</th>\n",
       "    </tr>\n",
       "  </thead>\n",
       "  <tbody>\n",
       "    <tr>\n",
       "      <th>0</th>\n",
       "      <td>ABQ</td>\n",
       "      <td>2004</td>\n",
       "      <td>53971</td>\n",
       "      <td>53818</td>\n",
       "      <td>0.8030</td>\n",
       "      <td>0.7809</td>\n",
       "      <td>0.7921</td>\n",
       "      <td>10.38</td>\n",
       "      <td>9.89</td>\n",
       "      <td>2.43</td>\n",
       "      <td>12.10</td>\n",
       "      <td>2.46</td>\n",
       "      <td>0.83</td>\n",
       "      <td>2.55</td>\n",
       "      <td>10.87</td>\n",
       "    </tr>\n",
       "    <tr>\n",
       "      <th>1</th>\n",
       "      <td>ABQ</td>\n",
       "      <td>2005</td>\n",
       "      <td>51829</td>\n",
       "      <td>51877</td>\n",
       "      <td>0.8140</td>\n",
       "      <td>0.7922</td>\n",
       "      <td>0.8001</td>\n",
       "      <td>9.60</td>\n",
       "      <td>9.79</td>\n",
       "      <td>2.29</td>\n",
       "      <td>11.20</td>\n",
       "      <td>2.26</td>\n",
       "      <td>0.89</td>\n",
       "      <td>2.34</td>\n",
       "      <td>10.24</td>\n",
       "    </tr>\n",
       "    <tr>\n",
       "      <th>2</th>\n",
       "      <td>ABQ</td>\n",
       "      <td>2006</td>\n",
       "      <td>49682</td>\n",
       "      <td>51199</td>\n",
       "      <td>0.7983</td>\n",
       "      <td>0.7756</td>\n",
       "      <td>0.7746</td>\n",
       "      <td>10.84</td>\n",
       "      <td>9.89</td>\n",
       "      <td>2.16</td>\n",
       "      <td>12.33</td>\n",
       "      <td>2.12</td>\n",
       "      <td>0.84</td>\n",
       "      <td>2.66</td>\n",
       "      <td>11.82</td>\n",
       "    </tr>\n",
       "    <tr>\n",
       "      <th>3</th>\n",
       "      <td>ABQ</td>\n",
       "      <td>2007</td>\n",
       "      <td>53255</td>\n",
       "      <td>53611</td>\n",
       "      <td>0.8005</td>\n",
       "      <td>0.7704</td>\n",
       "      <td>0.7647</td>\n",
       "      <td>11.29</td>\n",
       "      <td>10.34</td>\n",
       "      <td>2.40</td>\n",
       "      <td>12.95</td>\n",
       "      <td>2.19</td>\n",
       "      <td>1.29</td>\n",
       "      <td>3.06</td>\n",
       "      <td>12.71</td>\n",
       "    </tr>\n",
       "    <tr>\n",
       "      <th>4</th>\n",
       "      <td>ABQ</td>\n",
       "      <td>2008</td>\n",
       "      <td>49589</td>\n",
       "      <td>49512</td>\n",
       "      <td>0.8103</td>\n",
       "      <td>0.7844</td>\n",
       "      <td>0.7875</td>\n",
       "      <td>10.79</td>\n",
       "      <td>10.41</td>\n",
       "      <td>2.41</td>\n",
       "      <td>12.32</td>\n",
       "      <td>1.82</td>\n",
       "      <td>1.03</td>\n",
       "      <td>2.79</td>\n",
       "      <td>11.48</td>\n",
       "    </tr>\n",
       "  </tbody>\n",
       "</table>\n",
       "</div>"
      ],
      "text/plain": [
       "  airport  year  departures for metric computation  \\\n",
       "0     ABQ  2004                              53971   \n",
       "1     ABQ  2005                              51829   \n",
       "2     ABQ  2006                              49682   \n",
       "3     ABQ  2007                              53255   \n",
       "4     ABQ  2008                              49589   \n",
       "\n",
       "   arrivals for metric computation  percent on-time gate departures  \\\n",
       "0                            53818                           0.8030   \n",
       "1                            51877                           0.8140   \n",
       "2                            51199                           0.7983   \n",
       "3                            53611                           0.8005   \n",
       "4                            49512                           0.8103   \n",
       "\n",
       "   percent on-time airport departures  percent on-time gate arrivals  \\\n",
       "0                              0.7809                         0.7921   \n",
       "1                              0.7922                         0.8001   \n",
       "2                              0.7756                         0.7746   \n",
       "3                              0.7704                         0.7647   \n",
       "4                              0.7844                         0.7875   \n",
       "\n",
       "   average_gate_departure_delay  average_taxi_out_time  \\\n",
       "0                         10.38                   9.89   \n",
       "1                          9.60                   9.79   \n",
       "2                         10.84                   9.89   \n",
       "3                         11.29                  10.34   \n",
       "4                         10.79                  10.41   \n",
       "\n",
       "   average taxi out delay  average airport departure delay  \\\n",
       "0                    2.43                            12.10   \n",
       "1                    2.29                            11.20   \n",
       "2                    2.16                            12.33   \n",
       "3                    2.40                            12.95   \n",
       "4                    2.41                            12.32   \n",
       "\n",
       "   average airborne delay  average taxi in delay  average block delay  \\\n",
       "0                    2.46                   0.83                 2.55   \n",
       "1                    2.26                   0.89                 2.34   \n",
       "2                    2.12                   0.84                 2.66   \n",
       "3                    2.19                   1.29                 3.06   \n",
       "4                    1.82                   1.03                 2.79   \n",
       "\n",
       "   average gate arrival delay  \n",
       "0                       10.87  \n",
       "1                       10.24  \n",
       "2                       11.82  \n",
       "3                       12.71  \n",
       "4                       11.48  "
      ]
     },
     "execution_count": 25,
     "metadata": {},
     "output_type": "execute_result"
    }
   ],
   "source": [
    "airports.head()"
   ]
  },
  {
   "cell_type": "markdown",
   "metadata": {},
   "source": [
    "First, let's define the x and y variables: Airport is going to be our target variable."
   ]
  },
  {
   "cell_type": "code",
   "execution_count": 26,
   "metadata": {
    "collapsed": true
   },
   "outputs": [],
   "source": [
    "x2 = airports.ix[:,2:14].values\n",
    "y2 = airports.ix[:,0].values"
   ]
  },
  {
   "cell_type": "markdown",
   "metadata": {},
   "source": [
    "Then, standardize the x variable for analysis"
   ]
  },
  {
   "cell_type": "code",
   "execution_count": 27,
   "metadata": {
    "collapsed": false
   },
   "outputs": [],
   "source": [
    "xStand = StandardScaler().fit_transform(x2)"
   ]
  },
  {
   "cell_type": "markdown",
   "metadata": {},
   "source": [
    "Next, create the covariance matrix from the standardized x-values and decompose these values to find the eigenvalues and eigenvectors"
   ]
  },
  {
   "cell_type": "code",
   "execution_count": 28,
   "metadata": {
    "collapsed": false
   },
   "outputs": [],
   "source": [
    "covMat = np.cov(xStand.T)\n",
    "eigenValues2, eigenVectors2 = np.linalg.eig(covMat)"
   ]
  },
  {
   "cell_type": "markdown",
   "metadata": {},
   "source": [
    "Then, check your eigenvalues and eigenvectors:"
   ]
  },
  {
   "cell_type": "code",
   "execution_count": 29,
   "metadata": {
    "collapsed": false
   },
   "outputs": [
    {
     "name": "stdout",
     "output_type": "stream",
     "text": [
      "[  5.71594128e+00   4.10771763e+00   8.46070622e-01   4.92674626e-01\n",
      "   4.68096266e-01   1.66713004e-01   8.78260266e-02   7.27989129e-02\n",
      "   5.25813963e-02   2.99299918e-03   1.67049793e-04   7.05899593e-04]\n",
      "[[ -1.92844661e-01  -3.85272521e-01  -4.00175037e-01  -1.64039585e-01\n",
      "    1.86296653e-01   2.78156147e-01   7.86539360e-02   3.17041164e-02\n",
      "    7.52767812e-02  -1.14438376e-02  -7.07864735e-01  -3.44682322e-02]\n",
      " [ -1.92353674e-01  -3.85057896e-01  -4.02190449e-01  -1.66802678e-01\n",
      "    1.84403875e-01   2.78351867e-01   9.04981279e-02   3.77083630e-02\n",
      "    8.09001581e-02   1.35190021e-02   7.04235896e-01   3.71215770e-02]\n",
      " [  2.87689649e-01  -3.33455724e-01   2.51323774e-01   8.13357968e-02\n",
      "    7.50865080e-03   2.37735910e-02  -5.78177983e-02   1.41563250e-02\n",
      "    4.95309257e-01  -6.57324120e-01   2.23495764e-02  -2.32792117e-01]\n",
      " [  3.80590914e-01  -1.72431188e-01   8.79462334e-02   7.06458258e-02\n",
      "    2.02464908e-01   3.45123821e-03  -3.15914078e-01   9.30547916e-02\n",
      "    4.84973886e-01   6.09336471e-01  -2.20444648e-02   2.37173471e-01]\n",
      " [  2.85894088e-01  -3.36301043e-01   2.99134199e-02  -1.59518162e-01\n",
      "   -5.12469346e-02  -3.06233643e-02  -2.07043287e-01  -7.87364899e-01\n",
      "   -3.33260534e-01   3.67949391e-02   5.48464537e-03  -2.08419184e-03]\n",
      " [ -3.19365327e-01   2.95222542e-01  -1.95276008e-01  -1.86885012e-02\n",
      "   -6.65872405e-02  -1.22212120e-03  -3.92604115e-01  -2.75502523e-01\n",
      "    3.45228298e-01   1.45513297e-01   3.21025839e-02  -6.29686589e-01]\n",
      " [ -2.72077655e-01  -3.05263296e-01   3.04479989e-01   8.35800429e-02\n",
      "   -3.43919599e-01   3.23409367e-01  -5.80326612e-01   3.07776351e-01\n",
      "   -2.80010662e-01   1.33496666e-02   4.13102202e-03   1.06566875e-02]\n",
      " [ -2.47982235e-01  -3.23707493e-01   3.51187640e-01   5.81869499e-02\n",
      "   -4.19037265e-01  -9.28961663e-03   5.54308167e-01  -1.38404356e-01\n",
      "    2.06344540e-01   3.59873452e-01  -1.87008221e-03  -1.81155973e-01]\n",
      " [ -3.92056250e-01   1.36959631e-01  -3.70775090e-02  -5.58230767e-03\n",
      "   -2.41434941e-01  -9.92247360e-03  -1.20046325e-01  -3.26214034e-01\n",
      "    3.80279739e-01  -2.09531398e-01  -2.99779163e-02   6.76385459e-01]\n",
      " [ -2.98989675e-01  -5.16452073e-02   4.41081814e-01  -6.79759440e-01\n",
      "    3.90490913e-01  -2.98369590e-01  -7.22260624e-02   6.46423217e-02\n",
      "    1.98264161e-02  -2.73459390e-03   4.22755339e-04  -2.88803204e-03]\n",
      " [ -1.90359458e-01  -3.77174733e-01  -2.61070489e-01   3.01434755e-01\n",
      "   -2.21947423e-02  -7.90128611e-01  -1.41945294e-01   1.16128252e-01\n",
      "   -6.20250983e-02  -1.36797121e-02   1.79745348e-03  -3.77383032e-03]\n",
      " [ -3.15603375e-01  -2.13859116e-02   2.96733113e-01   5.86965005e-01\n",
      "    6.14850169e-01   1.59771754e-01   4.07605103e-02  -2.34320642e-01\n",
      "   -8.47086808e-02  -2.68694989e-03   3.24845461e-03   5.48054975e-03]]\n"
     ]
    }
   ],
   "source": [
    "print(eigenValues2)\n",
    "print(eigenVectors2)"
   ]
  },
  {
   "cell_type": "markdown",
   "metadata": {},
   "source": [
    "To find the principal componants, find the eigenpairs, and sort them from highest to lowest. "
   ]
  },
  {
   "cell_type": "code",
   "execution_count": 30,
   "metadata": {
    "collapsed": false
   },
   "outputs": [
    {
     "name": "stdout",
     "output_type": "stream",
     "text": [
      "5.71594128131\n",
      "4.10771763057\n",
      "0.846070621527\n",
      "0.492674626426\n",
      "0.468096266456\n",
      "0.166713003709\n",
      "0.0878260265801\n",
      "0.0727989128724\n",
      "0.0525813962709\n",
      "0.0029929991831\n",
      "0.000705899593354\n",
      "0.000167049792638\n"
     ]
    }
   ],
   "source": [
    "eigenPairs2 = [(np.abs(eigenValues2[i]), eigenVectors2[:,i]) for i in range(len(eigenValues2))]\n",
    "eigenPairs2.sort()\n",
    "eigenPairs2.reverse()\n",
    "for i in eigenPairs2:\n",
    "    print(i[0])"
   ]
  },
  {
   "cell_type": "markdown",
   "metadata": {},
   "source": [
    "Next, Calculate the explained variance"
   ]
  },
  {
   "cell_type": "code",
   "execution_count": 31,
   "metadata": {
    "collapsed": false
   },
   "outputs": [],
   "source": [
    "totalEigen = sum(eigenValues2)\n",
    "varExpl = [(i / totalEigen)*100 for i in sorted(eigenValues2, reverse=True)]\n",
    "cumulvarExpl = np.cumsum(varExpl)"
   ]
  },
  {
   "cell_type": "code",
   "execution_count": 32,
   "metadata": {
    "collapsed": false
   },
   "outputs": [
    {
     "name": "stdout",
     "output_type": "stream",
     "text": [
      "[ 47.57620567  81.76648321  88.80868815  92.9094282   96.80559213\n",
      "  98.19321523  98.92422853  99.53016479  99.96782207  99.99273407\n",
      "  99.99860957 100.        ]\n"
     ]
    }
   ],
   "source": [
    "print(cumulvarExpl)"
   ]
  },
  {
   "cell_type": "markdown",
   "metadata": {},
   "source": [
    "Finally, conduct the PCA - use the results above to guide your selection of n components"
   ]
  },
  {
   "cell_type": "code",
   "execution_count": 34,
   "metadata": {
    "collapsed": false
   },
   "outputs": [
    {
     "data": {
      "text/plain": [
       "array([[-2.08669639,  0.42693771, -0.07114673],\n",
       "       [-2.44053404,  0.29445167,  0.01200508],\n",
       "       [-2.03388475,  0.63058527,  0.08050235],\n",
       "       ..., \n",
       "       [ 4.53001134,  6.48010081,  1.17827769],\n",
       "       [ 3.95447158,  6.4383177 ,  1.92397082],\n",
       "       [ 4.46838891,  6.34309961,  1.33541883]])"
      ]
     },
     "execution_count": 34,
     "metadata": {},
     "output_type": "execute_result"
    }
   ],
   "source": [
    "airports_pca = PCA(n_components=3)\n",
    "airports_pca.fit(xStand)\n",
    "X = airports_pca.transform(xStand)\n",
    "\n",
    "X"
   ]
  }
 ],
 "metadata": {
  "anaconda-cloud": {},
  "kernelspec": {
   "display_name": "Python [conda root]",
   "language": "python",
   "name": "conda-root-py"
  },
  "language_info": {
   "codemirror_mode": {
    "name": "ipython",
    "version": 2
   },
   "file_extension": ".py",
   "mimetype": "text/x-python",
   "name": "python",
   "nbconvert_exporter": "python",
   "pygments_lexer": "ipython2",
   "version": "2.7.12"
  }
 },
 "nbformat": 4,
 "nbformat_minor": 0
}
