{
 "cells": [
  {
   "cell_type": "markdown",
   "metadata": {},
   "source": [
    "\n",
    "# ![](https://ga-dash.s3.amazonaws.com/production/assets/logo-9f88ae6c9c3871690e33280fcf557f33.png) Data visualization: design and implementation practice\n",
    "Week 12 | Exercise 1.0\n",
    "\n"
   ]
  },
  {
   "cell_type": "markdown",
   "metadata": {},
   "source": [
    "## Introduction\n",
    "\n",
    "In this folder are five CSVs, each with data on a single customer of a cellular phone plan.$^*$\n",
    "\n",
    "Some non-obvious feature names are:\n",
    "- vc = voice call\n",
    "- rc_amount = amount recharged\n",
    "- offerAmount = minimum recharge amount to qualify for special marketing offer\n",
    "\n",
    "And here are some [helpful reminders](https://cdn2.hubspot.net/hub/53/file-863940581-pdf/Data_Visualization_101_How_to_Design_Charts_and_Graphs.pdf) of best practice for basic visualizations. (Except they call choropleths \"heat maps\"...)\n",
    "\n",
    "$^*$ This is sourced from an online contest."
   ]
  },
  {
   "cell_type": "markdown",
   "metadata": {},
   "source": [
    "## Challenge\n",
    "\n",
    "Visualize this! You may use any tool you want, although Python + visualization libraries are encouraged.\n",
    "\n",
    "Think about:\n",
    "\n",
    "- What information you want to represent\n",
    "- Who would use this information, and how\n",
    "- Making this presentation tidy and intuitive\n",
    "- What would happen if you had lots more data of the same format\n",
    "- What would happen if your client had more data of a slightly different format"
   ]
  }
 ],
 "metadata": {
  "anaconda-cloud": {},
  "kernelspec": {
   "display_name": "Python [default]",
   "language": "python",
   "name": "python2"
  },
  "language_info": {
   "codemirror_mode": {
    "name": "ipython",
    "version": 2
   },
   "file_extension": ".py",
   "mimetype": "text/x-python",
   "name": "python",
   "nbconvert_exporter": "python",
   "pygments_lexer": "ipython2",
   "version": "2.7.12"
  }
 },
 "nbformat": 4,
 "nbformat_minor": 0
}
