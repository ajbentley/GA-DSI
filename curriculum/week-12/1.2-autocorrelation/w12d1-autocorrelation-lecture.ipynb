{
 "cells": [
  {
   "cell_type": "markdown",
   "metadata": {
    "slideshow": {
     "slide_type": "slide"
    }
   },
   "source": [
    "# ![](https://ga-dash.s3.amazonaws.com/production/assets/logo-9f88ae6c9c3871690e33280fcf557f33.png) Autocorrelation & Time Series Data\n",
    "Week 12 | Lesson 1.2\n",
    "\n"
   ]
  },
  {
   "cell_type": "markdown",
   "metadata": {
    "slideshow": {
     "slide_type": "slide"
    }
   },
   "source": [
    "### LEARNING OBJECTIVES\n",
    "\n",
    "*After this lesson, you will be able to:*\n",
    "- Explain the components of time series data\n",
    "- Explain autocorrelation from mathematical, technological and practical perspectives\n",
    "- Measure autocorrelation in Pandas"
   ]
  },
  {
   "cell_type": "markdown",
   "metadata": {
    "slideshow": {
     "slide_type": "slide"
    }
   },
   "source": [
    "### LESSON GUIDE\n",
    "| TIMING  | TYPE  | TOPIC  |\n",
    "|:-:|---|---|\n",
    "| 5 min  | [Opening](#opening)  | Time series  |\n",
    "| 15 min  | [Introduction](#intro-trend-season)   | Trend and Seasonality  |\n",
    "| 65 min  | [Demo/Codealong](#demo-autocor)  | Autocorrelation  |\n",
    "| 5 min  | [Conclusion](#conclusion)  | Topic description  |\n",
    "\n",
    "---\n",
    "\n"
   ]
  },
  {
   "cell_type": "markdown",
   "metadata": {
    "slideshow": {
     "slide_type": "slide"
    }
   },
   "source": [
    "<a name=\"opening\"></a>\n",
    "## Opening (5 mins)\n",
    "\n",
    "> **Check** What are some real world scenarios where time series data analysis is useful?\n",
    "\n"
   ]
  },
  {
   "cell_type": "markdown",
   "metadata": {
    "slideshow": {
     "slide_type": "slide"
    }
   },
   "source": [
    "In this lesson, we will discuss statistics associated with data that change over time, and how to analyze that change. Key concepts include:\n",
    "\n",
    "- Trends\n",
    "- Seasonality\n",
    "- Autocorrelation\n",
    "\n",
    "Tomorrow we introduce ARIMA models, which integrate some of these components to do forecasting."
   ]
  },
  {
   "cell_type": "markdown",
   "metadata": {
    "slideshow": {
     "slide_type": "slide"
    }
   },
   "source": [
    "<a name=\"intro-trend-season\"></a>\n",
    "## Introduction: Trend and Seasonality (15 mins)\n",
    "\n",
    "**QUESTION:** What constitutes a trend in data? Is linearity required for trend?"
   ]
  },
  {
   "cell_type": "markdown",
   "metadata": {
    "slideshow": {
     "slide_type": "slide"
    }
   },
   "source": [
    "- A trend is any long-term change in the value we're measuring. Trends may “change direction”, going from an increasing trend to a decreasing trend.\n",
    "\n",
    "- Trend can only be measured in the scope of the data collected; there may be trends that are unmeasureable if the data are not complete.\n",
    "\n",
    "An example of an upward trend:\n",
    "![](./assets/images/trend-line2.png)\n"
   ]
  },
  {
   "cell_type": "markdown",
   "metadata": {
    "slideshow": {
     "slide_type": "slide"
    }
   },
   "source": [
    "When patterns repeat over *known, fixed periods* of time within the data set, we call this **seasonality**.\n",
    "\n",
    "A seasonal pattern exists when a series is influenced by factors relating to the cyclic nature of time - i.e. time of month, quarter, year, etc. Seasonality is of a fixed and known period, otherwise it is not truly seasonality, and must be either attributed to another factor or counted as a set of anomalous events in the data."
   ]
  },
  {
   "cell_type": "markdown",
   "metadata": {
    "slideshow": {
     "slide_type": "slide"
    }
   },
   "source": [
    "![](./assets/images/seasonality_decreasing_trend.png)"
   ]
  },
  {
   "cell_type": "markdown",
   "metadata": {
    "slideshow": {
     "slide_type": "slide"
    }
   },
   "source": [
    "The easiest way to visualize trends is by drawing trend lines. Please open the [trendlines](./w12d1-trendline-codealong-workbook.ipynb) notebook for this demonstration."
   ]
  },
  {
   "cell_type": "markdown",
   "metadata": {
    "slideshow": {
     "slide_type": "slide"
    }
   },
   "source": [
    "<a name=\"demo-autocor\"></a>\n",
    "## Demo/Codealong: Autocorrelation (65 mins)\n",
    "\n",
    "#### What is Autocorrelation?\n",
    "\n",
    "While in previous weeks, our analyses has been concerned with the correlation between two or more variables (height and weight, education and salary, etc.), in time series data, autocorrelation is a measure of _how correlated a variable is with itself_.\n",
    "\n",
    "Specifically, autocorrelation measures how closely related earlier values are with values occurring later in time."
   ]
  },
  {
   "cell_type": "markdown",
   "metadata": {
    "slideshow": {
     "slide_type": "slide"
    }
   },
   "source": [
    "#### How do we compute Autocorrelation?\n",
    "\n",
    "\n",
    "${\\Huge R(k) = \\frac{\\operatorname{E}[(X_{t} - \\mu)(X_{t-k} - \\mu)]}{\\sigma^2}}^*$\n",
    "\n",
    "To compute autocorrelation, we fix a lag _k_ which is the delta between the given point and the prior point used to compute the [correlation](https://en.wikipedia.org/wiki/Pearson_product-moment_correlation_coefficient).\n",
    "\n",
    "With a _k_ value of 1, we'd compute how correlated a value is with the prior one. With a _k_ value of 10, we'd compute how correlated a variable is with one 10 time points earlier.\n",
    "\n",
    "$^*$ Note that this formula assumes *stationarity*, which we'll talk about tomorrow."
   ]
  },
  {
   "cell_type": "markdown",
   "metadata": {
    "slideshow": {
     "slide_type": "slide"
    }
   },
   "source": [
    "#### Codealong\n",
    "\n",
    "We will be using data made available by a German drugstore, Rossmann. This data contains the daily sales made at the drugstore as well as whether a sale or holiday affected the sales data.\n",
    "\n",
    "Please open the [autocorrelation](./w12d1-autocorrelation-codealong-workbook.ipynb) notebook.\n",
    "\n"
   ]
  },
  {
   "cell_type": "markdown",
   "metadata": {
    "slideshow": {
     "slide_type": "slide"
    }
   },
   "source": [
    "#### Loading the data\n",
    "\n",
    "As with previous datasets, we can use Pandas to load our data:\n",
    "\n",
    "```python\n",
    "import pandas as pd\n",
    "\n",
    "data = pd.read_csv('assets/datasets/rossmann.csv', skipinitialspace=True)\n",
    "```\n",
    "\n",
    "Because we are most interested in the `Date` column (which contains the date of sales for each store), we will make sure to process that as a `DateTime` type, and make it the index of our dataframe.\n",
    "\n",
    "```python\n",
    "\n",
    "data['Date'] = pd.to_datetime(data['Date'])\n",
    "data.set_index('Date', inplace=True)\n",
    "\n",
    "data['Year'] = data.index.year\n",
    "data['Month'] = data.index.month\n",
    "```"
   ]
  },
  {
   "cell_type": "markdown",
   "metadata": {
    "slideshow": {
     "slide_type": "slide"
    }
   },
   "source": [
    "This allows us to easily filter by date as well. For example, we can filter to a particular year:\n",
    "\n",
    "```python\n",
    "data['2014']\n",
    "```\n",
    "\n",
    "Or to a particular month:\n",
    "\n",
    "```python\n",
    "data['2015-05']\n",
    "```\n",
    "\n",
    "There are over a million sales data points in this dataset, so for some simple EDA we will focus on just one store.\n",
    "\n",
    "```python\n",
    "store1_data = data[data.Store == 1]\n",
    "```"
   ]
  },
  {
   "cell_type": "markdown",
   "metadata": {
    "slideshow": {
     "slide_type": "slide"
    }
   },
   "source": [
    "#### Plotting the sales data\n",
    "\n",
    "We want to know both the time dependent elements of sales as well as whether promotions or holidays affected these sales. To start, we can compare the average sales on those events.\n",
    "\n",
    "To compare sales on holidays, we can compare the sales using box-plots, which allows us to compare the distribution of sales on holidays against all other days. On state holidays the store is closed (which means there are 0 sales), and on school holidays the sales are relatively similar. These types of insights represent the contextual knowledge needed to truly explain time series phenomenon.\n",
    "\n",
    "> Check: can you think of any other special considerations we should make when tracking sales?\n",
    "\n"
   ]
  },
  {
   "cell_type": "markdown",
   "metadata": {
    "slideshow": {
     "slide_type": "slide"
    }
   },
   "source": [
    "```python\n",
    "sb.factorplot(\n",
    "    x='SchoolHoliday',\n",
    "    y='Sales',\n",
    "    data=store1_data[store1_data.Open==1],\n",
    "    kind='box'\n",
    ")\n",
    "```\n",
    "\n",
    "**Check:** Now check to see if there is a difference affecting sales on promotion days."
   ]
  },
  {
   "cell_type": "markdown",
   "metadata": {
    "slideshow": {
     "slide_type": "slide"
    }
   },
   "source": [
    "We can see that there _is_ a difference in sales on promotion days.\n",
    "\n",
    "```python\n",
    "sb.factorplot(\n",
    "    col='Open',\n",
    "    x='Promo',\n",
    "    y='Sales',\n",
    "    data=store1_data,\n",
    "    kind='box'\n",
    ")\n",
    "```\n",
    "\n",
    "Why is it important to separate out days where the store is closed? Because there aren't any promotions on those days either, so including them will bias your sales data on days without promotions! Remember to think about the business logic as well as analyzing the raw data."
   ]
  },
  {
   "cell_type": "markdown",
   "metadata": {
    "slideshow": {
     "slide_type": "slide"
    }
   },
   "source": [
    "We may also want to compare sales across days of the week:\n",
    "\n",
    "```python\n",
    "sb.factorplot(\n",
    "    col='Open',\n",
    "    x='DayOfWeek',\n",
    "    y='Sales',\n",
    "    data=store1_data,\n",
    "    kind='box',\n",
    "\n",
    ")\n",
    "```\n"
   ]
  },
  {
   "cell_type": "markdown",
   "metadata": {
    "slideshow": {
     "slide_type": "slide"
    }
   },
   "source": [
    "Lastly, we want to identify larger-scale trends in our data. How did sales change from 2014 to 2015? Were there any particularly interesting outliers in terms of sales or customer visits?\n",
    "\n",
    "To plot the sales over time:\n",
    "\n",
    "```python\n",
    "# Filter to days store 1 was open\n",
    "store1_open_data = store1_data[store1_data.Open==1]\n",
    "store1_open_data[['Sales']].plot()\n",
    "```\n",
    "\n",
    "To plot the customer visits over time:\n",
    "\n",
    "```python\n",
    "store1_open_data[['Customers']].plot()\n",
    "```"
   ]
  },
  {
   "cell_type": "markdown",
   "metadata": {
    "slideshow": {
     "slide_type": "slide"
    }
   },
   "source": [
    "We can see that there are large spikes of sales and customers towards the end of 2013 and 2014, leading into the first quarter of 2014 and 2015.\n",
    "\n",
    "**Check:** Use the index filtering to filter just to 2015 changes over time. This should make it easier to identify the holiday sales bump."
   ]
  },
  {
   "cell_type": "markdown",
   "metadata": {
    "slideshow": {
     "slide_type": "fragment"
    }
   },
   "source": [
    "```python\n",
    "store1_data_2015 = store1_data['2015']\n",
    "store1_data_2015[\n",
    "    store1_data_2015.Open==1\n",
    "][['Sales']].plot()\n",
    "```"
   ]
  },
  {
   "cell_type": "markdown",
   "metadata": {
    "slideshow": {
     "slide_type": "slide"
    }
   },
   "source": [
    "#### Computing Autocorrelation\n",
    "\n",
    "To measure how much the sales are correlated with each other, we want to compute the _autocorrelation_ of the 'Sales' column.\n",
    "\n",
    "Pandas' `autocorr` function takes one argument, `lag` - how many prior data points to use to compute the correlation. If we set the `lag` to 1, we compute the correlation between every point and the point directly preceding it. Setting `lag` to 10 would computes the correlation between every point and the point 10 days earlier.\n",
    "\n"
   ]
  },
  {
   "cell_type": "markdown",
   "metadata": {
    "slideshow": {
     "slide_type": "slide"
    }
   },
   "source": [
    "```python\n",
    "data['Sales'].resample('D', how='mean').autocorr(lag=1)\n",
    "```\n",
    "\n",
    "Just like with correlation between different variables, the data becomes more correlated as this number moves closer to 1.\n",
    "\n",
    "**Check:** What does the autocorrelation values of Sales and Customers imply about our data?"
   ]
  },
  {
   "cell_type": "markdown",
   "metadata": {
    "slideshow": {
     "slide_type": "slide"
    }
   },
   "source": [
    "#### Aggregates of sales over time\n",
    "\n",
    "If we want to investigate trends over time in sales, as always, we will start by computing simple aggregates. We want to know: what were the mean and median sales in each month and year?\n",
    "\n",
    "We can use `data.resample` and provide as arguments:\n",
    "    - The level on which to roll-up to, 'D' for day, 'W' for week, 'M' for month, 'A' for year\n",
    "    - The aggregation to perform: 'mean', 'median', 'sum', etc.\n",
    "\n",
    "```python\n",
    "data[['Sales']].resample('A', how=['median', 'mean'])\n",
    "\n",
    "data[['Sales']].resample('M', how=['median', 'mean'])\n",
    "```\n",
    "\n",
    "Here we can see again that December 2013 and 2014 were the highest average sale months."
   ]
  },
  {
   "cell_type": "markdown",
   "metadata": {
    "slideshow": {
     "slide_type": "slide"
    }
   },
   "source": [
    "While identifying monthly averages is useful, we often want to compare the sales data of a date to a smaller window. To understand holidays sales, we don't want to compare sales data in late December with the entire month, but instead to a few days immediately surrounding it. We can do this using rolling averages.\n",
    "\n",
    "In pandas, we can compute rolling average using the `pd.rolling_mean` or `pd.rolling_median` functions.\n",
    "\n",
    "```python\n",
    "# Resample to have the daily total over all stores\n",
    "daily_store_sales = data[['Sales']].resample('D', how='sum')\n",
    "pd.rolling_mean(daily_store_sales, window=3, center=True)\n",
    "```\n",
    "\n",
    "This computes a rolling mean of sales using the sales on each day, the day preceding and the day following (window = 3, center=True)."
   ]
  },
  {
   "cell_type": "markdown",
   "metadata": {
    "slideshow": {
     "slide_type": "slide"
    }
   },
   "source": [
    "`rolling_mean` (as well as `rolling_median`) takes the series to aggregate as well as three important parameters:\n",
    "    - `window` is the number of days to include in the average\n",
    "    - `center` is whether the window should be centered on the date or use data prior to that date\n",
    "\n",
    "You may first want to `resample` or group your data by a time-period. For example, our data is on a daily level by store, so may first want to average over stores. We can use `D` for day, `M` for month or `A` for year to average the values by those timeperiods.\n",
    "\n",
    "\n"
   ]
  },
  {
   "cell_type": "markdown",
   "metadata": {
    "slideshow": {
     "slide_type": "slide"
    }
   },
   "source": [
    "We can use our index filtering to just look at 2015.\n",
    "\n",
    "```python\n",
    "pd.rolling_mean(daily_store_sales, window=3, center=True)['2015']\n",
    "```\n",
    "\n",
    "\n"
   ]
  },
  {
   "cell_type": "markdown",
   "metadata": {
    "slideshow": {
     "slide_type": "slide"
    }
   },
   "source": [
    "Instead of plotting the full time series, we can plot the rolling mean instead, which smooths random changes in sales as well as removing outliers, helping us identify larger trends.\n",
    "\n",
    "```python\n",
    "pd.rolling_mean(daily_store_sales, window=10, center=True).plot()\n",
    "```\n",
    "\n"
   ]
  },
  {
   "cell_type": "code",
   "execution_count": 8,
   "metadata": {
    "collapsed": false,
    "slideshow": {
     "slide_type": "skip"
    }
   },
   "outputs": [
    {
     "name": "stderr",
     "output_type": "stream",
     "text": [
      "/Users/winston/anaconda2/lib/python2.7/site-packages/ipykernel/__main__.py:13: FutureWarning: how in .resample() is deprecated\n",
      "the new syntax is .resample(...).sum()\n"
     ]
    }
   ],
   "source": [
    "import pandas as pd\n",
    "import matplotlib as plt\n",
    "%matplotlib inline\n",
    "plt.rcParams['figure.figsize'] = (20.0, 10.0)\n",
    "\n",
    "data = pd.read_csv('./assets/datasets/rossmann.csv', skipinitialspace=True, low_memory=False)\n",
    "data['Date'] = pd.to_datetime(data['Date'])\n",
    "data.set_index('Date', inplace=True)\n",
    "\n",
    "data['Year'] = data.index.year\n",
    "data['Month'] = data.index.month\n",
    "\n",
    "daily_store_sales = data[['Sales']].resample('D', how='sum')\n"
   ]
  },
  {
   "cell_type": "code",
   "execution_count": 23,
   "metadata": {
    "collapsed": false,
    "slideshow": {
     "slide_type": "skip"
    }
   },
   "outputs": [
    {
     "data": {
      "text/html": [
       "<div>\n",
       "<table border=\"1\" class=\"dataframe\">\n",
       "  <thead>\n",
       "    <tr style=\"text-align: right;\">\n",
       "      <th></th>\n",
       "      <th>Store</th>\n",
       "      <th>DayOfWeek</th>\n",
       "      <th>Sales</th>\n",
       "      <th>Customers</th>\n",
       "      <th>Open</th>\n",
       "      <th>Promo</th>\n",
       "      <th>StateHoliday</th>\n",
       "      <th>SchoolHoliday</th>\n",
       "      <th>Year</th>\n",
       "      <th>Month</th>\n",
       "    </tr>\n",
       "    <tr>\n",
       "      <th>Date</th>\n",
       "      <th></th>\n",
       "      <th></th>\n",
       "      <th></th>\n",
       "      <th></th>\n",
       "      <th></th>\n",
       "      <th></th>\n",
       "      <th></th>\n",
       "      <th></th>\n",
       "      <th></th>\n",
       "      <th></th>\n",
       "    </tr>\n",
       "  </thead>\n",
       "  <tbody>\n",
       "    <tr>\n",
       "      <th>2015-07-31</th>\n",
       "      <td>1</td>\n",
       "      <td>5</td>\n",
       "      <td>5263</td>\n",
       "      <td>555</td>\n",
       "      <td>1</td>\n",
       "      <td>1</td>\n",
       "      <td>0</td>\n",
       "      <td>1</td>\n",
       "      <td>2015</td>\n",
       "      <td>7</td>\n",
       "    </tr>\n",
       "    <tr>\n",
       "      <th>2015-07-31</th>\n",
       "      <td>2</td>\n",
       "      <td>5</td>\n",
       "      <td>6064</td>\n",
       "      <td>625</td>\n",
       "      <td>1</td>\n",
       "      <td>1</td>\n",
       "      <td>0</td>\n",
       "      <td>1</td>\n",
       "      <td>2015</td>\n",
       "      <td>7</td>\n",
       "    </tr>\n",
       "    <tr>\n",
       "      <th>2015-07-31</th>\n",
       "      <td>3</td>\n",
       "      <td>5</td>\n",
       "      <td>8314</td>\n",
       "      <td>821</td>\n",
       "      <td>1</td>\n",
       "      <td>1</td>\n",
       "      <td>0</td>\n",
       "      <td>1</td>\n",
       "      <td>2015</td>\n",
       "      <td>7</td>\n",
       "    </tr>\n",
       "    <tr>\n",
       "      <th>2015-07-31</th>\n",
       "      <td>4</td>\n",
       "      <td>5</td>\n",
       "      <td>13995</td>\n",
       "      <td>1498</td>\n",
       "      <td>1</td>\n",
       "      <td>1</td>\n",
       "      <td>0</td>\n",
       "      <td>1</td>\n",
       "      <td>2015</td>\n",
       "      <td>7</td>\n",
       "    </tr>\n",
       "    <tr>\n",
       "      <th>2015-07-31</th>\n",
       "      <td>5</td>\n",
       "      <td>5</td>\n",
       "      <td>4822</td>\n",
       "      <td>559</td>\n",
       "      <td>1</td>\n",
       "      <td>1</td>\n",
       "      <td>0</td>\n",
       "      <td>1</td>\n",
       "      <td>2015</td>\n",
       "      <td>7</td>\n",
       "    </tr>\n",
       "  </tbody>\n",
       "</table>\n",
       "</div>"
      ],
      "text/plain": [
       "            Store  DayOfWeek  Sales  Customers  Open  Promo StateHoliday  \\\n",
       "Date                                                                       \n",
       "2015-07-31      1          5   5263        555     1      1            0   \n",
       "2015-07-31      2          5   6064        625     1      1            0   \n",
       "2015-07-31      3          5   8314        821     1      1            0   \n",
       "2015-07-31      4          5  13995       1498     1      1            0   \n",
       "2015-07-31      5          5   4822        559     1      1            0   \n",
       "\n",
       "            SchoolHoliday  Year  Month  \n",
       "Date                                    \n",
       "2015-07-31              1  2015      7  \n",
       "2015-07-31              1  2015      7  \n",
       "2015-07-31              1  2015      7  \n",
       "2015-07-31              1  2015      7  \n",
       "2015-07-31              1  2015      7  "
      ]
     },
     "execution_count": 23,
     "metadata": {},
     "output_type": "execute_result"
    }
   ],
   "source": [
    "data.head()"
   ]
  },
  {
   "cell_type": "code",
   "execution_count": 11,
   "metadata": {
    "collapsed": false,
    "slideshow": {
     "slide_type": "fragment"
    }
   },
   "outputs": [
    {
     "name": "stderr",
     "output_type": "stream",
     "text": [
      "/Users/winston/anaconda2/lib/python2.7/site-packages/ipykernel/__main__.py:1: FutureWarning: pd.rolling_mean is deprecated for DataFrame and will be removed in a future version, replace with \n",
      "\tDataFrame.rolling(window=10,center=True).mean()\n",
      "  if __name__ == '__main__':\n"
     ]
    },
    {
     "data": {
      "text/plain": [
       "<matplotlib.axes._subplots.AxesSubplot at 0x113b0afd0>"
      ]
     },
     "execution_count": 11,
     "metadata": {},
     "output_type": "execute_result"
    },
    {
     "data": {
      "image/png": "[encoded data removed]",
      "text/plain": [
       "<matplotlib.figure.Figure at 0x113b284d0>"
      ]
     },
     "metadata": {},
     "output_type": "display_data"
    }
   ],
   "source": [
    "pd.rolling_mean(daily_store_sales, window=10, center=True).plot()"
   ]
  },
  {
   "cell_type": "markdown",
   "metadata": {
    "slideshow": {
     "slide_type": "slide"
    }
   },
   "source": [
    "As we discussed earlier, this averages all values in the window evenly, but we might want to weight closer values more. For example, with a centered weighted average of 10 days, we want to put additional emphasis on +/- 1 day versus +/- 10 days. One option to do that is the `ewma` function or `exponential weighted moving average` function.\n",
    "\n",
    "```python\n",
    "pd.ewma(daily_store_sales, span=10)\n",
    "```"
   ]
  },
  {
   "cell_type": "code",
   "execution_count": 24,
   "metadata": {
    "collapsed": false,
    "slideshow": {
     "slide_type": "fragment"
    }
   },
   "outputs": [
    {
     "name": "stderr",
     "output_type": "stream",
     "text": [
      "/Users/winston/anaconda2/lib/python2.7/site-packages/ipykernel/__main__.py:1: FutureWarning: pd.ewm_mean is deprecated for DataFrame and will be removed in a future version, replace with \n",
      "\tDataFrame.ewm(ignore_na=False,span=10,min_periods=0,adjust=True).mean()\n",
      "  if __name__ == '__main__':\n"
     ]
    },
    {
     "data": {
      "text/plain": [
       "<matplotlib.axes._subplots.AxesSubplot at 0x1129c5f90>"
      ]
     },
     "execution_count": 24,
     "metadata": {},
     "output_type": "execute_result"
    },
    {
     "data": {
      "image/png": "[encoded data removed]",
      "text/plain": [
       "<matplotlib.figure.Figure at 0x113833b90>"
      ]
     },
     "metadata": {},
     "output_type": "display_data"
    }
   ],
   "source": [
    "pd.ewma(daily_store_sales, span=10).plot()"
   ]
  },
  {
   "cell_type": "markdown",
   "metadata": {
    "slideshow": {
     "slide_type": "fragment"
    }
   },
   "source": [
    "**Check:** Discuss the differences in the plot between the 10-day moving average and the 10 day exponentially weighted moving average."
   ]
  },
  {
   "cell_type": "markdown",
   "metadata": {
    "slideshow": {
     "slide_type": "slide"
    }
   },
   "source": [
    "#### Pandas Window functions\n",
    "\n",
    "Pandas `rolling_mean` and `rolling_median` are only two examples of Pandas window function capabilities. Window functions operate on a set of N consecutive rows (i.e.: a window) and produce an output.\n",
    "\n",
    "In addition to `rolling_mean` and `rolling_median`, there are `rolling_sum`, `rolling_min`, `rolling_max`... and many more.\n",
    "\n",
    "Another common one is `diff`, which takes the difference over time. `pd.diff` takes one argument: `periods`, which measures how many rows prior to use for the difference."
   ]
  },
  {
   "cell_type": "markdown",
   "metadata": {
    "slideshow": {
     "slide_type": "slide"
    }
   },
   "source": [
    "For example, if we want to compute the difference in sales, day by day, we could compute:\n",
    "\n",
    "```python\n",
    "daily_store_sales.diff(periods=1)\n",
    "```\n",
    "\n",
    "However, if wanted to compare the same day the prior week, we could set `periods=7`\n",
    "\n",
    "```python\n",
    "daily_store_sales.diff(periods=7)\n",
    "```\n",
    "\n",
    "This would compute the difference in sales from every day to the same day in a previous week. **Difference functions** allow us to identify seasonal changes when we see repeated up or downswings.\n",
    "\n",
    "\n"
   ]
  },
  {
   "cell_type": "markdown",
   "metadata": {
    "slideshow": {
     "slide_type": "slide"
    }
   },
   "source": [
    "The following plot of the month to month change (`diff`) in jobs from FiveThirtyEight helps identify the seasonal component to a number of retail jobs:\n",
    "\n",
    "![](./assets/images/casselman-datalab-wsj2.png)\n"
   ]
  },
  {
   "cell_type": "markdown",
   "metadata": {
    "slideshow": {
     "slide_type": "slide"
    }
   },
   "source": [
    "#### Pandas Expanding Functions\n",
    "\n",
    "In addition to the set of `rolling_*` functions, Pandas also provides a similar collection of `expanding_*` functions, which, instead of using a window of N values, uses all values up until that time.\n",
    "\n",
    "For example,\n",
    "\n",
    "```python\n",
    "pd.expanding_mean(daily_store_sales)\n",
    "```\n",
    "\n",
    "computes the average sales, from the first date _until_ the date specified. Meanwhile:\n",
    "\n",
    "```python\n",
    "pd.expanding_sum(daily_store_sales)\n",
    "```\n",
    "\n",
    "computes the sum of average sales per store up until that date.\n",
    "\n",
    "\n"
   ]
  },
  {
   "cell_type": "markdown",
   "metadata": {
    "slideshow": {
     "slide_type": "slide"
    }
   },
   "source": [
    "<a name=\"ind-practice\"></a>\n",
    "\n",
    "### Independent practice\n",
    "\n",
    "1. Plot the distribution of sales by month and compare the effect of promotions.\n",
    "2. Are sales more correlated with the prior date, a similar date last year, or a similar date last month?\n",
    "3. Plot the 15 day rolling mean of customers in the stores.\n",
    "4. Identify the date with largest drop in sales from the same date in the previous month.\n",
    "5. Compute the total sales up until Dec. 2014.\n",
    "6. When were the largest differences between 15-day moving/rolling averages? HINT: Using `rolling_mean` and `diff`\n",
    "\n",
    "\n"
   ]
  },
  {
   "cell_type": "markdown",
   "metadata": {
    "slideshow": {
     "slide_type": "slide"
    }
   },
   "source": [
    "<a name=\"ind-practice-review\"></a>\n",
    "\n",
    "1. Plot the distribution of sales by month and compare the effect of promotions\n",
    "\n",
    "```python\n",
    "sb.factorplot(\n",
    "    col='Open',\n",
    "    hue='Promo',\n",
    "    x='Month',\n",
    "    y='Sales',\n",
    "    data=store1_data,\n",
    "    kind='box'\n",
    ")\n",
    "```\n",
    "\n",
    "\n",
    "\n"
   ]
  },
  {
   "cell_type": "markdown",
   "metadata": {
    "slideshow": {
     "slide_type": "slide"
    }
   },
   "source": [
    "2. Are sales more correlated with the prior date, a similar date last year, or a similar date last month?\n",
    "\n",
    "```python\n",
    "# Compare the following:\n",
    "average_daily_sales = data[['Sales', 'Open']].resample('D', how='mean')\n",
    "\n",
    "average_daily_sales['Sales'].autocorr(lag=1)\n",
    "\n",
    "average_daily_sales['Sales'].autocorr(lag=30)\n",
    "\n",
    "average_daily_sales['Sales'].autocorr(lag=365)\n",
    "```\n",
    "\n",
    "\n"
   ]
  },
  {
   "cell_type": "markdown",
   "metadata": {
    "slideshow": {
     "slide_type": "slide"
    }
   },
   "source": [
    "3. Plot the 15 day rolling mean of customers in the stores:\n",
    "\n",
    "```python\n",
    "pd.rolling_mean(data[['Sales']], window=15, freq='D').plot()\n",
    "```\n",
    "\n"
   ]
  },
  {
   "cell_type": "markdown",
   "metadata": {
    "slideshow": {
     "slide_type": "slide"
    }
   },
   "source": [
    "4. Identify the date with largest drop in average store sales from the same date in the previous month:\n",
    "\n",
    "```python\n",
    "average_daily_sales = data[['Sales', 'Open']].resample('D', how='mean')\n",
    "average_daily_sales['DiffVsLastWeek'] = average_daily_sales[['Sales']].diff(periods=7)\n",
    "\n",
    "average_daily_sales.sort(['DiffVsLastWeek']).head\n",
    "```\n",
    "\n",
    "Unsurprisingly, this day is Dec. 25 and Dec. 26 in 2014 and 2015, when the store is closed and there are many sales in the preceding week. How about when the store is open?\n",
    "\n",
    "```python\n",
    "average_daily_sales[average_daily_sales.Open == 1].sort(['DiffVsLastWeek'])\n",
    "```\n",
    "\n",
    "The top values are Dec. 24th, but sales on 2013-12-09 and 2013-10-14 were on average 4k lower than the same day in the previous week.\n",
    "\n",
    "\n"
   ]
  },
  {
   "cell_type": "markdown",
   "metadata": {
    "slideshow": {
     "slide_type": "slide"
    }
   },
   "source": [
    "5. Compute the total sales up until Dec. 2014:\n",
    "\n",
    "```python\n",
    "total_daily_sales = data[['Sales']].resample('D', how='sum')\n",
    "pd.expanding_sum(total_daily_sales)['2014-12']\n",
    "```\n",
    "\n",
    "Note that this is **NOT**\n",
    "\n",
    "```python\n",
    "pd.expanding_sum(data['Sales'])['2014-12']\n",
    "```\n",
    "\n",
    "because we do **not** want to sum over our stores first.\n",
    "\n"
   ]
  },
  {
   "cell_type": "markdown",
   "metadata": {
    "slideshow": {
     "slide_type": "slide"
    }
   },
   "source": [
    "6. When were the largest differences between 15-day moving/rolling averages?\n",
    "HINT: Using `rolling_mean` and `diff`\n",
    "\n",
    "```python\n",
    "pd.rolling_mean(total_daily_sales, window=15).diff(1).sort('Sales')\n",
    "```\n",
    "\n",
    "Unsurprisingly, they occur at the beginning of every year after the holiday season."
   ]
  },
  {
   "cell_type": "markdown",
   "metadata": {
    "slideshow": {
     "slide_type": "slide"
    }
   },
   "source": [
    "<a name=\"conclusion\"></a>\n",
    "## Conclusion (5 mins)\n",
    "- We use time series analysis to identify changes in values over time\n",
    "- We want to identify whether changes are true trends, seasonal changes or something else\n",
    "- Autocorrelations are a measure of how much a data point is dependent on previous data points\n",
    "- Rolling means give us a local statistic of an average in time, smoothing out random fluctuations and removing outliers"
   ]
  }
 ],
 "metadata": {
  "celltoolbar": "Slideshow",
  "kernelspec": {
   "display_name": "Python 2",
   "language": "python",
   "name": "python2"
  },
  "language_info": {
   "codemirror_mode": {
    "name": "ipython",
    "version": 2
   },
   "file_extension": ".py",
   "mimetype": "text/x-python",
   "name": "python",
   "nbconvert_exporter": "python",
   "pygments_lexer": "ipython2",
   "version": "2.7.12"
  }
 },
 "nbformat": 4,
 "nbformat_minor": 0
}
