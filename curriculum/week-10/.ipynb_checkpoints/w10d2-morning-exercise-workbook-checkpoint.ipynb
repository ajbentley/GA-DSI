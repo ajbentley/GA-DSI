{
 "cells": [
  {
   "cell_type": "markdown",
   "metadata": {},
   "source": [
    "<img src=\"https://ga-dash.s3.amazonaws.com/production/assets/logo-9f88ae6c9c3871690e33280fcf557f33.png\" style=\"float: left; margin: 15px;\">\n",
    "# Morning Exercise\n",
    "\n",
    "<br>\n",
    "**This notebook contains a series of 5 progressively more difficult exercises. You have until 10am to complete and submit them. Please email completed notebooks to alex.combs@ga.co. No credit will be given for notebooks submitted after 10am (Google timestamp). We will go over the solution from 10 to 10:15am.**"
   ]
  },
  {
   "cell_type": "markdown",
   "metadata": {},
   "source": [
    "## Exercise #1"
   ]
  },
  {
   "cell_type": "markdown",
   "metadata": {},
   "source": [
    "Create a map function from scratch. Name it two_map(). This function should accept three arguments: a python function and two lists. The function should return the result of the function.\n",
    "\n",
    "For example:\n",
    "> two_map(sum, [1,2,3],[3,2,1])<br> would return [6,6].\n",
    "\n",
    "<br> Other functions to test: len, min, max, std, etc."
   ]
  },
  {
   "cell_type": "code",
   "execution_count": 13,
   "metadata": {
    "collapsed": false
   },
   "outputs": [
    {
     "data": {
      "text/plain": [
       "[1, 1]"
      ]
     },
     "execution_count": 13,
     "metadata": {},
     "output_type": "execute_result"
    }
   ],
   "source": [
    "\n",
    "l1 = [1,2,3]\n",
    "l2 = [3,2,1]\n",
    "\n",
    "def two_map(x,y,z):\n",
    "    return [z(x), z(y)]\n",
    "    \n",
    "two_map(l1,l2,min)"
   ]
  },
  {
   "cell_type": "markdown",
   "metadata": {},
   "source": [
    "## Exercise #2\n",
    "\n",
    "Create a function called many_map() that does the same thing except now rather than only accepting two lists, it should accept two arguments. The first argument is again any function, and the second is a list that can contain any number of lists inside it.\n",
    "\n",
    "For example:\n",
    "> many_map(min, [[1, 2], [3, 4], [5, 6]]) <br> would return [1, 3, 5]<br><br>\n",
    "> many_map(sum, [[1, 2], [3, 4], [5, 6]]) <br> would return [3, 7, 11]"
   ]
  },
  {
   "cell_type": "code",
   "execution_count": null,
   "metadata": {
    "collapsed": false
   },
   "outputs": [],
   "source": [
    "l1 = [[1,2],[3,4],[5,6]]\n",
    "\n",
    "def many_map(x,y):\n",
    "    for l in l1:\n",
    "        y\n",
    "    return [z(x), z(y)]\n",
    "    \n",
    "many_map(min,l1)"
   ]
  },
  {
   "cell_type": "code",
   "execution_count": null,
   "metadata": {
    "collapsed": false
   },
   "outputs": [],
   "source": []
  },
  {
   "cell_type": "markdown",
   "metadata": {},
   "source": [
    "## Exercise 3\n",
    "\n",
    "Create another function called z_map(). Again, this should accept two arguments, the first is the function to be run; the second is a list that contains an arbitrary number of lists. Unlike the last function you created, this one should work on zipped data.\n",
    "\n",
    "For example:\n",
    "\n",
    "> z_map(sum, [[1, 2], [3, 4], [5, 6]])<br>\n",
    "would return [9, 12]\n",
    "\n",
    "> z_map(sum, [[1,1,1], [2,2,2], [3,3,3]])<br>\n",
    "would return [6, 6, 6]"
   ]
  },
  {
   "cell_type": "code",
   "execution_count": null,
   "metadata": {
    "collapsed": true
   },
   "outputs": [],
   "source": []
  },
  {
   "cell_type": "code",
   "execution_count": null,
   "metadata": {
    "collapsed": false
   },
   "outputs": [],
   "source": []
  },
  {
   "cell_type": "markdown",
   "metadata": {},
   "source": [
    "## Exercise #4\n",
    "\n",
    "Create a function that accepts an int. It should return all Fibonacci numbers in a list that are less than or equal to that value. **Bonus: Do it without creating a list in your function.**"
   ]
  },
  {
   "cell_type": "code",
   "execution_count": null,
   "metadata": {
    "collapsed": true
   },
   "outputs": [],
   "source": []
  },
  {
   "cell_type": "code",
   "execution_count": null,
   "metadata": {
    "collapsed": false
   },
   "outputs": [],
   "source": []
  },
  {
   "cell_type": "code",
   "execution_count": null,
   "metadata": {
    "collapsed": false
   },
   "outputs": [],
   "source": []
  },
  {
   "cell_type": "code",
   "execution_count": null,
   "metadata": {
    "collapsed": false
   },
   "outputs": [],
   "source": []
  },
  {
   "cell_type": "markdown",
   "metadata": {},
   "source": [
    "## Exercise #5\n",
    "\n",
    "Find the largest palindromic number that is possible from the product of all three digit numbers.\n",
    "For example, 111 * 111 = 12321. This number reads the same from right to left as it does from left tor right, so this qualifies as a palindrome. Find the largest possible that is the product of two three digit numbers."
   ]
  },
  {
   "cell_type": "code",
   "execution_count": null,
   "metadata": {
    "collapsed": false
   },
   "outputs": [],
   "source": []
  },
  {
   "cell_type": "code",
   "execution_count": null,
   "metadata": {
    "collapsed": true
   },
   "outputs": [],
   "source": []
  },
  {
   "cell_type": "code",
   "execution_count": null,
   "metadata": {
    "collapsed": true
   },
   "outputs": [],
   "source": []
  }
 ],
 "metadata": {
  "anaconda-cloud": {},
  "kernelspec": {
   "display_name": "Python [default]",
   "language": "python",
   "name": "python2"
  },
  "language_info": {
   "codemirror_mode": {
    "name": "ipython",
    "version": 2
   },
   "file_extension": ".py",
   "mimetype": "text/x-python",
   "name": "python",
   "nbconvert_exporter": "python",
   "pygments_lexer": "ipython2",
   "version": "2.7.12"
  }
 },
 "nbformat": 4,
 "nbformat_minor": 0
}
