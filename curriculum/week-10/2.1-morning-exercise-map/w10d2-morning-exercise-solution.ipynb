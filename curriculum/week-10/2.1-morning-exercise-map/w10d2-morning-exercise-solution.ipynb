{
 "cells": [
  {
   "cell_type": "markdown",
   "metadata": {
    "slideshow": {
     "slide_type": "slide"
    }
   },
   "source": [
    "<img src=\"https://ga-dash.s3.amazonaws.com/production/assets/logo-9f88ae6c9c3871690e33280fcf557f33.png\" style=\"float: left; margin: 15px;\">\n",
    "# Morning Exercise\n",
    "\n",
    "<br>\n",
    "**This notebook contains a series of 5 progressively more difficult exercises. You have until 10am to complete and submit them. Please email completed notebooks to alex.combs@ga.co. No credit will be given for notebooks submitted after 10am (Google timestamp). We will go over the solution from 10 to 10:15am.**"
   ]
  },
  {
   "cell_type": "markdown",
   "metadata": {
    "slideshow": {
     "slide_type": "slide"
    }
   },
   "source": [
    "## Exercise #1"
   ]
  },
  {
   "cell_type": "markdown",
   "metadata": {
    "slideshow": {
     "slide_type": "-"
    }
   },
   "source": [
    "Create a map function from scratch. Name it two_map(). This function should accept three arguments: a python function and two lists. The function should return the result of the function.\n",
    "\n",
    "For example:\n",
    "> two_map(sum, [1,2,3],[3,2,1])<br> would return [6,6].\n",
    "\n",
    "<br> Other functions to test: len, min, max, std, etc."
   ]
  },
  {
   "cell_type": "code",
   "execution_count": 1,
   "metadata": {
    "collapsed": false,
    "slideshow": {
     "slide_type": "slide"
    }
   },
   "outputs": [
    {
     "data": {
      "text/plain": [
       "[1.1180339887498949, 1.1180339887498949]"
      ]
     },
     "execution_count": 1,
     "metadata": {},
     "output_type": "execute_result"
    }
   ],
   "source": [
    "# solution\n",
    "import numpy as np\n",
    "\n",
    "def two_map(f, l1, l2):\n",
    "    return [f(l1), f(l2)]\n",
    "\n",
    "two_map(np.std, [1, 2, 3, 4], [3, 2, 1, 4])"
   ]
  },
  {
   "cell_type": "markdown",
   "metadata": {
    "slideshow": {
     "slide_type": "slide"
    }
   },
   "source": [
    "## Exercise #2\n",
    "\n",
    "Create a function called many_map() that does the same thing except now rather than only accepting two lists, it should accept two arguments. The first argument is again any function, and the second is a list that can contain any number of lists inside it.\n",
    "\n",
    "For example:\n",
    "> many_map(min, [[1, 2], [3, 4], [5, 6]]) <br> would return [1, 3, 5]<br><br>\n",
    "> many_map(sum, [[1, 2], [3, 4], [5, 6]]) <br> would return [3, 7, 11]"
   ]
  },
  {
   "cell_type": "code",
   "execution_count": 2,
   "metadata": {
    "collapsed": false,
    "slideshow": {
     "slide_type": "slide"
    }
   },
   "outputs": [
    {
     "data": {
      "text/plain": [
       "[3, 7, 11]"
      ]
     },
     "execution_count": 2,
     "metadata": {},
     "output_type": "execute_result"
    }
   ],
   "source": [
    "# solution\n",
    "def many_map(f,l):\n",
    "    return [f(z) for z in l]\n",
    "\n",
    "many_map(sum,[[1, 2], [3, 4], [5, 6]])"
   ]
  },
  {
   "cell_type": "markdown",
   "metadata": {
    "slideshow": {
     "slide_type": "slide"
    }
   },
   "source": [
    "## Exercise 3\n",
    "\n",
    "Create another function called z_map(). Again, this should accept two arguments, the first is the function to be run; the second is a list that contains an arbitrary number of lists. Unlike the last function you created, this one should work on zipped data.\n",
    "\n",
    "For example:\n",
    "\n",
    "> z_map(sum, [[1, 2], [3, 4], [5, 6]])<br>\n",
    "would return [9, 12]\n",
    "\n",
    "> z_map(sum, [[1,1,1], [2,2,2], [3,3,3]])<br>\n",
    "would return [6, 6, 6]"
   ]
  },
  {
   "cell_type": "code",
   "execution_count": 3,
   "metadata": {
    "collapsed": false,
    "slideshow": {
     "slide_type": "slide"
    }
   },
   "outputs": [
    {
     "data": {
      "text/plain": [
       "[6, 6, 6]"
      ]
     },
     "execution_count": 3,
     "metadata": {},
     "output_type": "execute_result"
    }
   ],
   "source": [
    "# solution\n",
    "def z_map(f,l):\n",
    "    zipped = zip(*l)\n",
    "    return [f(z) for z in zipped]\n",
    "\n",
    "z_map(sum,[[1,1,1], [2,2,2], [3,3,3]])"
   ]
  },
  {
   "cell_type": "markdown",
   "metadata": {
    "slideshow": {
     "slide_type": "slide"
    }
   },
   "source": [
    "## Exercise #4\n",
    "\n",
    "Create a function that accepts an int. It should return all Fibonacci numbers in a list that are less than or equal to that value. **Bonus: Do it without creating a list in your function.**"
   ]
  },
  {
   "cell_type": "code",
   "execution_count": 60,
   "metadata": {
    "collapsed": false,
    "slideshow": {
     "slide_type": "slide"
    }
   },
   "outputs": [
    {
     "data": {
      "text/plain": [
       "[0, 1, 1, 2, 3, 5, 8, 13, 21, 34, 55, 89]"
      ]
     },
     "execution_count": 60,
     "metadata": {},
     "output_type": "execute_result"
    }
   ],
   "source": [
    "# solution\n",
    "def fib1(x):\n",
    "    first = 0\n",
    "    second = 1\n",
    "    the_sum = 0\n",
    "    if x < 1:\n",
    "        return [0]\n",
    "    else:\n",
    "        the_list = [0,1]\n",
    "    while first + second <= x:\n",
    "        the_sum = first + second\n",
    "        the_list.append(the_sum)\n",
    "        first, second = second, the_sum\n",
    "    return the_list\n",
    "\n",
    "fib1(100)"
   ]
  },
  {
   "cell_type": "code",
   "execution_count": 61,
   "metadata": {
    "collapsed": false,
    "slideshow": {
     "slide_type": "slide"
    }
   },
   "outputs": [
    {
     "data": {
      "text/plain": [
       "[0, 1, 1, 2, 3, 5, 8, 13, 21, 34, 55, 89]"
      ]
     },
     "execution_count": 61,
     "metadata": {},
     "output_type": "execute_result"
    }
   ],
   "source": [
    "# solution\n",
    "def fib2(x):\n",
    "    first = 0\n",
    "    second = 1\n",
    "    the_sum = 0\n",
    "    if x < 1:\n",
    "        yield x\n",
    "    else:\n",
    "        yield first\n",
    "        yield second\n",
    "    while first + second <= x:\n",
    "        the_sum = first + second\n",
    "        yield the_sum\n",
    "        first, second = second, the_sum\n",
    "        \n",
    "list(fib2(100))"
   ]
  },
  {
   "cell_type": "markdown",
   "metadata": {
    "slideshow": {
     "slide_type": "slide"
    }
   },
   "source": [
    "## Exercise #5\n",
    "\n",
    "Find the largest palindromic number that is possible from the product of all three digit numbers.\n",
    "For example, 111 * 111 = 12321. This number reads the same from right to left as it does from left tor right, so this qualifies as a palindrome. Find the largest possible that is the product of two three digit numbers."
   ]
  },
  {
   "cell_type": "code",
   "execution_count": null,
   "metadata": {
    "collapsed": true
   },
   "outputs": [],
   "source": [
    "# sub-optimal solution"
   ]
  },
  {
   "cell_type": "code",
   "execution_count": 26,
   "metadata": {
    "collapsed": false,
    "slideshow": {
     "slide_type": "slide"
    }
   },
   "outputs": [
    {
     "name": "stdout",
     "output_type": "stream",
     "text": [
      "1 loop, best of 3: 720 ms per loop\n"
     ]
    }
   ],
   "source": [
    "%%timeit\n",
    "prod_set = set()\n",
    "minv = 100\n",
    "maxv = 1000\n",
    "for i in range(minv, maxv):\n",
    "    for j in range(minv, maxv):\n",
    "        prod_set.add(i*j)\n",
    "\n",
    "def is_palindrome(num):\n",
    "    if str(num) == str(num)[::-1]:\n",
    "        return True\n",
    "    else:\n",
    "        return False\n",
    "    \n",
    "max([x for x in prod_set if is_palindrome(x)])"
   ]
  },
  {
   "cell_type": "code",
   "execution_count": null,
   "metadata": {
    "collapsed": true
   },
   "outputs": [],
   "source": [
    "# optimal solution"
   ]
  },
  {
   "cell_type": "code",
   "execution_count": 25,
   "metadata": {
    "collapsed": false
   },
   "outputs": [
    {
     "name": "stdout",
     "output_type": "stream",
     "text": [
      "906609\n",
      "906609\n",
      "906609\n",
      "906609\n",
      "1 loop, best of 3: 246 ms per loop\n"
     ]
    }
   ],
   "source": [
    "%%timeit\n",
    "minv = 100\n",
    "maxv = 1000\n",
    "hval = 0\n",
    "for i in range(minv,maxv):\n",
    "    for j in range(minv,maxv):\n",
    "        n = i*j\n",
    "        if n > hval and str(n) == str(n)[::-1]:\n",
    "            hval = n\n",
    "print hval"
   ]
  },
  {
   "cell_type": "code",
   "execution_count": null,
   "metadata": {
    "collapsed": true
   },
   "outputs": [],
   "source": []
  }
 ],
 "metadata": {
  "celltoolbar": "Slideshow",
  "kernelspec": {
   "display_name": "Python [default]",
   "language": "python",
   "name": "python2"
  },
  "language_info": {
   "codemirror_mode": {
    "name": "ipython",
    "version": 2
   },
   "file_extension": ".py",
   "mimetype": "text/x-python",
   "name": "python",
   "nbconvert_exporter": "python",
   "pygments_lexer": "ipython2",
   "version": "2.7.12"
  }
 },
 "nbformat": 4,
 "nbformat_minor": 0
}
