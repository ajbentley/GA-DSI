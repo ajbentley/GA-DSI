{
 "cells": [
  {
   "cell_type": "markdown",
   "metadata": {
    "slideshow": {
     "slide_type": "slide"
    }
   },
   "source": [
    "<img src=\"https://ga-dash.s3.amazonaws.com/production/assets/logo-9f88ae6c9c3871690e33280fcf557f33.png\" style=\"float: left; margin: 15px;\">\n",
    "# AWS Intro\n",
    "Week 10 | Day 2"
   ]
  },
  {
   "cell_type": "markdown",
   "metadata": {
    "slideshow": {
     "slide_type": "slide"
    }
   },
   "source": [
    "### LEARNING OBJECTIVES\n",
    "*After this lesson, you will be able to:*\n",
    "- Explain what services AWS offers and which ones are relevant to data science\n",
    "- Start and terminate an EC2 instance in the cloud\n",
    "- Store and download data from an S3 bucket"
   ]
  },
  {
   "cell_type": "markdown",
   "metadata": {
    "slideshow": {
     "slide_type": "slide"
    }
   },
   "source": [
    "### Topic Outline\n",
    "- What is AWS?\n",
    "- Getting setup with AWS\n",
    "- EC2\n",
    "- S3\n",
    "- AWSCLI"
   ]
  },
  {
   "cell_type": "markdown",
   "metadata": {
    "slideshow": {
     "slide_type": "slide"
    }
   },
   "source": [
    "## What is AWS?\n",
    "\n",
    "<img src=\"http://i.giphy.com/3oEjHBa34dVLv0jnoc.gif\">"
   ]
  },
  {
   "cell_type": "markdown",
   "metadata": {
    "slideshow": {
     "slide_type": "slide"
    }
   },
   "source": [
    "## AWS\n",
    "\n",
    "<img src=\"http://i.imgur.com/NSjFEWZ.png\">\n",
    "[Wikipedia](https://en.wikipedia.org/wiki/Amazon_Web_Services)"
   ]
  },
  {
   "cell_type": "markdown",
   "metadata": {
    "slideshow": {
     "slide_type": "slide"
    }
   },
   "source": [
    "## Who uses it?\n",
    "\n",
    "Notable clients include:\n",
    "- The Obama Administration\n",
    "- Yelp\n",
    "- Netflix\n",
    "- NASA\n",
    "- Pinterest\n",
    "- Spotify\n",
    "- The CIA"
   ]
  },
  {
   "cell_type": "markdown",
   "metadata": {
    "slideshow": {
     "slide_type": "slide"
    }
   },
   "source": [
    "## Why do they use it?\n",
    "\n",
    "- Because it is far cheaper than rolling their own\n",
    "- Offers them reliability and scalability"
   ]
  },
  {
   "cell_type": "markdown",
   "metadata": {
    "slideshow": {
     "slide_type": "slide"
    }
   },
   "source": [
    "## Why did they build it?\n",
    "\n",
    "<img src=\"http://i.imgur.com/vdiEwK8.png\">\n",
    "[Quora](https://www.quora.com/How-and-why-did-Amazon-get-into-the-cloud-computing-business)"
   ]
  },
  {
   "cell_type": "markdown",
   "metadata": {
    "slideshow": {
     "slide_type": "slide"
    }
   },
   "source": [
    "## Additional Highlights\n",
    "\n",
    "- Generates ~$10 billion in annual revenue\n",
    "- Have over 30% market share\n",
    "- Nearest competitor is MSFT with less than 10%\n",
    "- Most common services are EC2, S3, RDS, EMR, Redshift"
   ]
  },
  {
   "cell_type": "markdown",
   "metadata": {
    "slideshow": {
     "slide_type": "slide"
    }
   },
   "source": [
    "## EC2\n",
    "\n",
    "The first service we will discover is _Elastic Compute Cloud_ or _EC2_. This service forms a central part of Amazon.com's cloud-computing platform by allowing users to rent virtual computers on which to run their own computer applications. Let's learn some terms first:\n",
    "\n",
    "- **Instance**: virtual machine hosted in Amazon Cloud running the software we want\n",
    "- **Amazon Machine Image (AMI)**: a snapshot of a configured machine that we can use as starting point to boot an instance. We can also save a running instance to a new AMI so that in the future we can boot a new machine with identical configuration.\n",
    "- **SSH Key**: [pair of keys](https://en.wikipedia.org/wiki/Public-key_cryptography) necessary to connect to an instance remotely. The private key will be downloaded to our laptop, the matching public key will be automatically configured on the instance."
   ]
  },
  {
   "cell_type": "markdown",
   "metadata": {
    "slideshow": {
     "slide_type": "slide"
    }
   },
   "source": [
    "## How is EC2 different from using our laptop or a server?\n",
    "\n",
    "The main conceptual shift from using a laptop to running an instance in the cloud is that we should think of computing power as ephemeral. We can request computing power when we need it, do a calculation and dismiss that power as we are done. Input and output will not be stored on the machine, rather stored somewhere else in the cloud (hint: S3). In this sense, computing power is a commodity that we purchase and use in the amount and time that we need."
   ]
  },
  {
   "cell_type": "markdown",
   "metadata": {
    "slideshow": {
     "slide_type": "slide"
    }
   },
   "source": [
    "## Demo\n",
    "\n",
    "Let's see how it works.\n",
    "\n",
    "1) Create a new account on AWS [here](https://aws.amazon.com/) if you haven't yet. Otherwise just log in.\n",
    "\n",
    "It will ask you for contact information and credit card. Do not worry, most of the thing we will do are free for first time users and when we will use paying services it won't likely cost more than 10$."
   ]
  },
  {
   "cell_type": "markdown",
   "metadata": {
    "slideshow": {
     "slide_type": "slide"
    }
   },
   "source": [
    "<img src=\"http://i.imgur.com/HPSwQGP.png\">"
   ]
  },
  {
   "cell_type": "markdown",
   "metadata": {
    "slideshow": {
     "slide_type": "slide"
    }
   },
   "source": [
    "<img src=\"http://i.imgur.com/rzY9ah7.png\">"
   ]
  },
  {
   "cell_type": "markdown",
   "metadata": {
    "slideshow": {
     "slide_type": "slide"
    }
   },
   "source": [
    "<img src=\"http://i.imgur.com/jtLfkRU.png\">"
   ]
  },
  {
   "cell_type": "markdown",
   "metadata": {
    "slideshow": {
     "slide_type": "slide"
    }
   },
   "source": [
    "<img src=\"http://i.imgur.com/0y5hKFa.png\">"
   ]
  },
  {
   "cell_type": "markdown",
   "metadata": {
    "slideshow": {
     "slide_type": "slide"
    }
   },
   "source": [
    "Let's sign in to the console, you should get to this page:<br>\n",
    "<img src=\"http://i.imgur.com/owqrd0e.png\">"
   ]
  },
  {
   "cell_type": "markdown",
   "metadata": {
    "slideshow": {
     "slide_type": "slide"
    }
   },
   "source": [
    "## EC2 - Elastic Cloud Compute\n",
    "\n",
    "We'll go ahead and follow the tutorial [here](https://aws.amazon.com/getting-started/tutorials/launch-a-virtual-machine/)"
   ]
  },
  {
   "cell_type": "markdown",
   "metadata": {
    "slideshow": {
     "slide_type": "slide"
    }
   },
   "source": [
    "### Step 1: Launch an Amazon EC2 Instance\n",
    "\n",
    "<img src=\"http://i.imgur.com/KTsbP71.png\">"
   ]
  },
  {
   "cell_type": "markdown",
   "metadata": {
    "slideshow": {
     "slide_type": "slide"
    }
   },
   "source": [
    "### Step 2: Configure your Instance\n",
    "\n",
    "<img src=\"http://i.imgur.com/ASAfxND.png\">"
   ]
  },
  {
   "cell_type": "markdown",
   "metadata": {
    "slideshow": {
     "slide_type": "slide"
    }
   },
   "source": [
    "Notice that we can have a lot of information about the instance, in particular:\n",
    "\n",
    "- it's DNS name and IP address\n",
    "**Check:** What is an IP address?\n",
    "\n",
    "- They type of instance\n",
    "- The key necessary to connect"
   ]
  },
  {
   "cell_type": "markdown",
   "metadata": {
    "slideshow": {
     "slide_type": "slide"
    }
   },
   "source": [
    "#### Step 3: Connect to your Instance\n",
    "\n",
    "Go ahead and follow the instructions on how to connect to the instance. In particular:\n",
    "\n",
    "1. (optional) download a bash shell\n",
    "- copy the SSH key you downloaded to the appropriate location\n",
    "- use the SSH key to connect as explained in the tutorial<br>\n",
    "\n",
    "<img src=\"http://i.imgur.com/acGZQUe.png\">"
   ]
  },
  {
   "cell_type": "markdown",
   "metadata": {
    "slideshow": {
     "slide_type": "slide"
    }
   },
   "source": [
    "Congratulations!! You've just connected to an instance in the cloud!! How awesome is that!!\n",
    "\n",
    "Try launching python from the shell and do something with it.\n",
    "\n",
    "<img src=\"http://i.imgur.com/39xhith.png\">"
   ]
  },
  {
   "cell_type": "markdown",
   "metadata": {
    "slideshow": {
     "slide_type": "slide"
    }
   },
   "source": [
    "#### Step 4: Terminate Your Instance\n",
    "\n",
    "Once you're done with your calculation and you no longer need the instance, you can go ahead and terminate it. NB: this will kill the instance and it will no longer be available to you. You should make sure you have saved all the data and the code you needed somewhere else.\n",
    "\n",
    "<img src=\"http://i.imgur.com/z4GhG7S.png\">"
   ]
  },
  {
   "cell_type": "markdown",
   "metadata": {
    "slideshow": {
     "slide_type": "slide"
    }
   },
   "source": [
    "Unless you are using your machine to serve a live application (like a web app or an api) it's very important that you terminate your instance if you don't use it so that you don't incur in additional unnecessary costs.\n",
    "\n",
    "<img src=\"http://i.imgur.com/kA8Mxvz.png\">"
   ]
  },
  {
   "cell_type": "markdown",
   "metadata": {
    "slideshow": {
     "slide_type": "slide"
    }
   },
   "source": [
    "### Additional remarks\n",
    "\n",
    "We've seen the simplest way to launch and terminate an instance in the cloud.\n",
    "\n",
    "There's a lot more to it, that you'll discover in time, here are some pointers you may find useful:\n",
    "\n",
    "- [Pricing](https://aws.amazon.com/ec2/pricing/): EC2 pricing depends on the type of instance and on the chosen region. Make sure you understand the cost of the instance you request in order to avoid surprise bills. If you're in doubt you can use the convenient [Cost Calculator](http://calculator.s3.amazonaws.com/index.html) to get an exact forecast of your costs.\n",
    "\n",
    "<img src=\"http://i.imgur.com/HYS2lTe.png\">"
   ]
  },
  {
   "cell_type": "markdown",
   "metadata": {
    "slideshow": {
     "slide_type": "slide"
    }
   },
   "source": [
    "- [Spot instances](http://docs.aws.amazon.com/AWSEC2/latest/UserGuide/using-spot-instances.html): spot instances are even more ephemeral than normal instances. They only live till their cost is lower than the price you agreed to pay. They are a great way to save money when using more powerful machines. <br><br>\n",
    "- [AMIs](http://docs.aws.amazon.com/AWSEC2/latest/UserGuide/AMIs.html) AMIs are shapshot of our machine. They are great if we installed a lot of software on our machine and want to save that particular configuration.\n",
    "\n",
    "<img src=\"http://i.imgur.com/JAeDqTO.png\">\n",
    "\n",
    "**Check:** can you give an example of when AMIs could be useful?"
   ]
  },
  {
   "cell_type": "markdown",
   "metadata": {
    "slideshow": {
     "slide_type": "slide"
    }
   },
   "source": [
    "- [Security Groups](http://docs.aws.amazon.com/AWSEC2/latest/UserGuide/using-network-security.html): security groups are ways to open ports to the services running on our machine.\n",
    "**Check:** can you give an example of a practical case?\n",
    "\n",
    "\n",
    "- [Elastic IPs](http://docs.aws.amazon.com/AWSEC2/latest/UserGuide/elastic-ip-addresses-eip.html): we can rent a fixed IP address and associate it to our instance. This way we can configure tools to always connect to the same address, independently of which machine is behind it.\n",
    "**Check:** can you give a practical use case?\n"
   ]
  },
  {
   "cell_type": "markdown",
   "metadata": {
    "slideshow": {
     "slide_type": "slide"
    }
   },
   "source": [
    "## S3 - Simple Storage Service"
   ]
  },
  {
   "cell_type": "markdown",
   "metadata": {
    "slideshow": {
     "slide_type": "-"
    }
   },
   "source": [
    "We have learned how to start and stop an instance in the cloud. That's great, because it gives us \"computing power as a service\". Now let's learn how we can store data in the cloud too.\n",
    "\n",
    "Amazon S3 (Simple Storage Service) is an online file storage. It provides storage through web services interfaces (REST, SOAP, and BitTorrent) using an _object storage architecture_. According to Amazon, S3's design aims to provide scalability, high availability, and low latency at commodity costs.\n",
    "\n",
    "Objects are organized into buckets (each owned by an Amazon Web Services account), and identified within each bucket by a unique, user-assigned key. Buckets and objects can be created, listed, and retrieved using either a REST-style HTTP interface or a SOAP interface. Additionally, objects can be downloaded using the HTTP GET interface and the BitTorrent protocol."
   ]
  },
  {
   "cell_type": "markdown",
   "metadata": {
    "slideshow": {
     "slide_type": "slide"
    }
   },
   "source": [
    "<a name=\"ind-practice\"></a>\n",
    "## S3 - Simple Storage Service\n",
    "\n",
    "In pairs: go ahead and follow the [tutorial for S3](https://aws.amazon.com/getting-started/tutorials/backup-files-to-amazon-s3/).\n",
    "\n",
    "The steps should be super simple to follow. Any questions?\n",
    "\n",
    "**Check:** what's a practical case you can envision using S3 for?"
   ]
  },
  {
   "cell_type": "markdown",
   "metadata": {
    "slideshow": {
     "slide_type": "slide"
    }
   },
   "source": [
    "<a name=\"demo\"></a>\n",
    "## AWSCLI - AWS Command Line\n",
    "\n",
    "Wow, great! We have learned to request and access computing power and storage as a service through AWS. Wouldn't it be nice to be able to do this in a quick way from the command line? Yeah! Let's introduce AWSCLI!\n",
    "\n",
    "[AWSCLI](https://github.com/aws/aws-cli) is a unified command line interface to Amazon Web Services. It allows us to control most of AWS services from the same command line interface.\n",
    "\n",
    "**Check:** Why is that useful? Why is that powerful? Can you give some examples?\n"
   ]
  },
  {
   "cell_type": "markdown",
   "metadata": {
    "slideshow": {
     "slide_type": "slide"
    }
   },
   "source": [
    "<a name=\"ind-practice\"></a>\n",
    "## AWSCLI - AWS Command Line\n",
    "\n",
    "Let's go ahead and follow the [tutorial for AWSCLI](https://aws.amazon.com/getting-started/tutorials/backup-to-s3-cli/)"
   ]
  },
  {
   "cell_type": "markdown",
   "metadata": {
    "slideshow": {
     "slide_type": "slide"
    }
   },
   "source": [
    "### Steps to complete\n",
    "\n",
    "#### Step 1: Create an AWS IAM User\n",
    "\n",
    "In order to use the command line we will have to configure a set of access credentials on our laptop. It's very important to create a separate identity with limited permissions instead of using our root account credentials."
   ]
  },
  {
   "cell_type": "markdown",
   "metadata": {
    "slideshow": {
     "slide_type": "-"
    }
   },
   "source": [
    "<img src=\"http://i.imgur.com/Umd7meI.png\">"
   ]
  },
  {
   "cell_type": "markdown",
   "metadata": {
    "slideshow": {
     "slide_type": "slide"
    }
   },
   "source": [
    "#### Step 2: Install and Configure the AWS CLI\n",
    "\n",
    "\n",
    "http://docs.aws.amazon.com/cli/latest/userguide/installing.html\n",
    "\n",
    "Note that one of the method is to simply use `pip` to install the AWSCLI.\n",
    "\n",
    "**Note:** If you already have AWSCLI configured and you would like to have multiple roles, you can do that as explained [here](http://docs.aws.amazon.com/cli/latest/userguide/cli-roles.html).\n",
    "\n",
    "#### Step 3: Using the AWS CLI with Amazon S3\n",
    "\n",
    "Now you can go ahead and copy files back and forth from your command line, without ever having to click on the web interface. How cool is that?\n",
    "\n",
    "\n",
    "Here's a [Cheat Sheet](https://github.com/toddm92/aws/wiki/AWS-CLI-Cheat-Sheet) for the AWSCLI."
   ]
  },
  {
   "cell_type": "markdown",
   "metadata": {
    "slideshow": {
     "slide_type": "slide"
    }
   },
   "source": [
    "<a name=\"guided_practice\"></a>\n",
    "## EC2 from the command line (15 min)\n",
    "\n",
    "Empowered with a well configured AWSCLI, we can now start and stop EC2 instances from the command line! Let's use it to spin up a spot instance.\n",
    "\n",
    "#### 1. Check prices\n",
    "\n",
    "Let's check the price for an `m3.medium` spot instance:\n",
    "\n",
    "```bash\n",
    "aws ec2 describe-spot-price-history \\\n",
    "    --start-time $(date -u +\"%Y%m%dT%H0000\") \\\n",
    "    --product \"Linux/UNIX\" \\\n",
    "    --instance-type \"m3.medium\" \\\n",
    "    --region us-west-2 \\\n",
    "    --output table\n",
    "```\n",
    "\n",
    "**Note:** you may have to set the region to the same region you used when opening your account."
   ]
  },
  {
   "cell_type": "markdown",
   "metadata": {
    "slideshow": {
     "slide_type": "slide"
    }
   },
   "source": [
    "<img src=\"http://i.imgur.com/kZZsuEV.png\">"
   ]
  },
  {
   "cell_type": "markdown",
   "metadata": {
    "slideshow": {
     "slide_type": "slide"
    }
   },
   "source": [
    "#### 2. Get the Security group id\n",
    "\n",
    "In the previous activity we launched an instance and created a security group that allows SSH access. Let's use the same security group.\n",
    "\n",
    "```bash\n",
    "aws ec2 describe-security-groups --region us-west-2\n",
    "```\n",
    "(or the region you chose)\n",
    "\n",
    "This will return a json string. You want to copy the id of the security group that has port 22 open."
   ]
  },
  {
   "cell_type": "markdown",
   "metadata": {
    "slideshow": {
     "slide_type": "slide"
    }
   },
   "source": [
    "#### 3. Get the AMI id\n",
    "\n",
    "Get the AMI id of the Ubuntu Linux 14.04 Image. You can find by checking the name in the [launch instance window](https://us-west-2.console.aws.amazon.com/ec2/v2/home?region=us-west-2#LaunchInstanceWizard). At the time of writing it's: `ami-9abea4fb`.\n",
    "\n",
    "You can check it by typing:\n",
    "\n",
    "```bash\n",
    "aws ec2 describe-images --image-ids ami-9abea4fb --region us-west-2\n",
    "```"
   ]
  },
  {
   "cell_type": "markdown",
   "metadata": {
    "slideshow": {
     "slide_type": "slide"
    }
   },
   "source": [
    "#### 4. Launch spot instance\n",
    "\n",
    "You're now ready to sumbit the spot instance request:\n",
    "\n",
    "```bash\n",
    "aws ec2 request-spot-instances \\\n",
    "    --region us-west-2 \\\n",
    "    --spot-price 0.02 \\\n",
    "    --launch-specification \"{\n",
    "        \\\"KeyName\\\": \\\"MyFirstKey\\\",\n",
    "        \\\"ImageId\\\": \\\"<MOST RECENT UBUNTU AMI ID>\\\",\n",
    "        \\\"InstanceType\\\": \\\"m3.medium\\\" ,\n",
    "        \\\"SecurityGroupIds\\\": [\\\"<YOUR SECURITY GROUP ID>\\\"]\n",
    "    }\"\n",
    "```\n",
    "\n",
    "If working, this should return a json description of the instance request.\n",
    "\n",
    "You can check that the instance request has been opened:"
   ]
  },
  {
   "cell_type": "markdown",
   "metadata": {
    "slideshow": {
     "slide_type": "-"
    }
   },
   "source": [
    "<img src=\"http://i.imgur.com/5IA0r6g.png\">"
   ]
  },
  {
   "cell_type": "markdown",
   "metadata": {
    "slideshow": {
     "slide_type": "slide"
    }
   },
   "source": [
    "or by command line:\n",
    "\n",
    "```bash\n",
    "aws ec2 describe-spot-instance-requests --region us-west-2\n",
    "```\n",
    "\n",
    "When the request has been accepted, an instance is spawned:"
   ]
  },
  {
   "cell_type": "markdown",
   "metadata": {
    "slideshow": {
     "slide_type": "-"
    }
   },
   "source": [
    "<img src=\"http://i.imgur.com/FcxJa2M.png\">"
   ]
  },
  {
   "cell_type": "markdown",
   "metadata": {
    "slideshow": {
     "slide_type": "slide"
    }
   },
   "source": [
    "Let's retrieve the DNS name:\n",
    "\n",
    "```bash\n",
    "aws ec2 describe-instances --region us-west-2 --output json | grep PublicDnsName | head -n 1\n",
    "```"
   ]
  },
  {
   "cell_type": "markdown",
   "metadata": {
    "slideshow": {
     "slide_type": "slide"
    }
   },
   "source": [
    "#### 4. Connect to the spot instance\n",
    "\n",
    "```bash\n",
    "ssh -i ~/.ssh/MyFirstKey.pem ubuntu@<YOUR INSTANCE DNS>\n",
    "```"
   ]
  },
  {
   "cell_type": "markdown",
   "metadata": {
    "slideshow": {
     "slide_type": "slide"
    }
   },
   "source": [
    "#### 5. Terminate the spot instance\n",
    "\n",
    "Let's retrieve the instance id and kill it:\n",
    "\n",
    "```bash\n",
    "aws ec2 describe-instances --region us-west-2 --output json | grep InstanceId\n",
    "\n",
    "aws ec2 terminate-instances --instance-ids i-0aa55cd3363b0f187\n",
    "```\n",
    "<img src=\"http://i.imgur.com/Aype3xS.png\">"
   ]
  },
  {
   "cell_type": "markdown",
   "metadata": {
    "slideshow": {
     "slide_type": "slide"
    }
   },
   "source": [
    "<a name=\"conclusion\"></a>\n",
    "## Conclusion (5 min)\n",
    "\n",
    "In this lesson we have learned about 2 fundamental Amazon web services: Elastic Cloud Compute and Simple Storage Service. These 2 services are so common because they provide on demand computation and storage at a very affordable cost.\n",
    "\n",
    "We have learned how to use them both from the web interface and from the command line."
   ]
  },
  {
   "cell_type": "markdown",
   "metadata": {
    "slideshow": {
     "slide_type": "slide"
    }
   },
   "source": [
    "### ADDITIONAL RESOURCES\n",
    "\n",
    "- [EC2](https://aws.amazon.com/ec2/?nc2=h_m1)\n",
    "- [S3](https://aws.amazon.com/s3/?nc2=h_m1)\n",
    "- [Tutorials](https://aws.amazon.com/getting-started/tutorials/)\n",
    "- [AWS CLI Tutorial](http://www.joyofdata.de/blog/guide-to-aws-ec2-on-cli/)"
   ]
  }
 ],
 "metadata": {
  "anaconda-cloud": {},
  "celltoolbar": "Slideshow",
  "kernelspec": {
   "display_name": "Python [conda root]",
   "language": "python",
   "name": "conda-root-py"
  },
  "language_info": {
   "codemirror_mode": {
    "name": "ipython",
    "version": 2
   },
   "file_extension": ".py",
   "mimetype": "text/x-python",
   "name": "python",
   "nbconvert_exporter": "python",
   "pygments_lexer": "ipython2",
   "version": "2.7.12"
  }
 },
 "nbformat": 4,
 "nbformat_minor": 0
}
