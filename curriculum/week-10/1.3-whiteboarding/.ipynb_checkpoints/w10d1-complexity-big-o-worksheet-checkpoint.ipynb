{
 "cells": [
  {
   "cell_type": "markdown",
   "metadata": {
    "slideshow": {
     "slide_type": "slide"
    }
   },
   "source": [
    "### A prelude...\n",
    "\n",
    "1. Maximum product of three elements\n",
    "\n",
    "Write a function that takes a list of integers and returns the largest product of three seaparate elements."
   ]
  },
  {
   "cell_type": "code",
   "execution_count": 4,
   "metadata": {
    "collapsed": false
   },
   "outputs": [
    {
     "data": {
      "text/plain": [
       "23"
      ]
     },
     "execution_count": 4,
     "metadata": {},
     "output_type": "execute_result"
    }
   ],
   "source": [
    "list = [1,1,2,10,4,6,-10,7,-10,0]\n",
    "list.sort()\n",
    "sum(list[(len(list)-3):])\n",
    "# list\n"
   ]
  },
  {
   "cell_type": "code",
   "execution_count": 61,
   "metadata": {
    "collapsed": false,
    "slideshow": {
     "slide_type": "slide"
    }
   },
   "outputs": [
    {
     "name": "stdout",
     "output_type": "stream",
     "text": [
      "1000\n"
     ]
    }
   ],
   "source": [
    "\"\"\" Naive, brute force solution.\"\"\"\n",
    "\n",
    "n = [1,1,2,10,4,6,-10,7,-10,0]\n",
    "\n",
    "def largestProduct(n):\n",
    "    maxProduct = 0\n",
    "    for i in range(len(n)-2):\n",
    "        # ...\n",
    "    return maxProduct\n",
    "\n",
    "print largestProduct(n)"
   ]
  },
  {
   "cell_type": "markdown",
   "metadata": {
    "slideshow": {
     "slide_type": "slide"
    }
   },
   "source": [
    "### Big O analysis\n",
    "\n",
    "- If you have a very big file to send across the country, which is faster: emailing it or getting on a flight?\n",
    "- Depends on its size. Emailing scales linearly with size; flying it on a hard drive is in constant time.\n",
    "- Time (and space) complexity (asymptomtic runtime / Big O time) helps us think about questions like this: how do time and space requirements increase with the size of our data?"
   ]
  },
  {
   "cell_type": "markdown",
   "metadata": {
    "slideshow": {
     "slide_type": "slide"
    }
   },
   "source": [
    "Nomenclature is \"O([runtime])\"\n",
    "- constant time would be O(1)\n",
    "- linear time is O(n)\n",
    "\n",
    "What is the runtime for this?\n",
    "\n",
    "```python \n",
    "for i in someList:\n",
    "    print i\n",
    "```\n"
   ]
  },
  {
   "cell_type": "markdown",
   "metadata": {
    "slideshow": {
     "slide_type": "slide"
    }
   },
   "source": [
    "- It's O(n), where n is the length of someList\n",
    "\n",
    "What about this:\n",
    "\n",
    "```python\n",
    "for i in someList:\n",
    "    print i\n",
    "for j in anotherList:\n",
    "    print j\n",
    "```\n"
   ]
  },
  {
   "cell_type": "markdown",
   "metadata": {
    "slideshow": {
     "slide_type": "slide"
    }
   },
   "source": [
    "- This loops twice. If we assume someList and anotherList are the same length, then runtime is O(2n). \n",
    "\n",
    "- In Big O analysis, we drop any additive or multiplicative constants, since this is an approximation anyway. So the time complexity is still O(n)!"
   ]
  },
  {
   "cell_type": "markdown",
   "metadata": {
    "slideshow": {
     "slide_type": "slide"
    }
   },
   "source": [
    "How about if we have an outer loop and an inner loop?:\n",
    "\n",
    "```python\n",
    "for i in someList:\n",
    "    print i\n",
    "    for j in anotherList:\n",
    "        print i, j\n",
    "```\n"
   ]
  },
  {
   "cell_type": "markdown",
   "metadata": {
    "slideshow": {
     "slide_type": "slide"
    }
   },
   "source": [
    "- Now we're looping through anotherList once for *every* step in someList. It iterates n times and gets called n times.\n",
    "- So this happens n * n times = O($n^2$)"
   ]
  },
  {
   "cell_type": "markdown",
   "metadata": {
    "slideshow": {
     "slide_type": "slide"
    }
   },
   "source": [
    "- Space works similarly"
   ]
  },
  {
   "cell_type": "markdown",
   "metadata": {
    "slideshow": {
     "slide_type": "slide"
    }
   },
   "source": [
    "Take a few minutes to read over this introduction to Big O notation ([Part 1](https://justin.abrah.ms/computer-science/big-o-notation-explained.html), [Part 2](https://justin.abrah.ms/computer-science/how-to-calculate-big-o.html))."
   ]
  },
  {
   "cell_type": "markdown",
   "metadata": {
    "slideshow": {
     "slide_type": "fragment"
    }
   },
   "source": [
    "Now, optimize the solution above.\n",
    "\n",
    "Can you find a solution that works in O(n log n) time?\n",
    "\n",
    "How about looping over the data just once, i.e. O(n)?\n"
   ]
  },
  {
   "cell_type": "code",
   "execution_count": 13,
   "metadata": {
    "collapsed": false
   },
   "outputs": [
    {
     "ename": "SyntaxError",
     "evalue": "can't assign to function call (<ipython-input-13-83fc263d5d3f>, line 3)",
     "output_type": "error",
     "traceback": [
      "\u001b[0;36m  File \u001b[0;32m\"<ipython-input-13-83fc263d5d3f>\"\u001b[0;36m, line \u001b[0;32m3\u001b[0m\n\u001b[0;31m    len(list)=l\u001b[0m\n\u001b[0;31mSyntaxError\u001b[0m\u001b[0;31m:\u001b[0m can't assign to function call\n"
     ]
    }
   ],
   "source": [
    "def sortFirst(n):\n",
    "    list.sort()\n",
    "    len(list)=l\n",
    "    mp = [(l[-1]),(l[-2]),(l[-3])]\n",
    "    for x in mp:\n",
    "        MaxProduct *= x\n",
    "    \n",
    "    return maxProduct\n",
    "sortFirst(list)\n",
    "              \n",
    "def sortFirstIncludeNegatives(n):\n",
    "    # ...\n",
    "    return maxProduct\n",
    "\n",
    "def onePass(n):\n",
    "    # ...\n",
    "    \n",
    "    return maxProduct\n",
    "            "
   ]
  }
 ],
 "metadata": {
  "anaconda-cloud": {},
  "celltoolbar": "Slideshow",
  "kernelspec": {
   "display_name": "Python [default]",
   "language": "python",
   "name": "python2"
  },
  "language_info": {
   "codemirror_mode": {
    "name": "ipython",
    "version": 2
   },
   "file_extension": ".py",
   "mimetype": "text/x-python",
   "name": "python",
   "nbconvert_exporter": "python",
   "pygments_lexer": "ipython2",
   "version": "2.7.12"
  }
 },
 "nbformat": 4,
 "nbformat_minor": 0
}
