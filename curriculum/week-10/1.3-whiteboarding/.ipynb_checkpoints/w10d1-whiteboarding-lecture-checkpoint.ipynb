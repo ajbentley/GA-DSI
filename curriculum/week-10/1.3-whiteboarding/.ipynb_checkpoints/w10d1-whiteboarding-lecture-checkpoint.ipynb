{
 "cells": [
  {
   "cell_type": "markdown",
   "metadata": {
    "slideshow": {
     "slide_type": "slide"
    }
   },
   "source": [
    "# ![](https://ga-dash.s3.amazonaws.com/production/assets/logo-9f88ae6c9c3871690e33280fcf557f33.png) Interviews: whiteboarding / coding challenges\n",
    "Week 10 | Lesson 1.2\n",
    "\n",
    "\n"
   ]
  },
  {
   "cell_type": "markdown",
   "metadata": {
    "slideshow": {
     "slide_type": "slide"
    }
   },
   "source": [
    "### LEARNING OBJECTIVES\n",
    "*After this lesson, you will be able to:*\n",
    "- Explain the goals of whiteboard interviewing\n",
    "- Follow a structured approach to solving whiteboard problems\n",
    "- Clearly explain the thought process behind your solutions\n"
   ]
  },
  {
   "cell_type": "code",
   "execution_count": 15,
   "metadata": {
    "collapsed": false
   },
   "outputs": [
    {
     "data": {
      "text/plain": [
       "24"
      ]
     },
     "execution_count": 15,
     "metadata": {},
     "output_type": "execute_result"
    }
   ],
   "source": [
    "list = [1,2,4,5,6,7,8,9]\n",
    "list.sort()\n",
    "sum(list[(len(list)-3):])\n",
    "\n"
   ]
  },
  {
   "cell_type": "markdown",
   "metadata": {
    "slideshow": {
     "slide_type": "slide"
    }
   },
   "source": [
    "\n",
    "\n",
    "### LESSON GUIDE\n",
    "| TIMING  | TYPE  | TOPIC  |\n",
    "|:-:|---|---|\n",
    "| 5 min  | [Opening](#opening)  | The data collection problem  |\n",
    "| 5 min  | [Introduction](#introduction)   | What is whiteboarding?  |\n",
    "| 15 min  | [Discussion](#discussion)  | Whiteboarding steps  |\n",
    "| 15 min  | [Demo](#demo)  | Attempting a problem  |\n",
    "| 30 min  | [Guided Practice](#guidedpractice)  | Interview time  |\n",
    "| 5 min  | [Conclusion](#conclusion)  | Conclusion  |\n",
    "\n"
   ]
  },
  {
   "cell_type": "markdown",
   "metadata": {
    "slideshow": {
     "slide_type": "slide"
    }
   },
   "source": [
    "<a name=\"opening\"></a>\n",
    "## The data collection problem\n",
    "\n",
    "Imagine you are locked in a room with a stranger for one hour. In the room are the following objects:\n",
    "- A table\n",
    "- A garbage can\n",
    "- A whiteboard\n",
    "\n",
    "Once you emerge from the room, you'll be asked to decide whether or not the stranger will be worth the investment your company wants to make. Will they produce a good ROI on their yearly salary? Will they be able to work well with you and your other coworkers?\n",
    "\n",
    "Which of the above do you use to help answer these questions?"
   ]
  },
  {
   "cell_type": "markdown",
   "metadata": {
    "slideshow": {
     "slide_type": "slide"
    }
   },
   "source": [
    "<a name=\"introduction\"></a>\n",
    "## Introduction: What is whiteboarding? (5 mins)\n",
    "\n",
    "- Solving a problem using a whiteboard to show your work\n",
    "- You will also see remote collaborative coding tools, e.g. CoderPad, or timed coding challenges, e.g. HackerRank\n",
    "- If it's a collaborative session, process matters more than the output: talk through the problem, and be open to feedback"
   ]
  },
  {
   "cell_type": "markdown",
   "metadata": {
    "slideshow": {
     "slide_type": "slide"
    }
   },
   "source": [
    "<a name=\"discussion\"></a>\n",
    "## Discussion: Whiteboarding technical problems (15 mins)\n",
    "\n",
    "Here's a typical approach:\n",
    "\n",
    "1. Listen carefully and clarify specifications\n",
    "2. Find a naive solution. What's your time and space complexity?\n",
    "3. Optimize: look for Bottlenecks, Unnecessary work and Duplicated work (BUD)\n",
    "4. Walk through your new solution\n",
    "5. Implement in code on the whiteboard\n",
    "6. Test\n",
    "7. Take feedback"
   ]
  },
  {
   "cell_type": "markdown",
   "metadata": {
    "slideshow": {
     "slide_type": "slide"
    }
   },
   "source": [
    "#### 1. Listen carefully and clarify specifications\n",
    "\n",
    "Repeat the problem in your own words to the interviewer. Ask any questions you may have about how you're expected to address the problem. This should take a few minutes, enough to get you started and show that you are conscientious about your work.\n",
    "\n",
    "It may help to write out some simple test cases to formalize your inputs and outputs. E.g. if you were asked to write a function to divide two numbers, your 'tests' could be written on the baord roughly in this format:\n",
    "```\n",
    "division(1, 2) => 0.5\n",
    "\n",
    "division(0, 3) => 0\n",
    "\n",
    "division(1, 0) => ERROR\n",
    "```"
   ]
  },
  {
   "cell_type": "markdown",
   "metadata": {
    "slideshow": {
     "slide_type": "slide"
    }
   },
   "source": [
    "#### 2. Find a naive solution\n",
    "\n",
    "Quickly find a naive solution that works. Make sure you talk out what you're doing and explain your reasoning. This naive solution can be almost anything -- a brute force algorithm, a simpler version of the problem, a drawn representation of the problem/solution, whatever it takes to get something working.\n",
    "\n",
    "After talking through this first solution, check whether the interviewer wants this written out. If so, write the code neatly starting in the upper left of the board."
   ]
  },
  {
   "cell_type": "markdown",
   "metadata": {
    "slideshow": {
     "slide_type": "slide"
    }
   },
   "source": [
    "Some tips for this part:\n",
    "\n",
    "- _Never be silent_ - it's difficult for the interviewer to gather data if you don't provide a signal. \n",
    "\n",
    "- _Use your space wisely_. Don't write yourself into a hole by covering the whole board, you'll need room to correct any errors."
   ]
  },
  {
   "cell_type": "markdown",
   "metadata": {
    "slideshow": {
     "slide_type": "slide"
    }
   },
   "source": [
    "- _Admit what you don't know_. You're not expected to know everything, but you're expected to know how to find the answers. If you don't know the best way to do something, what would you do on the job? You'd probably Google it. Tell the interviewer this. It doesn't make you look weak, it shows that you are realistic about the work you'll do.\n",
    "\n",
    "- _SLOW DOWN!_ Too often candidates rush through and make silly mistakes. Odds are the person interviewing you has been subjected to quite a few of these interviews. They don't expect you to solve the problem in super-human time."
   ]
  },
  {
   "cell_type": "markdown",
   "metadata": {
    "slideshow": {
     "slide_type": "slide"
    }
   },
   "source": [
    "#### 3. Optimize\n",
    "\n",
    "After you've gotten a simple solution down, evaluate it. Does it satisfy any tests you've written? What is the time and space complexity, and can you improve on this? Does it work any better or worse with a new example? Do edge cases break it?\n",
    "\n",
    "Look for:\n",
    "- Bottlenecks: a part of the algorithm where work is done repeatedly, or done once but inefficiently.\n",
    "- Unnecessary work: operations that are extraneous or can be optimized away\n",
    "- Duplicated work: operations that are straightforwardly redundant\n",
    "\n",
    "(This mnemonic and following examples are from _Cracking the Coding Interview_, an excellent preparatory book.)"
   ]
  },
  {
   "cell_type": "markdown",
   "metadata": {
    "slideshow": {
     "slide_type": "slide"
    }
   },
   "source": [
    "#### Example of a bottleneck:\n",
    "\n",
    ">Q: Given an array of distinct integers, count the number of pairs of integers with difference _k_. E.g. given [1, 7, 5, 9, 2, 12, 3] and k = 2, your function should count four pairs: (1,3), (3,5), (5,7), and (7,9).\n",
    "\n",
    "A brute force solution is to start at the first element, then iterate through the rest, compute the difference, and increment a counter if the difference is _k_.\n",
    "\n",
    "Looking for the \"other side\" of the pair is your bottleneck."
   ]
  },
  {
   "cell_type": "markdown",
   "metadata": {
    "slideshow": {
     "slide_type": "slide"
    }
   },
   "source": [
    "So focus on this bottleneck. We know what we're looking for: n-k or n+k. So we could first sort the array, _then_ search just for n-k and n+k. (Each of these steps is O(log n) time.)"
   ]
  },
  {
   "cell_type": "markdown",
   "metadata": {
    "slideshow": {
     "slide_type": "slide"
    }
   },
   "source": [
    "#### Example of unnecessary work:\n",
    "\n",
    "> Q: Print all positive integer solutions to $a^3 + b^3 = c^3 + d^3$ where a, b, c and d are integers between 1 and 1000."
   ]
  },
  {
   "cell_type": "markdown",
   "metadata": {
    "slideshow": {
     "slide_type": "slide"
    }
   },
   "source": [
    "Here's a brute force solution:\n",
    "\n",
    "```python\n",
    "n = 1000\n",
    "for a in range(1,n):\n",
    "    for b in range(1,n):\n",
    "        for c in range(1,n):\n",
    "            for d in range(1,n):\n",
    "                if a^3 + b^3 == c^3 + d^3:\n",
    "                    print a, b, c, d\n",
    "```\n",
    "\n",
    "Do you see the unnecessary step?"
   ]
  },
  {
   "cell_type": "markdown",
   "metadata": {
    "slideshow": {
     "slide_type": "slide"
    }
   },
   "source": [
    "```python\n",
    "n = 1000\n",
    "for a in range(1,n):\n",
    "    for b in range(1,n):\n",
    "        for c in range(1,n):\n",
    "            for d in range(1,n):\n",
    "                if a^3 + b^3 == c^3 + d^3:\n",
    "                    print a, b, c, d\n",
    "                    break\n",
    "```\n",
    "\n",
    "For any given a, b, c, there will only be one valid value for d, so why do we need to iterate through all 1000 possible values? We could add a `break` after the `print` statement to get out of the for-loop.\n",
    "\n",
    "> Check: how else could we improve this?"
   ]
  },
  {
   "cell_type": "markdown",
   "metadata": {
    "slideshow": {
     "slide_type": "slide"
    }
   },
   "source": [
    "We could also just compute d by taking the third root of $a^3 + b^3 - c^3$, and making sure it's an integer solution.\n",
    "    \n",
    "```python\n",
    "n = 1000\n",
    "for a in range(1,n):\n",
    "    for b in range(1,n):\n",
    "        for c in range(1,n):\n",
    "            d = pow(a^3 + b^3 - c^3, 1/3.0)\n",
    "            if a^3 + b^3 == c^3 + int(d)^3 and d >= 0 and d <= n:\n",
    "                print a, b, c, d\n",
    "```"
   ]
  },
  {
   "cell_type": "markdown",
   "metadata": {
    "slideshow": {
     "slide_type": "slide"
    }
   },
   "source": [
    "#### Example of duplicated work:\n",
    "\n",
    "In the code above, we're computing c,d pairs for every a,b pair -- why? We could compute those pairs once and put them in a diction:\n",
    "\n",
    "```python\n",
    "resultDict = {}\n",
    "for c in range(1, n):\n",
    "    for d in range(1, n):\n",
    "        result = c^3 + d^3\n",
    "            resultDict[result] = (c, d)\n",
    "\n",
    "for a in range(1, n):\n",
    "    for b in range(1, n):\n",
    "        result = a^3 + b^3\n",
    "        otherPair = resultDict[result]\n",
    "        print a, b, otherPair\n",
    "```"
   ]
  },
  {
   "cell_type": "markdown",
   "metadata": {
    "slideshow": {
     "slide_type": "slide"
    }
   },
   "source": [
    "Discuss what you've done with the interviewer. Be careful with your language, both verbal and physical. Nobody wants to work with someone who gets defensive or combative over a difference in opinion."
   ]
  },
  {
   "cell_type": "markdown",
   "metadata": {
    "slideshow": {
     "slide_type": "slide"
    }
   },
   "source": [
    "#### 4. Walk through your solution\n",
    "\n",
    "Discuss your new solution step-by-step. Take your time and make sure each detail makes sense.\n",
    "\n"
   ]
  },
  {
   "cell_type": "markdown",
   "metadata": {
    "slideshow": {
     "slide_type": "slide"
    }
   },
   "source": [
    "#### 5. Implement\n",
    "\n",
    "At this stage you should already know what you need to write: go for it, giving yourself lots of room to work with.\n",
    "\n",
    "Try to keep the lines neatly aligned, especially if you're using Python."
   ]
  },
  {
   "cell_type": "markdown",
   "metadata": {
    "slideshow": {
     "slide_type": "slide"
    }
   },
   "source": [
    "#### 6. Test\n",
    "\n",
    "Start conceptual: talk through each line and ensure it does what you intended.\n",
    "\n",
    "Then try a small test case."
   ]
  },
  {
   "cell_type": "markdown",
   "metadata": {
    "slideshow": {
     "slide_type": "slide"
    }
   },
   "source": [
    "#### 7. Take feedback\n",
    "\n",
    "Maybe you didn't get the optimal answer, or a working solution at all. In any case, ask the interviewer if there's anything she or he would have done differently. If you were doing well, this shows that you care about collaborating to do things the best way you can. If you failed, use this as a learning experience. Always be open to feedback.\n",
    "\n",
    "> **Check:** Let's review the steps. Can you recall the strategies? Can you think of anything else to keep in mind?"
   ]
  },
  {
   "cell_type": "markdown",
   "metadata": {
    "slideshow": {
     "slide_type": "slide"
    }
   },
   "source": [
    "<a name=\"demo\"></a>\n",
    "## Demo: Attempting a Problem (25 mins)\n",
    "\n",
    "- Let's walk through a problem together. We're going to discuss each step as we go, with me playing the role of interviewee.\n",
    "- Don't focus on the right or wrong answers, let's focus on the process. \n",
    "\n",
    "> Q: Return the value from the kth-to-last node in a linked list. \n"
   ]
  },
  {
   "cell_type": "markdown",
   "metadata": {
    "slideshow": {
     "slide_type": "slide"
    }
   },
   "source": [
    "<a name=\"guidedpractice\"></a>\n",
    "\n",
    "## Guided Practice: Interview Time (30 mins)\n",
    "\n",
    "- We'll try this in pairs.\n",
    "- First, take three minutes to think of a simple problem. Make it trivial -- for now, our focus is on practicing the process, not tougher problem solving.\n",
    "- Then go on leetcode.com, and choose an \"easy\" Algorithms problem. (Note: these are not always easy.)\n",
    "- Pair up!\n",
    "- Take 15 each as interviewees: start by asking the problem you created. If your partner solves it with time to spare, move on to the leetcode problem.\n",
    "\n",
    "> **Check:** What went well? What didn't? What can we learn?\n",
    "\n"
   ]
  },
  {
   "cell_type": "markdown",
   "metadata": {
    "slideshow": {
     "slide_type": "slide"
    }
   },
   "source": [
    "<a name=\"conclusion\"></a>\n",
    "## Conclusion (5 mins)\n",
    "\n",
    "- Whiteboarding is tough without practice, and much easier with practice.\n",
    "- Practice both algorithm solutions (available online or in many preparatory books) and the thinking-out-loud process.\n",
    "- Focus on that process: this is how you demonstrate what you'd be like to work with."
   ]
  },
  {
   "cell_type": "markdown",
   "metadata": {
    "slideshow": {
     "slide_type": "slide"
    }
   },
   "source": [
    "***\n",
    "\n",
    "### ADDITIONAL RESOURCES\n",
    "\n",
    "- [Discussion on Unit Testing](http://programmers.stackexchange.com/questions/750/what-should-you-test-with-unit-tests)\n",
    "- [Discussion on Whiteboard Interviewing](https://www.quora.com/What-are-some-ways-to-get-better-at-whiteboard-interview-questions)"
   ]
  }
 ],
 "metadata": {
  "anaconda-cloud": {},
  "celltoolbar": "Slideshow",
  "kernelspec": {
   "display_name": "Python [default]",
   "language": "python",
   "name": "python2"
  },
  "language_info": {
   "codemirror_mode": {
    "name": "ipython",
    "version": 2
   },
   "file_extension": ".py",
   "mimetype": "text/x-python",
   "name": "python",
   "nbconvert_exporter": "python",
   "pygments_lexer": "ipython2",
   "version": "2.7.12"
  }
 },
 "nbformat": 4,
 "nbformat_minor": 0
}
