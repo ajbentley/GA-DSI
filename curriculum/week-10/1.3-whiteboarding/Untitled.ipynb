{
 "cells": [
  {
   "cell_type": "code",
   "execution_count": 1,
   "metadata": {
    "collapsed": true
   },
   "outputs": [],
   "source": [
    "from dbfread import DBF\n",
    "import numpy as np\n",
    "import pandas as pd"
   ]
  },
  {
   "cell_type": "code",
   "execution_count": 5,
   "metadata": {
    "collapsed": false
   },
   "outputs": [
    {
     "name": "stdout",
     "output_type": "stream",
     "text": [
      "OrderedDict([(u'BORO', u'3'), (u'BLOCK', 8170), (u'LOT', 9999), (u'CREATED_BY', u''), (u'CREATED_DA', datetime.date(1999, 11, 30)), (u'LAST_MODIF', u'sj'), (u'LAST_MOD_1', datetime.date(2011, 12, 20)), (u'Shape_Leng', 421.44769537), (u'Shape_Area', 8854.72259445)])\n",
      "OrderedDict([(u'BORO', u'3'), (u'BLOCK', 8726), (u'LOT', 9998), (u'CREATED_BY', u''), (u'CREATED_DA', datetime.date(1999, 11, 30)), (u'LAST_MODIF', u'sj'), (u'LAST_MOD_1', datetime.date(2011, 9, 20)), (u'Shape_Leng', 842.5820193), (u'Shape_Area', 3822.95362908)])\n",
      "OrderedDict([(u'BORO', u'3'), (u'BLOCK', 8746), (u'LOT', 9999), (u'CREATED_BY', u''), (u'CREATED_DA', datetime.date(1999, 11, 30)), (u'LAST_MODIF', u'sj'), (u'LAST_MOD_1', datetime.date(2011, 9, 20)), (u'Shape_Leng', 185.400823819), (u'Shape_Area', 630.516671794)])\n",
      "OrderedDict([(u'BORO', u'3'), (u'BLOCK', 6746), (u'LOT', 9999), (u'CREATED_BY', u''), (u'CREATED_DA', datetime.date(1999, 11, 30)), (u'LAST_MODIF', u'sj'), (u'LAST_MOD_1', datetime.date(2011, 7, 20)), (u'Shape_Leng', 156.959211631), (u'Shape_Area', 1338.46692364)])\n",
      "OrderedDict([(u'BORO', u'3'), (u'BLOCK', 8727), (u'LOT', 9997), (u'CREATED_BY', u''), (u'CREATED_DA', datetime.date(1999, 11, 30)), (u'LAST_MODIF', u'sj'), (u'LAST_MOD_1', datetime.date(2011, 9, 20)), (u'Shape_Leng', 380.552111684), (u'Shape_Area', 1453.95937539)])\n",
      "OrderedDict([(u'BORO', u'3'), (u'BLOCK', 8738), (u'LOT', 9996), (u'CREATED_BY', u''), (u'CREATED_DA', datetime.date(1999, 11, 30)), (u'LAST_MODIF', u'sj'), (u'LAST_MOD_1', datetime.date(2011, 9, 20)), (u'Shape_Leng', 254.6411644), (u'Shape_Area', 1008.0209813)])\n",
      "OrderedDict([(u'BORO', u'3'), (u'BLOCK', 8616), (u'LOT', 9999), (u'CREATED_BY', u''), (u'CREATED_DA', datetime.date(1999, 11, 30)), (u'LAST_MODIF', u'JD'), (u'LAST_MOD_1', datetime.date(2005, 11, 30)), (u'Shape_Leng', 1251.54682064), (u'Shape_Area', 15065.0896047)])\n",
      "OrderedDict([(u'BORO', u'3'), (u'BLOCK', 8749), (u'LOT', 9999), (u'CREATED_BY', u''), (u'CREATED_DA', datetime.date(1999, 11, 30)), (u'LAST_MODIF', u'sj'), (u'LAST_MOD_1', datetime.date(2011, 9, 20)), (u'Shape_Leng', 234.357893559), (u'Shape_Area', 644.410699964)])\n",
      "OrderedDict([(u'BORO', u'3'), (u'BLOCK', 8724), (u'LOT', 9999), (u'CREATED_BY', u''), (u'CREATED_DA', datetime.date(1999, 11, 30)), (u'LAST_MODIF', u'sj'), (u'LAST_MOD_1', datetime.date(2011, 9, 20)), (u'Shape_Leng', 261.478244575), (u'Shape_Area', 706.125746968)])\n",
      "OrderedDict([(u'BORO', u'3'), (u'BLOCK', 8724), (u'LOT', 9998), (u'CREATED_BY', u''), (u'CREATED_DA', datetime.date(1999, 11, 30)), (u'LAST_MODIF', u'sj'), (u'LAST_MOD_1', datetime.date(2011, 9, 20)), (u'Shape_Leng', 93.9106346716), (u'Shape_Area', 298.015531502)])\n",
      "OrderedDict([(u'BORO', u'3'), (u'BLOCK', 8742), (u'LOT', 9998), (u'CREATED_BY', u''), (u'CREATED_DA', datetime.date(1999, 11, 30)), (u'LAST_MODIF', u'sj'), (u'LAST_MOD_1', datetime.date(2011, 9, 20)), (u'Shape_Leng', 620.204826829), (u'Shape_Area', 1950.77672514)])\n",
      "OrderedDict([(u'BORO', u'3'), (u'BLOCK', 8732), (u'LOT', 9997), (u'CREATED_BY', u''), (u'CREATED_DA', datetime.date(1999, 11, 30)), (u'LAST_MODIF', u'sj'), (u'LAST_MOD_1', datetime.date(2011, 9, 20)), (u'Shape_Leng', 742.241878271), (u'Shape_Area', 4305.85765868)])\n",
      "OrderedDict([(u'BORO', u'3'), (u'BLOCK', 8470), (u'LOT', 9999), (u'CREATED_BY', u''), (u'CREATED_DA', datetime.date(1999, 11, 30)), (u'LAST_MODIF', u'JD'), (u'LAST_MOD_1', datetime.date(2005, 11, 30)), (u'Shape_Leng', 1998.54664947), (u'Shape_Area', 56075.1233393)])\n",
      "OrderedDict([(u'BORO', u'3'), (u'BLOCK', 8741), (u'LOT', 9999), (u'CREATED_BY', u''), (u'CREATED_DA', datetime.date(1999, 11, 30)), (u'LAST_MODIF', u'sj'), (u'LAST_MOD_1', datetime.date(2011, 9, 20)), (u'Shape_Leng', 779.865468109), (u'Shape_Area', 3096.82343946)])\n",
      "OrderedDict([(u'BORO', u'3'), (u'BLOCK', 1117), (u'LOT', 9997), (u'CREATED_BY', u''), (u'CREATED_DA', datetime.date(1999, 11, 30)), (u'LAST_MODIF', u'sj'), (u'LAST_MOD_1', datetime.date(2012, 1, 20)), (u'Shape_Leng', 1603.01136007), (u'Shape_Area', 48851.7948654)])\n",
      "OrderedDict([(u'BORO', u'3'), (u'BLOCK', 8730), (u'LOT', 9999), (u'CREATED_BY', u''), (u'CREATED_DA', datetime.date(1999, 11, 30)), (u'LAST_MODIF', u'sj'), (u'LAST_MOD_1', datetime.date(2011, 9, 20)), (u'Shape_Leng', 1411.17359525), (u'Shape_Area', 4805.31514166)])\n",
      "OrderedDict([(u'BORO', u'3'), (u'BLOCK', 8732), (u'LOT', 9999), (u'CREATED_BY', u''), (u'CREATED_DA', datetime.date(1999, 11, 30)), (u'LAST_MODIF', u'sj'), (u'LAST_MOD_1', datetime.date(2011, 9, 20)), (u'Shape_Leng', 613.159635989), (u'Shape_Area', 3038.27148549)])\n",
      "OrderedDict([(u'BORO', u'3'), (u'BLOCK', 8152), (u'LOT', 9999), (u'CREATED_BY', u''), (u'CREATED_DA', datetime.date(1999, 11, 30)), (u'LAST_MODIF', u'sj'), (u'LAST_MOD_1', datetime.date(2011, 12, 20)), (u'Shape_Leng', 1117.5183898), (u'Shape_Area', 6400.81634354)])\n",
      "OrderedDict([(u'BORO', u'3'), (u'BLOCK', 8738), (u'LOT', 9998), (u'CREATED_BY', u''), (u'CREATED_DA', datetime.date(1999, 11, 30)), (u'LAST_MODIF', u'sj'), (u'LAST_MOD_1', datetime.date(2011, 9, 20)), (u'Shape_Leng', 215.355360416), (u'Shape_Area', 646.743335895)])\n",
      "OrderedDict([(u'BORO', u'3'), (u'BLOCK', 8742), (u'LOT', 9997), (u'CREATED_BY', u''), (u'CREATED_DA', datetime.date(1999, 11, 30)), (u'LAST_MODIF', u'sj'), (u'LAST_MOD_1', datetime.date(2011, 9, 20)), (u'Shape_Leng', 170.037972721), (u'Shape_Area', 331.928488155)])\n",
      "OrderedDict([(u'BORO', u'3'), (u'BLOCK', 8739), (u'LOT', 9999), (u'CREATED_BY', u''), (u'CREATED_DA', datetime.date(1999, 11, 30)), (u'LAST_MODIF', u'sj'), (u'LAST_MOD_1', datetime.date(2011, 9, 20)), (u'Shape_Leng', 1041.05853762), (u'Shape_Area', 4196.29793907)])\n",
      "OrderedDict([(u'BORO', u'3'), (u'BLOCK', 8731), (u'LOT', 9998), (u'CREATED_BY', u''), (u'CREATED_DA', datetime.date(1999, 11, 30)), (u'LAST_MODIF', u'sj'), (u'LAST_MOD_1', datetime.date(2011, 9, 20)), (u'Shape_Leng', 255.469860897), (u'Shape_Area', 727.434229542)])\n",
      "OrderedDict([(u'BORO', u'3'), (u'BLOCK', 8727), (u'LOT', 9998), (u'CREATED_BY', u''), (u'CREATED_DA', datetime.date(1999, 11, 30)), (u'LAST_MODIF', u'sj'), (u'LAST_MOD_1', datetime.date(2011, 9, 20)), (u'Shape_Leng', 658.945576793), (u'Shape_Area', 2045.59270001)])\n",
      "OrderedDict([(u'BORO', u'3'), (u'BLOCK', 1117), (u'LOT', 9999), (u'CREATED_BY', u''), (u'CREATED_DA', datetime.date(1999, 11, 30)), (u'LAST_MODIF', u'sj'), (u'LAST_MOD_1', datetime.date(2012, 1, 20)), (u'Shape_Leng', 1708.20724385), (u'Shape_Area', 74371.6335756)])\n",
      "OrderedDict([(u'BORO', u'3'), (u'BLOCK', 8733), (u'LOT', 9998), (u'CREATED_BY', u''), (u'CREATED_DA', datetime.date(1999, 11, 30)), (u'LAST_MODIF', u'sj'), (u'LAST_MOD_1', datetime.date(2011, 9, 20)), (u'Shape_Leng', 578.228991545), (u'Shape_Area', 2475.20392431)])\n",
      "OrderedDict([(u'BORO', u'3'), (u'BLOCK', 8745), (u'LOT', 9999), (u'CREATED_BY', u''), (u'CREATED_DA', datetime.date(1999, 11, 30)), (u'LAST_MODIF', u'sj'), (u'LAST_MOD_1', datetime.date(2011, 9, 20)), (u'Shape_Leng', 916.780132333), (u'Shape_Area', 2964.44404379)])\n",
      "OrderedDict([(u'BORO', u'3'), (u'BLOCK', 8752), (u'LOT', 9999), (u'CREATED_BY', u''), (u'CREATED_DA', datetime.date(1999, 11, 30)), (u'LAST_MODIF', u'sj'), (u'LAST_MOD_1', datetime.date(2011, 9, 20)), (u'Shape_Leng', 794.294510075), (u'Shape_Area', 2566.4720369)])\n",
      "OrderedDict([(u'BORO', u'3'), (u'BLOCK', 8748), (u'LOT', 9998), (u'CREATED_BY', u''), (u'CREATED_DA', datetime.date(1999, 11, 30)), (u'LAST_MODIF', u'sj'), (u'LAST_MOD_1', datetime.date(2011, 9, 20)), (u'Shape_Leng', 1070.05680795), (u'Shape_Area', 2925.79664276)])\n",
      "OrderedDict([(u'BORO', u'3'), (u'BLOCK', 8744), (u'LOT', 9999), (u'CREATED_BY', u''), (u'CREATED_DA', datetime.date(1999, 11, 30)), (u'LAST_MODIF', u'sj'), (u'LAST_MOD_1', datetime.date(2011, 9, 20)), (u'Shape_Leng', 192.848137614), (u'Shape_Area', 547.376187357)])\n",
      "OrderedDict([(u'BORO', u'3'), (u'BLOCK', 8731), (u'LOT', 9999), (u'CREATED_BY', u''), (u'CREATED_DA', datetime.date(1999, 11, 30)), (u'LAST_MODIF', u'sj'), (u'LAST_MOD_1', datetime.date(2011, 9, 20)), (u'Shape_Leng', 195.21505134), (u'Shape_Area', 414.361030762)])\n",
      "OrderedDict([(u'BORO', u'3'), (u'BLOCK', 8736), (u'LOT', 9999), (u'CREATED_BY', u''), (u'CREATED_DA', datetime.date(1999, 11, 30)), (u'LAST_MODIF', u'sj'), (u'LAST_MOD_1', datetime.date(2011, 9, 20)), (u'Shape_Leng', 1439.50489577), (u'Shape_Area', 7566.98165125)])\n",
      "OrderedDict([(u'BORO', u'3'), (u'BLOCK', 8156), (u'LOT', 9999), (u'CREATED_BY', u''), (u'CREATED_DA', datetime.date(1999, 11, 30)), (u'LAST_MODIF', u'sj'), (u'LAST_MOD_1', datetime.date(2011, 12, 20)), (u'Shape_Leng', 851.120094836), (u'Shape_Area', 5021.38138893)])\n",
      "OrderedDict([(u'BORO', u'3'), (u'BLOCK', 8742), (u'LOT', 9999), (u'CREATED_BY', u''), (u'CREATED_DA', datetime.date(1999, 11, 30)), (u'LAST_MODIF', u'sj'), (u'LAST_MOD_1', datetime.date(2011, 9, 20)), (u'Shape_Leng', 457.42216673), (u'Shape_Area', 1963.86670121)])\n",
      "OrderedDict([(u'BORO', u'3'), (u'BLOCK', 8741), (u'LOT', 9998), (u'CREATED_BY', u'GC'), (u'CREATED_DA', datetime.date(2005, 11, 30)), (u'LAST_MODIF', u'GC'), (u'LAST_MOD_1', datetime.date(2005, 11, 30)), (u'Shape_Leng', 412.50447587), (u'Shape_Area', 1673.68281084)])\n",
      "OrderedDict([(u'BORO', u'3'), (u'BLOCK', 8743), (u'LOT', 9999), (u'CREATED_BY', u''), (u'CREATED_DA', datetime.date(1999, 11, 30)), (u'LAST_MODIF', u'sj'), (u'LAST_MOD_1', datetime.date(2011, 9, 20)), (u'Shape_Leng', 644.830135589), (u'Shape_Area', 1661.40788069)])\n",
      "OrderedDict([(u'BORO', u'3'), (u'BLOCK', 8753), (u'LOT', 9998), (u'CREATED_BY', u''), (u'CREATED_DA', datetime.date(1999, 11, 30)), (u'LAST_MODIF', u'sj'), (u'LAST_MOD_1', datetime.date(2011, 9, 20)), (u'Shape_Leng', 1192.15093227), (u'Shape_Area', 3831.47681013)])\n",
      "OrderedDict([(u'BORO', u'3'), (u'BLOCK', 8760), (u'LOT', 9999), (u'CREATED_BY', u''), (u'CREATED_DA', datetime.date(1999, 11, 30)), (u'LAST_MODIF', u'sj'), (u'LAST_MOD_1', datetime.date(2011, 9, 20)), (u'Shape_Leng', 578.236338027), (u'Shape_Area', 8222.44828968)])\n",
      "OrderedDict([(u'BORO', u'3'), (u'BLOCK', 8737), (u'LOT', 9998), (u'CREATED_BY', u''), (u'CREATED_DA', datetime.date(1999, 11, 30)), (u'LAST_MODIF', u'sj'), (u'LAST_MOD_1', datetime.date(2011, 9, 20)), (u'Shape_Leng', 135.206351047), (u'Shape_Area', 480.070099552)])\n",
      "OrderedDict([(u'BORO', u'3'), (u'BLOCK', 8733), (u'LOT', 9997), (u'CREATED_BY', u''), (u'CREATED_DA', datetime.date(1999, 11, 30)), (u'LAST_MODIF', u'sj'), (u'LAST_MOD_1', datetime.date(2011, 9, 20)), (u'Shape_Leng', 382.473520738), (u'Shape_Area', 1652.99280844)])\n",
      "OrderedDict([(u'BORO', u'3'), (u'BLOCK', 8748), (u'LOT', 9999), (u'CREATED_BY', u''), (u'CREATED_DA', datetime.date(1999, 11, 30)), (u'LAST_MODIF', u'sj'), (u'LAST_MOD_1', datetime.date(2011, 9, 20)), (u'Shape_Leng', 334.664165873), (u'Shape_Area', 879.954669374)])\n",
      "OrderedDict([(u'BORO', u'3'), (u'BLOCK', 8738), (u'LOT', 9999), (u'CREATED_BY', u''), (u'CREATED_DA', datetime.date(1999, 11, 30)), (u'LAST_MODIF', u'sj'), (u'LAST_MOD_1', datetime.date(2011, 9, 20)), (u'Shape_Leng', 532.158434719), (u'Shape_Area', 2134.28896312)])\n",
      "OrderedDict([(u'BORO', u'3'), (u'BLOCK', 8732), (u'LOT', 9998), (u'CREATED_BY', u''), (u'CREATED_DA', datetime.date(1999, 11, 30)), (u'LAST_MODIF', u'sj'), (u'LAST_MOD_1', datetime.date(2011, 9, 20)), (u'Shape_Leng', 188.178461134), (u'Shape_Area', 425.652645617)])\n",
      "OrderedDict([(u'BORO', u'3'), (u'BLOCK', 7308), (u'LOT', 9999), (u'CREATED_BY', u''), (u'CREATED_DA', datetime.date(1999, 11, 30)), (u'LAST_MODIF', u'sj'), (u'LAST_MOD_1', datetime.date(2011, 11, 30)), (u'Shape_Leng', 265.787021939), (u'Shape_Area', 1867.79372564)])\n",
      "OrderedDict([(u'BORO', u'3'), (u'BLOCK', 8731), (u'LOT', 9996), (u'CREATED_BY', u''), (u'CREATED_DA', datetime.date(1999, 11, 30)), (u'LAST_MODIF', u'sj'), (u'LAST_MOD_1', datetime.date(2011, 9, 20)), (u'Shape_Leng', 813.701534697), (u'Shape_Area', 2957.86748644)])\n",
      "OrderedDict([(u'BORO', u'3'), (u'BLOCK', 8733), (u'LOT', 9999), (u'CREATED_BY', u''), (u'CREATED_DA', datetime.date(1999, 11, 30)), (u'LAST_MODIF', u'sj'), (u'LAST_MOD_1', datetime.date(2011, 9, 20)), (u'Shape_Leng', 619.494406253), (u'Shape_Area', 3005.19398727)])\n",
      "OrderedDict([(u'BORO', u'3'), (u'BLOCK', 1117), (u'LOT', 9998), (u'CREATED_BY', u''), (u'CREATED_DA', datetime.date(1999, 11, 30)), (u'LAST_MODIF', u'sj'), (u'LAST_MOD_1', datetime.date(2012, 1, 20)), (u'Shape_Leng', 657.863126495), (u'Shape_Area', 22891.1319938)])\n",
      "OrderedDict([(u'BORO', u'3'), (u'BLOCK', 8156), (u'LOT', 9998), (u'CREATED_BY', u''), (u'CREATED_DA', datetime.date(1999, 11, 30)), (u'LAST_MODIF', u'sj'), (u'LAST_MOD_1', datetime.date(2011, 12, 20)), (u'Shape_Leng', 481.297953389), (u'Shape_Area', 3001.83780945)])\n",
      "OrderedDict([(u'BORO', u'3'), (u'BLOCK', 8740), (u'LOT', 9998), (u'CREATED_BY', u''), (u'CREATED_DA', datetime.date(1999, 11, 30)), (u'LAST_MODIF', u'sj'), (u'LAST_MOD_1', datetime.date(2011, 9, 20)), (u'Shape_Leng', 1050.48998822), (u'Shape_Area', 4137.23690148)])\n",
      "OrderedDict([(u'BORO', u'3'), (u'BLOCK', 803), (u'LOT', 9999), (u'CREATED_BY', u''), (u'CREATED_DA', datetime.date(1999, 11, 30)), (u'LAST_MODIF', u'LTP'), (u'LAST_MOD_1', datetime.date(2007, 11, 30)), (u'Shape_Leng', 2576.01043124), (u'Shape_Area', 73049.67194)])\n",
      "OrderedDict([(u'BORO', u'3'), (u'BLOCK', 8751), (u'LOT', 9999), (u'CREATED_BY', u''), (u'CREATED_DA', datetime.date(1999, 11, 30)), (u'LAST_MODIF', u'sj'), (u'LAST_MOD_1', datetime.date(2011, 9, 20)), (u'Shape_Leng', 1420.66521137), (u'Shape_Area', 4594.92375239)])\n",
      "OrderedDict([(u'BORO', u'3'), (u'BLOCK', 8735), (u'LOT', 9999), (u'CREATED_BY', u''), (u'CREATED_DA', datetime.date(1999, 11, 30)), (u'LAST_MODIF', u'sj'), (u'LAST_MOD_1', datetime.date(2011, 9, 20)), (u'Shape_Leng', 461.664344691), (u'Shape_Area', 2484.78111775)])\n",
      "OrderedDict([(u'BORO', u'3'), (u'BLOCK', 8749), (u'LOT', 9998), (u'CREATED_BY', u''), (u'CREATED_DA', datetime.date(1999, 11, 30)), (u'LAST_MODIF', u'sj'), (u'LAST_MOD_1', datetime.date(2011, 9, 20)), (u'Shape_Leng', 1296.18860686), (u'Shape_Area', 4990.44254276)])\n",
      "OrderedDict([(u'BORO', u'3'), (u'BLOCK', 8726), (u'LOT', 9997), (u'CREATED_BY', u''), (u'CREATED_DA', datetime.date(1999, 11, 30)), (u'LAST_MODIF', u'sj'), (u'LAST_MOD_1', datetime.date(2011, 9, 20)), (u'Shape_Leng', 226.682875033), (u'Shape_Area', 641.411772038)])\n",
      "OrderedDict([(u'BORO', u'3'), (u'BLOCK', 8734), (u'LOT', 9998), (u'CREATED_BY', u''), (u'CREATED_DA', datetime.date(1999, 11, 30)), (u'LAST_MODIF', u'sj'), (u'LAST_MOD_1', datetime.date(2011, 9, 20)), (u'Shape_Leng', 344.828916281), (u'Shape_Area', 1464.13191499)])\n",
      "OrderedDict([(u'BORO', u'3'), (u'BLOCK', 8805), (u'LOT', 9999), (u'CREATED_BY', u''), (u'CREATED_DA', datetime.date(1999, 11, 30)), (u'LAST_MODIF', u'sj'), (u'LAST_MOD_1', datetime.date(2011, 9, 20)), (u'Shape_Leng', 827.846362913), (u'Shape_Area', 7480.31436159)])\n",
      "OrderedDict([(u'BORO', u'3'), (u'BLOCK', 8744), (u'LOT', 9998), (u'CREATED_BY', u''), (u'CREATED_DA', datetime.date(1999, 11, 30)), (u'LAST_MODIF', u'sj'), (u'LAST_MOD_1', datetime.date(2011, 9, 20)), (u'Shape_Leng', 686.884105496), (u'Shape_Area', 2598.16627845)])\n",
      "OrderedDict([(u'BORO', u'3'), (u'BLOCK', 8740), (u'LOT', 9999), (u'CREATED_BY', u''), (u'CREATED_DA', datetime.date(1999, 11, 30)), (u'LAST_MODIF', u'sj'), (u'LAST_MOD_1', datetime.date(2011, 9, 20)), (u'Shape_Leng', 97.0880620571), (u'Shape_Area', 359.239660079)])\n",
      "OrderedDict([(u'BORO', u'3'), (u'BLOCK', 8737), (u'LOT', 9999), (u'CREATED_BY', u''), (u'CREATED_DA', datetime.date(1999, 11, 30)), (u'LAST_MODIF', u'sj'), (u'LAST_MOD_1', datetime.date(2011, 9, 20)), (u'Shape_Leng', 1071.55243872), (u'Shape_Area', 5500.554328)])\n",
      "OrderedDict([(u'BORO', u'3'), (u'BLOCK', 8724), (u'LOT', 9997), (u'CREATED_BY', u''), (u'CREATED_DA', datetime.date(1999, 11, 30)), (u'LAST_MODIF', u'sj'), (u'LAST_MOD_1', datetime.date(2011, 9, 20)), (u'Shape_Leng', 900.292173054), (u'Shape_Area', 3247.71515933)])\n",
      "OrderedDict([(u'BORO', u'3'), (u'BLOCK', 8738), (u'LOT', 9997), (u'CREATED_BY', u''), (u'CREATED_DA', datetime.date(1999, 11, 30)), (u'LAST_MODIF', u'sj'), (u'LAST_MOD_1', datetime.date(2011, 9, 20)), (u'Shape_Leng', 332.446636344), (u'Shape_Area', 1428.59872946)])\n",
      "OrderedDict([(u'BORO', u'3'), (u'BLOCK', 8734), (u'LOT', 9999), (u'CREATED_BY', u''), (u'CREATED_DA', datetime.date(1999, 11, 30)), (u'LAST_MODIF', u'sj'), (u'LAST_MOD_1', datetime.date(2011, 9, 20)), (u'Shape_Leng', 1046.56453957), (u'Shape_Area', 4445.60513352)])\n",
      "OrderedDict([(u'BORO', u'3'), (u'BLOCK', 6810), (u'LOT', 9998), (u'CREATED_BY', u''), (u'CREATED_DA', datetime.date(1999, 11, 30)), (u'LAST_MODIF', u'sj'), (u'LAST_MOD_1', datetime.date(2011, 11, 30)), (u'Shape_Leng', 64.6128039112), (u'Shape_Area', 151.653872248)])\n",
      "OrderedDict([(u'BORO', u'3'), (u'BLOCK', 8747), (u'LOT', 9999), (u'CREATED_BY', u''), (u'CREATED_DA', datetime.date(1999, 11, 30)), (u'LAST_MODIF', u'sj'), (u'LAST_MOD_1', datetime.date(2011, 9, 20)), (u'Shape_Leng', 500.428084285), (u'Shape_Area', 1968.34532897)])\n",
      "OrderedDict([(u'BORO', u'3'), (u'BLOCK', 6810), (u'LOT', 9999), (u'CREATED_BY', u''), (u'CREATED_DA', datetime.date(1999, 11, 30)), (u'LAST_MODIF', u'sj'), (u'LAST_MOD_1', datetime.date(2011, 11, 30)), (u'Shape_Leng', 79.5874482374), (u'Shape_Area', 247.897246985)])\n",
      "OrderedDict([(u'BORO', u'3'), (u'BLOCK', 8726), (u'LOT', 9999), (u'CREATED_BY', u''), (u'CREATED_DA', datetime.date(1999, 11, 30)), (u'LAST_MODIF', u'sj'), (u'LAST_MOD_1', datetime.date(2011, 9, 20)), (u'Shape_Leng', 173.765622845), (u'Shape_Area', 667.759330615)])\n",
      "OrderedDict([(u'BORO', u'3'), (u'BLOCK', 8727), (u'LOT', 9999), (u'CREATED_BY', u''), (u'CREATED_DA', datetime.date(1999, 11, 30)), (u'LAST_MODIF', u'sj'), (u'LAST_MOD_1', datetime.date(2011, 9, 20)), (u'Shape_Leng', 565.212021679), (u'Shape_Area', 1920.50932538)])\n",
      "OrderedDict([(u'BORO', u'3'), (u'BLOCK', 8731), (u'LOT', 9997), (u'CREATED_BY', u''), (u'CREATED_DA', datetime.date(1999, 11, 30)), (u'LAST_MODIF', u'sj'), (u'LAST_MOD_1', datetime.date(2011, 9, 20)), (u'Shape_Leng', 135.217924711), (u'Shape_Area', 480.150114441)])\n",
      "OrderedDict([(u'BORO', u'3'), (u'BLOCK', 8728), (u'LOT', 9999), (u'CREATED_BY', u''), (u'CREATED_DA', datetime.date(1999, 11, 30)), (u'LAST_MODIF', u'sj'), (u'LAST_MOD_1', datetime.date(2011, 9, 20)), (u'Shape_Leng', 1292.29445017), (u'Shape_Area', 4696.92045657)])\n",
      "OrderedDict([(u'BORO', u'3'), (u'BLOCK', 8750), (u'LOT', 9999), (u'CREATED_BY', u''), (u'CREATED_DA', datetime.date(1999, 11, 30)), (u'LAST_MODIF', u'sj'), (u'LAST_MOD_1', datetime.date(2011, 9, 20)), (u'Shape_Leng', 1624.54055612), (u'Shape_Area', 4553.88750369)])\n",
      "OrderedDict([(u'BORO', u'3'), (u'BLOCK', 8729), (u'LOT', 9999), (u'CREATED_BY', u''), (u'CREATED_DA', datetime.date(1999, 11, 30)), (u'LAST_MODIF', u'sj'), (u'LAST_MOD_1', datetime.date(2011, 9, 20)), (u'Shape_Leng', 1418.99542009), (u'Shape_Area', 5203.63799045)])\n"
     ]
    }
   ],
   "source": [
    "for record in DBF('/Users/ajbentley/GA-DSI/projects/projects-capstone/PSP/raw_data/nyc_data/bk_mappluto_16v2\\\n",
    "/BK_Dcp_Mappinglot.dbf'):\n",
    "    print(record)\n",
    "    \n",
    "bk_mappluto = record"
   ]
  },
  {
   "cell_type": "code",
   "execution_count": null,
   "metadata": {
    "collapsed": true
   },
   "outputs": [],
   "source": []
  },
  {
   "cell_type": "code",
   "execution_count": null,
   "metadata": {
    "collapsed": true
   },
   "outputs": [],
   "source": []
  }
 ],
 "metadata": {
  "kernelspec": {
   "display_name": "Python [default]",
   "language": "python",
   "name": "python2"
  },
  "language_info": {
   "codemirror_mode": {
    "name": "ipython",
    "version": 2
   },
   "file_extension": ".py",
   "mimetype": "text/x-python",
   "name": "python",
   "nbconvert_exporter": "python",
   "pygments_lexer": "ipython2",
   "version": "2.7.12"
  }
 },
 "nbformat": 4,
 "nbformat_minor": 1
}
