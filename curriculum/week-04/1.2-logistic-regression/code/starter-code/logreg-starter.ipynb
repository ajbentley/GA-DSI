{
 "cells": [
  {
   "cell_type": "code",
   "execution_count": 1,
   "metadata": {
    "collapsed": false
   },
   "outputs": [],
   "source": [
    "# reserve the first cell, to import all dependencies (python classes) that you will need\n",
    "\n",
    "import numpy as np\n",
    "import pandas as pd\n",
    "import statsmodels.api as sm"
   ]
  },
  {
   "cell_type": "code",
   "execution_count": 2,
   "metadata": {
    "collapsed": true
   },
   "outputs": [],
   "source": [
    "# keep all functions in one cell, call them when you need them. \n",
    "def read_file(path): # path = dynamic input parameter\n",
    "    return pd.read_csv(path, header = None)"
   ]
  },
  {
   "cell_type": "code",
   "execution_count": 3,
   "metadata": {
    "collapsed": true
   },
   "outputs": [],
   "source": [
    "# use function to read in cancer Dataset. \n",
    "path = \"https://archive.ics.uci.edu/ml/machine-learning-databases/breast-cancer-wisconsin/wdbc.data\"\n",
    "df = read_file(path)"
   ]
  },
  {
   "cell_type": "code",
   "execution_count": 11,
   "metadata": {
    "collapsed": false
   },
   "outputs": [
    {
     "data": {
      "text/html": [
       "<div>\n",
       "<table border=\"1\" class=\"dataframe\">\n",
       "  <thead>\n",
       "    <tr style=\"text-align: right;\">\n",
       "      <th></th>\n",
       "      <th>0</th>\n",
       "      <th>1</th>\n",
       "      <th>2</th>\n",
       "      <th>3</th>\n",
       "      <th>4</th>\n",
       "      <th>5</th>\n",
       "      <th>6</th>\n",
       "      <th>7</th>\n",
       "      <th>8</th>\n",
       "      <th>9</th>\n",
       "      <th>...</th>\n",
       "      <th>22</th>\n",
       "      <th>23</th>\n",
       "      <th>24</th>\n",
       "      <th>25</th>\n",
       "      <th>26</th>\n",
       "      <th>27</th>\n",
       "      <th>28</th>\n",
       "      <th>29</th>\n",
       "      <th>30</th>\n",
       "      <th>31</th>\n",
       "    </tr>\n",
       "  </thead>\n",
       "  <tbody>\n",
       "    <tr>\n",
       "      <th>0</th>\n",
       "      <td>842302</td>\n",
       "      <td>M</td>\n",
       "      <td>17.99</td>\n",
       "      <td>10.38</td>\n",
       "      <td>122.80</td>\n",
       "      <td>1001.0</td>\n",
       "      <td>0.11840</td>\n",
       "      <td>0.27760</td>\n",
       "      <td>0.3001</td>\n",
       "      <td>0.14710</td>\n",
       "      <td>...</td>\n",
       "      <td>25.38</td>\n",
       "      <td>17.33</td>\n",
       "      <td>184.60</td>\n",
       "      <td>2019.0</td>\n",
       "      <td>0.1622</td>\n",
       "      <td>0.6656</td>\n",
       "      <td>0.7119</td>\n",
       "      <td>0.2654</td>\n",
       "      <td>0.4601</td>\n",
       "      <td>0.11890</td>\n",
       "    </tr>\n",
       "    <tr>\n",
       "      <th>1</th>\n",
       "      <td>842517</td>\n",
       "      <td>M</td>\n",
       "      <td>20.57</td>\n",
       "      <td>17.77</td>\n",
       "      <td>132.90</td>\n",
       "      <td>1326.0</td>\n",
       "      <td>0.08474</td>\n",
       "      <td>0.07864</td>\n",
       "      <td>0.0869</td>\n",
       "      <td>0.07017</td>\n",
       "      <td>...</td>\n",
       "      <td>24.99</td>\n",
       "      <td>23.41</td>\n",
       "      <td>158.80</td>\n",
       "      <td>1956.0</td>\n",
       "      <td>0.1238</td>\n",
       "      <td>0.1866</td>\n",
       "      <td>0.2416</td>\n",
       "      <td>0.1860</td>\n",
       "      <td>0.2750</td>\n",
       "      <td>0.08902</td>\n",
       "    </tr>\n",
       "    <tr>\n",
       "      <th>2</th>\n",
       "      <td>84300903</td>\n",
       "      <td>M</td>\n",
       "      <td>19.69</td>\n",
       "      <td>21.25</td>\n",
       "      <td>130.00</td>\n",
       "      <td>1203.0</td>\n",
       "      <td>0.10960</td>\n",
       "      <td>0.15990</td>\n",
       "      <td>0.1974</td>\n",
       "      <td>0.12790</td>\n",
       "      <td>...</td>\n",
       "      <td>23.57</td>\n",
       "      <td>25.53</td>\n",
       "      <td>152.50</td>\n",
       "      <td>1709.0</td>\n",
       "      <td>0.1444</td>\n",
       "      <td>0.4245</td>\n",
       "      <td>0.4504</td>\n",
       "      <td>0.2430</td>\n",
       "      <td>0.3613</td>\n",
       "      <td>0.08758</td>\n",
       "    </tr>\n",
       "    <tr>\n",
       "      <th>3</th>\n",
       "      <td>84348301</td>\n",
       "      <td>M</td>\n",
       "      <td>11.42</td>\n",
       "      <td>20.38</td>\n",
       "      <td>77.58</td>\n",
       "      <td>386.1</td>\n",
       "      <td>0.14250</td>\n",
       "      <td>0.28390</td>\n",
       "      <td>0.2414</td>\n",
       "      <td>0.10520</td>\n",
       "      <td>...</td>\n",
       "      <td>14.91</td>\n",
       "      <td>26.50</td>\n",
       "      <td>98.87</td>\n",
       "      <td>567.7</td>\n",
       "      <td>0.2098</td>\n",
       "      <td>0.8663</td>\n",
       "      <td>0.6869</td>\n",
       "      <td>0.2575</td>\n",
       "      <td>0.6638</td>\n",
       "      <td>0.17300</td>\n",
       "    </tr>\n",
       "    <tr>\n",
       "      <th>4</th>\n",
       "      <td>84358402</td>\n",
       "      <td>M</td>\n",
       "      <td>20.29</td>\n",
       "      <td>14.34</td>\n",
       "      <td>135.10</td>\n",
       "      <td>1297.0</td>\n",
       "      <td>0.10030</td>\n",
       "      <td>0.13280</td>\n",
       "      <td>0.1980</td>\n",
       "      <td>0.10430</td>\n",
       "      <td>...</td>\n",
       "      <td>22.54</td>\n",
       "      <td>16.67</td>\n",
       "      <td>152.20</td>\n",
       "      <td>1575.0</td>\n",
       "      <td>0.1374</td>\n",
       "      <td>0.2050</td>\n",
       "      <td>0.4000</td>\n",
       "      <td>0.1625</td>\n",
       "      <td>0.2364</td>\n",
       "      <td>0.07678</td>\n",
       "    </tr>\n",
       "  </tbody>\n",
       "</table>\n",
       "<p>5 rows × 32 columns</p>\n",
       "</div>"
      ],
      "text/plain": [
       "         0  1      2      3       4       5        6        7       8   \\\n",
       "0    842302  M  17.99  10.38  122.80  1001.0  0.11840  0.27760  0.3001   \n",
       "1    842517  M  20.57  17.77  132.90  1326.0  0.08474  0.07864  0.0869   \n",
       "2  84300903  M  19.69  21.25  130.00  1203.0  0.10960  0.15990  0.1974   \n",
       "3  84348301  M  11.42  20.38   77.58   386.1  0.14250  0.28390  0.2414   \n",
       "4  84358402  M  20.29  14.34  135.10  1297.0  0.10030  0.13280  0.1980   \n",
       "\n",
       "        9    ...        22     23      24      25      26      27      28  \\\n",
       "0  0.14710   ...     25.38  17.33  184.60  2019.0  0.1622  0.6656  0.7119   \n",
       "1  0.07017   ...     24.99  23.41  158.80  1956.0  0.1238  0.1866  0.2416   \n",
       "2  0.12790   ...     23.57  25.53  152.50  1709.0  0.1444  0.4245  0.4504   \n",
       "3  0.10520   ...     14.91  26.50   98.87   567.7  0.2098  0.8663  0.6869   \n",
       "4  0.10430   ...     22.54  16.67  152.20  1575.0  0.1374  0.2050  0.4000   \n",
       "\n",
       "       29      30       31  \n",
       "0  0.2654  0.4601  0.11890  \n",
       "1  0.1860  0.2750  0.08902  \n",
       "2  0.2430  0.3613  0.08758  \n",
       "3  0.2575  0.6638  0.17300  \n",
       "4  0.1625  0.2364  0.07678  \n",
       "\n",
       "[5 rows x 32 columns]"
      ]
     },
     "execution_count": 11,
     "metadata": {},
     "output_type": "execute_result"
    }
   ],
   "source": [
    "# find data dictionary of df\n",
    "df.dtypes\n",
    "df.head()"
   ]
  },
  {
   "cell_type": "code",
   "execution_count": 22,
   "metadata": {
    "collapsed": false
   },
   "outputs": [],
   "source": [
    "# Obtain the first 10 features, which are the mean figures in the dataset, \n",
    "data_df = df[list(df.columns)[2:12]]\n",
    "\n",
    "# call your dataFrame with only the features (data_df), and  the dataframe with only the outcome ( or response/label) target_df\n",
    "\n",
    "target_df = df[1]\n"
   ]
  },
  {
   "cell_type": "code",
   "execution_count": 23,
   "metadata": {
    "collapsed": false
   },
   "outputs": [],
   "source": [
    "# Convert DataFrame to Numpy Array\n",
    "x = data_df.as_matrix(columns=None)\n",
    "y = target_df.as_matrix(columns=None)"
   ]
  },
  {
   "cell_type": "code",
   "execution_count": 29,
   "metadata": {
    "collapsed": false
   },
   "outputs": [
    {
     "name": "stdout",
     "output_type": "stream",
     "text": [
      "Optimization terminated successfully.\n",
      "         Current function value: 0.128707\n",
      "         Iterations 11\n"
     ]
    },
    {
     "name": "stderr",
     "output_type": "stream",
     "text": [
      "C:\\Users\\Elizabeth\\Anaconda2\\lib\\site-packages\\statsmodels\\discrete\\discrete_model.py:580: VisibleDeprecationWarning: using a non-integer number instead of an integer will result in an error in the future\n",
      "  start_params = np.zeros((self.K * (self.J-1)))\n",
      "C:\\Users\\Elizabeth\\Anaconda2\\lib\\site-packages\\statsmodels\\discrete\\discrete_model.py:1840: VisibleDeprecationWarning: using a non-integer number instead of an integer will result in an error in the future\n",
      "  params = params.reshape(self.K, -1, order='F')\n",
      "C:\\Users\\Elizabeth\\Anaconda2\\lib\\site-packages\\statsmodels\\discrete\\discrete_model.py:1756: VisibleDeprecationWarning: using a non-integer number instead of an integer will result in an error in the future\n",
      "  params = params.reshape(self.K, -1, order='F')\n",
      "C:\\Users\\Elizabeth\\Anaconda2\\lib\\site-packages\\statsmodels\\discrete\\discrete_model.py:1697: VisibleDeprecationWarning: using a non-integer number instead of an integer will result in an error in the future\n",
      "  params = params.reshape(self.K, -1, order='F')\n",
      "C:\\Users\\Elizabeth\\Anaconda2\\lib\\site-packages\\statsmodels\\discrete\\discrete_model.py:588: VisibleDeprecationWarning: using a non-integer number instead of an integer will result in an error in the future\n",
      "  mnfit.params = mnfit.params.reshape(self.K, -1, order='F')\n"
     ]
    }
   ],
   "source": [
    "### specify the model, call the final fit, md1_fit, hint use MNLogit from class SM, \n",
    "# and call the .fit() method on the object\n",
    "\n",
    "mdl = sm.MNLogit(y, x)\n",
    "mdl_fit = mdl.fit()"
   ]
  },
  {
   "cell_type": "code",
   "execution_count": 33,
   "metadata": {
    "collapsed": false
   },
   "outputs": [
    {
     "data": {
      "text/html": [
       "<table class=\"simpletable\">\n",
       "<caption>MNLogit Regression Results</caption>\n",
       "<tr>\n",
       "  <th>Dep. Variable:</th>         <td>y</td>        <th>  No. Observations:  </th>   <td>   569</td>  \n",
       "</tr>\n",
       "<tr>\n",
       "  <th>Model:</th>              <td>MNLogit</td>     <th>  Df Residuals:      </th>   <td>   559</td>  \n",
       "</tr>\n",
       "<tr>\n",
       "  <th>Method:</th>               <td>MLE</td>       <th>  Df Model:          </th>   <td>     9</td>  \n",
       "</tr>\n",
       "<tr>\n",
       "  <th>Date:</th>          <td>Tue, 11 Oct 2016</td> <th>  Pseudo R-squ.:     </th>   <td>0.8051</td>  \n",
       "</tr>\n",
       "<tr>\n",
       "  <th>Time:</th>              <td>16:01:27</td>     <th>  Log-Likelihood:    </th>  <td> -73.234</td> \n",
       "</tr>\n",
       "<tr>\n",
       "  <th>converged:</th>           <td>True</td>       <th>  LL-Null:           </th>  <td> -375.72</td> \n",
       "</tr>\n",
       "<tr>\n",
       "  <th> </th>                      <td> </td>        <th>  LLR p-value:       </th> <td>1.794e-124</td>\n",
       "</tr>\n",
       "</table>\n",
       "<table class=\"simpletable\">\n",
       "<tr>\n",
       "  <th>y=M</th>    <th>coef</th>     <th>std err</th>      <th>z</th>      <th>P>|z|</th> <th>[95.0% Conf. Int.]</th> \n",
       "</tr>\n",
       "<tr>\n",
       "  <th>x1</th>  <td>   -2.9479</td> <td>    3.379</td> <td>   -0.873</td> <td> 0.383</td> <td>   -9.570     3.674</td>\n",
       "</tr>\n",
       "<tr>\n",
       "  <th>x2</th>  <td>    0.3777</td> <td>    0.063</td> <td>    5.977</td> <td> 0.000</td> <td>    0.254     0.502</td>\n",
       "</tr>\n",
       "<tr>\n",
       "  <th>x3</th>  <td>   -0.0457</td> <td>    0.501</td> <td>   -0.091</td> <td> 0.927</td> <td>   -1.028     0.936</td>\n",
       "</tr>\n",
       "<tr>\n",
       "  <th>x4</th>  <td>    0.0475</td> <td>    0.010</td> <td>    4.685</td> <td> 0.000</td> <td>    0.028     0.067</td>\n",
       "</tr>\n",
       "<tr>\n",
       "  <th>x5</th>  <td>   74.4357</td> <td>   30.948</td> <td>    2.405</td> <td> 0.016</td> <td>   13.779   135.092</td>\n",
       "</tr>\n",
       "<tr>\n",
       "  <th>x6</th>  <td>    2.4326</td> <td>   19.004</td> <td>    0.128</td> <td> 0.898</td> <td>  -34.815    39.681</td>\n",
       "</tr>\n",
       "<tr>\n",
       "  <th>x7</th>  <td>    7.4069</td> <td>    7.713</td> <td>    0.960</td> <td> 0.337</td> <td>   -7.711    22.524</td>\n",
       "</tr>\n",
       "<tr>\n",
       "  <th>x8</th>  <td>   70.1621</td> <td>   27.678</td> <td>    2.535</td> <td> 0.011</td> <td>   15.913   124.411</td>\n",
       "</tr>\n",
       "<tr>\n",
       "  <th>x9</th>  <td>   15.1245</td> <td>   10.345</td> <td>    1.462</td> <td> 0.144</td> <td>   -5.150    35.399</td>\n",
       "</tr>\n",
       "<tr>\n",
       "  <th>x10</th> <td>  -96.4246</td> <td>   70.036</td> <td>   -1.377</td> <td> 0.169</td> <td> -233.693    40.843</td>\n",
       "</tr>\n",
       "</table>"
      ],
      "text/plain": [
       "<class 'statsmodels.iolib.summary.Summary'>\n",
       "\"\"\"\n",
       "                          MNLogit Regression Results                          \n",
       "==============================================================================\n",
       "Dep. Variable:                      y   No. Observations:                  569\n",
       "Model:                        MNLogit   Df Residuals:                      559\n",
       "Method:                           MLE   Df Model:                            9\n",
       "Date:                Tue, 11 Oct 2016   Pseudo R-squ.:                  0.8051\n",
       "Time:                        16:01:27   Log-Likelihood:                -73.234\n",
       "converged:                       True   LL-Null:                       -375.72\n",
       "                                        LLR p-value:                1.794e-124\n",
       "==============================================================================\n",
       "       y=M       coef    std err          z      P>|z|      [95.0% Conf. Int.]\n",
       "------------------------------------------------------------------------------\n",
       "x1            -2.9479      3.379     -0.873      0.383        -9.570     3.674\n",
       "x2             0.3777      0.063      5.977      0.000         0.254     0.502\n",
       "x3            -0.0457      0.501     -0.091      0.927        -1.028     0.936\n",
       "x4             0.0475      0.010      4.685      0.000         0.028     0.067\n",
       "x5            74.4357     30.948      2.405      0.016        13.779   135.092\n",
       "x6             2.4326     19.004      0.128      0.898       -34.815    39.681\n",
       "x7             7.4069      7.713      0.960      0.337        -7.711    22.524\n",
       "x8            70.1621     27.678      2.535      0.011        15.913   124.411\n",
       "x9            15.1245     10.345      1.462      0.144        -5.150    35.399\n",
       "x10          -96.4246     70.036     -1.377      0.169      -233.693    40.843\n",
       "==============================================================================\n",
       "\"\"\""
      ]
     },
     "execution_count": 33,
     "metadata": {},
     "output_type": "execute_result"
    }
   ],
   "source": [
    "### print model summary ###\n",
    "mdl_fit.summary()"
   ]
  },
  {
   "cell_type": "code",
   "execution_count": 34,
   "metadata": {
    "collapsed": false
   },
   "outputs": [
    {
     "name": "stdout",
     "output_type": "stream",
     "text": [
      "166.46818873\n",
      "209.906993071\n"
     ]
    }
   ],
   "source": [
    "### print the aic and bic metrics ###\n",
    "print(mdl_fit.aic)\n",
    "print(mdl_fit.bic)\n",
    "\n",
    "\n",
    "# print(mdl_fit.aic)\n",
    "# print(mdl_fit.bic)"
   ]
  },
  {
   "cell_type": "code",
   "execution_count": 35,
   "metadata": {
    "collapsed": false
   },
   "outputs": [
    {
     "name": "stderr",
     "output_type": "stream",
     "text": [
      "C:\\Users\\Elizabeth\\Anaconda2\\lib\\site-packages\\numpy\\lib\\shape_base.py:873: VisibleDeprecationWarning: using a non-integer number instead of an integer will result in an error in the future\n",
      "  return c.reshape(shape_out)\n",
      "C:\\Users\\Elizabeth\\Anaconda2\\lib\\site-packages\\statsmodels\\discrete\\discrete_margins.py:686: VisibleDeprecationWarning: using a non-integer number instead of an integer will result in an error in the future\n",
      "  self.margeff = effects[effects_idx].reshape(K, J, order='F')\n",
      "C:\\Users\\Elizabeth\\Anaconda2\\lib\\site-packages\\statsmodels\\discrete\\discrete_margins.py:688: VisibleDeprecationWarning: using a non-integer number instead of an integer will result in an error in the future\n",
      "  order='F')\n"
     ]
    }
   ],
   "source": [
    "### get the marginal effects of your fitted model md1_fit ###\n",
    "mdl_margeff = mdl_fit.get_margeff()"
   ]
  },
  {
   "cell_type": "code",
   "execution_count": 36,
   "metadata": {
    "collapsed": false
   },
   "outputs": [
    {
     "data": {
      "text/html": [
       "<table class=\"simpletable\">\n",
       "<caption>MNLogit Marginal Effects</caption>\n",
       "<tr>\n",
       "  <th>Dep. Variable:</th>    <td>y</td>   \n",
       "</tr>\n",
       "<tr>\n",
       "  <th>Method:</th>         <td>dydx</td>  \n",
       "</tr>\n",
       "<tr>\n",
       "  <th>At:</th>            <td>overall</td>\n",
       "</tr>\n",
       "</table>\n",
       "<table class=\"simpletable\">\n",
       "<tr>\n",
       "  <th>y=B</th>    <th>dy/dx</th>    <th>std err</th>      <th>z</th>      <th>P>|z|</th> <th>[95.0% Conf. Int.]</th> \n",
       "</tr>\n",
       "<tr>\n",
       "  <th>x1</th>  <td>    0.1129</td> <td>    0.129</td> <td>    0.878</td> <td> 0.380</td> <td>   -0.139     0.365</td>\n",
       "</tr>\n",
       "<tr>\n",
       "  <th>x2</th>  <td>   -0.0145</td> <td>    0.002</td> <td>   -7.763</td> <td> 0.000</td> <td>   -0.018    -0.011</td>\n",
       "</tr>\n",
       "<tr>\n",
       "  <th>x3</th>  <td>    0.0017</td> <td>    0.019</td> <td>    0.091</td> <td> 0.927</td> <td>   -0.036     0.039</td>\n",
       "</tr>\n",
       "<tr>\n",
       "  <th>x4</th>  <td>   -0.0018</td> <td>    0.000</td> <td>   -5.427</td> <td> 0.000</td> <td>   -0.002    -0.001</td>\n",
       "</tr>\n",
       "<tr>\n",
       "  <th>x5</th>  <td>   -2.8506</td> <td>    1.141</td> <td>   -2.499</td> <td> 0.012</td> <td>   -5.086    -0.615</td>\n",
       "</tr>\n",
       "<tr>\n",
       "  <th>x6</th>  <td>   -0.0932</td> <td>    0.728</td> <td>   -0.128</td> <td> 0.898</td> <td>   -1.520     1.334</td>\n",
       "</tr>\n",
       "<tr>\n",
       "  <th>x7</th>  <td>   -0.2837</td> <td>    0.294</td> <td>   -0.966</td> <td> 0.334</td> <td>   -0.859     0.292</td>\n",
       "</tr>\n",
       "<tr>\n",
       "  <th>x8</th>  <td>   -2.6869</td> <td>    1.016</td> <td>   -2.644</td> <td> 0.008</td> <td>   -4.679    -0.695</td>\n",
       "</tr>\n",
       "<tr>\n",
       "  <th>x9</th>  <td>   -0.5792</td> <td>    0.392</td> <td>   -1.476</td> <td> 0.140</td> <td>   -1.348     0.190</td>\n",
       "</tr>\n",
       "<tr>\n",
       "  <th>x10</th> <td>    3.6927</td> <td>    2.658</td> <td>    1.389</td> <td> 0.165</td> <td>   -1.517     8.903</td>\n",
       "</tr>\n",
       "<tr>\n",
       "  <th>y=M</th>    <th>dy/dx</th>    <th>std err</th>      <th>z</th>      <th>P>|z|</th> <th>[95.0% Conf. Int.]</th> \n",
       "</tr>\n",
       "<tr>\n",
       "  <th>x1</th>  <td>   -0.1129</td> <td>    0.129</td> <td>   -0.878</td> <td> 0.380</td> <td>   -0.365     0.139</td>\n",
       "</tr>\n",
       "<tr>\n",
       "  <th>x2</th>  <td>    0.0145</td> <td>    0.002</td> <td>    7.763</td> <td> 0.000</td> <td>    0.011     0.018</td>\n",
       "</tr>\n",
       "<tr>\n",
       "  <th>x3</th>  <td>   -0.0017</td> <td>    0.019</td> <td>   -0.091</td> <td> 0.927</td> <td>   -0.039     0.036</td>\n",
       "</tr>\n",
       "<tr>\n",
       "  <th>x4</th>  <td>    0.0018</td> <td>    0.000</td> <td>    5.427</td> <td> 0.000</td> <td>    0.001     0.002</td>\n",
       "</tr>\n",
       "<tr>\n",
       "  <th>x5</th>  <td>    2.8506</td> <td>    1.141</td> <td>    2.499</td> <td> 0.012</td> <td>    0.615     5.086</td>\n",
       "</tr>\n",
       "<tr>\n",
       "  <th>x6</th>  <td>    0.0932</td> <td>    0.728</td> <td>    0.128</td> <td> 0.898</td> <td>   -1.334     1.520</td>\n",
       "</tr>\n",
       "<tr>\n",
       "  <th>x7</th>  <td>    0.2837</td> <td>    0.294</td> <td>    0.966</td> <td> 0.334</td> <td>   -0.292     0.859</td>\n",
       "</tr>\n",
       "<tr>\n",
       "  <th>x8</th>  <td>    2.6869</td> <td>    1.016</td> <td>    2.644</td> <td> 0.008</td> <td>    0.695     4.679</td>\n",
       "</tr>\n",
       "<tr>\n",
       "  <th>x9</th>  <td>    0.5792</td> <td>    0.392</td> <td>    1.476</td> <td> 0.140</td> <td>   -0.190     1.348</td>\n",
       "</tr>\n",
       "<tr>\n",
       "  <th>x10</th> <td>   -3.6927</td> <td>    2.658</td> <td>   -1.389</td> <td> 0.165</td> <td>   -8.903     1.517</td>\n",
       "</tr>\n",
       "</table>"
      ],
      "text/plain": [
       "<class 'statsmodels.iolib.summary.Summary'>\n",
       "\"\"\"\n",
       "       MNLogit Marginal Effects      \n",
       "=====================================\n",
       "Dep. Variable:                      y\n",
       "Method:                          dydx\n",
       "At:                           overall\n",
       "==============================================================================\n",
       "       y=B      dy/dx    std err          z      P>|z|      [95.0% Conf. Int.]\n",
       "------------------------------------------------------------------------------\n",
       "x1             0.1129      0.129      0.878      0.380        -0.139     0.365\n",
       "x2            -0.0145      0.002     -7.763      0.000        -0.018    -0.011\n",
       "x3             0.0017      0.019      0.091      0.927        -0.036     0.039\n",
       "x4            -0.0018      0.000     -5.427      0.000        -0.002    -0.001\n",
       "x5            -2.8506      1.141     -2.499      0.012        -5.086    -0.615\n",
       "x6            -0.0932      0.728     -0.128      0.898        -1.520     1.334\n",
       "x7            -0.2837      0.294     -0.966      0.334        -0.859     0.292\n",
       "x8            -2.6869      1.016     -2.644      0.008        -4.679    -0.695\n",
       "x9            -0.5792      0.392     -1.476      0.140        -1.348     0.190\n",
       "x10            3.6927      2.658      1.389      0.165        -1.517     8.903\n",
       "------------------------------------------------------------------------------\n",
       "       y=M      dy/dx    std err          z      P>|z|      [95.0% Conf. Int.]\n",
       "------------------------------------------------------------------------------\n",
       "x1            -0.1129      0.129     -0.878      0.380        -0.365     0.139\n",
       "x2             0.0145      0.002      7.763      0.000         0.011     0.018\n",
       "x3            -0.0017      0.019     -0.091      0.927        -0.039     0.036\n",
       "x4             0.0018      0.000      5.427      0.000         0.001     0.002\n",
       "x5             2.8506      1.141      2.499      0.012         0.615     5.086\n",
       "x6             0.0932      0.728      0.128      0.898        -1.334     1.520\n",
       "x7             0.2837      0.294      0.966      0.334        -0.292     0.859\n",
       "x8             2.6869      1.016      2.644      0.008         0.695     4.679\n",
       "x9             0.5792      0.392      1.476      0.140        -0.190     1.348\n",
       "x10           -3.6927      2.658     -1.389      0.165        -8.903     1.517\n",
       "==============================================================================\n",
       "\"\"\""
      ]
     },
     "execution_count": 36,
     "metadata": {},
     "output_type": "execute_result"
    }
   ],
   "source": [
    "mdl_margeff.summary()"
   ]
  }
 ],
 "metadata": {
  "anaconda-cloud": {},
  "kernelspec": {
   "display_name": "Python [Root]",
   "language": "python",
   "name": "Python [Root]"
  },
  "language_info": {
   "codemirror_mode": {
    "name": "ipython",
    "version": 2
   },
   "file_extension": ".py",
   "mimetype": "text/x-python",
   "name": "python",
   "nbconvert_exporter": "python",
   "pygments_lexer": "ipython2",
   "version": "2.7.12"
  }
 },
 "nbformat": 4,
 "nbformat_minor": 0
}
