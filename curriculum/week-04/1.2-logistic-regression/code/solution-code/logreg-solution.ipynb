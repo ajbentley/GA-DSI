{
 "cells": [
  {
   "cell_type": "code",
   "execution_count": 1,
   "metadata": {
    "collapsed": false
   },
   "outputs": [],
   "source": [
    "# reserve the first cell, to import all dependencies (python classes)\n",
    "import numpy as np\n",
    "import pandas as pd\n",
    "import statsmodels.api as sm"
   ]
  },
  {
   "cell_type": "code",
   "execution_count": 2,
   "metadata": {
    "collapsed": true
   },
   "outputs": [],
   "source": [
    "# keep all functions in one cell, call them when you need them. This is practice/review on building functions.\n",
    "def read_file(path): # path = dynamic parameter\n",
    "    return pd.read_csv(path, header = None)"
   ]
  },
  {
   "cell_type": "code",
   "execution_count": 3,
   "metadata": {
    "collapsed": true
   },
   "outputs": [],
   "source": [
    "# use function to read in cancer Dataset. \n",
    "path = \"https://archive.ics.uci.edu/ml/machine-learning-databases/breast-cancer-wisconsin/wdbc.data\"\n",
    "df = read_file(path)"
   ]
  },
  {
   "cell_type": "code",
   "execution_count": 4,
   "metadata": {
    "collapsed": false
   },
   "outputs": [
    {
     "data": {
      "text/plain": [
       "0       int64\n",
       "1      object\n",
       "2     float64\n",
       "3     float64\n",
       "4     float64\n",
       "5     float64\n",
       "6     float64\n",
       "7     float64\n",
       "8     float64\n",
       "9     float64\n",
       "10    float64\n",
       "11    float64\n",
       "12    float64\n",
       "13    float64\n",
       "14    float64\n",
       "15    float64\n",
       "16    float64\n",
       "17    float64\n",
       "18    float64\n",
       "19    float64\n",
       "20    float64\n",
       "21    float64\n",
       "22    float64\n",
       "23    float64\n",
       "24    float64\n",
       "25    float64\n",
       "26    float64\n",
       "27    float64\n",
       "28    float64\n",
       "29    float64\n",
       "30    float64\n",
       "31    float64\n",
       "dtype: object"
      ]
     },
     "execution_count": 4,
     "metadata": {},
     "output_type": "execute_result"
    }
   ],
   "source": [
    "# Find Data Dictionary of df\n",
    "df.dtypes"
   ]
  },
  {
   "cell_type": "code",
   "execution_count": 5,
   "metadata": {
    "collapsed": true
   },
   "outputs": [],
   "source": [
    "#Obtain the first 10 features, which are the mean figures in the dataset\n",
    "data_df   = df[list(df.columns[2:12])]\n",
    "target_df = df[1]"
   ]
  },
  {
   "cell_type": "code",
   "execution_count": 6,
   "metadata": {
    "collapsed": true
   },
   "outputs": [],
   "source": [
    "#Convert DataFrame to Numpy Array\n",
    "x = data_df.as_matrix(columns=None)\n",
    "y = target_df.as_matrix(columns=None)"
   ]
  },
  {
   "cell_type": "code",
   "execution_count": 7,
   "metadata": {
    "collapsed": false
   },
   "outputs": [
    {
     "name": "stdout",
     "output_type": "stream",
     "text": [
      "Optimization terminated successfully.\n",
      "         Current function value: 0.128707\n",
      "         Iterations 11\n"
     ]
    },
    {
     "name": "stderr",
     "output_type": "stream",
     "text": [
      "C:\\Users\\Elizabeth\\Anaconda2\\lib\\site-packages\\statsmodels\\discrete\\discrete_model.py:580: VisibleDeprecationWarning: using a non-integer number instead of an integer will result in an error in the future\n",
      "  start_params = np.zeros((self.K * (self.J-1)))\n",
      "C:\\Users\\Elizabeth\\Anaconda2\\lib\\site-packages\\statsmodels\\discrete\\discrete_model.py:1840: VisibleDeprecationWarning: using a non-integer number instead of an integer will result in an error in the future\n",
      "  params = params.reshape(self.K, -1, order='F')\n",
      "C:\\Users\\Elizabeth\\Anaconda2\\lib\\site-packages\\statsmodels\\discrete\\discrete_model.py:1756: VisibleDeprecationWarning: using a non-integer number instead of an integer will result in an error in the future\n",
      "  params = params.reshape(self.K, -1, order='F')\n",
      "C:\\Users\\Elizabeth\\Anaconda2\\lib\\site-packages\\statsmodels\\discrete\\discrete_model.py:1697: VisibleDeprecationWarning: using a non-integer number instead of an integer will result in an error in the future\n",
      "  params = params.reshape(self.K, -1, order='F')\n",
      "C:\\Users\\Elizabeth\\Anaconda2\\lib\\site-packages\\statsmodels\\discrete\\discrete_model.py:588: VisibleDeprecationWarning: using a non-integer number instead of an integer will result in an error in the future\n",
      "  mnfit.params = mnfit.params.reshape(self.K, -1, order='F')\n"
     ]
    }
   ],
   "source": [
    "### specify the model\n",
    "mdl = sm.MNLogit(y, x)\n",
    "mdl_fit = mdl.fit()"
   ]
  },
  {
   "cell_type": "code",
   "execution_count": 8,
   "metadata": {
    "collapsed": false
   },
   "outputs": [
    {
     "data": {
      "text/html": [
       "<table class=\"simpletable\">\n",
       "<caption>MNLogit Regression Results</caption>\n",
       "<tr>\n",
       "  <th>Dep. Variable:</th>         <td>y</td>        <th>  No. Observations:  </th>   <td>   569</td>  \n",
       "</tr>\n",
       "<tr>\n",
       "  <th>Model:</th>              <td>MNLogit</td>     <th>  Df Residuals:      </th>   <td>   559</td>  \n",
       "</tr>\n",
       "<tr>\n",
       "  <th>Method:</th>               <td>MLE</td>       <th>  Df Model:          </th>   <td>     9</td>  \n",
       "</tr>\n",
       "<tr>\n",
       "  <th>Date:</th>          <td>Tue, 11 Oct 2016</td> <th>  Pseudo R-squ.:     </th>   <td>0.8051</td>  \n",
       "</tr>\n",
       "<tr>\n",
       "  <th>Time:</th>              <td>15:13:57</td>     <th>  Log-Likelihood:    </th>  <td> -73.234</td> \n",
       "</tr>\n",
       "<tr>\n",
       "  <th>converged:</th>           <td>True</td>       <th>  LL-Null:           </th>  <td> -375.72</td> \n",
       "</tr>\n",
       "<tr>\n",
       "  <th> </th>                      <td> </td>        <th>  LLR p-value:       </th> <td>1.794e-124</td>\n",
       "</tr>\n",
       "</table>\n",
       "<table class=\"simpletable\">\n",
       "<tr>\n",
       "  <th>y=M</th>    <th>coef</th>     <th>std err</th>      <th>z</th>      <th>P>|z|</th> <th>[95.0% Conf. Int.]</th> \n",
       "</tr>\n",
       "<tr>\n",
       "  <th>x1</th>  <td>   -2.9479</td> <td>    3.379</td> <td>   -0.873</td> <td> 0.383</td> <td>   -9.570     3.674</td>\n",
       "</tr>\n",
       "<tr>\n",
       "  <th>x2</th>  <td>    0.3777</td> <td>    0.063</td> <td>    5.977</td> <td> 0.000</td> <td>    0.254     0.502</td>\n",
       "</tr>\n",
       "<tr>\n",
       "  <th>x3</th>  <td>   -0.0457</td> <td>    0.501</td> <td>   -0.091</td> <td> 0.927</td> <td>   -1.028     0.936</td>\n",
       "</tr>\n",
       "<tr>\n",
       "  <th>x4</th>  <td>    0.0475</td> <td>    0.010</td> <td>    4.685</td> <td> 0.000</td> <td>    0.028     0.067</td>\n",
       "</tr>\n",
       "<tr>\n",
       "  <th>x5</th>  <td>   74.4357</td> <td>   30.948</td> <td>    2.405</td> <td> 0.016</td> <td>   13.779   135.092</td>\n",
       "</tr>\n",
       "<tr>\n",
       "  <th>x6</th>  <td>    2.4326</td> <td>   19.004</td> <td>    0.128</td> <td> 0.898</td> <td>  -34.815    39.681</td>\n",
       "</tr>\n",
       "<tr>\n",
       "  <th>x7</th>  <td>    7.4069</td> <td>    7.713</td> <td>    0.960</td> <td> 0.337</td> <td>   -7.711    22.524</td>\n",
       "</tr>\n",
       "<tr>\n",
       "  <th>x8</th>  <td>   70.1621</td> <td>   27.678</td> <td>    2.535</td> <td> 0.011</td> <td>   15.913   124.411</td>\n",
       "</tr>\n",
       "<tr>\n",
       "  <th>x9</th>  <td>   15.1245</td> <td>   10.345</td> <td>    1.462</td> <td> 0.144</td> <td>   -5.150    35.399</td>\n",
       "</tr>\n",
       "<tr>\n",
       "  <th>x10</th> <td>  -96.4246</td> <td>   70.036</td> <td>   -1.377</td> <td> 0.169</td> <td> -233.693    40.843</td>\n",
       "</tr>\n",
       "</table>"
      ],
      "text/plain": [
       "<class 'statsmodels.iolib.summary.Summary'>\n",
       "\"\"\"\n",
       "                          MNLogit Regression Results                          \n",
       "==============================================================================\n",
       "Dep. Variable:                      y   No. Observations:                  569\n",
       "Model:                        MNLogit   Df Residuals:                      559\n",
       "Method:                           MLE   Df Model:                            9\n",
       "Date:                Tue, 11 Oct 2016   Pseudo R-squ.:                  0.8051\n",
       "Time:                        15:13:57   Log-Likelihood:                -73.234\n",
       "converged:                       True   LL-Null:                       -375.72\n",
       "                                        LLR p-value:                1.794e-124\n",
       "==============================================================================\n",
       "       y=M       coef    std err          z      P>|z|      [95.0% Conf. Int.]\n",
       "------------------------------------------------------------------------------\n",
       "x1            -2.9479      3.379     -0.873      0.383        -9.570     3.674\n",
       "x2             0.3777      0.063      5.977      0.000         0.254     0.502\n",
       "x3            -0.0457      0.501     -0.091      0.927        -1.028     0.936\n",
       "x4             0.0475      0.010      4.685      0.000         0.028     0.067\n",
       "x5            74.4357     30.948      2.405      0.016        13.779   135.092\n",
       "x6             2.4326     19.004      0.128      0.898       -34.815    39.681\n",
       "x7             7.4069      7.713      0.960      0.337        -7.711    22.524\n",
       "x8            70.1621     27.678      2.535      0.011        15.913   124.411\n",
       "x9            15.1245     10.345      1.462      0.144        -5.150    35.399\n",
       "x10          -96.4246     70.036     -1.377      0.169      -233.693    40.843\n",
       "==============================================================================\n",
       "\"\"\""
      ]
     },
     "execution_count": 8,
     "metadata": {},
     "output_type": "execute_result"
    }
   ],
   "source": [
    "### print model summary ###\n",
    "mdl_fit.summary()"
   ]
  },
  {
   "cell_type": "code",
   "execution_count": 17,
   "metadata": {
    "collapsed": false
   },
   "outputs": [
    {
     "name": "stdout",
     "output_type": "stream",
     "text": [
      "166.46818873\n",
      "209.906993071\n"
     ]
    }
   ],
   "source": [
    "### aic and bic ###\n",
    "print(mdl_fit.aic)\n",
    "print(mdl_fit.bic)"
   ]
  },
  {
   "cell_type": "code",
   "execution_count": 18,
   "metadata": {
    "collapsed": false
   },
   "outputs": [
    {
     "name": "stdout",
     "output_type": "stream",
     "text": [
      "       MNLogit Marginal Effects      \n",
      "=====================================\n",
      "Dep. Variable:                      y\n",
      "Method:                          dydx\n",
      "At:                           overall\n",
      "==============================================================================\n",
      "       y=B      dy/dx    std err          z      P>|z|      [95.0% Conf. Int.]\n",
      "------------------------------------------------------------------------------\n",
      "x1             0.1129      0.129      0.878      0.380        -0.139     0.365\n",
      "x2            -0.0145      0.002     -7.763      0.000        -0.018    -0.011\n",
      "x3             0.0017      0.019      0.091      0.927        -0.036     0.039\n",
      "x4            -0.0018      0.000     -5.427      0.000        -0.002    -0.001\n",
      "x5            -2.8506      1.141     -2.499      0.012        -5.086    -0.615\n",
      "x6            -0.0932      0.728     -0.128      0.898        -1.520     1.334\n",
      "x7            -0.2837      0.294     -0.966      0.334        -0.859     0.292\n",
      "x8            -2.6869      1.016     -2.644      0.008        -4.679    -0.695\n",
      "x9            -0.5792      0.392     -1.476      0.140        -1.348     0.190\n",
      "x10            3.6927      2.658      1.389      0.165        -1.517     8.903\n",
      "------------------------------------------------------------------------------\n",
      "       y=M      dy/dx    std err          z      P>|z|      [95.0% Conf. Int.]\n",
      "------------------------------------------------------------------------------\n",
      "x1            -0.1129      0.129     -0.878      0.380        -0.365     0.139\n",
      "x2             0.0145      0.002      7.763      0.000         0.011     0.018\n",
      "x3            -0.0017      0.019     -0.091      0.927        -0.039     0.036\n",
      "x4             0.0018      0.000      5.427      0.000         0.001     0.002\n",
      "x5             2.8506      1.141      2.499      0.012         0.615     5.086\n",
      "x6             0.0932      0.728      0.128      0.898        -1.334     1.520\n",
      "x7             0.2837      0.294      0.966      0.334        -0.292     0.859\n",
      "x8             2.6869      1.016      2.644      0.008         0.695     4.679\n",
      "x9             0.5792      0.392      1.476      0.140        -0.190     1.348\n",
      "x10           -3.6927      2.658     -1.389      0.165        -8.903     1.517\n",
      "==============================================================================\n"
     ]
    }
   ],
   "source": [
    "### marginal effects ###\n",
    "mdl_margeff = mdl_fit.get_margeff()\n",
    "print( mdl_margeff.summary() )"
   ]
  },
  {
   "cell_type": "code",
   "execution_count": null,
   "metadata": {
    "collapsed": true
   },
   "outputs": [],
   "source": []
  }
 ],
 "metadata": {
  "anaconda-cloud": {},
  "kernelspec": {
   "display_name": "Python [Root]",
   "language": "python",
   "name": "Python [Root]"
  },
  "language_info": {
   "codemirror_mode": {
    "name": "ipython",
    "version": 2
   },
   "file_extension": ".py",
   "mimetype": "text/x-python",
   "name": "python",
   "nbconvert_exporter": "python",
   "pygments_lexer": "ipython2",
   "version": "2.7.12"
  }
 },
 "nbformat": 4,
 "nbformat_minor": 0
}
