{
 "cells": [
  {
   "cell_type": "code",
   "execution_count": 1,
   "metadata": {
    "collapsed": true,
    "slideshow": {
     "slide_type": "skip"
    }
   },
   "outputs": [],
   "source": [
    "import pandas as pd\n",
    "import numpy as np"
   ]
  },
  {
   "cell_type": "markdown",
   "metadata": {
    "slideshow": {
     "slide_type": "slide"
    }
   },
   "source": [
    "# ![](https://ga-dash.s3.amazonaws.com/production/assets/logo-9f88ae6c9c3871690e33280fcf557f33.png) Webscraping\n",
    "\n",
    "Week 4 | Day 4"
   ]
  },
  {
   "cell_type": "markdown",
   "metadata": {
    "slideshow": {
     "slide_type": "slide"
    }
   },
   "source": [
    "### LEARNING OBJECTIVES\n",
    "*After this lesson, you will be able to:*\n",
    "- Describe how web scraping works conceptually\n",
    "- Explain how to Web Scraping works using python\n",
    "- Define how to approach scraping project data"
   ]
  },
  {
   "cell_type": "markdown",
   "metadata": {
    "slideshow": {
     "slide_type": "slide"
    }
   },
   "source": [
    "# Webscraping"
   ]
  },
  {
   "cell_type": "markdown",
   "metadata": {
    "slideshow": {
     "slide_type": "-"
    }
   },
   "source": [
    "In data science work, it is often necessary to retrieve data from websites. Occassionally, sites will provide an API that allows their data to be easily accessed, but often this isn't the case. When an API is not available, the only real option is to build a webscraper. \n",
    "\n",
    "\n",
    "A webscraper retrieves the webpage in the same way your browser retrieves the page, but because we're doing it with code, we are able to parse the resulting site's content.\n",
    "\n",
    "\n",
    "**So how can we retrieve webpage content programmatically?**<br>\n",
    "The first step is to understand how HTTP works..."
   ]
  },
  {
   "cell_type": "markdown",
   "metadata": {
    "slideshow": {
     "slide_type": "slide"
    }
   },
   "source": [
    "## HTTP"
   ]
  },
  {
   "cell_type": "markdown",
   "metadata": {
    "slideshow": {
     "slide_type": "-"
    }
   },
   "source": [
    "Hypertext Transfer Protocol, or HTTP, is a text-based standard that allows clients and servers to communicate over TCP/IP. \n",
    "\n",
    "**HTTP  = the language computers communicate with**<br>\n",
    "**TCP/IP = the channel over which that communication takes place**\n",
    "\n",
    "HTTP is based on a client-server model. A client makes a request for some resource, and the server responds with the status of that request and the resource if available."
   ]
  },
  {
   "cell_type": "markdown",
   "metadata": {
    "slideshow": {
     "slide_type": "slide"
    }
   },
   "source": [
    "## HTTP Requests"
   ]
  },
  {
   "cell_type": "markdown",
   "metadata": {
    "slideshow": {
     "slide_type": "-"
    }
   },
   "source": [
    "There are two common types of HTTP requests: **GET and POST**"
   ]
  },
  {
   "cell_type": "markdown",
   "metadata": {
    "slideshow": {
     "slide_type": "slide"
    }
   },
   "source": [
    "### GET Requests"
   ]
  },
  {
   "cell_type": "markdown",
   "metadata": {
    "slideshow": {
     "slide_type": "-"
    }
   },
   "source": [
    "GET requests are by far the most common, they simply ask the server to retrieve some resource, typically a webpage, and to return it."
   ]
  },
  {
   "cell_type": "markdown",
   "metadata": {
    "collapsed": false,
    "slideshow": {
     "slide_type": "-"
    }
   },
   "source": [
    "<img src=\"http://i.imgur.com/qBG7jmB.png\" width=\"900\">"
   ]
  },
  {
   "cell_type": "markdown",
   "metadata": {
    "slideshow": {
     "slide_type": "slide"
    }
   },
   "source": [
    "### POST Requests"
   ]
  },
  {
   "cell_type": "markdown",
   "metadata": {
    "slideshow": {
     "slide_type": "-"
    }
   },
   "source": [
    "A POST request is nearly identical to a GET request, but includes a payload of some sort in the request body. "
   ]
  },
  {
   "cell_type": "markdown",
   "metadata": {
    "collapsed": false,
    "slideshow": {
     "slide_type": "-"
    }
   },
   "source": [
    "<img src=\"http://i.imgur.com/mzWB0wD.png\" width=900>"
   ]
  },
  {
   "cell_type": "markdown",
   "metadata": {
    "slideshow": {
     "slide_type": "slide"
    }
   },
   "source": [
    "## Typical Use Cases"
   ]
  },
  {
   "cell_type": "markdown",
   "metadata": {
    "slideshow": {
     "slide_type": "-"
    }
   },
   "source": [
    "GET requests are the standard way to request a webpage (as your browser would do). Some simple forms will use get as well. \n",
    "\n",
    "More sophisticated forms will utilize a POST request. GET requests pass parameters in the URL, while POST requests do not. This tends to make POST request more secure. \n",
    "\n",
    "N.B. Do not rely on POST alone as a security measure!"
   ]
  },
  {
   "cell_type": "markdown",
   "metadata": {
    "slideshow": {
     "slide_type": "slide"
    }
   },
   "source": [
    "## So once you make a request, naturally you expect a response...\n",
    "\n",
    "\n",
    "In the language of http, responses are provided first as a code"
   ]
  },
  {
   "cell_type": "markdown",
   "metadata": {
    "slideshow": {
     "slide_type": "slide"
    }
   },
   "source": [
    "## HTTP Response Codes"
   ]
  },
  {
   "cell_type": "markdown",
   "metadata": {
    "slideshow": {
     "slide_type": "-"
    }
   },
   "source": [
    "- 1XX - Informational\n",
    "- 2XX - Success\n",
    "- 3XX - Redirection\n",
    "- 4XX - Client Error\n",
    "- 5XX - Server Error"
   ]
  },
  {
   "cell_type": "markdown",
   "metadata": {
    "slideshow": {
     "slide_type": "slide"
    }
   },
   "source": [
    "### Response Codes - The Greatest Hits"
   ]
  },
  {
   "cell_type": "markdown",
   "metadata": {
    "slideshow": {
     "slide_type": "-"
    }
   },
   "source": [
    "- **200 - OK** - The requested action was successfully executed\n",
    "- **301 - Moved Permanently** - The resource has been relocated (and will not be back, so please stop asking me)\n",
    "- **400 - Bad Request** - The the client request is malformed in some way\n",
    "- **403 - Forbidden** - The requesting client (i.e. you) does not have permission to view the resource\n",
    "- **404 - Not Found** - The resource can't be found at the moment (may be in the future, so check back later)\n",
    "- **405 - Method Not Allowed** - Used GET when only POST was applicable for example\n",
    "- **418 - I'm a teapot** - For when the server is a teapot\n",
    "- **420 - NOT an HTTP code** - you're thinking of something else\n",
    "- **429 - Too Many Requests** - They're on to you and if you keep it up, they'll block you permenantly\n",
    "- **500 - Internal Server Error** -Some non-specific bad happened on their end\n",
    "- **502 - Bad Gateway** - The server was waiting on another resource and it ended badly\n",
    "- **503 - Service Unavailable** - The server is overloaded or down at the moment"
   ]
  },
  {
   "cell_type": "markdown",
   "metadata": {
    "slideshow": {
     "slide_type": "slide"
    }
   },
   "source": [
    "## So that is the basic language of the web, now how do we actually use this to get our content..."
   ]
  },
  {
   "cell_type": "markdown",
   "metadata": {
    "slideshow": {
     "slide_type": "slide"
    }
   },
   "source": [
    "## Python Requests"
   ]
  },
  {
   "cell_type": "markdown",
   "metadata": {
    "slideshow": {
     "slide_type": "-"
    }
   },
   "source": [
    "<img src=\"http://i.imgur.com/qpfNAPb.png\" width=\"900\">"
   ]
  },
  {
   "cell_type": "markdown",
   "metadata": {
    "slideshow": {
     "slide_type": "-"
    }
   },
   "source": [
    "Requests allows us to send the server a request using (POST or GET) and in return we receive our response code and content where applicable."
   ]
  },
  {
   "cell_type": "markdown",
   "metadata": {
    "slideshow": {
     "slide_type": "slide"
    }
   },
   "source": [
    "## First, we make a request to retrieve a website"
   ]
  },
  {
   "cell_type": "code",
   "execution_count": 2,
   "metadata": {
    "collapsed": true,
    "slideshow": {
     "slide_type": "-"
    }
   },
   "outputs": [],
   "source": [
    "import requests"
   ]
  },
  {
   "cell_type": "code",
   "execution_count": 15,
   "metadata": {
    "collapsed": true,
    "slideshow": {
     "slide_type": "-"
    }
   },
   "outputs": [],
   "source": [
    "r = requests.get('http://www.imdb.com')"
   ]
  },
  {
   "cell_type": "markdown",
   "metadata": {
    "slideshow": {
     "slide_type": "slide"
    }
   },
   "source": [
    "## We can check the response code"
   ]
  },
  {
   "cell_type": "code",
   "execution_count": 16,
   "metadata": {
    "collapsed": false,
    "slideshow": {
     "slide_type": "-"
    }
   },
   "outputs": [
    {
     "data": {
      "text/plain": [
       "<Response [200]>"
      ]
     },
     "execution_count": 16,
     "metadata": {},
     "output_type": "execute_result"
    }
   ],
   "source": [
    "r"
   ]
  },
  {
   "cell_type": "markdown",
   "metadata": {
    "slideshow": {
     "slide_type": "-"
    }
   },
   "source": [
    "### Check: What is a 200? Is that good or bad for what we're trying to do?"
   ]
  },
  {
   "cell_type": "markdown",
   "metadata": {
    "slideshow": {
     "slide_type": "slide"
    }
   },
   "source": [
    "## Let's see the request headers we sent"
   ]
  },
  {
   "cell_type": "code",
   "execution_count": 5,
   "metadata": {
    "collapsed": false,
    "slideshow": {
     "slide_type": "-"
    }
   },
   "outputs": [
    {
     "data": {
      "text/plain": [
       "{'Connection': 'keep-alive', 'Cookie': '__cfduid=d722634c18102b0ad56dc7bc2f2d90c6f1477768734', 'Accept-Encoding': 'gzip, deflate', 'Accept': '*/*', 'User-Agent': 'python-requests/2.10.0'}"
      ]
     },
     "execution_count": 5,
     "metadata": {},
     "output_type": "execute_result"
    }
   ],
   "source": [
    "r.request.headers"
   ]
  },
  {
   "cell_type": "code",
   "execution_count": 6,
   "metadata": {
    "collapsed": false,
    "slideshow": {
     "slide_type": "-"
    }
   },
   "outputs": [
    {
     "name": "stdout",
     "output_type": "stream",
     "text": [
      "('Connection:', 'keep-alive')\n",
      "('Accept-Encoding:', 'gzip, deflate')\n",
      "('Accept:', '*/*')\n",
      "('User-Agent:', 'python-requests/2.10.0')\n",
      "('Cookie:', '__cfduid=d722634c18102b0ad56dc7bc2f2d90c6f1477768734')\n"
     ]
    }
   ],
   "source": [
    "# we can print those out nicely\n",
    "for k, v in r.request.headers.items():\n",
    "    print(k + ':', v)"
   ]
  },
  {
   "cell_type": "markdown",
   "metadata": {
    "slideshow": {
     "slide_type": "slide"
    }
   },
   "source": [
    "## We can also see the response headers"
   ]
  },
  {
   "cell_type": "code",
   "execution_count": 7,
   "metadata": {
    "collapsed": false,
    "slideshow": {
     "slide_type": "-"
    }
   },
   "outputs": [
    {
     "data": {
      "text/plain": [
       "{'Content-Encoding': 'gzip', 'Transfer-Encoding': 'chunked', 'Strict-Transport-Security': 'max-age=31556900; includeSubDomains', 'Vary': 'Accept-Encoding', 'Server': 'cloudflare-nginx', 'Connection': 'keep-alive', 'Cache-Control': 'private, max-age=0', 'Date': 'Sat, 29 Oct 2016 19:18:55 GMT', 'X-Frame-Options': 'DENY', 'Content-Type': 'text/html; charset=utf-8', 'CF-RAY': '2f98f9e0dfb3183a-EWR'}"
      ]
     },
     "execution_count": 7,
     "metadata": {},
     "output_type": "execute_result"
    }
   ],
   "source": [
    "r.headers"
   ]
  },
  {
   "cell_type": "code",
   "execution_count": 8,
   "metadata": {
    "collapsed": false,
    "slideshow": {
     "slide_type": "-"
    }
   },
   "outputs": [
    {
     "name": "stdout",
     "output_type": "stream",
     "text": [
      "('Date:', 'Sat, 29 Oct 2016 19:18:55 GMT')\n",
      "('Content-Type:', 'text/html; charset=utf-8')\n",
      "('Transfer-Encoding:', 'chunked')\n",
      "('Connection:', 'keep-alive')\n",
      "('Vary:', 'Accept-Encoding')\n",
      "('Cache-Control:', 'private, max-age=0')\n",
      "('X-Frame-Options:', 'DENY')\n",
      "('Strict-Transport-Security:', 'max-age=31556900; includeSubDomains')\n",
      "('Content-Encoding:', 'gzip')\n",
      "('Server:', 'cloudflare-nginx')\n",
      "('CF-RAY:', '2f98f9e0dfb3183a-EWR')\n"
     ]
    }
   ],
   "source": [
    "for k, v in r.headers.items():\n",
    "    print(k + ':', v)"
   ]
  },
  {
   "cell_type": "markdown",
   "metadata": {
    "slideshow": {
     "slide_type": "slide"
    }
   },
   "source": [
    "## Let's see what content came back"
   ]
  },
  {
   "cell_type": "code",
   "execution_count": 9,
   "metadata": {
    "collapsed": false,
    "slideshow": {
     "slide_type": "-"
    }
   },
   "outputs": [
    {
     "data": {
      "text/plain": [
       "'<html op=\"news\"><head><meta name=\"referrer\" content=\"origin\"><meta name=\"viewport\" content=\"width=device-width, initial-scale=1.0\"><link rel=\"stylesheet\" type=\"text/css\" href=\"news.css?qteYN9s39JuqPSkaxUEz\">\\n        <link rel=\"shortcut icon\" href=\"favicon.ico\">\\n          <link rel=\"alternate\" type=\"application/rss+xml\" title=\"RSS\" href=\"rss\">\\n        <title>Hacker News</title>\\n      </head><body><center><table id=\"hnmain\" border=\"0\" cellpadding=\"0\" cellspacing=\"0\" width=\"85%\" bgcolor=\"#f6f6ef\">\\n        <tr><td bgcolor=\"#ff6600\"><table border=\"0\" cellpadding=\"0\" cellspacing=\"0\" width=\"100%\" style=\"padding:2px\"><tr><td style=\"width:18px;padding-right:4px\"><a href=\"http://www.ycombinator.com\"><img src=\"y18.gif\" width=\"18\" height=\"18\" style=\"border:1px white solid;\"></a></td>\\n                  <td style=\"line-height:12pt; height:10px;\"><span class=\"pagetop\"><b class=\"hnname\"><a href=\"news\">Hacker News</a></b>\\n              <a href=\"newest\">new</a> | <a href=\"newcomments\">comments</a> | <a href=\"show\">show</a> | <a href=\"ask\">ask</a> | <a href=\"jobs\">jobs</a> | <a href=\"submit\">submit</a>            </span></td><td style=\"text-align:right;padding-right:4px;\"><span class=\"pagetop\">\\n                              <a href=\"login?goto=news\">login</a>\\n                          </span></td>\\n              </tr></table></td></tr>\\n<tr style=\"height:10px\"></tr><tr><td><table border=\"0\" cellpadding=\"0\" cellspacing=\"0\" class=\"itemlist\">\\n              <tr class=\\'athing\\' id=\\'12824478\\'>\\n      <td align=\"right\" valign=\"top\" class=\"title\"><span class=\"rank\">1.</span></td>      <td valign=\"top\" class=\"votelinks\"><center><a id=\\'up_12824478\\' href=\\'vote?id=12824478&amp;how=up&amp;goto=news\\'><div class=\\'votearrow\\' title=\\'upvote\\'></div></a></center></td><td class=\"title\"><a href=\"https://techcrunch.com/2016/10/28/apples-new-intel-driven-macbooks-have-a-secondary-arm-processor-that-runs-touch-id-and-security/\" class=\"storylink\">Intel driven MacBook Pros have secondary ARM processor for Touch ID and security</a><span class=\"sitebit comhead\"> (<a href=\"from?site=techcrunch.com\"><span class=\"sitestr\">techcrunch.com</span></a>)</span></td></tr><tr><td colspan=\"2\"></td><td class=\"subtext\">\\n        <span class=\"score\" id=\"score_12824478\">100 points</span> by <a href=\"user?id=eth0up\" class=\"hnuser\">eth0up</a> <span class=\"age\"><a href=\"item?id=12824478\">3 hours ago</a></span> <span id=\"unv_12824478\"></span> | <a href=\"hide?id=12824478&amp;goto=news\">hide</a> | <a href=\"item?id=12824478\">47&nbsp;comments</a>              </td></tr>\\n      <tr class=\"spacer\" style=\"height:5px\"></tr>\\n                <tr class=\\'athing\\' id=\\'12824366\\'>\\n      <td align=\"right\" valign=\"top\" class=\"title\"><span class=\"rank\">2.</span></td>      <td valign=\"top\" class=\"votelinks\"><center><a id=\\'up_12824366\\' href=\\'vote?id=12824366&amp;how=up&amp;goto=news\\'><div class=\\'votearrow\\' title=\\'upvote\\'></div></a></center></td><td class=\"title\"><a href=\"http://blog.fosketts.net/2016/10/29/total-nightmare-usb-c-thunderbolt-3/\" class=\"storylink\">Total Nightmare: USB-C and Thunderbolt 3</a><span class=\"sitebit comhead\"> (<a href=\"from?site=fosketts.net\"><span class=\"sitestr\">fosketts.net</span></a>)</span></td></tr><tr><td colspan=\"2\"></td><td class=\"subtext\">\\n        <span class=\"score\" id=\"score_12824366\">390 points</span> by <a href=\"user?id=sfoskett\" class=\"hnuser\">sfoskett</a> <span class=\"age\"><a href=\"item?id=12824366\">3 hours ago</a></span> <span id=\"unv_12824366\"></span> | <a href=\"hide?id=12824366&amp;goto=news\">hide</a> | <a href=\"item?id=12824366\">194&nbsp;comments</a>              </td></tr>\\n      <tr class=\"spacer\" style=\"height:5px\"></tr>\\n                <tr class=\\'athing\\' id=\\'12825643\\'>\\n      <td align=\"right\" valign=\"top\" class=\"title\"><span class=\"rank\">3.</span></td>      <td valign=\"top\" class=\"votelinks\"><center><a id=\\'up_12825643\\' href=\\'vote?id=12825643&amp;how=up&amp;goto=news\\'><div class=\\'votearrow\\' title=\\'upvote\\'></div></a></center></td><td class=\"title\"><a href=\"https://clinton.media.mit.edu/dnc\" class=\"storylink\">ClintonCircle / DNC</a><span class=\"sitebit comhead\"> (<a href=\"from?site=mit.edu\"><span class=\"sitestr\">mit.edu</span></a>)</span></td></tr><tr><td colspan=\"2\"></td><td class=\"subtext\">\\n        <span class=\"score\" id=\"score_12825643\">19 points</span> by <a href=\"user?id=koolba\" class=\"hnuser\">koolba</a> <span class=\"age\"><a href=\"item?id=12825643\">26 minutes ago</a></span> <span id=\"unv_12825643\"></span> | <a href=\"hide?id=12825643&amp;goto=news\">hide</a> | <a href=\"item?id=12825643\">discuss</a>              </td></tr>\\n      <tr class=\"spacer\" style=\"height:5px\"></tr>\\n                <tr class=\\'athing\\' id=\\'12824212\\'>\\n      <td align=\"right\" valign=\"top\" class=\"title\"><span class=\"rank\">4.</span></td>      <td valign=\"top\" class=\"votelinks\"><center><a id=\\'up_12824212\\' href=\\'vote?id=12824212&amp;how=up&amp;goto=news\\'><div class=\\'votearrow\\' title=\\'upvote\\'></div></a></center></td><td class=\"title\"><a href=\"http://boingboing.net/2014/10/23/thomas-pikettys-capital-in-t-2.html\" class=\"storylink\">Thomas Piketty\\'s Capital in the 21st Century, in 20 minutes [video]</a><span class=\"sitebit comhead\"> (<a href=\"from?site=boingboing.net\"><span class=\"sitestr\">boingboing.net</span></a>)</span></td></tr><tr><td colspan=\"2\"></td><td class=\"subtext\">\\n        <span class=\"score\" id=\"score_12824212\">114 points</span> by <a href=\"user?id=based2\" class=\"hnuser\">based2</a> <span class=\"age\"><a href=\"item?id=12824212\">4 hours ago</a></span> <span id=\"unv_12824212\"></span> | <a href=\"hide?id=12824212&amp;goto=news\">hide</a> | <a href=\"item?id=12824212\">47&nbsp;comments</a>              </td></tr>\\n      <tr class=\"spacer\" style=\"height:5px\"></tr>\\n                <tr class=\\'athing\\' id=\\'12824349\\'>\\n      <td align=\"right\" valign=\"top\" class=\"title\"><span class=\"rank\">5.</span></td>      <td valign=\"top\" class=\"votelinks\"><center><a id=\\'up_12824349\\' href=\\'vote?id=12824349&amp;how=up&amp;goto=news\\'><div class=\\'votearrow\\' title=\\'upvote\\'></div></a></center></td><td class=\"title\"><a href=\"http://www.outkickthecoverage.com/espn-loses-621-000-subscribers-worst-month-in-company-history-102916\" class=\"storylink\">ESPN Loses 621,000 Subscribers; Worst Month in Company History</a><span class=\"sitebit comhead\"> (<a href=\"from?site=outkickthecoverage.com\"><span class=\"sitestr\">outkickthecoverage.com</span></a>)</span></td></tr><tr><td colspan=\"2\"></td><td class=\"subtext\">\\n        <span class=\"score\" id=\"score_12824349\">197 points</span> by <a href=\"user?id=kelukelugames\" class=\"hnuser\">kelukelugames</a> <span class=\"age\"><a href=\"item?id=12824349\">3 hours ago</a></span> <span id=\"unv_12824349\"></span> | <a href=\"hide?id=12824349&amp;goto=news\">hide</a> | <a href=\"item?id=12824349\">215&nbsp;comments</a>              </td></tr>\\n      <tr class=\"spacer\" style=\"height:5px\"></tr>\\n                <tr class=\\'athing\\' id=\\'12822124\\'>\\n      <td align=\"right\" valign=\"top\" class=\"title\"><span class=\"rank\">6.</span></td>      <td valign=\"top\" class=\"votelinks\"><center><a id=\\'up_12822124\\' href=\\'vote?id=12822124&amp;how=up&amp;goto=news\\'><div class=\\'votearrow\\' title=\\'upvote\\'></div></a></center></td><td class=\"title\"><a href=\"http://hyperallergic.com/299912/the-photographers-of-1870s-london-who-documented-their-disappearing-city/\" class=\"storylink\">Photographers of 1870s London Documented Their Disappearing City</a><span class=\"sitebit comhead\"> (<a href=\"from?site=hyperallergic.com\"><span class=\"sitestr\">hyperallergic.com</span></a>)</span></td></tr><tr><td colspan=\"2\"></td><td class=\"subtext\">\\n        <span class=\"score\" id=\"score_12822124\">73 points</span> by <a href=\"user?id=brudgers\" class=\"hnuser\">brudgers</a> <span class=\"age\"><a href=\"item?id=12822124\">4 hours ago</a></span> <span id=\"unv_12822124\"></span> | <a href=\"hide?id=12822124&amp;goto=news\">hide</a> | <a href=\"item?id=12822124\">4&nbsp;comments</a>              </td></tr>\\n      <tr class=\"spacer\" style=\"height:5px\"></tr>\\n                <tr class=\\'athing\\' id=\\'12825366\\'>\\n      <td align=\"right\" valign=\"top\" class=\"title\"><span class=\"rank\">7.</span></td>      <td valign=\"top\" class=\"votelinks\"><center><a id=\\'up_12825366\\' href=\\'vote?id=12825366&amp;how=up&amp;goto=news\\'><div class=\\'votearrow\\' title=\\'upvote\\'></div></a></center></td><td class=\"title\"><a href=\"https://frinklang.org\" class=\"storylink\">Frink</a><span class=\"sitebit comhead\"> (<a href=\"from?site=frinklang.org\"><span class=\"sitestr\">frinklang.org</span></a>)</span></td></tr><tr><td colspan=\"2\"></td><td class=\"subtext\">\\n        <span class=\"score\" id=\"score_12825366\">25 points</span> by <a href=\"user?id=tosh\" class=\"hnuser\">tosh</a> <span class=\"age\"><a href=\"item?id=12825366\">1 hour ago</a></span> <span id=\"unv_12825366\"></span> | <a href=\"hide?id=12825366&amp;goto=news\">hide</a> | <a href=\"item?id=12825366\">2&nbsp;comments</a>              </td></tr>\\n      <tr class=\"spacer\" style=\"height:5px\"></tr>\\n                <tr class=\\'athing\\' id=\\'12824631\\'>\\n      <td align=\"right\" valign=\"top\" class=\"title\"><span class=\"rank\">8.</span></td>      <td valign=\"top\" class=\"votelinks\"><center><a id=\\'up_12824631\\' href=\\'vote?id=12824631&amp;how=up&amp;goto=news\\'><div class=\\'votearrow\\' title=\\'upvote\\'></div></a></center></td><td class=\"title\"><a href=\"https://afilias.info/blogs/web-icanns-first-test-accountability\" class=\"storylink\">ICANN\\xe2\\x80\\x99s First Test of Accountability</a><span class=\"sitebit comhead\"> (<a href=\"from?site=afilias.info\"><span class=\"sitestr\">afilias.info</span></a>)</span></td></tr><tr><td colspan=\"2\"></td><td class=\"subtext\">\\n        <span class=\"score\" id=\"score_12824631\">41 points</span> by <a href=\"user?id=ayh\" class=\"hnuser\">ayh</a> <span class=\"age\"><a href=\"item?id=12824631\">3 hours ago</a></span> <span id=\"unv_12824631\"></span> | <a href=\"hide?id=12824631&amp;goto=news\">hide</a> | <a href=\"item?id=12824631\">1&nbsp;comment</a>              </td></tr>\\n      <tr class=\"spacer\" style=\"height:5px\"></tr>\\n                <tr class=\\'athing\\' id=\\'12821637\\'>\\n      <td align=\"right\" valign=\"top\" class=\"title\"><span class=\"rank\">9.</span></td>      <td valign=\"top\" class=\"votelinks\"><center><a id=\\'up_12821637\\' href=\\'vote?id=12821637&amp;how=up&amp;goto=news\\'><div class=\\'votearrow\\' title=\\'upvote\\'></div></a></center></td><td class=\"title\"><a href=\"http://www.spoon-tamago.com/2016/10/28/hajime-narukawa-authagraph/\" class=\"storylink\">A Map of the World Won Japan\\xe2\\x80\\x99s Prestigious Design Award</a><span class=\"sitebit comhead\"> (<a href=\"from?site=spoon-tamago.com\"><span class=\"sitestr\">spoon-tamago.com</span></a>)</span></td></tr><tr><td colspan=\"2\"></td><td class=\"subtext\">\\n        <span class=\"score\" id=\"score_12821637\">142 points</span> by <a href=\"user?id=igrs\" class=\"hnuser\">igrs</a> <span class=\"age\"><a href=\"item?id=12821637\">8 hours ago</a></span> <span id=\"unv_12821637\"></span> | <a href=\"hide?id=12821637&amp;goto=news\">hide</a> | <a href=\"item?id=12821637\">54&nbsp;comments</a>              </td></tr>\\n      <tr class=\"spacer\" style=\"height:5px\"></tr>\\n                <tr class=\\'athing\\' id=\\'12824050\\'>\\n      <td align=\"right\" valign=\"top\" class=\"title\"><span class=\"rank\">10.</span></td>      <td valign=\"top\" class=\"votelinks\"><center><a id=\\'up_12824050\\' href=\\'vote?id=12824050&amp;how=up&amp;goto=news\\'><div class=\\'votearrow\\' title=\\'upvote\\'></div></a></center></td><td class=\"title\"><a href=\"http://www.graphicsmagick.org/index.html\" class=\"storylink\">GraphicsMagick Image Processing System</a><span class=\"sitebit comhead\"> (<a href=\"from?site=graphicsmagick.org\"><span class=\"sitestr\">graphicsmagick.org</span></a>)</span></td></tr><tr><td colspan=\"2\"></td><td class=\"subtext\">\\n        <span class=\"score\" id=\"score_12824050\">75 points</span> by <a href=\"user?id=based2\" class=\"hnuser\">based2</a> <span class=\"age\"><a href=\"item?id=12824050\">4 hours ago</a></span> <span id=\"unv_12824050\"></span> | <a href=\"hide?id=12824050&amp;goto=news\">hide</a> | <a href=\"item?id=12824050\">27&nbsp;comments</a>              </td></tr>\\n      <tr class=\"spacer\" style=\"height:5px\"></tr>\\n                <tr class=\\'athing\\' id=\\'12824789\\'>\\n      <td align=\"right\" valign=\"top\" class=\"title\"><span class=\"rank\">11.</span></td>      <td valign=\"top\" class=\"votelinks\"><center><a id=\\'up_12824789\\' href=\\'vote?id=12824789&amp;how=up&amp;goto=news\\'><div class=\\'votearrow\\' title=\\'upvote\\'></div></a></center></td><td class=\"title\"><a href=\"http://www.weimag.ch/micha/dc/05_Buss_Strategies%20of%20Human%20Mating.pdf\" class=\"storylink\">Strategies of Human Mating (2006) [pdf]</a><span class=\"sitebit comhead\"> (<a href=\"from?site=weimag.ch\"><span class=\"sitestr\">weimag.ch</span></a>)</span></td></tr><tr><td colspan=\"2\"></td><td class=\"subtext\">\\n        <span class=\"score\" id=\"score_12824789\">30 points</span> by <a href=\"user?id=networked\" class=\"hnuser\">networked</a> <span class=\"age\"><a href=\"item?id=12824789\">2 hours ago</a></span> <span id=\"unv_12824789\"></span> | <a href=\"hide?id=12824789&amp;goto=news\">hide</a> | <a href=\"item?id=12824789\">3&nbsp;comments</a>              </td></tr>\\n      <tr class=\"spacer\" style=\"height:5px\"></tr>\\n                <tr class=\\'athing\\' id=\\'12823937\\'>\\n      <td align=\"right\" valign=\"top\" class=\"title\"><span class=\"rank\">12.</span></td>      <td valign=\"top\" class=\"votelinks\"><center><a id=\\'up_12823937\\' href=\\'vote?id=12823937&amp;how=up&amp;goto=news\\'><div class=\\'votearrow\\' title=\\'upvote\\'></div></a></center></td><td class=\"title\"><a href=\"https://github.com/verekia/js-stack-from-scratch\" class=\"storylink\">Step-by-step tutorial to build a modern JavaScript stack from scratch</a><span class=\"sitebit comhead\"> (<a href=\"from?site=github.com\"><span class=\"sitestr\">github.com</span></a>)</span></td></tr><tr><td colspan=\"2\"></td><td class=\"subtext\">\\n        <span class=\"score\" id=\"score_12823937\">80 points</span> by <a href=\"user?id=lobo_tuerto\" class=\"hnuser\">lobo_tuerto</a> <span class=\"age\"><a href=\"item?id=12823937\">5 hours ago</a></span> <span id=\"unv_12823937\"></span> | <a href=\"hide?id=12823937&amp;goto=news\">hide</a> | <a href=\"item?id=12823937\">43&nbsp;comments</a>              </td></tr>\\n      <tr class=\"spacer\" style=\"height:5px\"></tr>\\n                <tr class=\\'athing\\' id=\\'12825655\\'>\\n      <td align=\"right\" valign=\"top\" class=\"title\"><span class=\"rank\">13.</span></td>      <td valign=\"top\" class=\"votelinks\"><center><a id=\\'up_12825655\\' href=\\'vote?id=12825655&amp;how=up&amp;goto=news\\'><div class=\\'votearrow\\' title=\\'upvote\\'></div></a></center></td><td class=\"title\"><a href=\"http://www.nytimes.com/2016/10/31/technology/peter-thiel-defends-his-most-contrarian-move-yet-supporting-trump.html\" class=\"storylink\">Peter Thiel Defends His Most Contrarian Move Yet: Supporting Trump</a><span class=\"sitebit comhead\"> (<a href=\"from?site=nytimes.com\"><span class=\"sitestr\">nytimes.com</span></a>)</span></td></tr><tr><td colspan=\"2\"></td><td class=\"subtext\">\\n        <span class=\"score\" id=\"score_12825655\">22 points</span> by <a href=\"user?id=endswapper\" class=\"hnuser\">endswapper</a> <span class=\"age\"><a href=\"item?id=12825655\">23 minutes ago</a></span> <span id=\"unv_12825655\"></span> | <a href=\"hide?id=12825655&amp;goto=news\">hide</a> | <a href=\"item?id=12825655\">6&nbsp;comments</a>              </td></tr>\\n      <tr class=\"spacer\" style=\"height:5px\"></tr>\\n                <tr class=\\'athing\\' id=\\'12824380\\'>\\n      <td align=\"right\" valign=\"top\" class=\"title\"><span class=\"rank\">14.</span></td>      <td valign=\"top\" class=\"votelinks\"><center><a id=\\'up_12824380\\' href=\\'vote?id=12824380&amp;how=up&amp;goto=news\\'><div class=\\'votearrow\\' title=\\'upvote\\'></div></a></center></td><td class=\"title\"><a href=\"https://arxiv.org/abs/1610.08401\" class=\"storylink\">Universal adversarial perturbations</a><span class=\"sitebit comhead\"> (<a href=\"from?site=arxiv.org\"><span class=\"sitestr\">arxiv.org</span></a>)</span></td></tr><tr><td colspan=\"2\"></td><td class=\"subtext\">\\n        <span class=\"score\" id=\"score_12824380\">35 points</span> by <a href=\"user?id=legatus\" class=\"hnuser\">legatus</a> <span class=\"age\"><a href=\"item?id=12824380\">3 hours ago</a></span> <span id=\"unv_12824380\"></span> | <a href=\"hide?id=12824380&amp;goto=news\">hide</a> | <a href=\"item?id=12824380\">14&nbsp;comments</a>              </td></tr>\\n      <tr class=\"spacer\" style=\"height:5px\"></tr>\\n                <tr class=\\'athing\\' id=\\'12825087\\'>\\n      <td align=\"right\" valign=\"top\" class=\"title\"><span class=\"rank\">15.</span></td>      <td valign=\"top\" class=\"votelinks\"><center><a id=\\'up_12825087\\' href=\\'vote?id=12825087&amp;how=up&amp;goto=news\\'><div class=\\'votearrow\\' title=\\'upvote\\'></div></a></center></td><td class=\"title\"><a href=\"http://www.anandtech.com/show/6007/amd-2013-apus-to-include-arm-cortexa5-processor-for-trustzone-capabilities\" class=\"storylink\">AMD 2013 APUs to Include ARM Cortex-A5 Processor for TrustZone Capabilities</a><span class=\"sitebit comhead\"> (<a href=\"from?site=anandtech.com\"><span class=\"sitestr\">anandtech.com</span></a>)</span></td></tr><tr><td colspan=\"2\"></td><td class=\"subtext\">\\n        <span class=\"score\" id=\"score_12825087\">13 points</span> by <a href=\"user?id=colinscape\" class=\"hnuser\">colinscape</a> <span class=\"age\"><a href=\"item?id=12825087\">1 hour ago</a></span> <span id=\"unv_12825087\"></span> | <a href=\"hide?id=12825087&amp;goto=news\">hide</a> | <a href=\"item?id=12825087\">3&nbsp;comments</a>              </td></tr>\\n      <tr class=\"spacer\" style=\"height:5px\"></tr>\\n                <tr class=\\'athing\\' id=\\'12824367\\'>\\n      <td align=\"right\" valign=\"top\" class=\"title\"><span class=\"rank\">16.</span></td>      <td valign=\"top\" class=\"votelinks\"><center><a id=\\'up_12824367\\' href=\\'vote?id=12824367&amp;how=up&amp;goto=news\\'><div class=\\'votearrow\\' title=\\'upvote\\'></div></a></center></td><td class=\"title\"><a href=\"http://blog.ensilo.com/atombombing-a-code-injection-that-bypasses-current-security-solutions\" class=\"storylink\">AtomBombing: A Code Injection That Bypasses Current Security Solutions</a><span class=\"sitebit comhead\"> (<a href=\"from?site=ensilo.com\"><span class=\"sitestr\">ensilo.com</span></a>)</span></td></tr><tr><td colspan=\"2\"></td><td class=\"subtext\">\\n        <span class=\"score\" id=\"score_12824367\">34 points</span> by <a href=\"user?id=brakmic\" class=\"hnuser\">brakmic</a> <span class=\"age\"><a href=\"item?id=12824367\">3 hours ago</a></span> <span id=\"unv_12824367\"></span> | <a href=\"hide?id=12824367&amp;goto=news\">hide</a> | <a href=\"item?id=12824367\">12&nbsp;comments</a>              </td></tr>\\n      <tr class=\"spacer\" style=\"height:5px\"></tr>\\n                <tr class=\\'athing\\' id=\\'12823548\\'>\\n      <td align=\"right\" valign=\"top\" class=\"title\"><span class=\"rank\">17.</span></td>      <td valign=\"top\" class=\"votelinks\"><center><a id=\\'up_12823548\\' href=\\'vote?id=12823548&amp;how=up&amp;goto=news\\'><div class=\\'votearrow\\' title=\\'upvote\\'></div></a></center></td><td class=\"title\"><a href=\"http://wiki.c2.com/\" class=\"storylink\">WikiWikiWeb is back online</a><span class=\"sitebit comhead\"> (<a href=\"from?site=c2.com\"><span class=\"sitestr\">c2.com</span></a>)</span></td></tr><tr><td colspan=\"2\"></td><td class=\"subtext\">\\n        <span class=\"score\" id=\"score_12823548\">69 points</span> by <a href=\"user?id=delian66\" class=\"hnuser\">delian66</a> <span class=\"age\"><a href=\"item?id=12823548\">7 hours ago</a></span> <span id=\"unv_12823548\"></span> | <a href=\"hide?id=12823548&amp;goto=news\">hide</a> | <a href=\"item?id=12823548\">19&nbsp;comments</a>              </td></tr>\\n      <tr class=\"spacer\" style=\"height:5px\"></tr>\\n                <tr class=\\'athing\\' id=\\'12823717\\'>\\n      <td align=\"right\" valign=\"top\" class=\"title\"><span class=\"rank\">18.</span></td>      <td valign=\"top\" class=\"votelinks\"><center><a id=\\'up_12823717\\' href=\\'vote?id=12823717&amp;how=up&amp;goto=news\\'><div class=\\'votearrow\\' title=\\'upvote\\'></div></a></center></td><td class=\"title\"><a href=\"https://spectrumnews.org/news/toolbox/crispr-hacks-expand-uses-gene-editing-toolbox/\" class=\"storylink\">CRISPR hacks expand uses of gene-editing toolbox</a><span class=\"sitebit comhead\"> (<a href=\"from?site=spectrumnews.org\"><span class=\"sitestr\">spectrumnews.org</span></a>)</span></td></tr><tr><td colspan=\"2\"></td><td class=\"subtext\">\\n        <span class=\"score\" id=\"score_12823717\">50 points</span> by <a href=\"user?id=jonbaer\" class=\"hnuser\">jonbaer</a> <span class=\"age\"><a href=\"item?id=12823717\">6 hours ago</a></span> <span id=\"unv_12823717\"></span> | <a href=\"hide?id=12823717&amp;goto=news\">hide</a> | <a href=\"item?id=12823717\">discuss</a>              </td></tr>\\n      <tr class=\"spacer\" style=\"height:5px\"></tr>\\n                <tr class=\\'athing\\' id=\\'12824092\\'>\\n      <td align=\"right\" valign=\"top\" class=\"title\"><span class=\"rank\">19.</span></td>      <td valign=\"top\" class=\"votelinks\"><center><a id=\\'up_12824092\\' href=\\'vote?id=12824092&amp;how=up&amp;goto=news\\'><div class=\\'votearrow\\' title=\\'upvote\\'></div></a></center></td><td class=\"title\"><a href=\"https://github.com/6thsolution/EasyMVP\" class=\"storylink\">EasyMVP \\xe2\\x80\\x93 Android library with annotation processing and bytecode weaving</a><span class=\"sitebit comhead\"> (<a href=\"from?site=github.com\"><span class=\"sitestr\">github.com</span></a>)</span></td></tr><tr><td colspan=\"2\"></td><td class=\"subtext\">\\n        <span class=\"score\" id=\"score_12824092\">37 points</span> by <a href=\"user?id=joblack33\" class=\"hnuser\">joblack33</a> <span class=\"age\"><a href=\"item?id=12824092\">4 hours ago</a></span> <span id=\"unv_12824092\"></span> | <a href=\"hide?id=12824092&amp;goto=news\">hide</a> | <a href=\"item?id=12824092\">discuss</a>              </td></tr>\\n      <tr class=\"spacer\" style=\"height:5px\"></tr>\\n                <tr class=\\'athing\\' id=\\'12811619\\'>\\n      <td align=\"right\" valign=\"top\" class=\"title\"><span class=\"rank\">20.</span></td>      <td valign=\"top\" class=\"votelinks\"><center><a id=\\'up_12811619\\' href=\\'vote?id=12811619&amp;how=up&amp;goto=news\\'><div class=\\'votearrow\\' title=\\'upvote\\'></div></a></center></td><td class=\"title\"><a href=\"https://www.theguardian.com/books/2016/oct/26/man-booker-prize-winner-paul-beatty-the-sellout-interview\" class=\"storylink\">Turned down 18 times. Then Paul Beatty won the Booker</a><span class=\"sitebit comhead\"> (<a href=\"from?site=theguardian.com\"><span class=\"sitestr\">theguardian.com</span></a>)</span></td></tr><tr><td colspan=\"2\"></td><td class=\"subtext\">\\n        <span class=\"score\" id=\"score_12811619\">10 points</span> by <a href=\"user?id=lermontov\" class=\"hnuser\">lermontov</a> <span class=\"age\"><a href=\"item?id=12811619\">2 hours ago</a></span> <span id=\"unv_12811619\"></span> | <a href=\"hide?id=12811619&amp;goto=news\">hide</a> | <a href=\"item?id=12811619\">1&nbsp;comment</a>              </td></tr>\\n      <tr class=\"spacer\" style=\"height:5px\"></tr>\\n                <tr class=\\'athing\\' id=\\'12809857\\'>\\n      <td align=\"right\" valign=\"top\" class=\"title\"><span class=\"rank\">21.</span></td>      <td valign=\"top\" class=\"votelinks\"><center><a id=\\'up_12809857\\' href=\\'vote?id=12809857&amp;how=up&amp;goto=news\\'><div class=\\'votearrow\\' title=\\'upvote\\'></div></a></center></td><td class=\"title\"><a href=\"http://luckypeach.com/the-science-of-eggs/\" class=\"storylink\" rel=\"nofollow\">The Science of Eggs</a><span class=\"sitebit comhead\"> (<a href=\"from?site=luckypeach.com\"><span class=\"sitestr\">luckypeach.com</span></a>)</span></td></tr><tr><td colspan=\"2\"></td><td class=\"subtext\">\\n        <span class=\"score\" id=\"score_12809857\">5 points</span> by <a href=\"user?id=Hooke\" class=\"hnuser\">Hooke</a> <span class=\"age\"><a href=\"item?id=12809857\">1 hour ago</a></span> <span id=\"unv_12809857\"></span> | <a href=\"hide?id=12809857&amp;goto=news\">hide</a> | <a href=\"item?id=12809857\">discuss</a>              </td></tr>\\n      <tr class=\"spacer\" style=\"height:5px\"></tr>\\n                <tr class=\\'athing\\' id=\\'12824616\\'>\\n      <td align=\"right\" valign=\"top\" class=\"title\"><span class=\"rank\">22.</span></td>      <td valign=\"top\" class=\"votelinks\"><center><a id=\\'up_12824616\\' href=\\'vote?id=12824616&amp;how=up&amp;goto=news\\'><div class=\\'votearrow\\' title=\\'upvote\\'></div></a></center></td><td class=\"title\"><a href=\"https://www.vulnerability-db.com/?q=articles/2016/10/27/wickr-inc-when-honesty-disappears-behind-vcp-mountain\" class=\"storylink\">Wickr Inc \\xe2\\x80\\x93 When Honesty Disappears Behind the VCP Mountain</a><span class=\"sitebit comhead\"> (<a href=\"from?site=vulnerability-db.com\"><span class=\"sitestr\">vulnerability-db.com</span></a>)</span></td></tr><tr><td colspan=\"2\"></td><td class=\"subtext\">\\n        <span class=\"score\" id=\"score_12824616\">16 points</span> by <a href=\"user?id=QUFB\" class=\"hnuser\">QUFB</a> <span class=\"age\"><a href=\"item?id=12824616\">3 hours ago</a></span> <span id=\"unv_12824616\"></span> | <a href=\"hide?id=12824616&amp;goto=news\">hide</a> | <a href=\"item?id=12824616\">8&nbsp;comments</a>              </td></tr>\\n      <tr class=\"spacer\" style=\"height:5px\"></tr>\\n                <tr class=\\'athing\\' id=\\'12824355\\'>\\n      <td align=\"right\" valign=\"top\" class=\"title\"><span class=\"rank\">23.</span></td>      <td valign=\"top\" class=\"votelinks\"><center><a id=\\'up_12824355\\' href=\\'vote?id=12824355&amp;how=up&amp;goto=news\\'><div class=\\'votearrow\\' title=\\'upvote\\'></div></a></center></td><td class=\"title\"><a href=\"http://venturebeat.com/2016/10/28/wordpress-creator-matt-mullenweg-slams-wix-your-app-editor-is-built-with-stolen-code/\" class=\"storylink\">WordPress creator slams Wix: \\xe2\\x80\\x98Your app editor is built with stolen code\\xe2\\x80\\x99</a><span class=\"sitebit comhead\"> (<a href=\"from?site=venturebeat.com\"><span class=\"sitestr\">venturebeat.com</span></a>)</span></td></tr><tr><td colspan=\"2\"></td><td class=\"subtext\">\\n        <span class=\"score\" id=\"score_12824355\">134 points</span> by <a href=\"user?id=jaredtking\" class=\"hnuser\">jaredtking</a> <span class=\"age\"><a href=\"item?id=12824355\">3 hours ago</a></span> <span id=\"unv_12824355\"></span> | <a href=\"hide?id=12824355&amp;goto=news\">hide</a> | <a href=\"item?id=12824355\">37&nbsp;comments</a>              </td></tr>\\n      <tr class=\"spacer\" style=\"height:5px\"></tr>\\n                <tr class=\\'athing\\' id=\\'12824106\\'>\\n      <td align=\"right\" valign=\"top\" class=\"title\"><span class=\"rank\">24.</span></td>      <td valign=\"top\" class=\"votelinks\"><center><a id=\\'up_12824106\\' href=\\'vote?id=12824106&amp;how=up&amp;goto=news\\'><div class=\\'votearrow\\' title=\\'upvote\\'></div></a></center></td><td class=\"title\"><a href=\"https://www.virtualbox.org/wiki/Changelog#v8\" class=\"storylink\">VirtualBox 5.1.8</a><span class=\"sitebit comhead\"> (<a href=\"from?site=virtualbox.org\"><span class=\"sitestr\">virtualbox.org</span></a>)</span></td></tr><tr><td colspan=\"2\"></td><td class=\"subtext\">\\n        <span class=\"score\" id=\"score_12824106\">82 points</span> by <a href=\"user?id=based2\" class=\"hnuser\">based2</a> <span class=\"age\"><a href=\"item?id=12824106\">4 hours ago</a></span> <span id=\"unv_12824106\"></span> | <a href=\"hide?id=12824106&amp;goto=news\">hide</a> | <a href=\"item?id=12824106\">69&nbsp;comments</a>              </td></tr>\\n      <tr class=\"spacer\" style=\"height:5px\"></tr>\\n                <tr class=\\'athing\\' id=\\'12824186\\'>\\n      <td align=\"right\" valign=\"top\" class=\"title\"><span class=\"rank\">25.</span></td>      <td valign=\"top\" class=\"votelinks\"><center><a id=\\'up_12824186\\' href=\\'vote?id=12824186&amp;how=up&amp;goto=news\\'><div class=\\'votearrow\\' title=\\'upvote\\'></div></a></center></td><td class=\"title\"><a href=\"https://arxiv.org/abs/1610.07629\" class=\"storylink\">A Learned Representation for Artistic Style</a><span class=\"sitebit comhead\"> (<a href=\"from?site=arxiv.org\"><span class=\"sitestr\">arxiv.org</span></a>)</span></td></tr><tr><td colspan=\"2\"></td><td class=\"subtext\">\\n        <span class=\"score\" id=\"score_12824186\">25 points</span> by <a href=\"user?id=EvgeniyZh\" class=\"hnuser\">EvgeniyZh</a> <span class=\"age\"><a href=\"item?id=12824186\">4 hours ago</a></span> <span id=\"unv_12824186\"></span> | <a href=\"hide?id=12824186&amp;goto=news\">hide</a> | <a href=\"item?id=12824186\">discuss</a>              </td></tr>\\n      <tr class=\"spacer\" style=\"height:5px\"></tr>\\n                <tr class=\\'athing\\' id=\\'12823271\\'>\\n      <td align=\"right\" valign=\"top\" class=\"title\"><span class=\"rank\">26.</span></td>      <td valign=\"top\" class=\"votelinks\"><center><a id=\\'up_12823271\\' href=\\'vote?id=12823271&amp;how=up&amp;goto=news\\'><div class=\\'votearrow\\' title=\\'upvote\\'></div></a></center></td><td class=\"title\"><a href=\"http://stephaniehurlburt.com/blog/2016/10/28/casual-introduction-to-low-level-graphics-programming\" class=\"storylink\">Casual Introduction to Low-Level Graphics Programming</a><span class=\"sitebit comhead\"> (<a href=\"from?site=stephaniehurlburt.com\"><span class=\"sitestr\">stephaniehurlburt.com</span></a>)</span></td></tr><tr><td colspan=\"2\"></td><td class=\"subtext\">\\n        <span class=\"score\" id=\"score_12823271\">93 points</span> by <a href=\"user?id=deafcalculus\" class=\"hnuser\">deafcalculus</a> <span class=\"age\"><a href=\"item?id=12823271\">9 hours ago</a></span> <span id=\"unv_12823271\"></span> | <a href=\"hide?id=12823271&amp;goto=news\">hide</a> | <a href=\"item?id=12823271\">22&nbsp;comments</a>              </td></tr>\\n      <tr class=\"spacer\" style=\"height:5px\"></tr>\\n                <tr class=\\'athing\\' id=\\'12824098\\'>\\n      <td align=\"right\" valign=\"top\" class=\"title\"><span class=\"rank\">27.</span></td>      <td valign=\"top\" class=\"votelinks\"><center><a id=\\'up_12824098\\' href=\\'vote?id=12824098&amp;how=up&amp;goto=news\\'><div class=\\'votearrow\\' title=\\'upvote\\'></div></a></center></td><td class=\"title\"><a href=\"https://github.com/mbasso/react-decoration/releases/tag/1.3.0\" class=\"storylink\">Show HN: React-decoration \\xe2\\x80\\x93 A collection of decorators for React Components</a><span class=\"sitebit comhead\"> (<a href=\"from?site=github.com\"><span class=\"sitestr\">github.com</span></a>)</span></td></tr><tr><td colspan=\"2\"></td><td class=\"subtext\">\\n        <span class=\"score\" id=\"score_12824098\">23 points</span> by <a href=\"user?id=mbasso\" class=\"hnuser\">mbasso</a> <span class=\"age\"><a href=\"item?id=12824098\">4 hours ago</a></span> <span id=\"unv_12824098\"></span> | <a href=\"hide?id=12824098&amp;goto=news\">hide</a> | <a href=\"item?id=12824098\">2&nbsp;comments</a>              </td></tr>\\n      <tr class=\"spacer\" style=\"height:5px\"></tr>\\n                <tr class=\\'athing\\' id=\\'12824323\\'>\\n      <td align=\"right\" valign=\"top\" class=\"title\"><span class=\"rank\">28.</span></td>      <td valign=\"top\" class=\"votelinks\"><center><a id=\\'up_12824323\\' href=\\'vote?id=12824323&amp;how=up&amp;goto=news\\'><div class=\\'votearrow\\' title=\\'upvote\\'></div></a></center></td><td class=\"title\"><a href=\"https://github.com/rlancer/AlgoliaRethinkDB\" class=\"storylink\">Show HN: RethinkDB change feeds for indexing Algolia</a><span class=\"sitebit comhead\"> (<a href=\"from?site=github.com\"><span class=\"sitestr\">github.com</span></a>)</span></td></tr><tr><td colspan=\"2\"></td><td class=\"subtext\">\\n        <span class=\"score\" id=\"score_12824323\">24 points</span> by <a href=\"user?id=rlancer\" class=\"hnuser\">rlancer</a> <span class=\"age\"><a href=\"item?id=12824323\">3 hours ago</a></span> <span id=\"unv_12824323\"></span> | <a href=\"hide?id=12824323&amp;goto=news\">hide</a> | <a href=\"item?id=12824323\">4&nbsp;comments</a>              </td></tr>\\n      <tr class=\"spacer\" style=\"height:5px\"></tr>\\n                <tr class=\\'athing\\' id=\\'12810724\\'>\\n      <td align=\"right\" valign=\"top\" class=\"title\"><span class=\"rank\">29.</span></td>      <td valign=\"top\" class=\"votelinks\"><center><a id=\\'up_12810724\\' href=\\'vote?id=12810724&amp;how=up&amp;goto=news\\'><div class=\\'votearrow\\' title=\\'upvote\\'></div></a></center></td><td class=\"title\"><a href=\"http://arcade.stanford.edu/sites/default/files/article_pdfs/ROFL_v5_Edelstein_final.pdf\" class=\"storylink\" rel=\"nofollow\">Enlightenment Scholarship by the Numbers (2014) [pdf]</a><span class=\"sitebit comhead\"> (<a href=\"from?site=stanford.edu\"><span class=\"sitestr\">stanford.edu</span></a>)</span></td></tr><tr><td colspan=\"2\"></td><td class=\"subtext\">\\n        <span class=\"score\" id=\"score_12810724\">4 points</span> by <a href=\"user?id=pepys\" class=\"hnuser\">pepys</a> <span class=\"age\"><a href=\"item?id=12810724\">1 hour ago</a></span> <span id=\"unv_12810724\"></span> | <a href=\"hide?id=12810724&amp;goto=news\">hide</a> | <a href=\"item?id=12810724\">discuss</a>              </td></tr>\\n      <tr class=\"spacer\" style=\"height:5px\"></tr>\\n                <tr class=\\'athing\\' id=\\'12824421\\'>\\n      <td align=\"right\" valign=\"top\" class=\"title\"><span class=\"rank\">30.</span></td>      <td valign=\"top\" class=\"votelinks\"><center><a id=\\'up_12824421\\' href=\\'vote?id=12824421&amp;how=up&amp;goto=news\\'><div class=\\'votearrow\\' title=\\'upvote\\'></div></a></center></td><td class=\"title\"><a href=\"https://vivatiffany.wordpress.com/2016/10/27/academia-love-me-back/\" class=\"storylink\">Academia, Love Me Back</a><span class=\"sitebit comhead\"> (<a href=\"from?site=vivatiffany.wordpress.com\"><span class=\"sitestr\">vivatiffany.wordpress.com</span></a>)</span></td></tr><tr><td colspan=\"2\"></td><td class=\"subtext\">\\n        <span class=\"score\" id=\"score_12824421\">79 points</span> by <a href=\"user?id=gluxon\" class=\"hnuser\">gluxon</a> <span class=\"age\"><a href=\"item?id=12824421\">3 hours ago</a></span> <span id=\"unv_12824421\"></span> | <a href=\"hide?id=12824421&amp;goto=news\">hide</a> | <a href=\"item?id=12824421\">37&nbsp;comments</a>              </td></tr>\\n      <tr class=\"spacer\" style=\"height:5px\"></tr>\\n            <tr class=\"morespace\" style=\"height:10px\"></tr><tr><td colspan=\"2\"></td><td class=\"title\"><a href=\"news?p=2\" class=\"morelink\" rel=\"nofollow\">More</a></td></tr>\\n  </table>\\n</td></tr>\\n<tr><td><img src=\"s.gif\" height=\"10\" width=\"0\"><table width=\"100%\" cellspacing=\"0\" cellpadding=\"1\"><tr><td bgcolor=\"#ff6600\"></td></tr></table><br><center><span class=\"yclinks\"><a href=\"newsguidelines.html\">Guidelines</a>\\n        | <a href=\"newsfaq.html\">FAQ</a>\\n        | <a href=\"mailto:hn@ycombinator.com\">Support</a>\\n        | <a href=\"https://github.com/HackerNews/API\">API</a>\\n        | <a href=\"security.html\">Security</a>\\n        | <a href=\"lists\">Lists</a>\\n        | <a href=\"bookmarklet.html\">Bookmarklet</a>\\n        | <a href=\"dmca.html\">DMCA</a>\\n        | <a href=\"http://www.ycombinator.com/apply/\">Apply to YC</a>\\n        | <a href=\"mailto:hn@ycombinator.com\">Contact</a></span><br><br><form method=\"get\" action=\"//hn.algolia.com/\">Search:\\n          <input type=\"text\" name=\"q\" value=\"\" size=\"17\" autocorrect=\"off\" spellcheck=\"false\" autocapitalize=\"off\" autocomplete=\"false\"></form>\\n            </center></td></tr>      </table></center></body><script type=\\'text/javascript\\' src=\\'hn.js?qteYN9s39JuqPSkaxUEz\\'></script></html>\\n'"
      ]
     },
     "execution_count": 9,
     "metadata": {},
     "output_type": "execute_result"
    }
   ],
   "source": [
    "r.content"
   ]
  },
  {
   "cell_type": "markdown",
   "metadata": {
    "slideshow": {
     "slide_type": "slide"
    }
   },
   "source": [
    "## We can wrap that in HTML to see the code"
   ]
  },
  {
   "cell_type": "code",
   "execution_count": 10,
   "metadata": {
    "collapsed": false,
    "slideshow": {
     "slide_type": "-"
    }
   },
   "outputs": [
    {
     "data": {
      "text/html": [
       "<html op=\"news\"><head><meta name=\"referrer\" content=\"origin\"><meta name=\"viewport\" content=\"width=device-width, initial-scale=1.0\"><link rel=\"stylesheet\" type=\"text/css\" href=\"news.css?qteYN9s39JuqPSkaxUEz\">\n",
       "        <link rel=\"shortcut icon\" href=\"favicon.ico\">\n",
       "          <link rel=\"alternate\" type=\"application/rss+xml\" title=\"RSS\" href=\"rss\">\n",
       "        <title>Hacker News</title>\n",
       "      </head><body><center><table id=\"hnmain\" border=\"0\" cellpadding=\"0\" cellspacing=\"0\" width=\"85%\" bgcolor=\"#f6f6ef\">\n",
       "        <tr><td bgcolor=\"#ff6600\"><table border=\"0\" cellpadding=\"0\" cellspacing=\"0\" width=\"100%\" style=\"padding:2px\"><tr><td style=\"width:18px;padding-right:4px\"><a href=\"http://www.ycombinator.com\"><img src=\"y18.gif\" width=\"18\" height=\"18\" style=\"border:1px white solid;\"></a></td>\n",
       "                  <td style=\"line-height:12pt; height:10px;\"><span class=\"pagetop\"><b class=\"hnname\"><a href=\"news\">Hacker News</a></b>\n",
       "              <a href=\"newest\">new</a> | <a href=\"newcomments\">comments</a> | <a href=\"show\">show</a> | <a href=\"ask\">ask</a> | <a href=\"jobs\">jobs</a> | <a href=\"submit\">submit</a>            </span></td><td style=\"text-align:right;padding-right:4px;\"><span class=\"pagetop\">\n",
       "                              <a href=\"login?goto=news\">login</a>\n",
       "                          </span></td>\n",
       "              </tr></table></td></tr>\n",
       "<tr style=\"height:10px\"></tr><tr><td><table border=\"0\" cellpadding=\"0\" cellspacing=\"0\" class=\"itemlist\">\n",
       "              <tr class='athing' id='12824478'>\n",
       "      <td align=\"right\" valign=\"top\" class=\"title\"><span class=\"rank\">1.</span></td>      <td valign=\"top\" class=\"votelinks\"><center><a id='up_12824478' href='vote?id=12824478&amp;how=up&amp;goto=news'><div class='votearrow' title='upvote'></div></a></center></td><td class=\"title\"><a href=\"https://techcrunch.com/2016/10/28/apples-new-intel-driven-macbooks-have-a-secondary-arm-processor-that-runs-touch-id-and-security/\" class=\"storylink\">Intel driven MacBook Pros have secondary ARM processor for Touch ID and security</a><span class=\"sitebit comhead\"> (<a href=\"from?site=techcrunch.com\"><span class=\"sitestr\">techcrunch.com</span></a>)</span></td></tr><tr><td colspan=\"2\"></td><td class=\"subtext\">\n",
       "        <span class=\"score\" id=\"score_12824478\">100 points</span> by <a href=\"user?id=eth0up\" class=\"hnuser\">eth0up</a> <span class=\"age\"><a href=\"item?id=12824478\">3 hours ago</a></span> <span id=\"unv_12824478\"></span> | <a href=\"hide?id=12824478&amp;goto=news\">hide</a> | <a href=\"item?id=12824478\">47&nbsp;comments</a>              </td></tr>\n",
       "      <tr class=\"spacer\" style=\"height:5px\"></tr>\n",
       "                <tr class='athing' id='12824366'>\n",
       "      <td align=\"right\" valign=\"top\" class=\"title\"><span class=\"rank\">2.</span></td>      <td valign=\"top\" class=\"votelinks\"><center><a id='up_12824366' href='vote?id=12824366&amp;how=up&amp;goto=news'><div class='votearrow' title='upvote'></div></a></center></td><td class=\"title\"><a href=\"http://blog.fosketts.net/2016/10/29/total-nightmare-usb-c-thunderbolt-3/\" class=\"storylink\">Total Nightmare: USB-C and Thunderbolt 3</a><span class=\"sitebit comhead\"> (<a href=\"from?site=fosketts.net\"><span class=\"sitestr\">fosketts.net</span></a>)</span></td></tr><tr><td colspan=\"2\"></td><td class=\"subtext\">\n",
       "        <span class=\"score\" id=\"score_12824366\">390 points</span> by <a href=\"user?id=sfoskett\" class=\"hnuser\">sfoskett</a> <span class=\"age\"><a href=\"item?id=12824366\">3 hours ago</a></span> <span id=\"unv_12824366\"></span> | <a href=\"hide?id=12824366&amp;goto=news\">hide</a> | <a href=\"item?id=12824366\">194&nbsp;comments</a>              </td></tr>\n",
       "      <tr class=\"spacer\" style=\"height:5px\"></tr>\n",
       "                <tr class='athing' id='12825643'>\n",
       "      <td align=\"right\" valign=\"top\" class=\"title\"><span class=\"rank\">3.</span></td>      <td valign=\"top\" class=\"votelinks\"><center><a id='up_12825643' href='vote?id=12825643&amp;how=up&amp;goto=news'><div class='votearrow' title='upvote'></div></a></center></td><td class=\"title\"><a href=\"https://clinton.media.mit.edu/dnc\" class=\"storylink\">ClintonCircle / DNC</a><span class=\"sitebit comhead\"> (<a href=\"from?site=mit.edu\"><span class=\"sitestr\">mit.edu</span></a>)</span></td></tr><tr><td colspan=\"2\"></td><td class=\"subtext\">\n",
       "        <span class=\"score\" id=\"score_12825643\">19 points</span> by <a href=\"user?id=koolba\" class=\"hnuser\">koolba</a> <span class=\"age\"><a href=\"item?id=12825643\">26 minutes ago</a></span> <span id=\"unv_12825643\"></span> | <a href=\"hide?id=12825643&amp;goto=news\">hide</a> | <a href=\"item?id=12825643\">discuss</a>              </td></tr>\n",
       "      <tr class=\"spacer\" style=\"height:5px\"></tr>\n",
       "                <tr class='athing' id='12824212'>\n",
       "      <td align=\"right\" valign=\"top\" class=\"title\"><span class=\"rank\">4.</span></td>      <td valign=\"top\" class=\"votelinks\"><center><a id='up_12824212' href='vote?id=12824212&amp;how=up&amp;goto=news'><div class='votearrow' title='upvote'></div></a></center></td><td class=\"title\"><a href=\"http://boingboing.net/2014/10/23/thomas-pikettys-capital-in-t-2.html\" class=\"storylink\">Thomas Piketty's Capital in the 21st Century, in 20 minutes [video]</a><span class=\"sitebit comhead\"> (<a href=\"from?site=boingboing.net\"><span class=\"sitestr\">boingboing.net</span></a>)</span></td></tr><tr><td colspan=\"2\"></td><td class=\"subtext\">\n",
       "        <span class=\"score\" id=\"score_12824212\">114 points</span> by <a href=\"user?id=based2\" class=\"hnuser\">based2</a> <span class=\"age\"><a href=\"item?id=12824212\">4 hours ago</a></span> <span id=\"unv_12824212\"></span> | <a href=\"hide?id=12824212&amp;goto=news\">hide</a> | <a href=\"item?id=12824212\">47&nbsp;comments</a>              </td></tr>\n",
       "      <tr class=\"spacer\" style=\"height:5px\"></tr>\n",
       "                <tr class='athing' id='12824349'>\n",
       "      <td align=\"right\" valign=\"top\" class=\"title\"><span class=\"rank\">5.</span></td>      <td valign=\"top\" class=\"votelinks\"><center><a id='up_12824349' href='vote?id=12824349&amp;how=up&amp;goto=news'><div class='votearrow' title='upvote'></div></a></center></td><td class=\"title\"><a href=\"http://www.outkickthecoverage.com/espn-loses-621-000-subscribers-worst-month-in-company-history-102916\" class=\"storylink\">ESPN Loses 621,000 Subscribers; Worst Month in Company History</a><span class=\"sitebit comhead\"> (<a href=\"from?site=outkickthecoverage.com\"><span class=\"sitestr\">outkickthecoverage.com</span></a>)</span></td></tr><tr><td colspan=\"2\"></td><td class=\"subtext\">\n",
       "        <span class=\"score\" id=\"score_12824349\">197 points</span> by <a href=\"user?id=kelukelugames\" class=\"hnuser\">kelukelugames</a> <span class=\"age\"><a href=\"item?id=12824349\">3 hours ago</a></span> <span id=\"unv_12824349\"></span> | <a href=\"hide?id=12824349&amp;goto=news\">hide</a> | <a href=\"item?id=12824349\">215&nbsp;comments</a>              </td></tr>\n",
       "      <tr class=\"spacer\" style=\"height:5px\"></tr>\n",
       "                <tr class='athing' id='12822124'>\n",
       "      <td align=\"right\" valign=\"top\" class=\"title\"><span class=\"rank\">6.</span></td>      <td valign=\"top\" class=\"votelinks\"><center><a id='up_12822124' href='vote?id=12822124&amp;how=up&amp;goto=news'><div class='votearrow' title='upvote'></div></a></center></td><td class=\"title\"><a href=\"http://hyperallergic.com/299912/the-photographers-of-1870s-london-who-documented-their-disappearing-city/\" class=\"storylink\">Photographers of 1870s London Documented Their Disappearing City</a><span class=\"sitebit comhead\"> (<a href=\"from?site=hyperallergic.com\"><span class=\"sitestr\">hyperallergic.com</span></a>)</span></td></tr><tr><td colspan=\"2\"></td><td class=\"subtext\">\n",
       "        <span class=\"score\" id=\"score_12822124\">73 points</span> by <a href=\"user?id=brudgers\" class=\"hnuser\">brudgers</a> <span class=\"age\"><a href=\"item?id=12822124\">4 hours ago</a></span> <span id=\"unv_12822124\"></span> | <a href=\"hide?id=12822124&amp;goto=news\">hide</a> | <a href=\"item?id=12822124\">4&nbsp;comments</a>              </td></tr>\n",
       "      <tr class=\"spacer\" style=\"height:5px\"></tr>\n",
       "                <tr class='athing' id='12825366'>\n",
       "      <td align=\"right\" valign=\"top\" class=\"title\"><span class=\"rank\">7.</span></td>      <td valign=\"top\" class=\"votelinks\"><center><a id='up_12825366' href='vote?id=12825366&amp;how=up&amp;goto=news'><div class='votearrow' title='upvote'></div></a></center></td><td class=\"title\"><a href=\"https://frinklang.org\" class=\"storylink\">Frink</a><span class=\"sitebit comhead\"> (<a href=\"from?site=frinklang.org\"><span class=\"sitestr\">frinklang.org</span></a>)</span></td></tr><tr><td colspan=\"2\"></td><td class=\"subtext\">\n",
       "        <span class=\"score\" id=\"score_12825366\">25 points</span> by <a href=\"user?id=tosh\" class=\"hnuser\">tosh</a> <span class=\"age\"><a href=\"item?id=12825366\">1 hour ago</a></span> <span id=\"unv_12825366\"></span> | <a href=\"hide?id=12825366&amp;goto=news\">hide</a> | <a href=\"item?id=12825366\">2&nbsp;comments</a>              </td></tr>\n",
       "      <tr class=\"spacer\" style=\"height:5px\"></tr>\n",
       "                <tr class='athing' id='12824631'>\n",
       "      <td align=\"right\" valign=\"top\" class=\"title\"><span class=\"rank\">8.</span></td>      <td valign=\"top\" class=\"votelinks\"><center><a id='up_12824631' href='vote?id=12824631&amp;how=up&amp;goto=news'><div class='votearrow' title='upvote'></div></a></center></td><td class=\"title\"><a href=\"https://afilias.info/blogs/web-icanns-first-test-accountability\" class=\"storylink\">ICANN’s First Test of Accountability</a><span class=\"sitebit comhead\"> (<a href=\"from?site=afilias.info\"><span class=\"sitestr\">afilias.info</span></a>)</span></td></tr><tr><td colspan=\"2\"></td><td class=\"subtext\">\n",
       "        <span class=\"score\" id=\"score_12824631\">41 points</span> by <a href=\"user?id=ayh\" class=\"hnuser\">ayh</a> <span class=\"age\"><a href=\"item?id=12824631\">3 hours ago</a></span> <span id=\"unv_12824631\"></span> | <a href=\"hide?id=12824631&amp;goto=news\">hide</a> | <a href=\"item?id=12824631\">1&nbsp;comment</a>              </td></tr>\n",
       "      <tr class=\"spacer\" style=\"height:5px\"></tr>\n",
       "                <tr class='athing' id='12821637'>\n",
       "      <td align=\"right\" valign=\"top\" class=\"title\"><span class=\"rank\">9.</span></td>      <td valign=\"top\" class=\"votelinks\"><center><a id='up_12821637' href='vote?id=12821637&amp;how=up&amp;goto=news'><div class='votearrow' title='upvote'></div></a></center></td><td class=\"title\"><a href=\"http://www.spoon-tamago.com/2016/10/28/hajime-narukawa-authagraph/\" class=\"storylink\">A Map of the World Won Japan’s Prestigious Design Award</a><span class=\"sitebit comhead\"> (<a href=\"from?site=spoon-tamago.com\"><span class=\"sitestr\">spoon-tamago.com</span></a>)</span></td></tr><tr><td colspan=\"2\"></td><td class=\"subtext\">\n",
       "        <span class=\"score\" id=\"score_12821637\">142 points</span> by <a href=\"user?id=igrs\" class=\"hnuser\">igrs</a> <span class=\"age\"><a href=\"item?id=12821637\">8 hours ago</a></span> <span id=\"unv_12821637\"></span> | <a href=\"hide?id=12821637&amp;goto=news\">hide</a> | <a href=\"item?id=12821637\">54&nbsp;comments</a>              </td></tr>\n",
       "      <tr class=\"spacer\" style=\"height:5px\"></tr>\n",
       "                <tr class='athing' id='12824050'>\n",
       "      <td align=\"right\" valign=\"top\" class=\"title\"><span class=\"rank\">10.</span></td>      <td valign=\"top\" class=\"votelinks\"><center><a id='up_12824050' href='vote?id=12824050&amp;how=up&amp;goto=news'><div class='votearrow' title='upvote'></div></a></center></td><td class=\"title\"><a href=\"http://www.graphicsmagick.org/index.html\" class=\"storylink\">GraphicsMagick Image Processing System</a><span class=\"sitebit comhead\"> (<a href=\"from?site=graphicsmagick.org\"><span class=\"sitestr\">graphicsmagick.org</span></a>)</span></td></tr><tr><td colspan=\"2\"></td><td class=\"subtext\">\n",
       "        <span class=\"score\" id=\"score_12824050\">75 points</span> by <a href=\"user?id=based2\" class=\"hnuser\">based2</a> <span class=\"age\"><a href=\"item?id=12824050\">4 hours ago</a></span> <span id=\"unv_12824050\"></span> | <a href=\"hide?id=12824050&amp;goto=news\">hide</a> | <a href=\"item?id=12824050\">27&nbsp;comments</a>              </td></tr>\n",
       "      <tr class=\"spacer\" style=\"height:5px\"></tr>\n",
       "                <tr class='athing' id='12824789'>\n",
       "      <td align=\"right\" valign=\"top\" class=\"title\"><span class=\"rank\">11.</span></td>      <td valign=\"top\" class=\"votelinks\"><center><a id='up_12824789' href='vote?id=12824789&amp;how=up&amp;goto=news'><div class='votearrow' title='upvote'></div></a></center></td><td class=\"title\"><a href=\"http://www.weimag.ch/micha/dc/05_Buss_Strategies%20of%20Human%20Mating.pdf\" class=\"storylink\">Strategies of Human Mating (2006) [pdf]</a><span class=\"sitebit comhead\"> (<a href=\"from?site=weimag.ch\"><span class=\"sitestr\">weimag.ch</span></a>)</span></td></tr><tr><td colspan=\"2\"></td><td class=\"subtext\">\n",
       "        <span class=\"score\" id=\"score_12824789\">30 points</span> by <a href=\"user?id=networked\" class=\"hnuser\">networked</a> <span class=\"age\"><a href=\"item?id=12824789\">2 hours ago</a></span> <span id=\"unv_12824789\"></span> | <a href=\"hide?id=12824789&amp;goto=news\">hide</a> | <a href=\"item?id=12824789\">3&nbsp;comments</a>              </td></tr>\n",
       "      <tr class=\"spacer\" style=\"height:5px\"></tr>\n",
       "                <tr class='athing' id='12823937'>\n",
       "      <td align=\"right\" valign=\"top\" class=\"title\"><span class=\"rank\">12.</span></td>      <td valign=\"top\" class=\"votelinks\"><center><a id='up_12823937' href='vote?id=12823937&amp;how=up&amp;goto=news'><div class='votearrow' title='upvote'></div></a></center></td><td class=\"title\"><a href=\"https://github.com/verekia/js-stack-from-scratch\" class=\"storylink\">Step-by-step tutorial to build a modern JavaScript stack from scratch</a><span class=\"sitebit comhead\"> (<a href=\"from?site=github.com\"><span class=\"sitestr\">github.com</span></a>)</span></td></tr><tr><td colspan=\"2\"></td><td class=\"subtext\">\n",
       "        <span class=\"score\" id=\"score_12823937\">80 points</span> by <a href=\"user?id=lobo_tuerto\" class=\"hnuser\">lobo_tuerto</a> <span class=\"age\"><a href=\"item?id=12823937\">5 hours ago</a></span> <span id=\"unv_12823937\"></span> | <a href=\"hide?id=12823937&amp;goto=news\">hide</a> | <a href=\"item?id=12823937\">43&nbsp;comments</a>              </td></tr>\n",
       "      <tr class=\"spacer\" style=\"height:5px\"></tr>\n",
       "                <tr class='athing' id='12825655'>\n",
       "      <td align=\"right\" valign=\"top\" class=\"title\"><span class=\"rank\">13.</span></td>      <td valign=\"top\" class=\"votelinks\"><center><a id='up_12825655' href='vote?id=12825655&amp;how=up&amp;goto=news'><div class='votearrow' title='upvote'></div></a></center></td><td class=\"title\"><a href=\"http://www.nytimes.com/2016/10/31/technology/peter-thiel-defends-his-most-contrarian-move-yet-supporting-trump.html\" class=\"storylink\">Peter Thiel Defends His Most Contrarian Move Yet: Supporting Trump</a><span class=\"sitebit comhead\"> (<a href=\"from?site=nytimes.com\"><span class=\"sitestr\">nytimes.com</span></a>)</span></td></tr><tr><td colspan=\"2\"></td><td class=\"subtext\">\n",
       "        <span class=\"score\" id=\"score_12825655\">22 points</span> by <a href=\"user?id=endswapper\" class=\"hnuser\">endswapper</a> <span class=\"age\"><a href=\"item?id=12825655\">23 minutes ago</a></span> <span id=\"unv_12825655\"></span> | <a href=\"hide?id=12825655&amp;goto=news\">hide</a> | <a href=\"item?id=12825655\">6&nbsp;comments</a>              </td></tr>\n",
       "      <tr class=\"spacer\" style=\"height:5px\"></tr>\n",
       "                <tr class='athing' id='12824380'>\n",
       "      <td align=\"right\" valign=\"top\" class=\"title\"><span class=\"rank\">14.</span></td>      <td valign=\"top\" class=\"votelinks\"><center><a id='up_12824380' href='vote?id=12824380&amp;how=up&amp;goto=news'><div class='votearrow' title='upvote'></div></a></center></td><td class=\"title\"><a href=\"https://arxiv.org/abs/1610.08401\" class=\"storylink\">Universal adversarial perturbations</a><span class=\"sitebit comhead\"> (<a href=\"from?site=arxiv.org\"><span class=\"sitestr\">arxiv.org</span></a>)</span></td></tr><tr><td colspan=\"2\"></td><td class=\"subtext\">\n",
       "        <span class=\"score\" id=\"score_12824380\">35 points</span> by <a href=\"user?id=legatus\" class=\"hnuser\">legatus</a> <span class=\"age\"><a href=\"item?id=12824380\">3 hours ago</a></span> <span id=\"unv_12824380\"></span> | <a href=\"hide?id=12824380&amp;goto=news\">hide</a> | <a href=\"item?id=12824380\">14&nbsp;comments</a>              </td></tr>\n",
       "      <tr class=\"spacer\" style=\"height:5px\"></tr>\n",
       "                <tr class='athing' id='12825087'>\n",
       "      <td align=\"right\" valign=\"top\" class=\"title\"><span class=\"rank\">15.</span></td>      <td valign=\"top\" class=\"votelinks\"><center><a id='up_12825087' href='vote?id=12825087&amp;how=up&amp;goto=news'><div class='votearrow' title='upvote'></div></a></center></td><td class=\"title\"><a href=\"http://www.anandtech.com/show/6007/amd-2013-apus-to-include-arm-cortexa5-processor-for-trustzone-capabilities\" class=\"storylink\">AMD 2013 APUs to Include ARM Cortex-A5 Processor for TrustZone Capabilities</a><span class=\"sitebit comhead\"> (<a href=\"from?site=anandtech.com\"><span class=\"sitestr\">anandtech.com</span></a>)</span></td></tr><tr><td colspan=\"2\"></td><td class=\"subtext\">\n",
       "        <span class=\"score\" id=\"score_12825087\">13 points</span> by <a href=\"user?id=colinscape\" class=\"hnuser\">colinscape</a> <span class=\"age\"><a href=\"item?id=12825087\">1 hour ago</a></span> <span id=\"unv_12825087\"></span> | <a href=\"hide?id=12825087&amp;goto=news\">hide</a> | <a href=\"item?id=12825087\">3&nbsp;comments</a>              </td></tr>\n",
       "      <tr class=\"spacer\" style=\"height:5px\"></tr>\n",
       "                <tr class='athing' id='12824367'>\n",
       "      <td align=\"right\" valign=\"top\" class=\"title\"><span class=\"rank\">16.</span></td>      <td valign=\"top\" class=\"votelinks\"><center><a id='up_12824367' href='vote?id=12824367&amp;how=up&amp;goto=news'><div class='votearrow' title='upvote'></div></a></center></td><td class=\"title\"><a href=\"http://blog.ensilo.com/atombombing-a-code-injection-that-bypasses-current-security-solutions\" class=\"storylink\">AtomBombing: A Code Injection That Bypasses Current Security Solutions</a><span class=\"sitebit comhead\"> (<a href=\"from?site=ensilo.com\"><span class=\"sitestr\">ensilo.com</span></a>)</span></td></tr><tr><td colspan=\"2\"></td><td class=\"subtext\">\n",
       "        <span class=\"score\" id=\"score_12824367\">34 points</span> by <a href=\"user?id=brakmic\" class=\"hnuser\">brakmic</a> <span class=\"age\"><a href=\"item?id=12824367\">3 hours ago</a></span> <span id=\"unv_12824367\"></span> | <a href=\"hide?id=12824367&amp;goto=news\">hide</a> | <a href=\"item?id=12824367\">12&nbsp;comments</a>              </td></tr>\n",
       "      <tr class=\"spacer\" style=\"height:5px\"></tr>\n",
       "                <tr class='athing' id='12823548'>\n",
       "      <td align=\"right\" valign=\"top\" class=\"title\"><span class=\"rank\">17.</span></td>      <td valign=\"top\" class=\"votelinks\"><center><a id='up_12823548' href='vote?id=12823548&amp;how=up&amp;goto=news'><div class='votearrow' title='upvote'></div></a></center></td><td class=\"title\"><a href=\"http://wiki.c2.com/\" class=\"storylink\">WikiWikiWeb is back online</a><span class=\"sitebit comhead\"> (<a href=\"from?site=c2.com\"><span class=\"sitestr\">c2.com</span></a>)</span></td></tr><tr><td colspan=\"2\"></td><td class=\"subtext\">\n",
       "        <span class=\"score\" id=\"score_12823548\">69 points</span> by <a href=\"user?id=delian66\" class=\"hnuser\">delian66</a> <span class=\"age\"><a href=\"item?id=12823548\">7 hours ago</a></span> <span id=\"unv_12823548\"></span> | <a href=\"hide?id=12823548&amp;goto=news\">hide</a> | <a href=\"item?id=12823548\">19&nbsp;comments</a>              </td></tr>\n",
       "      <tr class=\"spacer\" style=\"height:5px\"></tr>\n",
       "                <tr class='athing' id='12823717'>\n",
       "      <td align=\"right\" valign=\"top\" class=\"title\"><span class=\"rank\">18.</span></td>      <td valign=\"top\" class=\"votelinks\"><center><a id='up_12823717' href='vote?id=12823717&amp;how=up&amp;goto=news'><div class='votearrow' title='upvote'></div></a></center></td><td class=\"title\"><a href=\"https://spectrumnews.org/news/toolbox/crispr-hacks-expand-uses-gene-editing-toolbox/\" class=\"storylink\">CRISPR hacks expand uses of gene-editing toolbox</a><span class=\"sitebit comhead\"> (<a href=\"from?site=spectrumnews.org\"><span class=\"sitestr\">spectrumnews.org</span></a>)</span></td></tr><tr><td colspan=\"2\"></td><td class=\"subtext\">\n",
       "        <span class=\"score\" id=\"score_12823717\">50 points</span> by <a href=\"user?id=jonbaer\" class=\"hnuser\">jonbaer</a> <span class=\"age\"><a href=\"item?id=12823717\">6 hours ago</a></span> <span id=\"unv_12823717\"></span> | <a href=\"hide?id=12823717&amp;goto=news\">hide</a> | <a href=\"item?id=12823717\">discuss</a>              </td></tr>\n",
       "      <tr class=\"spacer\" style=\"height:5px\"></tr>\n",
       "                <tr class='athing' id='12824092'>\n",
       "      <td align=\"right\" valign=\"top\" class=\"title\"><span class=\"rank\">19.</span></td>      <td valign=\"top\" class=\"votelinks\"><center><a id='up_12824092' href='vote?id=12824092&amp;how=up&amp;goto=news'><div class='votearrow' title='upvote'></div></a></center></td><td class=\"title\"><a href=\"https://github.com/6thsolution/EasyMVP\" class=\"storylink\">EasyMVP – Android library with annotation processing and bytecode weaving</a><span class=\"sitebit comhead\"> (<a href=\"from?site=github.com\"><span class=\"sitestr\">github.com</span></a>)</span></td></tr><tr><td colspan=\"2\"></td><td class=\"subtext\">\n",
       "        <span class=\"score\" id=\"score_12824092\">37 points</span> by <a href=\"user?id=joblack33\" class=\"hnuser\">joblack33</a> <span class=\"age\"><a href=\"item?id=12824092\">4 hours ago</a></span> <span id=\"unv_12824092\"></span> | <a href=\"hide?id=12824092&amp;goto=news\">hide</a> | <a href=\"item?id=12824092\">discuss</a>              </td></tr>\n",
       "      <tr class=\"spacer\" style=\"height:5px\"></tr>\n",
       "                <tr class='athing' id='12811619'>\n",
       "      <td align=\"right\" valign=\"top\" class=\"title\"><span class=\"rank\">20.</span></td>      <td valign=\"top\" class=\"votelinks\"><center><a id='up_12811619' href='vote?id=12811619&amp;how=up&amp;goto=news'><div class='votearrow' title='upvote'></div></a></center></td><td class=\"title\"><a href=\"https://www.theguardian.com/books/2016/oct/26/man-booker-prize-winner-paul-beatty-the-sellout-interview\" class=\"storylink\">Turned down 18 times. Then Paul Beatty won the Booker</a><span class=\"sitebit comhead\"> (<a href=\"from?site=theguardian.com\"><span class=\"sitestr\">theguardian.com</span></a>)</span></td></tr><tr><td colspan=\"2\"></td><td class=\"subtext\">\n",
       "        <span class=\"score\" id=\"score_12811619\">10 points</span> by <a href=\"user?id=lermontov\" class=\"hnuser\">lermontov</a> <span class=\"age\"><a href=\"item?id=12811619\">2 hours ago</a></span> <span id=\"unv_12811619\"></span> | <a href=\"hide?id=12811619&amp;goto=news\">hide</a> | <a href=\"item?id=12811619\">1&nbsp;comment</a>              </td></tr>\n",
       "      <tr class=\"spacer\" style=\"height:5px\"></tr>\n",
       "                <tr class='athing' id='12809857'>\n",
       "      <td align=\"right\" valign=\"top\" class=\"title\"><span class=\"rank\">21.</span></td>      <td valign=\"top\" class=\"votelinks\"><center><a id='up_12809857' href='vote?id=12809857&amp;how=up&amp;goto=news'><div class='votearrow' title='upvote'></div></a></center></td><td class=\"title\"><a href=\"http://luckypeach.com/the-science-of-eggs/\" class=\"storylink\" rel=\"nofollow\">The Science of Eggs</a><span class=\"sitebit comhead\"> (<a href=\"from?site=luckypeach.com\"><span class=\"sitestr\">luckypeach.com</span></a>)</span></td></tr><tr><td colspan=\"2\"></td><td class=\"subtext\">\n",
       "        <span class=\"score\" id=\"score_12809857\">5 points</span> by <a href=\"user?id=Hooke\" class=\"hnuser\">Hooke</a> <span class=\"age\"><a href=\"item?id=12809857\">1 hour ago</a></span> <span id=\"unv_12809857\"></span> | <a href=\"hide?id=12809857&amp;goto=news\">hide</a> | <a href=\"item?id=12809857\">discuss</a>              </td></tr>\n",
       "      <tr class=\"spacer\" style=\"height:5px\"></tr>\n",
       "                <tr class='athing' id='12824616'>\n",
       "      <td align=\"right\" valign=\"top\" class=\"title\"><span class=\"rank\">22.</span></td>      <td valign=\"top\" class=\"votelinks\"><center><a id='up_12824616' href='vote?id=12824616&amp;how=up&amp;goto=news'><div class='votearrow' title='upvote'></div></a></center></td><td class=\"title\"><a href=\"https://www.vulnerability-db.com/?q=articles/2016/10/27/wickr-inc-when-honesty-disappears-behind-vcp-mountain\" class=\"storylink\">Wickr Inc – When Honesty Disappears Behind the VCP Mountain</a><span class=\"sitebit comhead\"> (<a href=\"from?site=vulnerability-db.com\"><span class=\"sitestr\">vulnerability-db.com</span></a>)</span></td></tr><tr><td colspan=\"2\"></td><td class=\"subtext\">\n",
       "        <span class=\"score\" id=\"score_12824616\">16 points</span> by <a href=\"user?id=QUFB\" class=\"hnuser\">QUFB</a> <span class=\"age\"><a href=\"item?id=12824616\">3 hours ago</a></span> <span id=\"unv_12824616\"></span> | <a href=\"hide?id=12824616&amp;goto=news\">hide</a> | <a href=\"item?id=12824616\">8&nbsp;comments</a>              </td></tr>\n",
       "      <tr class=\"spacer\" style=\"height:5px\"></tr>\n",
       "                <tr class='athing' id='12824355'>\n",
       "      <td align=\"right\" valign=\"top\" class=\"title\"><span class=\"rank\">23.</span></td>      <td valign=\"top\" class=\"votelinks\"><center><a id='up_12824355' href='vote?id=12824355&amp;how=up&amp;goto=news'><div class='votearrow' title='upvote'></div></a></center></td><td class=\"title\"><a href=\"http://venturebeat.com/2016/10/28/wordpress-creator-matt-mullenweg-slams-wix-your-app-editor-is-built-with-stolen-code/\" class=\"storylink\">WordPress creator slams Wix: ‘Your app editor is built with stolen code’</a><span class=\"sitebit comhead\"> (<a href=\"from?site=venturebeat.com\"><span class=\"sitestr\">venturebeat.com</span></a>)</span></td></tr><tr><td colspan=\"2\"></td><td class=\"subtext\">\n",
       "        <span class=\"score\" id=\"score_12824355\">134 points</span> by <a href=\"user?id=jaredtking\" class=\"hnuser\">jaredtking</a> <span class=\"age\"><a href=\"item?id=12824355\">3 hours ago</a></span> <span id=\"unv_12824355\"></span> | <a href=\"hide?id=12824355&amp;goto=news\">hide</a> | <a href=\"item?id=12824355\">37&nbsp;comments</a>              </td></tr>\n",
       "      <tr class=\"spacer\" style=\"height:5px\"></tr>\n",
       "                <tr class='athing' id='12824106'>\n",
       "      <td align=\"right\" valign=\"top\" class=\"title\"><span class=\"rank\">24.</span></td>      <td valign=\"top\" class=\"votelinks\"><center><a id='up_12824106' href='vote?id=12824106&amp;how=up&amp;goto=news'><div class='votearrow' title='upvote'></div></a></center></td><td class=\"title\"><a href=\"https://www.virtualbox.org/wiki/Changelog#v8\" class=\"storylink\">VirtualBox 5.1.8</a><span class=\"sitebit comhead\"> (<a href=\"from?site=virtualbox.org\"><span class=\"sitestr\">virtualbox.org</span></a>)</span></td></tr><tr><td colspan=\"2\"></td><td class=\"subtext\">\n",
       "        <span class=\"score\" id=\"score_12824106\">82 points</span> by <a href=\"user?id=based2\" class=\"hnuser\">based2</a> <span class=\"age\"><a href=\"item?id=12824106\">4 hours ago</a></span> <span id=\"unv_12824106\"></span> | <a href=\"hide?id=12824106&amp;goto=news\">hide</a> | <a href=\"item?id=12824106\">69&nbsp;comments</a>              </td></tr>\n",
       "      <tr class=\"spacer\" style=\"height:5px\"></tr>\n",
       "                <tr class='athing' id='12824186'>\n",
       "      <td align=\"right\" valign=\"top\" class=\"title\"><span class=\"rank\">25.</span></td>      <td valign=\"top\" class=\"votelinks\"><center><a id='up_12824186' href='vote?id=12824186&amp;how=up&amp;goto=news'><div class='votearrow' title='upvote'></div></a></center></td><td class=\"title\"><a href=\"https://arxiv.org/abs/1610.07629\" class=\"storylink\">A Learned Representation for Artistic Style</a><span class=\"sitebit comhead\"> (<a href=\"from?site=arxiv.org\"><span class=\"sitestr\">arxiv.org</span></a>)</span></td></tr><tr><td colspan=\"2\"></td><td class=\"subtext\">\n",
       "        <span class=\"score\" id=\"score_12824186\">25 points</span> by <a href=\"user?id=EvgeniyZh\" class=\"hnuser\">EvgeniyZh</a> <span class=\"age\"><a href=\"item?id=12824186\">4 hours ago</a></span> <span id=\"unv_12824186\"></span> | <a href=\"hide?id=12824186&amp;goto=news\">hide</a> | <a href=\"item?id=12824186\">discuss</a>              </td></tr>\n",
       "      <tr class=\"spacer\" style=\"height:5px\"></tr>\n",
       "                <tr class='athing' id='12823271'>\n",
       "      <td align=\"right\" valign=\"top\" class=\"title\"><span class=\"rank\">26.</span></td>      <td valign=\"top\" class=\"votelinks\"><center><a id='up_12823271' href='vote?id=12823271&amp;how=up&amp;goto=news'><div class='votearrow' title='upvote'></div></a></center></td><td class=\"title\"><a href=\"http://stephaniehurlburt.com/blog/2016/10/28/casual-introduction-to-low-level-graphics-programming\" class=\"storylink\">Casual Introduction to Low-Level Graphics Programming</a><span class=\"sitebit comhead\"> (<a href=\"from?site=stephaniehurlburt.com\"><span class=\"sitestr\">stephaniehurlburt.com</span></a>)</span></td></tr><tr><td colspan=\"2\"></td><td class=\"subtext\">\n",
       "        <span class=\"score\" id=\"score_12823271\">93 points</span> by <a href=\"user?id=deafcalculus\" class=\"hnuser\">deafcalculus</a> <span class=\"age\"><a href=\"item?id=12823271\">9 hours ago</a></span> <span id=\"unv_12823271\"></span> | <a href=\"hide?id=12823271&amp;goto=news\">hide</a> | <a href=\"item?id=12823271\">22&nbsp;comments</a>              </td></tr>\n",
       "      <tr class=\"spacer\" style=\"height:5px\"></tr>\n",
       "                <tr class='athing' id='12824098'>\n",
       "      <td align=\"right\" valign=\"top\" class=\"title\"><span class=\"rank\">27.</span></td>      <td valign=\"top\" class=\"votelinks\"><center><a id='up_12824098' href='vote?id=12824098&amp;how=up&amp;goto=news'><div class='votearrow' title='upvote'></div></a></center></td><td class=\"title\"><a href=\"https://github.com/mbasso/react-decoration/releases/tag/1.3.0\" class=\"storylink\">Show HN: React-decoration – A collection of decorators for React Components</a><span class=\"sitebit comhead\"> (<a href=\"from?site=github.com\"><span class=\"sitestr\">github.com</span></a>)</span></td></tr><tr><td colspan=\"2\"></td><td class=\"subtext\">\n",
       "        <span class=\"score\" id=\"score_12824098\">23 points</span> by <a href=\"user?id=mbasso\" class=\"hnuser\">mbasso</a> <span class=\"age\"><a href=\"item?id=12824098\">4 hours ago</a></span> <span id=\"unv_12824098\"></span> | <a href=\"hide?id=12824098&amp;goto=news\">hide</a> | <a href=\"item?id=12824098\">2&nbsp;comments</a>              </td></tr>\n",
       "      <tr class=\"spacer\" style=\"height:5px\"></tr>\n",
       "                <tr class='athing' id='12824323'>\n",
       "      <td align=\"right\" valign=\"top\" class=\"title\"><span class=\"rank\">28.</span></td>      <td valign=\"top\" class=\"votelinks\"><center><a id='up_12824323' href='vote?id=12824323&amp;how=up&amp;goto=news'><div class='votearrow' title='upvote'></div></a></center></td><td class=\"title\"><a href=\"https://github.com/rlancer/AlgoliaRethinkDB\" class=\"storylink\">Show HN: RethinkDB change feeds for indexing Algolia</a><span class=\"sitebit comhead\"> (<a href=\"from?site=github.com\"><span class=\"sitestr\">github.com</span></a>)</span></td></tr><tr><td colspan=\"2\"></td><td class=\"subtext\">\n",
       "        <span class=\"score\" id=\"score_12824323\">24 points</span> by <a href=\"user?id=rlancer\" class=\"hnuser\">rlancer</a> <span class=\"age\"><a href=\"item?id=12824323\">3 hours ago</a></span> <span id=\"unv_12824323\"></span> | <a href=\"hide?id=12824323&amp;goto=news\">hide</a> | <a href=\"item?id=12824323\">4&nbsp;comments</a>              </td></tr>\n",
       "      <tr class=\"spacer\" style=\"height:5px\"></tr>\n",
       "                <tr class='athing' id='12810724'>\n",
       "      <td align=\"right\" valign=\"top\" class=\"title\"><span class=\"rank\">29.</span></td>      <td valign=\"top\" class=\"votelinks\"><center><a id='up_12810724' href='vote?id=12810724&amp;how=up&amp;goto=news'><div class='votearrow' title='upvote'></div></a></center></td><td class=\"title\"><a href=\"http://arcade.stanford.edu/sites/default/files/article_pdfs/ROFL_v5_Edelstein_final.pdf\" class=\"storylink\" rel=\"nofollow\">Enlightenment Scholarship by the Numbers (2014) [pdf]</a><span class=\"sitebit comhead\"> (<a href=\"from?site=stanford.edu\"><span class=\"sitestr\">stanford.edu</span></a>)</span></td></tr><tr><td colspan=\"2\"></td><td class=\"subtext\">\n",
       "        <span class=\"score\" id=\"score_12810724\">4 points</span> by <a href=\"user?id=pepys\" class=\"hnuser\">pepys</a> <span class=\"age\"><a href=\"item?id=12810724\">1 hour ago</a></span> <span id=\"unv_12810724\"></span> | <a href=\"hide?id=12810724&amp;goto=news\">hide</a> | <a href=\"item?id=12810724\">discuss</a>              </td></tr>\n",
       "      <tr class=\"spacer\" style=\"height:5px\"></tr>\n",
       "                <tr class='athing' id='12824421'>\n",
       "      <td align=\"right\" valign=\"top\" class=\"title\"><span class=\"rank\">30.</span></td>      <td valign=\"top\" class=\"votelinks\"><center><a id='up_12824421' href='vote?id=12824421&amp;how=up&amp;goto=news'><div class='votearrow' title='upvote'></div></a></center></td><td class=\"title\"><a href=\"https://vivatiffany.wordpress.com/2016/10/27/academia-love-me-back/\" class=\"storylink\">Academia, Love Me Back</a><span class=\"sitebit comhead\"> (<a href=\"from?site=vivatiffany.wordpress.com\"><span class=\"sitestr\">vivatiffany.wordpress.com</span></a>)</span></td></tr><tr><td colspan=\"2\"></td><td class=\"subtext\">\n",
       "        <span class=\"score\" id=\"score_12824421\">79 points</span> by <a href=\"user?id=gluxon\" class=\"hnuser\">gluxon</a> <span class=\"age\"><a href=\"item?id=12824421\">3 hours ago</a></span> <span id=\"unv_12824421\"></span> | <a href=\"hide?id=12824421&amp;goto=news\">hide</a> | <a href=\"item?id=12824421\">37&nbsp;comments</a>              </td></tr>\n",
       "      <tr class=\"spacer\" style=\"height:5px\"></tr>\n",
       "            <tr class=\"morespace\" style=\"height:10px\"></tr><tr><td colspan=\"2\"></td><td class=\"title\"><a href=\"news?p=2\" class=\"morelink\" rel=\"nofollow\">More</a></td></tr>\n",
       "  </table>\n",
       "</td></tr>\n",
       "<tr><td><img src=\"s.gif\" height=\"10\" width=\"0\"><table width=\"100%\" cellspacing=\"0\" cellpadding=\"1\"><tr><td bgcolor=\"#ff6600\"></td></tr></table><br><center><span class=\"yclinks\"><a href=\"newsguidelines.html\">Guidelines</a>\n",
       "        | <a href=\"newsfaq.html\">FAQ</a>\n",
       "        | <a href=\"mailto:hn@ycombinator.com\">Support</a>\n",
       "        | <a href=\"https://github.com/HackerNews/API\">API</a>\n",
       "        | <a href=\"security.html\">Security</a>\n",
       "        | <a href=\"lists\">Lists</a>\n",
       "        | <a href=\"bookmarklet.html\">Bookmarklet</a>\n",
       "        | <a href=\"dmca.html\">DMCA</a>\n",
       "        | <a href=\"http://www.ycombinator.com/apply/\">Apply to YC</a>\n",
       "        | <a href=\"mailto:hn@ycombinator.com\">Contact</a></span><br><br><form method=\"get\" action=\"//hn.algolia.com/\">Search:\n",
       "          <input type=\"text\" name=\"q\" value=\"\" size=\"17\" autocorrect=\"off\" spellcheck=\"false\" autocapitalize=\"off\" autocomplete=\"false\"></form>\n",
       "            </center></td></tr>      </table></center></body><script type='text/javascript' src='hn.js?qteYN9s39JuqPSkaxUEz'></script></html>\n"
      ],
      "text/plain": [
       "<IPython.core.display.HTML object>"
      ]
     },
     "execution_count": 10,
     "metadata": {},
     "output_type": "execute_result"
    }
   ],
   "source": [
    "from IPython.core.display import HTML\n",
    "HTML(r.content.decode('utf-8'))"
   ]
  },
  {
   "cell_type": "markdown",
   "metadata": {
    "collapsed": false,
    "scrolled": true,
    "slideshow": {
     "slide_type": "slide"
    }
   },
   "source": [
    "## Exercise\n",
    "\n",
    "- Using the requests library, retrieve a webpage of your choosing with a GET request\n",
    "- Examine the response code, the headers, and the content\n",
    "- Use ```IPython.core.display's HTML()``` to display the page in your notebook \n",
    "- Compare the results with the actual page you requested in your browser"
   ]
  },
  {
   "cell_type": "markdown",
   "metadata": {
    "slideshow": {
     "slide_type": "slide"
    }
   },
   "source": [
    "## Webscraping - The Struggle is real"
   ]
  },
  {
   "cell_type": "markdown",
   "metadata": {
    "slideshow": {
     "slide_type": "-"
    }
   },
   "source": [
    "- Robots.txt\n",
    "- User Agent\n",
    "- Ajax"
   ]
  },
  {
   "cell_type": "markdown",
   "metadata": {
    "slideshow": {
     "slide_type": "slide"
    }
   },
   "source": [
    "## Ajax - The enemy of the webscraper"
   ]
  },
  {
   "cell_type": "code",
   "execution_count": 11,
   "metadata": {
    "collapsed": true,
    "slideshow": {
     "slide_type": "-"
    }
   },
   "outputs": [],
   "source": [
    "r2 = requests.get('https://www.google.com/#q=data+science')"
   ]
  },
  {
   "cell_type": "code",
   "execution_count": 12,
   "metadata": {
    "collapsed": false,
    "slideshow": {
     "slide_type": "-"
    }
   },
   "outputs": [
    {
     "data": {
      "text/plain": [
       "<Response [200]>"
      ]
     },
     "execution_count": 12,
     "metadata": {},
     "output_type": "execute_result"
    }
   ],
   "source": [
    "r2"
   ]
  },
  {
   "cell_type": "code",
   "execution_count": 13,
   "metadata": {
    "collapsed": false,
    "slideshow": {
     "slide_type": "slide"
    }
   },
   "outputs": [
    {
     "data": {
      "text/html": [
       "<!doctype html><html itemscope=\"\" itemtype=\"http://schema.org/WebPage\" lang=\"en\"><head><meta content=\"Search the world's information, including webpages, images, videos and more. Google has many special features to help you find exactly what you're looking for.\" name=\"description\"><meta content=\"noodp\" name=\"robots\"><meta content=\"text/html; charset=UTF-8\" http-equiv=\"Content-Type\"><meta content=\"/images/branding/googleg/1x/googleg_standard_color_128dp.png\" itemprop=\"image\"><title>Google</title><script>(function(){window.google={kEI:'H_YUWI7AHsmlmwHuvrDYDg',kEXPI:'1351458,1351828,1351829,1351903,1351980,3700242,3700400,4029815,4031109,4032677,4036527,4038012,4039268,4041899,4043492,4045841,4048347,4052304,4055744,4058543,4062186,4065787,4068550,4069838,4069840,4070144,4070327,4071842,4072288,4072364,4072602,4072705,4072775,4073405,4073418,4073959,4074349,4074684,4076085,4076095,4076542,4076931,4076997,4077118,4077221,4077296,4078407,4078430,4078438,4078457,4079105,4079155,4079205,4079388,4079501,4079522,4079553,4079597,4079870,4080167,4080435,4080472,4080523,4080814,4081037,4081038,4081128,4081265,4081371,4081497,4082111,4082173,4082183,4082446,4082618,4083133,4084066,4084264,4084265,4084343,4084365,4084427,4084676,4085066,8300272,8500572,8502184,8503585,8504846,8505150,8505152,8506255,8506340,8506615,8507080,8507125,8507380,8507833,8507842,8507846,10200083',authuser:0,kscs:'c9c918f0_24'};google.kHL='en';})();(function(){google.lc=[];google.li=0;google.getEI=function(a){for(var b;a&&(!a.getAttribute||!(b=a.getAttribute(\"eid\")));)a=a.parentNode;return b||google.kEI};google.getLEI=function(a){for(var b=null;a&&(!a.getAttribute||!(b=a.getAttribute(\"leid\")));)a=a.parentNode;return b};google.https=function(){return\"https:\"==window.location.protocol};google.ml=function(){return null};google.wl=function(a,b){try{google.ml(Error(a),!1,b)}catch(c){}};google.time=function(){return(new Date).getTime()};google.log=function(a,b,c,e,g){a=google.logUrl(a,b,c,e,g);if(\"\"!=a){b=new Image;var d=google.lc,f=google.li;d[f]=b;b.onerror=b.onload=b.onabort=function(){delete d[f]};window.google&&window.google.vel&&window.google.vel.lu&&window.google.vel.lu(a);b.src=a;google.li=f+1}};google.logUrl=function(a,b,c,e,g){var d=\"\",f=google.ls||\"\";if(!c&&-1==b.search(\"&ei=\")){var h=google.getEI(e),d=\"&ei=\"+h;-1==b.search(\"&lei=\")&&((e=google.getLEI(e))?d+=\"&lei=\"+e:h!=google.kEI&&(d+=\"&lei=\"+google.kEI))}a=c||\"/\"+(g||\"gen_204\")+\"?atyp=i&ct=\"+a+\"&cad=\"+b+d+f+\"&zx=\"+google.time();/^http:/i.test(a)&&google.https()&&(google.ml(Error(\"a\"),!1,{src:a,glmm:1}),a=\"\");return a};google.y={};google.x=function(a,b){google.y[a.id]=[a,b];return!1};google.lq=[];google.load=function(a,b,c){google.lq.push([[a],b,c])};google.loadAll=function(a,b){google.lq.push([a,b])};})();var a=window.location,b=a.href.indexOf(\"#\");if(0<=b){var c=a.href.substring(b+1);/(^|&)q=/.test(c)&&-1==c.indexOf(\"#\")&&a.replace(\"/search?\"+c.replace(/(^|&)fp=[^&]*/g,\"\")+\"&cad=h\")};</script><style>#gbar,#guser{font-size:13px;padding-top:1px !important;}#gbar{height:22px}#guser{padding-bottom:7px !important;text-align:right}.gbh,.gbd{border-top:1px solid #c9d7f1;font-size:1px}.gbh{height:0;position:absolute;top:24px;width:100%}@media all{.gb1{height:22px;margin-right:.5em;vertical-align:top}#gbar{float:left}}a.gb1,a.gb4{text-decoration:underline !important}a.gb1,a.gb4{color:#00c !important}.gbi .gb4{color:#dd8e27 !important}.gbf .gb4{color:#900 !important}\n",
       "</style><style>body,td,a,p,.h{font-family:arial,sans-serif}body{margin:0;overflow-y:scroll}#gog{padding:3px 8px 0}td{line-height:.8em}.gac_m td{line-height:17px}form{margin-bottom:20px}.h{color:#36c}.q{color:#00c}.ts td{padding:0}.ts{border-collapse:collapse}em{font-weight:bold;font-style:normal}.lst{height:25px;width:496px}.gsfi,.lst{font:18px arial,sans-serif}.gsfs{font:17px arial,sans-serif}.ds{display:inline-box;display:inline-block;margin:3px 0 4px;margin-left:4px}input{font-family:inherit}a.gb1,a.gb2,a.gb3,a.gb4{color:#11c !important}body{background:#fff;color:black}a{color:#11c;text-decoration:none}a:hover,a:active{text-decoration:underline}.fl a{color:#36c}a:visited{color:#551a8b}a.gb1,a.gb4{text-decoration:underline}a.gb3:hover{text-decoration:none}#ghead a.gb2:hover{color:#fff !important}.sblc{padding-top:5px}.sblc a{display:block;margin:2px 0;margin-left:13px;font-size:11px}.lsbb{background:#eee;border:solid 1px;border-color:#ccc #999 #999 #ccc;height:30px}.lsbb{display:block}.ftl,#fll a{display:inline-block;margin:0 12px}.lsb{background:url(/images/nav_logo229.png) 0 -261px repeat-x;border:none;color:#000;cursor:pointer;height:30px;margin:0;outline:0;font:15px arial,sans-serif;vertical-align:top}.lsb:active{background:#ccc}.lst:focus{outline:none}</style><script></script><link href=\"/images/branding/product/ico/googleg_lodp.ico\" rel=\"shortcut icon\"></head><body bgcolor=\"#fff\"><script>(function(){var src='/images/nav_logo229.png';var iesg=false;document.body.onload = function(){window.n && window.n();if (document.images){new Image().src=src;}\n",
       "if (!iesg){document.f&&document.f.q.focus();document.gbqf&&document.gbqf.q.focus();}\n",
       "}\n",
       "})();</script><div id=\"mngb\"> <div id=gbar><nobr><b class=gb1>Search</b> <a class=gb1 href=\"https://www.google.com/imghp?hl=en&tab=wi\">Images</a> <a class=gb1 href=\"https://maps.google.com/maps?hl=en&tab=wl\">Maps</a> <a class=gb1 href=\"https://play.google.com/?hl=en&tab=w8\">Play</a> <a class=gb1 href=\"https://www.youtube.com/?tab=w1\">YouTube</a> <a class=gb1 href=\"https://news.google.com/nwshp?hl=en&tab=wn\">News</a> <a class=gb1 href=\"https://mail.google.com/mail/?tab=wm\">Gmail</a> <a class=gb1 href=\"https://drive.google.com/?tab=wo\">Drive</a> <a class=gb1 style=\"text-decoration:none\" href=\"https://www.google.com/intl/en/options/\"><u>More</u> &raquo;</a></nobr></div><div id=guser width=100%><nobr><span id=gbn class=gbi></span><span id=gbf class=gbf></span><span id=gbe></span><a href=\"http://www.google.com/history/optout?hl=en\" class=gb4>Web History</a> | <a  href=\"/preferences?hl=en\" class=gb4>Settings</a> | <a target=_top id=gb_70 href=\"https://accounts.google.com/ServiceLogin?hl=en&passive=true&continue=https://www.google.com/\" class=gb4>Sign in</a></nobr></div><div class=gbh style=left:0></div><div class=gbh style=right:0></div> </div><center><br clear=\"all\" id=\"lgpd\"><div id=\"lga\"><img alt=\"Google\" height=\"92\" src=\"/images/branding/googlelogo/1x/googlelogo_white_background_color_272x92dp.png\" style=\"padding:28px 0 14px\" width=\"272\" id=\"hplogo\" onload=\"window.lol&&lol()\"><br><br></div><form action=\"/search\" name=\"f\"><table cellpadding=\"0\" cellspacing=\"0\"><tr valign=\"top\"><td width=\"25%\">&nbsp;</td><td align=\"center\" nowrap=\"\"><input name=\"ie\" value=\"ISO-8859-1\" type=\"hidden\"><input value=\"en\" name=\"hl\" type=\"hidden\"><input name=\"source\" type=\"hidden\" value=\"hp\"><input name=\"biw\" type=\"hidden\"><input name=\"bih\" type=\"hidden\"><div class=\"ds\" style=\"height:32px;margin:4px 0\"><input style=\"color:#000;margin:0;padding:5px 8px 0 6px;vertical-align:top\" autocomplete=\"off\" class=\"lst\" value=\"\" title=\"Google Search\" maxlength=\"2048\" name=\"q\" size=\"57\"></div><br style=\"line-height:0\"><span class=\"ds\"><span class=\"lsbb\"><input class=\"lsb\" value=\"Google Search\" name=\"btnG\" type=\"submit\"></span></span><span class=\"ds\"><span class=\"lsbb\"><input class=\"lsb\" value=\"I'm Feeling Lucky\" name=\"btnI\" onclick=\"if(this.form.q.value)this.checked=1; else top.location='/doodles/'\" type=\"submit\"></span></span></td><td class=\"fl sblc\" align=\"left\" nowrap=\"\" width=\"25%\"><a href=\"/advanced_search?hl=en&amp;authuser=0\">Advanced search</a><a href=\"/language_tools?hl=en&amp;authuser=0\">Language tools</a></td></tr></table><input id=\"gbv\" name=\"gbv\" type=\"hidden\" value=\"1\"></form><div id=\"gac_scont\"></div><div style=\"font-size:83%;min-height:3.5em\"><br></div><span id=\"footer\"><div style=\"font-size:10pt\"><div style=\"margin:19px auto;text-align:center\" id=\"fll\"><a href=\"/intl/en/ads/\">Advertising Programs</a><a href=\"/services/\">Business Solutions</a><a href=\"https://plus.google.com/116899029375914044550\" rel=\"publisher\">+Google</a><a href=\"/intl/en/about.html\">About Google</a></div></div><p style=\"color:#767676;font-size:8pt\">&copy; 2016 - <a href=\"/intl/en/policies/privacy/\">Privacy</a> - <a href=\"/intl/en/policies/terms/\">Terms</a></p></span></center><script>(function(){window.google.cdo={height:0,width:0};(function(){var a=window.innerWidth,b=window.innerHeight;if(!a||!b)var c=window.document,d=\"CSS1Compat\"==c.compatMode?c.documentElement:c.body,a=d.clientWidth,b=d.clientHeight;a&&b&&(a!=google.cdo.width||b!=google.cdo.height)&&google.log(\"\",\"\",\"/client_204?&atyp=i&biw=\"+a+\"&bih=\"+b+\"&ei=\"+google.kEI);})();})();</script><div id=\"xjsd\"></div><div id=\"xjsi\"><script>(function(){function c(b){window.setTimeout(function(){var a=document.createElement(\"script\");a.src=b;document.getElementById(\"xjsd\").appendChild(a)},0)}google.dljp=function(b,a){google.xjsu=b;c(a)};google.dlj=c;})();(function(){window.google.xjsrm=[];})();if(google.y)google.y.first=[];if(!google.xjs){window._=window._||{};window._._DumpException=function(e){throw e};if(google.timers&&google.timers.load.t){google.timers.load.t.xjsls=new Date().getTime();}google.dljp('/xjs/_/js/k\\x3dxjs.hp.en_US.y1Ww5_woifk.O/m\\x3dsb_he,d/rt\\x3dj/d\\x3d1/t\\x3dzcms/rs\\x3dACT90oHUj97awodLSOQYpr0rkIsLnA8IdQ','/xjs/_/js/k\\x3dxjs.hp.en_US.y1Ww5_woifk.O/m\\x3dsb_he,d/rt\\x3dj/d\\x3d1/t\\x3dzcms/rs\\x3dACT90oHUj97awodLSOQYpr0rkIsLnA8IdQ');google.xjs=1;}google.pmc={\"sb_he\":{\"agen\":true,\"cgen\":true,\"client\":\"heirloom-hp\",\"dh\":true,\"dhqt\":true,\"ds\":\"\",\"fl\":true,\"host\":\"google.com\",\"isbh\":28,\"jam\":0,\"jsonp\":true,\"msgs\":{\"cibl\":\"Clear Search\",\"dym\":\"Did you mean:\",\"lcky\":\"I\\u0026#39;m Feeling Lucky\",\"lml\":\"Learn more\",\"oskt\":\"Input tools\",\"psrc\":\"This search was removed from your \\u003Ca href=\\\"/history\\\"\\u003EWeb History\\u003C/a\\u003E\",\"psrl\":\"Remove\",\"sbit\":\"Search by image\",\"srch\":\"Google Search\"},\"nds\":true,\"ovr\":{},\"pq\":\"\",\"refpd\":true,\"rfs\":[],\"scd\":10,\"sce\":5,\"stok\":\"brol0_gDWBUURLEO2j2pONEk7NA\"},\"d\":{}};google.y.first.push(function(){if(google.med){google.med('init');google.initHistory();google.med('history');}});if(google.j&&google.j.en&&google.j.xi){window.setTimeout(google.j.xi,0);}\n",
       "</script></div></body></html>"
      ],
      "text/plain": [
       "<IPython.core.display.HTML object>"
      ]
     },
     "execution_count": 13,
     "metadata": {},
     "output_type": "execute_result"
    }
   ],
   "source": [
    "# notice anything missing?\n",
    "HTML(r2.content.decode('latin-1'))"
   ]
  },
  {
   "cell_type": "markdown",
   "metadata": {
    "slideshow": {
     "slide_type": "slide"
    }
   },
   "source": [
    "## What is AJAX?"
   ]
  },
  {
   "cell_type": "markdown",
   "metadata": {
    "slideshow": {
     "slide_type": "-"
    }
   },
   "source": [
    ">Conventional web applications transmit information to and from the server using synchronous requests. It means you fill out a form, hit submit, and get directed to a new page with new information from the server.\n",
    "\n",
    ">With AJAX, when you hit submit, JavaScript will make a request to the server, interpret the results, and **update the current screen**. In the purest sense, the user would never know that anything was even transmitted to the server."
   ]
  },
  {
   "cell_type": "markdown",
   "metadata": {
    "slideshow": {
     "slide_type": "slide"
    }
   },
   "source": [
    "## How do you handle Ajax?"
   ]
  },
  {
   "cell_type": "markdown",
   "metadata": {
    "slideshow": {
     "slide_type": "-"
    }
   },
   "source": [
    "If a site uses ajax on content you need to scrape, **you will have to use a browser object** to retrieve it. \n",
    "\n",
    "The difference between a library like requests and an actual browser object is that requests just sends and receives text. The browser object \"renders\" the webpage just like Firefox or Chrome does. \n",
    "\n",
    "So how do we do this? We'll need to libraries to accomplish this...\n",
    "\n",
    "\n",
    "- Selenium\n",
    "\n",
    "- PhantomJS"
   ]
  },
  {
   "cell_type": "markdown",
   "metadata": {
    "slideshow": {
     "slide_type": "slide"
    }
   },
   "source": [
    "## Selenium\n",
    "\n",
    "- Selenium is a browser automation library (used extensively in testing)<br>"
   ]
  },
  {
   "cell_type": "markdown",
   "metadata": {
    "slideshow": {
     "slide_type": "-"
    }
   },
   "source": [
    " <img src=\"http://i.imgur.com/WLs22wp.png\" width=500>"
   ]
  },
  {
   "cell_type": "markdown",
   "metadata": {
    "slideshow": {
     "slide_type": "slide"
    }
   },
   "source": [
    "## PhantomJS\n",
    "\n",
    "PhantomJS is a \"headless\" browswer. It allows us all the functionality available in a full browser, but without the overhead of a UI."
   ]
  },
  {
   "cell_type": "markdown",
   "metadata": {
    "slideshow": {
     "slide_type": "-"
    }
   },
   "source": [
    "<img src=\"http://i.imgur.com/hN5trU9.png\" width=\"500\">"
   ]
  },
  {
   "cell_type": "markdown",
   "metadata": {
    "slideshow": {
     "slide_type": "slide"
    }
   },
   "source": [
    "## Using Selenium with PhantomJS"
   ]
  },
  {
   "cell_type": "code",
   "execution_count": 14,
   "metadata": {
    "collapsed": false,
    "scrolled": true,
    "slideshow": {
     "slide_type": "-"
    }
   },
   "outputs": [
    {
     "ename": "WebDriverException",
     "evalue": "Message: 'phantomjs' executable needs to be in PATH. \n",
     "output_type": "error",
     "traceback": [
      "\u001b[0;31m---------------------------------------------------------------------------\u001b[0m",
      "\u001b[0;31mWebDriverException\u001b[0m                        Traceback (most recent call last)",
      "\u001b[0;32m<ipython-input-14-6a7a552a7291>\u001b[0m in \u001b[0;36m<module>\u001b[0;34m()\u001b[0m\n\u001b[1;32m      1\u001b[0m \u001b[0;32mfrom\u001b[0m \u001b[0mselenium\u001b[0m \u001b[0;32mimport\u001b[0m \u001b[0mwebdriver\u001b[0m\u001b[0;34m\u001b[0m\u001b[0m\n\u001b[1;32m      2\u001b[0m \u001b[0;34m\u001b[0m\u001b[0m\n\u001b[0;32m----> 3\u001b[0;31m \u001b[0mdriver\u001b[0m \u001b[0;34m=\u001b[0m \u001b[0mwebdriver\u001b[0m\u001b[0;34m.\u001b[0m\u001b[0mPhantomJS\u001b[0m\u001b[0;34m(\u001b[0m\u001b[0mexecutable_path\u001b[0m\u001b[0;34m=\u001b[0m\u001b[0;34m'/Users/ac/Downloads/phantomjs-2.1.1-macosx/bin/phantomjs'\u001b[0m\u001b[0;34m)\u001b[0m\u001b[0;34m\u001b[0m\u001b[0m\n\u001b[0m\u001b[1;32m      4\u001b[0m \u001b[0mdriver\u001b[0m\u001b[0;34m.\u001b[0m\u001b[0mset_window_size\u001b[0m\u001b[0;34m(\u001b[0m\u001b[0;36m1024\u001b[0m\u001b[0;34m,\u001b[0m \u001b[0;36m768\u001b[0m\u001b[0;34m)\u001b[0m\u001b[0;34m\u001b[0m\u001b[0m\n\u001b[1;32m      5\u001b[0m \u001b[0mdriver\u001b[0m\u001b[0;34m.\u001b[0m\u001b[0mget\u001b[0m\u001b[0;34m(\u001b[0m\u001b[0;34m'https://www.google.com/#q=data+science'\u001b[0m\u001b[0;34m)\u001b[0m\u001b[0;34m\u001b[0m\u001b[0m\n",
      "\u001b[0;32m/Users/EKandTower/anaconda/lib/python2.7/site-packages/selenium/webdriver/phantomjs/webdriver.pyc\u001b[0m in \u001b[0;36m__init__\u001b[0;34m(self, executable_path, port, desired_capabilities, service_args, service_log_path)\u001b[0m\n\u001b[1;32m     50\u001b[0m             \u001b[0mservice_args\u001b[0m\u001b[0;34m=\u001b[0m\u001b[0mservice_args\u001b[0m\u001b[0;34m,\u001b[0m\u001b[0;34m\u001b[0m\u001b[0m\n\u001b[1;32m     51\u001b[0m             log_path=service_log_path)\n\u001b[0;32m---> 52\u001b[0;31m         \u001b[0mself\u001b[0m\u001b[0;34m.\u001b[0m\u001b[0mservice\u001b[0m\u001b[0;34m.\u001b[0m\u001b[0mstart\u001b[0m\u001b[0;34m(\u001b[0m\u001b[0;34m)\u001b[0m\u001b[0;34m\u001b[0m\u001b[0m\n\u001b[0m\u001b[1;32m     53\u001b[0m \u001b[0;34m\u001b[0m\u001b[0m\n\u001b[1;32m     54\u001b[0m         \u001b[0;32mtry\u001b[0m\u001b[0;34m:\u001b[0m\u001b[0;34m\u001b[0m\u001b[0m\n",
      "\u001b[0;32m/Users/EKandTower/anaconda/lib/python2.7/site-packages/selenium/webdriver/common/service.pyc\u001b[0m in \u001b[0;36mstart\u001b[0;34m(self)\u001b[0m\n\u001b[1;32m     69\u001b[0m                 raise WebDriverException(\n\u001b[1;32m     70\u001b[0m                     \"'%s' executable needs to be in PATH. %s\" % (\n\u001b[0;32m---> 71\u001b[0;31m                         os.path.basename(self.path), self.start_error_message)\n\u001b[0m\u001b[1;32m     72\u001b[0m                 )\n\u001b[1;32m     73\u001b[0m             \u001b[0;32melif\u001b[0m \u001b[0merr\u001b[0m\u001b[0;34m.\u001b[0m\u001b[0merrno\u001b[0m \u001b[0;34m==\u001b[0m \u001b[0merrno\u001b[0m\u001b[0;34m.\u001b[0m\u001b[0mEACCES\u001b[0m\u001b[0;34m:\u001b[0m\u001b[0;34m\u001b[0m\u001b[0m\n",
      "\u001b[0;31mWebDriverException\u001b[0m: Message: 'phantomjs' executable needs to be in PATH. \n"
     ]
    }
   ],
   "source": [
    "from selenium import webdriver\n",
    "\n",
    "driver = webdriver.PhantomJS(executable_path='/Users/ac/Downloads/\\\n",
    "phantomjs-2.1.1-macosx/bin/phantomjs')\n",
    "driver.set_window_size(1024, 768) \n",
    "driver.get('https://www.google.com/#q=data+science')"
   ]
  },
  {
   "cell_type": "code",
   "execution_count": null,
   "metadata": {
    "collapsed": false,
    "slideshow": {
     "slide_type": "slide"
    }
   },
   "outputs": [],
   "source": [
    "# .page_source gives us our document\n",
    "HTML(driver.page_source)"
   ]
  },
  {
   "cell_type": "markdown",
   "metadata": {
    "slideshow": {
     "slide_type": "slide"
    }
   },
   "source": [
    "## Exercise\n",
    "1. Pip install selenium \n",
    "2. Download and unzip phantomJS 2.1.1 from https://bitbucket.org/ariya/phantomjs/downloads\n",
    "3. Use the library to pull down an ajax-based page such as Google search results"
   ]
  },
  {
   "cell_type": "markdown",
   "metadata": {
    "slideshow": {
     "slide_type": "slide"
    }
   },
   "source": [
    "# Now how do we get the content we want from the page?"
   ]
  },
  {
   "cell_type": "markdown",
   "metadata": {
    "slideshow": {
     "slide_type": "slide"
    }
   },
   "source": [
    "## DOM"
   ]
  },
  {
   "cell_type": "markdown",
   "metadata": {
    "slideshow": {
     "slide_type": "-"
    }
   },
   "source": [
    "> The Document Object Model (DOM) is a programming interface for HTML and XML documents. It provides a structured representation of the document and it defines a way that the structure can be accessed from programs so that they can change the document structure, style and content. The DOM provides a representation of the document as a structured group of nodes and objects that have properties and methods. Essentially, it connects web pages to scripts or programming languages."
   ]
  },
  {
   "cell_type": "markdown",
   "metadata": {
    "slideshow": {
     "slide_type": "slide"
    }
   },
   "source": [
    "## Typical Web Page Structure"
   ]
  },
  {
   "cell_type": "markdown",
   "metadata": {
    "slideshow": {
     "slide_type": "-"
    }
   },
   "source": [
    "    <html>\n",
    "        <head>\n",
    "        </head>\n",
    "        <body>\n",
    "            <div id=\"header\" class=\"extraFancy\">I'm a header!</div>\n",
    "            <div id=\"main\">\n",
    "                I'm a div!\n",
    "                <ul>\n",
    "                    I'm an unordered list!\n",
    "                    <li>I'm list item 1</li>\n",
    "                    <li>I'm list item 2</li>\n",
    "                </ul>\n",
    "            </div>\n",
    "            <div id=\"footer\" class=\"extraFancy\">I'm a footer</div>\n",
    "        </body>\n",
    "    </html>"
   ]
  },
  {
   "cell_type": "code",
   "execution_count": null,
   "metadata": {
    "collapsed": true,
    "slideshow": {
     "slide_type": "slide"
    }
   },
   "outputs": [],
   "source": [
    "page_html = \"\"\"\n",
    "    <html>\n",
    "        <head>\n",
    "        <title>Super Cool Website!</title>\n",
    "        </head>\n",
    "        <body>\n",
    "            <div id=\"header\" class=\"extraFancy\">I'm a header!</div>\n",
    "            <div id=\"main\">\n",
    "                I'm a div!\n",
    "                <ul>\n",
    "                    I'm an unordered list!\n",
    "                    <li>I'm list item 1</li>\n",
    "                    <li>I'm list item 2</li>\n",
    "                </ul>\n",
    "            </div>\n",
    "            <div id=\"footer\" class=\"extraFancy\">I'm a footer</div>\n",
    "        </body>\n",
    "    </html>\n",
    "\"\"\""
   ]
  },
  {
   "cell_type": "markdown",
   "metadata": {
    "slideshow": {
     "slide_type": "slide"
    }
   },
   "source": [
    "## We're going to feed this full HTML into a library called Beautiful Soup"
   ]
  },
  {
   "cell_type": "markdown",
   "metadata": {
    "slideshow": {
     "slide_type": "-"
    }
   },
   "source": [
    "<img src=\"http://i.imgur.com/klVeXY7.png\" width=\"800\">"
   ]
  },
  {
   "cell_type": "markdown",
   "metadata": {
    "slideshow": {
     "slide_type": "slide"
    }
   },
   "source": [
    "## Coding BeautifulSoup"
   ]
  },
  {
   "cell_type": "code",
   "execution_count": null,
   "metadata": {
    "collapsed": true,
    "slideshow": {
     "slide_type": "-"
    }
   },
   "outputs": [],
   "source": [
    "from bs4 import BeautifulSoup"
   ]
  },
  {
   "cell_type": "markdown",
   "metadata": {
    "slideshow": {
     "slide_type": "slide"
    }
   },
   "source": [
    "## Pass the HTML into the BS object"
   ]
  },
  {
   "cell_type": "code",
   "execution_count": null,
   "metadata": {
    "collapsed": false,
    "slideshow": {
     "slide_type": "-"
    }
   },
   "outputs": [],
   "source": [
    "soup = BeautifulSoup(page_html, \"lxml\")"
   ]
  },
  {
   "cell_type": "markdown",
   "metadata": {
    "slideshow": {
     "slide_type": "-"
    }
   },
   "source": [
    "From there it can be searched and parsed"
   ]
  },
  {
   "cell_type": "markdown",
   "metadata": {
    "slideshow": {
     "slide_type": "slide"
    }
   },
   "source": [
    "## Print the html"
   ]
  },
  {
   "cell_type": "code",
   "execution_count": null,
   "metadata": {
    "collapsed": false,
    "slideshow": {
     "slide_type": "-"
    }
   },
   "outputs": [],
   "source": [
    "print(soup.prettify())"
   ]
  },
  {
   "cell_type": "markdown",
   "metadata": {
    "slideshow": {
     "slide_type": "slide"
    }
   },
   "source": [
    "## Let's now do some parsing of the HTML using the DOM"
   ]
  },
  {
   "cell_type": "markdown",
   "metadata": {
    "slideshow": {
     "slide_type": "slide"
    }
   },
   "source": [
    "## Get the title"
   ]
  },
  {
   "cell_type": "code",
   "execution_count": null,
   "metadata": {
    "collapsed": false,
    "scrolled": false,
    "slideshow": {
     "slide_type": "-"
    }
   },
   "outputs": [],
   "source": [
    "soup.title"
   ]
  },
  {
   "cell_type": "code",
   "execution_count": null,
   "metadata": {
    "collapsed": false,
    "slideshow": {
     "slide_type": "-"
    }
   },
   "outputs": [],
   "source": [
    "soup.title.text"
   ]
  },
  {
   "cell_type": "markdown",
   "metadata": {
    "slideshow": {
     "slide_type": "slide"
    }
   },
   "source": [
    "## Find - get the first result"
   ]
  },
  {
   "cell_type": "code",
   "execution_count": null,
   "metadata": {
    "collapsed": false,
    "slideshow": {
     "slide_type": "-"
    }
   },
   "outputs": [],
   "source": [
    "soup.find('div')"
   ]
  },
  {
   "cell_type": "markdown",
   "metadata": {
    "slideshow": {
     "slide_type": "slide"
    }
   },
   "source": [
    "## FindAll - get all matching results"
   ]
  },
  {
   "cell_type": "code",
   "execution_count": null,
   "metadata": {
    "collapsed": false,
    "slideshow": {
     "slide_type": "-"
    }
   },
   "outputs": [],
   "source": [
    "i = 0\n",
    "for d in soup.findAll('div'):\n",
    "    print(i, d)\n",
    "    print('\\n')\n",
    "    i += 1"
   ]
  },
  {
   "cell_type": "markdown",
   "metadata": {
    "slideshow": {
     "slide_type": "slide"
    }
   },
   "source": [
    "## Get the page's text"
   ]
  },
  {
   "cell_type": "code",
   "execution_count": null,
   "metadata": {
    "collapsed": false,
    "slideshow": {
     "slide_type": "-"
    }
   },
   "outputs": [],
   "source": [
    "print(soup.text)"
   ]
  },
  {
   "cell_type": "markdown",
   "metadata": {
    "slideshow": {
     "slide_type": "slide"
    }
   },
   "source": [
    "## Get the class of an element"
   ]
  },
  {
   "cell_type": "code",
   "execution_count": null,
   "metadata": {
    "collapsed": false,
    "slideshow": {
     "slide_type": "-"
    }
   },
   "outputs": [],
   "source": [
    "# find returns the first result\n",
    "soup.find('div')['class']"
   ]
  },
  {
   "cell_type": "markdown",
   "metadata": {
    "slideshow": {
     "slide_type": "slide"
    }
   },
   "source": [
    "## Search by the id of an element"
   ]
  },
  {
   "cell_type": "code",
   "execution_count": null,
   "metadata": {
    "collapsed": false,
    "slideshow": {
     "slide_type": "-"
    }
   },
   "outputs": [],
   "source": [
    "print(soup.find(id='main'))"
   ]
  },
  {
   "cell_type": "markdown",
   "metadata": {
    "slideshow": {
     "slide_type": "slide"
    }
   },
   "source": [
    "## Search by the class"
   ]
  },
  {
   "cell_type": "code",
   "execution_count": null,
   "metadata": {
    "collapsed": false,
    "slideshow": {
     "slide_type": "-"
    }
   },
   "outputs": [],
   "source": [
    "#  note the underscore after class\n",
    "print(soup.findAll(class_='extraFancy'))"
   ]
  },
  {
   "cell_type": "markdown",
   "metadata": {
    "slideshow": {
     "slide_type": "slide"
    }
   },
   "source": [
    "## Get the children of an element"
   ]
  },
  {
   "cell_type": "code",
   "execution_count": null,
   "metadata": {
    "collapsed": false,
    "slideshow": {
     "slide_type": "-"
    }
   },
   "outputs": [],
   "source": [
    "my_ul = soup.find('ul')"
   ]
  },
  {
   "cell_type": "code",
   "execution_count": null,
   "metadata": {
    "collapsed": false,
    "slideshow": {
     "slide_type": "-"
    }
   },
   "outputs": [],
   "source": [
    "print(my_ul)"
   ]
  },
  {
   "cell_type": "code",
   "execution_count": null,
   "metadata": {
    "collapsed": false,
    "slideshow": {
     "slide_type": "-"
    }
   },
   "outputs": [],
   "source": [
    "my_ul.findChildren()"
   ]
  },
  {
   "cell_type": "markdown",
   "metadata": {
    "slideshow": {
     "slide_type": "slide"
    }
   },
   "source": [
    "## Exercise\n",
    "\n",
    "Using Requests and BeautifulSoup, pull down hacker news and print out the headlines and the story links in your notebook"
   ]
  },
  {
   "cell_type": "code",
   "execution_count": null,
   "metadata": {
    "collapsed": true,
    "slideshow": {
     "slide_type": "slide"
    }
   },
   "outputs": [],
   "source": [
    "# solution\n",
    "\n",
    "hn = requests.get('http://news.ycombinator.com')"
   ]
  },
  {
   "cell_type": "code",
   "execution_count": null,
   "metadata": {
    "collapsed": false,
    "slideshow": {
     "slide_type": "-"
    }
   },
   "outputs": [],
   "source": [
    "#solution\n",
    "\n",
    "hn.content"
   ]
  },
  {
   "cell_type": "code",
   "execution_count": null,
   "metadata": {
    "collapsed": false,
    "slideshow": {
     "slide_type": "slide"
    }
   },
   "outputs": [],
   "source": [
    "# solution\n",
    "\n",
    "# pass the content into BS\n",
    "hn_soup = BeautifulSoup(hn.content, \"lxml\")"
   ]
  },
  {
   "cell_type": "code",
   "execution_count": null,
   "metadata": {
    "collapsed": false,
    "scrolled": true,
    "slideshow": {
     "slide_type": "-"
    }
   },
   "outputs": [],
   "source": [
    "# solution\n",
    "\n",
    "for link in hn_soup.findAll('a', class_='storylink'):\n",
    "    print(link.text)\n",
    "    print(link['href'])\n",
    "    print('\\n')"
   ]
  },
  {
   "cell_type": "markdown",
   "metadata": {
    "slideshow": {
     "slide_type": "slide"
    }
   },
   "source": [
    "## Now for the Easy Way"
   ]
  },
  {
   "cell_type": "markdown",
   "metadata": {
    "slideshow": {
     "slide_type": "-"
    }
   },
   "source": [
    "## Import.io"
   ]
  },
  {
   "cell_type": "markdown",
   "metadata": {
    "slideshow": {
     "slide_type": "-"
    }
   },
   "source": [
    "Using the URL, go to \"http://www.zillow.com/new-york-city-ny/apartments/\""
   ]
  },
  {
   "cell_type": "markdown",
   "metadata": {
    "slideshow": {
     "slide_type": "slide"
    }
   },
   "source": [
    "## Independent Practice"
   ]
  },
  {
   "cell_type": "markdown",
   "metadata": {
    "slideshow": {
     "slide_type": "-"
    }
   },
   "source": [
    "1. Programmatically run a google search for 'Data Science' using Selenium and PhantomJS\n",
    "\n",
    "2. Retrieve only the links and their titles using BS - avoid getting the ads in your list\n",
    "\n",
    "3. Place those into a DataFrame"
   ]
  },
  {
   "cell_type": "code",
   "execution_count": null,
   "metadata": {
    "collapsed": true,
    "slideshow": {
     "slide_type": "slide"
    }
   },
   "outputs": [],
   "source": [
    "#solution\n",
    "\n",
    "from selenium import webdriver\n",
    "\n",
    "driver = webdriver.PhantomJS(executable_path='/Users/ac/Downloads/phantomjs-2.1.1-macosx/bin/phantomjs')\n",
    "driver.set_window_size(1024, 768) \n",
    "driver.get('https://www.google.com/#q=data+science')"
   ]
  },
  {
   "cell_type": "code",
   "execution_count": null,
   "metadata": {
    "collapsed": true,
    "slideshow": {
     "slide_type": "-"
    }
   },
   "outputs": [],
   "source": [
    "# solution\n",
    "\n",
    "g_soup = BeautifulSoup(driver.page_source)"
   ]
  },
  {
   "cell_type": "code",
   "execution_count": null,
   "metadata": {
    "collapsed": false,
    "scrolled": true,
    "slideshow": {
     "slide_type": "slide"
    }
   },
   "outputs": [],
   "source": [
    "# solution\n",
    "\n",
    "link_list = []\n",
    "title_list = []\n",
    "\n",
    "for t in g_soup.findAll('h3', class_='r'):\n",
    "    full_path = t.find('a')['href']\n",
    "    full_title = t.find('a').text\n",
    "    if  'search' not in full_path:\n",
    "        link_list.append(full_path[7:])\n",
    "        title_list.append(full_title)"
   ]
  },
  {
   "cell_type": "code",
   "execution_count": null,
   "metadata": {
    "collapsed": false,
    "slideshow": {
     "slide_type": "slide"
    }
   },
   "outputs": [],
   "source": [
    "# solution\n",
    "\n",
    "pd.DataFrame(zip(title_list, link_list), columns=['title', 'links'])"
   ]
  },
  {
   "cell_type": "code",
   "execution_count": null,
   "metadata": {
    "collapsed": true
   },
   "outputs": [],
   "source": []
  }
 ],
 "metadata": {
  "anaconda-cloud": {},
  "celltoolbar": "Slideshow",
  "kernelspec": {
   "display_name": "Python [Root]",
   "language": "python",
   "name": "Python [Root]"
  },
  "language_info": {
   "codemirror_mode": {
    "name": "ipython",
    "version": 2
   },
   "file_extension": ".py",
   "mimetype": "text/x-python",
   "name": "python",
   "nbconvert_exporter": "python",
   "pygments_lexer": "ipython2",
   "version": "2.7.12"
  }
 },
 "nbformat": 4,
 "nbformat_minor": 0
}
