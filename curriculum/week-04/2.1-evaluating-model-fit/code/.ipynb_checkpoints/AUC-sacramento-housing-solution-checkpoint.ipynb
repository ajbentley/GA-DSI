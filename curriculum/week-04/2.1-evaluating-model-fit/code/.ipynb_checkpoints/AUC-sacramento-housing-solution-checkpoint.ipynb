{
 "cells": [
  {
   "cell_type": "markdown",
   "metadata": {},
   "source": [
    "Load required packages"
   ]
  },
  {
   "cell_type": "code",
   "execution_count": 2,
   "metadata": {
    "collapsed": false
   },
   "outputs": [],
   "source": [
    "import numpy as np\n",
    "import pandas as pd\n",
    "import matplotlib.pyplot as plt\n",
    "from sklearn.linear_model import LogisticRegression\n",
    "from sklearn.metrics import roc_curve, auc\n",
    "from sklearn.cross_validation import train_test_split\n",
    "from sklearn.metrics import confusion_matrix, accuracy_score, precision_score, recall_score\n",
    "\n",
    "plt.style.use('seaborn-white')\n",
    "%matplotlib inline"
   ]
  },
  {
   "cell_type": "markdown",
   "metadata": {},
   "source": [
    "Some plotting functions to help you plot the ROC curve"
   ]
  },
  {
   "cell_type": "code",
   "execution_count": 3,
   "metadata": {
    "collapsed": true
   },
   "outputs": [],
   "source": [
    "# generic curve plotting function\n",
    "def auc_plotting_function(rate1, rate2, rate1_name, rate2_name, curve_name):\n",
    "    AUC = auc(rate1, rate2)\n",
    "    # Plot of a ROC curve for class 1 (has_cancer)\n",
    "    plt.figure(figsize=[11,9])\n",
    "    plt.plot(rate1, rate2, label=curve_name + ' (area = %0.2f)' % AUC, linewidth=4)\n",
    "    plt.plot([0, 1], [0, 1], 'k--', linewidth=4)\n",
    "    plt.xlim([0.0, 1.0])\n",
    "    plt.ylim([0.0, 1.05])\n",
    "    plt.xlabel(rate1_name, fontsize=18)\n",
    "    plt.ylabel(rate2_name, fontsize=18)\n",
    "    plt.title(curve_name + ' for house price > 200,000', fontsize=18)\n",
    "    plt.legend(loc=\"lower right\")\n",
    "    plt.show()\n",
    "\n",
    "# plot receiving operator characteristic curve\n",
    "def plot_roc(y_true, y_score):\n",
    "    fpr, tpr, _ = roc_curve(y_true, y_score)\n",
    "    auc_plotting_function(fpr, tpr, 'False Positive Rate', 'True Positive Rate', 'ROC')\n"
   ]
  },
  {
   "cell_type": "markdown",
   "metadata": {},
   "source": [
    "Load the Sacramento housing data"
   ]
  },
  {
   "cell_type": "code",
   "execution_count": 13,
   "metadata": {
    "collapsed": false
   },
   "outputs": [],
   "source": [
    "sac = pd.read_csv('../assets/datasets/Sacramentorealestatetransactions.csv')"
   ]
  },
  {
   "cell_type": "markdown",
   "metadata": {},
   "source": [
    "Create a binary variable where 1 indicates a house sold for over 200,000 and 0 indicates a house sold for equal to or less than 200,000.\n",
    "\n",
    "Subset the data to just contain the number of beds, baths, the sq ft, and the over 200k indicator variable."
   ]
  },
  {
   "cell_type": "code",
   "execution_count": 14,
   "metadata": {
    "collapsed": false
   },
   "outputs": [],
   "source": [
    "sac['over_200k'] = sac['price'].map(lambda x: 1 if x > 200000 else 0)\n",
    "sac = sac[['beds','baths','sq__ft','over_200k']]\n",
    "sac.dropna(inplace=True)"
   ]
  },
  {
   "cell_type": "code",
   "execution_count": 15,
   "metadata": {
    "collapsed": false
   },
   "outputs": [
    {
     "name": "stdout",
     "output_type": "stream",
     "text": [
      "   beds  baths  sq__ft  over_200k\n",
      "0     2      1     836          0\n",
      "1     3      1    1167          0\n",
      "2     2      1     796          0\n",
      "3     2      1     852          0\n",
      "4     2      1     797          0\n",
      "(985, 4)\n",
      "538\n"
     ]
    }
   ],
   "source": [
    "print sac.head()\n",
    "print sac.shape\n",
    "print np.sum(sac.over_200k)"
   ]
  },
  {
   "cell_type": "markdown",
   "metadata": {},
   "source": [
    "Split your data into training and testing sets. The predictors are the beds, baths, and sq ft. The feature is the over 200k class variable. Make the test size 33% (and optionally stratify by the over 200k class)."
   ]
  },
  {
   "cell_type": "code",
   "execution_count": 17,
   "metadata": {
    "collapsed": true
   },
   "outputs": [],
   "source": [
    "X_train, X_test, Y_train, Y_test = train_test_split(sac[['beds','baths','sq__ft']].values,\n",
    "                                                    sac.over_200k.values, \n",
    "                                                    test_size=0.33, stratify=sac.over_200k.values,\n",
    "                                                    random_state=77)"
   ]
  },
  {
   "cell_type": "markdown",
   "metadata": {},
   "source": [
    "Fit a logistic regression on the training data."
   ]
  },
  {
   "cell_type": "code",
   "execution_count": 18,
   "metadata": {
    "collapsed": false
   },
   "outputs": [],
   "source": [
    "logreg = LogisticRegression(random_state=77)\n",
    "logreg.fit(X_train, Y_train)\n",
    "Y_pred = logreg.predict(X_test)"
   ]
  },
  {
   "cell_type": "markdown",
   "metadata": {},
   "source": [
    "Print out the confusion matrix"
   ]
  },
  {
   "cell_type": "code",
   "execution_count": 19,
   "metadata": {
    "collapsed": false
   },
   "outputs": [
    {
     "name": "stdout",
     "output_type": "stream",
     "text": [
      "            predicted_over_200k  predicted_under_200k\n",
      "over_200k                   143                    35\n",
      "under_200k                   93                    55\n"
     ]
    }
   ],
   "source": [
    "conmat = np.array(confusion_matrix(Y_test, Y_pred, labels=[1,0]))\n",
    "\n",
    "confusion = pd.DataFrame(conmat, index=['over_200k', 'under_200k'],\n",
    "                         columns=['predicted_over_200k','predicted_under_200k'])\n",
    "\n",
    "print(confusion)"
   ]
  },
  {
   "cell_type": "markdown",
   "metadata": {},
   "source": [
    "Calculate the accuracy, precision, and recall. What can these three metrics tell you about your model?"
   ]
  },
  {
   "cell_type": "code",
   "execution_count": 20,
   "metadata": {
    "collapsed": false
   },
   "outputs": [
    {
     "name": "stdout",
     "output_type": "stream",
     "text": [
      "0.60736196319\n",
      "0.60593220339\n",
      "0.803370786517\n"
     ]
    }
   ],
   "source": [
    "# Accuracy tells us the percent of houses selling for over and under 200k correctly predicted\n",
    "print(accuracy_score(Y_test, Y_pred))\n",
    "\n",
    "# Precision tells us how well the classifier avoided misclassifying the over 200k houses\n",
    "print(precision_score(Y_test, Y_pred))\n",
    "\n",
    "# Recall tells us how well the classifier correctly identified houses as selling for over 200k\n",
    "print(recall_score(Y_test, Y_pred))\n",
    "\n",
    "# The difference between precision and recall can be tricky to interpret. The intuition here is\n",
    "# that precision is a measure of the QUALITY of results: of the houses labeled as over 200k,\n",
    "# how many of those were correct?\n",
    "# Recall, on the other hand, is a measure of the COMPLETENESS of results: of all the houses\n",
    "# that sold for over 200k, how many were identified by the classifier?\n",
    "# On the flip side, you can have a high precision but identify very few of the total 200k houses.\n",
    "# Likewise, you can have a high recall but also incorrectly identify many under 200k houses\n",
    "# as over 200k houses."
   ]
  },
  {
   "cell_type": "markdown",
   "metadata": {},
   "source": [
    "Say as a real estate agent, I prioritize minimizing false positives (predicting a house will sell for over 200k when it actually sells for under) because false positives make me lose money.\n",
    "\n",
    "Change the decision threshold to **lower the false positive rate** and then print out the new confusion matrix. What is the downside to lowering the false positive rate?"
   ]
  },
  {
   "cell_type": "code",
   "execution_count": 21,
   "metadata": {
    "collapsed": false
   },
   "outputs": [
    {
     "name": "stdout",
     "output_type": "stream",
     "text": [
      "            predicted_over_200k  predicted_under_200k\n",
      "over_200k                    46                   132\n",
      "under_200k                    3                   145\n"
     ]
    }
   ],
   "source": [
    "Y_pp = pd.DataFrame(logreg.predict_proba(X_test), columns=['under_200k_pp','over_200k_pp'])\n",
    "\n",
    "# change the threshold to predict over 200k to 0.7 - it is harder for the classifier to assign the over 200k label\n",
    "Y_pp['over_200k_high_thresh'] = [1 if x >= 0.70 else 0 for x in Y_pp.over_200k_pp.values]\n",
    "\n",
    "conmat_high = np.array(confusion_matrix(Y_test, Y_pp.over_200k_high_thresh.values, labels=[1,0]))\n",
    "\n",
    "confusion_high = pd.DataFrame(conmat_high, index=['over_200k', 'under_200k'],\n",
    "                              columns=['predicted_over_200k','predicted_under_200k'])\n",
    "\n",
    "print(confusion_high)\n",
    "\n",
    "# The downside to lowering the false positive rate is that the false negative rate increases."
   ]
  },
  {
   "cell_type": "markdown",
   "metadata": {},
   "source": [
    "Plot the ROC curve using the plotting function provided."
   ]
  },
  {
   "cell_type": "code",
   "execution_count": 22,
   "metadata": {
    "collapsed": false
   },
   "outputs": [
    {
     "data": {
      "image/png": "[encoded data removed]",
      "text/plain": [
       "<matplotlib.figure.Figure at 0xc9f1a90>"
      ]
     },
     "metadata": {},
     "output_type": "display_data"
    }
   ],
   "source": [
    "Y_score = logreg.decision_function(X_test)\n",
    "plot_roc(Y_test, Y_score)"
   ]
  },
  {
   "cell_type": "markdown",
   "metadata": {},
   "source": [
    "Bonus: when might precision and recall be more useful than the ROC?"
   ]
  },
  {
   "cell_type": "markdown",
   "metadata": {},
   "source": [
    "Precision and recall are more useful when the proportion of the positive class is smaller, since they are sensitive to this."
   ]
  }
 ],
 "metadata": {
  "kernelspec": {
   "display_name": "Python [Root]",
   "language": "python",
   "name": "Python [Root]"
  },
  "language_info": {
   "codemirror_mode": {
    "name": "ipython",
    "version": 2
   },
   "file_extension": ".py",
   "mimetype": "text/x-python",
   "name": "python",
   "nbconvert_exporter": "python",
   "pygments_lexer": "ipython2",
   "version": "2.7.12"
  }
 },
 "nbformat": 4,
 "nbformat_minor": 0
}
