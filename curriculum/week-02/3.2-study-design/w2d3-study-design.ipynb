{
 "cells": [
  {
   "cell_type": "markdown",
   "metadata": {
    "slideshow": {
     "slide_type": "slide"
    }
   },
   "source": [
    "# ![](https://ga-dash.s3.amazonaws.com/production/assets/logo-9f88ae6c9c3871690e33280fcf557f33.png) Study Design\n",
    "\n",
    "Week 2 | Day 3"
   ]
  },
  {
   "cell_type": "markdown",
   "metadata": {
    "slideshow": {
     "slide_type": "slide"
    }
   },
   "source": [
    "### LEARNING OBJECTIVES\n",
    "*After this lesson, you will be able to:*\n",
    "- Design an experiment\n",
    "- Demonstrate good and bad examples of study design"
   ]
  },
  {
   "cell_type": "markdown",
   "metadata": {
    "slideshow": {
     "slide_type": "slide"
    }
   },
   "source": [
    "## Experimental Design\n",
    "\n",
    "\n",
    "\n",
    "Experimental design is what puts the **_science_** in data science.\n",
    "\n",
    "Data scientists need to know how to think about, propose, construct, and analyze experiments. Proper design of experiments is crucial to the success of companies.\n",
    "\n",
    "This lecture is about the process that comes before the statistical analysis, and why it is just as important, if not more so!"
   ]
  },
  {
   "cell_type": "markdown",
   "metadata": {
    "slideshow": {
     "slide_type": "slide"
    }
   },
   "source": [
    "## But first a video\n",
    "[Power Poses](https://www.youtube.com/embed/TdU2l0i2Wh0)"
   ]
  },
  {
   "cell_type": "markdown",
   "metadata": {
    "slideshow": {
     "slide_type": "slide"
    }
   },
   "source": [
    "##  Just one problem."
   ]
  },
  {
   "cell_type": "markdown",
   "metadata": {
    "slideshow": {
     "slide_type": "fragment"
    }
   },
   "source": [
    "## It's total BS"
   ]
  },
  {
   "cell_type": "markdown",
   "metadata": {
    "slideshow": {
     "slide_type": "fragment"
    }
   },
   "source": [
    "##   Or it appears to be, because no one can reproduce her results."
   ]
  },
  {
   "cell_type": "markdown",
   "metadata": {
    "slideshow": {
     "slide_type": "slide"
    }
   },
   "source": [
    "![](http://i.imgur.com/qzArkcy.png)"
   ]
  },
  {
   "cell_type": "markdown",
   "metadata": {
    "slideshow": {
     "slide_type": "slide"
    }
   },
   "source": [
    "![](http://i.imgur.com/muiQnbF.png)"
   ]
  },
  {
   "cell_type": "markdown",
   "metadata": {
    "slideshow": {
     "slide_type": "slide"
    }
   },
   "source": [
    "## Carney's comments\n",
    "\n",
    ">We ran subjects in [chunks] and checked the effect along the way. It was something like 25 subjects run, then 10, then 7, then 5. Back then this did not seem like p-hacking. It seemed like saving money (assuming your effect size was big enough and p-value was the only issue).” Elsewhere, she notes that “The self-report [dependent variable about feelings of power] was p-hacked in that many different power questions and chosen were the ones that ‘worked.’”\n",
    "\n",
    "> Carney also highlights other problems with the way the experiments were run: For one thing, she writes, too many of the people involved were aware of the hypothesis being tested. Generally speaking, this is a bad idea, since this awareness can influence how an experiment is conducted, \n",
    "\n",
    "[Source](http://nymag.com/scienceofus/2016/09/power-poses-co-author-i-dont-think-power-poses-are-real.html)"
   ]
  },
  {
   "cell_type": "markdown",
   "metadata": {
    "slideshow": {
     "slide_type": "slide"
    }
   },
   "source": [
    "## Do not end up like this."
   ]
  },
  {
   "cell_type": "markdown",
   "metadata": {
    "slideshow": {
     "slide_type": "slide"
    }
   },
   "source": [
    "## But she isn't alone\n",
    "\n",
    "\n",
    "In fact, it has been said there is a **\"reproducability crisis\"** taking place right now.\n",
    "\n",
    "A project spearheaded by the Open Science Collaboration, **aimed to replicate 100 studies** published in three high-profile psychology journals during 2008.\n",
    "\n",
    ">The idea was to see whether there was a reproducibility problem, and if so, to stimulate efforts to address it --Brain Nosek\n",
    "\n",
    "Researchers who conducted the replication studies also asked the original authors to scrutinize the replication plan and provide feedback, and they registered their protocols in advance, publicly sharing their study designs and analysis strategies. “Most of the original authors were open and receptive,” project coordinator Mallory Kidwell told me."
   ]
  },
  {
   "cell_type": "markdown",
   "metadata": {
    "slideshow": {
     "slide_type": "slide"
    }
   },
   "source": [
    "## What were the results?\n",
    "\n",
    "Despite this careful planning, less than half of the replication studies reproduced the original results. **While 97 percent of the original studies produced results with a “statistically significant” p-value of 0.05 or less, only 36 percent of the replication studies did the same**. The mean effect sizes in the replicated results were less than half those of the original results, and 83 percent of the replicated effects were smaller than the original estimates."
   ]
  },
  {
   "cell_type": "markdown",
   "metadata": {
    "slideshow": {
     "slide_type": "slide"
    }
   },
   "source": [
    "## Exercise\n",
    "\n",
    "So clearly, reproducibility is important!\n",
    "\n",
    "Pair up and spend 5 minutes discussing what are some things that you as a data scientist would need to report in order to make your results replicable by another researcher?"
   ]
  },
  {
   "cell_type": "markdown",
   "metadata": {
    "slideshow": {
     "slide_type": "slide"
    }
   },
   "source": [
    "## Other study design problems\n",
    "\n",
    "- Coding errors\n",
    "- P-hacking\n",
    "- Under-powered studies"
   ]
  },
  {
   "cell_type": "markdown",
   "metadata": {
    "slideshow": {
     "slide_type": "slide"
    }
   },
   "source": [
    "![](http://i.imgur.com/B4bVTMn.png)"
   ]
  },
  {
   "cell_type": "markdown",
   "metadata": {
    "slideshow": {
     "slide_type": "slide"
    }
   },
   "source": [
    "## “I clicked on cell L51, and saw that they had only averaged rows 30 through 44, instead of rows 30 through 49.”"
   ]
  },
  {
   "cell_type": "markdown",
   "metadata": {
    "slideshow": {
     "slide_type": "slide"
    }
   },
   "source": [
    "## But wait, there's more\n",
    "\n",
    "![](http://i.imgur.com/pm3YXwY.png)"
   ]
  },
  {
   "cell_type": "markdown",
   "metadata": {
    "slideshow": {
     "slide_type": "slide"
    }
   },
   "source": [
    "## So what happened?\n",
    "\n",
    "By default, Excel and other popular spreadsheet applications convert some gene symbols to dates and numbers. For example, instead of writing out “Membrane-Associated Ring Finger (C3HC4) 1, E3 Ubiquitin Protein Ligase,” researchers have dubbed the gene MARCH1. Excel converts this into a date—03/01/2016, say—because that’s probably what the majority of spreadsheet users mean when they type it into a cell. Similarly, gene identifiers like “2310009E13” are converted to exponential numbers (2.31E+19). In both cases, the conversions strip out valuable information about the genes in question."
   ]
  },
  {
   "cell_type": "markdown",
   "metadata": {
    "slideshow": {
     "slide_type": "slide"
    }
   },
   "source": [
    "## P-hacking\n",
    "\n",
    "<img src=\"http://www.statisticsdonewrong.com/_images/xkcd-significant.png\", widht=800>"
   ]
  },
  {
   "cell_type": "markdown",
   "metadata": {
    "slideshow": {
     "slide_type": "slide"
    }
   },
   "source": [
    "[P-hacking Politics](http://fivethirtyeight.com/features/science-isnt-broken/#part1)"
   ]
  },
  {
   "cell_type": "markdown",
   "metadata": {
    "slideshow": {
     "slide_type": "slide"
    }
   },
   "source": [
    "## Under-powered studies\n",
    "\n",
    "What is statistical power?\n",
    "\n",
    "- The power of a study is the likelihood that it will distinguish an effect of a certain size from pure luck. A study might easily detect a huge benefit from a medication, but detecting a subtle difference is much less likely. [Source](http://www.statisticsdonewrong.com/power.html)\n",
    "\n",
    "> in one sample of studies published between 1975 and 1990 in prestigious medical journals, 27% of randomized controlled trials gave negative results, but 64% of these didn’t collect enough data to detect a 50% difference in primary outcome between treatment groups. Fifty percent! Even if one medication decreases symptoms by 50% more than the other medication, there’s insufficient data to conclude it’s more effective. And 84% of the negative trials didn’t have the power to detect a 25% difference."
   ]
  },
  {
   "cell_type": "markdown",
   "metadata": {
    "slideshow": {
     "slide_type": "slide"
    }
   },
   "source": [
    "## How likely are we to detect a biased coin?\n",
    "\n",
    "<img src=\"http://i.imgur.com/lvtgEZn.png\" width=500>\n",
    "<br>\n",
    "<img src=\"http://i.imgur.com/rScaiHV.png\" width=500>"
   ]
  },
  {
   "cell_type": "markdown",
   "metadata": {
    "slideshow": {
     "slide_type": "slide"
    }
   },
   "source": [
    "## So we've seen the bad, let's talk about the right way to design experiments"
   ]
  },
  {
   "cell_type": "markdown",
   "metadata": {
    "slideshow": {
     "slide_type": "slide"
    }
   },
   "source": [
    "<a title=\"By ArchonMagnus (Own work) [CC BY-SA 4.0 (http://creativecommons.org/licenses/by-sa/4.0)], via Wikimedia Commons\" href=\"https://commons.wikimedia.org/wiki/File%3AThe_Scientific_Method_as_an_Ongoing_Process.svg\"><img width=\"512\" alt=\"The Scientific Method as an Ongoing Process\" src=\"https://upload.wikimedia.org/wikipedia/commons/thumb/5/5c/The_Scientific_Method_as_an_Ongoing_Process.svg/512px-The_Scientific_Method_as_an_Ongoing_Process.svg.png\"/></a>"
   ]
  },
  {
   "cell_type": "markdown",
   "metadata": {
    "slideshow": {
     "slide_type": "slide"
    }
   },
   "source": [
    "## What is a hypothesis?"
   ]
  },
  {
   "cell_type": "markdown",
   "metadata": {
    "slideshow": {
     "slide_type": "fragment"
    }
   },
   "source": [
    "> A hypothesis is **a suggested solution for an unexplained occurrence that does not fit into current accepted scientific theory**. The basic idea of a hypothesis is that there is no pre-determined outcome. For a hypothesis to be termed a scientific hypothesis, **it has to be something that can be supported or refuted through carefully crafted experimentation or observation**. This is called falsifiability and testability, according to the Encyclopedia Britannica. [Source](http://www.livescience.com/21490-what-is-a-scientific-hypothesis-definition-of-hypothesis.html)"
   ]
  },
  {
   "cell_type": "markdown",
   "metadata": {
    "slideshow": {
     "slide_type": "slide"
    }
   },
   "source": [
    "## Characteristics of a good tests"
   ]
  },
  {
   "cell_type": "markdown",
   "metadata": {
    "slideshow": {
     "slide_type": "-"
    }
   },
   "source": [
    "- **S**pecific\n",
    "- **M**easurable\n",
    "- **A**chievable\n",
    "- **R**elevant\n",
    "- **T**ime/Cost Limited"
   ]
  },
  {
   "cell_type": "markdown",
   "metadata": {
    "slideshow": {
     "slide_type": "slide"
    }
   },
   "source": [
    "- Specific: The question and key success metrics are clearly defined\n",
    "- Measurable: The question is one that can be measured with your data\n",
    "- Attainable: The question you are asking is possible to answer with the data you can collect\n",
    "- Reproducible: Another person (or you in 6 months!) can replicate your analysis\n",
    "- Time-bound: The question can be answered given real-world constraints of time and money"
   ]
  },
  {
   "cell_type": "markdown",
   "metadata": {
    "slideshow": {
     "slide_type": "slide"
    }
   },
   "source": [
    "## Exercise:\n",
    "\n",
    "Spend the few minutes coming up with a hypothesis and a study design for the 2nd project.\n",
    "Be prepared to discuss your question and your strategy."
   ]
  }
 ],
 "metadata": {
  "anaconda-cloud": {},
  "celltoolbar": "Slideshow",
  "kernelspec": {
   "display_name": "Python [Root]",
   "language": "python",
   "name": "Python [Root]"
  },
  "language_info": {
   "codemirror_mode": {
    "name": "ipython",
    "version": 2
   },
   "file_extension": ".py",
   "mimetype": "text/x-python",
   "name": "python",
   "nbconvert_exporter": "python",
   "pygments_lexer": "ipython2",
   "version": "2.7.12"
  }
 },
 "nbformat": 4,
 "nbformat_minor": 0
}
