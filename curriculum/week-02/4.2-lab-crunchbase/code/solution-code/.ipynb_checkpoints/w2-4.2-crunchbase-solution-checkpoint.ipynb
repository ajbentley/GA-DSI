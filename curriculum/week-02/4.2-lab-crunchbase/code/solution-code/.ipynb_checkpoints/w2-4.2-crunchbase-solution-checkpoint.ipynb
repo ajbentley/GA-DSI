{
 "cells": [
  {
   "cell_type": "code",
   "execution_count": 1,
   "metadata": {
    "collapsed": false
   },
   "outputs": [],
   "source": [
    "import pandas as pd\n",
    "import numpy as np\n",
    "import matplotlib.pyplot as plt\n",
    "%matplotlib inline"
   ]
  },
  {
   "cell_type": "code",
   "execution_count": 2,
   "metadata": {
    "collapsed": false
   },
   "outputs": [],
   "source": [
    "# read in the raw data from the github url\n",
    "\n",
    "df = pd.read_csv(\"https://raw.githubusercontent.com/suneel0101/lesson-plan/master/crunchbase_monthly_export.csv\")"
   ]
  },
  {
   "cell_type": "markdown",
   "metadata": {},
   "source": [
    "#### 1. Clean the data. Use .apply and lambda functions where you can"
   ]
  },
  {
   "cell_type": "code",
   "execution_count": 3,
   "metadata": {
    "collapsed": false
   },
   "outputs": [
    {
     "name": "stdout",
     "output_type": "stream",
     "text": [
      "['permalink', 'name', 'homepage_url', 'category_list', ' market ', ' funding_total_usd ', 'status', 'country_code', 'state_code', 'region', 'city', 'funding_rounds', 'founded_at', 'founded_month', 'founded_quarter', 'founded_year', 'first_funding_at', 'last_funding_at', 'Unnamed: 18']\n"
     ]
    }
   ],
   "source": [
    "# rename the columns to remove spaces and extra characters\n",
    "print list(df.columns)"
   ]
  },
  {
   "cell_type": "code",
   "execution_count": 4,
   "metadata": {
    "collapsed": true
   },
   "outputs": [],
   "source": [
    "new_cols = ['permalink', 'name', 'homepage_url', 'category_list', 'market', 'funding_total_usd', 'status', 'country_code', 'state_code', 'region', 'city', 'funding_rounds', 'founded_at', 'founded_month', 'founded_quarter', 'founded_year', 'first_funding_at', 'last_funding_at', 'Unnamed: 18']\n",
    "df.columns = new_cols"
   ]
  },
  {
   "cell_type": "code",
   "execution_count": 5,
   "metadata": {
    "collapsed": false
   },
   "outputs": [
    {
     "data": {
      "text/plain": [
       "' -   '"
      ]
     },
     "execution_count": 5,
     "metadata": {},
     "output_type": "execute_result"
    }
   ],
   "source": [
    "# convert the funding, year founded, and funding_rounds columns to numeric values\n",
    "custom_null = df['funding_total_usd'][9]\n",
    "custom_null"
   ]
  },
  {
   "cell_type": "code",
   "execution_count": 6,
   "metadata": {
    "collapsed": false
   },
   "outputs": [],
   "source": [
    "df['funding_total_usd'].replace(custom_null, np.nan, inplace=True)\n",
    "\n",
    "def _dollars_to_int(x):\n",
    "    try:\n",
    "        y = (str(x)).replace(',','')\n",
    "        return int(y)\n",
    "    except:\n",
    "        pass\n",
    "        \n",
    "df['funding_total_usd'] = df['funding_total_usd'].apply(_dollars_to_int)"
   ]
  },
  {
   "cell_type": "code",
   "execution_count": 7,
   "metadata": {
    "collapsed": true
   },
   "outputs": [],
   "source": [
    "# convert category_list so that each cell is a list of categories\n",
    "df.category_list = df.category_list.apply(lambda x: (str(x)).split('|')[1:-1])"
   ]
  },
  {
   "cell_type": "code",
   "execution_count": null,
   "metadata": {
    "collapsed": false
   },
   "outputs": [],
   "source": [
    "# use value_counts on market, status, and country_code to check for any repeats or misnamed entries\n"
   ]
  },
  {
   "cell_type": "code",
   "execution_count": null,
   "metadata": {
    "collapsed": false
   },
   "outputs": [
    {
     "name": "stdout",
     "output_type": "stream",
     "text": [
      "CPU times: user 16.3 s, sys: 228 ms, total: 16.5 s\n",
      "Wall time: 16.7 s\n",
      "CPU times: user 1.44 s, sys: 121 ms, total: 1.56 s\n",
      "Wall time: 1.56 s\n",
      "CPU times: user 4.73 s, sys: 95.9 ms, total: 4.83 s\n",
      "Wall time: 5.01 s\n",
      "CPU times: user 3.4 s, sys: 88.1 ms, total: 3.49 s\n",
      "Wall time: 3.49 s\n",
      "CPU times: user 19.7 s, sys: 309 ms, total: 20.1 s\n",
      "Wall time: 20.3 s\n"
     ]
    }
   ],
   "source": [
    "# BONUS: convert the date columns to appropriate datetime objects\n",
    "%time df.founded_at = df.founded_at.apply(lambda x: pd.to_datetime(x))\n",
    "%time df.founded_at = df.founded_at.apply(lambda x: pd.to_datetime(x))\n",
    "%time df.founded_month = df.founded_month.apply(lambda x: pd.Period(x, freq= \"M\"))\n",
    "%time df.founded_quarter = df.founded_quarter.apply(lambda x: pd.Period(x, freq= \"Q\"))\n",
    "\n",
    "def _convert_time(x):\n",
    "    try:\n",
    "        return pd.to_datetime(x)\n",
    "    except:\n",
    "        return np.nan\n",
    "\n",
    "%time df.last_funding_at = df.last_funding_at.apply(_convert_time)\n",
    "%time df.first_funding_at = df.first_funding_at.apply(_convert_time)\n"
   ]
  },
  {
   "cell_type": "markdown",
   "metadata": {},
   "source": [
    "#### 2. Using isnull(), take a subset of the dataframe that has no founded at date"
   ]
  },
  {
   "cell_type": "code",
   "execution_count": null,
   "metadata": {
    "collapsed": false
   },
   "outputs": [],
   "source": [
    "df[df.founded_at.isnull()].head(2)"
   ]
  },
  {
   "cell_type": "markdown",
   "metadata": {},
   "source": [
    "#### 3. Create a new column, founded_year_x, that's a copy of founded_year. Then, replace all the missing values with either the mean , mode, or median of that column. \n",
    "Add a note explaining which statistic you picked and why:"
   ]
  },
  {
   "cell_type": "code",
   "execution_count": null,
   "metadata": {
    "collapsed": true
   },
   "outputs": [],
   "source": [
    "df['founded_year_x'] = df['founded_year'].fillna(np.median)"
   ]
  },
  {
   "cell_type": "markdown",
   "metadata": {
    "collapsed": true
   },
   "source": [
    "#### 4. Take a subset of US-based companies using boolean selection"
   ]
  },
  {
   "cell_type": "code",
   "execution_count": null,
   "metadata": {
    "collapsed": false
   },
   "outputs": [],
   "source": [
    "df[df.country_code == 'USA'].head(2)"
   ]
  },
  {
   "cell_type": "markdown",
   "metadata": {},
   "source": [
    "#### 5. Create a pivot table showing total, mean, and median funding amount by year"
   ]
  },
  {
   "cell_type": "code",
   "execution_count": null,
   "metadata": {
    "collapsed": false
   },
   "outputs": [],
   "source": [
    "df.pivot_table(index='founded_year', values = 'funding_total_usd', \\\n",
    "               aggfunc=(np.mean, np.median, sum, lambda x: len(x.unique())))"
   ]
  },
  {
   "cell_type": "markdown",
   "metadata": {},
   "source": [
    "### Optional: some of these year values seem fishy. Look at the companies with founded_year dates before 1910. Soda Stream definitely wasn't founded in 1906. Reassign founded year as an interpretation of the founded_at column.\n"
   ]
  },
  {
   "cell_type": "code",
   "execution_count": null,
   "metadata": {
    "collapsed": false
   },
   "outputs": [],
   "source": [
    "# df[df.founded_year < 1910].head()"
   ]
  },
  {
   "cell_type": "code",
   "execution_count": null,
   "metadata": {
    "collapsed": false
   },
   "outputs": [],
   "source": [
    "#Note: the x.year extracts the year from a pd Timestamp\n",
    "df['founded_year_x2'] = df.founded_at.apply(lambda x: float(x.year))"
   ]
  },
  {
   "cell_type": "code",
   "execution_count": null,
   "metadata": {
    "collapsed": false
   },
   "outputs": [],
   "source": [
    "#Limit the results to values between 1985 and 2016\n",
    "df2 = df[(df.founded_year_x2 > 1985) & (df.founded_year_x2 < 2016)]\n",
    "\n",
    "df2.pivot_table(index='founded_year_x2', values = 'funding_total_usd', \\\n",
    "               aggfunc=(np.mean, np.median, sum, lambda x: len(x.unique())))"
   ]
  },
  {
   "cell_type": "markdown",
   "metadata": {},
   "source": [
    "#### 6. Create a pivot table showing total, mean and median funding amount by market"
   ]
  },
  {
   "cell_type": "code",
   "execution_count": null,
   "metadata": {
    "collapsed": false
   },
   "outputs": [],
   "source": [
    "df.pivot_table(index='market', values='funding_total_usd', \\\n",
    "              aggfunc=(np.mean, np.median, sum, lambda x: len(x.unique())))\n",
    "#This lambda function represents count of values"
   ]
  },
  {
   "cell_type": "code",
   "execution_count": null,
   "metadata": {
    "collapsed": true
   },
   "outputs": [],
   "source": []
  }
 ],
 "metadata": {
  "kernelspec": {
   "display_name": "Python [Root]",
   "language": "python",
   "name": "Python [Root]"
  },
  "language_info": {
   "codemirror_mode": {
    "name": "ipython",
    "version": 2
   },
   "file_extension": ".py",
   "mimetype": "text/x-python",
   "name": "python",
   "nbconvert_exporter": "python",
   "pygments_lexer": "ipython2",
   "version": "2.7.12"
  }
 },
 "nbformat": 4,
 "nbformat_minor": 0
}
