{
 "cells": [
  {
   "cell_type": "code",
   "execution_count": 23,
   "metadata": {
    "collapsed": false
   },
   "outputs": [
    {
     "data": {
      "text/plain": [
       "1"
      ]
     },
     "execution_count": 23,
     "metadata": {},
     "output_type": "execute_result"
    }
   ],
   "source": [
    "import numpy as np\n",
    "\n",
    "\n",
    "# Simulating a binomial variable (e.g. seeing heads in 20 out of 30 coin flips )\n",
    "\n",
    "m=0\n",
    "for i in range(10000):\n",
    "    trials = np.random.randint(6, size = 100)\n",
    "    if (trials.sum() >= 60):\n",
    "        m +=1\n",
    "p = m / 10000\n",
    "p\n",
    "\n",
    "\n",
    "# Simulating a binomial variable (e.g. seeing heads in 20 out of 30 coin flips )\n",
    "\n",
    "# m = 0\n",
    "# for i in range(100000):\n",
    "#     trials = np.random.randint(2, size = 300)\n",
    "#     if (trials.sum() >= 150):\n",
    "#         m += 1\n",
    "# p = m / 100000.0\n",
    "# p"
   ]
  }
 ],
 "metadata": {
  "anaconda-cloud": {},
  "kernelspec": {
   "display_name": "Python [Root]",
   "language": "python",
   "name": "Python [Root]"
  },
  "language_info": {
   "codemirror_mode": {
    "name": "ipython",
    "version": 2
   },
   "file_extension": ".py",
   "mimetype": "text/x-python",
   "name": "python",
   "nbconvert_exporter": "python",
   "pygments_lexer": "ipython2",
   "version": "2.7.12"
  }
 },
 "nbformat": 4,
 "nbformat_minor": 0
}
