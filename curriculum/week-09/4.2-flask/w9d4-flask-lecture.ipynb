{
 "cells": [
  {
   "cell_type": "markdown",
   "metadata": {
    "slideshow": {
     "slide_type": "skip"
    }
   },
   "source": [
    "---\n",
    "title: Flask\n",
    "duration: \"1:00\"\n",
    "---"
   ]
  },
  {
   "cell_type": "markdown",
   "metadata": {
    "slideshow": {
     "slide_type": "slide"
    }
   },
   "source": [
    "# ![](https://ga-dash.s3.amazonaws.com/production/assets/logo-9f88ae6c9c3871690e33280fcf557f33.png) Intro to Flask Apps\n",
    "Week 9 | 4.1\n",
    "\n"
   ]
  },
  {
   "cell_type": "markdown",
   "metadata": {
    "slideshow": {
     "slide_type": "slide"
    }
   },
   "source": [
    "## Introduction\n",
    "![flask logo](http://flask.pocoo.org/static/logo/flask.png)\n",
    "Flask is a fast, lightweight way to connect your Python scripts to a server. It's a simple and robust framework that can do small tasks (create a microblog, stand up a simple API) or complex ones (Pinterest's API, create a twitter clone).\n",
    "\n",
    "Let's jump in with a simple example. Then, we'll expand it to show what it can do with your models. But first you may need to:\n",
    "\n",
    "```bash\n",
    "$ pip install Flask\n",
    "```\n",
    "\n"
   ]
  },
  {
   "cell_type": "markdown",
   "metadata": {
    "slideshow": {
     "slide_type": "slide"
    }
   },
   "source": [
    "## Hello, world.\n",
    "Create a new file called `hello.py` . Type in this code line by line. No copy pasting!\n",
    "\n",
    "```Python\n",
    "import flask\n",
    "app = flask.Flask(__name__)\n",
    "\n",
    "@app.route(\"/\")\n",
    "def hello():\n",
    "    return \"Hello World!\"\n",
    "\n",
    "if __name__ == '__main__':\n",
    "    app.run(debug=True)\n",
    "```\n",
    "\n",
    "\n"
   ]
  },
  {
   "cell_type": "markdown",
   "metadata": {
    "slideshow": {
     "slide_type": "slide"
    }
   },
   "source": [
    "Three things happen here:\n",
    "- initialize the app\n",
    "- use built-in decorators to define what happens on a page\n",
    "- launch the app\n"
   ]
  },
  {
   "cell_type": "markdown",
   "metadata": {
    "slideshow": {
     "slide_type": "slide"
    }
   },
   "source": [
    "Now launch the file from your command line:\n",
    "\n",
    "```bash\n",
    "$ python hello.py\n",
    "* Running on http://127.0.0.1:5000/ (Press CTRL+C to quit)\n",
    "```\n",
    "\n",
    "Go to that URL$^*$ to see your app running on your `localhost`.\n",
    "\n",
    "\n",
    "$^*$ Your port may not be 5000: check.\n"
   ]
  },
  {
   "cell_type": "markdown",
   "metadata": {
    "slideshow": {
     "slide_type": "slide"
    }
   },
   "source": [
    "### Arguments and styling\n",
    "\n",
    "Add the following route underneath the hello() function:\n",
    "\n",
    "```Python\n",
    "@app.route('/greet/<name>')\n",
    "def greet(name):\n",
    "    '''Say hello to your first parameter'''\n",
    "    return \"Hello, %s!\" %name\n",
    "```\n",
    "Save and relaunch the app. Now navigate to `http://127.0.0.1:5000/greet/Roger`. Your function should respond to that input!\n",
    "\n"
   ]
  },
  {
   "cell_type": "markdown",
   "metadata": {
    "slideshow": {
     "slide_type": "slide"
    }
   },
   "source": [
    "Since the `return` statement sends text to an HTML page, you can style it with HTML tags:\n",
    "\n",
    "```Python\n",
    "@app.route(\"/\")\n",
    "def hello():\n",
    "    return '''\n",
    "    <body>\n",
    "    <h2> Hello World! <h2>\n",
    "    </body>\n",
    "    '''\n",
    "```\n",
    "We can also call a function, but let's get into that a little later.\n",
    "\n"
   ]
  },
  {
   "cell_type": "markdown",
   "metadata": {
    "slideshow": {
     "slide_type": "slide"
    }
   },
   "source": [
    "## Add in machine learning\n",
    "We can use Flask as a way to share and host our machine learning predictions.\n",
    "\n",
    "In the titanic_app folder, create a new file `titanic_app.py`. Import and initialize the flask app, and launch the server at the bottom. Leave room in the middle to add in your model and routes later on.\n",
    "\n",
    "```Python\n",
    "import flask\n",
    "app = flask.Flask(__name__)\n",
    "\n",
    "#-------- MODEL GOES HERE -----------#\n",
    "\n",
    "#-------- ROUTES GO HERE -----------#\n",
    "\n",
    "if __name__ == '__main__':\n",
    "    '''Connects to the server'''\n",
    "\n",
    "    HOST = '127.0.0.1'\n",
    "    PORT = '4000'\n",
    "    app.run(HOST, PORT)\n",
    "```\n",
    "\n",
    "Note that this time we specifed the host and port we want the app to run on.\n",
    "\n"
   ]
  },
  {
   "cell_type": "markdown",
   "metadata": {
    "slideshow": {
     "slide_type": "slide"
    }
   },
   "source": [
    "### Create and Train a Model\n",
    "Load in the titanic dataset and create a model on it:\n",
    "\n",
    "```Python\n",
    "#-------- MODEL GOES HERE -----------#\n",
    "import numpy as np\n",
    "import pandas as pd\n",
    "from sklearn.ensemble import RandomForestClassifier\n",
    "\n",
    "df = pd.read_csv('assets/datasets/titanic.csv')\n",
    "include = ['Pclass', 'Sex', 'Age', 'Fare', 'SibSp', 'Survived']\n",
    "\n",
    "# Create dummies and drop NaNs\n",
    "df['Sex'] = df['Sex'].apply(lambda x: 0 if x == 'male' else 1)\n",
    "df = df[include].dropna()\n",
    "\n",
    "X = df[['Pclass', 'Sex', 'Age', 'Fare', 'SibSp']]\n",
    "y = df['Survived']\n",
    "\n",
    "PREDICTOR = RandomForestClassifier(n_estimators=100).fit(X, y)\n",
    "```\n"
   ]
  },
  {
   "cell_type": "markdown",
   "metadata": {
    "slideshow": {
     "slide_type": "slide"
    }
   },
   "source": [
    "You could also train and test your model in a Jupyter notebook and pickle the fitted model. In that case your code would look something like this:\n",
    "\n",
    "```Python\n",
    "with open('picked_model.pkl', 'r') as picklefile:\n",
    "    PREDICTOR = pickle.load(picklefile)\n",
    "```\n",
    "\n",
    "\n"
   ]
  },
  {
   "cell_type": "markdown",
   "metadata": {
    "slideshow": {
     "slide_type": "slide"
    }
   },
   "source": [
    "### Make a simple API\n",
    "Here's the fun part. Now that we have a `PREDICTOR`, we need to get some values to make our predictions.\n",
    "\n",
    "One way to do this is to get information from the **URL parameters**. These are the part of a URL that come after the `?` and are matched by key:value pairs. For example, if you navigate to:\n",
    "`http://localhost:4000/predict?pclass=1&sex=1&age=18&fare=500&sibsp=0`\n",
    "Flask can retrieve that data for you.\n",
    "\n",
    "Let's write a route to do just that:\n"
   ]
  },
  {
   "cell_type": "markdown",
   "metadata": {
    "slideshow": {
     "slide_type": "slide"
    }
   },
   "source": [
    "```Python\n",
    "#-------- ROUTES GO HERE -----------#\n",
    "@app.route('/predict', methods=[\"GET\"])\n",
    "def predict():\n",
    "    pclass = flask.request.args['pclass']\n",
    "    sex = flask.request.args['sex']\n",
    "    age = flask.request.args['age']\n",
    "    fare = flask.request.args['fare']\n",
    "    sibsp = flask.request.args['sibsp']\n",
    "\n",
    "    item = [pclass, sex, age, fare, sibsp]\n",
    "    score = PREDICTOR.predict_proba(item)\n",
    "    results = {'survival chances': score[0,1], 'death chances': score[0,0]}\n",
    "    return flask.jsonify(results)\n",
    "```"
   ]
  },
  {
   "cell_type": "markdown",
   "metadata": {
    "slideshow": {
     "slide_type": "slide"
    }
   },
   "source": [
    "And... voila! Save the file. Launch your app. You now have a simple API for your model.  \n",
    "\n",
    "Play with the parameters in the URL. You should get the predicted probability of death and survival.\n"
   ]
  },
  {
   "cell_type": "markdown",
   "metadata": {
    "slideshow": {
     "slide_type": "slide"
    }
   },
   "source": [
    "## Make a simple webform.\n",
    "Well that was exciting. But it doesn't look very nice. Let's create a simple webform to read in the inputs.\n",
    "\n",
    "Create a file `page.html`. \n",
    "```html\n",
    "<html>\n",
    "  <head>\n",
    "    <title> Titanic Survivor-O-Matic </title>\n",
    "  </head>\n",
    "   <body>\n",
    "\n",
    "      <form action = \"http://localhost:4000/result\" method = \"POST\">\n",
    "         <p>Class <input type = \"int\" name = \"pclass\" /></p>\n",
    "         <p>Sex <input type = \"int\" name = \"sex\" /></p>\n",
    "         <p>Age <input type = \"int\" name = \"age\" /></p>\n",
    "         <p>Fare <input type =\"int\" name = \"fare\" /></p>\n",
    "         <p># of siblings <input type =\"int\" name = \"sibsp\" /></p>\n",
    "\n",
    "         <p><input type = \"submit\" value = \"submit\" /></p>\n",
    "      </form>\n",
    "\n",
    "   </body>\n",
    "</html>\n",
    "```\n",
    "\n"
   ]
  },
  {
   "cell_type": "markdown",
   "metadata": {
    "slideshow": {
     "slide_type": "slide"
    }
   },
   "source": [
    "Flask knows how to read `form` tags in an HTML file that have been `POST`ed to the server.\n",
    "\n",
    "Add two new decorators in below your first one. Write all this text out, don't copy paste:\n",
    "\n",
    "\n",
    "\n"
   ]
  },
  {
   "cell_type": "markdown",
   "metadata": {
    "slideshow": {
     "slide_type": "slide"
    }
   },
   "source": [
    "```Python\n",
    "#---------- CREATING AN API, METHOD 2 ----------------#\n",
    "\n",
    "# This method takes input via an HTML page\n",
    "@app.route('/page')\n",
    "def page():\n",
    "   with open(\"page.html\", 'r') as viz_file:\n",
    "       return viz_file.read()\n",
    "\n",
    "@app.route('/result', methods=['POST', 'GET'])\n",
    "def result():\n",
    "    '''Gets prediction using the HTML form'''\n",
    "    if flask.request.method == 'POST':\n",
    "\n",
    "       inputs = flask.request.form\n",
    "\n",
    "       pclass = inputs['pclass'][0]\n",
    "       sex = inputs['sex'][0]\n",
    "       age = inputs['age'][0]\n",
    "       fare = inputs['fare'][0]\n",
    "       sibsp = inputs['sibsp'][0]\n",
    "\n",
    "       item = np.array([pclass, sex, age, fare, sibsp])\n",
    "       score = PREDICTOR.predict_proba(item)\n",
    "       results = {'survival chances': score[0,1], 'death chances': score[0,0]}\n",
    "       return flask.jsonify(results)\n",
    "\n",
    "```"
   ]
  },
  {
   "cell_type": "markdown",
   "metadata": {
    "slideshow": {
     "slide_type": "slide"
    }
   },
   "source": [
    "Save, close, and relaunch the app. Go to `http://127.0.0.1:4000/page` and type in your inputs.\n",
    "\n",
    "Both methods should still be there. You can either play with the URL parameters at `/predict` or enter them at `/page`\n",
    "\n",
    "\n"
   ]
  },
  {
   "cell_type": "markdown",
   "metadata": {
    "slideshow": {
     "slide_type": "slide"
    }
   },
   "source": [
    "## Independent Practice\n",
    "See if you can customize and play around with the app you just built. Try the following things:\n",
    "- Comment through the code so you understand what's happening.\n",
    "- Make the app look nicer by playing with the HTML.\n",
    "- Change the model or the features used for prediction.\n",
    "- See if you can return more values to the page, like the predicted class, or the model's parameters.\n",
    "- Modularize! Take the modeling code out of this file. Fit the model in a different .py file or a Jupyter notebook. Pickle the model and load it your app.\n",
    "\n"
   ]
  },
  {
   "cell_type": "markdown",
   "metadata": {
    "slideshow": {
     "slide_type": "slide"
    }
   },
   "source": [
    "## Examples\n",
    "Here are some examples of Flask apps in action. Fork and clone the apps you like so you can play with them and edit them on your local machine.\n",
    "\n",
    "Two apps using scikit-learn:\n",
    "- [Visualizing the Iris dataset using Flask and Angular JS](https://github.com/ColCarroll/flask_angular_example)\n",
    "- [Using Neural Nets to recognize images](https://github.com/mdlai/digit_recognition)\n",
    "\n",
    "More websites built in Flask:\n",
    "- [The Flask Website itself!](http://flask.pocoo.org/)\n",
    "- [A reddit clone](https://github.com/codelucas/flask_reddit)\n",
    "\n"
   ]
  },
  {
   "cell_type": "markdown",
   "metadata": {
    "slideshow": {
     "slide_type": "slide"
    }
   },
   "source": [
    "## Additional Resources\n",
    "\n",
    "- [The Flask Documentation](http://flask.pocoo.org/docs/0.11/)\n",
    "- [A Flask tutorial to follow along with](https://github.com/miguelgrinberg/flask-pycon2014)\n",
    "- [Another tutorial that gets into CSS styling](https://code.tutsplus.com/tutorials/an-introduction-to-pythons-flask-framework--net-28822)\n",
    "- [The Flask mega tutorial](http://blog.miguelgrinberg.com/post/the-flask-mega-tutorial-part-ii-templates)"
   ]
  }
 ],
 "metadata": {
  "anaconda-cloud": {},
  "celltoolbar": "Slideshow",
  "kernelspec": {
   "display_name": "Python [Root]",
   "language": "python",
   "name": "Python [Root]"
  },
  "language_info": {
   "codemirror_mode": {
    "name": "ipython",
    "version": 2
   },
   "file_extension": ".py",
   "mimetype": "text/x-python",
   "name": "python",
   "nbconvert_exporter": "python",
   "pygments_lexer": "ipython2",
   "version": "2.7.12"
  }
 },
 "nbformat": 4,
 "nbformat_minor": 0
}
