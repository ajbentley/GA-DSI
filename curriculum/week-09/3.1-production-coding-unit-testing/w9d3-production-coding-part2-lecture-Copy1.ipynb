{
 "cells": [
  {
   "cell_type": "markdown",
   "metadata": {
    "slideshow": {
     "slide_type": "skip"
    }
   },
   "source": [
    "---\n",
    "title: Production code: unit testing, refactoring, and PEP-8\n",
    "duration: \"1:25\"\n",
    "creator:\n",
    "    name: Winston Featherly-Bean\n",
    "    city: NY\n",
    "---"
   ]
  },
  {
   "cell_type": "markdown",
   "metadata": {
    "slideshow": {
     "slide_type": "slide"
    }
   },
   "source": [
    "![](https://ga-dash.s3.amazonaws.com/production/assets/logo-9f88ae6c9c3871690e33280fcf557f33.png)\n",
    "# Production code: unit testing, refactoring, and PEP-8\n",
    "Week 9 | Lesson 3.1\n"
   ]
  },
  {
   "cell_type": "markdown",
   "metadata": {
    "slideshow": {
     "slide_type": "slide"
    }
   },
   "source": [
    "### LEARNING OBJECTIVES\n",
    "*After this lesson, you will be able to:*\n",
    "- Write unit tests and run them as a suite\n",
    "- Identify examples of code that could be refactored"
   ]
  },
  {
   "cell_type": "markdown",
   "metadata": {
    "slideshow": {
     "slide_type": "slide"
    }
   },
   "source": [
    "### Software engineer: You didn't check your code and your tests into master without a code review, did you?\n",
    "\n",
    "\n",
    "### Data Scientist: Checked my what into what without a what?\n",
    "\n",
    "#### - Software development skills for data scientists (http://treycausey.com/software_dev_skills.html)"
   ]
  },
  {
   "cell_type": "markdown",
   "metadata": {
    "slideshow": {
     "slide_type": "slide"
    }
   },
   "source": [
    "### LESSON GUIDE\n",
    "| TIMING  | TYPE  | TOPIC  |\n",
    "|:-:|---|---|\n",
    "| 5 min | [Opening](#opening) | Opening |\n",
    "| 50 min | [Unit testing](#unit-testing) | Unit testing |\n",
    "| 25 min | [Refactoring](#refactoring) | Refactoring |\n",
    "| 5 min | [Conclusion](#conclusion) | Conclusion |"
   ]
  },
  {
   "cell_type": "markdown",
   "metadata": {
    "slideshow": {
     "slide_type": "slide"
    }
   },
   "source": [
    "## Unit testing\n",
    "\n",
    "Testing for bugs is ubiquitous within software development. There are structured frameworks for doing this.\n",
    "\n",
    "_Unit testing_ is testing the most granular components of your code, e.g. specific functions, to look for syntax, logic and execution errors.\n",
    "\n",
    "If your job is data analysis, rather than building data products, you'll probably get away without formal testing. But it's still a good idea. It will sharpen your code, ease collaboration, and make _refactoring_ less fretful.   "
   ]
  },
  {
   "cell_type": "markdown",
   "metadata": {
    "slideshow": {
     "slide_type": "fragment"
    }
   },
   "source": [
    "There are several frameworks for unit testing in Python. We'll use `pytest` today:\n",
    "\n",
    "```bash\n",
    "pip install -U pytest\n",
    "```\n",
    "\n",
    "`pytest` is popular because it simplifies the code required to write and run tests. But you should also get familiar with the base [unittest/PyUnit library](https://docs.python.org/2/library/unittest.html)."
   ]
  },
  {
   "cell_type": "markdown",
   "metadata": {
    "slideshow": {
     "slide_type": "slide"
    }
   },
   "source": [
    "Your initial tests can be written based on your program specifications: what are its functions supposed to _do_? Let's say we have these trivial functions:\n",
    "\n",
    "```python\n",
    "\n",
    "def rectangle_area(w,h):\n",
    "    return w*h\n",
    "\n",
    "def strip_stopwords(phrase, stopwords):\n",
    "    phrase = phrase.split()\n",
    "    phrase = [w for w in phrase if w not in stopwords]\n",
    "    phrase = ' '.join(phrase)\n",
    "    return phrase\n",
    "```"
   ]
  },
  {
   "cell_type": "markdown",
   "metadata": {
    "slideshow": {
     "slide_type": "slide"
    }
   },
   "source": [
    "If these were in a file (module) named `example.py`, then a pytest `test.py` file could look like:\n",
    "\n",
    "```python\n",
    "import pytest\n",
    "import examples\n",
    "\n",
    "def test_area_calculation():\n",
    "    assert examples.rectangle_area(10,2) == 20\n",
    "    \n",
    "def test_stopwords():\n",
    "    sentence = \"the quick brown fox jumped over the lazy dog\"\n",
    "    stopwords = ['the', 'an', 'a', 'of', 'to']\n",
    "    assert examples.strip_stopwords(sentence, stopwords) == 'quick brown fox jumped over lazy dog'\n",
    "```\n",
    "\n",
    "We could `assert` any Boolean condition, e.g.:\n",
    "```python\n",
    "assert examples.strip_stopwords(sentence, stopwords) != 'the quick brown fox jumped over the lazy dog'\n",
    "```"
   ]
  },
  {
   "cell_type": "markdown",
   "metadata": {
    "slideshow": {
     "slide_type": "slide"
    }
   },
   "source": [
    "It is also important to consider what your code should _not_ do, i.e., when should it fail and what exceptions should it raise? Our area calculation function should only work with numeric types:\n",
    "\n",
    "```python\n",
    "def test_area_type_handling():\n",
    "    with pytest.raises(TypeError):\n",
    "        examples.rectangle_area(5,'testing')\n",
    "```\n",
    "\n",
    "`assert` and `with pytest.raises(___Error): ....` are two workhorse commands."
   ]
  },
  {
   "cell_type": "markdown",
   "metadata": {
    "slideshow": {
     "slide_type": "slide"
    }
   },
   "source": [
    "### Guided practice: running a test suite\n",
    "\n",
    "A basic unit testing battery requires a couple things:\n",
    "\n",
    "- A script with your test functions, each of which has a name starting with \"test\"\n",
    "- The module you want to test (for simplicity, in the same directory)\n",
    "\n",
    "Py.test will automatically detect and run your tests for you. Let's try it! The bash command is:\n",
    "\n",
    "```bash\n",
    "py.test [-v] test_script.py\n",
    "```"
   ]
  },
  {
   "cell_type": "markdown",
   "metadata": {
    "slideshow": {
     "slide_type": "slide"
    }
   },
   "source": [
    "Often you will need to test methods of classes - and for this you may need to instantiate the class with specific values. Take yesterday's Game of War code, for example:\n",
    "\n",
    "```python\n",
    "class War():\n",
    "    def __init__(self):\n",
    "\n",
    "        self.newDeck = Deck()\n",
    "        self.newDeck.shuffle()\n",
    "        \n",
    "        self.handOne = Hand()\n",
    "        self.handTwo = Hand()\n",
    "        self.tableau = Hand()\n",
    "        return\n",
    "\n",
    "        \n",
    "    def deal(self):\n",
    "        while len(self.newDeck.cards) > 0:\n",
    "            self.handOne.add_card(self.newDeck.draw_card()) # add one card to handOne\n",
    "            self.handTwo.add_card(self.newDeck.draw_card())\n",
    "        return\n",
    " ```"
   ]
  },
  {
   "cell_type": "markdown",
   "metadata": {
    "slideshow": {
     "slide_type": "slide"
    }
   },
   "source": [
    "Let's say we want to make sure that `deal` leaves handOne and handTwo with an equal number of cards. Our initialization (right now) ensures that they do. So how could we make sure our test will work when it needs to?\n",
    "\n",
    "\"Fixtures\". They're a little involved, but the basic syntax is:\n",
    "\n",
    "```python\n",
    "@pytest.fixture()\n",
    "def setup():\n",
    "\tw = cardgames.War()\n",
    "    w.handOne.add_card(cardgames.Card())\n",
    "\treturn w\n",
    "\n",
    "def test_equal_hands(setup):\n",
    "    setup.deal()\n",
    "    assert len(setup.handOne.cards) == len(setup.handTwo.cards)\n",
    "```\n"
   ]
  },
  {
   "cell_type": "markdown",
   "metadata": {
    "slideshow": {
     "slide_type": "slide"
    }
   },
   "source": [
    "### Independent practice: writing test functions\n",
    "\n",
    "Let's take a step toward production! Add at least one more unit test for the trivial example functions, and two more unit tests for the Game of War solution code (or your version). "
   ]
  },
  {
   "cell_type": "code",
   "execution_count": 2,
   "metadata": {
    "collapsed": false
   },
   "outputs": [
    {
     "ename": "MultipleInstanceError",
     "evalue": "Multiple incompatible subclass instances of TerminalIPythonApp are being created.",
     "output_type": "error",
     "traceback": [
      "\u001b[0;31m---------------------------------------------------------------------------\u001b[0m",
      "\u001b[0;31mMultipleInstanceError\u001b[0m                     Traceback (most recent call last)",
      "\u001b[0;32m<ipython-input-2-9ae705a1e6ab>\u001b[0m in \u001b[0;36m<module>\u001b[0;34m()\u001b[0m\n\u001b[1;32m    166\u001b[0m \u001b[0;34m\u001b[0m\u001b[0m\n\u001b[1;32m    167\u001b[0m \u001b[0;32mif\u001b[0m \u001b[0m__name__\u001b[0m \u001b[0;34m==\u001b[0m \u001b[0;34m\"__main__\"\u001b[0m\u001b[0;34m:\u001b[0m\u001b[0;34m\u001b[0m\u001b[0m\n\u001b[0;32m--> 168\u001b[0;31m     \u001b[0mw\u001b[0m \u001b[0;34m=\u001b[0m \u001b[0mWar\u001b[0m\u001b[0;34m(\u001b[0m\u001b[0;34m)\u001b[0m\u001b[0;34m\u001b[0m\u001b[0m\n\u001b[0m\u001b[1;32m    169\u001b[0m     \u001b[0mw\u001b[0m\u001b[0;34m.\u001b[0m\u001b[0mdeal\u001b[0m\u001b[0;34m(\u001b[0m\u001b[0;34m)\u001b[0m\u001b[0;34m\u001b[0m\u001b[0m\n\u001b[1;32m    170\u001b[0m     \u001b[0mcounter\u001b[0m \u001b[0;34m=\u001b[0m \u001b[0;36m0\u001b[0m\u001b[0;34m\u001b[0m\u001b[0m\n",
      "\u001b[0;32m<ipython-input-2-9ae705a1e6ab>\u001b[0m in \u001b[0;36m__init__\u001b[0;34m(self)\u001b[0m\n\u001b[1;32m     11\u001b[0m     \u001b[0;34m\"\"\" INCOMPLETE example -- how can you build on this?\"\"\"\u001b[0m\u001b[0;34m\u001b[0m\u001b[0m\n\u001b[1;32m     12\u001b[0m     \u001b[0;32mdef\u001b[0m \u001b[0m__init__\u001b[0m\u001b[0;34m(\u001b[0m\u001b[0mself\u001b[0m\u001b[0;34m)\u001b[0m\u001b[0;34m:\u001b[0m\u001b[0;34m\u001b[0m\u001b[0m\n\u001b[0;32m---> 13\u001b[0;31m         \u001b[0;32mimport\u001b[0m \u001b[0mipdb\u001b[0m\u001b[0;34m;\u001b[0m \u001b[0mipdb\u001b[0m\u001b[0;34m.\u001b[0m\u001b[0mset_trace\u001b[0m\u001b[0;34m(\u001b[0m\u001b[0;34m)\u001b[0m\u001b[0;34m\u001b[0m\u001b[0m\n\u001b[0m\u001b[1;32m     14\u001b[0m \u001b[0;34m\u001b[0m\u001b[0m\n\u001b[1;32m     15\u001b[0m         \u001b[0;31m# refactoring: could reuse newDeck as tableau?\u001b[0m\u001b[0;34m\u001b[0m\u001b[0;34m\u001b[0m\u001b[0m\n",
      "\u001b[0;32m/Users/ajbentley/anaconda/lib/python2.7/site-packages/ipdb/__init__.py\u001b[0m in \u001b[0;36m<module>\u001b[0;34m()\u001b[0m\n\u001b[1;32m      5\u001b[0m \u001b[0;31m# https://opensource.org/licenses/BSD-3-Clause\u001b[0m\u001b[0;34m\u001b[0m\u001b[0;34m\u001b[0m\u001b[0m\n\u001b[1;32m      6\u001b[0m \u001b[0;34m\u001b[0m\u001b[0m\n\u001b[0;32m----> 7\u001b[0;31m \u001b[0;32mfrom\u001b[0m \u001b[0mipdb\u001b[0m\u001b[0;34m.\u001b[0m\u001b[0m__main__\u001b[0m \u001b[0;32mimport\u001b[0m \u001b[0mset_trace\u001b[0m\u001b[0;34m,\u001b[0m \u001b[0mpost_mortem\u001b[0m\u001b[0;34m,\u001b[0m \u001b[0mpm\u001b[0m\u001b[0;34m,\u001b[0m \u001b[0mrun\u001b[0m             \u001b[0;31m# noqa\u001b[0m\u001b[0;34m\u001b[0m\u001b[0m\n\u001b[0m\u001b[1;32m      8\u001b[0m \u001b[0;32mfrom\u001b[0m \u001b[0mipdb\u001b[0m\u001b[0;34m.\u001b[0m\u001b[0m__main__\u001b[0m \u001b[0;32mimport\u001b[0m \u001b[0mruncall\u001b[0m\u001b[0;34m,\u001b[0m \u001b[0mruneval\u001b[0m\u001b[0;34m,\u001b[0m \u001b[0mlaunch_ipdb_on_exception\u001b[0m  \u001b[0;31m# noqa\u001b[0m\u001b[0;34m\u001b[0m\u001b[0m\n\u001b[1;32m      9\u001b[0m \u001b[0;34m\u001b[0m\u001b[0m\n",
      "\u001b[0;32m/Users/ajbentley/anaconda/lib/python2.7/site-packages/ipdb/__main__.py\u001b[0m in \u001b[0;36m<module>\u001b[0;34m()\u001b[0m\n\u001b[1;32m     56\u001b[0m     \u001b[0;31m# the instance method will create a new one without loading the config.\u001b[0m\u001b[0;34m\u001b[0m\u001b[0;34m\u001b[0m\u001b[0m\n\u001b[1;32m     57\u001b[0m     \u001b[0;31m# i.e: if we are in an embed instance we do not want to load the config.\u001b[0m\u001b[0;34m\u001b[0m\u001b[0;34m\u001b[0m\u001b[0m\n\u001b[0;32m---> 58\u001b[0;31m     \u001b[0mipapp\u001b[0m \u001b[0;34m=\u001b[0m \u001b[0mTerminalIPythonApp\u001b[0m\u001b[0;34m.\u001b[0m\u001b[0minstance\u001b[0m\u001b[0;34m(\u001b[0m\u001b[0;34m)\u001b[0m\u001b[0;34m\u001b[0m\u001b[0m\n\u001b[0m\u001b[1;32m     59\u001b[0m     \u001b[0mshell\u001b[0m \u001b[0;34m=\u001b[0m \u001b[0mget_ipython\u001b[0m\u001b[0;34m(\u001b[0m\u001b[0;34m)\u001b[0m\u001b[0;34m\u001b[0m\u001b[0m\n\u001b[1;32m     60\u001b[0m     \u001b[0mdef_colors\u001b[0m \u001b[0;34m=\u001b[0m \u001b[0mshell\u001b[0m\u001b[0;34m.\u001b[0m\u001b[0mcolors\u001b[0m\u001b[0;34m\u001b[0m\u001b[0m\n",
      "\u001b[0;32m/Users/ajbentley/anaconda/lib/python2.7/site-packages/traitlets/config/configurable.pyc\u001b[0m in \u001b[0;36minstance\u001b[0;34m(cls, *args, **kwargs)\u001b[0m\n\u001b[1;32m    421\u001b[0m             raise MultipleInstanceError(\n\u001b[1;32m    422\u001b[0m                 \u001b[0;34m'Multiple incompatible subclass instances of '\u001b[0m\u001b[0;34m\u001b[0m\u001b[0m\n\u001b[0;32m--> 423\u001b[0;31m                 \u001b[0;34m'%s are being created.'\u001b[0m \u001b[0;34m%\u001b[0m \u001b[0mcls\u001b[0m\u001b[0;34m.\u001b[0m\u001b[0m__name__\u001b[0m\u001b[0;34m\u001b[0m\u001b[0m\n\u001b[0m\u001b[1;32m    424\u001b[0m             )\n\u001b[1;32m    425\u001b[0m \u001b[0;34m\u001b[0m\u001b[0m\n",
      "\u001b[0;31mMultipleInstanceError\u001b[0m: Multiple incompatible subclass instances of TerminalIPythonApp are being created."
     ]
    }
   ],
   "source": [
    "import random\n",
    "import logging\n",
    "logging.basicConfig(filename='cards.log', filemode='w',\\\n",
    "    format='%(asctime)s %(levelname)s:%(message)s',level=logging.DEBUG)\n",
    "\n",
    "log = logging.getLogger(__name__)\n",
    "\n",
    "\n",
    "\n",
    "\n",
    "class War():\n",
    "    \"\"\" INCOMPLETE example -- how can you build on this?\"\"\"\n",
    "    def __init__(self):\n",
    "        import ipdb; ipdb.set_trace()\n",
    "\n",
    "        # refactoring: could reuse newDeck as tableau?\n",
    "        self.newDeck = Deck()\n",
    "        self.newDeck.shuffle()\n",
    "        \n",
    "        self.handOne = Hand()\n",
    "        self.handTwo = Hand()\n",
    "        self.tableau = Hand()\n",
    "        log.debug('Created newDeck, handOne, handTwo and tableau instances')\n",
    "        return\n",
    "\n",
    "        \n",
    "    def deal(self):\n",
    "        import ipdb; ipdb.set_trace()\n",
    "        while len(self.newDeck.cards) > 0:\n",
    "            self.handOne.add_card(self.newDeck.draw_card()) # add one card to handOne\n",
    "            self.handTwo.add_card(self.newDeck.draw_card())\n",
    "            log.debug('Added to hands, {} left in deck'.format(len(self.newDeck.cards)))\n",
    "        return\n",
    "\n",
    "    def turn(self):\n",
    "        import ipdb; ipdb.set_trace()\n",
    "        # each hand draw its top card\n",
    "        self.cardOne = self.handOne.cards.pop()\n",
    "        self.cardTwo = self.handTwo.cards.pop()\n",
    "\n",
    "        self.tableau.add_card(self.cardOne)\n",
    "        self.tableau.add_card(self.cardTwo)\n",
    "        log.debug('Drew two cards: {0} and {1}'.format(str(self.cardOne), str(self.cardTwo)))\n",
    "        \n",
    "        # check if the cards are equal\n",
    "        # if it's true, then go to war\n",
    "        # if it's false then see which is greater\n",
    "\n",
    "        if self.cardOne.is_equal(self.cardTwo):\n",
    "            # the code for war\n",
    "            # we have draw three top cards from each hand\n",
    "            # then draw the fourth top card from each and comapre\n",
    "            # then either repeat or add the tableau randomly to the winner's hand\n",
    "            # highly imperative style rather than functional\n",
    "            self.message = \"war!\"\n",
    "            for i in range(3):\n",
    "                self.tableau.add_card(self.handOne.cards.pop())\n",
    "                self.tableau.add_card(self.handTwo.cards.pop())\n",
    "            \n",
    "            # Call turn again, this time with more cards in tableau\n",
    "            log.info(\"War! There are {} cards in tableau\".format(len(self.tableau.cards)))\n",
    "            self.turn()\n",
    "\n",
    "        else:\n",
    "            if self.cardOne.greater_than(self.cardTwo):\n",
    "                # giving the cards to hand one\n",
    "                self.message = \"player 1 wins round\"\n",
    "                log.info('player 1 wins round and adds {} cards to their hand of {}'.format(len(self.tableau.cards),len(self.handOne.cards)))\n",
    "                \n",
    "                # add self.cardOne and self.cardTwo into self.handOne.cards\n",
    "                # they must go onto the bottom of self.handOne.cards\n",
    "                # and they must go onto the bottom in random order\n",
    "                while len(self.tableau.cards) > 0:\n",
    "                    self.handOne.cards.insert(0,self.tableau.draw_card())\n",
    "                \n",
    "                log.debug('player 1 has {} cards'.format(len(self.handOne.cards)))\n",
    "\n",
    "\n",
    "            else:\n",
    "                # give the cards to hand two\n",
    "                self.message = \"player 2 wins round\"\n",
    "                log.info('player 2 wins round and adds {} cards to their hand of {}'.format(len(self.tableau.cards),len(self.handTwo.cards)))\n",
    "                \n",
    "                while len(self.tableau.cards) > 0:\n",
    "                    self.handTwo.cards.insert(0,self.tableau.draw_card())\n",
    "                \n",
    "                log.debug('player 2 has {} cards'.format(len(self.handTwo.cards)))\n",
    "\n",
    "        return self.message\n",
    "\n",
    "    # def play_game(self):\n",
    "\n",
    "class Card():\n",
    "    '''A standard playing card'''\n",
    "    \n",
    "    def __init__(self, suit=0, rank=2):\n",
    "        import ipdb; ipdb.set_trace()\n",
    "        self.suit = suit\n",
    "        self.rank = rank\n",
    "        \n",
    "    suit_names = ['Clubs', 'Diamonds', 'Hearts', 'Spades']\n",
    "    rank_names = [None, 'Ace', '2', '3', '4', '5', '6', '7', '8', \\\n",
    "                 '9', '10', 'Jack', 'Queen', 'King']\n",
    "    \n",
    "    def __str__(self):\n",
    "        import ipdb; ipdb.set_trace()\n",
    "        return \"%s of %s\" % (Card.rank_names[self.rank], \\\n",
    "                            Card.suit_names[self.suit])\n",
    "    \n",
    "    def greater_than(self, other):\n",
    "        import ipdb; ipdb.set_trace()\n",
    "        # YOUR CODE HERE\n",
    "        if other.rank == 1:\n",
    "            return False            \n",
    "        else:\n",
    "            return self.rank > other.rank\n",
    "        \n",
    "    def is_equal(self, other):\n",
    "        import ipdb; ipdb.set_trace()\n",
    "        if self.rank == other.rank:\n",
    "            return True\n",
    "        else:\n",
    "            return False\n",
    "\n",
    "class Deck():\n",
    "    '''52 unique cards. No jokers.'''\n",
    "    \n",
    "    def __init__(self):\n",
    "        import ipdb; ipdb.set_trace()\n",
    "        self.cards = []\n",
    "        for suit in range(4):\n",
    "            for rank in range(1,14):\n",
    "                card = Card(suit, rank)\n",
    "                self.cards.append(card)\n",
    "                \n",
    "    def __str__(self):\n",
    "        import ipdb; ipdb.set_trace()\n",
    "        results = []\n",
    "        for card in self.cards:\n",
    "            results.append(str(card))\n",
    "        return '\\n'.join(results)\n",
    "    \n",
    "    def draw_card(self):\n",
    "        import ipdb; ipdb.set_trace()\n",
    "        '''Draws a random card'''\n",
    "        c = random.choice(self.cards)\n",
    "        self.cards.remove(c)\n",
    "        return c\n",
    "    \n",
    "    def add_card(self, card):\n",
    "        import ipdb; ipdb.set_trace()\n",
    "        '''Puts a card object back in the deck'''\n",
    "        self.cards.append(card)            \n",
    "    \n",
    "    def shuffle(self):\n",
    "        import ipdb; ipdb.set_trace()\n",
    "        '''Shuffles the deck'''\n",
    "        random.shuffle(self.cards)\n",
    "\n",
    "    def sort(self):\n",
    "        import ipdb; ipdb.set_trace()\n",
    "        '''Sorts the deck'''\n",
    "        self.cards.sort()\n",
    "        \n",
    "class Hand(Deck):\n",
    "    '''Empty for now'''\n",
    "    def __init__(self):\n",
    "        self.cards = []\n",
    "\n",
    "if __name__ == \"__main__\":\n",
    "    w = War()\n",
    "    w.deal()\n",
    "    counter = 0\n",
    "\n",
    "    # sometimes this fails -- examine the log to see why!\n",
    "    while (w.handOne.cards and w.handTwo.cards):\n",
    "        counter+=1\n",
    "        w.turn()\n",
    "        if len(w.handOne.cards) + len(w.handTwo.cards) > 52: log.warning(\"Created more than 52 cards.\")\n",
    "        if counter > 10000:\n",
    "            log.warning('possible infinite loop, breaking execution')\n",
    "            break\n",
    "    if w.handOne.cards:\n",
    "        print 'player 1 won!'\n",
    "    else:\n",
    "        print 'player 2 won!'\n",
    "    print len(w.handOne.cards), len(w.handTwo.cards)\n"
   ]
  },
  {
   "cell_type": "markdown",
   "metadata": {
    "slideshow": {
     "slide_type": "slide"
    }
   },
   "source": [
    "### Refactoring\n",
    "\n",
    "This software development vocabulary word just means \"improving your code\". The general axes are:\n",
    "\n",
    "- Efficiency\n",
    "- Readability\n",
    "- Extensibility"
   ]
  },
  {
   "cell_type": "markdown",
   "metadata": {
    "slideshow": {
     "slide_type": "slide"
    }
   },
   "source": [
    "Some easy wins:\n",
    "\n",
    "- Don't Repeat Yourself (DRY)\n",
    "- Use helpful names\n",
    "- Comment your code!\n",
    "\n",
    "You can also improve your code's readability, and your own credibility, by following a community standard stylistic convention. The most popular is [PEP-8](https://www.python.org/dev/peps/pep-0008/).\n",
    "\n",
    "Please take a few minutes to skim the documentation."
   ]
  },
  {
   "cell_type": "markdown",
   "metadata": {
    "slideshow": {
     "slide_type": "slide"
    }
   },
   "source": [
    "\"Linters\" are tools for checking your code for errors. There are style linters available, as standalone programs or integrations to IDEs / text editors.\n",
    "\n",
    "We'll use an easy one:\n",
    "\n",
    "```bash\n",
    "$pip install -U pep8\n",
    "$pep8 tictactoe.py\n",
    "```"
   ]
  },
  {
   "cell_type": "markdown",
   "metadata": {
    "slideshow": {
     "slide_type": "slide"
    }
   },
   "source": [
    "Let's look at a few refactoring examples together:\n",
    "\n",
    "```python\n",
    "if isSpecialDeal():\n",
    "    total = price * 0.95\n",
    "    send()\n",
    "else:\n",
    "    total = price * 0.98\n",
    "    send()\n",
    "```\n",
    "\n",
    "> Check: what notion is this violating? How can we improve it?\n",
    "\n",
    "\n",
    "(Examples from https://github.com/shvetsgroup/refactoring.guru-examples/tree/master/simple/python)"
   ]
  },
  {
   "cell_type": "markdown",
   "metadata": {
    "slideshow": {
     "slide_type": "slide"
    }
   },
   "source": [
    "Don't repeat yourself:\n",
    "\n",
    "```python\n",
    "if isSpecialDeal():\n",
    "    total = price * 0.95\n",
    "else:\n",
    "    total = price * 0.98\n",
    "send()\n",
    "```\n",
    "\n",
    "How about this one?\n",
    "\n",
    "```python\n",
    "def output(self, type):\n",
    "    if name == \"banner\"\n",
    "        # Print the banner.\n",
    "        # ...\n",
    "    if name == \"info\"\n",
    "        # Print the info.\n",
    "        # ...\n",
    "```\n",
    "\n"
   ]
  },
  {
   "cell_type": "markdown",
   "metadata": {
    "slideshow": {
     "slide_type": "slide"
    }
   },
   "source": [
    "Make it easier to adjust what happens in each case:\n",
    "\n",
    "```python\n",
    "def outputBanner(self):\n",
    "    # Print the banner.\n",
    "    # ...\n",
    "\n",
    "def outputInfo(self):\n",
    "    # Print the info.\n",
    "    # ...\n",
    "```\n",
    "\n",
    "And here?\n",
    "\n",
    "```python\n",
    "def foundPerson(people):\n",
    "    for i in range(len(people)):\n",
    "        if people[i] == \"Alice\":\n",
    "            return \"Alice\"\n",
    "        if people[i] == \"John\":\n",
    "            return \"John\"\n",
    "        if people[i] == \"Kent\":\n",
    "            return \"Kent\"\n",
    "    return \"\"\n",
    "```"
   ]
  },
  {
   "cell_type": "markdown",
   "metadata": {
    "slideshow": {
     "slide_type": "slide"
    }
   },
   "source": [
    "That code wasn't very Pythonic, plus it doubles the risk of typos.\n",
    "\n",
    "```python\n",
    "def foundPerson(people):\n",
    "    candidates = [\"Alice\", \"John\", \"Kent\"]\n",
    "    for i in range(len(people)):\n",
    "        if people[i] in candidates:\n",
    "            return people[i]\n",
    "    return \"\"\n",
    "```"
   ]
  },
  {
   "cell_type": "markdown",
   "metadata": {
    "slideshow": {
     "slide_type": "slide"
    }
   },
   "source": [
    "### Additional resources\n",
    "\n",
    "Software development\n",
    "\n",
    "- http://treycausey.com/software_dev_skills.html\n",
    "- http://12factor.net/\n",
    "\n",
    "Logging\n",
    "\n",
    "- http://victorlin.me/posts/2012/08/26/good-logging-practice-in-python\n",
    "- http://www.blog.pythonlibrary.org/2012/08/02/python-101-an-intro-to-logging/\n",
    "\n",
    "(Unit) testing\n",
    "- http://docs.python-guide.org/en/latest/writing/tests/\n",
    "- http://stackoverflow.com/questions/4904096/whats-the-difference-between-unit-functional-acceptance-and-integration-test\n"
   ]
  }
 ],
 "metadata": {
  "anaconda-cloud": {},
  "celltoolbar": "Slideshow",
  "kernelspec": {
   "display_name": "Python [default]",
   "language": "python",
   "name": "python2"
  },
  "language_info": {
   "codemirror_mode": {
    "name": "ipython",
    "version": 2
   },
   "file_extension": ".py",
   "mimetype": "text/x-python",
   "name": "python",
   "nbconvert_exporter": "python",
   "pygments_lexer": "ipython2",
   "version": "2.7.12"
  }
 },
 "nbformat": 4,
 "nbformat_minor": 0
}
