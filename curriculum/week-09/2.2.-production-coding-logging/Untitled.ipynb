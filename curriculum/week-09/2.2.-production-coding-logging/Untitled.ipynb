{
 "cells": [
  {
   "cell_type": "code",
   "execution_count": 9,
   "metadata": {
    "collapsed": false
   },
   "outputs": [
    {
     "data": {
      "text/plain": [
       "u'/Users/ajbentley/GA-DSI/curriculum/week-09/2.2.-production-coding-logging'"
      ]
     },
     "execution_count": 9,
     "metadata": {},
     "output_type": "execute_result"
    }
   ],
   "source": [
    "%pwd"
   ]
  },
  {
   "cell_type": "code",
   "execution_count": 1,
   "metadata": {
    "collapsed": false
   },
   "outputs": [
    {
     "name": "stdout",
     "output_type": "stream",
     "text": [
      "6\n",
      "7\n",
      "8\n",
      "9\n",
      "10\n",
      "11\n",
      "12\n",
      "all done\n"
     ]
    }
   ],
   "source": [
    "import logging\n",
    "logging.basicConfig(filename='p7_test.log', filemode='w', format='%(asctime)s%(levelname)s:%(message)s', level=logging.INFO)\n",
    "log = logging.getLogger(__name__)\n",
    "x=5\n",
    "while x < 12:\n",
    "    x += 1\n",
    "    print x\n",
    "    log.info('the value of x is {}'.format(x))\n",
    "    if x > 10:\n",
    "        log.error('one step down from critical')\n",
    "        log.critical('STOP THE MACHINE X IS TOO HIGH, it is {}'.format(x))\n",
    "print 'all done'\n"
   ]
  }
 ],
 "metadata": {
  "kernelspec": {
   "display_name": "Python [conda root]",
   "language": "python",
   "name": "conda-root-py"
  },
  "language_info": {
   "codemirror_mode": {
    "name": "ipython",
    "version": 2
   },
   "file_extension": ".py",
   "mimetype": "text/x-python",
   "name": "python",
   "nbconvert_exporter": "python",
   "pygments_lexer": "ipython2",
   "version": "2.7.12"
  }
 },
 "nbformat": 4,
 "nbformat_minor": 1
}
