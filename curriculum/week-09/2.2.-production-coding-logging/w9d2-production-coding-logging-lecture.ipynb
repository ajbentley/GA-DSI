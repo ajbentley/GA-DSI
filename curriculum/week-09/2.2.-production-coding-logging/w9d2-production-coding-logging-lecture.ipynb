{
 "cells": [
  {
   "cell_type": "markdown",
   "metadata": {
    "slideshow": {
     "slide_type": "slide"
    }
   },
   "source": [
    "![](https://ga-dash.s3.amazonaws.com/production/assets/logo-9f88ae6c9c3871690e33280fcf557f33.png)\n",
    "# Production code: logging\n",
    "Week 9 | Lesson 2.2\n"
   ]
  },
  {
   "cell_type": "markdown",
   "metadata": {
    "slideshow": {
     "slide_type": "slide"
    }
   },
   "source": [
    "### LEARNING OBJECTIVES\n",
    "*After this lesson, you will be able to:*\n",
    "- Implement a logging mechanism in Python"
   ]
  },
  {
   "cell_type": "markdown",
   "metadata": {
    "slideshow": {
     "slide_type": "slide"
    }
   },
   "source": [
    "### Software engineer: You didn't check your code and your tests into master without a code review, did you?\n",
    "\n",
    "\n",
    "### Data Scientist: Checked my what into what without a what?\n",
    "\n",
    "#### - Software development skills for data scientists (http://treycausey.com/software_dev_skills.html)"
   ]
  },
  {
   "cell_type": "markdown",
   "metadata": {
    "slideshow": {
     "slide_type": "slide"
    }
   },
   "source": [
    "### LESSON GUIDE\n",
    "| TIMING  | TYPE  | TOPIC  |\n",
    "|:-:|---|---|\n",
    "| 5 min | [Opening](#opening) | Opening |\n",
    "| 55 min | [Logging](#logging) | Logging |"
   ]
  },
  {
   "cell_type": "markdown",
   "metadata": {
    "slideshow": {
     "slide_type": "slide"
    }
   },
   "source": [
    "### Logging\n",
    "\n",
    "- Why log? Diagnostics and auditing.\n",
    "- Ad hoc `print` statements: not crazy for simple personal scripts. Not sufficient for anything more"
   ]
  },
  {
   "cell_type": "markdown",
   "metadata": {
    "slideshow": {
     "slide_type": "slide"
    }
   },
   "source": [
    "#### Python's `logging` library\n",
    "\n",
    "- Better practice: more control, less mess"
   ]
  },
  {
   "cell_type": "markdown",
   "metadata": {
    "slideshow": {
     "slide_type": "slide"
    }
   },
   "source": [
    "#### Codealong: `logging`\n",
    "\n",
    "We'll add logging statements that output a .log file.\n",
    "\n",
    "```python\n",
    "import logging\n",
    "logging.basicConfig(filename='test.log', level=logging.INFO)\n",
    "log = logging.getLogger(__name__)\n",
    "```\n",
    "\n",
    "This configures our logging system (specifically, the \"root logger\"), by specifying a write file and a \"level\" (more on that in a moment). It also creates a logger object with a name of either `__main__` or the name of your module.\n",
    "\n",
    "> The special variable `__name__` is equal to \"`__main__`\" when a program is run directly, or equal to the name of that _module_ when it's imported by another module. E.g. if `example.py` consists of the line `print __name__`, if you run `python example.py` you'll see `__main__`. If you run `python newModule.py` and `import example`, you'll see `example` printed.\n"
   ]
  },
  {
   "cell_type": "markdown",
   "metadata": {
    "slideshow": {
     "slide_type": "slide"
    }
   },
   "source": [
    "```python\n",
    "log.debug('Very granular logging message, useful for debugging.')\n",
    "log.info('Simple update on normal execution, e.g. \"Processing record {} of {}\"'.format(10,100)\n",
    "log.warning('You\\'ve seen these in sklearn, warning about methods being deprecated')\n",
    "log.error('Logs an error message')\n",
    "log.critical('Well this is an issue')\n",
    "```\n",
    "\n",
    "There are five \"levels\" of logging. You  configure the system's threshold for logging via logging.basicConfig.\n",
    "\n",
    "> Check: what do you expect to see in test.log?"
   ]
  },
  {
   "cell_type": "markdown",
   "metadata": {
    "slideshow": {
     "slide_type": "slide"
    }
   },
   "source": [
    "There are other useful configuration parameters, particularly format:\n",
    "\n",
    "```python\n",
    "logging.basicConfig(filename='test.log', filemode='w', format='%(asctime)s %(levelname)s:%(message)s', level=logging.INFO)\n",
    "```\n",
    "\n",
    "You'll need to add this at the start of your file, as .basicConfig does nothing if it's run after your logging system is configured."
   ]
  },
  {
   "cell_type": "markdown",
   "metadata": {
    "slideshow": {
     "slide_type": "slide"
    }
   },
   "source": [
    "### Independent practice: logging\n",
    "\n",
    "- Using the `logging` library, add at least three logging statements to one of the scripts you've written in class.\n",
    "- Write a JSON file and use it to configure your logger\n",
    "- Output the stream to 'test.log'. Slack your log!"
   ]
  }
 ],
 "metadata": {
  "anaconda-cloud": {},
  "celltoolbar": "Slideshow",
  "kernelspec": {
   "display_name": "Python [default]",
   "language": "python",
   "name": "python2"
  },
  "language_info": {
   "codemirror_mode": {
    "name": "ipython",
    "version": 2
   },
   "file_extension": ".py",
   "mimetype": "text/x-python",
   "name": "python",
   "nbconvert_exporter": "python",
   "pygments_lexer": "ipython2",
   "version": "2.7.12"
  }
 },
 "nbformat": 4,
 "nbformat_minor": 0
}
