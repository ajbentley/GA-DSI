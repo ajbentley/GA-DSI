{
 "cells": [
  {
   "cell_type": "markdown",
   "metadata": {
    "collapsed": false
   },
   "source": [
    "# Bentley Capstone Progress Report + Preliminary Findings"
   ]
  },
  {
   "cell_type": "markdown",
   "metadata": {
    "collapsed": true
   },
   "source": [
    "Thus far most of my work has been in the EDA process, though that is somewhat due to the project having a largely descriptive nature. This step in itself has been somewhat fraught with frustrations, many of which are ongoing.\n",
    "\n",
    "Parallel to working on the EDA is an NLP study which will be tapping three different sources, a Slack Group, a Yahoo Group, and my client's website's discussion forums. My big barrier here is that trying to run the data from the Slack group, which is probably the smaller dataset, broke my computer and also won't fit through Github.\n",
    "\n",
    "I was actually excited to find that out since it meant I \"had\" to use the big data tools (for word counts of all things!) What I haven't been able to figure out is how to get those files into Hadoop to use them!!!! This is a problem.\n",
    "\n",
    "In addition to these two legs of the project I intend to do some classification analysis to try to determine what makes up a long-term versus short-term member.\n",
    "\n",
    "The final piece of this project I am now fairly certain will not be attainable during the time allotted by the course. This would be looking at demographics in the areas that my client's group has expanded into and seeing what neighborhoods are becoming increasingly similar."
   ]
  },
  {
   "cell_type": "markdown",
   "metadata": {},
   "source": [
    "## Data cleaning\n",
    "I assume you assume data cleaning is an arduous process and that you would be as happy as not to just not have to hear me complain about how many ways I had to correct the spelling of Brooklyn (38).\n",
    "\n",
    "I also assume that if you really REALLY want to find out about it you can look at my website.\n",
    "\n",
    "One thing that I will say about my data cleaning step is that I decided to break my notebooks up so that I didn't have to run everything over and over again and have to search so much through everything (I just found out about the clickable TOC and will be using the **** out of that in the future). So I did all of the cleanup and then exported to csv so that I could then just open it in other notebooks. \n",
    "\n",
    "I'd originally tried to export as a dbf but that was crazy to figure out."
   ]
  },
  {
   "cell_type": "markdown",
   "metadata": {},
   "source": [
    "## EDA\n",
    "\n",
    "There have been two big barriers with my EDA. \n",
    "\n",
    "One is that my client didn't tell me until today that they had major changes in the organization in 2007 and 2009 that made any kind of trending including those years disinformative. Unfortunately most of the members from before 2009 were grandfathered into lifetime membership so I couldn't really remove them from any overall observations on the data.\n",
    "\n",
    "I have been able to exclude them from yearly trends, though, which has been a blessing...to a point.\n",
    "\n",
    "Because people are members over a number of years it is necessary for me to isolate who was a member in any given year. I had thought of a very clever way to do this (I thought) which ended up only capturing the first year of membership. I was then able to write (with help from Stack Overflow (and man do some folks get their hackles up when you tell them what they suggested doesn't work!)) code that isolated membership in every year except for 2016. That one is still eluding me and is basically the barrier to my completing this portion.\n",
    "\n",
    "This has been especially frustrating because I have twice now thought that the issue was resolved, moved forward with analysis and visualizing, and then realized I needed to go back to the drawing board. \n",
    "\n",
    "I also decided a few days ago to stop banging my head against walls of visualizations that I can't get right in Python and just do them in Excel. I'll get back around to learning how to do them in Python later, but I've got to keep an eye on the deadline too much now to be a purist about such things.\n",
    "\n"
   ]
  },
  {
   "cell_type": "code",
   "execution_count": 2,
   "metadata": {
    "collapsed": false
   },
   "outputs": [
    {
     "name": "stderr",
     "output_type": "stream",
     "text": [
      "/Users/EKandTower/anaconda/lib/python2.7/site-packages/IPython/core/interactiveshell.py:2723: DtypeWarning:\n",
      "\n",
      "Columns (0) have mixed types. Specify dtype option on import or set low_memory=False.\n",
      "\n"
     ]
    }
   ],
   "source": [
    "# Load libraries\n",
    "from datetime import datetime, date, timedelta\n",
    "import csv\n",
    "import pandas as pd \n",
    "import plotly.graph_objs as go\n",
    "import plotly.plotly as py\n",
    "from plotly.graph_objs import graph_objs\n",
    "from IPython.display import Image\n",
    "from IPython.core.display import HTML \n",
    "py.sign_in('ajbentley', 'zjfu2vasav')\n",
    "\n",
    "# read in data\n",
    "\n",
    "dfn = pd.read_csv(\"../../projects/psp/refined_data/psp_numerical.csv\")"
   ]
  },
  {
   "cell_type": "markdown",
   "metadata": {},
   "source": [
    "### EDA Step 1: Full Data Set Averages"
   ]
  },
  {
   "cell_type": "markdown",
   "metadata": {},
   "source": [
    "#### Q 1: What are membership levels like from year to year?\n",
    "\n",
    "This core question has not yet been answerable because of my membership year isolation issue. The first time I ran it it looked like membership had fallen by 30% year to year. The next time it looked like it had grown 4% (which I assumed was correct until I saw it wasn't). The most recent incarnation has membership doubling this year.\n",
    "\n",
    "Below is the code I have been working with:"
   ]
  },
  {
   "cell_type": "code",
   "execution_count": null,
   "metadata": {
    "collapsed": true
   },
   "outputs": [],
   "source": [
    "# this doesn't work for 2016 because it doesn't recognize that anything with an exp date past 2016 should be\n",
    "# assigned to 2016\n",
    "\n",
    "dfy['joined'] = pd.to_datetime(dfy['joined'])\n",
    "dfy['exp_date'] = pd.to_datetime(dfy['exp_date'])\n",
    "\n",
    "year_list = [2002, 2003, 2004, 2005, 2006, 2007, 2008, 2009, 2010, 2011, 2012, 2013, 2014, 2015]\n",
    "\n",
    "for year in year_list:\n",
    "    \n",
    "    dfy['mem_' + str(year)] = dfy.apply(lambda x: x['joined'].year <= year and x['exp_date'].\\\n",
    "                                        year>= year, axis=1).astype('int')"
   ]
  },
  {
   "cell_type": "markdown",
   "metadata": {},
   "source": [
    "### When do members join?\n",
    "Typically membership is fairly even through the year with November and December lagging as the lowest months for new members joining. Perhaps because of these softer numbers January tends to be stronger than most for new members.\n",
    "\n",
    "New families also seem to join in the summer months, largely for nanny recommendations.\n",
    "\n",
    "This year the summer swell was unusually strong as nearly half of the year's new families joined between May and July."
   ]
  },
  {
   "cell_type": "code",
   "execution_count": null,
   "metadata": {
    "collapsed": true
   },
   "outputs": [],
   "source": [
    "dfn_p = pd.pivot_table(dfn, values='mem_no', index='join_year', columns='join_month',\\\n",
    "               aggfunc=len, fill_value=0)"
   ]
  },
  {
   "cell_type": "markdown",
   "metadata": {},
   "source": [
    "![join_month_year](https://ajbentley.github.com/assets/images/psp/join_month_year.png)"
   ]
  },
  {
   "cell_type": "markdown",
   "metadata": {},
   "source": [
    "![Image of Yaktocat](https://octodex.github.com/images/yaktocat.png)"
   ]
  },
  {
   "cell_type": "code",
   "execution_count": null,
   "metadata": {
    "collapsed": true
   },
   "outputs": [],
   "source": []
  },
  {
   "cell_type": "code",
   "execution_count": null,
   "metadata": {
    "collapsed": true
   },
   "outputs": [],
   "source": []
  },
  {
   "cell_type": "code",
   "execution_count": null,
   "metadata": {
    "collapsed": true
   },
   "outputs": [],
   "source": []
  },
  {
   "cell_type": "code",
   "execution_count": null,
   "metadata": {
    "collapsed": true
   },
   "outputs": [],
   "source": []
  },
  {
   "cell_type": "code",
   "execution_count": null,
   "metadata": {
    "collapsed": true
   },
   "outputs": [],
   "source": []
  }
 ],
 "metadata": {
  "anaconda-cloud": {},
  "kernelspec": {
   "display_name": "Python [Root]",
   "language": "python",
   "name": "Python [Root]"
  },
  "language_info": {
   "codemirror_mode": {
    "name": "ipython",
    "version": 2
   },
   "file_extension": ".py",
   "mimetype": "text/x-python",
   "name": "python",
   "nbconvert_exporter": "python",
   "pygments_lexer": "ipython2",
   "version": "2.7.12"
  }
 },
 "nbformat": 4,
 "nbformat_minor": 1
}
