{
 "cells": [
  {
   "cell_type": "raw",
   "metadata": {},
   "source": [
    "Trying to isolate members of an organization by year.\n",
    "\n",
    "\n",
    "In other words, I have membership start and end dates (e.g., December 3, 2003 and October 23, 2007) and I am trying to isolate membership in each year (in above example I would be looking for 2003, 2004, 2005, 2006, 2007).\n",
    "\n",
    "I think the code I have for the years prior to 2016 is okay, but I can't get 2016 right."
   ]
  },
  {
   "cell_type": "code",
   "execution_count": 1,
   "metadata": {
    "collapsed": true
   },
   "outputs": [],
   "source": [
    "import pandas as pd\n",
    "import csv"
   ]
  },
  {
   "cell_type": "code",
   "execution_count": 2,
   "metadata": {
    "collapsed": false
   },
   "outputs": [
    {
     "name": "stdout",
     "output_type": "stream",
     "text": [
      "<class 'pandas.core.frame.DataFrame'>\n",
      "RangeIndex: 14591 entries, 0 to 14590\n",
      "Data columns (total 66 columns):\n",
      "mem_no                                                                            14591 non-null object\n",
      "city                                                                              14591 non-null object\n",
      "state                                                                             14591 non-null object\n",
      "zip                                                                               14591 non-null int64\n",
      "joined                                                                            14591 non-null object\n",
      "exp_date                                                                          14591 non-null object\n",
      "status                                                                            14591 non-null object\n",
      "mem_type                                                                          14591 non-null int64\n",
      "last_renewal_date                                                                 14591 non-null object\n",
      "gender                                                                            14591 non-null object\n",
      "club_email                                                                        14591 non-null object\n",
      "dup                                                                               14591 non-null object\n",
      "parent_status                                                                     14591 non-null int64\n",
      "kid_count                                                                         14591 non-null float64\n",
      "kid1_bday                                                                         14591 non-null object\n",
      "kid2_bday                                                                         14591 non-null object\n",
      "advice_grp                                                                        14591 non-null int64\n",
      "classifieds                                                                       14591 non-null int64\n",
      "classifieds_spouse                                                                14591 non-null int64\n",
      "tony_kids                                                                         14591 non-null object\n",
      "discovered                                                                        14589 non-null float64\n",
      "status_Active                                                                     14591 non-null float64\n",
      "status_Expired                                                                    14591 non-null float64\n",
      "status_Frozen                                                                     14591 non-null float64\n",
      "status_Pending                                                                    14591 non-null float64\n",
      "status_Prospective                                                                14591 non-null float64\n",
      "mem_type_1 year membership ($40)                                                  14591 non-null float64\n",
      "mem_type_2 Year Membership ($75)                                                  14591 non-null float64\n",
      "mem_type_3 year membership ($110)                                                 14591 non-null float64\n",
      "mem_type_5 year membership ($175)                                                 14591 non-null float64\n",
      "mem_type_Complimentary                                                            14591 non-null float64\n",
      "mem_type_Lifetime Member                                                          14591 non-null float64\n",
      "mem_type_Trial Membership                                                         14591 non-null float64\n",
      "club_email_No                                                                     14591 non-null float64\n",
      "club_email_Yes                                                                    14591 non-null float64\n",
      "dup_NO                                                                            14591 non-null float64\n",
      "dup_YES                                                                           14591 non-null float64\n",
      "parent_status_No                                                                  14591 non-null float64\n",
      "parent_status_No, but we are pregnant/adopting                                    14591 non-null float64\n",
      "parent_status_Yes                                                                 14591 non-null float64\n",
      "advice_grp_0                                                                      14591 non-null float64\n",
      "advice_grp_1                                                                      14591 non-null float64\n",
      "classifieds_0                                                                     14591 non-null float64\n",
      "classifieds_1                                                                     14591 non-null float64\n",
      "classifieds_spouse_0                                                              14591 non-null float64\n",
      "classifieds_spouse_1                                                              14591 non-null float64\n",
      "tony_dids_No                                                                      14591 non-null float64\n",
      "tony_dids_Yes                                                                     14591 non-null float64\n",
      "discovered_A PSP member I don't know told me about it                             14591 non-null float64\n",
      "discovered_A PSP member who is a friend/neighbor                                  14591 non-null float64\n",
      "discovered_Found it through Yahoo                                                 14591 non-null float64\n",
      "discovered_Found it through a Google search                                       14591 non-null float64\n",
      "discovered_Heard about it on another online parenting group (Urban Baby, etc.)    14591 non-null float64\n",
      "discovered_Heard about it through a magazine, newspaper, blog                     14591 non-null float64\n",
      "discovered_I don't remember                                                       14591 non-null float64\n",
      "discovered_Other                                                                  14591 non-null float64\n",
      "join_year                                                                         14591 non-null int64\n",
      "join_month                                                                        14591 non-null int64\n",
      "exp_year                                                                          14591 non-null int64\n",
      "k1bday_year                                                                       14591 non-null int64\n",
      "k1bday_month                                                                      14591 non-null int64\n",
      "k2bday_year                                                                       14591 non-null int64\n",
      "k2bday_month                                                                      14591 non-null int64\n",
      "mem_duration                                                                      14591 non-null int64\n",
      "join_v_birth                                                                      14591 non-null float64\n",
      "exp_v_birth                                                                       14591 non-null float64\n",
      "dtypes: float64(39), int64(14), object(13)\n",
      "memory usage: 7.3+ MB\n"
     ]
    },
    {
     "name": "stderr",
     "output_type": "stream",
     "text": [
      "/Users/EKandTower/anaconda/lib/python2.7/site-packages/IPython/core/interactiveshell.py:2723: DtypeWarning: Columns (0) have mixed types. Specify dtype option on import or set low_memory=False.\n",
      "  interactivity=interactivity, compiler=compiler, result=result)\n"
     ]
    }
   ],
   "source": [
    "dfn = pd.read_csv(\"../../projects/psp/refined_data/psp_numerical.csv\")\n",
    "dfn.info()"
   ]
  },
  {
   "cell_type": "code",
   "execution_count": null,
   "metadata": {
    "collapsed": true
   },
   "outputs": [],
   "source": [
    "# isolate members by year prior to 2016\n",
    "\n",
    "# this doesn't work for 2016 because it doesn't recognize that anything with an exp date past 2016 should be\n",
    "# assigned to 2016\n",
    "\n",
    "annual_mem_cols = ['mem_no','joined', 'exp_date']\n",
    "dfy = pd.DataFrame(dfn[annual_mem_cols])\n",
    "\n",
    "dfy['joined'] = pd.to_datetime(dfy['joined'])\n",
    "dfy['exp_date'] = pd.to_datetime(dfy['exp_date'])\n",
    "\n",
    "year_list = [2002, 2003, 2004, 2005, 2006, 2007, 2008, 2009, 2010, 2011, 2012, 2013, 2014, 2015]\n",
    "\n",
    "for year in year_list:\n",
    "    \n",
    "    dfy['mem_' + str(year)] = dfy.apply(lambda x: x['joined'].year <= year and x['exp_date'].\\\n",
    "                                        year>= year, axis=1).astype('int')"
   ]
  },
  {
   "cell_type": "code",
   "execution_count": null,
   "metadata": {
    "collapsed": true
   },
   "outputs": [],
   "source": [
    "# prior attempts at 2016\n",
    "\n",
    "##### 1\n",
    "\n",
    "memlist_2016 = []\n",
    "\n",
    "def ml16(x,y):\n",
    "    for n in x:\n",
    "        if n <= 2016:\n",
    "            for n in y:\n",
    "                if n>= 2016:\n",
    "                    memlist_2016.append(1)\n",
    "        else:\n",
    "            memlist_2016.append(0)  \n",
    "\n",
    "\n",
    "ml16(dfn['join_year'], dfn['exp_year'])            \n",
    "\n",
    "\n",
    "###### 2\n",
    "\n",
    "# for row in dfy:\n",
    "#     if 'join_year' <= 2016 | 'exp_year' >= 2016:\n",
    "#         memlist_2016.append(1)\n",
    "#     else:\n",
    "#         memlist_2016.append(0)\n",
    "\n",
    "\n",
    "# smem_2016 = pd.Series(memlist_2016)\n",
    "\n",
    "# dfy['mem_2016'] = smem_2016\n",
    "\n",
    "###### 3\n",
    "\n",
    "# dfy['mem_2016'] = dfy.apply(lambda x: x['exp_date'] <= 2016, axis=1).astype('int')\n",
    "\n",
    "# dfy.head()\n",
    "\n",
    "\n",
    "##### 4 (previous attempt for all years, which stopped indicating membership after it found a first year\n",
    "\n",
    "# for year in year_list:\n",
    "\n",
    "#     mem_year_list = []\n",
    "    \n",
    "#     for x in dfy.join_year:\n",
    "#         while x == year:\n",
    "#             if x >= year | x < (year+1):\n",
    "#                 mem_year_list.append(1)\n",
    "#             else:\n",
    "#                 mem_year_list.append(0)\n",
    "\n",
    "#     myl = pd.Series(mem_year_list)\n",
    "#     dfy[year] = myl\n",
    "#     er = str(year)\n",
    "#     er = ('mem_'+ er[2:])\n",
    "#     dfy.rename (columns={year:er}, inplace=True)"
   ]
  }
 ],
 "metadata": {
  "anaconda-cloud": {},
  "kernelspec": {
   "display_name": "Python [Root]",
   "language": "python",
   "name": "Python [Root]"
  },
  "language_info": {
   "codemirror_mode": {
    "name": "ipython",
    "version": 2
   },
   "file_extension": ".py",
   "mimetype": "text/x-python",
   "name": "python",
   "nbconvert_exporter": "python",
   "pygments_lexer": "ipython2",
   "version": "2.7.12"
  }
 },
 "nbformat": 4,
 "nbformat_minor": 0
}
