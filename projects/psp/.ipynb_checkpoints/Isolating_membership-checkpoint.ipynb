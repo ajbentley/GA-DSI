{
 "cells": [
  {
   "cell_type": "raw",
   "metadata": {},
   "source": [
    "Trying to isolate members of an organization by year.\n",
    "\n",
    "\n",
    "In other words, I have membership start and end dates (e.g., December 3, 2003 and October 23, 2007) and I am trying to isolate membership in each year (in above example I would be looking for 2003, 2004, 2005, 2006, 2007).\n",
    "\n",
    "I think the code I have for the years prior to 2016 is okay, but I can't get 2016 right."
   ]
  },
  {
   "cell_type": "code",
   "execution_count": null,
   "metadata": {
    "collapsed": true
   },
   "outputs": [],
   "source": [
    "dfn = pd.read_csv(\"../../projects/psp/refined_data/psp_numerical.csv\")\n",
    "dfn.info()"
   ]
  },
  {
   "cell_type": "code",
   "execution_count": null,
   "metadata": {
    "collapsed": true
   },
   "outputs": [],
   "source": [
    "# isolate members by year prior to 2016\n",
    "\n",
    "# this doesn't work for 2016 because it doesn't recognize that anything with an exp date past 2016 should be\n",
    "# assigned to 2016\n",
    "\n",
    "annual_mem_cols = ['mem_no','joined', 'exp_date']\n",
    "dfy = pd.DataFrame(dfn[annual_mem_cols])\n",
    "\n",
    "dfy['joined'] = pd.to_datetime(dfy['joined'])\n",
    "dfy['exp_date'] = pd.to_datetime(dfy['exp_date'])\n",
    "\n",
    "year_list = [2002, 2003, 2004, 2005, 2006, 2007, 2008, 2009, 2010, 2011, 2012, 2013, 2014, 2015]\n",
    "\n",
    "for year in year_list:\n",
    "    \n",
    "    dfy['mem_' + str(year)] = dfy.apply(lambda x: x['joined'].year <= year and x['exp_date'].\\\n",
    "                                        year>= year, axis=1).astype('int')"
   ]
  },
  {
   "cell_type": "code",
   "execution_count": null,
   "metadata": {
    "collapsed": true
   },
   "outputs": [],
   "source": [
    "# prior attempts at 2016\n",
    "\n",
    "##### 1\n",
    "\n",
    "memlist_2016 = []\n",
    "\n",
    "def ml16(x,y):\n",
    "    for n in x:\n",
    "        if n <= 2016:\n",
    "            for n in y:\n",
    "                if n>= 2016:\n",
    "                    memlist_2016.append(1)\n",
    "        else:\n",
    "            memlist_2016.append(0)  \n",
    "\n",
    "\n",
    "ml16(dfn['join_year'], dfn['exp_year'])            \n",
    "\n",
    "\n",
    "###### 2\n",
    "\n",
    "# for row in dfy:\n",
    "#     if 'join_year' <= 2016 | 'exp_year' >= 2016:\n",
    "#         memlist_2016.append(1)\n",
    "#     else:\n",
    "#         memlist_2016.append(0)\n",
    "\n",
    "\n",
    "# smem_2016 = pd.Series(memlist_2016)\n",
    "\n",
    "# dfy['mem_2016'] = smem_2016\n",
    "\n",
    "###### 3\n",
    "\n",
    "# dfy['mem_2016'] = dfy.apply(lambda x: x['exp_date'] <= 2016, axis=1).astype('int')\n",
    "\n",
    "# dfy.head()\n",
    "\n",
    "\n",
    "##### 4 (previous attempt for all years, which stopped indicating membership after it found a first year\n",
    "\n",
    "# for year in year_list:\n",
    "\n",
    "#     mem_year_list = []\n",
    "    \n",
    "#     for x in dfy.join_year:\n",
    "#         while x == year:\n",
    "#             if x >= year | x < (year+1):\n",
    "#                 mem_year_list.append(1)\n",
    "#             else:\n",
    "#                 mem_year_list.append(0)\n",
    "\n",
    "#     myl = pd.Series(mem_year_list)\n",
    "#     dfy[year] = myl\n",
    "#     er = str(year)\n",
    "#     er = ('mem_'+ er[2:])\n",
    "#     dfy.rename (columns={year:er}, inplace=True)"
   ]
  }
 ],
 "metadata": {
  "kernelspec": {
   "display_name": "Python [Root]",
   "language": "python",
   "name": "Python [Root]"
  },
  "language_info": {
   "codemirror_mode": {
    "name": "ipython",
    "version": 2
   },
   "file_extension": ".py",
   "mimetype": "text/x-python",
   "name": "python",
   "nbconvert_exporter": "python",
   "pygments_lexer": "ipython2",
   "version": "2.7.12"
  }
 },
 "nbformat": 4,
 "nbformat_minor": 0
}
