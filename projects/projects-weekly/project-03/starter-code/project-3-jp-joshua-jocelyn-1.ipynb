{
 "cells": [
  {
   "cell_type": "markdown",
   "metadata": {},
   "source": [
    "# Getting started\n",
    "\n",
    "Once you've chosen your scenario, download the data from [the Iowa website](https://data.iowa.gov/Economy/Iowa-Liquor-Sales/m3tr-qhgy) in csv format. Start by loading the data with pandas. You may need to parse the date columns appropriately."
   ]
  },
  {
   "cell_type": "code",
   "execution_count": 1,
   "metadata": {
    "ExecuteTime": {
     "end_time": "2016-10-12T18:17:53.961012",
     "start_time": "2016-10-12T18:17:53.158935"
    },
    "collapsed": false
   },
   "outputs": [],
   "source": [
    "# Import relevant libraries\n",
    "import pandas as pd\n",
    "import numpy as np\n",
    "import seaborn as sns\n",
    "import matplotlib.pyplot as plt\n",
    "from sklearn import linear_model\n",
    "from sklearn.preprocessing import StandardScaler\n",
    "%matplotlib inline"
   ]
  },
  {
   "cell_type": "code",
   "execution_count": 2,
   "metadata": {
    "ExecuteTime": {
     "end_time": "2016-10-12T18:17:54.054676",
     "start_time": "2016-10-12T18:17:53.964863"
    },
    "collapsed": false
   },
   "outputs": [],
   "source": [
    "# Format how pandas returns floats\n",
    "pd.set_option('display.float_format', '{:.2f}'.format)"
   ]
  },
  {
   "cell_type": "code",
   "execution_count": 3,
   "metadata": {
    "ExecuteTime": {
     "end_time": "2016-10-12T18:17:54.068766",
     "start_time": "2016-10-12T18:17:54.059100"
    },
    "collapsed": false
   },
   "outputs": [],
   "source": [
    "# We decided to bring in external data so we'll be reading from three files\n",
    "# Write a function that loads the data and returns a dataframe\n",
    "def load_file(file_name):\n",
    "    file_path_name = base_path + file_name\n",
    "    try:\n",
    "        return pd.read_csv(file_path_name, low_memory=False)\n",
    "    except:\n",
    "        print 'Error: Check file path/ name'"
   ]
  },
  {
   "cell_type": "code",
   "execution_count": 4,
   "metadata": {
    "ExecuteTime": {
     "end_time": "2016-10-12T18:17:54.076968",
     "start_time": "2016-10-12T18:17:54.072752"
    },
    "collapsed": false
   },
   "outputs": [],
   "source": [
    "# Define our base path\n",
    "base_path = '/Users/EKandTower/GA-DSI/projects/projects-weekly/project-03/starter-code/'"
   ]
  },
  {
   "cell_type": "code",
   "execution_count": 5,
   "metadata": {
    "ExecuteTime": {
     "end_time": "2016-10-12T18:17:55.477979",
     "start_time": "2016-10-12T18:17:54.080250"
    },
    "collapsed": false
   },
   "outputs": [],
   "source": [
    "## Load the liquor sales data into a DataFrame\n",
    "df = load_file('Iowa_Liquor_sales_sample_10pct.csv')"
   ]
  },
  {
   "cell_type": "code",
   "execution_count": 6,
   "metadata": {
    "ExecuteTime": {
     "end_time": "2016-10-12T18:17:57.084133",
     "start_time": "2016-10-12T18:17:55.480273"
    },
    "collapsed": false
   },
   "outputs": [],
   "source": [
    "## Transform the dates if needed, e.g.\n",
    "df[\"Date\"] = pd.to_datetime(df[\"Date\"], format='%m/%d/%Y')"
   ]
  },
  {
   "cell_type": "code",
   "execution_count": 7,
   "metadata": {
    "ExecuteTime": {
     "end_time": "2016-10-12T18:17:58.679007",
     "start_time": "2016-10-12T18:17:57.086468"
    },
    "collapsed": false
   },
   "outputs": [
    {
     "data": {
      "text/html": [
       "<div>\n",
       "<table border=\"1\" class=\"dataframe\">\n",
       "  <thead>\n",
       "    <tr style=\"text-align: right;\">\n",
       "      <th></th>\n",
       "      <th>Date</th>\n",
       "      <th>Store Number</th>\n",
       "      <th>City</th>\n",
       "      <th>Zip Code</th>\n",
       "      <th>County Number</th>\n",
       "      <th>County</th>\n",
       "      <th>Category</th>\n",
       "      <th>Category Name</th>\n",
       "      <th>Vendor Number</th>\n",
       "      <th>Item Number</th>\n",
       "      <th>Item Description</th>\n",
       "      <th>Bottle Volume (ml)</th>\n",
       "      <th>State Bottle Cost</th>\n",
       "      <th>State Bottle Retail</th>\n",
       "      <th>Bottles Sold</th>\n",
       "      <th>Sale (Dollars)</th>\n",
       "      <th>Volume Sold (Liters)</th>\n",
       "      <th>Volume Sold (Gallons)</th>\n",
       "    </tr>\n",
       "  </thead>\n",
       "  <tbody>\n",
       "    <tr>\n",
       "      <th>0</th>\n",
       "      <td>2015-11-04</td>\n",
       "      <td>3717</td>\n",
       "      <td>SUMNER</td>\n",
       "      <td>50674</td>\n",
       "      <td>9.00</td>\n",
       "      <td>Bremer</td>\n",
       "      <td>1051100.00</td>\n",
       "      <td>APRICOT BRANDIES</td>\n",
       "      <td>55</td>\n",
       "      <td>54436</td>\n",
       "      <td>Mr. Boston Apricot Brandy</td>\n",
       "      <td>750</td>\n",
       "      <td>$4.50</td>\n",
       "      <td>$6.75</td>\n",
       "      <td>12</td>\n",
       "      <td>$81.00</td>\n",
       "      <td>9.00</td>\n",
       "      <td>2.38</td>\n",
       "    </tr>\n",
       "    <tr>\n",
       "      <th>1</th>\n",
       "      <td>2016-03-02</td>\n",
       "      <td>2614</td>\n",
       "      <td>DAVENPORT</td>\n",
       "      <td>52807</td>\n",
       "      <td>82.00</td>\n",
       "      <td>Scott</td>\n",
       "      <td>1011100.00</td>\n",
       "      <td>BLENDED WHISKIES</td>\n",
       "      <td>395</td>\n",
       "      <td>27605</td>\n",
       "      <td>Tin Cup</td>\n",
       "      <td>750</td>\n",
       "      <td>$13.75</td>\n",
       "      <td>$20.63</td>\n",
       "      <td>2</td>\n",
       "      <td>$41.26</td>\n",
       "      <td>1.50</td>\n",
       "      <td>0.40</td>\n",
       "    </tr>\n",
       "    <tr>\n",
       "      <th>2</th>\n",
       "      <td>2016-02-11</td>\n",
       "      <td>2106</td>\n",
       "      <td>CEDAR FALLS</td>\n",
       "      <td>50613</td>\n",
       "      <td>7.00</td>\n",
       "      <td>Black Hawk</td>\n",
       "      <td>1011200.00</td>\n",
       "      <td>STRAIGHT BOURBON WHISKIES</td>\n",
       "      <td>65</td>\n",
       "      <td>19067</td>\n",
       "      <td>Jim Beam</td>\n",
       "      <td>1000</td>\n",
       "      <td>$12.59</td>\n",
       "      <td>$18.89</td>\n",
       "      <td>24</td>\n",
       "      <td>$453.36</td>\n",
       "      <td>24.00</td>\n",
       "      <td>6.34</td>\n",
       "    </tr>\n",
       "    <tr>\n",
       "      <th>3</th>\n",
       "      <td>2016-02-03</td>\n",
       "      <td>2501</td>\n",
       "      <td>AMES</td>\n",
       "      <td>50010</td>\n",
       "      <td>85.00</td>\n",
       "      <td>Story</td>\n",
       "      <td>1071100.00</td>\n",
       "      <td>AMERICAN COCKTAILS</td>\n",
       "      <td>395</td>\n",
       "      <td>59154</td>\n",
       "      <td>1800 Ultimate Margarita</td>\n",
       "      <td>1750</td>\n",
       "      <td>$9.50</td>\n",
       "      <td>$14.25</td>\n",
       "      <td>6</td>\n",
       "      <td>$85.50</td>\n",
       "      <td>10.50</td>\n",
       "      <td>2.77</td>\n",
       "    </tr>\n",
       "    <tr>\n",
       "      <th>4</th>\n",
       "      <td>2015-08-18</td>\n",
       "      <td>3654</td>\n",
       "      <td>BELMOND</td>\n",
       "      <td>50421</td>\n",
       "      <td>99.00</td>\n",
       "      <td>Wright</td>\n",
       "      <td>1031080.00</td>\n",
       "      <td>VODKA 80 PROOF</td>\n",
       "      <td>297</td>\n",
       "      <td>35918</td>\n",
       "      <td>Five O'clock Vodka</td>\n",
       "      <td>1750</td>\n",
       "      <td>$7.20</td>\n",
       "      <td>$10.80</td>\n",
       "      <td>12</td>\n",
       "      <td>$129.60</td>\n",
       "      <td>21.00</td>\n",
       "      <td>5.55</td>\n",
       "    </tr>\n",
       "  </tbody>\n",
       "</table>\n",
       "</div>"
      ],
      "text/plain": [
       "        Date  Store Number         City Zip Code  County Number      County  \\\n",
       "0 2015-11-04          3717       SUMNER    50674           9.00      Bremer   \n",
       "1 2016-03-02          2614    DAVENPORT    52807          82.00       Scott   \n",
       "2 2016-02-11          2106  CEDAR FALLS    50613           7.00  Black Hawk   \n",
       "3 2016-02-03          2501         AMES    50010          85.00       Story   \n",
       "4 2015-08-18          3654      BELMOND    50421          99.00      Wright   \n",
       "\n",
       "    Category              Category Name  Vendor Number  Item Number  \\\n",
       "0 1051100.00           APRICOT BRANDIES             55        54436   \n",
       "1 1011100.00           BLENDED WHISKIES            395        27605   \n",
       "2 1011200.00  STRAIGHT BOURBON WHISKIES             65        19067   \n",
       "3 1071100.00         AMERICAN COCKTAILS            395        59154   \n",
       "4 1031080.00             VODKA 80 PROOF            297        35918   \n",
       "\n",
       "            Item Description  Bottle Volume (ml) State Bottle Cost  \\\n",
       "0  Mr. Boston Apricot Brandy                 750             $4.50   \n",
       "1                    Tin Cup                 750            $13.75   \n",
       "2                   Jim Beam                1000            $12.59   \n",
       "3    1800 Ultimate Margarita                1750             $9.50   \n",
       "4         Five O'clock Vodka                1750             $7.20   \n",
       "\n",
       "  State Bottle Retail  Bottles Sold Sale (Dollars)  Volume Sold (Liters)  \\\n",
       "0               $6.75            12         $81.00                  9.00   \n",
       "1              $20.63             2         $41.26                  1.50   \n",
       "2              $18.89            24        $453.36                 24.00   \n",
       "3              $14.25             6         $85.50                 10.50   \n",
       "4              $10.80            12        $129.60                 21.00   \n",
       "\n",
       "   Volume Sold (Gallons)  \n",
       "0                   2.38  \n",
       "1                   0.40  \n",
       "2                   6.34  \n",
       "3                   2.77  \n",
       "4                   5.55  "
      ]
     },
     "execution_count": 7,
     "metadata": {},
     "output_type": "execute_result"
    }
   ],
   "source": [
    "# To facilitate using a bigger file later, we'll keep just the columns that are available in this dataset\n",
    "all_columns = df.columns.values.tolist()\n",
    "df = df.copy()[all_columns]\n",
    "df.head()"
   ]
  },
  {
   "cell_type": "markdown",
   "metadata": {},
   "source": [
    "To ensure accuracy, we are importing a list of Iowa zip codes, cities, counties and county numbers for the purposes of cleaning our data. We obtained our data from [here](http://www.unitedstateszipcodes.org/zip-code-database/), [here](http://www.iowayouthsurvey.iowa.gov/images/iacountiesnumbers.pdf) and [here](https://www.census.gov/geo/maps-data/data/tiger-line.html)."
   ]
  },
  {
   "cell_type": "code",
   "execution_count": 8,
   "metadata": {
    "ExecuteTime": {
     "end_time": "2016-10-12T18:17:58.809168",
     "start_time": "2016-10-12T18:17:58.682503"
    },
    "collapsed": false
   },
   "outputs": [
    {
     "data": {
      "text/html": [
       "<div>\n",
       "<table border=\"1\" class=\"dataframe\">\n",
       "  <thead>\n",
       "    <tr style=\"text-align: right;\">\n",
       "      <th></th>\n",
       "      <th>Zip Code</th>\n",
       "      <th>City</th>\n",
       "      <th>County</th>\n",
       "      <th>State</th>\n",
       "      <th>County Number</th>\n",
       "      <th>Area (sqkm)</th>\n",
       "    </tr>\n",
       "  </thead>\n",
       "  <tbody>\n",
       "    <tr>\n",
       "      <th>0</th>\n",
       "      <td>50001</td>\n",
       "      <td>ACKWORTH</td>\n",
       "      <td>Warren</td>\n",
       "      <td>IA</td>\n",
       "      <td>91</td>\n",
       "      <td>62.80</td>\n",
       "    </tr>\n",
       "    <tr>\n",
       "      <th>1</th>\n",
       "      <td>50002</td>\n",
       "      <td>ADAIR</td>\n",
       "      <td>Guthrie</td>\n",
       "      <td>IA</td>\n",
       "      <td>39</td>\n",
       "      <td>279.20</td>\n",
       "    </tr>\n",
       "    <tr>\n",
       "      <th>2</th>\n",
       "      <td>50003</td>\n",
       "      <td>ADEL</td>\n",
       "      <td>Dallas</td>\n",
       "      <td>IA</td>\n",
       "      <td>25</td>\n",
       "      <td>298.09</td>\n",
       "    </tr>\n",
       "    <tr>\n",
       "      <th>3</th>\n",
       "      <td>50005</td>\n",
       "      <td>ALBION</td>\n",
       "      <td>Marshall</td>\n",
       "      <td>IA</td>\n",
       "      <td>64</td>\n",
       "      <td>69.62</td>\n",
       "    </tr>\n",
       "    <tr>\n",
       "      <th>4</th>\n",
       "      <td>50006</td>\n",
       "      <td>ALDEN</td>\n",
       "      <td>Hardin</td>\n",
       "      <td>IA</td>\n",
       "      <td>42</td>\n",
       "      <td>317.75</td>\n",
       "    </tr>\n",
       "  </tbody>\n",
       "</table>\n",
       "</div>"
      ],
      "text/plain": [
       "  Zip Code      City    County State  County Number  Area (sqkm)\n",
       "0    50001  ACKWORTH    Warren    IA             91        62.80\n",
       "1    50002     ADAIR   Guthrie    IA             39       279.20\n",
       "2    50003      ADEL    Dallas    IA             25       298.09\n",
       "3    50005    ALBION  Marshall    IA             64        69.62\n",
       "4    50006     ALDEN    Hardin    IA             42       317.75"
      ]
     },
     "execution_count": 8,
     "metadata": {},
     "output_type": "execute_result"
    }
   ],
   "source": [
    "# Load in our location data file\n",
    "location_data = load_file('ia_zip_city_county_sqkm.csv')\n",
    "location_data = location_data.drop(location_data.columns[0], axis=1)\n",
    "location_data['Zip Code'] = location_data['Zip Code'].astype(str)\n",
    "location_data.head()"
   ]
  },
  {
   "cell_type": "markdown",
   "metadata": {},
   "source": [
    "Our hypothesis is that the demographics of an area affects the liquor sales. To test this, we brought in demographic data from [here](http://www.iowadatacenter.org/browse/ZCTAs.html)."
   ]
  },
  {
   "cell_type": "code",
   "execution_count": 9,
   "metadata": {
    "ExecuteTime": {
     "end_time": "2016-10-12T18:17:58.881019",
     "start_time": "2016-10-12T18:17:58.812586"
    },
    "collapsed": false
   },
   "outputs": [],
   "source": [
    "# Load in our demographic data file\n",
    "demo_data = load_file('IowaZIPdemos.csv')\n",
    "\n",
    "# Remove any rows with null values\n",
    "demo_data.dropna(inplace=True)\n"
   ]
  },
  {
   "cell_type": "code",
   "execution_count": 10,
   "metadata": {
    "ExecuteTime": {
     "end_time": "2016-10-12T18:17:59.081466",
     "start_time": "2016-10-12T18:17:58.883097"
    },
    "collapsed": false
   },
   "outputs": [
    {
     "data": {
      "text/html": [
       "<div>\n",
       "<table border=\"1\" class=\"dataframe\">\n",
       "  <thead>\n",
       "    <tr style=\"text-align: right;\">\n",
       "      <th></th>\n",
       "      <th>Area</th>\n",
       "      <th>Total Pop</th>\n",
       "      <th>Median HH Inc</th>\n",
       "      <th>Per Capita Inc</th>\n",
       "      <th>White</th>\n",
       "      <th>Afr Amer</th>\n",
       "      <th>Native Amer</th>\n",
       "      <th>Asian Amer</th>\n",
       "      <th>Pac Islander</th>\n",
       "      <th>Other</th>\n",
       "      <th>...</th>\n",
       "      <th>Family households</th>\n",
       "      <th>Married-couple family households</th>\n",
       "      <th>Single mother households</th>\n",
       "      <th>Nonfamily households</th>\n",
       "      <th>Single Occupancy</th>\n",
       "      <th>Avg HH Size</th>\n",
       "      <th>Avg Family Size</th>\n",
       "      <th>Pop Below Poverty Level</th>\n",
       "      <th>% P25+ HS Grad</th>\n",
       "      <th>% P25-54 BA+</th>\n",
       "    </tr>\n",
       "  </thead>\n",
       "  <tbody>\n",
       "    <tr>\n",
       "      <th>0</th>\n",
       "      <td>50001</td>\n",
       "      <td>615.00</td>\n",
       "      <td>43611.00</td>\n",
       "      <td>17803.00</td>\n",
       "      <td>594.00</td>\n",
       "      <td>3.00</td>\n",
       "      <td>1.00</td>\n",
       "      <td>0.00</td>\n",
       "      <td>0.00</td>\n",
       "      <td>2.00</td>\n",
       "      <td>...</td>\n",
       "      <td>174.00</td>\n",
       "      <td>158.00</td>\n",
       "      <td>12.00</td>\n",
       "      <td>42.00</td>\n",
       "      <td>34.00</td>\n",
       "      <td>2.85</td>\n",
       "      <td>3.21</td>\n",
       "      <td>711.00</td>\n",
       "      <td>88.80</td>\n",
       "      <td>9.70</td>\n",
       "    </tr>\n",
       "    <tr>\n",
       "      <th>1</th>\n",
       "      <td>50002</td>\n",
       "      <td>1339.00</td>\n",
       "      <td>32500.00</td>\n",
       "      <td>20580.00</td>\n",
       "      <td>1323.00</td>\n",
       "      <td>0.00</td>\n",
       "      <td>1.00</td>\n",
       "      <td>5.00</td>\n",
       "      <td>0.00</td>\n",
       "      <td>2.00</td>\n",
       "      <td>...</td>\n",
       "      <td>370.00</td>\n",
       "      <td>333.00</td>\n",
       "      <td>30.00</td>\n",
       "      <td>205.00</td>\n",
       "      <td>185.00</td>\n",
       "      <td>2.25</td>\n",
       "      <td>2.86</td>\n",
       "      <td>1232.00</td>\n",
       "      <td>87.60</td>\n",
       "      <td>11.20</td>\n",
       "    </tr>\n",
       "    <tr>\n",
       "      <th>2</th>\n",
       "      <td>50003</td>\n",
       "      <td>5835.00</td>\n",
       "      <td>47649.00</td>\n",
       "      <td>22429.00</td>\n",
       "      <td>5733.00</td>\n",
       "      <td>8.00</td>\n",
       "      <td>6.00</td>\n",
       "      <td>22.00</td>\n",
       "      <td>0.00</td>\n",
       "      <td>23.00</td>\n",
       "      <td>...</td>\n",
       "      <td>1615.00</td>\n",
       "      <td>1390.00</td>\n",
       "      <td>162.00</td>\n",
       "      <td>619.00</td>\n",
       "      <td>529.00</td>\n",
       "      <td>2.58</td>\n",
       "      <td>3.08</td>\n",
       "      <td>5816.00</td>\n",
       "      <td>91.00</td>\n",
       "      <td>24.00</td>\n",
       "    </tr>\n",
       "    <tr>\n",
       "      <th>3</th>\n",
       "      <td>50005</td>\n",
       "      <td>851.00</td>\n",
       "      <td>41786.00</td>\n",
       "      <td>15267.00</td>\n",
       "      <td>840.00</td>\n",
       "      <td>0.00</td>\n",
       "      <td>5.00</td>\n",
       "      <td>4.00</td>\n",
       "      <td>0.00</td>\n",
       "      <td>0.00</td>\n",
       "      <td>...</td>\n",
       "      <td>251.00</td>\n",
       "      <td>208.00</td>\n",
       "      <td>28.00</td>\n",
       "      <td>69.00</td>\n",
       "      <td>56.00</td>\n",
       "      <td>2.66</td>\n",
       "      <td>2.98</td>\n",
       "      <td>917.00</td>\n",
       "      <td>80.80</td>\n",
       "      <td>12.70</td>\n",
       "    </tr>\n",
       "    <tr>\n",
       "      <th>4</th>\n",
       "      <td>50006</td>\n",
       "      <td>1959.00</td>\n",
       "      <td>36494.00</td>\n",
       "      <td>16957.00</td>\n",
       "      <td>1930.00</td>\n",
       "      <td>0.00</td>\n",
       "      <td>1.00</td>\n",
       "      <td>3.00</td>\n",
       "      <td>0.00</td>\n",
       "      <td>21.00</td>\n",
       "      <td>...</td>\n",
       "      <td>547.00</td>\n",
       "      <td>477.00</td>\n",
       "      <td>43.00</td>\n",
       "      <td>220.00</td>\n",
       "      <td>194.00</td>\n",
       "      <td>2.55</td>\n",
       "      <td>3.09</td>\n",
       "      <td>1939.00</td>\n",
       "      <td>88.90</td>\n",
       "      <td>14.80</td>\n",
       "    </tr>\n",
       "  </tbody>\n",
       "</table>\n",
       "<p>5 rows × 42 columns</p>\n",
       "</div>"
      ],
      "text/plain": [
       "    Area  Total Pop  Median HH Inc  Per Capita Inc   White  Afr Amer  \\\n",
       "0  50001     615.00       43611.00        17803.00  594.00      3.00   \n",
       "1  50002    1339.00       32500.00        20580.00 1323.00      0.00   \n",
       "2  50003    5835.00       47649.00        22429.00 5733.00      8.00   \n",
       "3  50005     851.00       41786.00        15267.00  840.00      0.00   \n",
       "4  50006    1959.00       36494.00        16957.00 1930.00      0.00   \n",
       "\n",
       "   Native Amer  Asian Amer  Pac Islander  Other      ...       \\\n",
       "0         1.00        0.00          0.00   2.00      ...        \n",
       "1         1.00        5.00          0.00   2.00      ...        \n",
       "2         6.00       22.00          0.00  23.00      ...        \n",
       "3         5.00        4.00          0.00   0.00      ...        \n",
       "4         1.00        3.00          0.00  21.00      ...        \n",
       "\n",
       "   Family households  Married-couple family households  \\\n",
       "0             174.00                            158.00   \n",
       "1             370.00                            333.00   \n",
       "2            1615.00                           1390.00   \n",
       "3             251.00                            208.00   \n",
       "4             547.00                            477.00   \n",
       "\n",
       "   Single mother households  Nonfamily households  Single Occupancy  \\\n",
       "0                     12.00                 42.00             34.00   \n",
       "1                     30.00                205.00            185.00   \n",
       "2                    162.00                619.00            529.00   \n",
       "3                     28.00                 69.00             56.00   \n",
       "4                     43.00                220.00            194.00   \n",
       "\n",
       "   Avg HH Size  Avg Family Size  Pop Below Poverty Level  % P25+ HS Grad  \\\n",
       "0         2.85             3.21                   711.00           88.80   \n",
       "1         2.25             2.86                  1232.00           87.60   \n",
       "2         2.58             3.08                  5816.00           91.00   \n",
       "3         2.66             2.98                   917.00           80.80   \n",
       "4         2.55             3.09                  1939.00           88.90   \n",
       "\n",
       "   % P25-54 BA+  \n",
       "0          9.70  \n",
       "1         11.20  \n",
       "2         24.00  \n",
       "3         12.70  \n",
       "4         14.80  \n",
       "\n",
       "[5 rows x 42 columns]"
      ]
     },
     "execution_count": 10,
     "metadata": {},
     "output_type": "execute_result"
    }
   ],
   "source": [
    "# All our data should be integers or floats\n",
    "# Create a list of column names if those columns are objects\n",
    "demo_cols = demo_data.columns.values.tolist()\n",
    "object_cols = [i for i in demo_cols if demo_data[i].dtype == 'O']\n",
    "\n",
    "# Define a function to remove symbols and convert numbers to floats\n",
    "def rem_symbols(x):\n",
    "    for i in [',', '%', '$', '-']:\n",
    "        x = x.replace(i, '')\n",
    "    try:\n",
    "        return float(x)\n",
    "    except:\n",
    "        print x\n",
    "\n",
    "# Convert all columns to floats\n",
    "for i in object_cols:\n",
    "    demo_data[i] = demo_data[i].map(rem_symbols)\n",
    "\n",
    "# Convert zips to strings for easy comparison\n",
    "demo_data['Area'] = demo_data['Area'].astype(str)\n",
    "demo_data['Area'] = demo_data['Area'].map(lambda x: x.strip('.0'))\n",
    "demo_data.head()"
   ]
  },
  {
   "cell_type": "markdown",
   "metadata": {},
   "source": [
    "## Cleaning the data"
   ]
  },
  {
   "cell_type": "markdown",
   "metadata": {},
   "source": [
    "We will run a check on zip codes before joining the liquor sales data and the location data."
   ]
  },
  {
   "cell_type": "code",
   "execution_count": 11,
   "metadata": {
    "ExecuteTime": {
     "end_time": "2016-10-12T18:17:59.132837",
     "start_time": "2016-10-12T18:17:59.084222"
    },
    "collapsed": false
   },
   "outputs": [
    {
     "name": "stdout",
     "output_type": "stream",
     "text": [
      "['52303', '712-2', '52087', '52084', '52036', '52733', '56201', '50300']\n"
     ]
    }
   ],
   "source": [
    "# Create a list of unique zip codes in the liquor sales data\n",
    "liquor_zips = df['Zip Code'].drop_duplicates().tolist()\n",
    "\n",
    "# Create a list of unique zip codes as strings from the location data\n",
    "ref_zips = location_data['Zip Code'].tolist()\n",
    "\n",
    "# Create a list of zip codes that are present in the liquor sales data but not in the location data\n",
    "not_found = [x for x in liquor_zips if x not in ref_zips]\n",
    "print not_found"
   ]
  },
  {
   "cell_type": "code",
   "execution_count": 12,
   "metadata": {
    "ExecuteTime": {
     "end_time": "2016-10-12T18:17:59.688922",
     "start_time": "2016-10-12T18:17:59.135670"
    },
    "collapsed": false
   },
   "outputs": [
    {
     "name": "stdout",
     "output_type": "stream",
     "text": [
      "   Zip Code          City County  County Number\n",
      "78    52303  CEDAR RAPIDS   Linn          57.00\n",
      "CEDAR RAPIDS\n",
      "    Zip Code          City County State  County Number  Area (sqkm)\n",
      "805    52401  CEDAR RAPIDS   Linn    IA             57         3.46\n",
      "806    52402  CEDAR RAPIDS   Linn    IA             57        36.42\n",
      "807    52403  CEDAR RAPIDS   Linn    IA             57        69.52\n",
      "808    52404  CEDAR RAPIDS   Linn    IA             57       142.93\n",
      "809    52405  CEDAR RAPIDS   Linn    IA             57        38.49\n",
      "810    52411  CEDAR RAPIDS   Linn    IA             57        44.64\n",
      "\n",
      "     Zip Code    City    County  County Number\n",
      "114     712-2  DUNLAP  Harrison          43.00\n",
      "8186    712-2  DUNLAP       NaN            nan\n",
      "DUNLAP\n",
      "    Zip Code    City    County State  County Number  Area (sqkm)\n",
      "570    51529  DUNLAP  Harrison    IA             43       333.95\n",
      "\n",
      "    Zip Code        City    County  County Number\n",
      "267    52087  MANCHESTER  Delaware          28.00\n",
      "MANCHESTER\n",
      "    Zip Code        City    County State  County Number  Area (sqkm)\n",
      "658    52057  MANCHESTER  Delaware    IA             28       362.35\n",
      "\n",
      "    Zip Code       City County  County Number\n",
      "464    52084  DAVENPORT  Scott          82.00\n",
      "DAVENPORT\n",
      "    Zip Code       City County State  County Number  Area (sqkm)\n",
      "934    52801  DAVENPORT  Scott    IA             82         1.36\n",
      "935    52802  DAVENPORT  Scott    IA             82        29.29\n",
      "936    52803  DAVENPORT  Scott    IA             82        14.07\n",
      "937    52804  DAVENPORT  Scott    IA             82        88.86\n",
      "938    52806  DAVENPORT  Scott    IA             82        79.45\n",
      "939    52807  DAVENPORT  Scott    IA             82        76.47\n",
      "\n",
      "    Zip Code      City    County  County Number\n",
      "496    52036  DELAWARE  Delaware          28.00\n",
      "DELAWARE\n",
      "Empty DataFrame\n",
      "Columns: [Zip Code, City, County, State, County Number, Area (sqkm)]\n",
      "Index: []\n",
      "\n",
      "     Zip Code     City   County  County Number\n",
      "1055    52733  CLINTON  Clinton          23.00\n",
      "CLINTON\n",
      "    Zip Code     City   County State  County Number  Area (sqkm)\n",
      "901    52732  CLINTON  Clinton    IA             23       310.70\n",
      "\n",
      "     Zip Code        City      County  County Number\n",
      "1871    56201  BURLINGTON  Des Moines          29.00\n",
      "BURLINGTON\n",
      "    Zip Code        City      County State  County Number  Area (sqkm)\n",
      "859    52601  BURLINGTON  Des Moines    IA             29       312.03\n",
      "\n",
      "     Zip Code        City County  County Number\n",
      "4942    50300  DES MOINES   Polk          77.00\n",
      "DES MOINES\n",
      "    Zip Code        City County State  County Number  Area (sqkm)\n",
      "190    50309  DES MOINES   Polk    IA             77         7.78\n",
      "191    50310  DES MOINES   Polk    IA             77        21.12\n",
      "192    50311  DES MOINES   Polk    IA             77         6.51\n",
      "193    50312  DES MOINES   Polk    IA             77        15.05\n",
      "194    50313  DES MOINES   Polk    IA             77        47.64\n",
      "195    50314  DES MOINES   Polk    IA             77         6.63\n",
      "196    50315  DES MOINES   Polk    IA             77        26.56\n",
      "197    50316  DES MOINES   Polk    IA             77         9.30\n",
      "198    50317  DES MOINES   Polk    IA             77        60.04\n",
      "199    50319  DES MOINES   Polk    IA             77         0.21\n",
      "200    50320  DES MOINES   Polk    IA             77        49.55\n",
      "201    50321  DES MOINES   Polk    IA             77        30.97\n",
      "\n"
     ]
    }
   ],
   "source": [
    "# For each 'unknown' zip code, we obtain the corresponding city, county and county number in the liquor sales data\n",
    "# and return the same data for that city in our location data\n",
    "for i in not_found:\n",
    "    print df[['Zip Code', 'City', 'County', 'County Number']][df['Zip Code'] == i].drop_duplicates()\n",
    "    city = df['City'][df['Zip Code'] == i].drop_duplicates().iloc[0].upper()\n",
    "    print city\n",
    "    try:\n",
    "        print location_data[location_data['City']==city].drop_duplicates()\n",
    "    except:\n",
    "        print i, 'not in Iowa'\n",
    "    print"
   ]
  },
  {
   "cell_type": "markdown",
   "metadata": {},
   "source": [
    "Based on the above, we can kind of see what these zip codes are supposed to be.  \n",
    "Note: We will only be able to do this for a small dataset. As the dataset gets larger, more 'unknown' zips may appear and we may not be able to clean this manually.  \n",
    "\n",
    "Also note that the zip for Delaware, Delaware, Iowa is in fact correct. However, as it had a small population of 159 as at the 2010 census, we will not be considering it for the purposes of our model"
   ]
  },
  {
   "cell_type": "code",
   "execution_count": 13,
   "metadata": {
    "ExecuteTime": {
     "end_time": "2016-10-12T18:17:59.872122",
     "start_time": "2016-10-12T18:17:59.692746"
    },
    "collapsed": false
   },
   "outputs": [],
   "source": [
    "# Create a dictionary to map the correct zip codes to the incorrect ones\n",
    "# We will change 52036 to 0 so as to ignore it later on\n",
    "corrected_zips = {'52303': '52403',\\\n",
    "                  '712-2': '51529',\\\n",
    "                  '52087': '52057',\\\n",
    "                  '52084': '52804',\\\n",
    "                  '52036': '0',\\\n",
    "                  '52733': '52732',\\\n",
    "                  '56201': '52601',\\\n",
    "                  '50300': '50309'}\n",
    "\n",
    "for i in range(len(not_found)):\n",
    "    df.ix[df['Zip Code']==corrected_zips.keys()[i], 'Zip Code']=corrected_zips.values()[i]"
   ]
  },
  {
   "cell_type": "code",
   "execution_count": 14,
   "metadata": {
    "ExecuteTime": {
     "end_time": "2016-10-12T18:18:00.544512",
     "start_time": "2016-10-12T18:17:59.874284"
    },
    "collapsed": false
   },
   "outputs": [
    {
     "data": {
      "text/html": [
       "<div>\n",
       "<table border=\"1\" class=\"dataframe\">\n",
       "  <thead>\n",
       "    <tr style=\"text-align: right;\">\n",
       "      <th></th>\n",
       "      <th>Date</th>\n",
       "      <th>Store Number</th>\n",
       "      <th>Zip Code</th>\n",
       "      <th>Category</th>\n",
       "      <th>Category Name</th>\n",
       "      <th>Vendor Number</th>\n",
       "      <th>Item Number</th>\n",
       "      <th>Item Description</th>\n",
       "      <th>Bottle Volume (ml)</th>\n",
       "      <th>State Bottle Cost</th>\n",
       "      <th>State Bottle Retail</th>\n",
       "      <th>Bottles Sold</th>\n",
       "      <th>Sale (Dollars)</th>\n",
       "      <th>Volume Sold (Liters)</th>\n",
       "      <th>Volume Sold (Gallons)</th>\n",
       "      <th>City</th>\n",
       "      <th>County</th>\n",
       "      <th>County Number</th>\n",
       "      <th>Area (sqkm)</th>\n",
       "    </tr>\n",
       "  </thead>\n",
       "  <tbody>\n",
       "    <tr>\n",
       "      <th>0</th>\n",
       "      <td>2015-11-04</td>\n",
       "      <td>3717</td>\n",
       "      <td>50674</td>\n",
       "      <td>1051100.00</td>\n",
       "      <td>APRICOT BRANDIES</td>\n",
       "      <td>55</td>\n",
       "      <td>54436</td>\n",
       "      <td>Mr. Boston Apricot Brandy</td>\n",
       "      <td>750</td>\n",
       "      <td>$4.50</td>\n",
       "      <td>$6.75</td>\n",
       "      <td>12</td>\n",
       "      <td>$81.00</td>\n",
       "      <td>9.00</td>\n",
       "      <td>2.38</td>\n",
       "      <td>SUMNER</td>\n",
       "      <td>Bremer</td>\n",
       "      <td>9.00</td>\n",
       "      <td>408.69</td>\n",
       "    </tr>\n",
       "    <tr>\n",
       "      <th>1</th>\n",
       "      <td>2016-03-02</td>\n",
       "      <td>2614</td>\n",
       "      <td>52807</td>\n",
       "      <td>1011100.00</td>\n",
       "      <td>BLENDED WHISKIES</td>\n",
       "      <td>395</td>\n",
       "      <td>27605</td>\n",
       "      <td>Tin Cup</td>\n",
       "      <td>750</td>\n",
       "      <td>$13.75</td>\n",
       "      <td>$20.63</td>\n",
       "      <td>2</td>\n",
       "      <td>$41.26</td>\n",
       "      <td>1.50</td>\n",
       "      <td>0.40</td>\n",
       "      <td>DAVENPORT</td>\n",
       "      <td>Scott</td>\n",
       "      <td>82.00</td>\n",
       "      <td>76.47</td>\n",
       "    </tr>\n",
       "    <tr>\n",
       "      <th>2</th>\n",
       "      <td>2016-02-11</td>\n",
       "      <td>2106</td>\n",
       "      <td>50613</td>\n",
       "      <td>1011200.00</td>\n",
       "      <td>STRAIGHT BOURBON WHISKIES</td>\n",
       "      <td>65</td>\n",
       "      <td>19067</td>\n",
       "      <td>Jim Beam</td>\n",
       "      <td>1000</td>\n",
       "      <td>$12.59</td>\n",
       "      <td>$18.89</td>\n",
       "      <td>24</td>\n",
       "      <td>$453.36</td>\n",
       "      <td>24.00</td>\n",
       "      <td>6.34</td>\n",
       "      <td>CEDAR FALLS</td>\n",
       "      <td>Black Hawk</td>\n",
       "      <td>7.00</td>\n",
       "      <td>329.97</td>\n",
       "    </tr>\n",
       "    <tr>\n",
       "      <th>3</th>\n",
       "      <td>2016-02-03</td>\n",
       "      <td>2501</td>\n",
       "      <td>50010</td>\n",
       "      <td>1071100.00</td>\n",
       "      <td>AMERICAN COCKTAILS</td>\n",
       "      <td>395</td>\n",
       "      <td>59154</td>\n",
       "      <td>1800 Ultimate Margarita</td>\n",
       "      <td>1750</td>\n",
       "      <td>$9.50</td>\n",
       "      <td>$14.25</td>\n",
       "      <td>6</td>\n",
       "      <td>$85.50</td>\n",
       "      <td>10.50</td>\n",
       "      <td>2.77</td>\n",
       "      <td>AMES</td>\n",
       "      <td>Story</td>\n",
       "      <td>85.00</td>\n",
       "      <td>155.29</td>\n",
       "    </tr>\n",
       "    <tr>\n",
       "      <th>4</th>\n",
       "      <td>2015-08-18</td>\n",
       "      <td>3654</td>\n",
       "      <td>50421</td>\n",
       "      <td>1031080.00</td>\n",
       "      <td>VODKA 80 PROOF</td>\n",
       "      <td>297</td>\n",
       "      <td>35918</td>\n",
       "      <td>Five O'clock Vodka</td>\n",
       "      <td>1750</td>\n",
       "      <td>$7.20</td>\n",
       "      <td>$10.80</td>\n",
       "      <td>12</td>\n",
       "      <td>$129.60</td>\n",
       "      <td>21.00</td>\n",
       "      <td>5.55</td>\n",
       "      <td>BELMOND</td>\n",
       "      <td>Wright</td>\n",
       "      <td>99.00</td>\n",
       "      <td>232.91</td>\n",
       "    </tr>\n",
       "  </tbody>\n",
       "</table>\n",
       "</div>"
      ],
      "text/plain": [
       "        Date  Store Number Zip Code   Category              Category Name  \\\n",
       "0 2015-11-04          3717    50674 1051100.00           APRICOT BRANDIES   \n",
       "1 2016-03-02          2614    52807 1011100.00           BLENDED WHISKIES   \n",
       "2 2016-02-11          2106    50613 1011200.00  STRAIGHT BOURBON WHISKIES   \n",
       "3 2016-02-03          2501    50010 1071100.00         AMERICAN COCKTAILS   \n",
       "4 2015-08-18          3654    50421 1031080.00             VODKA 80 PROOF   \n",
       "\n",
       "   Vendor Number  Item Number           Item Description  Bottle Volume (ml)  \\\n",
       "0             55        54436  Mr. Boston Apricot Brandy                 750   \n",
       "1            395        27605                    Tin Cup                 750   \n",
       "2             65        19067                   Jim Beam                1000   \n",
       "3            395        59154    1800 Ultimate Margarita                1750   \n",
       "4            297        35918         Five O'clock Vodka                1750   \n",
       "\n",
       "  State Bottle Cost State Bottle Retail  Bottles Sold Sale (Dollars)  \\\n",
       "0             $4.50               $6.75            12         $81.00   \n",
       "1            $13.75              $20.63             2         $41.26   \n",
       "2            $12.59              $18.89            24        $453.36   \n",
       "3             $9.50              $14.25             6         $85.50   \n",
       "4             $7.20              $10.80            12        $129.60   \n",
       "\n",
       "   Volume Sold (Liters)  Volume Sold (Gallons)         City      County  \\\n",
       "0                  9.00                   2.38       SUMNER      Bremer   \n",
       "1                  1.50                   0.40    DAVENPORT       Scott   \n",
       "2                 24.00                   6.34  CEDAR FALLS  Black Hawk   \n",
       "3                 10.50                   2.77         AMES       Story   \n",
       "4                 21.00                   5.55      BELMOND      Wright   \n",
       "\n",
       "   County Number  Area (sqkm)  \n",
       "0           9.00       408.69  \n",
       "1          82.00        76.47  \n",
       "2           7.00       329.97  \n",
       "3          85.00       155.29  \n",
       "4          99.00       232.91  "
      ]
     },
     "execution_count": 14,
     "metadata": {},
     "output_type": "execute_result"
    }
   ],
   "source": [
    "# Create a new dataframe to take the merged data\n",
    "df2 = df.copy()\n",
    "df2.drop(['County Number', 'City', 'County'], axis=1, inplace=True)\n",
    "df2 = df2.merge(location_data, how='left', on='Zip Code')\n",
    "df2.drop(['State'], axis=1, inplace=True)\n",
    "df2.head()"
   ]
  },
  {
   "cell_type": "code",
   "execution_count": 15,
   "metadata": {
    "ExecuteTime": {
     "end_time": "2016-10-12T18:18:00.560866",
     "start_time": "2016-10-12T18:18:00.547893"
    },
    "collapsed": false
   },
   "outputs": [],
   "source": [
    "# Write a function that cross references related columns and fills the data in where it's missing\n",
    "def fill_missing(related_cols, column, dataframe):\n",
    "    related_cols.remove(column)\n",
    "    reference = dataframe[related_cols][dataframe[column].isnull()].drop_duplicates()\n",
    "    for j in range(len(related_cols)):\n",
    "        col_1 = reference[related_cols[j]]\n",
    "        for i in col_1:\n",
    "            try:\n",
    "                x = dataframe[column][(dataframe[related_cols[j]]==i) & (dataframe[column].notnull())].drop_duplicates()\n",
    "                if len(x) < 2:\n",
    "                    value = x.iloc[0]\n",
    "                    dataframe.ix[(dataframe[related_cols[j]]==i) & (dataframe[column].isnull()), column] = value\n",
    "            except:\n",
    "                pass"
   ]
  },
  {
   "cell_type": "code",
   "execution_count": 16,
   "metadata": {
    "ExecuteTime": {
     "end_time": "2016-10-12T18:18:00.813632",
     "start_time": "2016-10-12T18:18:00.564394"
    },
    "collapsed": false
   },
   "outputs": [],
   "source": [
    "# Run our function to cross check category numbers and names\n",
    "fill_missing(['Category', 'Category Name'], 'Category Name', df2)\n",
    "fill_missing(['Category', 'Category Name'], 'Category', df2)\n",
    "\n",
    "# Run our function to cross check item numbers and names\n",
    "fill_missing(['Item Number', 'Item Description'], 'Item Description', df2)\n",
    "fill_missing(['Item Number', 'Item Description'], 'Item Number', df2)"
   ]
  },
  {
   "cell_type": "code",
   "execution_count": 17,
   "metadata": {
    "ExecuteTime": {
     "end_time": "2016-10-12T18:18:01.370196",
     "start_time": "2016-10-12T18:18:00.816037"
    },
    "collapsed": false
   },
   "outputs": [],
   "source": [
    "# Convert all dollar columns to floats\n",
    "df2['State Bottle Cost'] = df2['State Bottle Cost'].map(lambda x: x.strip('$')).astype(float)\n",
    "df2['State Bottle Retail'] = df2['State Bottle Retail'].map(lambda x: x.strip('$')).astype(float)\n",
    "df2['Sale (Dollars)'] = df2['Sale (Dollars)'].map(lambda x: x.strip('$')).astype(float)"
   ]
  },
  {
   "cell_type": "markdown",
   "metadata": {
    "ExecuteTime": {
     "end_time": "2016-10-12T08:03:45.954603",
     "start_time": "2016-10-12T08:03:45.947919"
    }
   },
   "source": [
    "\n",
    "# Explore the data\n",
    "\n",
    "Perform some exploratory statistical analysis and make some plots, such as histograms of transaction totals, bottles sold, etc."
   ]
  },
  {
   "cell_type": "code",
   "execution_count": 18,
   "metadata": {
    "ExecuteTime": {
     "end_time": "2016-10-12T18:18:03.914907",
     "start_time": "2016-10-12T18:18:01.372824"
    },
    "collapsed": false
   },
   "outputs": [],
   "source": [
    "# Extract Month and Year\n",
    "df2['Month'] = df2['Date'].map(lambda x: x.month)\n",
    "df2['Year'] = df2['Date'].map(lambda x: x.year)"
   ]
  },
  {
   "cell_type": "code",
   "execution_count": 19,
   "metadata": {
    "ExecuteTime": {
     "end_time": "2016-10-12T18:18:03.939930",
     "start_time": "2016-10-12T18:18:03.916941"
    },
    "collapsed": false
   },
   "outputs": [
    {
     "data": {
      "text/plain": [
       "[2016]"
      ]
     },
     "execution_count": 19,
     "metadata": {},
     "output_type": "execute_result"
    }
   ],
   "source": [
    "# For the purposes of market research, we would want to look at full year data\n",
    "# Find all the non full years in the data set\n",
    "not_full_years = [i for i in df2['Year'].unique() if len(df2['Month'][df2['Year']==i].unique()) != 12]\n",
    "not_full_years"
   ]
  },
  {
   "cell_type": "code",
   "execution_count": 20,
   "metadata": {
    "ExecuteTime": {
     "end_time": "2016-10-12T18:18:04.056281",
     "start_time": "2016-10-12T18:18:03.943397"
    },
    "collapsed": false
   },
   "outputs": [],
   "source": [
    "for i in not_full_years:\n",
    "    df2 = df2.drop(df2[df2['Year']==i].index)"
   ]
  },
  {
   "cell_type": "code",
   "execution_count": 21,
   "metadata": {
    "ExecuteTime": {
     "end_time": "2016-10-12T18:18:04.080298",
     "start_time": "2016-10-12T18:18:04.058451"
    },
    "collapsed": false
   },
   "outputs": [
    {
     "data": {
      "text/plain": [
       "array(['Date', 'Store Number', 'Zip Code', 'Category', 'Category Name',\n",
       "       'Vendor Number', 'Item Number', 'Item Description',\n",
       "       'Bottle Volume (ml)', 'State Bottle Cost', 'State Bottle Retail',\n",
       "       'Bottles Sold', 'Sale (Dollars)', 'Volume Sold (Liters)',\n",
       "       'Volume Sold (Gallons)', 'City', 'County', 'County Number',\n",
       "       'Area (sqkm)', 'Month', 'Year'], dtype=object)"
      ]
     },
     "execution_count": 21,
     "metadata": {},
     "output_type": "execute_result"
    }
   ],
   "source": [
    "df2.columns.values"
   ]
  },
  {
   "cell_type": "code",
   "execution_count": 22,
   "metadata": {
    "ExecuteTime": {
     "end_time": "2016-10-12T18:18:05.476486",
     "start_time": "2016-10-12T18:18:04.083756"
    },
    "collapsed": false
   },
   "outputs": [
    {
     "data": {
      "image/png": "[encoded data removed]",
      "text/plain": [
       "<matplotlib.figure.Figure at 0x103cb0dd0>"
      ]
     },
     "metadata": {},
     "output_type": "display_data"
    },
    {
     "name": "stdout",
     "output_type": "stream",
     "text": [
      "\n"
     ]
    },
    {
     "data": {
      "image/png": "[encoded data removed]",
      "text/plain": [
       "<matplotlib.figure.Figure at 0x117583f90>"
      ]
     },
     "metadata": {},
     "output_type": "display_data"
    },
    {
     "name": "stdout",
     "output_type": "stream",
     "text": [
      "\n"
     ]
    },
    {
     "data": {
      "image/png": "[encoded data removed]",
      "text/plain": [
       "<matplotlib.figure.Figure at 0x11ad76050>"
      ]
     },
     "metadata": {},
     "output_type": "display_data"
    },
    {
     "name": "stdout",
     "output_type": "stream",
     "text": [
      "\n"
     ]
    }
   ],
   "source": [
    "# Let's take a look at the distribution of 'Bottles Sold', 'Sale (Dollars)', and 'Volume Sold (Liters)'\n",
    "# aggregated by store number\n",
    "hist_cols = ['Bottles Sold', 'Sale (Dollars)', 'Volume Sold (Liters)']\n",
    "for i in hist_cols:\n",
    "    sns.distplot(df2.groupby('Store Number')[i].sum());\n",
    "    plt.title(i);\n",
    "    plt.xlabel(i);\n",
    "    plt.ylabel('Frequency');\n",
    "    plt.xticks(rotation=45);\n",
    "    plt.show();\n",
    "    print "
   ]
  },
  {
   "cell_type": "markdown",
   "metadata": {},
   "source": [
    "We can see that there are outliers in all cases."
   ]
  },
  {
   "cell_type": "code",
   "execution_count": 23,
   "metadata": {
    "ExecuteTime": {
     "end_time": "2016-10-12T18:18:05.929889",
     "start_time": "2016-10-12T18:18:05.478667"
    },
    "collapsed": false
   },
   "outputs": [
    {
     "data": {
      "text/html": [
       "<div>\n",
       "<table border=\"1\" class=\"dataframe\">\n",
       "  <thead>\n",
       "    <tr style=\"text-align: right;\">\n",
       "      <th></th>\n",
       "      <th>Zip Code</th>\n",
       "      <th>Sale (Dollars)</th>\n",
       "      <th>Volume Sold (Liters)</th>\n",
       "    </tr>\n",
       "  </thead>\n",
       "  <tbody>\n",
       "    <tr>\n",
       "      <th>94</th>\n",
       "      <td>50320</td>\n",
       "      <td>1071059.83</td>\n",
       "      <td>66445.76</td>\n",
       "    </tr>\n",
       "    <tr>\n",
       "      <th>90</th>\n",
       "      <td>50314</td>\n",
       "      <td>1070054.58</td>\n",
       "      <td>60405.77</td>\n",
       "    </tr>\n",
       "    <tr>\n",
       "      <th>353</th>\n",
       "      <td>52402</td>\n",
       "      <td>981966.84</td>\n",
       "      <td>69868.17</td>\n",
       "    </tr>\n",
       "    <tr>\n",
       "      <th>319</th>\n",
       "      <td>52240</td>\n",
       "      <td>876783.44</td>\n",
       "      <td>55395.70</td>\n",
       "    </tr>\n",
       "    <tr>\n",
       "      <th>5</th>\n",
       "      <td>50010</td>\n",
       "      <td>772044.25</td>\n",
       "      <td>52520.63</td>\n",
       "    </tr>\n",
       "    <tr>\n",
       "      <th>402</th>\n",
       "      <td>52807</td>\n",
       "      <td>596760.04</td>\n",
       "      <td>39658.85</td>\n",
       "    </tr>\n",
       "    <tr>\n",
       "      <th>87</th>\n",
       "      <td>50311</td>\n",
       "      <td>593241.84</td>\n",
       "      <td>41567.34</td>\n",
       "    </tr>\n",
       "    <tr>\n",
       "      <th>381</th>\n",
       "      <td>52722</td>\n",
       "      <td>566650.78</td>\n",
       "      <td>34494.76</td>\n",
       "    </tr>\n",
       "    <tr>\n",
       "      <th>256</th>\n",
       "      <td>51501</td>\n",
       "      <td>551026.67</td>\n",
       "      <td>36391.64</td>\n",
       "    </tr>\n",
       "    <tr>\n",
       "      <th>82</th>\n",
       "      <td>50266</td>\n",
       "      <td>545474.21</td>\n",
       "      <td>31487.31</td>\n",
       "    </tr>\n",
       "  </tbody>\n",
       "</table>\n",
       "</div>"
      ],
      "text/plain": [
       "    Zip Code  Sale (Dollars)  Volume Sold (Liters)\n",
       "94     50320      1071059.83              66445.76\n",
       "90     50314      1070054.58              60405.77\n",
       "353    52402       981966.84              69868.17\n",
       "319    52240       876783.44              55395.70\n",
       "5      50010       772044.25              52520.63\n",
       "402    52807       596760.04              39658.85\n",
       "87     50311       593241.84              41567.34\n",
       "381    52722       566650.78              34494.76\n",
       "256    51501       551026.67              36391.64\n",
       "82     50266       545474.21              31487.31"
      ]
     },
     "execution_count": 23,
     "metadata": {},
     "output_type": "execute_result"
    }
   ],
   "source": [
    "# Taking a look at our top sales by zip code\n",
    "top_sales = df2.copy()\n",
    "top_sales.groupby('Zip Code')[['Sale (Dollars)', 'Volume Sold (Liters)']].\\\n",
    "sum().reset_index().sort_values(by='Sale (Dollars)', ascending=False).head(10)"
   ]
  },
  {
   "cell_type": "code",
   "execution_count": 56,
   "metadata": {
    "ExecuteTime": {
     "end_time": "2016-10-12T18:18:05.938651",
     "start_time": "2016-10-12T18:18:05.932091"
    },
    "collapsed": false
   },
   "outputs": [],
   "source": [
    "def draw_histograms(data, col):\n",
    "    sns.distplot(data[col]);\n",
    "    plt.title(col);\n",
    "    plt.xlabel(col);\n",
    "    plt.ylabel('Frequency');\n",
    "    plt.xticks(rotation=45);\n",
    "    plt.show();\n",
    "    print "
   ]
  },
  {
   "cell_type": "code",
   "execution_count": 58,
   "metadata": {
    "ExecuteTime": {
     "end_time": "2016-10-12T18:18:06.762923",
     "start_time": "2016-10-12T18:18:05.941243"
    },
    "collapsed": false
   },
   "outputs": [
    {
     "data": {
      "image/png": "[encoded data removed]",
      "text/plain": [
       "<matplotlib.figure.Figure at 0x11c4947d0>"
      ]
     },
     "metadata": {},
     "output_type": "display_data"
    },
    {
     "name": "stdout",
     "output_type": "stream",
     "text": [
      "\n"
     ]
    },
    {
     "data": {
      "image/png": "[encoded data removed]",
      "text/plain": [
       "<matplotlib.figure.Figure at 0x11ecbab50>"
      ]
     },
     "metadata": {},
     "output_type": "display_data"
    },
    {
     "name": "stdout",
     "output_type": "stream",
     "text": [
      "\n"
     ]
    }
   ],
   "source": [
    "# Mean sales and volume by zip codes\n",
    "agg_columns = ['Sale (Dollars)', 'Volume Sold (Liters)']\n",
    "zip_mean = df2.groupby('Zip Code')[agg_columns].mean().reset_index()\n",
    "zip_mean.columns = ['Zip Code', 'Mean Zip Sales', 'Mean Zip Volume']\n",
    "zip_mean_aggs = ['Mean Zip Sales', 'Mean Zip Volume']\n",
    "\n",
    "for i in zip_mean_aggs:\n",
    "    draw_histograms(zip_mean, i)"
   ]
  },
  {
   "cell_type": "code",
   "execution_count": 26,
   "metadata": {
    "ExecuteTime": {
     "end_time": "2016-10-12T18:18:06.772572",
     "start_time": "2016-10-12T18:18:06.765777"
    },
    "collapsed": false
   },
   "outputs": [
    {
     "data": {
      "text/plain": [
       "array(['Area', 'Total Pop', 'Median HH Inc', 'Per Capita Inc', 'White',\n",
       "       'Afr Amer', 'Native Amer', 'Asian Amer', 'Pac Islander', 'Other',\n",
       "       'Bi- Multi-Racial', 'Hispanic or Latino', 'Med Age', '<5 years',\n",
       "       '5-17 yrs', '18-20 yrs', '21-24 yrs', '25-34 yrs', '35-44 yrs',\n",
       "       '45-54 yrs', '55-59 yrs', '60-64 yrs', '65-74 yrs', '78-84 yrs',\n",
       "       '85+ yrs', '% P16+ in labor force', 'Total # Homes Owned',\n",
       "       'Med. Home Value', 'Tot Housing units',\n",
       "       'Owner occupied housing units', 'Renter occupied housing units',\n",
       "       'households', 'Family households',\n",
       "       'Married-couple family households', 'Single mother households',\n",
       "       'Nonfamily households', 'Single Occupancy', 'Avg HH Size',\n",
       "       'Avg Family Size', 'Pop Below Poverty Level', '% P25+ HS Grad',\n",
       "       '% P25-54 BA+'], dtype=object)"
      ]
     },
     "execution_count": 26,
     "metadata": {},
     "output_type": "execute_result"
    }
   ],
   "source": [
    "# We'll take a look at our demographic data as well\n",
    "demo_data.columns.values"
   ]
  },
  {
   "cell_type": "code",
   "execution_count": 27,
   "metadata": {
    "ExecuteTime": {
     "end_time": "2016-10-12T18:18:08.235253",
     "start_time": "2016-10-12T18:18:06.775242"
    },
    "collapsed": false
   },
   "outputs": [
    {
     "data": {
      "image/png": "[encoded data removed]",
      "text/plain": [
       "<matplotlib.figure.Figure at 0x117583b90>"
      ]
     },
     "metadata": {},
     "output_type": "display_data"
    },
    {
     "name": "stdout",
     "output_type": "stream",
     "text": [
      "\n"
     ]
    },
    {
     "data": {
      "image/png": "[encoded data removed]",
      "text/plain": [
       "<matplotlib.figure.Figure at 0x11e6769d0>"
      ]
     },
     "metadata": {},
     "output_type": "display_data"
    },
    {
     "name": "stdout",
     "output_type": "stream",
     "text": [
      "\n"
     ]
    },
    {
     "data": {
      "image/png": "[encoded data removed]",
      "text/plain": [
       "<matplotlib.figure.Figure at 0x11e2a3810>"
      ]
     },
     "metadata": {},
     "output_type": "display_data"
    },
    {
     "name": "stdout",
     "output_type": "stream",
     "text": [
      "\n"
     ]
    }
   ],
   "source": [
    "demo_hist_cols = ['Per Capita Inc', 'Pop Below Poverty Level', '% P16+ in labor force']\n",
    "for i in demo_hist_cols:\n",
    "    draw_histograms(demo_data, i)"
   ]
  },
  {
   "cell_type": "markdown",
   "metadata": {},
   "source": [
    "## Record your findings\n",
    "\n",
    "Be sure to write out anything observations from your exploratory analysis."
   ]
  },
  {
   "cell_type": "markdown",
   "metadata": {},
   "source": [
    "For the purposes of our market research, we are interested in total sales grouped by zip codes.  \n",
    "To get a fair idea of how each zip code does, we would want to remove the outlier stores (stores that do exceptionally well or poor) as these may not be a good indication of how an average store would fare in that zip code."
   ]
  },
  {
   "cell_type": "markdown",
   "metadata": {},
   "source": [
    "# Mine the data\n",
    "Now you are ready to compute the variables you will use for your regression from the data. For example, you may want to\n",
    "compute total sales per store from Jan to March of 2015, mean price per bottle, etc. Refer to the readme for more ideas appropriate to your scenario.\n",
    "\n",
    "Pandas is your friend for this task. Take a look at the operations [here](http://pandas.pydata.org/pandas-docs/stable/groupby.html) for ideas on how to make the best use of pandas and feel free to search for blog and Stack Overflow posts to help you group data by certain variables and compute sums, means, etc. You may find it useful to create a new data frame to house this summary data."
   ]
  },
  {
   "cell_type": "code",
   "execution_count": 28,
   "metadata": {
    "ExecuteTime": {
     "end_time": "2016-10-12T18:18:08.242929",
     "start_time": "2016-10-12T18:18:08.237626"
    },
    "collapsed": false
   },
   "outputs": [
    {
     "data": {
      "text/plain": [
       "array(['Date', 'Store Number', 'Zip Code', 'Category', 'Category Name',\n",
       "       'Vendor Number', 'Item Number', 'Item Description',\n",
       "       'Bottle Volume (ml)', 'State Bottle Cost', 'State Bottle Retail',\n",
       "       'Bottles Sold', 'Sale (Dollars)', 'Volume Sold (Liters)',\n",
       "       'Volume Sold (Gallons)', 'City', 'County', 'County Number',\n",
       "       'Area (sqkm)', 'Month', 'Year'], dtype=object)"
      ]
     },
     "execution_count": 28,
     "metadata": {},
     "output_type": "execute_result"
    }
   ],
   "source": [
    "df2.columns.values"
   ]
  },
  {
   "cell_type": "code",
   "execution_count": 29,
   "metadata": {
    "ExecuteTime": {
     "end_time": "2016-10-12T18:18:08.262875",
     "start_time": "2016-10-12T18:18:08.244857"
    },
    "collapsed": false
   },
   "outputs": [],
   "source": [
    "# Aggregate sales and volume by stores\n",
    "store_summary = df2.groupby('Store Number')[agg_columns].sum().reset_index()\n",
    "store_summary.columns = ['Store Number', 'Store Sales', 'Store Volume']\n",
    "store_aggs = ['Store Sales', 'Store Volume']"
   ]
  },
  {
   "cell_type": "code",
   "execution_count": 30,
   "metadata": {
    "ExecuteTime": {
     "end_time": "2016-10-12T18:18:09.084589",
     "start_time": "2016-10-12T18:18:08.265198"
    },
    "collapsed": false
   },
   "outputs": [
    {
     "data": {
      "image/png": "[encoded data removed]",
      "text/plain": [
       "<matplotlib.figure.Figure at 0x1177c41d0>"
      ]
     },
     "metadata": {},
     "output_type": "display_data"
    },
    {
     "name": "stdout",
     "output_type": "stream",
     "text": [
      "\n"
     ]
    },
    {
     "data": {
      "image/png": "[encoded data removed]",
      "text/plain": [
       "<matplotlib.figure.Figure at 0x11dd9ad50>"
      ]
     },
     "metadata": {},
     "output_type": "display_data"
    },
    {
     "name": "stdout",
     "output_type": "stream",
     "text": [
      "\n"
     ]
    }
   ],
   "source": [
    "for i in store_aggs:\n",
    "    draw_histograms(store_summary, i)"
   ]
  },
  {
   "cell_type": "code",
   "execution_count": 31,
   "metadata": {
    "ExecuteTime": {
     "end_time": "2016-10-12T18:18:09.092799",
     "start_time": "2016-10-12T18:18:09.087624"
    },
    "collapsed": false
   },
   "outputs": [],
   "source": [
    "# In terms of total sales, we will remove the outliers\n",
    "# Set at total sales > 100000\n",
    "store_summary = store_summary[store_summary['Store Sales'] <= 100000]"
   ]
  },
  {
   "cell_type": "code",
   "execution_count": 32,
   "metadata": {
    "ExecuteTime": {
     "end_time": "2016-10-12T18:18:10.021280",
     "start_time": "2016-10-12T18:18:09.096067"
    },
    "collapsed": false
   },
   "outputs": [
    {
     "data": {
      "image/png": "[encoded data removed]",
      "text/plain": [
       "<matplotlib.figure.Figure at 0x1183d2990>"
      ]
     },
     "metadata": {},
     "output_type": "display_data"
    },
    {
     "name": "stdout",
     "output_type": "stream",
     "text": [
      "\n"
     ]
    },
    {
     "data": {
      "image/png": "[encoded data removed]",
      "text/plain": [
       "<matplotlib.figure.Figure at 0x11a447d50>"
      ]
     },
     "metadata": {},
     "output_type": "display_data"
    },
    {
     "name": "stdout",
     "output_type": "stream",
     "text": [
      "\n"
     ]
    }
   ],
   "source": [
    "for i in store_aggs:\n",
    "    draw_histograms(store_summary, i)"
   ]
  },
  {
   "cell_type": "markdown",
   "metadata": {},
   "source": [
    "The data is still skewed but not as much as before."
   ]
  },
  {
   "cell_type": "code",
   "execution_count": 33,
   "metadata": {
    "ExecuteTime": {
     "end_time": "2016-10-12T18:18:10.210728",
     "start_time": "2016-10-12T18:18:10.024413"
    },
    "collapsed": false
   },
   "outputs": [],
   "source": [
    "# Now merge the summary with our cleaned dataset \n",
    "columns_required = ['Year', 'Month', 'Store Number', 'Zip Code', 'Area (sqkm)']\n",
    "df3 = df2.copy()[columns_required].merge(store_summary, how='left', on='Store Number').drop_duplicates()"
   ]
  },
  {
   "cell_type": "code",
   "execution_count": 34,
   "metadata": {
    "ExecuteTime": {
     "end_time": "2016-10-12T18:18:10.233517",
     "start_time": "2016-10-12T18:18:10.212805"
    },
    "collapsed": false
   },
   "outputs": [
    {
     "data": {
      "text/html": [
       "<div>\n",
       "<table border=\"1\" class=\"dataframe\">\n",
       "  <thead>\n",
       "    <tr style=\"text-align: right;\">\n",
       "      <th></th>\n",
       "      <th>Year</th>\n",
       "      <th>Month</th>\n",
       "      <th>Store Number</th>\n",
       "      <th>Zip Code</th>\n",
       "      <th>Area (sqkm)</th>\n",
       "      <th>Store Sales</th>\n",
       "      <th>Store Volume</th>\n",
       "    </tr>\n",
       "  </thead>\n",
       "  <tbody>\n",
       "    <tr>\n",
       "      <th>0</th>\n",
       "      <td>2015</td>\n",
       "      <td>11</td>\n",
       "      <td>3717</td>\n",
       "      <td>50674</td>\n",
       "      <td>408.69</td>\n",
       "      <td>9022.86</td>\n",
       "      <td>685.53</td>\n",
       "    </tr>\n",
       "    <tr>\n",
       "      <th>1</th>\n",
       "      <td>2015</td>\n",
       "      <td>8</td>\n",
       "      <td>3654</td>\n",
       "      <td>50421</td>\n",
       "      <td>232.91</td>\n",
       "      <td>9479.30</td>\n",
       "      <td>819.75</td>\n",
       "    </tr>\n",
       "    <tr>\n",
       "      <th>2</th>\n",
       "      <td>2015</td>\n",
       "      <td>4</td>\n",
       "      <td>2569</td>\n",
       "      <td>52402</td>\n",
       "      <td>36.42</td>\n",
       "      <td>48675.15</td>\n",
       "      <td>3607.84</td>\n",
       "    </tr>\n",
       "    <tr>\n",
       "      <th>3</th>\n",
       "      <td>2015</td>\n",
       "      <td>8</td>\n",
       "      <td>2596</td>\n",
       "      <td>52501</td>\n",
       "      <td>591.30</td>\n",
       "      <td>30207.68</td>\n",
       "      <td>2737.63</td>\n",
       "    </tr>\n",
       "    <tr>\n",
       "      <th>4</th>\n",
       "      <td>2015</td>\n",
       "      <td>6</td>\n",
       "      <td>3456</td>\n",
       "      <td>50428</td>\n",
       "      <td>316.38</td>\n",
       "      <td>69189.36</td>\n",
       "      <td>4788.19</td>\n",
       "    </tr>\n",
       "  </tbody>\n",
       "</table>\n",
       "</div>"
      ],
      "text/plain": [
       "   Year  Month  Store Number Zip Code  Area (sqkm)  Store Sales  Store Volume\n",
       "0  2015     11          3717    50674       408.69      9022.86        685.53\n",
       "1  2015      8          3654    50421       232.91      9479.30        819.75\n",
       "2  2015      4          2569    52402        36.42     48675.15       3607.84\n",
       "3  2015      8          2596    52501       591.30     30207.68       2737.63\n",
       "4  2015      6          3456    50428       316.38     69189.36       4788.19"
      ]
     },
     "execution_count": 34,
     "metadata": {},
     "output_type": "execute_result"
    }
   ],
   "source": [
    "df3.head()"
   ]
  },
  {
   "cell_type": "code",
   "execution_count": 35,
   "metadata": {
    "ExecuteTime": {
     "end_time": "2016-10-12T18:18:10.247852",
     "start_time": "2016-10-12T18:18:10.235539"
    },
    "collapsed": false
   },
   "outputs": [],
   "source": [
    "# Aggregate sales and volume by zip code\n",
    "zip_summary = df3.groupby('Zip Code')[store_aggs].sum().reset_index().dropna()\n",
    "zip_summary.columns = ['Zip Code', 'Zip Sales - Total', 'Zip Volume - Total']\n",
    "zip_aggs = ['Zip Sales - Total', 'Zip Volume - Total']"
   ]
  },
  {
   "cell_type": "code",
   "execution_count": 36,
   "metadata": {
    "ExecuteTime": {
     "end_time": "2016-10-12T18:18:11.067131",
     "start_time": "2016-10-12T18:18:10.250092"
    },
    "collapsed": false
   },
   "outputs": [
    {
     "data": {
      "image/png": "[encoded data removed]",
      "text/plain": [
       "<matplotlib.figure.Figure at 0x11ace9350>"
      ]
     },
     "metadata": {},
     "output_type": "display_data"
    },
    {
     "name": "stdout",
     "output_type": "stream",
     "text": [
      "\n"
     ]
    },
    {
     "data": {
      "image/png": "[encoded data removed]",
      "text/plain": [
       "<matplotlib.figure.Figure at 0x11c34f550>"
      ]
     },
     "metadata": {},
     "output_type": "display_data"
    },
    {
     "name": "stdout",
     "output_type": "stream",
     "text": [
      "\n"
     ]
    }
   ],
   "source": [
    "for i in zip_aggs:\n",
    "    draw_histograms(zip_summary, i)"
   ]
  },
  {
   "cell_type": "markdown",
   "metadata": {},
   "source": [
    "We won't be dropping outliers at the zip level because we want to see the zips that are doing well."
   ]
  },
  {
   "cell_type": "code",
   "execution_count": 37,
   "metadata": {
    "ExecuteTime": {
     "end_time": "2016-10-12T18:18:11.082170",
     "start_time": "2016-10-12T18:18:11.070132"
    },
    "collapsed": false
   },
   "outputs": [],
   "source": [
    "# Mean sales and volume by zip code\n",
    "zip_mean = df3.groupby('Zip Code')[store_aggs].mean().reset_index().dropna()\n",
    "zip_mean.columns = ['Zip Code', 'Zip Sales - Mean', 'Zip Volume - Mean']\n",
    "zip_mean_aggs = ['Zip Sales - Mean', 'Zip Volume - Mean']"
   ]
  },
  {
   "cell_type": "code",
   "execution_count": 38,
   "metadata": {
    "ExecuteTime": {
     "end_time": "2016-10-12T18:18:11.798668",
     "start_time": "2016-10-12T18:18:11.085011"
    },
    "collapsed": false
   },
   "outputs": [
    {
     "data": {
      "image/png": "[encoded data removed]",
      "text/plain": [
       "<matplotlib.figure.Figure at 0x1177e0f10>"
      ]
     },
     "metadata": {},
     "output_type": "display_data"
    },
    {
     "name": "stdout",
     "output_type": "stream",
     "text": [
      "\n"
     ]
    },
    {
     "data": {
      "image/png": "[encoded data removed]",
      "text/plain": [
       "<matplotlib.figure.Figure at 0x11ad9b650>"
      ]
     },
     "metadata": {},
     "output_type": "display_data"
    },
    {
     "name": "stdout",
     "output_type": "stream",
     "text": [
      "\n"
     ]
    }
   ],
   "source": [
    "for i in zip_mean_aggs:\n",
    "    draw_histograms(zip_mean, i)"
   ]
  },
  {
   "cell_type": "code",
   "execution_count": 39,
   "metadata": {
    "ExecuteTime": {
     "end_time": "2016-10-12T18:18:11.896456",
     "start_time": "2016-10-12T18:18:11.801392"
    },
    "collapsed": false
   },
   "outputs": [
    {
     "data": {
      "text/html": [
       "<div>\n",
       "<table border=\"1\" class=\"dataframe\">\n",
       "  <thead>\n",
       "    <tr style=\"text-align: right;\">\n",
       "      <th></th>\n",
       "      <th>Year</th>\n",
       "      <th>Month</th>\n",
       "      <th>Store Number</th>\n",
       "      <th>Zip Code</th>\n",
       "      <th>Area (sqkm)</th>\n",
       "      <th>Zip Sales - Total</th>\n",
       "      <th>Zip Volume - Total</th>\n",
       "      <th>Zip Sales - Mean</th>\n",
       "      <th>Zip Volume - Mean</th>\n",
       "    </tr>\n",
       "  </thead>\n",
       "  <tbody>\n",
       "    <tr>\n",
       "      <th>0</th>\n",
       "      <td>2015</td>\n",
       "      <td>11</td>\n",
       "      <td>3717</td>\n",
       "      <td>50674</td>\n",
       "      <td>408.69</td>\n",
       "      <td>108274.32</td>\n",
       "      <td>8226.36</td>\n",
       "      <td>9022.86</td>\n",
       "      <td>685.53</td>\n",
       "    </tr>\n",
       "    <tr>\n",
       "      <th>1</th>\n",
       "      <td>2015</td>\n",
       "      <td>8</td>\n",
       "      <td>3654</td>\n",
       "      <td>50421</td>\n",
       "      <td>232.91</td>\n",
       "      <td>326551.56</td>\n",
       "      <td>29382.00</td>\n",
       "      <td>9070.88</td>\n",
       "      <td>816.17</td>\n",
       "    </tr>\n",
       "    <tr>\n",
       "      <th>2</th>\n",
       "      <td>2015</td>\n",
       "      <td>4</td>\n",
       "      <td>2569</td>\n",
       "      <td>52402</td>\n",
       "      <td>36.42</td>\n",
       "      <td>4842123.87</td>\n",
       "      <td>355292.99</td>\n",
       "      <td>18135.30</td>\n",
       "      <td>1330.69</td>\n",
       "    </tr>\n",
       "    <tr>\n",
       "      <th>3</th>\n",
       "      <td>2015</td>\n",
       "      <td>8</td>\n",
       "      <td>2596</td>\n",
       "      <td>52501</td>\n",
       "      <td>591.30</td>\n",
       "      <td>3022195.08</td>\n",
       "      <td>210264.18</td>\n",
       "      <td>27474.50</td>\n",
       "      <td>1911.49</td>\n",
       "    </tr>\n",
       "    <tr>\n",
       "      <th>4</th>\n",
       "      <td>2015</td>\n",
       "      <td>6</td>\n",
       "      <td>3456</td>\n",
       "      <td>50428</td>\n",
       "      <td>316.38</td>\n",
       "      <td>1925031.60</td>\n",
       "      <td>141398.28</td>\n",
       "      <td>40104.83</td>\n",
       "      <td>2945.80</td>\n",
       "    </tr>\n",
       "  </tbody>\n",
       "</table>\n",
       "</div>"
      ],
      "text/plain": [
       "   Year  Month  Store Number Zip Code  Area (sqkm)  Zip Sales - Total  \\\n",
       "0  2015     11          3717    50674       408.69          108274.32   \n",
       "1  2015      8          3654    50421       232.91          326551.56   \n",
       "2  2015      4          2569    52402        36.42         4842123.87   \n",
       "3  2015      8          2596    52501       591.30         3022195.08   \n",
       "4  2015      6          3456    50428       316.38         1925031.60   \n",
       "\n",
       "   Zip Volume - Total  Zip Sales - Mean  Zip Volume - Mean  \n",
       "0             8226.36           9022.86             685.53  \n",
       "1            29382.00           9070.88             816.17  \n",
       "2           355292.99          18135.30            1330.69  \n",
       "3           210264.18          27474.50            1911.49  \n",
       "4           141398.28          40104.83            2945.80  "
      ]
     },
     "execution_count": 39,
     "metadata": {},
     "output_type": "execute_result"
    }
   ],
   "source": [
    "df3 = df3[columns_required].merge(zip_summary, how='left', on='Zip Code').drop_duplicates()\n",
    "df3 = df3.merge(zip_mean, how='left', on='Zip Code').drop_duplicates()\n",
    "df3.head()"
   ]
  },
  {
   "cell_type": "code",
   "execution_count": 40,
   "metadata": {
    "ExecuteTime": {
     "end_time": "2016-10-12T18:18:12.023166",
     "start_time": "2016-10-12T18:18:11.899739"
    },
    "collapsed": false
   },
   "outputs": [
    {
     "data": {
      "text/html": [
       "<div>\n",
       "<table border=\"1\" class=\"dataframe\">\n",
       "  <thead>\n",
       "    <tr style=\"text-align: right;\">\n",
       "      <th></th>\n",
       "      <th>Year</th>\n",
       "      <th>Month</th>\n",
       "      <th>Store Number</th>\n",
       "      <th>Zip Code</th>\n",
       "      <th>Area (sqkm)</th>\n",
       "      <th>Zip Sales - Total</th>\n",
       "      <th>Zip Volume - Total</th>\n",
       "      <th>Zip Sales - Mean</th>\n",
       "      <th>Zip Volume - Mean</th>\n",
       "      <th>Dollar per liter</th>\n",
       "    </tr>\n",
       "  </thead>\n",
       "  <tbody>\n",
       "    <tr>\n",
       "      <th>0</th>\n",
       "      <td>2015</td>\n",
       "      <td>11</td>\n",
       "      <td>3717</td>\n",
       "      <td>50674</td>\n",
       "      <td>408.69</td>\n",
       "      <td>108274.32</td>\n",
       "      <td>8226.36</td>\n",
       "      <td>9022.86</td>\n",
       "      <td>685.53</td>\n",
       "      <td>13.16</td>\n",
       "    </tr>\n",
       "    <tr>\n",
       "      <th>1</th>\n",
       "      <td>2015</td>\n",
       "      <td>8</td>\n",
       "      <td>3654</td>\n",
       "      <td>50421</td>\n",
       "      <td>232.91</td>\n",
       "      <td>326551.56</td>\n",
       "      <td>29382.00</td>\n",
       "      <td>9070.88</td>\n",
       "      <td>816.17</td>\n",
       "      <td>11.11</td>\n",
       "    </tr>\n",
       "    <tr>\n",
       "      <th>2</th>\n",
       "      <td>2015</td>\n",
       "      <td>4</td>\n",
       "      <td>2569</td>\n",
       "      <td>52402</td>\n",
       "      <td>36.42</td>\n",
       "      <td>4842123.87</td>\n",
       "      <td>355292.99</td>\n",
       "      <td>18135.30</td>\n",
       "      <td>1330.69</td>\n",
       "      <td>13.63</td>\n",
       "    </tr>\n",
       "    <tr>\n",
       "      <th>3</th>\n",
       "      <td>2015</td>\n",
       "      <td>8</td>\n",
       "      <td>2596</td>\n",
       "      <td>52501</td>\n",
       "      <td>591.30</td>\n",
       "      <td>3022195.08</td>\n",
       "      <td>210264.18</td>\n",
       "      <td>27474.50</td>\n",
       "      <td>1911.49</td>\n",
       "      <td>14.37</td>\n",
       "    </tr>\n",
       "    <tr>\n",
       "      <th>4</th>\n",
       "      <td>2015</td>\n",
       "      <td>6</td>\n",
       "      <td>3456</td>\n",
       "      <td>50428</td>\n",
       "      <td>316.38</td>\n",
       "      <td>1925031.60</td>\n",
       "      <td>141398.28</td>\n",
       "      <td>40104.83</td>\n",
       "      <td>2945.80</td>\n",
       "      <td>13.61</td>\n",
       "    </tr>\n",
       "  </tbody>\n",
       "</table>\n",
       "</div>"
      ],
      "text/plain": [
       "   Year  Month  Store Number Zip Code  Area (sqkm)  Zip Sales - Total  \\\n",
       "0  2015     11          3717    50674       408.69          108274.32   \n",
       "1  2015      8          3654    50421       232.91          326551.56   \n",
       "2  2015      4          2569    52402        36.42         4842123.87   \n",
       "3  2015      8          2596    52501       591.30         3022195.08   \n",
       "4  2015      6          3456    50428       316.38         1925031.60   \n",
       "\n",
       "   Zip Volume - Total  Zip Sales - Mean  Zip Volume - Mean  Dollar per liter  \n",
       "0             8226.36           9022.86             685.53             13.16  \n",
       "1            29382.00           9070.88             816.17             11.11  \n",
       "2           355292.99          18135.30            1330.69             13.63  \n",
       "3           210264.18          27474.50            1911.49             14.37  \n",
       "4           141398.28          40104.83            2945.80             13.61  "
      ]
     },
     "execution_count": 40,
     "metadata": {},
     "output_type": "execute_result"
    }
   ],
   "source": [
    "# Add a column for price per liter based on mean sales and mean volumes\n",
    "df3['Dollar per liter'] = df3['Zip Sales - Total']/df3['Zip Volume - Total']\n",
    "df3.head()"
   ]
  },
  {
   "cell_type": "code",
   "execution_count": 41,
   "metadata": {
    "ExecuteTime": {
     "end_time": "2016-10-12T18:18:12.103065",
     "start_time": "2016-10-12T18:18:12.025694"
    },
    "collapsed": false
   },
   "outputs": [
    {
     "data": {
      "text/html": [
       "<div>\n",
       "<table border=\"1\" class=\"dataframe\">\n",
       "  <thead>\n",
       "    <tr style=\"text-align: right;\">\n",
       "      <th></th>\n",
       "      <th>Year</th>\n",
       "      <th>Month</th>\n",
       "      <th>Store Number</th>\n",
       "      <th>Zip Code</th>\n",
       "      <th>Area (sqkm)</th>\n",
       "      <th>Zip Sales - Total</th>\n",
       "      <th>Zip Volume - Total</th>\n",
       "      <th>Zip Sales - Mean</th>\n",
       "      <th>Zip Volume - Mean</th>\n",
       "      <th>Dollar per liter</th>\n",
       "      <th>Store Count</th>\n",
       "    </tr>\n",
       "  </thead>\n",
       "  <tbody>\n",
       "    <tr>\n",
       "      <th>0</th>\n",
       "      <td>2015</td>\n",
       "      <td>11</td>\n",
       "      <td>3717</td>\n",
       "      <td>50674</td>\n",
       "      <td>408.69</td>\n",
       "      <td>108274.32</td>\n",
       "      <td>8226.36</td>\n",
       "      <td>9022.86</td>\n",
       "      <td>685.53</td>\n",
       "      <td>13.16</td>\n",
       "      <td>1</td>\n",
       "    </tr>\n",
       "    <tr>\n",
       "      <th>1</th>\n",
       "      <td>2015</td>\n",
       "      <td>8</td>\n",
       "      <td>3654</td>\n",
       "      <td>50421</td>\n",
       "      <td>232.91</td>\n",
       "      <td>326551.56</td>\n",
       "      <td>29382.00</td>\n",
       "      <td>9070.88</td>\n",
       "      <td>816.17</td>\n",
       "      <td>11.11</td>\n",
       "      <td>3</td>\n",
       "    </tr>\n",
       "    <tr>\n",
       "      <th>2</th>\n",
       "      <td>2015</td>\n",
       "      <td>4</td>\n",
       "      <td>2569</td>\n",
       "      <td>52402</td>\n",
       "      <td>36.42</td>\n",
       "      <td>4842123.87</td>\n",
       "      <td>355292.99</td>\n",
       "      <td>18135.30</td>\n",
       "      <td>1330.69</td>\n",
       "      <td>13.63</td>\n",
       "      <td>28</td>\n",
       "    </tr>\n",
       "    <tr>\n",
       "      <th>3</th>\n",
       "      <td>2015</td>\n",
       "      <td>8</td>\n",
       "      <td>2596</td>\n",
       "      <td>52501</td>\n",
       "      <td>591.30</td>\n",
       "      <td>3022195.08</td>\n",
       "      <td>210264.18</td>\n",
       "      <td>27474.50</td>\n",
       "      <td>1911.49</td>\n",
       "      <td>14.37</td>\n",
       "      <td>11</td>\n",
       "    </tr>\n",
       "    <tr>\n",
       "      <th>4</th>\n",
       "      <td>2015</td>\n",
       "      <td>6</td>\n",
       "      <td>3456</td>\n",
       "      <td>50428</td>\n",
       "      <td>316.38</td>\n",
       "      <td>1925031.60</td>\n",
       "      <td>141398.28</td>\n",
       "      <td>40104.83</td>\n",
       "      <td>2945.80</td>\n",
       "      <td>13.61</td>\n",
       "      <td>4</td>\n",
       "    </tr>\n",
       "  </tbody>\n",
       "</table>\n",
       "</div>"
      ],
      "text/plain": [
       "   Year  Month  Store Number Zip Code  Area (sqkm)  Zip Sales - Total  \\\n",
       "0  2015     11          3717    50674       408.69          108274.32   \n",
       "1  2015      8          3654    50421       232.91          326551.56   \n",
       "2  2015      4          2569    52402        36.42         4842123.87   \n",
       "3  2015      8          2596    52501       591.30         3022195.08   \n",
       "4  2015      6          3456    50428       316.38         1925031.60   \n",
       "\n",
       "   Zip Volume - Total  Zip Sales - Mean  Zip Volume - Mean  Dollar per liter  \\\n",
       "0             8226.36           9022.86             685.53             13.16   \n",
       "1            29382.00           9070.88             816.17             11.11   \n",
       "2           355292.99          18135.30            1330.69             13.63   \n",
       "3           210264.18          27474.50            1911.49             14.37   \n",
       "4           141398.28          40104.83            2945.80             13.61   \n",
       "\n",
       "   Store Count  \n",
       "0            1  \n",
       "1            3  \n",
       "2           28  \n",
       "3           11  \n",
       "4            4  "
      ]
     },
     "execution_count": 41,
     "metadata": {},
     "output_type": "execute_result"
    }
   ],
   "source": [
    "# Add store count\n",
    "num_stores = df3[['Zip Code','Store Number']].drop_duplicates()\n",
    "num_stores = num_stores.groupby('Zip Code').count().reset_index()\n",
    "num_stores.columns = ['Zip Code', 'Store Count']\n",
    "df3 = df3.merge(num_stores, how='left', on='Zip Code')\n",
    "df3.head()"
   ]
  },
  {
   "cell_type": "code",
   "execution_count": 42,
   "metadata": {
    "ExecuteTime": {
     "end_time": "2016-10-12T18:18:12.111913",
     "start_time": "2016-10-12T18:18:12.105784"
    },
    "collapsed": false
   },
   "outputs": [],
   "source": [
    "# Add stores per square kilometer\n",
    "df3['Stores per sqkm'] = df3['Store Count']/df3['Area (sqkm)']"
   ]
  },
  {
   "cell_type": "code",
   "execution_count": 43,
   "metadata": {
    "ExecuteTime": {
     "end_time": "2016-10-12T18:18:12.187636",
     "start_time": "2016-10-12T18:18:12.114487"
    },
    "collapsed": false
   },
   "outputs": [],
   "source": [
    "# scale the demo_data\n",
    "demo_data_scaled = demo_data.copy()\n",
    "cols_scale = demo_data_scaled.columns.values.tolist()[1:]\n",
    "scaler = StandardScaler().fit(demo_data_scaled[cols_scale])\n",
    "scaled_values = scaler.transform(demo_data_scaled[cols_scale])\n",
    "\n",
    "for i in range(len(cols_scale)):\n",
    "    demo_data_scaled[cols_scale[i]] = [x[i] for x in scaled_values]"
   ]
  },
  {
   "cell_type": "code",
   "execution_count": 44,
   "metadata": {
    "ExecuteTime": {
     "end_time": "2016-10-12T18:18:12.245379",
     "start_time": "2016-10-12T18:18:12.190587"
    },
    "collapsed": false
   },
   "outputs": [
    {
     "data": {
      "text/html": [
       "<div>\n",
       "<table border=\"1\" class=\"dataframe\">\n",
       "  <thead>\n",
       "    <tr style=\"text-align: right;\">\n",
       "      <th></th>\n",
       "      <th>Store Number</th>\n",
       "      <th>Zip Code</th>\n",
       "      <th>Area (sqkm)</th>\n",
       "      <th>Zip Sales - Total</th>\n",
       "      <th>Zip Volume - Total</th>\n",
       "      <th>Zip Sales - Mean</th>\n",
       "      <th>Zip Volume - Mean</th>\n",
       "      <th>Dollar per liter</th>\n",
       "      <th>Store Count</th>\n",
       "      <th>Stores per sqkm</th>\n",
       "      <th>Month</th>\n",
       "      <th>Year</th>\n",
       "    </tr>\n",
       "  </thead>\n",
       "  <tbody>\n",
       "    <tr>\n",
       "      <th>0</th>\n",
       "      <td>3717</td>\n",
       "      <td>50674</td>\n",
       "      <td>408.69</td>\n",
       "      <td>108274.32</td>\n",
       "      <td>8226.36</td>\n",
       "      <td>9022.86</td>\n",
       "      <td>685.53</td>\n",
       "      <td>13.16</td>\n",
       "      <td>1</td>\n",
       "      <td>0.00</td>\n",
       "      <td>11</td>\n",
       "      <td>2015</td>\n",
       "    </tr>\n",
       "    <tr>\n",
       "      <th>1</th>\n",
       "      <td>3654</td>\n",
       "      <td>50421</td>\n",
       "      <td>232.91</td>\n",
       "      <td>326551.56</td>\n",
       "      <td>29382.00</td>\n",
       "      <td>9070.88</td>\n",
       "      <td>816.17</td>\n",
       "      <td>11.11</td>\n",
       "      <td>3</td>\n",
       "      <td>0.01</td>\n",
       "      <td>8</td>\n",
       "      <td>2015</td>\n",
       "    </tr>\n",
       "    <tr>\n",
       "      <th>2</th>\n",
       "      <td>2569</td>\n",
       "      <td>52402</td>\n",
       "      <td>36.42</td>\n",
       "      <td>4842123.87</td>\n",
       "      <td>355292.99</td>\n",
       "      <td>18135.30</td>\n",
       "      <td>1330.69</td>\n",
       "      <td>13.63</td>\n",
       "      <td>28</td>\n",
       "      <td>0.77</td>\n",
       "      <td>4</td>\n",
       "      <td>2015</td>\n",
       "    </tr>\n",
       "    <tr>\n",
       "      <th>3</th>\n",
       "      <td>2596</td>\n",
       "      <td>52501</td>\n",
       "      <td>591.30</td>\n",
       "      <td>3022195.08</td>\n",
       "      <td>210264.18</td>\n",
       "      <td>27474.50</td>\n",
       "      <td>1911.49</td>\n",
       "      <td>14.37</td>\n",
       "      <td>11</td>\n",
       "      <td>0.02</td>\n",
       "      <td>8</td>\n",
       "      <td>2015</td>\n",
       "    </tr>\n",
       "    <tr>\n",
       "      <th>4</th>\n",
       "      <td>3456</td>\n",
       "      <td>50428</td>\n",
       "      <td>316.38</td>\n",
       "      <td>1925031.60</td>\n",
       "      <td>141398.28</td>\n",
       "      <td>40104.83</td>\n",
       "      <td>2945.80</td>\n",
       "      <td>13.61</td>\n",
       "      <td>4</td>\n",
       "      <td>0.01</td>\n",
       "      <td>6</td>\n",
       "      <td>2015</td>\n",
       "    </tr>\n",
       "  </tbody>\n",
       "</table>\n",
       "</div>"
      ],
      "text/plain": [
       "   Store Number Zip Code  Area (sqkm)  Zip Sales - Total  Zip Volume - Total  \\\n",
       "0          3717    50674       408.69          108274.32             8226.36   \n",
       "1          3654    50421       232.91          326551.56            29382.00   \n",
       "2          2569    52402        36.42         4842123.87           355292.99   \n",
       "3          2596    52501       591.30         3022195.08           210264.18   \n",
       "4          3456    50428       316.38         1925031.60           141398.28   \n",
       "\n",
       "   Zip Sales - Mean  Zip Volume - Mean  Dollar per liter  Store Count  \\\n",
       "0           9022.86             685.53             13.16            1   \n",
       "1           9070.88             816.17             11.11            3   \n",
       "2          18135.30            1330.69             13.63           28   \n",
       "3          27474.50            1911.49             14.37           11   \n",
       "4          40104.83            2945.80             13.61            4   \n",
       "\n",
       "   Stores per sqkm  Month  Year  \n",
       "0             0.00     11  2015  \n",
       "1             0.01      8  2015  \n",
       "2             0.77      4  2015  \n",
       "3             0.02      8  2015  \n",
       "4             0.01      6  2015  "
      ]
     },
     "execution_count": 44,
     "metadata": {},
     "output_type": "execute_result"
    }
   ],
   "source": [
    "# Rearranging our df so that month and year are the last 2 columns\n",
    "df3_columns = df3.columns.values.tolist()\n",
    "df3_columns = df3_columns[2:]\n",
    "df3_columns.extend(['Month', 'Year'])\n",
    "df3 = df3[df3_columns]\n",
    "df3.head()"
   ]
  },
  {
   "cell_type": "code",
   "execution_count": 45,
   "metadata": {
    "ExecuteTime": {
     "end_time": "2016-10-12T18:18:12.286907",
     "start_time": "2016-10-12T18:18:12.248930"
    },
    "collapsed": false
   },
   "outputs": [],
   "source": [
    "model_df = df3.merge(demo_data_scaled, how='left', left_on='Zip Code', right_on='Area').drop('Area', axis=1)"
   ]
  },
  {
   "cell_type": "code",
   "execution_count": 46,
   "metadata": {
    "ExecuteTime": {
     "end_time": "2016-10-12T18:18:12.360804",
     "start_time": "2016-10-12T18:18:12.290687"
    },
    "collapsed": false
   },
   "outputs": [
    {
     "data": {
      "text/html": [
       "<div>\n",
       "<table border=\"1\" class=\"dataframe\">\n",
       "  <thead>\n",
       "    <tr style=\"text-align: right;\">\n",
       "      <th></th>\n",
       "      <th>Store Number</th>\n",
       "      <th>Zip Code</th>\n",
       "      <th>Area (sqkm)</th>\n",
       "      <th>Zip Sales - Total</th>\n",
       "      <th>Zip Volume - Total</th>\n",
       "      <th>Zip Sales - Mean</th>\n",
       "      <th>Zip Volume - Mean</th>\n",
       "      <th>Dollar per liter</th>\n",
       "      <th>Store Count</th>\n",
       "      <th>Stores per sqkm</th>\n",
       "      <th>...</th>\n",
       "      <th>Family households</th>\n",
       "      <th>Married-couple family households</th>\n",
       "      <th>Single mother households</th>\n",
       "      <th>Nonfamily households</th>\n",
       "      <th>Single Occupancy</th>\n",
       "      <th>Avg HH Size</th>\n",
       "      <th>Avg Family Size</th>\n",
       "      <th>Pop Below Poverty Level</th>\n",
       "      <th>% P25+ HS Grad</th>\n",
       "      <th>% P25-54 BA+</th>\n",
       "    </tr>\n",
       "  </thead>\n",
       "  <tbody>\n",
       "    <tr>\n",
       "      <th>0</th>\n",
       "      <td>3717</td>\n",
       "      <td>50674</td>\n",
       "      <td>408.69</td>\n",
       "      <td>108274.32</td>\n",
       "      <td>8226.36</td>\n",
       "      <td>9022.86</td>\n",
       "      <td>685.53</td>\n",
       "      <td>13.16</td>\n",
       "      <td>1</td>\n",
       "      <td>0.00</td>\n",
       "      <td>...</td>\n",
       "      <td>0.17</td>\n",
       "      <td>0.23</td>\n",
       "      <td>-0.11</td>\n",
       "      <td>0.04</td>\n",
       "      <td>0.09</td>\n",
       "      <td>-0.12</td>\n",
       "      <td>0.01</td>\n",
       "      <td>0.11</td>\n",
       "      <td>0.30</td>\n",
       "      <td>-0.03</td>\n",
       "    </tr>\n",
       "    <tr>\n",
       "      <th>1</th>\n",
       "      <td>3654</td>\n",
       "      <td>50421</td>\n",
       "      <td>232.91</td>\n",
       "      <td>326551.56</td>\n",
       "      <td>29382.00</td>\n",
       "      <td>9070.88</td>\n",
       "      <td>816.17</td>\n",
       "      <td>11.11</td>\n",
       "      <td>3</td>\n",
       "      <td>0.01</td>\n",
       "      <td>...</td>\n",
       "      <td>0.05</td>\n",
       "      <td>0.10</td>\n",
       "      <td>-0.10</td>\n",
       "      <td>0.10</td>\n",
       "      <td>0.17</td>\n",
       "      <td>-0.86</td>\n",
       "      <td>-0.34</td>\n",
       "      <td>0.04</td>\n",
       "      <td>-0.29</td>\n",
       "      <td>-0.10</td>\n",
       "    </tr>\n",
       "    <tr>\n",
       "      <th>2</th>\n",
       "      <td>2569</td>\n",
       "      <td>52402</td>\n",
       "      <td>36.42</td>\n",
       "      <td>4842123.87</td>\n",
       "      <td>355292.99</td>\n",
       "      <td>18135.30</td>\n",
       "      <td>1330.69</td>\n",
       "      <td>13.63</td>\n",
       "      <td>28</td>\n",
       "      <td>0.77</td>\n",
       "      <td>...</td>\n",
       "      <td>5.90</td>\n",
       "      <td>6.09</td>\n",
       "      <td>4.83</td>\n",
       "      <td>6.53</td>\n",
       "      <td>6.66</td>\n",
       "      <td>-0.76</td>\n",
       "      <td>-0.14</td>\n",
       "      <td>5.98</td>\n",
       "      <td>1.39</td>\n",
       "      <td>2.46</td>\n",
       "    </tr>\n",
       "    <tr>\n",
       "      <th>3</th>\n",
       "      <td>2596</td>\n",
       "      <td>52501</td>\n",
       "      <td>591.30</td>\n",
       "      <td>3022195.08</td>\n",
       "      <td>210264.18</td>\n",
       "      <td>27474.50</td>\n",
       "      <td>1911.49</td>\n",
       "      <td>14.37</td>\n",
       "      <td>11</td>\n",
       "      <td>0.02</td>\n",
       "      <td>...</td>\n",
       "      <td>4.73</td>\n",
       "      <td>4.66</td>\n",
       "      <td>4.72</td>\n",
       "      <td>4.39</td>\n",
       "      <td>4.69</td>\n",
       "      <td>-0.72</td>\n",
       "      <td>-0.59</td>\n",
       "      <td>4.51</td>\n",
       "      <td>-0.74</td>\n",
       "      <td>0.16</td>\n",
       "    </tr>\n",
       "    <tr>\n",
       "      <th>4</th>\n",
       "      <td>3456</td>\n",
       "      <td>50428</td>\n",
       "      <td>316.38</td>\n",
       "      <td>1925031.60</td>\n",
       "      <td>141398.28</td>\n",
       "      <td>40104.83</td>\n",
       "      <td>2945.80</td>\n",
       "      <td>13.61</td>\n",
       "      <td>4</td>\n",
       "      <td>0.01</td>\n",
       "      <td>...</td>\n",
       "      <td>1.26</td>\n",
       "      <td>1.33</td>\n",
       "      <td>0.96</td>\n",
       "      <td>1.10</td>\n",
       "      <td>1.25</td>\n",
       "      <td>-0.86</td>\n",
       "      <td>-0.69</td>\n",
       "      <td>1.18</td>\n",
       "      <td>0.47</td>\n",
       "      <td>1.17</td>\n",
       "    </tr>\n",
       "  </tbody>\n",
       "</table>\n",
       "<p>5 rows × 53 columns</p>\n",
       "</div>"
      ],
      "text/plain": [
       "   Store Number Zip Code  Area (sqkm)  Zip Sales - Total  Zip Volume - Total  \\\n",
       "0          3717    50674       408.69          108274.32             8226.36   \n",
       "1          3654    50421       232.91          326551.56            29382.00   \n",
       "2          2569    52402        36.42         4842123.87           355292.99   \n",
       "3          2596    52501       591.30         3022195.08           210264.18   \n",
       "4          3456    50428       316.38         1925031.60           141398.28   \n",
       "\n",
       "   Zip Sales - Mean  Zip Volume - Mean  Dollar per liter  Store Count  \\\n",
       "0           9022.86             685.53             13.16            1   \n",
       "1           9070.88             816.17             11.11            3   \n",
       "2          18135.30            1330.69             13.63           28   \n",
       "3          27474.50            1911.49             14.37           11   \n",
       "4          40104.83            2945.80             13.61            4   \n",
       "\n",
       "   Stores per sqkm      ...       Family households  \\\n",
       "0             0.00      ...                    0.17   \n",
       "1             0.01      ...                    0.05   \n",
       "2             0.77      ...                    5.90   \n",
       "3             0.02      ...                    4.73   \n",
       "4             0.01      ...                    1.26   \n",
       "\n",
       "   Married-couple family households  Single mother households  \\\n",
       "0                              0.23                     -0.11   \n",
       "1                              0.10                     -0.10   \n",
       "2                              6.09                      4.83   \n",
       "3                              4.66                      4.72   \n",
       "4                              1.33                      0.96   \n",
       "\n",
       "   Nonfamily households  Single Occupancy  Avg HH Size  Avg Family Size  \\\n",
       "0                  0.04              0.09        -0.12             0.01   \n",
       "1                  0.10              0.17        -0.86            -0.34   \n",
       "2                  6.53              6.66        -0.76            -0.14   \n",
       "3                  4.39              4.69        -0.72            -0.59   \n",
       "4                  1.10              1.25        -0.86            -0.69   \n",
       "\n",
       "   Pop Below Poverty Level  % P25+ HS Grad  % P25-54 BA+  \n",
       "0                     0.11            0.30         -0.03  \n",
       "1                     0.04           -0.29         -0.10  \n",
       "2                     5.98            1.39          2.46  \n",
       "3                     4.51           -0.74          0.16  \n",
       "4                     1.18            0.47          1.17  \n",
       "\n",
       "[5 rows x 53 columns]"
      ]
     },
     "execution_count": 46,
     "metadata": {},
     "output_type": "execute_result"
    }
   ],
   "source": [
    "model_df.head()"
   ]
  },
  {
   "cell_type": "markdown",
   "metadata": {},
   "source": [
    "# Refine the data\n",
    "Look for any statistical relationships, correlations, or other relevant properties of the dataset."
   ]
  },
  {
   "cell_type": "code",
   "execution_count": 47,
   "metadata": {
    "ExecuteTime": {
     "end_time": "2016-10-12T18:18:13.357383",
     "start_time": "2016-10-12T18:18:12.365062"
    },
    "collapsed": false
   },
   "outputs": [
    {
     "data": {
      "image/png": "[encoded data removed]",
      "text/plain": [
       "<matplotlib.figure.Figure at 0x11c4935d0>"
      ]
     },
     "metadata": {},
     "output_type": "display_data"
    }
   ],
   "source": [
    "fig, ax = plt.subplots(figsize=(4,10));\n",
    "sns.heatmap(model_df.corr()[['Zip Sales - Total']].iloc[10:]);"
   ]
  },
  {
   "cell_type": "code",
   "execution_count": 48,
   "metadata": {
    "ExecuteTime": {
     "end_time": "2016-10-12T18:18:14.314754",
     "start_time": "2016-10-12T18:18:13.360256"
    },
    "collapsed": false
   },
   "outputs": [
    {
     "data": {
      "image/png": "[encoded data removed]",
      "text/plain": [
       "<matplotlib.figure.Figure at 0x11acbcfd0>"
      ]
     },
     "metadata": {},
     "output_type": "display_data"
    }
   ],
   "source": [
    "fig, ax = plt.subplots(figsize=(4,10));\n",
    "sns.heatmap(model_df.corr()[['Zip Volume - Total']].iloc[10:]);"
   ]
  },
  {
   "cell_type": "markdown",
   "metadata": {},
   "source": [
    "# Build your models\n",
    "\n",
    "Using scikit-learn or statsmodels, build the necessary models for your scenario. Evaluate model fit."
   ]
  },
  {
   "cell_type": "code",
   "execution_count": 49,
   "metadata": {
    "ExecuteTime": {
     "end_time": "2016-10-12T18:18:14.322392",
     "start_time": "2016-10-12T18:18:14.317393"
    },
    "collapsed": false
   },
   "outputs": [
    {
     "name": "stdout",
     "output_type": "stream",
     "text": [
      "['Store Number', 'Zip Code', 'Area (sqkm)', 'Zip Sales - Total', 'Zip Volume - Total', 'Zip Sales - Mean', 'Zip Volume - Mean', 'Dollar per liter', 'Store Count', 'Stores per sqkm', 'Month', 'Year', 'Total Pop', 'Median HH Inc', 'Per Capita Inc', 'White', 'Afr Amer', 'Native Amer', 'Asian Amer', 'Pac Islander', 'Other', 'Bi- Multi-Racial', 'Hispanic or Latino', 'Med Age', '<5 years', '5-17 yrs', '18-20 yrs', '21-24 yrs', '25-34 yrs', '35-44 yrs', '45-54 yrs', '55-59 yrs', '60-64 yrs', '65-74 yrs', '78-84 yrs', '85+ yrs', '% P16+ in labor force', 'Total # Homes Owned', 'Med. Home Value', 'Tot Housing units', 'Owner occupied housing units', 'Renter occupied housing units', 'households', 'Family households', 'Married-couple family households', 'Single mother households', 'Nonfamily households', 'Single Occupancy', 'Avg HH Size', 'Avg Family Size', 'Pop Below Poverty Level', '% P25+ HS Grad', '% P25-54 BA+']\n"
     ]
    }
   ],
   "source": [
    "features = model_df.columns.values.tolist()\n",
    "print features"
   ]
  },
  {
   "cell_type": "code",
   "execution_count": 50,
   "metadata": {
    "ExecuteTime": {
     "end_time": "2016-10-12T18:18:14.333884",
     "start_time": "2016-10-12T18:18:14.325488"
    },
    "collapsed": false
   },
   "outputs": [],
   "source": [
    "drop_features = ['Store Number', 'Zip Code', 'Area (sqkm)',\\\n",
    "                 'Zip Sales - Total', 'Zip Volume - Total', 'Zip Sales - Mean', 'Zip Volume - Mean',\\\n",
    "                 'Dollar per liter', 'Store Count', 'Stores per sqkm', 'Month']\n",
    "for i in drop_features:\n",
    "    features.remove(i)"
   ]
  },
  {
   "cell_type": "code",
   "execution_count": 51,
   "metadata": {
    "ExecuteTime": {
     "end_time": "2016-10-12T18:18:14.380414",
     "start_time": "2016-10-12T18:18:14.336321"
    },
    "collapsed": false
   },
   "outputs": [],
   "source": [
    "model_df.dropna(inplace=True)\n",
    "X = model_df[features]"
   ]
  },
  {
   "cell_type": "code",
   "execution_count": 52,
   "metadata": {
    "ExecuteTime": {
     "end_time": "2016-10-12T18:18:14.883796",
     "start_time": "2016-10-12T18:18:14.383286"
    },
    "collapsed": false
   },
   "outputs": [
    {
     "name": "stdout",
     "output_type": "stream",
     "text": [
      "r-squared: 0.854351094595\n",
      "alpha applied: 0.1\n"
     ]
    }
   ],
   "source": [
    "y_sales = model_df['Zip Sales - Total']\n",
    "ridge = linear_model.RidgeCV(cv=5)\n",
    "model_sales = ridge.fit(X,y_sales)\n",
    "print 'r-squared: {}'.format(model_sales.score(X,y_sales))\n",
    "print 'alpha applied: {}'.format(model_sales.alpha_)\n",
    "\n",
    "feature_imp = pd.DataFrame([features, model_sales.coef_.tolist()], index=['feature', 'coef']).T\n",
    "feature_imp['coef'] = feature_imp['coef'].astype(float)\n",
    "feature_imp = feature_imp.sort_values(by='coef', ascending=False)"
   ]
  },
  {
   "cell_type": "code",
   "execution_count": 62,
   "metadata": {
    "ExecuteTime": {
     "end_time": "2016-10-12T18:18:15.363929",
     "start_time": "2016-10-12T18:18:14.886697"
    },
    "collapsed": false
   },
   "outputs": [
    {
     "name": "stdout",
     "output_type": "stream",
     "text": [
      "r-squared: 0.860675114707\n",
      "alpha applied: 0.1\n"
     ]
    }
   ],
   "source": [
    "y_volume = model_df['Zip Volume - Total']\n",
    "ridge2 = linear_model.RidgeCV(cv=5)\n",
    "model_volume = ridge2.fit(X,y_volume)\n",
    "print 'r-squared: {}'.format(model_volume.score(X,y_volume))\n",
    "print 'alpha applied: {}'.format(model_volume.alpha_)\n",
    "\n",
    "feature_imp_v = pd.DataFrame([features, model_volume.coef_.tolist()], index=['feature', 'coef']).T\n",
    "feature_imp_v['coef'] = feature_imp_v['coef'].astype(float)\n",
    "feature_imp_v = feature_imp_v.sort_values(by='coef', ascending=False)"
   ]
  },
  {
   "cell_type": "markdown",
   "metadata": {},
   "source": [
    "## Plot your results\n",
    "\n",
    "Again make sure that you record any valuable information. For example, in the tax scenario, did you find the sales from the first three months of the year to be a good predictor of the total sales for the year? Plot the predictions versus the true values and discuss the successes and limitations of your models"
   ]
  },
  {
   "cell_type": "code",
   "execution_count": 63,
   "metadata": {
    "ExecuteTime": {
     "end_time": "2016-10-12T18:18:15.863714",
     "start_time": "2016-10-12T18:18:15.366580"
    },
    "collapsed": false
   },
   "outputs": [
    {
     "data": {
      "image/png": "[encoded data removed]",
      "text/plain": [
       "<matplotlib.figure.Figure at 0x11c4e4ed0>"
      ]
     },
     "metadata": {},
     "output_type": "display_data"
    }
   ],
   "source": [
    "predicted_sales = model_sales.predict(X)\n",
    "fig, ax = plt.subplots(figsize=(8,8));\n",
    "plt.scatter(predicted_sales, y_sales);\n",
    "plt.plot([min(y_sales), max(y_sales)], [min(y_sales), max(y_sales)], '-');\n",
    "plt.title('Predicted and actual sales');\n",
    "plt.xlabel('Predicted sales');\n",
    "plt.ylabel('Actual sales');"
   ]
  },
  {
   "cell_type": "code",
   "execution_count": 64,
   "metadata": {
    "ExecuteTime": {
     "end_time": "2016-10-12T18:18:16.402245",
     "start_time": "2016-10-12T18:18:15.866917"
    },
    "collapsed": false
   },
   "outputs": [
    {
     "data": {
      "image/png": "[encoded data removed]",
      "text/plain": [
       "<matplotlib.figure.Figure at 0x11e6e3090>"
      ]
     },
     "metadata": {},
     "output_type": "display_data"
    }
   ],
   "source": [
    "predicted_volume = model_volume.predict(X)\n",
    "fig, ax = plt.subplots(figsize=(8,8));\n",
    "plt.scatter(predicted_volume, y_volume);\n",
    "plt.plot([min(y_volume), max(y_volume)], [min(y_volume), max(y_volume)], '-');\n",
    "plt.title('Predicted and actual volume');\n",
    "plt.xlabel('Predicted volume');\n",
    "plt.ylabel('Actual volume');"
   ]
  },
  {
   "cell_type": "markdown",
   "metadata": {},
   "source": [
    "# Present the Results\n",
    "\n",
    "Present your conclusions and results. If you have more than one interesting model feel free to include more than one along with a discussion. Use your work in this notebook to prepare your write-up."
   ]
  },
  {
   "cell_type": "code",
   "execution_count": 65,
   "metadata": {
    "ExecuteTime": {
     "end_time": "2016-10-12T18:18:16.434395",
     "start_time": "2016-10-12T18:18:16.405822"
    },
    "collapsed": false
   },
   "outputs": [],
   "source": [
    "# Predict sales for all zip codes\n",
    "predict_df = location_data.copy()\n",
    "predict_df['Year'] = 2016\n",
    "predict_df = predict_df.merge(demo_data_scaled, left_on='Zip Code', right_on='Area').drop('Area', axis=1)"
   ]
  },
  {
   "cell_type": "code",
   "execution_count": 66,
   "metadata": {
    "ExecuteTime": {
     "end_time": "2016-10-12T18:18:16.447207",
     "start_time": "2016-10-12T18:18:16.436767"
    },
    "collapsed": false
   },
   "outputs": [],
   "source": [
    "X_predict = predict_df[features]\n",
    "all_sales = model_sales.predict(X_predict)\n",
    "all_volume = model_volume.predict(X_predict)"
   ]
  },
  {
   "cell_type": "code",
   "execution_count": 67,
   "metadata": {
    "ExecuteTime": {
     "end_time": "2016-10-12T18:18:16.525617",
     "start_time": "2016-10-12T18:18:16.450564"
    },
    "collapsed": false
   },
   "outputs": [
    {
     "data": {
      "text/html": [
       "<div>\n",
       "<table border=\"1\" class=\"dataframe\">\n",
       "  <thead>\n",
       "    <tr style=\"text-align: right;\">\n",
       "      <th></th>\n",
       "      <th>Zip Code</th>\n",
       "      <th>City</th>\n",
       "      <th>County</th>\n",
       "      <th>State</th>\n",
       "      <th>County Number</th>\n",
       "      <th>Area (sqkm)</th>\n",
       "      <th>Year</th>\n",
       "      <th>Total Pop</th>\n",
       "      <th>Median HH Inc</th>\n",
       "      <th>Per Capita Inc</th>\n",
       "      <th>...</th>\n",
       "      <th>Nonfamily households</th>\n",
       "      <th>Single Occupancy</th>\n",
       "      <th>Avg HH Size</th>\n",
       "      <th>Avg Family Size</th>\n",
       "      <th>Pop Below Poverty Level</th>\n",
       "      <th>% P25+ HS Grad</th>\n",
       "      <th>% P25-54 BA+</th>\n",
       "      <th>Predicted Total Sales</th>\n",
       "      <th>Predicted Total Volume</th>\n",
       "      <th>Predicted Dollar/liter</th>\n",
       "    </tr>\n",
       "  </thead>\n",
       "  <tbody>\n",
       "    <tr>\n",
       "      <th>0</th>\n",
       "      <td>50001</td>\n",
       "      <td>ACKWORTH</td>\n",
       "      <td>Warren</td>\n",
       "      <td>IA</td>\n",
       "      <td>91</td>\n",
       "      <td>62.80</td>\n",
       "      <td>2016</td>\n",
       "      <td>-0.40</td>\n",
       "      <td>0.63</td>\n",
       "      <td>-0.01</td>\n",
       "      <td>...</td>\n",
       "      <td>-0.40</td>\n",
       "      <td>-0.42</td>\n",
       "      <td>1.59</td>\n",
       "      <td>1.06</td>\n",
       "      <td>-0.38</td>\n",
       "      <td>0.57</td>\n",
       "      <td>-0.50</td>\n",
       "      <td>130858.73</td>\n",
       "      <td>10071.56</td>\n",
       "      <td>12.99</td>\n",
       "    </tr>\n",
       "    <tr>\n",
       "      <th>1</th>\n",
       "      <td>50002</td>\n",
       "      <td>ADAIR</td>\n",
       "      <td>Guthrie</td>\n",
       "      <td>IA</td>\n",
       "      <td>39</td>\n",
       "      <td>279.20</td>\n",
       "      <td>2016</td>\n",
       "      <td>-0.28</td>\n",
       "      <td>-0.63</td>\n",
       "      <td>0.69</td>\n",
       "      <td>...</td>\n",
       "      <td>-0.22</td>\n",
       "      <td>-0.21</td>\n",
       "      <td>-1.18</td>\n",
       "      <td>-0.69</td>\n",
       "      <td>-0.30</td>\n",
       "      <td>0.37</td>\n",
       "      <td>-0.33</td>\n",
       "      <td>139878.46</td>\n",
       "      <td>10037.08</td>\n",
       "      <td>13.94</td>\n",
       "    </tr>\n",
       "    <tr>\n",
       "      <th>2</th>\n",
       "      <td>50003</td>\n",
       "      <td>ADEL</td>\n",
       "      <td>Dallas</td>\n",
       "      <td>IA</td>\n",
       "      <td>25</td>\n",
       "      <td>298.09</td>\n",
       "      <td>2016</td>\n",
       "      <td>0.45</td>\n",
       "      <td>1.09</td>\n",
       "      <td>1.16</td>\n",
       "      <td>...</td>\n",
       "      <td>0.24</td>\n",
       "      <td>0.28</td>\n",
       "      <td>0.35</td>\n",
       "      <td>0.41</td>\n",
       "      <td>0.48</td>\n",
       "      <td>0.93</td>\n",
       "      <td>1.12</td>\n",
       "      <td>624315.46</td>\n",
       "      <td>44570.74</td>\n",
       "      <td>14.01</td>\n",
       "    </tr>\n",
       "    <tr>\n",
       "      <th>3</th>\n",
       "      <td>50005</td>\n",
       "      <td>ALBION</td>\n",
       "      <td>Marshall</td>\n",
       "      <td>IA</td>\n",
       "      <td>64</td>\n",
       "      <td>69.62</td>\n",
       "      <td>2016</td>\n",
       "      <td>-0.36</td>\n",
       "      <td>0.42</td>\n",
       "      <td>-0.65</td>\n",
       "      <td>...</td>\n",
       "      <td>-0.37</td>\n",
       "      <td>-0.39</td>\n",
       "      <td>0.72</td>\n",
       "      <td>-0.09</td>\n",
       "      <td>-0.35</td>\n",
       "      <td>-0.76</td>\n",
       "      <td>-0.16</td>\n",
       "      <td>72064.35</td>\n",
       "      <td>6987.45</td>\n",
       "      <td>10.31</td>\n",
       "    </tr>\n",
       "    <tr>\n",
       "      <th>4</th>\n",
       "      <td>50006</td>\n",
       "      <td>ALDEN</td>\n",
       "      <td>Hardin</td>\n",
       "      <td>IA</td>\n",
       "      <td>42</td>\n",
       "      <td>317.75</td>\n",
       "      <td>2016</td>\n",
       "      <td>-0.18</td>\n",
       "      <td>-0.18</td>\n",
       "      <td>-0.22</td>\n",
       "      <td>...</td>\n",
       "      <td>-0.20</td>\n",
       "      <td>-0.19</td>\n",
       "      <td>0.21</td>\n",
       "      <td>0.46</td>\n",
       "      <td>-0.18</td>\n",
       "      <td>0.58</td>\n",
       "      <td>0.08</td>\n",
       "      <td>162441.67</td>\n",
       "      <td>10456.83</td>\n",
       "      <td>15.53</td>\n",
       "    </tr>\n",
       "  </tbody>\n",
       "</table>\n",
       "<p>5 rows × 51 columns</p>\n",
       "</div>"
      ],
      "text/plain": [
       "  Zip Code      City    County State  County Number  Area (sqkm)  Year  \\\n",
       "0    50001  ACKWORTH    Warren    IA             91        62.80  2016   \n",
       "1    50002     ADAIR   Guthrie    IA             39       279.20  2016   \n",
       "2    50003      ADEL    Dallas    IA             25       298.09  2016   \n",
       "3    50005    ALBION  Marshall    IA             64        69.62  2016   \n",
       "4    50006     ALDEN    Hardin    IA             42       317.75  2016   \n",
       "\n",
       "   Total Pop  Median HH Inc  Per Capita Inc           ...            \\\n",
       "0      -0.40           0.63           -0.01           ...             \n",
       "1      -0.28          -0.63            0.69           ...             \n",
       "2       0.45           1.09            1.16           ...             \n",
       "3      -0.36           0.42           -0.65           ...             \n",
       "4      -0.18          -0.18           -0.22           ...             \n",
       "\n",
       "   Nonfamily households  Single Occupancy  Avg HH Size  Avg Family Size  \\\n",
       "0                 -0.40             -0.42         1.59             1.06   \n",
       "1                 -0.22             -0.21        -1.18            -0.69   \n",
       "2                  0.24              0.28         0.35             0.41   \n",
       "3                 -0.37             -0.39         0.72            -0.09   \n",
       "4                 -0.20             -0.19         0.21             0.46   \n",
       "\n",
       "   Pop Below Poverty Level  % P25+ HS Grad  % P25-54 BA+  \\\n",
       "0                    -0.38            0.57         -0.50   \n",
       "1                    -0.30            0.37         -0.33   \n",
       "2                     0.48            0.93          1.12   \n",
       "3                    -0.35           -0.76         -0.16   \n",
       "4                    -0.18            0.58          0.08   \n",
       "\n",
       "   Predicted Total Sales  Predicted Total Volume  Predicted Dollar/liter  \n",
       "0              130858.73                10071.56                   12.99  \n",
       "1              139878.46                10037.08                   13.94  \n",
       "2              624315.46                44570.74                   14.01  \n",
       "3               72064.35                 6987.45                   10.31  \n",
       "4              162441.67                10456.83                   15.53  \n",
       "\n",
       "[5 rows x 51 columns]"
      ]
     },
     "execution_count": 67,
     "metadata": {},
     "output_type": "execute_result"
    }
   ],
   "source": [
    "predict_df['Predicted Total Sales'] = all_sales\n",
    "predict_df['Predicted Total Volume'] = all_volume\n",
    "predict_df['Predicted Dollar/liter'] = predict_df['Predicted Total Sales']/predict_df['Predicted Total Volume']\n",
    "\n",
    "predict_df.head()"
   ]
  },
  {
   "cell_type": "code",
   "execution_count": 68,
   "metadata": {
    "ExecuteTime": {
     "end_time": "2016-10-12T18:18:16.531995",
     "start_time": "2016-10-12T18:18:16.528300"
    },
    "collapsed": false
   },
   "outputs": [],
   "source": [
    "present_columns = ['Zip Code', 'Predicted Total Sales', 'Predicted Dollar/liter']"
   ]
  },
  {
   "cell_type": "code",
   "execution_count": 69,
   "metadata": {
    "ExecuteTime": {
     "end_time": "2016-10-12T18:18:16.582780",
     "start_time": "2016-10-12T18:18:16.534645"
    },
    "collapsed": false
   },
   "outputs": [],
   "source": [
    "present_df = predict_df[present_columns]\n",
    "present_df = present_df.merge(df3[['Zip Code', 'Store Count', 'Area (sqkm)', 'Stores per sqkm',\\\n",
    "                                   'Zip Sales - Total', 'Dollar per liter']],\\\n",
    "                              how='left', on='Zip Code').drop_duplicates()"
   ]
  },
  {
   "cell_type": "raw",
   "metadata": {
    "ExecuteTime": {
     "end_time": "2016-10-12T18:19:00.162095",
     "start_time": "2016-10-12T18:18:59.928166"
    }
   },
   "source": [
    "present_df.to_csv('predicted-numbers-with-features.csv')"
   ]
  },
  {
   "cell_type": "code",
   "execution_count": 72,
   "metadata": {
    "ExecuteTime": {
     "end_time": "2016-10-12T18:18:16.629738",
     "start_time": "2016-10-12T18:18:16.585095"
    },
    "collapsed": false
   },
   "outputs": [
    {
     "data": {
      "text/html": [
       "<div>\n",
       "<table border=\"1\" class=\"dataframe\">\n",
       "  <thead>\n",
       "    <tr style=\"text-align: right;\">\n",
       "      <th></th>\n",
       "      <th>Zip Code</th>\n",
       "      <th>Predicted Total Sales</th>\n",
       "      <th>Predicted Dollar/liter</th>\n",
       "      <th>Store Count</th>\n",
       "      <th>Area (sqkm)</th>\n",
       "      <th>Stores per sqkm</th>\n",
       "      <th>Zip Sales - Total</th>\n",
       "      <th>Dollar per liter</th>\n",
       "    </tr>\n",
       "  </thead>\n",
       "  <tbody>\n",
       "    <tr>\n",
       "      <th>10418</th>\n",
       "      <td>52402</td>\n",
       "      <td>4088884.42</td>\n",
       "      <td>13.50</td>\n",
       "      <td>28.00</td>\n",
       "      <td>36.42</td>\n",
       "      <td>0.77</td>\n",
       "      <td>4842123.87</td>\n",
       "      <td>13.63</td>\n",
       "    </tr>\n",
       "    <tr>\n",
       "      <th>4975</th>\n",
       "      <td>50613</td>\n",
       "      <td>3949671.70</td>\n",
       "      <td>13.88</td>\n",
       "      <td>16.00</td>\n",
       "      <td>329.97</td>\n",
       "      <td>0.05</td>\n",
       "      <td>4421267.86</td>\n",
       "      <td>13.87</td>\n",
       "    </tr>\n",
       "    <tr>\n",
       "      <th>8589</th>\n",
       "      <td>52001</td>\n",
       "      <td>3645284.13</td>\n",
       "      <td>13.22</td>\n",
       "      <td>18.00</td>\n",
       "      <td>75.06</td>\n",
       "      <td>0.24</td>\n",
       "      <td>2932690.24</td>\n",
       "      <td>12.80</td>\n",
       "    </tr>\n",
       "    <tr>\n",
       "      <th>3062</th>\n",
       "      <td>50317</td>\n",
       "      <td>3414715.24</td>\n",
       "      <td>14.40</td>\n",
       "      <td>20.00</td>\n",
       "      <td>60.04</td>\n",
       "      <td>0.33</td>\n",
       "      <td>4294976.15</td>\n",
       "      <td>14.39</td>\n",
       "    </tr>\n",
       "    <tr>\n",
       "      <th>3643</th>\n",
       "      <td>50401</td>\n",
       "      <td>3275142.15</td>\n",
       "      <td>13.12</td>\n",
       "      <td>13.00</td>\n",
       "      <td>387.51</td>\n",
       "      <td>0.03</td>\n",
       "      <td>3286041.87</td>\n",
       "      <td>12.91</td>\n",
       "    </tr>\n",
       "    <tr>\n",
       "      <th>10784</th>\n",
       "      <td>52404</td>\n",
       "      <td>3239978.13</td>\n",
       "      <td>14.09</td>\n",
       "      <td>24.00</td>\n",
       "      <td>142.93</td>\n",
       "      <td>0.17</td>\n",
       "      <td>3129895.29</td>\n",
       "      <td>13.95</td>\n",
       "    </tr>\n",
       "    <tr>\n",
       "      <th>7755</th>\n",
       "      <td>51501</td>\n",
       "      <td>3060663.58</td>\n",
       "      <td>14.40</td>\n",
       "      <td>26.00</td>\n",
       "      <td>68.66</td>\n",
       "      <td>0.38</td>\n",
       "      <td>3210879.14</td>\n",
       "      <td>14.81</td>\n",
       "    </tr>\n",
       "    <tr>\n",
       "      <th>12989</th>\n",
       "      <td>52806</td>\n",
       "      <td>3030459.79</td>\n",
       "      <td>14.03</td>\n",
       "      <td>8.00</td>\n",
       "      <td>79.45</td>\n",
       "      <td>0.10</td>\n",
       "      <td>2171294.34</td>\n",
       "      <td>13.01</td>\n",
       "    </tr>\n",
       "    <tr>\n",
       "      <th>11160</th>\n",
       "      <td>52501</td>\n",
       "      <td>3015090.39</td>\n",
       "      <td>13.96</td>\n",
       "      <td>11.00</td>\n",
       "      <td>591.30</td>\n",
       "      <td>0.02</td>\n",
       "      <td>3022195.08</td>\n",
       "      <td>14.37</td>\n",
       "    </tr>\n",
       "    <tr>\n",
       "      <th>9680</th>\n",
       "      <td>52242</td>\n",
       "      <td>2998058.91</td>\n",
       "      <td>15.70</td>\n",
       "      <td>nan</td>\n",
       "      <td>nan</td>\n",
       "      <td>nan</td>\n",
       "      <td>nan</td>\n",
       "      <td>nan</td>\n",
       "    </tr>\n",
       "  </tbody>\n",
       "</table>\n",
       "</div>"
      ],
      "text/plain": [
       "      Zip Code  Predicted Total Sales  Predicted Dollar/liter  Store Count  \\\n",
       "10418    52402             4088884.42                   13.50        28.00   \n",
       "4975     50613             3949671.70                   13.88        16.00   \n",
       "8589     52001             3645284.13                   13.22        18.00   \n",
       "3062     50317             3414715.24                   14.40        20.00   \n",
       "3643     50401             3275142.15                   13.12        13.00   \n",
       "10784    52404             3239978.13                   14.09        24.00   \n",
       "7755     51501             3060663.58                   14.40        26.00   \n",
       "12989    52806             3030459.79                   14.03         8.00   \n",
       "11160    52501             3015090.39                   13.96        11.00   \n",
       "9680     52242             2998058.91                   15.70          nan   \n",
       "\n",
       "       Area (sqkm)  Stores per sqkm  Zip Sales - Total  Dollar per liter  \n",
       "10418        36.42             0.77         4842123.87             13.63  \n",
       "4975        329.97             0.05         4421267.86             13.87  \n",
       "8589         75.06             0.24         2932690.24             12.80  \n",
       "3062         60.04             0.33         4294976.15             14.39  \n",
       "3643        387.51             0.03         3286041.87             12.91  \n",
       "10784       142.93             0.17         3129895.29             13.95  \n",
       "7755         68.66             0.38         3210879.14             14.81  \n",
       "12989        79.45             0.10         2171294.34             13.01  \n",
       "11160       591.30             0.02         3022195.08             14.37  \n",
       "9680           nan              nan                nan               nan  "
      ]
     },
     "execution_count": 72,
     "metadata": {},
     "output_type": "execute_result"
    }
   ],
   "source": [
    "top_10 = present_df.sort_values(by='Predicted Total Sales', ascending=False).head(10)\n",
    "top_10"
   ]
  },
  {
   "cell_type": "code",
   "execution_count": 76,
   "metadata": {
    "collapsed": false
   },
   "outputs": [
    {
     "data": {
      "text/plain": [
       "<matplotlib.figure.Figure at 0x11eaa7b90>"
      ]
     },
     "metadata": {},
     "output_type": "display_data"
    }
   ],
   "source": [
    "top_10\n",
    "plt.savefig('/Users/EKandTower/GA-DSI/projects/projects-weekly/project-03/starter-code/top_ten_final.png')\n"
   ]
  }
 ],
 "metadata": {
  "kernelspec": {
   "display_name": "Python [Root]",
   "language": "python",
   "name": "Python [Root]"
  },
  "language_info": {
   "codemirror_mode": {
    "name": "ipython",
    "version": 2
   },
   "file_extension": ".py",
   "mimetype": "text/x-python",
   "name": "python",
   "nbconvert_exporter": "python",
   "pygments_lexer": "ipython2",
   "version": "2.7.12"
  }
 },
 "nbformat": 4,
 "nbformat_minor": 0
}
