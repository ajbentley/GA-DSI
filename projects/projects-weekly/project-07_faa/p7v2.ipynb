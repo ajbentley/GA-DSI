{
 "cells": [
  {
   "cell_type": "raw",
   "metadata": {},
   "source": [
    "Can CPA be used to figure out which airports are the issue? isn't that a classification problem? wouldn't CPA be used more to project what the delays at an airport are? # cpa is used to create feature clusters that can be used for classifications / regressions. \n",
    "\n",
    "Why are we being asked to make dummy data if you shouldn't use dummy data in CPA? # you use it for the cluster, not for the cpa\n",
    "\n",
    "Why are we being asked about unique values? # dumb question\n",
    "\n",
    "MinMax or standard?\n",
    "\n",
    "Is there a reason to be looking at earlier years (if not doing a trend)?\n",
    "\n",
    "How tricky to make a trend? Don't want to have a major time-suck with little utility (like I always do).\n",
    "\n"
   ]
  },
  {
   "cell_type": "raw",
   "metadata": {},
   "source": [
    "For a more streamlined (operationally efficient) / educational experience I have forgone doing the thing that my analystical head says is absolutely necessary for this project--creating change scores to show what airports have improved / worsened. You will see that I have eliminated every year but 2014 in this analysis. Prior years are only important to show trends.\n",
    "\n",
    "\n"
   ]
  },
  {
   "cell_type": "markdown",
   "metadata": {
    "focus": true,
    "id": "d21ca30e-294e-4146-8e4f-a5c331f7a36e"
   },
   "source": [
    "# Project 7 \n",
    "\n",
    "In this project, you will implement the the clustering techniques that you've learned this week. \n",
    "\n",
    "#### Step 1: Load the python libraries that you will need for this project "
   ]
  },
  {
   "cell_type": "code",
   "execution_count": 39,
   "metadata": {
    "collapsed": false,
    "focus": false,
    "id": "78c3bb3f-f513-437b-94f8-bc363b6e7a8b"
   },
   "outputs": [],
   "source": [
    "import pandas as pd \n",
    "import matplotlib as plt\n",
    "import numpy as np\n",
    "import sklearn\n",
    "import psycopg2 as psy\n",
    "import csv\n",
    "from sqlalchemy import create_engine\n",
    "import seaborn as sns\n",
    "from sklearn.preprocessing import StandardScaler, MinMaxScaler, LabelEncoder\n",
    "%matplotlib inline\n",
    "from sklearn.decomposition import PCA \n",
    "import pandas as pd\n",
    "from pandas.io import sql\n",
    "import pandas as pd\n",
    "import numpy as np\n",
    "%matplotlib inline\n",
    "from sklearn.feature_extraction.text import CountVectorizer\n",
    "\n",
    "import matplotlib.pyplot as plt\n"
   ]
  },
  {
   "cell_type": "markdown",
   "metadata": {
    "focus": false,
    "id": "2c6f52ae-e694-463c-87d8-1974726c2e7a"
   },
   "source": [
    "#### Step 2: Examine your data "
   ]
  },
  {
   "cell_type": "code",
   "execution_count": 40,
   "metadata": {
    "collapsed": false,
    "focus": false,
    "id": "0f64db5a-e176-46a1-a10b-8c7db09437bc"
   },
   "outputs": [],
   "source": [
    "cancel = pd.read_csv(\"/Users/EKandTower/GA-DSI/projects/projects-weekly/project-07/\\\n",
    "assets/airport_cancellations.csv\")\n",
    "\n",
    "ops = pd.read_csv(\"/Users/EKandTower/GA-DSI/projects/projects-weekly/project-07/\\\n",
    "assets/Airport_operations.csv\")\n",
    "\n",
    "ap = pd.read_csv(\"/Users/EKandTower/GA-DSI/projects/projects-weekly/project-07/\\\n",
    "assets/airports.csv\")\n",
    "\n",
    "# ajbentley\n",
    "\n",
    "# EKandTower\n"
   ]
  },
  {
   "cell_type": "markdown",
   "metadata": {
    "focus": false,
    "id": "3690c265-ac0f-484d-ac79-f42da341e4cd"
   },
   "source": [
    "### Intro: Write a problem statement / aim for this project"
   ]
  },
  {
   "cell_type": "markdown",
   "metadata": {
    "focus": false,
    "id": "58297e17-aa21-4d1d-a46b-a36a4b92aac7"
   },
   "source": [
    "Objective: Your task is to understand the distribution, characteristics, and components of individual airports operations that are leading to these delays.\n",
    "\n",
    "\n",
    "First step is to identify which airports are the \"problem children.\" We can do this with PCA and clustering.\n",
    "\n",
    "Will run naive PCA and pare down on features to reduce overfitting until we can get at least 70% explained on 3 features. Then we'll use those features to cluster.\n",
    "\n",
    "Clustering on PCAs should show what airports have higher than normal delay times and whose operations have been flat or worsening.\n",
    "\n",
    "Once we ID what airports are the problems we can figure out what they have in common. \n",
    "\n",
    "Once they have been identified we can do classification to find out what the specific metrics are that are impacting their efficiancy. "
   ]
  },
  {
   "cell_type": "markdown",
   "metadata": {
    "focus": false,
    "id": "a3cccc0e-8531-4dfe-bb23-8c632aa7404e"
   },
   "source": [
    "### Part 1: Create a PostgreSQL database "
   ]
  },
  {
   "cell_type": "markdown",
   "metadata": {
    "focus": false,
    "id": "b51ca850-aa85-43e1-b7cd-627af62f5fe8"
   },
   "source": [
    "#### 1. Let's create a database where we can house our airport data"
   ]
  },
  {
   "cell_type": "code",
   "execution_count": 41,
   "metadata": {
    "collapsed": false
   },
   "outputs": [],
   "source": [
    "# import sqlite3\n",
    "# sqlite_db = 'dsi2-db.sqlite'\n",
    "# conn = sqlite3.connect(sqlite_db)\n",
    "# c = conn.cursor()\n",
    "\n",
    "# print \"done\""
   ]
  },
  {
   "cell_type": "raw",
   "metadata": {
    "collapsed": false
   },
   "source": [
    "DB created in Navicat"
   ]
  },
  {
   "cell_type": "code",
   "execution_count": 42,
   "metadata": {
    "collapsed": false
   },
   "outputs": [],
   "source": [
    "# con = None\n",
    "# con = psy.connect(database='Default', user='postgres') "
   ]
  },
  {
   "cell_type": "code",
   "execution_count": 43,
   "metadata": {
    "collapsed": false,
    "focus": false,
    "id": "5d1b5e84-b49a-4bad-b961-abcb8e6f2751"
   },
   "outputs": [],
   "source": [
    "# engine = create_engine('postgresql://localhost:5432/apdb')\n",
    "# cancel.to_sql('cancel', engine, if_exists='replace')\n",
    "# operations.to_sql('ops', engine, if_exists='replace')\n",
    "# apdb.to_sql('apdb', engine, if_exists='replace')\n",
    "# %load_ext sql\n"
   ]
  },
  {
   "cell_type": "markdown",
   "metadata": {
    "focus": false,
    "id": "b40e2d2b-5535-42c6-94d6-083b3e428b14"
   },
   "source": [
    "Load our csv files into tables"
   ]
  },
  {
   "cell_type": "markdown",
   "metadata": {
    "focus": false,
    "id": "a0ca5023-4860-4d86-ae40-218d120ece17"
   },
   "source": [
    "Join airport_cancellations.csv and airports.csv into one table"
   ]
  },
  {
   "cell_type": "code",
   "execution_count": 44,
   "metadata": {
    "collapsed": false,
    "focus": false,
    "id": "5cb41423-7467-4005-964c-9b423c3af977"
   },
   "outputs": [],
   "source": [
    "cancel.rename(columns ={'Airport':'AP_NAME'}, inplace=True)"
   ]
  },
  {
   "cell_type": "code",
   "execution_count": 45,
   "metadata": {
    "collapsed": false,
    "focus": false,
    "id": "0192b97c-b99f-498b-b64b-f857451b5218"
   },
   "outputs": [],
   "source": [
    "df = cancel.join(ap, rsuffix='ap')\n",
    "df.pop('AP_NAMEap');"
   ]
  },
  {
   "cell_type": "code",
   "execution_count": 46,
   "metadata": {
    "collapsed": false
   },
   "outputs": [],
   "source": [
    "df = df.join(ops, rsuffix='ops')\n"
   ]
  },
  {
   "cell_type": "markdown",
   "metadata": {
    "focus": false,
    "id": "a5fa5f85-1cd6-4ab6-b936-93e9c951e1b7"
   },
   "source": [
    "Query the database for our intial data"
   ]
  },
  {
   "cell_type": "code",
   "execution_count": null,
   "metadata": {
    "collapsed": true
   },
   "outputs": [],
   "source": []
  },
  {
   "cell_type": "markdown",
   "metadata": {
    "focus": false,
    "id": "0b511b59-41ea-478f-bf2d-7e392dc9edaa"
   },
   "source": [
    "#### 1.2 What are the risks and assumptions of our data? "
   ]
  },
  {
   "cell_type": "markdown",
   "metadata": {
    "focus": false,
    "id": "0936ff6a-6919-4436-9fc1-d6ef90d5ba9e"
   },
   "source": [
    "While there is considerable information presented there is a massive amount of information that feels like it most be colinear (several flavors of delays and arrivals, all of which probably correlate highly).\n",
    "\n",
    "There's also data that are missing. It would be significant to see meteorological data, which I have to imagine the FAA collects, to show whether temperature and precipitation have seen significant shifts in this time.\n",
    "\n",
    "It could be useful to see whether there is any difference in monthly numbers. Has tourism increased?\n",
    "\n",
    "Once we get down to the individual airports that we need to consider it would be good to see whether there have been changes in the airlines serving the airport or in the sources / destinations of the planes. If flights from Denver tend to be late and they've just started a new direct flight from Denver to DC then the delays in DC would change."
   ]
  },
  {
   "cell_type": "markdown",
   "metadata": {
    "focus": false,
    "id": "e97b4707-0f0e-4f6a-90ab-fbb634c2305d"
   },
   "source": [
    "### Part 2: Exploratory Data Analysis"
   ]
  },
  {
   "cell_type": "markdown",
   "metadata": {
    "focus": false,
    "id": "6be9cf88-1b92-4360-b424-a495d5e2d4ba"
   },
   "source": [
    "#### 2.1 Plot and Describe the Data"
   ]
  },
  {
   "cell_type": "code",
   "execution_count": 47,
   "metadata": {
    "collapsed": false,
    "scrolled": true
   },
   "outputs": [
    {
     "data": {
      "text/html": [
       "<div>\n",
       "<table border=\"1\" class=\"dataframe\">\n",
       "  <thead>\n",
       "    <tr style=\"text-align: right;\">\n",
       "      <th></th>\n",
       "      <th>Year</th>\n",
       "      <th>Departure Cancellations</th>\n",
       "      <th>Arrival Cancellations</th>\n",
       "      <th>Departure Diversions</th>\n",
       "      <th>Arrival Diversions</th>\n",
       "      <th>Key</th>\n",
       "      <th>Latitude</th>\n",
       "      <th>Longitude</th>\n",
       "      <th>year</th>\n",
       "      <th>departures for metric computation</th>\n",
       "      <th>...</th>\n",
       "      <th>percent on-time airport departures</th>\n",
       "      <th>percent on-time gate arrivals</th>\n",
       "      <th>average_gate_departure_delay</th>\n",
       "      <th>average_taxi_out_time</th>\n",
       "      <th>average taxi out delay</th>\n",
       "      <th>average airport departure delay</th>\n",
       "      <th>average airborne delay</th>\n",
       "      <th>average taxi in delay</th>\n",
       "      <th>average block delay</th>\n",
       "      <th>average gate arrival delay</th>\n",
       "    </tr>\n",
       "  </thead>\n",
       "  <tbody>\n",
       "    <tr>\n",
       "      <th>count</th>\n",
       "      <td>805.000000</td>\n",
       "      <td>805.000000</td>\n",
       "      <td>805.000000</td>\n",
       "      <td>805.000000</td>\n",
       "      <td>805.000000</td>\n",
       "      <td>805.000000</td>\n",
       "      <td>805.000000</td>\n",
       "      <td>805.000000</td>\n",
       "      <td>805.000000</td>\n",
       "      <td>805.000000</td>\n",
       "      <td>...</td>\n",
       "      <td>805.000000</td>\n",
       "      <td>805.000000</td>\n",
       "      <td>805.000000</td>\n",
       "      <td>805.000000</td>\n",
       "      <td>805.000000</td>\n",
       "      <td>805.000000</td>\n",
       "      <td>805.000000</td>\n",
       "      <td>805.000000</td>\n",
       "      <td>805.000000</td>\n",
       "      <td>805.000000</td>\n",
       "    </tr>\n",
       "    <tr>\n",
       "      <th>mean</th>\n",
       "      <td>2008.986335</td>\n",
       "      <td>1292.038509</td>\n",
       "      <td>1333.124224</td>\n",
       "      <td>173.315528</td>\n",
       "      <td>169.413665</td>\n",
       "      <td>2488.650932</td>\n",
       "      <td>30.522748</td>\n",
       "      <td>-93.577507</td>\n",
       "      <td>2009.014907</td>\n",
       "      <td>111331.108075</td>\n",
       "      <td>...</td>\n",
       "      <td>0.719039</td>\n",
       "      <td>0.760144</td>\n",
       "      <td>13.299888</td>\n",
       "      <td>13.813453</td>\n",
       "      <td>3.604907</td>\n",
       "      <td>16.059615</td>\n",
       "      <td>2.930112</td>\n",
       "      <td>1.385006</td>\n",
       "      <td>3.322807</td>\n",
       "      <td>13.743565</td>\n",
       "    </tr>\n",
       "    <tr>\n",
       "      <th>std</th>\n",
       "      <td>3.158116</td>\n",
       "      <td>1835.961943</td>\n",
       "      <td>1975.224868</td>\n",
       "      <td>172.345539</td>\n",
       "      <td>228.521615</td>\n",
       "      <td>1607.433809</td>\n",
       "      <td>2.806227</td>\n",
       "      <td>12.880292</td>\n",
       "      <td>3.152394</td>\n",
       "      <td>99041.431112</td>\n",
       "      <td>...</td>\n",
       "      <td>0.088554</td>\n",
       "      <td>0.068339</td>\n",
       "      <td>4.076106</td>\n",
       "      <td>3.836060</td>\n",
       "      <td>2.397139</td>\n",
       "      <td>4.937230</td>\n",
       "      <td>1.199621</td>\n",
       "      <td>0.879909</td>\n",
       "      <td>1.029183</td>\n",
       "      <td>3.907379</td>\n",
       "    </tr>\n",
       "    <tr>\n",
       "      <th>min</th>\n",
       "      <td>2004.000000</td>\n",
       "      <td>0.000000</td>\n",
       "      <td>0.000000</td>\n",
       "      <td>0.000000</td>\n",
       "      <td>0.000000</td>\n",
       "      <td>254.000000</td>\n",
       "      <td>17.701556</td>\n",
       "      <td>-177.381308</td>\n",
       "      <td>2004.000000</td>\n",
       "      <td>261.000000</td>\n",
       "      <td>...</td>\n",
       "      <td>0.245700</td>\n",
       "      <td>0.349500</td>\n",
       "      <td>5.350000</td>\n",
       "      <td>7.040000</td>\n",
       "      <td>0.000000</td>\n",
       "      <td>6.290000</td>\n",
       "      <td>0.950000</td>\n",
       "      <td>0.000000</td>\n",
       "      <td>1.230000</td>\n",
       "      <td>6.330000</td>\n",
       "    </tr>\n",
       "    <tr>\n",
       "      <th>25%</th>\n",
       "      <td>2006.000000</td>\n",
       "      <td>349.000000</td>\n",
       "      <td>314.000000</td>\n",
       "      <td>62.000000</td>\n",
       "      <td>41.000000</td>\n",
       "      <td>880.000000</td>\n",
       "      <td>29.607333</td>\n",
       "      <td>-97.969472</td>\n",
       "      <td>2006.000000</td>\n",
       "      <td>39279.000000</td>\n",
       "      <td>...</td>\n",
       "      <td>0.686300</td>\n",
       "      <td>0.738100</td>\n",
       "      <td>10.950000</td>\n",
       "      <td>11.330000</td>\n",
       "      <td>2.230000</td>\n",
       "      <td>12.980000</td>\n",
       "      <td>2.060000</td>\n",
       "      <td>0.820000</td>\n",
       "      <td>2.630000</td>\n",
       "      <td>11.270000</td>\n",
       "    </tr>\n",
       "    <tr>\n",
       "      <th>50%</th>\n",
       "      <td>2009.000000</td>\n",
       "      <td>663.000000</td>\n",
       "      <td>642.000000</td>\n",
       "      <td>110.000000</td>\n",
       "      <td>84.000000</td>\n",
       "      <td>2900.000000</td>\n",
       "      <td>31.179278</td>\n",
       "      <td>-93.745023</td>\n",
       "      <td>2009.000000</td>\n",
       "      <td>73741.000000</td>\n",
       "      <td>...</td>\n",
       "      <td>0.736200</td>\n",
       "      <td>0.769300</td>\n",
       "      <td>12.670000</td>\n",
       "      <td>12.930000</td>\n",
       "      <td>3.030000</td>\n",
       "      <td>15.240000</td>\n",
       "      <td>2.660000</td>\n",
       "      <td>1.120000</td>\n",
       "      <td>3.150000</td>\n",
       "      <td>13.070000</td>\n",
       "    </tr>\n",
       "    <tr>\n",
       "      <th>75%</th>\n",
       "      <td>2012.000000</td>\n",
       "      <td>1472.000000</td>\n",
       "      <td>1523.000000</td>\n",
       "      <td>236.000000</td>\n",
       "      <td>190.000000</td>\n",
       "      <td>3319.000000</td>\n",
       "      <td>32.493417</td>\n",
       "      <td>-84.557425</td>\n",
       "      <td>2012.000000</td>\n",
       "      <td>166455.000000</td>\n",
       "      <td>...</td>\n",
       "      <td>0.770700</td>\n",
       "      <td>0.797500</td>\n",
       "      <td>14.820000</td>\n",
       "      <td>15.720000</td>\n",
       "      <td>4.190000</td>\n",
       "      <td>17.850000</td>\n",
       "      <td>3.620000</td>\n",
       "      <td>1.770000</td>\n",
       "      <td>3.850000</td>\n",
       "      <td>15.190000</td>\n",
       "    </tr>\n",
       "    <tr>\n",
       "      <th>max</th>\n",
       "      <td>2014.000000</td>\n",
       "      <td>16618.000000</td>\n",
       "      <td>17571.000000</td>\n",
       "      <td>1064.000000</td>\n",
       "      <td>1948.000000</td>\n",
       "      <td>5251.000000</td>\n",
       "      <td>33.303458</td>\n",
       "      <td>-64.801722</td>\n",
       "      <td>2014.000000</td>\n",
       "      <td>491826.000000</td>\n",
       "      <td>...</td>\n",
       "      <td>0.897400</td>\n",
       "      <td>0.880300</td>\n",
       "      <td>40.800000</td>\n",
       "      <td>35.760000</td>\n",
       "      <td>18.940000</td>\n",
       "      <td>40.870000</td>\n",
       "      <td>7.820000</td>\n",
       "      <td>6.180000</td>\n",
       "      <td>7.520000</td>\n",
       "      <td>34.280000</td>\n",
       "    </tr>\n",
       "  </tbody>\n",
       "</table>\n",
       "<p>8 rows × 22 columns</p>\n",
       "</div>"
      ],
      "text/plain": [
       "              Year  Departure Cancellations  Arrival Cancellations  \\\n",
       "count   805.000000               805.000000             805.000000   \n",
       "mean   2008.986335              1292.038509            1333.124224   \n",
       "std       3.158116              1835.961943            1975.224868   \n",
       "min    2004.000000                 0.000000               0.000000   \n",
       "25%    2006.000000               349.000000             314.000000   \n",
       "50%    2009.000000               663.000000             642.000000   \n",
       "75%    2012.000000              1472.000000            1523.000000   \n",
       "max    2014.000000             16618.000000           17571.000000   \n",
       "\n",
       "       Departure Diversions  Arrival Diversions          Key    Latitude  \\\n",
       "count            805.000000          805.000000   805.000000  805.000000   \n",
       "mean             173.315528          169.413665  2488.650932   30.522748   \n",
       "std              172.345539          228.521615  1607.433809    2.806227   \n",
       "min                0.000000            0.000000   254.000000   17.701556   \n",
       "25%               62.000000           41.000000   880.000000   29.607333   \n",
       "50%              110.000000           84.000000  2900.000000   31.179278   \n",
       "75%              236.000000          190.000000  3319.000000   32.493417   \n",
       "max             1064.000000         1948.000000  5251.000000   33.303458   \n",
       "\n",
       "        Longitude         year  departures for metric computation  \\\n",
       "count  805.000000   805.000000                         805.000000   \n",
       "mean   -93.577507  2009.014907                      111331.108075   \n",
       "std     12.880292     3.152394                       99041.431112   \n",
       "min   -177.381308  2004.000000                         261.000000   \n",
       "25%    -97.969472  2006.000000                       39279.000000   \n",
       "50%    -93.745023  2009.000000                       73741.000000   \n",
       "75%    -84.557425  2012.000000                      166455.000000   \n",
       "max    -64.801722  2014.000000                      491826.000000   \n",
       "\n",
       "                  ...              percent on-time airport departures  \\\n",
       "count             ...                                      805.000000   \n",
       "mean              ...                                        0.719039   \n",
       "std               ...                                        0.088554   \n",
       "min               ...                                        0.245700   \n",
       "25%               ...                                        0.686300   \n",
       "50%               ...                                        0.736200   \n",
       "75%               ...                                        0.770700   \n",
       "max               ...                                        0.897400   \n",
       "\n",
       "       percent on-time gate arrivals  average_gate_departure_delay  \\\n",
       "count                     805.000000                    805.000000   \n",
       "mean                        0.760144                     13.299888   \n",
       "std                         0.068339                      4.076106   \n",
       "min                         0.349500                      5.350000   \n",
       "25%                         0.738100                     10.950000   \n",
       "50%                         0.769300                     12.670000   \n",
       "75%                         0.797500                     14.820000   \n",
       "max                         0.880300                     40.800000   \n",
       "\n",
       "       average_taxi_out_time  average taxi out delay  \\\n",
       "count             805.000000              805.000000   \n",
       "mean               13.813453                3.604907   \n",
       "std                 3.836060                2.397139   \n",
       "min                 7.040000                0.000000   \n",
       "25%                11.330000                2.230000   \n",
       "50%                12.930000                3.030000   \n",
       "75%                15.720000                4.190000   \n",
       "max                35.760000               18.940000   \n",
       "\n",
       "       average airport departure delay  average airborne delay  \\\n",
       "count                       805.000000              805.000000   \n",
       "mean                         16.059615                2.930112   \n",
       "std                           4.937230                1.199621   \n",
       "min                           6.290000                0.950000   \n",
       "25%                          12.980000                2.060000   \n",
       "50%                          15.240000                2.660000   \n",
       "75%                          17.850000                3.620000   \n",
       "max                          40.870000                7.820000   \n",
       "\n",
       "       average taxi in delay  average block delay  average gate arrival delay  \n",
       "count             805.000000           805.000000                  805.000000  \n",
       "mean                1.385006             3.322807                   13.743565  \n",
       "std                 0.879909             1.029183                    3.907379  \n",
       "min                 0.000000             1.230000                    6.330000  \n",
       "25%                 0.820000             2.630000                   11.270000  \n",
       "50%                 1.120000             3.150000                   13.070000  \n",
       "75%                 1.770000             3.850000                   15.190000  \n",
       "max                 6.180000             7.520000                   34.280000  \n",
       "\n",
       "[8 rows x 22 columns]"
      ]
     },
     "execution_count": 47,
     "metadata": {},
     "output_type": "execute_result"
    }
   ],
   "source": [
    "df.describe()"
   ]
  },
  {
   "cell_type": "code",
   "execution_count": 48,
   "metadata": {
    "collapsed": false
   },
   "outputs": [
    {
     "name": "stdout",
     "output_type": "stream",
     "text": [
      "<class 'pandas.core.frame.DataFrame'>\n",
      "RangeIndex: 805 entries, 0 to 804\n",
      "Data columns (total 33 columns):\n",
      "AP_NAME                               805 non-null object\n",
      "Year                                  805 non-null float64\n",
      "Departure Cancellations               805 non-null float64\n",
      "Arrival Cancellations                 805 non-null float64\n",
      "Departure Diversions                  805 non-null float64\n",
      "Arrival Diversions                    805 non-null float64\n",
      "Key                                   805 non-null float64\n",
      "LocID                                 804 non-null object\n",
      "ALIAS                                 631 non-null object\n",
      "Facility Type                         805 non-null object\n",
      "FAA REGION                            805 non-null object\n",
      "COUNTY                                805 non-null object\n",
      "CITY                                  805 non-null object\n",
      "STATE                                 805 non-null object\n",
      "AP Type                               805 non-null object\n",
      "Latitude                              805 non-null float64\n",
      "Longitude                             805 non-null float64\n",
      "Boundary Data Available               805 non-null object\n",
      "airport                               805 non-null object\n",
      "year                                  805 non-null int64\n",
      "departures for metric computation     805 non-null int64\n",
      "arrivals for metric computation       805 non-null int64\n",
      "percent on-time gate departures       805 non-null float64\n",
      "percent on-time airport departures    805 non-null float64\n",
      "percent on-time gate arrivals         805 non-null float64\n",
      "average_gate_departure_delay          805 non-null float64\n",
      "average_taxi_out_time                 805 non-null float64\n",
      "average taxi out delay                805 non-null float64\n",
      "average airport departure delay       805 non-null float64\n",
      "average airborne delay                805 non-null float64\n",
      "average taxi in delay                 805 non-null float64\n",
      "average block delay                   805 non-null float64\n",
      "average gate arrival delay            805 non-null float64\n",
      "dtypes: float64(19), int64(3), object(11)\n",
      "memory usage: 207.6+ KB\n"
     ]
    }
   ],
   "source": [
    "df.info()"
   ]
  },
  {
   "cell_type": "code",
   "execution_count": 49,
   "metadata": {
    "collapsed": false
   },
   "outputs": [],
   "source": [
    "\n",
    "# df['AP_NAME'] = LabelEncoder().fit_transform(df['AP_NAME'])\n",
    "df['FAA REGION'] = LabelEncoder().fit_transform(df['FAA REGION'])\n",
    "df['LocID'] = LabelEncoder().fit_transform(df['LocID'])\n",
    "\n",
    "df['ALIAS'] = LabelEncoder().fit_transform(df['ALIAS'])\n",
    "df['Facility Type'] = LabelEncoder().fit_transform(df['Facility Type'])\n",
    "df['COUNTY'] = LabelEncoder().fit_transform(df['COUNTY'])\n",
    "df['CITY'] = LabelEncoder().fit_transform(df['CITY'])\n",
    "df['STATE'] = LabelEncoder().fit_transform(df['STATE'])\n",
    "df['AP Type'] = LabelEncoder().fit_transform(df['AP Type'])\n",
    "df['Boundary Data Available'] = LabelEncoder().fit_transform(df['Boundary Data Available'])\n",
    "df['airport'] = LabelEncoder().fit_transform(df['airport'])\n",
    "\n",
    "\n"
   ]
  },
  {
   "cell_type": "code",
   "execution_count": null,
   "metadata": {
    "collapsed": false
   },
   "outputs": [],
   "source": []
  },
  {
   "cell_type": "code",
   "execution_count": 50,
   "metadata": {
    "collapsed": false
   },
   "outputs": [
    {
     "data": {
      "text/html": [
       "<div>\n",
       "<table border=\"1\" class=\"dataframe\">\n",
       "  <thead>\n",
       "    <tr style=\"text-align: right;\">\n",
       "      <th></th>\n",
       "      <th>AP_NAME</th>\n",
       "      <th>Year</th>\n",
       "      <th>Departure Cancellations</th>\n",
       "      <th>Arrival Cancellations</th>\n",
       "      <th>Departure Diversions</th>\n",
       "      <th>Arrival Diversions</th>\n",
       "      <th>Key</th>\n",
       "      <th>LocID</th>\n",
       "      <th>ALIAS</th>\n",
       "      <th>Facility Type</th>\n",
       "      <th>...</th>\n",
       "      <th>percent on-time airport departures</th>\n",
       "      <th>percent on-time gate arrivals</th>\n",
       "      <th>average_gate_departure_delay</th>\n",
       "      <th>average_taxi_out_time</th>\n",
       "      <th>average taxi out delay</th>\n",
       "      <th>average airport departure delay</th>\n",
       "      <th>average airborne delay</th>\n",
       "      <th>average taxi in delay</th>\n",
       "      <th>average block delay</th>\n",
       "      <th>average gate arrival delay</th>\n",
       "    </tr>\n",
       "  </thead>\n",
       "  <tbody>\n",
       "    <tr>\n",
       "      <th>10</th>\n",
       "      <td>ABQ</td>\n",
       "      <td>2014.0</td>\n",
       "      <td>315.0</td>\n",
       "      <td>274.0</td>\n",
       "      <td>66.0</td>\n",
       "      <td>37.0</td>\n",
       "      <td>2885.0</td>\n",
       "      <td>677</td>\n",
       "      <td>11</td>\n",
       "      <td>0</td>\n",
       "      <td>...</td>\n",
       "      <td>0.7148</td>\n",
       "      <td>0.7320</td>\n",
       "      <td>14.30</td>\n",
       "      <td>10.64</td>\n",
       "      <td>2.41</td>\n",
       "      <td>15.99</td>\n",
       "      <td>1.73</td>\n",
       "      <td>1.02</td>\n",
       "      <td>2.40</td>\n",
       "      <td>14.72</td>\n",
       "    </tr>\n",
       "    <tr>\n",
       "      <th>21</th>\n",
       "      <td>ANC</td>\n",
       "      <td>2014.0</td>\n",
       "      <td>111.0</td>\n",
       "      <td>162.0</td>\n",
       "      <td>74.0</td>\n",
       "      <td>28.0</td>\n",
       "      <td>982.0</td>\n",
       "      <td>570</td>\n",
       "      <td>421</td>\n",
       "      <td>0</td>\n",
       "      <td>...</td>\n",
       "      <td>0.8074</td>\n",
       "      <td>0.8600</td>\n",
       "      <td>11.33</td>\n",
       "      <td>11.33</td>\n",
       "      <td>1.33</td>\n",
       "      <td>12.34</td>\n",
       "      <td>4.09</td>\n",
       "      <td>0.54</td>\n",
       "      <td>4.57</td>\n",
       "      <td>10.82</td>\n",
       "    </tr>\n",
       "    <tr>\n",
       "      <th>32</th>\n",
       "      <td>ATL</td>\n",
       "      <td>2014.0</td>\n",
       "      <td>5977.0</td>\n",
       "      <td>6483.0</td>\n",
       "      <td>781.0</td>\n",
       "      <td>655.0</td>\n",
       "      <td>4196.0</td>\n",
       "      <td>788</td>\n",
       "      <td>0</td>\n",
       "      <td>0</td>\n",
       "      <td>...</td>\n",
       "      <td>0.7134</td>\n",
       "      <td>0.8123</td>\n",
       "      <td>11.99</td>\n",
       "      <td>17.40</td>\n",
       "      <td>4.92</td>\n",
       "      <td>15.93</td>\n",
       "      <td>2.74</td>\n",
       "      <td>2.77</td>\n",
       "      <td>3.21</td>\n",
       "      <td>12.42</td>\n",
       "    </tr>\n",
       "    <tr>\n",
       "      <th>43</th>\n",
       "      <td>AUS</td>\n",
       "      <td>2014.0</td>\n",
       "      <td>484.0</td>\n",
       "      <td>435.0</td>\n",
       "      <td>88.0</td>\n",
       "      <td>97.0</td>\n",
       "      <td>3282.0</td>\n",
       "      <td>628</td>\n",
       "      <td>482</td>\n",
       "      <td>0</td>\n",
       "      <td>...</td>\n",
       "      <td>0.7382</td>\n",
       "      <td>0.7222</td>\n",
       "      <td>14.16</td>\n",
       "      <td>11.76</td>\n",
       "      <td>2.06</td>\n",
       "      <td>15.59</td>\n",
       "      <td>2.25</td>\n",
       "      <td>1.08</td>\n",
       "      <td>2.88</td>\n",
       "      <td>16.20</td>\n",
       "    </tr>\n",
       "    <tr>\n",
       "      <th>54</th>\n",
       "      <td>BDL</td>\n",
       "      <td>2014.0</td>\n",
       "      <td>467.0</td>\n",
       "      <td>421.0</td>\n",
       "      <td>57.0</td>\n",
       "      <td>32.0</td>\n",
       "      <td>5145.0</td>\n",
       "      <td>693</td>\n",
       "      <td>0</td>\n",
       "      <td>0</td>\n",
       "      <td>...</td>\n",
       "      <td>0.7605</td>\n",
       "      <td>0.7569</td>\n",
       "      <td>12.64</td>\n",
       "      <td>12.76</td>\n",
       "      <td>2.58</td>\n",
       "      <td>14.39</td>\n",
       "      <td>2.34</td>\n",
       "      <td>0.95</td>\n",
       "      <td>2.64</td>\n",
       "      <td>14.79</td>\n",
       "    </tr>\n",
       "  </tbody>\n",
       "</table>\n",
       "<p>5 rows × 33 columns</p>\n",
       "</div>"
      ],
      "text/plain": [
       "   AP_NAME    Year  Departure Cancellations  Arrival Cancellations  \\\n",
       "10     ABQ  2014.0                    315.0                  274.0   \n",
       "21     ANC  2014.0                    111.0                  162.0   \n",
       "32     ATL  2014.0                   5977.0                 6483.0   \n",
       "43     AUS  2014.0                    484.0                  435.0   \n",
       "54     BDL  2014.0                    467.0                  421.0   \n",
       "\n",
       "    Departure Diversions  Arrival Diversions     Key  LocID  ALIAS  \\\n",
       "10                  66.0                37.0  2885.0    677     11   \n",
       "21                  74.0                28.0   982.0    570    421   \n",
       "32                 781.0               655.0  4196.0    788      0   \n",
       "43                  88.0                97.0  3282.0    628    482   \n",
       "54                  57.0                32.0  5145.0    693      0   \n",
       "\n",
       "    Facility Type             ...              \\\n",
       "10              0             ...               \n",
       "21              0             ...               \n",
       "32              0             ...               \n",
       "43              0             ...               \n",
       "54              0             ...               \n",
       "\n",
       "    percent on-time airport departures  percent on-time gate arrivals  \\\n",
       "10                              0.7148                         0.7320   \n",
       "21                              0.8074                         0.8600   \n",
       "32                              0.7134                         0.8123   \n",
       "43                              0.7382                         0.7222   \n",
       "54                              0.7605                         0.7569   \n",
       "\n",
       "    average_gate_departure_delay  average_taxi_out_time  \\\n",
       "10                         14.30                  10.64   \n",
       "21                         11.33                  11.33   \n",
       "32                         11.99                  17.40   \n",
       "43                         14.16                  11.76   \n",
       "54                         12.64                  12.76   \n",
       "\n",
       "    average taxi out delay  average airport departure delay  \\\n",
       "10                    2.41                            15.99   \n",
       "21                    1.33                            12.34   \n",
       "32                    4.92                            15.93   \n",
       "43                    2.06                            15.59   \n",
       "54                    2.58                            14.39   \n",
       "\n",
       "    average airborne delay  average taxi in delay  average block delay  \\\n",
       "10                    1.73                   1.02                 2.40   \n",
       "21                    4.09                   0.54                 4.57   \n",
       "32                    2.74                   2.77                 3.21   \n",
       "43                    2.25                   1.08                 2.88   \n",
       "54                    2.34                   0.95                 2.64   \n",
       "\n",
       "    average gate arrival delay  \n",
       "10                       14.72  \n",
       "21                       10.82  \n",
       "32                       12.42  \n",
       "43                       16.20  \n",
       "54                       14.79  \n",
       "\n",
       "[5 rows x 33 columns]"
      ]
     },
     "execution_count": 50,
     "metadata": {},
     "output_type": "execute_result"
    }
   ],
   "source": [
    "# making new db with only 2014 data. As indicated at the head of this document, my preferred analysis on this would\\\n",
    "# to just use 2014 and the change metrics. I think prior years' data are useful mostly for the change.\n",
    "\n",
    "df14 = pd.DataFrame(df.loc[df['Year'] == 2014])\n",
    "df14.head()"
   ]
  },
  {
   "cell_type": "code",
   "execution_count": 51,
   "metadata": {
    "collapsed": false
   },
   "outputs": [],
   "source": [
    "# sns.pairplot(df14, kind=\"scatter\", size=10)"
   ]
  },
  {
   "cell_type": "raw",
   "metadata": {},
   "source": [
    "\n",
    "\n",
    "\n",
    "add regplots\n",
    "\n",
    "\n"
   ]
  },
  {
   "cell_type": "markdown",
   "metadata": {
    "focus": false,
    "id": "3d12188d-3aa9-4d47-a0e8-b5d6e8f071de"
   },
   "source": [
    "#### Are there any unique values? "
   ]
  },
  {
   "cell_type": "markdown",
   "metadata": {},
   "source": [
    "They're almost all unique values.'"
   ]
  },
  {
   "cell_type": "code",
   "execution_count": null,
   "metadata": {
    "collapsed": true
   },
   "outputs": [],
   "source": []
  },
  {
   "cell_type": "markdown",
   "metadata": {
    "focus": false,
    "id": "e2ddc27c-94d6-4ab1-95ef-1093bb2726b0"
   },
   "source": [
    "### Part 3: Data Mining"
   ]
  },
  {
   "cell_type": "markdown",
   "metadata": {
    "focus": false,
    "id": "a746fd8c-fdb0-45c3-9e17-ad4c89360055"
   },
   "source": [
    "#### 3.1 Create Dummy Variables"
   ]
  },
  {
   "cell_type": "code",
   "execution_count": 52,
   "metadata": {
    "collapsed": false,
    "scrolled": true
   },
   "outputs": [],
   "source": [
    "# region_dummy = pd.get_dummies(df['FAA REGION'], prefix='Region')\n",
    "\n",
    "# df = df.join(region_dummy)\n",
    "\n",
    "# df.head()\n",
    "\n",
    "# cv = CountVectorizer()\n",
    "# data = cv.fit_transform(df.Genre).todense()\n",
    "# columns = ['genre_'+c for c in cv.get_feature_names()]\n",
    "\n",
    "# df['airport'] = LabelEncoder().fit_transform(df['airport'])\n",
    "# df['airport'] = MinMaxScaler().fit_transform(df['airport'].astype(float).reshape(-1, 1))\n",
    "\n",
    "\n",
    "# df.pop('ALIAS')\n",
    "# df.pop('COUNTY')\n",
    "# df.pop('CITY')\n",
    "# df.pop('STATE')\n",
    "# df.pop('Boundary Data Available')\n",
    "# df.pop('year')\n",
    "# df.pop('airport');\n",
    "# df14.pop('ap_type')\n",
    "# df14.pop('region')\n",
    "# df14.pop('LocID')"
   ]
  },
  {
   "cell_type": "markdown",
   "metadata": {
    "focus": false,
    "id": "c9b12f39-5410-42d7-aff9-859c0b2ccb70"
   },
   "source": [
    "#### 3.2 Format and Clean the Data"
   ]
  },
  {
   "cell_type": "raw",
   "metadata": {},
   "source": [
    "change year, dep/arr info, regions into int\n",
    "pop alias, couty, city, state, boundary data\n",
    "again, find / compute /break out 10 year avg "
   ]
  },
  {
   "cell_type": "code",
   "execution_count": 53,
   "metadata": {
    "collapsed": false
   },
   "outputs": [],
   "source": [
    "# df.pop('Key');"
   ]
  },
  {
   "cell_type": "code",
   "execution_count": 54,
   "metadata": {
    "collapsed": true
   },
   "outputs": [],
   "source": [
    "# df.pop('ALIAS')\n",
    "# df.pop('COUNTY')\n",
    "# df.pop('CITY')\n",
    "# df.pop('STATE')\n",
    "# df.pop('Boundary Data Available')\n",
    "# df.pop('year')\n",
    "# df.pop('airport');"
   ]
  },
  {
   "cell_type": "code",
   "execution_count": 55,
   "metadata": {
    "collapsed": false,
    "scrolled": true
   },
   "outputs": [],
   "source": [
    "# df14.columns = ['airport','year','DCancel','ACancel','DDivert','ADivert','LocID','region','ap_type','Lat','Long','deps'\\\n",
    "#               ,'arr','pct_ont_gateD','pct_ont_airptD','pct_ont_gateA','avg_gate_Ddelay','avg_taxi_out',\\\n",
    "#               'avg_taxi_delay','avg_airptDdelay','avg_airborne_delay','avg_taxi_in_delay','avg_block_delay',\\\n",
    "#               'avg_gate_Adelay','Region_ASO','Region_ASW','Region_AWP']\n",
    "# df14.head()"
   ]
  },
  {
   "cell_type": "code",
   "execution_count": 56,
   "metadata": {
    "collapsed": false
   },
   "outputs": [
    {
     "name": "stdout",
     "output_type": "stream",
     "text": [
      "<class 'pandas.core.frame.DataFrame'>\n",
      "Int64Index: 72 entries, 10 to 804\n",
      "Data columns (total 33 columns):\n",
      "AP_NAME                               72 non-null object\n",
      "Year                                  72 non-null float64\n",
      "Departure Cancellations               72 non-null float64\n",
      "Arrival Cancellations                 72 non-null float64\n",
      "Departure Diversions                  72 non-null float64\n",
      "Arrival Diversions                    72 non-null float64\n",
      "Key                                   72 non-null float64\n",
      "LocID                                 72 non-null int64\n",
      "ALIAS                                 72 non-null int64\n",
      "Facility Type                         72 non-null int64\n",
      "FAA REGION                            72 non-null int64\n",
      "COUNTY                                72 non-null int64\n",
      "CITY                                  72 non-null int64\n",
      "STATE                                 72 non-null int64\n",
      "AP Type                               72 non-null int64\n",
      "Latitude                              72 non-null float64\n",
      "Longitude                             72 non-null float64\n",
      "Boundary Data Available               72 non-null int64\n",
      "airport                               72 non-null int64\n",
      "year                                  72 non-null int64\n",
      "departures for metric computation     72 non-null int64\n",
      "arrivals for metric computation       72 non-null int64\n",
      "percent on-time gate departures       72 non-null float64\n",
      "percent on-time airport departures    72 non-null float64\n",
      "percent on-time gate arrivals         72 non-null float64\n",
      "average_gate_departure_delay          72 non-null float64\n",
      "average_taxi_out_time                 72 non-null float64\n",
      "average taxi out delay                72 non-null float64\n",
      "average airport departure delay       72 non-null float64\n",
      "average airborne delay                72 non-null float64\n",
      "average taxi in delay                 72 non-null float64\n",
      "average block delay                   72 non-null float64\n",
      "average gate arrival delay            72 non-null float64\n",
      "dtypes: float64(19), int64(13), object(1)\n",
      "memory usage: 19.1+ KB\n"
     ]
    }
   ],
   "source": [
    "df14.info()"
   ]
  },
  {
   "cell_type": "code",
   "execution_count": 57,
   "metadata": {
    "collapsed": false
   },
   "outputs": [
    {
     "data": {
      "text/html": [
       "<div>\n",
       "<table border=\"1\" class=\"dataframe\">\n",
       "  <thead>\n",
       "    <tr style=\"text-align: right;\">\n",
       "      <th></th>\n",
       "      <th>Departure Cancellations</th>\n",
       "      <th>Arrival Cancellations</th>\n",
       "      <th>Departure Diversions</th>\n",
       "      <th>Arrival Diversions</th>\n",
       "      <th>Latitude</th>\n",
       "      <th>Longitude</th>\n",
       "      <th>departures for metric computation</th>\n",
       "      <th>arrivals for metric computation</th>\n",
       "      <th>percent on-time gate departures</th>\n",
       "      <th>percent on-time airport departures</th>\n",
       "      <th>percent on-time gate arrivals</th>\n",
       "      <th>average_taxi_out_time</th>\n",
       "      <th>average taxi out delay</th>\n",
       "      <th>average airport departure delay</th>\n",
       "      <th>average airborne delay</th>\n",
       "      <th>average taxi in delay</th>\n",
       "      <th>average block delay</th>\n",
       "      <th>average gate arrival delay</th>\n",
       "    </tr>\n",
       "  </thead>\n",
       "  <tbody>\n",
       "    <tr>\n",
       "      <th>10</th>\n",
       "      <td>315.0</td>\n",
       "      <td>274.0</td>\n",
       "      <td>66.0</td>\n",
       "      <td>37.0</td>\n",
       "      <td>18.439295</td>\n",
       "      <td>-66.002004</td>\n",
       "      <td>33292</td>\n",
       "      <td>33137</td>\n",
       "      <td>0.7451</td>\n",
       "      <td>0.7148</td>\n",
       "      <td>0.7320</td>\n",
       "      <td>10.64</td>\n",
       "      <td>2.41</td>\n",
       "      <td>15.99</td>\n",
       "      <td>1.73</td>\n",
       "      <td>1.02</td>\n",
       "      <td>2.40</td>\n",
       "      <td>14.72</td>\n",
       "    </tr>\n",
       "    <tr>\n",
       "      <th>21</th>\n",
       "      <td>111.0</td>\n",
       "      <td>162.0</td>\n",
       "      <td>74.0</td>\n",
       "      <td>28.0</td>\n",
       "      <td>21.152886</td>\n",
       "      <td>-157.096256</td>\n",
       "      <td>71099</td>\n",
       "      <td>66704</td>\n",
       "      <td>0.8288</td>\n",
       "      <td>0.8074</td>\n",
       "      <td>0.8600</td>\n",
       "      <td>11.33</td>\n",
       "      <td>1.33</td>\n",
       "      <td>12.34</td>\n",
       "      <td>4.09</td>\n",
       "      <td>0.54</td>\n",
       "      <td>4.57</td>\n",
       "      <td>10.82</td>\n",
       "    </tr>\n",
       "    <tr>\n",
       "      <th>32</th>\n",
       "      <td>5977.0</td>\n",
       "      <td>6483.0</td>\n",
       "      <td>781.0</td>\n",
       "      <td>655.0</td>\n",
       "      <td>25.778333</td>\n",
       "      <td>-80.170278</td>\n",
       "      <td>428954</td>\n",
       "      <td>428312</td>\n",
       "      <td>0.7899</td>\n",
       "      <td>0.7134</td>\n",
       "      <td>0.8123</td>\n",
       "      <td>17.40</td>\n",
       "      <td>4.92</td>\n",
       "      <td>15.93</td>\n",
       "      <td>2.74</td>\n",
       "      <td>2.77</td>\n",
       "      <td>3.21</td>\n",
       "      <td>12.42</td>\n",
       "    </tr>\n",
       "    <tr>\n",
       "      <th>43</th>\n",
       "      <td>484.0</td>\n",
       "      <td>435.0</td>\n",
       "      <td>88.0</td>\n",
       "      <td>97.0</td>\n",
       "      <td>26.166194</td>\n",
       "      <td>-97.345889</td>\n",
       "      <td>60588</td>\n",
       "      <td>60264</td>\n",
       "      <td>0.7627</td>\n",
       "      <td>0.7382</td>\n",
       "      <td>0.7222</td>\n",
       "      <td>11.76</td>\n",
       "      <td>2.06</td>\n",
       "      <td>15.59</td>\n",
       "      <td>2.25</td>\n",
       "      <td>1.08</td>\n",
       "      <td>2.88</td>\n",
       "      <td>16.20</td>\n",
       "    </tr>\n",
       "    <tr>\n",
       "      <th>54</th>\n",
       "      <td>467.0</td>\n",
       "      <td>421.0</td>\n",
       "      <td>57.0</td>\n",
       "      <td>32.0</td>\n",
       "      <td>26.562843</td>\n",
       "      <td>-97.437759</td>\n",
       "      <td>39279</td>\n",
       "      <td>39109</td>\n",
       "      <td>0.7953</td>\n",
       "      <td>0.7605</td>\n",
       "      <td>0.7569</td>\n",
       "      <td>12.76</td>\n",
       "      <td>2.58</td>\n",
       "      <td>14.39</td>\n",
       "      <td>2.34</td>\n",
       "      <td>0.95</td>\n",
       "      <td>2.64</td>\n",
       "      <td>14.79</td>\n",
       "    </tr>\n",
       "  </tbody>\n",
       "</table>\n",
       "</div>"
      ],
      "text/plain": [
       "    Departure Cancellations  Arrival Cancellations  Departure Diversions  \\\n",
       "10                    315.0                  274.0                  66.0   \n",
       "21                    111.0                  162.0                  74.0   \n",
       "32                   5977.0                 6483.0                 781.0   \n",
       "43                    484.0                  435.0                  88.0   \n",
       "54                    467.0                  421.0                  57.0   \n",
       "\n",
       "    Arrival Diversions   Latitude   Longitude  \\\n",
       "10                37.0  18.439295  -66.002004   \n",
       "21                28.0  21.152886 -157.096256   \n",
       "32               655.0  25.778333  -80.170278   \n",
       "43                97.0  26.166194  -97.345889   \n",
       "54                32.0  26.562843  -97.437759   \n",
       "\n",
       "    departures for metric computation  arrivals for metric computation  \\\n",
       "10                              33292                            33137   \n",
       "21                              71099                            66704   \n",
       "32                             428954                           428312   \n",
       "43                              60588                            60264   \n",
       "54                              39279                            39109   \n",
       "\n",
       "    percent on-time gate departures  percent on-time airport departures  \\\n",
       "10                           0.7451                              0.7148   \n",
       "21                           0.8288                              0.8074   \n",
       "32                           0.7899                              0.7134   \n",
       "43                           0.7627                              0.7382   \n",
       "54                           0.7953                              0.7605   \n",
       "\n",
       "    percent on-time gate arrivals  average_taxi_out_time  \\\n",
       "10                         0.7320                  10.64   \n",
       "21                         0.8600                  11.33   \n",
       "32                         0.8123                  17.40   \n",
       "43                         0.7222                  11.76   \n",
       "54                         0.7569                  12.76   \n",
       "\n",
       "    average taxi out delay  average airport departure delay  \\\n",
       "10                    2.41                            15.99   \n",
       "21                    1.33                            12.34   \n",
       "32                    4.92                            15.93   \n",
       "43                    2.06                            15.59   \n",
       "54                    2.58                            14.39   \n",
       "\n",
       "    average airborne delay  average taxi in delay  average block delay  \\\n",
       "10                    1.73                   1.02                 2.40   \n",
       "21                    4.09                   0.54                 4.57   \n",
       "32                    2.74                   2.77                 3.21   \n",
       "43                    2.25                   1.08                 2.88   \n",
       "54                    2.34                   0.95                 2.64   \n",
       "\n",
       "    average gate arrival delay  \n",
       "10                       14.72  \n",
       "21                       10.82  \n",
       "32                       12.42  \n",
       "43                       16.20  \n",
       "54                       14.79  "
      ]
     },
     "execution_count": 57,
     "metadata": {},
     "output_type": "execute_result"
    }
   ],
   "source": [
    "# create more manageable list for visualizations \n",
    "\n",
    "\n",
    "dfn = ['Departure Cancellations','Arrival Cancellations','Departure Diversions','Arrival Diversions','Latitude'\\\n",
    "       ,'Longitude','departures for metric computation','arrivals for metric computation',\\\n",
    "       'percent on-time gate departures', 'percent on-time airport departures','percent on-time gate arrivals',\\\n",
    "       'average_taxi_out_time','average taxi out delay','average airport departure delay','average airborne delay',\\\n",
    "       'average taxi in delay','average block delay','average gate arrival delay' ]\n",
    "dfn = pd.DataFrame(df14[dfn])\n",
    "dfn.head()\n"
   ]
  },
  {
   "cell_type": "code",
   "execution_count": null,
   "metadata": {
    "collapsed": true
   },
   "outputs": [],
   "source": []
  },
  {
   "cell_type": "markdown",
   "metadata": {
    "focus": false,
    "id": "27db8e3b-27d2-4420-bbab-1ddbba3dc3e5"
   },
   "source": [
    "### Part 4: Define the Data"
   ]
  },
  {
   "cell_type": "markdown",
   "metadata": {
    "focus": false,
    "id": "9bcb3ba6-8c35-470c-a821-47d7ba6a32f2"
   },
   "source": [
    "#### 4.1 Confirm that the dataset has a normal distribution. How can you tell? "
   ]
  },
  {
   "cell_type": "code",
   "execution_count": 58,
   "metadata": {
    "collapsed": false,
    "focus": false,
    "id": "9c365cbd-7b6d-46bf-b4e4-b0e2e7bd5ff6",
    "scrolled": true
   },
   "outputs": [
    {
     "data": {
      "text/html": [
       "<div>\n",
       "<table border=\"1\" class=\"dataframe\">\n",
       "  <thead>\n",
       "    <tr style=\"text-align: right;\">\n",
       "      <th></th>\n",
       "      <th>Departure Cancellations</th>\n",
       "      <th>Arrival Cancellations</th>\n",
       "      <th>Departure Diversions</th>\n",
       "      <th>Arrival Diversions</th>\n",
       "      <th>Latitude</th>\n",
       "      <th>Longitude</th>\n",
       "      <th>departures for metric computation</th>\n",
       "      <th>arrivals for metric computation</th>\n",
       "      <th>percent on-time gate departures</th>\n",
       "      <th>percent on-time airport departures</th>\n",
       "      <th>percent on-time gate arrivals</th>\n",
       "      <th>average_taxi_out_time</th>\n",
       "      <th>average taxi out delay</th>\n",
       "      <th>average airport departure delay</th>\n",
       "      <th>average airborne delay</th>\n",
       "      <th>average taxi in delay</th>\n",
       "      <th>average block delay</th>\n",
       "      <th>average gate arrival delay</th>\n",
       "    </tr>\n",
       "  </thead>\n",
       "  <tbody>\n",
       "    <tr>\n",
       "      <th>count</th>\n",
       "      <td>72.000000</td>\n",
       "      <td>72.000000</td>\n",
       "      <td>72.000000</td>\n",
       "      <td>72.000000</td>\n",
       "      <td>72.000000</td>\n",
       "      <td>72.000000</td>\n",
       "      <td>72.000000</td>\n",
       "      <td>72.000000</td>\n",
       "      <td>72.000000</td>\n",
       "      <td>72.000000</td>\n",
       "      <td>72.000000</td>\n",
       "      <td>72.000000</td>\n",
       "      <td>72.000000</td>\n",
       "      <td>72.000000</td>\n",
       "      <td>72.000000</td>\n",
       "      <td>72.000000</td>\n",
       "      <td>72.000000</td>\n",
       "      <td>72.000000</td>\n",
       "    </tr>\n",
       "    <tr>\n",
       "      <th>mean</th>\n",
       "      <td>1372.652778</td>\n",
       "      <td>1413.902778</td>\n",
       "      <td>171.111111</td>\n",
       "      <td>163.458333</td>\n",
       "      <td>30.596586</td>\n",
       "      <td>-94.599805</td>\n",
       "      <td>99313.375000</td>\n",
       "      <td>98989.277778</td>\n",
       "      <td>0.752960</td>\n",
       "      <td>0.704911</td>\n",
       "      <td>0.751256</td>\n",
       "      <td>13.524861</td>\n",
       "      <td>3.183472</td>\n",
       "      <td>16.863333</td>\n",
       "      <td>2.660000</td>\n",
       "      <td>1.335833</td>\n",
       "      <td>3.200694</td>\n",
       "      <td>14.472778</td>\n",
       "    </tr>\n",
       "    <tr>\n",
       "      <th>std</th>\n",
       "      <td>1997.878573</td>\n",
       "      <td>2149.679014</td>\n",
       "      <td>178.508733</td>\n",
       "      <td>217.219493</td>\n",
       "      <td>2.644913</td>\n",
       "      <td>12.238074</td>\n",
       "      <td>88534.604766</td>\n",
       "      <td>88426.863627</td>\n",
       "      <td>0.081974</td>\n",
       "      <td>0.088062</td>\n",
       "      <td>0.070395</td>\n",
       "      <td>3.256936</td>\n",
       "      <td>1.814836</td>\n",
       "      <td>4.616593</td>\n",
       "      <td>0.981281</td>\n",
       "      <td>0.853547</td>\n",
       "      <td>0.770649</td>\n",
       "      <td>3.759929</td>\n",
       "    </tr>\n",
       "    <tr>\n",
       "      <th>min</th>\n",
       "      <td>17.000000</td>\n",
       "      <td>11.000000</td>\n",
       "      <td>3.000000</td>\n",
       "      <td>7.000000</td>\n",
       "      <td>18.439295</td>\n",
       "      <td>-157.096256</td>\n",
       "      <td>729.000000</td>\n",
       "      <td>752.000000</td>\n",
       "      <td>0.318500</td>\n",
       "      <td>0.317000</td>\n",
       "      <td>0.398200</td>\n",
       "      <td>8.520000</td>\n",
       "      <td>0.110000</td>\n",
       "      <td>6.440000</td>\n",
       "      <td>1.260000</td>\n",
       "      <td>0.000000</td>\n",
       "      <td>1.840000</td>\n",
       "      <td>7.180000</td>\n",
       "    </tr>\n",
       "    <tr>\n",
       "      <th>25%</th>\n",
       "      <td>428.000000</td>\n",
       "      <td>388.250000</td>\n",
       "      <td>56.500000</td>\n",
       "      <td>34.750000</td>\n",
       "      <td>29.625690</td>\n",
       "      <td>-98.434040</td>\n",
       "      <td>34276.250000</td>\n",
       "      <td>33970.750000</td>\n",
       "      <td>0.722600</td>\n",
       "      <td>0.670500</td>\n",
       "      <td>0.722800</td>\n",
       "      <td>11.245000</td>\n",
       "      <td>2.102500</td>\n",
       "      <td>14.295000</td>\n",
       "      <td>1.967500</td>\n",
       "      <td>0.837500</td>\n",
       "      <td>2.637500</td>\n",
       "      <td>12.280000</td>\n",
       "    </tr>\n",
       "    <tr>\n",
       "      <th>50%</th>\n",
       "      <td>633.000000</td>\n",
       "      <td>643.000000</td>\n",
       "      <td>88.000000</td>\n",
       "      <td>82.500000</td>\n",
       "      <td>31.175144</td>\n",
       "      <td>-94.225836</td>\n",
       "      <td>64522.000000</td>\n",
       "      <td>64461.000000</td>\n",
       "      <td>0.767050</td>\n",
       "      <td>0.716000</td>\n",
       "      <td>0.755100</td>\n",
       "      <td>12.765000</td>\n",
       "      <td>2.615000</td>\n",
       "      <td>16.475000</td>\n",
       "      <td>2.440000</td>\n",
       "      <td>1.150000</td>\n",
       "      <td>3.080000</td>\n",
       "      <td>14.550000</td>\n",
       "    </tr>\n",
       "    <tr>\n",
       "      <th>75%</th>\n",
       "      <td>1365.250000</td>\n",
       "      <td>1489.250000</td>\n",
       "      <td>211.500000</td>\n",
       "      <td>176.500000</td>\n",
       "      <td>32.487121</td>\n",
       "      <td>-87.164354</td>\n",
       "      <td>161125.250000</td>\n",
       "      <td>159243.750000</td>\n",
       "      <td>0.796575</td>\n",
       "      <td>0.753750</td>\n",
       "      <td>0.782650</td>\n",
       "      <td>15.117500</td>\n",
       "      <td>3.962500</td>\n",
       "      <td>19.157500</td>\n",
       "      <td>3.130000</td>\n",
       "      <td>1.732500</td>\n",
       "      <td>3.767500</td>\n",
       "      <td>16.225000</td>\n",
       "    </tr>\n",
       "    <tr>\n",
       "      <th>max</th>\n",
       "      <td>13454.000000</td>\n",
       "      <td>14355.000000</td>\n",
       "      <td>781.000000</td>\n",
       "      <td>1164.000000</td>\n",
       "      <td>33.303458</td>\n",
       "      <td>-66.002004</td>\n",
       "      <td>428954.000000</td>\n",
       "      <td>428312.000000</td>\n",
       "      <td>0.900700</td>\n",
       "      <td>0.888100</td>\n",
       "      <td>0.878400</td>\n",
       "      <td>25.100000</td>\n",
       "      <td>11.210000</td>\n",
       "      <td>35.400000</td>\n",
       "      <td>6.410000</td>\n",
       "      <td>4.950000</td>\n",
       "      <td>5.130000</td>\n",
       "      <td>30.940000</td>\n",
       "    </tr>\n",
       "  </tbody>\n",
       "</table>\n",
       "</div>"
      ],
      "text/plain": [
       "       Departure Cancellations  Arrival Cancellations  Departure Diversions  \\\n",
       "count                72.000000              72.000000             72.000000   \n",
       "mean               1372.652778            1413.902778            171.111111   \n",
       "std                1997.878573            2149.679014            178.508733   \n",
       "min                  17.000000              11.000000              3.000000   \n",
       "25%                 428.000000             388.250000             56.500000   \n",
       "50%                 633.000000             643.000000             88.000000   \n",
       "75%                1365.250000            1489.250000            211.500000   \n",
       "max               13454.000000           14355.000000            781.000000   \n",
       "\n",
       "       Arrival Diversions   Latitude   Longitude  \\\n",
       "count           72.000000  72.000000   72.000000   \n",
       "mean           163.458333  30.596586  -94.599805   \n",
       "std            217.219493   2.644913   12.238074   \n",
       "min              7.000000  18.439295 -157.096256   \n",
       "25%             34.750000  29.625690  -98.434040   \n",
       "50%             82.500000  31.175144  -94.225836   \n",
       "75%            176.500000  32.487121  -87.164354   \n",
       "max           1164.000000  33.303458  -66.002004   \n",
       "\n",
       "       departures for metric computation  arrivals for metric computation  \\\n",
       "count                          72.000000                        72.000000   \n",
       "mean                        99313.375000                     98989.277778   \n",
       "std                         88534.604766                     88426.863627   \n",
       "min                           729.000000                       752.000000   \n",
       "25%                         34276.250000                     33970.750000   \n",
       "50%                         64522.000000                     64461.000000   \n",
       "75%                        161125.250000                    159243.750000   \n",
       "max                        428954.000000                    428312.000000   \n",
       "\n",
       "       percent on-time gate departures  percent on-time airport departures  \\\n",
       "count                        72.000000                           72.000000   \n",
       "mean                          0.752960                            0.704911   \n",
       "std                           0.081974                            0.088062   \n",
       "min                           0.318500                            0.317000   \n",
       "25%                           0.722600                            0.670500   \n",
       "50%                           0.767050                            0.716000   \n",
       "75%                           0.796575                            0.753750   \n",
       "max                           0.900700                            0.888100   \n",
       "\n",
       "       percent on-time gate arrivals  average_taxi_out_time  \\\n",
       "count                      72.000000              72.000000   \n",
       "mean                        0.751256              13.524861   \n",
       "std                         0.070395               3.256936   \n",
       "min                         0.398200               8.520000   \n",
       "25%                         0.722800              11.245000   \n",
       "50%                         0.755100              12.765000   \n",
       "75%                         0.782650              15.117500   \n",
       "max                         0.878400              25.100000   \n",
       "\n",
       "       average taxi out delay  average airport departure delay  \\\n",
       "count               72.000000                        72.000000   \n",
       "mean                 3.183472                        16.863333   \n",
       "std                  1.814836                         4.616593   \n",
       "min                  0.110000                         6.440000   \n",
       "25%                  2.102500                        14.295000   \n",
       "50%                  2.615000                        16.475000   \n",
       "75%                  3.962500                        19.157500   \n",
       "max                 11.210000                        35.400000   \n",
       "\n",
       "       average airborne delay  average taxi in delay  average block delay  \\\n",
       "count               72.000000              72.000000            72.000000   \n",
       "mean                 2.660000               1.335833             3.200694   \n",
       "std                  0.981281               0.853547             0.770649   \n",
       "min                  1.260000               0.000000             1.840000   \n",
       "25%                  1.967500               0.837500             2.637500   \n",
       "50%                  2.440000               1.150000             3.080000   \n",
       "75%                  3.130000               1.732500             3.767500   \n",
       "max                  6.410000               4.950000             5.130000   \n",
       "\n",
       "       average gate arrival delay  \n",
       "count                   72.000000  \n",
       "mean                    14.472778  \n",
       "std                      3.759929  \n",
       "min                      7.180000  \n",
       "25%                     12.280000  \n",
       "50%                     14.550000  \n",
       "75%                     16.225000  \n",
       "max                     30.940000  "
      ]
     },
     "execution_count": 58,
     "metadata": {},
     "output_type": "execute_result"
    }
   ],
   "source": [
    "dfn.describe()"
   ]
  },
  {
   "cell_type": "code",
   "execution_count": 59,
   "metadata": {
    "collapsed": false
   },
   "outputs": [
    {
     "data": {
      "text/plain": [
       "array([[<matplotlib.axes._subplots.AxesSubplot object at 0x118a14b10>,\n",
       "        <matplotlib.axes._subplots.AxesSubplot object at 0x118d046d0>,\n",
       "        <matplotlib.axes._subplots.AxesSubplot object at 0x10a4d8dd0>,\n",
       "        <matplotlib.axes._subplots.AxesSubplot object at 0x118a83d50>],\n",
       "       [<matplotlib.axes._subplots.AxesSubplot object at 0x118b16650>,\n",
       "        <matplotlib.axes._subplots.AxesSubplot object at 0x118e916d0>,\n",
       "        <matplotlib.axes._subplots.AxesSubplot object at 0x119016590>,\n",
       "        <matplotlib.axes._subplots.AxesSubplot object at 0x119095910>],\n",
       "       [<matplotlib.axes._subplots.AxesSubplot object at 0x119118890>,\n",
       "        <matplotlib.axes._subplots.AxesSubplot object at 0x119184850>,\n",
       "        <matplotlib.axes._subplots.AxesSubplot object at 0x119206b10>,\n",
       "        <matplotlib.axes._subplots.AxesSubplot object at 0x119269ad0>],\n",
       "       [<matplotlib.axes._subplots.AxesSubplot object at 0x1192f8090>,\n",
       "        <matplotlib.axes._subplots.AxesSubplot object at 0x1192a1490>,\n",
       "        <matplotlib.axes._subplots.AxesSubplot object at 0x119558d90>,\n",
       "        <matplotlib.axes._subplots.AxesSubplot object at 0x1195e9090>],\n",
       "       [<matplotlib.axes._subplots.AxesSubplot object at 0x1196488d0>,\n",
       "        <matplotlib.axes._subplots.AxesSubplot object at 0x1196ca950>,\n",
       "        <matplotlib.axes._subplots.AxesSubplot object at 0x119720710>,\n",
       "        <matplotlib.axes._subplots.AxesSubplot object at 0x11bb91a90>]], dtype=object)"
      ]
     },
     "execution_count": 59,
     "metadata": {},
     "output_type": "execute_result"
    },
    {
     "data": {
      "image/png": "[encoded data removed]",
      "text/plain": [
       "<matplotlib.figure.Figure at 0x118b56ed0>"
      ]
     },
     "metadata": {},
     "output_type": "display_data"
    }
   ],
   "source": [
    "dfn.hist(figsize=(10,12))"
   ]
  },
  {
   "cell_type": "code",
   "execution_count": null,
   "metadata": {
    "collapsed": true
   },
   "outputs": [],
   "source": []
  },
  {
   "cell_type": "raw",
   "metadata": {},
   "source": [
    "most data have strong right skews, some have strong left skews. then there's average airport departure delay which is nearly textbook normal."
   ]
  },
  {
   "cell_type": "markdown",
   "metadata": {
    "focus": false,
    "id": "17457da4-1175-4348-b10a-99f41f7a24dd"
   },
   "source": [
    "#### 4.2 Find correlations in the data"
   ]
  },
  {
   "cell_type": "code",
   "execution_count": 123,
   "metadata": {
    "collapsed": false
   },
   "outputs": [],
   "source": [
    "xStand = StandardScaler().fit_transform(dfn)"
   ]
  },
  {
   "cell_type": "code",
   "execution_count": 124,
   "metadata": {
    "collapsed": false,
    "focus": false,
    "id": "78003f34-c0d8-40f6-bafe-e0892df3f1ca"
   },
   "outputs": [
    {
     "data": {
      "text/html": [
       "<div>\n",
       "<table border=\"1\" class=\"dataframe\">\n",
       "  <thead>\n",
       "    <tr style=\"text-align: right;\">\n",
       "      <th></th>\n",
       "      <th>0</th>\n",
       "      <th>1</th>\n",
       "      <th>2</th>\n",
       "      <th>3</th>\n",
       "      <th>4</th>\n",
       "      <th>5</th>\n",
       "      <th>6</th>\n",
       "      <th>7</th>\n",
       "      <th>8</th>\n",
       "      <th>9</th>\n",
       "      <th>10</th>\n",
       "      <th>11</th>\n",
       "      <th>12</th>\n",
       "      <th>13</th>\n",
       "      <th>14</th>\n",
       "      <th>15</th>\n",
       "      <th>16</th>\n",
       "      <th>17</th>\n",
       "    </tr>\n",
       "  </thead>\n",
       "  <tbody>\n",
       "    <tr>\n",
       "      <th>0</th>\n",
       "      <td>-0.533103</td>\n",
       "      <td>-0.533988</td>\n",
       "      <td>-0.592961</td>\n",
       "      <td>-0.586254</td>\n",
       "      <td>-4.628737</td>\n",
       "      <td>2.353188</td>\n",
       "      <td>-0.750946</td>\n",
       "      <td>-0.749935</td>\n",
       "      <td>-0.096553</td>\n",
       "      <td>0.113082</td>\n",
       "      <td>-0.275454</td>\n",
       "      <td>-0.891975</td>\n",
       "      <td>-0.429185</td>\n",
       "      <td>-0.190500</td>\n",
       "      <td>-0.954392</td>\n",
       "      <td>-0.372621</td>\n",
       "      <td>-1.046279</td>\n",
       "      <td>0.066213</td>\n",
       "    </tr>\n",
       "    <tr>\n",
       "      <th>1</th>\n",
       "      <td>-0.635928</td>\n",
       "      <td>-0.586454</td>\n",
       "      <td>-0.547831</td>\n",
       "      <td>-0.627977</td>\n",
       "      <td>-3.595571</td>\n",
       "      <td>-5.142560</td>\n",
       "      <td>-0.320918</td>\n",
       "      <td>-0.367669</td>\n",
       "      <td>0.931664</td>\n",
       "      <td>1.171991</td>\n",
       "      <td>1.555607</td>\n",
       "      <td>-0.678633</td>\n",
       "      <td>-1.028456</td>\n",
       "      <td>-0.986675</td>\n",
       "      <td>1.467505</td>\n",
       "      <td>-0.938927</td>\n",
       "      <td>1.789291</td>\n",
       "      <td>-0.978319</td>\n",
       "    </tr>\n",
       "    <tr>\n",
       "      <th>2</th>\n",
       "      <td>2.320791</td>\n",
       "      <td>2.374620</td>\n",
       "      <td>3.440554</td>\n",
       "      <td>2.278760</td>\n",
       "      <td>-1.834490</td>\n",
       "      <td>1.187343</td>\n",
       "      <td>3.749426</td>\n",
       "      <td>3.750374</td>\n",
       "      <td>0.453795</td>\n",
       "      <td>0.097073</td>\n",
       "      <td>0.873251</td>\n",
       "      <td>1.198161</td>\n",
       "      <td>0.963566</td>\n",
       "      <td>-0.203588</td>\n",
       "      <td>0.082098</td>\n",
       "      <td>1.692034</td>\n",
       "      <td>0.012160</td>\n",
       "      <td>-0.549793</td>\n",
       "    </tr>\n",
       "    <tr>\n",
       "      <th>3</th>\n",
       "      <td>-0.447920</td>\n",
       "      <td>-0.458567</td>\n",
       "      <td>-0.468853</td>\n",
       "      <td>-0.308097</td>\n",
       "      <td>-1.686816</td>\n",
       "      <td>-0.225963</td>\n",
       "      <td>-0.440473</td>\n",
       "      <td>-0.441009</td>\n",
       "      <td>0.119655</td>\n",
       "      <td>0.380668</td>\n",
       "      <td>-0.415645</td>\n",
       "      <td>-0.545680</td>\n",
       "      <td>-0.623393</td>\n",
       "      <td>-0.277752</td>\n",
       "      <td>-0.420753</td>\n",
       "      <td>-0.301833</td>\n",
       "      <td>-0.419056</td>\n",
       "      <td>0.462600</td>\n",
       "    </tr>\n",
       "    <tr>\n",
       "      <th>4</th>\n",
       "      <td>-0.456488</td>\n",
       "      <td>-0.465126</td>\n",
       "      <td>-0.643733</td>\n",
       "      <td>-0.609434</td>\n",
       "      <td>-1.535797</td>\n",
       "      <td>-0.233523</td>\n",
       "      <td>-0.682848</td>\n",
       "      <td>-0.681925</td>\n",
       "      <td>0.520131</td>\n",
       "      <td>0.635676</td>\n",
       "      <td>0.080745</td>\n",
       "      <td>-0.236489</td>\n",
       "      <td>-0.334855</td>\n",
       "      <td>-0.539508</td>\n",
       "      <td>-0.328393</td>\n",
       "      <td>-0.455207</td>\n",
       "      <td>-0.732667</td>\n",
       "      <td>0.084961</td>\n",
       "    </tr>\n",
       "  </tbody>\n",
       "</table>\n",
       "</div>"
      ],
      "text/plain": [
       "         0         1         2         3         4         5         6   \\\n",
       "0 -0.533103 -0.533988 -0.592961 -0.586254 -4.628737  2.353188 -0.750946   \n",
       "1 -0.635928 -0.586454 -0.547831 -0.627977 -3.595571 -5.142560 -0.320918   \n",
       "2  2.320791  2.374620  3.440554  2.278760 -1.834490  1.187343  3.749426   \n",
       "3 -0.447920 -0.458567 -0.468853 -0.308097 -1.686816 -0.225963 -0.440473   \n",
       "4 -0.456488 -0.465126 -0.643733 -0.609434 -1.535797 -0.233523 -0.682848   \n",
       "\n",
       "         7         8         9         10        11        12        13  \\\n",
       "0 -0.749935 -0.096553  0.113082 -0.275454 -0.891975 -0.429185 -0.190500   \n",
       "1 -0.367669  0.931664  1.171991  1.555607 -0.678633 -1.028456 -0.986675   \n",
       "2  3.750374  0.453795  0.097073  0.873251  1.198161  0.963566 -0.203588   \n",
       "3 -0.441009  0.119655  0.380668 -0.415645 -0.545680 -0.623393 -0.277752   \n",
       "4 -0.681925  0.520131  0.635676  0.080745 -0.236489 -0.334855 -0.539508   \n",
       "\n",
       "         14        15        16        17  \n",
       "0 -0.954392 -0.372621 -1.046279  0.066213  \n",
       "1  1.467505 -0.938927  1.789291 -0.978319  \n",
       "2  0.082098  1.692034  0.012160 -0.549793  \n",
       "3 -0.420753 -0.301833 -0.419056  0.462600  \n",
       "4 -0.328393 -0.455207 -0.732667  0.084961  "
      ]
     },
     "execution_count": 124,
     "metadata": {},
     "output_type": "execute_result"
    }
   ],
   "source": [
    "dfs = pd.DataFrame(xStand)\n",
    "dfs.head()"
   ]
  },
  {
   "cell_type": "code",
   "execution_count": 126,
   "metadata": {
    "collapsed": false
   },
   "outputs": [],
   "source": [
    "# exporting correlation data to csv so that I can better work it in Excel\n",
    "df_corr = dfs.corr()\n",
    "df_corrdf = pd.DataFrame(df_corr)\n",
    "df_corrdf\n",
    "df_corrdf.to_csv('/Users/EKandTower/GA-DSI/projects/projects-weekly/project-07/\\\n",
    "assets/df_corrdf.csv')"
   ]
  },
  {
   "cell_type": "raw",
   "metadata": {},
   "source": [
    "very strong correlations exist between many pairs. \n",
    "\n",
    "will drop features based on correlations and preceived utility.\n",
    "\n"
   ]
  },
  {
   "cell_type": "code",
   "execution_count": 99,
   "metadata": {
    "collapsed": false
   },
   "outputs": [
    {
     "data": {
      "text/html": [
       "<div>\n",
       "<table border=\"1\" class=\"dataframe\">\n",
       "  <thead>\n",
       "    <tr style=\"text-align: right;\">\n",
       "      <th></th>\n",
       "      <th>AP_NAME</th>\n",
       "      <th>Departure Cancellations</th>\n",
       "      <th>COUNTY</th>\n",
       "      <th>CITY</th>\n",
       "      <th>STATE</th>\n",
       "      <th>AP Type</th>\n",
       "      <th>Latitude</th>\n",
       "      <th>Longitude</th>\n",
       "      <th>departures for metric computation</th>\n",
       "      <th>average taxi out delay</th>\n",
       "      <th>average airport departure delay</th>\n",
       "      <th>average airborne delay</th>\n",
       "      <th>average taxi in delay</th>\n",
       "      <th>average block delay</th>\n",
       "    </tr>\n",
       "  </thead>\n",
       "  <tbody>\n",
       "    <tr>\n",
       "      <th>10</th>\n",
       "      <td>ABQ</td>\n",
       "      <td>315.0</td>\n",
       "      <td>0</td>\n",
       "      <td>546</td>\n",
       "      <td>11</td>\n",
       "      <td>0</td>\n",
       "      <td>18.439295</td>\n",
       "      <td>-66.002004</td>\n",
       "      <td>33292</td>\n",
       "      <td>2.41</td>\n",
       "      <td>15.99</td>\n",
       "      <td>1.73</td>\n",
       "      <td>1.02</td>\n",
       "      <td>2.40</td>\n",
       "    </tr>\n",
       "    <tr>\n",
       "      <th>21</th>\n",
       "      <td>ANC</td>\n",
       "      <td>111.0</td>\n",
       "      <td>235</td>\n",
       "      <td>328</td>\n",
       "      <td>6</td>\n",
       "      <td>1</td>\n",
       "      <td>21.152886</td>\n",
       "      <td>-157.096256</td>\n",
       "      <td>71099</td>\n",
       "      <td>1.33</td>\n",
       "      <td>12.34</td>\n",
       "      <td>4.09</td>\n",
       "      <td>0.54</td>\n",
       "      <td>4.57</td>\n",
       "    </tr>\n",
       "    <tr>\n",
       "      <th>32</th>\n",
       "      <td>ATL</td>\n",
       "      <td>5977.0</td>\n",
       "      <td>98</td>\n",
       "      <td>415</td>\n",
       "      <td>4</td>\n",
       "      <td>1</td>\n",
       "      <td>25.778333</td>\n",
       "      <td>-80.170278</td>\n",
       "      <td>428954</td>\n",
       "      <td>4.92</td>\n",
       "      <td>15.93</td>\n",
       "      <td>2.74</td>\n",
       "      <td>2.77</td>\n",
       "      <td>3.21</td>\n",
       "    </tr>\n",
       "    <tr>\n",
       "      <th>43</th>\n",
       "      <td>AUS</td>\n",
       "      <td>484.0</td>\n",
       "      <td>57</td>\n",
       "      <td>500</td>\n",
       "      <td>13</td>\n",
       "      <td>1</td>\n",
       "      <td>26.166194</td>\n",
       "      <td>-97.345889</td>\n",
       "      <td>60588</td>\n",
       "      <td>2.06</td>\n",
       "      <td>15.59</td>\n",
       "      <td>2.25</td>\n",
       "      <td>1.08</td>\n",
       "      <td>2.88</td>\n",
       "    </tr>\n",
       "    <tr>\n",
       "      <th>54</th>\n",
       "      <td>BDL</td>\n",
       "      <td>467.0</td>\n",
       "      <td>384</td>\n",
       "      <td>502</td>\n",
       "      <td>13</td>\n",
       "      <td>1</td>\n",
       "      <td>26.562843</td>\n",
       "      <td>-97.437759</td>\n",
       "      <td>39279</td>\n",
       "      <td>2.58</td>\n",
       "      <td>14.39</td>\n",
       "      <td>2.34</td>\n",
       "      <td>0.95</td>\n",
       "      <td>2.64</td>\n",
       "    </tr>\n",
       "  </tbody>\n",
       "</table>\n",
       "</div>"
      ],
      "text/plain": [
       "   AP_NAME  Departure Cancellations  COUNTY  CITY  STATE  AP Type   Latitude  \\\n",
       "10     ABQ                    315.0       0   546     11        0  18.439295   \n",
       "21     ANC                    111.0     235   328      6        1  21.152886   \n",
       "32     ATL                   5977.0      98   415      4        1  25.778333   \n",
       "43     AUS                    484.0      57   500     13        1  26.166194   \n",
       "54     BDL                    467.0     384   502     13        1  26.562843   \n",
       "\n",
       "     Longitude  departures for metric computation  average taxi out delay  \\\n",
       "10  -66.002004                              33292                    2.41   \n",
       "21 -157.096256                              71099                    1.33   \n",
       "32  -80.170278                             428954                    4.92   \n",
       "43  -97.345889                              60588                    2.06   \n",
       "54  -97.437759                              39279                    2.58   \n",
       "\n",
       "    average airport departure delay  average airborne delay  \\\n",
       "10                            15.99                    1.73   \n",
       "21                            12.34                    4.09   \n",
       "32                            15.93                    2.74   \n",
       "43                            15.59                    2.25   \n",
       "54                            14.39                    2.34   \n",
       "\n",
       "    average taxi in delay  average block delay  \n",
       "10                   1.02                 2.40  \n",
       "21                   0.54                 4.57  \n",
       "32                   2.77                 3.21  \n",
       "43                   1.08                 2.88  \n",
       "54                   0.95                 2.64  "
      ]
     },
     "execution_count": 99,
     "metadata": {},
     "output_type": "execute_result"
    }
   ],
   "source": [
    "\n",
    "df14b = pd.DataFrame(df14)\n",
    "\n",
    "df14b = df14b.drop(['Year','Facility Type','Arrival Cancellations','Departure Diversions','Arrival Diversions',\\\n",
    "                  'Key','LocID','ALIAS','FAA REGION','Boundary Data Available','airport','year',\\\n",
    "                  'arrivals for metric computation','percent on-time gate departures',\\\n",
    "                  'percent on-time airport departures','percent on-time gate arrivals',\\\n",
    "                  'average_gate_departure_delay','average_taxi_out_time','average gate arrival delay'], axis=1)\n",
    "\n",
    "df14b.head()"
   ]
  },
  {
   "cell_type": "code",
   "execution_count": 100,
   "metadata": {
    "collapsed": false
   },
   "outputs": [
    {
     "data": {
      "text/html": [
       "<div>\n",
       "<table border=\"1\" class=\"dataframe\">\n",
       "  <thead>\n",
       "    <tr style=\"text-align: right;\">\n",
       "      <th></th>\n",
       "      <th>Departure Cancellations</th>\n",
       "      <th>departures for metric computation</th>\n",
       "      <th>average taxi out delay</th>\n",
       "      <th>average airport departure delay</th>\n",
       "      <th>average airborne delay</th>\n",
       "      <th>average taxi in delay</th>\n",
       "      <th>average block delay</th>\n",
       "    </tr>\n",
       "  </thead>\n",
       "  <tbody>\n",
       "    <tr>\n",
       "      <th>10</th>\n",
       "      <td>315.0</td>\n",
       "      <td>33292</td>\n",
       "      <td>2.41</td>\n",
       "      <td>15.99</td>\n",
       "      <td>1.73</td>\n",
       "      <td>1.02</td>\n",
       "      <td>2.40</td>\n",
       "    </tr>\n",
       "    <tr>\n",
       "      <th>21</th>\n",
       "      <td>111.0</td>\n",
       "      <td>71099</td>\n",
       "      <td>1.33</td>\n",
       "      <td>12.34</td>\n",
       "      <td>4.09</td>\n",
       "      <td>0.54</td>\n",
       "      <td>4.57</td>\n",
       "    </tr>\n",
       "    <tr>\n",
       "      <th>32</th>\n",
       "      <td>5977.0</td>\n",
       "      <td>428954</td>\n",
       "      <td>4.92</td>\n",
       "      <td>15.93</td>\n",
       "      <td>2.74</td>\n",
       "      <td>2.77</td>\n",
       "      <td>3.21</td>\n",
       "    </tr>\n",
       "    <tr>\n",
       "      <th>43</th>\n",
       "      <td>484.0</td>\n",
       "      <td>60588</td>\n",
       "      <td>2.06</td>\n",
       "      <td>15.59</td>\n",
       "      <td>2.25</td>\n",
       "      <td>1.08</td>\n",
       "      <td>2.88</td>\n",
       "    </tr>\n",
       "    <tr>\n",
       "      <th>54</th>\n",
       "      <td>467.0</td>\n",
       "      <td>39279</td>\n",
       "      <td>2.58</td>\n",
       "      <td>14.39</td>\n",
       "      <td>2.34</td>\n",
       "      <td>0.95</td>\n",
       "      <td>2.64</td>\n",
       "    </tr>\n",
       "  </tbody>\n",
       "</table>\n",
       "</div>"
      ],
      "text/plain": [
       "    Departure Cancellations  departures for metric computation  \\\n",
       "10                    315.0                              33292   \n",
       "21                    111.0                              71099   \n",
       "32                   5977.0                             428954   \n",
       "43                    484.0                              60588   \n",
       "54                    467.0                              39279   \n",
       "\n",
       "    average taxi out delay  average airport departure delay  \\\n",
       "10                    2.41                            15.99   \n",
       "21                    1.33                            12.34   \n",
       "32                    4.92                            15.93   \n",
       "43                    2.06                            15.59   \n",
       "54                    2.58                            14.39   \n",
       "\n",
       "    average airborne delay  average taxi in delay  average block delay  \n",
       "10                    1.73                   1.02                 2.40  \n",
       "21                    4.09                   0.54                 4.57  \n",
       "32                    2.74                   2.77                 3.21  \n",
       "43                    2.25                   1.08                 2.88  \n",
       "54                    2.34                   0.95                 2.64  "
      ]
     },
     "execution_count": 100,
     "metadata": {},
     "output_type": "execute_result"
    }
   ],
   "source": [
    "# filter locational information from df14b\n",
    "\n",
    "dfn2 = pd.DataFrame(df14b)\n",
    "\n",
    "dfn2 = dfn2.drop(['AP_NAME', 'COUNTY','CITY','STATE','AP Type','Latitude','Longitude'], axis=1)\n",
    "                  \n",
    "dfn2.head()"
   ]
  },
  {
   "cell_type": "code",
   "execution_count": 102,
   "metadata": {
    "collapsed": false,
    "scrolled": true
   },
   "outputs": [
    {
     "data": {
      "text/plain": [
       "<seaborn.axisgrid.PairGrid at 0x252194510>"
      ]
     },
     "execution_count": 102,
     "metadata": {},
     "output_type": "execute_result"
    },
    {
     "data": {
      "image/png": "[encoded data removed]",
      "text/plain": [
       "<matplotlib.figure.Figure at 0x250f5fdd0>"
      ]
     },
     "metadata": {},
     "output_type": "display_data"
    }
   ],
   "source": [
    "sns.pairplot(dfn2, kind=\"scatter\")"
   ]
  },
  {
   "cell_type": "markdown",
   "metadata": {
    "focus": false,
    "id": "886b49bf-d7fa-41b0-b94c-740345580d88"
   },
   "source": [
    "#### 4.3 What is the value of understanding correlations before PCA? "
   ]
  },
  {
   "cell_type": "markdown",
   "metadata": {
    "focus": false,
    "id": "192df272-c2b1-46da-bcfa-c2b02d7445a8"
   },
   "source": [
    "Answer: you should eliminate one side of highly correlated pairs"
   ]
  },
  {
   "cell_type": "markdown",
   "metadata": {
    "focus": false,
    "id": "904cda18-4a60-4b05-8502-139beb44c1f0"
   },
   "source": [
    "#### 4.4 Validate your findings using statistical analysis"
   ]
  },
  {
   "cell_type": "code",
   "execution_count": null,
   "metadata": {
    "collapsed": true
   },
   "outputs": [],
   "source": []
  },
  {
   "cell_type": "code",
   "execution_count": null,
   "metadata": {
    "collapsed": true
   },
   "outputs": [],
   "source": []
  },
  {
   "cell_type": "markdown",
   "metadata": {
    "focus": false,
    "id": "87689b59-fda0-4a07-a9d3-95936deaf8ee"
   },
   "source": [
    "#### 4.5 How can you improve your overall analysis? "
   ]
  },
  {
   "cell_type": "markdown",
   "metadata": {
    "focus": false,
    "id": "000bc40d-e033-4621-82a4-e09717947fb3"
   },
   "source": [
    "Answer: "
   ]
  },
  {
   "cell_type": "markdown",
   "metadata": {
    "focus": false,
    "id": "cea5d879-f180-448a-bd50-b30b2b7d6d28"
   },
   "source": [
    "### Part 5: Perform a PCA"
   ]
  },
  {
   "cell_type": "raw",
   "metadata": {},
   "source": [
    "target doesn't have to bde airport, it can be a feature.\n",
    "\n",
    "I can see what features contribute most to average taxi delay'\n",
    "\n",
    "need 2 targets, one airport, the other the feature(s) that is/are the primary causes."
   ]
  },
  {
   "cell_type": "markdown",
   "metadata": {
    "focus": false,
    "id": "27c1212c-3490-45ff-a6da-501075f3eee5"
   },
   "source": [
    "#### 5.1 Conduct the PCA"
   ]
  },
  {
   "cell_type": "code",
   "execution_count": 32,
   "metadata": {
    "collapsed": false
   },
   "outputs": [],
   "source": [
    "# change y to something"
   ]
  },
  {
   "cell_type": "code",
   "execution_count": 104,
   "metadata": {
    "collapsed": false
   },
   "outputs": [
    {
     "name": "stdout",
     "output_type": "stream",
     "text": [
      "<class 'pandas.core.frame.DataFrame'>\n",
      "Int64Index: 72 entries, 10 to 804\n",
      "Data columns (total 14 columns):\n",
      "AP_NAME                              72 non-null object\n",
      "Departure Cancellations              72 non-null float64\n",
      "COUNTY                               72 non-null int64\n",
      "CITY                                 72 non-null int64\n",
      "STATE                                72 non-null int64\n",
      "AP Type                              72 non-null int64\n",
      "Latitude                             72 non-null float64\n",
      "Longitude                            72 non-null float64\n",
      "departures for metric computation    72 non-null int64\n",
      "average taxi out delay               72 non-null float64\n",
      "average airport departure delay      72 non-null float64\n",
      "average airborne delay               72 non-null float64\n",
      "average taxi in delay                72 non-null float64\n",
      "average block delay                  72 non-null float64\n",
      "dtypes: float64(8), int64(5), object(1)\n",
      "memory usage: 8.4+ KB\n"
     ]
    }
   ],
   "source": [
    "df14b.info()"
   ]
  },
  {
   "cell_type": "code",
   "execution_count": 105,
   "metadata": {
    "collapsed": true,
    "focus": false,
    "id": "d2f5bd48-a2c8-4511-b3c6-fcb4889db4a7"
   },
   "outputs": [],
   "source": [
    "x = df14b.ix[:,1:].values\n",
    "y = df14b.ix[:,0].values"
   ]
  },
  {
   "cell_type": "code",
   "execution_count": 106,
   "metadata": {
    "collapsed": false,
    "scrolled": true
   },
   "outputs": [],
   "source": [
    "xStand = StandardScaler().fit_transform(x)"
   ]
  },
  {
   "cell_type": "code",
   "execution_count": 107,
   "metadata": {
    "collapsed": true
   },
   "outputs": [],
   "source": [
    "covMat = np.cov(xStand.T)\n",
    "eigenValues, eigenVectors = np.linalg.eig(covMat)"
   ]
  },
  {
   "cell_type": "code",
   "execution_count": 108,
   "metadata": {
    "collapsed": false
   },
   "outputs": [
    {
     "name": "stdout",
     "output_type": "stream",
     "text": [
      "[ 3.21355058  1.91561954  1.43747537  1.32992091  1.15603484  0.10004425\n",
      "  0.22205631  0.31235345  0.86548365  0.80913269  0.73455666  0.54043166\n",
      "  0.54643868]\n",
      "[[ 0.23923323 -0.26697312  0.18179296  0.05540677  0.33664976  0.06991346\n",
      "   0.14169599 -0.13385954 -0.37836836 -0.18197036  0.63310796 -0.26287136\n",
      "   0.18153313]\n",
      " [-0.09916252  0.01624187 -0.52089986 -0.3074634   0.13643409 -0.04327569\n",
      "   0.0522487   0.0052482  -0.08223915  0.59633606  0.3267006  -0.09291176\n",
      "  -0.35077376]\n",
      " [-0.05377649 -0.23591671 -0.32301947 -0.44938843 -0.45038022 -0.07626539\n",
      "  -0.11866711 -0.00761958 -0.15590921 -0.14411411  0.12964439  0.22885293\n",
      "   0.54598834]\n",
      " [ 0.0789186  -0.02926669 -0.37139571  0.46537728  0.0161543  -0.02159438\n",
      "  -0.01751515 -0.15704252 -0.62661606  0.14519107 -0.41508801 -0.06721364\n",
      "   0.14887667]\n",
      " [-0.1095324   0.34815588  0.17563089 -0.40695569 -0.0182069   0.11419739\n",
      "   0.11285137 -0.1051324  -0.55763257 -0.3071556  -0.07926291  0.2549088\n",
      "  -0.39574039]\n",
      " [-0.0285895   0.33072532  0.38228034 -0.31811299  0.31649286 -0.08790157\n",
      "  -0.19589264  0.0633971  -0.13302917  0.43835588 -0.17790255 -0.12639242\n",
      "   0.48446335]\n",
      " [-0.0526412  -0.41827647  0.43965984  0.03798852 -0.28369631  0.13709846\n",
      "   0.12491293 -0.44613707 -0.05174958  0.46928963 -0.02340659  0.2853418\n",
      "  -0.09343496]\n",
      " [ 0.47120275 -0.18780036 -0.00354387 -0.15528196  0.2042067  -0.58098326\n",
      "  -0.41481468 -0.25768616  0.04139873 -0.08719952 -0.1154706   0.16652022\n",
      "  -0.22467441]\n",
      " [ 0.44965954 -0.07653845  0.03871588 -0.25832389 -0.190381   -0.19594492\n",
      "   0.67302779  0.16475547  0.01545285  0.05279876 -0.28032045 -0.29551817\n",
      "  -0.00555495]\n",
      " [ 0.27217662  0.22286458  0.21635719  0.25434031 -0.49068803 -0.18144583\n",
      "  -0.23323473  0.47068315 -0.23229662  0.20361568  0.31785465  0.05516641\n",
      "  -0.12496988]\n",
      " [ 0.37167554  0.34985138 -0.08930296 -0.08688878 -0.3093014   0.39347389\n",
      "  -0.24637892 -0.49212911  0.14173706 -0.00896339  0.03591391 -0.38608445\n",
      "  -0.00576024]\n",
      " [ 0.45543554 -0.22296943 -0.07590917 -0.11803228  0.23072379  0.61398388\n",
      "  -0.14436297  0.37130576 -0.00180225  0.07489991 -0.15169997  0.32409577\n",
      "  -0.02422365]\n",
      " [ 0.2536894   0.4511034  -0.14489282  0.19648013  0.12785024 -0.0820757\n",
      "   0.36757551 -0.21926057  0.16057046  0.07173861  0.21819311  0.57515099\n",
      "   0.23862898]]\n"
     ]
    }
   ],
   "source": [
    "print(eigenValues)\n",
    "print(eigenVectors)"
   ]
  },
  {
   "cell_type": "code",
   "execution_count": 109,
   "metadata": {
    "collapsed": false
   },
   "outputs": [
    {
     "name": "stdout",
     "output_type": "stream",
     "text": [
      "3.21355058168\n",
      "1.9156195422\n",
      "1.43747537016\n",
      "1.32992091202\n",
      "1.15603484227\n",
      "0.865483652288\n",
      "0.809132690208\n",
      "0.73455665909\n",
      "0.546438679698\n",
      "0.540431662653\n",
      "0.312353445072\n",
      "0.222056308382\n",
      "0.100044245838\n"
     ]
    }
   ],
   "source": [
    "eigenPairs = [(np.abs(eigenValues[i]), eigenVectors[:,i]) for i in range(len(eigenValues))]\n",
    "eigenPairs.sort()\n",
    "eigenPairs.reverse()\n",
    "for i in eigenPairs:\n",
    "    print(i[0])"
   ]
  },
  {
   "cell_type": "code",
   "execution_count": 110,
   "metadata": {
    "collapsed": true
   },
   "outputs": [],
   "source": [
    "totalEigen = sum(eigenValues)\n",
    "varExpl = [(i / totalEigen)*100 for i in sorted(eigenValues, reverse=True)]\n",
    "cumulvarExpl = np.cumsum(varExpl)"
   ]
  },
  {
   "cell_type": "code",
   "execution_count": 111,
   "metadata": {
    "collapsed": false,
    "scrolled": true
   },
   "outputs": [
    {
     "name": "stdout",
     "output_type": "stream",
     "text": [
      "[ 24.37629181  38.90716654  49.81109296  59.89916825  68.66823596\n",
      "  75.23333632  81.37098814  86.9429457   91.08793996  95.18736817\n",
      "  97.55671588  99.24111737 100.        ]\n"
     ]
    }
   ],
   "source": [
    "print(cumulvarExpl)"
   ]
  },
  {
   "cell_type": "code",
   "execution_count": 114,
   "metadata": {
    "collapsed": false
   },
   "outputs": [
    {
     "data": {
      "text/plain": [
       "array([[ 0.23923323, -0.09916252, -0.05377649,  0.0789186 , -0.1095324 ,\n",
       "        -0.0285895 , -0.0526412 ,  0.47120275,  0.44965954,  0.27217662,\n",
       "         0.37167554,  0.45543554,  0.2536894 ],\n",
       "       [-0.26697312,  0.01624187, -0.23591671, -0.02926669,  0.34815588,\n",
       "         0.33072532, -0.41827647, -0.18780036, -0.07653845,  0.22286458,\n",
       "         0.34985138, -0.22296943,  0.4511034 ]])"
      ]
     },
     "execution_count": 114,
     "metadata": {},
     "output_type": "execute_result"
    }
   ],
   "source": [
    "airports_pca = PCA(n_components=2)\n",
    "airports_pca.fit(xStand)\n",
    "X = airports_pca.transform(xStand)\n",
    "\n",
    "airports_pca.components_\n",
    "# components_.X\n"
   ]
  },
  {
   "cell_type": "code",
   "execution_count": 115,
   "metadata": {
    "collapsed": false
   },
   "outputs": [
    {
     "data": {
      "image/png": "[encoded data removed]",
      "text/plain": [
       "<matplotlib.figure.Figure at 0x25fc1b550>"
      ]
     },
     "metadata": {},
     "output_type": "display_data"
    }
   ],
   "source": [
    "from matplotlib import pyplot as plt\n",
    "with plt.style.context('seaborn-whitegrid'):\n",
    "    plt.figure(figsize=(6, 4))\n",
    "\n",
    "    plt.bar(range(len(cumulvarExpl)), varExpl, alpha=0.5, align='center',\n",
    "            label='individual explained variance')\n",
    "    plt.step(range(len(cumulvarExpl)), cumulvarExpl, where='mid',\n",
    "             label='cumulative explained variance')\n",
    "    plt.ylabel('Explained variance ratio')\n",
    "    plt.xlabel('Principal components')\n",
    "    plt.legend(loc='best')\n",
    "    plt.tight_layout()"
   ]
  },
  {
   "cell_type": "code",
   "execution_count": null,
   "metadata": {
    "collapsed": true
   },
   "outputs": [],
   "source": []
  },
  {
   "cell_type": "code",
   "execution_count": null,
   "metadata": {
    "collapsed": true,
    "focus": false,
    "id": "a8e7ac46-ba4f-47a8-99f8-b67a7f7e108e"
   },
   "outputs": [],
   "source": []
  },
  {
   "cell_type": "code",
   "execution_count": null,
   "metadata": {
    "collapsed": true,
    "focus": false,
    "id": "98fd6a42-89e0-4621-a70d-1e2c8c4bb975"
   },
   "outputs": [],
   "source": []
  },
  {
   "cell_type": "markdown",
   "metadata": {},
   "source": [
    "### Part 6: Additional Analysis\n",
    "Include any other models you'd like to run here. These can include regressions, classifications, or clusters. "
   ]
  },
  {
   "cell_type": "code",
   "execution_count": null,
   "metadata": {
    "collapsed": true
   },
   "outputs": [],
   "source": []
  },
  {
   "cell_type": "code",
   "execution_count": null,
   "metadata": {
    "collapsed": true
   },
   "outputs": [],
   "source": []
  },
  {
   "cell_type": "markdown",
   "metadata": {
    "focus": false,
    "id": "023d9120-1eb3-4f20-b083-5a8fa1605f06"
   },
   "source": [
    "### Part 7: Write an analysis plan of your findings "
   ]
  },
  {
   "cell_type": "markdown",
   "metadata": {
    "focus": false,
    "id": "dc0ce0b7-c246-4d76-a01d-88fa0d37fe95"
   },
   "source": [
    "Create a writeup on the interpretation of findings including an executive summary with conclusions and next steps. Put it on your blog, and include the link here."
   ]
  },
  {
   "cell_type": "markdown",
   "metadata": {
    "focus": false,
    "id": "140af42e-0757-400e-ae39-0410a54d2581"
   },
   "source": []
  },
  {
   "cell_type": "markdown",
   "metadata": {},
   "source": [
    "Which operational features are most correlated with delays?"
   ]
  },
  {
   "cell_type": "markdown",
   "metadata": {},
   "source": [
    " "
   ]
  },
  {
   "cell_type": "markdown",
   "metadata": {},
   "source": [
    "What should the airport's next steps be?"
   ]
  },
  {
   "cell_type": "markdown",
   "metadata": {},
   "source": [
    " "
   ]
  },
  {
   "cell_type": "markdown",
   "metadata": {
    "focus": false,
    "id": "8e08640c-4901-4724-9805-32c518521b2f"
   },
   "source": [
    "### Bonus: Copy your Database to AWS "
   ]
  },
  {
   "cell_type": "markdown",
   "metadata": {
    "focus": false,
    "id": "bf5d7088-46cd-4c47-9fcc-c1fd200cd164"
   },
   "source": [
    "Make sure to properly document all of the features of your dataset"
   ]
  },
  {
   "cell_type": "code",
   "execution_count": null,
   "metadata": {
    "collapsed": true,
    "focus": false,
    "id": "d181acff-8a70-40e9-8e39-fdc2b95550a2"
   },
   "outputs": [],
   "source": []
  },
  {
   "cell_type": "markdown",
   "metadata": {
    "focus": false,
    "id": "63387c7b-3c90-4732-808c-298225e1c0fb"
   },
   "source": [
    "### Bonus: Create a 3-Dimensional Plot of your new dataset with PCA applied"
   ]
  },
  {
   "cell_type": "code",
   "execution_count": null,
   "metadata": {
    "collapsed": true,
    "focus": false,
    "id": "b6fece51-aa23-4572-8d1d-c9c83701899d"
   },
   "outputs": [],
   "source": []
  }
 ],
 "metadata": {
  "anaconda-cloud": {},
  "kernelspec": {
   "display_name": "Python [Root]",
   "language": "python",
   "name": "Python [Root]"
  },
  "language_info": {
   "codemirror_mode": {
    "name": "ipython",
    "version": 2
   },
   "file_extension": ".py",
   "mimetype": "text/x-python",
   "name": "python",
   "nbconvert_exporter": "python",
   "pygments_lexer": "ipython2",
   "version": "2.7.12"
  }
 },
 "nbformat": 4,
 "nbformat_minor": 0
}
