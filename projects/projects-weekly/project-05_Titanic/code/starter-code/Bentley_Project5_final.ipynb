{
 "cells": [
  {
   "cell_type": "code",
   "execution_count": 2,
   "metadata": {
    "collapsed": false
   },
   "outputs": [],
   "source": [
    "from IPython.core.display import Image, HTML\n",
    "from patsy import dmatrices, demo_data, ContrastMatrix, Poly\n",
    "from sklearn import linear_model, metrics\n",
    "from sklearn.cross_validation import cross_val_score, train_test_split\n",
    "from sklearn.feature_extraction.text import CountVectorizer\n",
    "from sklearn.grid_search import GridSearchCV\n",
    "from sklearn.linear_model import Lasso, LogisticRegression, LogisticRegressionCV\n",
    "from sklearn.metrics import classification_report, confusion_matrix, accuracy_score, roc_curve, auc\n",
    "from sklearn.neighbors import KNeighborsClassifier\n",
    "from sklearn.svm import SVC\n",
    "import collections\n",
    "import matplotlib.pyplot as plt\n",
    "import numpy as np\n",
    "import pandas as pd \n",
    "import plotly.plotly as py\n",
    "import pylab as pl\n",
    "import seaborn as sns\n",
    "import sklearn.cross_validation\n",
    "import statsmodels.api as sm\n",
    "import string\n",
    "import warnings\n",
    "\n",
    "plt.style.use('fivethirtyeight')\n",
    "%matplotlib inline"
   ]
  },
  {
   "cell_type": "markdown",
   "metadata": {},
   "source": [
    "## Pre-Task: Describe the goals of your study"
   ]
  },
  {
   "cell_type": "markdown",
   "metadata": {},
   "source": [
    "To use logistic regression to determine what factors played a part in who survived and who did not in the Titanic sinking."
   ]
  },
  {
   "cell_type": "markdown",
   "metadata": {},
   "source": [
    "  "
   ]
  },
  {
   "cell_type": "markdown",
   "metadata": {},
   "source": [
    "## Part 1: Aquire the Data"
   ]
  },
  {
   "cell_type": "markdown",
   "metadata": {
    "collapsed": false
   },
   "source": [
    "Code didn't work on home mac either. Just pulled from SQL directly."
   ]
  },
  {
   "cell_type": "markdown",
   "metadata": {},
   "source": [
    "#### 1. Connect to the remote database"
   ]
  },
  {
   "cell_type": "markdown",
   "metadata": {},
   "source": [
    "#### 2. Query the database and aggregate the data"
   ]
  },
  {
   "cell_type": "code",
   "execution_count": 3,
   "metadata": {
    "collapsed": false,
    "scrolled": true
   },
   "outputs": [
    {
     "data": {
      "text/html": [
       "<div>\n",
       "<table border=\"1\" class=\"dataframe\">\n",
       "  <thead>\n",
       "    <tr style=\"text-align: right;\">\n",
       "      <th></th>\n",
       "      <th>index</th>\n",
       "      <th>PassengerId</th>\n",
       "      <th>Survived</th>\n",
       "      <th>Pclass</th>\n",
       "      <th>Name</th>\n",
       "      <th>Sex</th>\n",
       "      <th>Age</th>\n",
       "      <th>SibSp</th>\n",
       "      <th>Parch</th>\n",
       "      <th>Ticket</th>\n",
       "      <th>Fare</th>\n",
       "      <th>Cabin</th>\n",
       "      <th>Embarked</th>\n",
       "    </tr>\n",
       "  </thead>\n",
       "  <tbody>\n",
       "    <tr>\n",
       "      <th>0</th>\n",
       "      <td>0</td>\n",
       "      <td>1</td>\n",
       "      <td>0</td>\n",
       "      <td>3</td>\n",
       "      <td>Braund, Mr. Owen Harris</td>\n",
       "      <td>male</td>\n",
       "      <td>22.0</td>\n",
       "      <td>1</td>\n",
       "      <td>0</td>\n",
       "      <td>A/5 21171</td>\n",
       "      <td>7.2500</td>\n",
       "      <td>NaN</td>\n",
       "      <td>S</td>\n",
       "    </tr>\n",
       "    <tr>\n",
       "      <th>1</th>\n",
       "      <td>1</td>\n",
       "      <td>2</td>\n",
       "      <td>1</td>\n",
       "      <td>1</td>\n",
       "      <td>Cumings, Mrs. John Bradley (Florence Briggs Th...</td>\n",
       "      <td>female</td>\n",
       "      <td>38.0</td>\n",
       "      <td>1</td>\n",
       "      <td>0</td>\n",
       "      <td>PC 17599</td>\n",
       "      <td>71.2833</td>\n",
       "      <td>C85</td>\n",
       "      <td>C</td>\n",
       "    </tr>\n",
       "    <tr>\n",
       "      <th>2</th>\n",
       "      <td>2</td>\n",
       "      <td>3</td>\n",
       "      <td>1</td>\n",
       "      <td>3</td>\n",
       "      <td>Heikkinen, Miss. Laina</td>\n",
       "      <td>female</td>\n",
       "      <td>26.0</td>\n",
       "      <td>0</td>\n",
       "      <td>0</td>\n",
       "      <td>STON/O2. 3101282</td>\n",
       "      <td>7.9250</td>\n",
       "      <td>NaN</td>\n",
       "      <td>S</td>\n",
       "    </tr>\n",
       "    <tr>\n",
       "      <th>3</th>\n",
       "      <td>3</td>\n",
       "      <td>4</td>\n",
       "      <td>1</td>\n",
       "      <td>1</td>\n",
       "      <td>Futrelle, Mrs. Jacques Heath (Lily May Peel)</td>\n",
       "      <td>female</td>\n",
       "      <td>35.0</td>\n",
       "      <td>1</td>\n",
       "      <td>0</td>\n",
       "      <td>113803</td>\n",
       "      <td>53.1000</td>\n",
       "      <td>C123</td>\n",
       "      <td>S</td>\n",
       "    </tr>\n",
       "    <tr>\n",
       "      <th>4</th>\n",
       "      <td>4</td>\n",
       "      <td>5</td>\n",
       "      <td>0</td>\n",
       "      <td>3</td>\n",
       "      <td>Allen, Mr. William Henry</td>\n",
       "      <td>male</td>\n",
       "      <td>35.0</td>\n",
       "      <td>0</td>\n",
       "      <td>0</td>\n",
       "      <td>373450</td>\n",
       "      <td>8.0500</td>\n",
       "      <td>NaN</td>\n",
       "      <td>S</td>\n",
       "    </tr>\n",
       "  </tbody>\n",
       "</table>\n",
       "</div>"
      ],
      "text/plain": [
       "   index  PassengerId  Survived  Pclass  \\\n",
       "0      0            1         0       3   \n",
       "1      1            2         1       1   \n",
       "2      2            3         1       3   \n",
       "3      3            4         1       1   \n",
       "4      4            5         0       3   \n",
       "\n",
       "                                                Name     Sex   Age  SibSp  \\\n",
       "0                            Braund, Mr. Owen Harris    male  22.0      1   \n",
       "1  Cumings, Mrs. John Bradley (Florence Briggs Th...  female  38.0      1   \n",
       "2                             Heikkinen, Miss. Laina  female  26.0      0   \n",
       "3       Futrelle, Mrs. Jacques Heath (Lily May Peel)  female  35.0      1   \n",
       "4                           Allen, Mr. William Henry    male  35.0      0   \n",
       "\n",
       "   Parch            Ticket     Fare Cabin Embarked  \n",
       "0      0         A/5 21171   7.2500   NaN        S  \n",
       "1      0          PC 17599  71.2833   C85        C  \n",
       "2      0  STON/O2. 3101282   7.9250   NaN        S  \n",
       "3      0            113803  53.1000  C123        S  \n",
       "4      0            373450   8.0500   NaN        S  "
      ]
     },
     "execution_count": 3,
     "metadata": {},
     "output_type": "execute_result"
    }
   ],
   "source": [
    "# mac path\n",
    "df = pd.read_csv('/Users/EKandTower/GA-DSI/projects/projects-weekly/project-05/code/train.csv')\n",
    "\n",
    "#windows path\n",
    "# df = pd.read_csv('C:/Uers/Elizabeth/GA-DSI/projects/projects-weekly/project-05/code/train.csv')\n",
    "\n",
    "df.head()"
   ]
  },
  {
   "cell_type": "markdown",
   "metadata": {},
   "source": [
    "#### 5. What are the risks and assumptions of our data? "
   ]
  },
  {
   "cell_type": "raw",
   "metadata": {},
   "source": [
    "If you accept a data set for use the first thing you have to assume is that it is accurate or, barring that, close enough to make analysis possible. \n",
    "\n",
    "I have two concerns regarding the data's veracity. The first is that it comes from a century ago when record keeping was done manually; you can see from the ticket numbers that it was not done systematically). The second is the circumstances under which these data became interesting. As a company that did substantial business in emigration I think it far from unlikely that there were unrecorded passengers aboard. It is further possible, though less likely or impactful, that there were passengers aboard under assumed identities.\n",
    "\n",
    "Nearly half of the people on board the Titanic, her staff and crew of 855, are unaccounted for in this data set. This is an unforgivable omission and renders any analysis upon it a farce. This is more disturbing as their information is available, but only in PDF format (http://www.plimsoll.org/Southampton/Titanic/titaniccrewlist/). \n",
    "\n",
    "Further exploration showed that there were 2,208 people aboard which means that even including the crew there are 462 people unaccounted for in this database. \n",
    "\n",
    "You can see my feelings about this on my blog.    "
   ]
  },
  {
   "cell_type": "markdown",
   "metadata": {},
   "source": [
    "## Part 2: Exploratory Data Analysis"
   ]
  },
  {
   "cell_type": "markdown",
   "metadata": {},
   "source": [
    "#### 1. Describe the Data"
   ]
  },
  {
   "cell_type": "code",
   "execution_count": 4,
   "metadata": {
    "collapsed": false
   },
   "outputs": [
    {
     "name": "stderr",
     "output_type": "stream",
     "text": [
      "/Users/EKandTower/anaconda/lib/python2.7/site-packages/numpy/lib/function_base.py:3834: RuntimeWarning:\n",
      "\n",
      "Invalid value encountered in percentile\n",
      "\n"
     ]
    },
    {
     "data": {
      "text/html": [
       "<div>\n",
       "<table border=\"1\" class=\"dataframe\">\n",
       "  <thead>\n",
       "    <tr style=\"text-align: right;\">\n",
       "      <th></th>\n",
       "      <th>index</th>\n",
       "      <th>PassengerId</th>\n",
       "      <th>Survived</th>\n",
       "      <th>Pclass</th>\n",
       "      <th>Age</th>\n",
       "      <th>SibSp</th>\n",
       "      <th>Parch</th>\n",
       "      <th>Fare</th>\n",
       "    </tr>\n",
       "  </thead>\n",
       "  <tbody>\n",
       "    <tr>\n",
       "      <th>count</th>\n",
       "      <td>891.000000</td>\n",
       "      <td>891.000000</td>\n",
       "      <td>891.000000</td>\n",
       "      <td>891.000000</td>\n",
       "      <td>714.000000</td>\n",
       "      <td>891.000000</td>\n",
       "      <td>891.000000</td>\n",
       "      <td>891.000000</td>\n",
       "    </tr>\n",
       "    <tr>\n",
       "      <th>mean</th>\n",
       "      <td>445.000000</td>\n",
       "      <td>446.000000</td>\n",
       "      <td>0.383838</td>\n",
       "      <td>2.308642</td>\n",
       "      <td>29.699118</td>\n",
       "      <td>0.523008</td>\n",
       "      <td>0.381594</td>\n",
       "      <td>32.204208</td>\n",
       "    </tr>\n",
       "    <tr>\n",
       "      <th>std</th>\n",
       "      <td>257.353842</td>\n",
       "      <td>257.353842</td>\n",
       "      <td>0.486592</td>\n",
       "      <td>0.836071</td>\n",
       "      <td>14.526497</td>\n",
       "      <td>1.102743</td>\n",
       "      <td>0.806057</td>\n",
       "      <td>49.693429</td>\n",
       "    </tr>\n",
       "    <tr>\n",
       "      <th>min</th>\n",
       "      <td>0.000000</td>\n",
       "      <td>1.000000</td>\n",
       "      <td>0.000000</td>\n",
       "      <td>1.000000</td>\n",
       "      <td>0.420000</td>\n",
       "      <td>0.000000</td>\n",
       "      <td>0.000000</td>\n",
       "      <td>0.000000</td>\n",
       "    </tr>\n",
       "    <tr>\n",
       "      <th>25%</th>\n",
       "      <td>222.500000</td>\n",
       "      <td>223.500000</td>\n",
       "      <td>0.000000</td>\n",
       "      <td>2.000000</td>\n",
       "      <td>NaN</td>\n",
       "      <td>0.000000</td>\n",
       "      <td>0.000000</td>\n",
       "      <td>7.910400</td>\n",
       "    </tr>\n",
       "    <tr>\n",
       "      <th>50%</th>\n",
       "      <td>445.000000</td>\n",
       "      <td>446.000000</td>\n",
       "      <td>0.000000</td>\n",
       "      <td>3.000000</td>\n",
       "      <td>NaN</td>\n",
       "      <td>0.000000</td>\n",
       "      <td>0.000000</td>\n",
       "      <td>14.454200</td>\n",
       "    </tr>\n",
       "    <tr>\n",
       "      <th>75%</th>\n",
       "      <td>667.500000</td>\n",
       "      <td>668.500000</td>\n",
       "      <td>1.000000</td>\n",
       "      <td>3.000000</td>\n",
       "      <td>NaN</td>\n",
       "      <td>1.000000</td>\n",
       "      <td>0.000000</td>\n",
       "      <td>31.000000</td>\n",
       "    </tr>\n",
       "    <tr>\n",
       "      <th>max</th>\n",
       "      <td>890.000000</td>\n",
       "      <td>891.000000</td>\n",
       "      <td>1.000000</td>\n",
       "      <td>3.000000</td>\n",
       "      <td>80.000000</td>\n",
       "      <td>8.000000</td>\n",
       "      <td>6.000000</td>\n",
       "      <td>512.329200</td>\n",
       "    </tr>\n",
       "  </tbody>\n",
       "</table>\n",
       "</div>"
      ],
      "text/plain": [
       "            index  PassengerId    Survived      Pclass         Age  \\\n",
       "count  891.000000   891.000000  891.000000  891.000000  714.000000   \n",
       "mean   445.000000   446.000000    0.383838    2.308642   29.699118   \n",
       "std    257.353842   257.353842    0.486592    0.836071   14.526497   \n",
       "min      0.000000     1.000000    0.000000    1.000000    0.420000   \n",
       "25%    222.500000   223.500000    0.000000    2.000000         NaN   \n",
       "50%    445.000000   446.000000    0.000000    3.000000         NaN   \n",
       "75%    667.500000   668.500000    1.000000    3.000000         NaN   \n",
       "max    890.000000   891.000000    1.000000    3.000000   80.000000   \n",
       "\n",
       "            SibSp       Parch        Fare  \n",
       "count  891.000000  891.000000  891.000000  \n",
       "mean     0.523008    0.381594   32.204208  \n",
       "std      1.102743    0.806057   49.693429  \n",
       "min      0.000000    0.000000    0.000000  \n",
       "25%      0.000000    0.000000    7.910400  \n",
       "50%      0.000000    0.000000   14.454200  \n",
       "75%      1.000000    0.000000   31.000000  \n",
       "max      8.000000    6.000000  512.329200  "
      ]
     },
     "execution_count": 4,
     "metadata": {},
     "output_type": "execute_result"
    }
   ],
   "source": [
    "df.describe()"
   ]
  },
  {
   "cell_type": "code",
   "execution_count": 5,
   "metadata": {
    "collapsed": false
   },
   "outputs": [
    {
     "name": "stdout",
     "output_type": "stream",
     "text": [
      "<class 'pandas.core.frame.DataFrame'>\n",
      "RangeIndex: 891 entries, 0 to 890\n",
      "Data columns (total 13 columns):\n",
      "index          891 non-null int64\n",
      "PassengerId    891 non-null int64\n",
      "Survived       891 non-null int64\n",
      "Pclass         891 non-null int64\n",
      "Name           891 non-null object\n",
      "Sex            891 non-null object\n",
      "Age            714 non-null float64\n",
      "SibSp          891 non-null int64\n",
      "Parch          891 non-null int64\n",
      "Ticket         891 non-null object\n",
      "Fare           891 non-null float64\n",
      "Cabin          204 non-null object\n",
      "Embarked       889 non-null object\n",
      "dtypes: float64(2), int64(6), object(5)\n",
      "memory usage: 90.6+ KB\n"
     ]
    }
   ],
   "source": [
    "df.info()"
   ]
  },
  {
   "cell_type": "raw",
   "metadata": {},
   "source": [
    "Describing column by column:\n",
    "\n",
    "Index - Primary Key of data\n",
    "PassengerId - Identifier of individual passenger\n",
    "Survived - Conditional identifier (0 = fatality, 1 = survivor)\n",
    "Pclass - Passenger class (1 = 1st, 2 = 2nd, 3 = 3rd(aka steerage))\n",
    "Name - Passanger name\n",
    "Sex - Gender of passenger\n",
    "Age - Age of passenger\n",
    "SibSp - Number of passenger's Siblings and/or Spouses aboard\n",
    "Parch - Number of passenger's Parents and/or Children aboard\n",
    "Ticket - Ticket number\n",
    "Fare - Amount paid for ticket\n",
    "Cabin - Deck (letter) and room number\n",
    "Embarked - Port at which passenger boarded"
   ]
  },
  {
   "cell_type": "raw",
   "metadata": {},
   "source": [
    "Potential analyses of available data:\n",
    "I'm going to set these as stretch goals. First pass at this will be basics (okay, second pass...need to get a better handle on my expectations of myself).\n",
    "\n",
    "Pclass: Were passengers of one class more/less likely to survive (MLL) than other classes?\n",
    "Name/SipSp/Parch: were people with families MLL than people who were travelling alone?\n",
    "Name: Is it possible to make assumptions of ethnicity based on family name? If so, were people of an ethnicity MLL?\n",
    "Sex: Were men/women MLL?\n",
    "Sex / Age: Were boys/girls MLL? Possibly bin ages\n",
    "Age: Did age play any part in MLL? Possibly bin ages\n",
    "Age/SipSp/Parch: Were people of X age MLL if they were there with family?\n",
    "SipSp/Parch: If unable to derive with Name/SipSp/Parch MLL than people who were travelling alone?\n",
    "Cabin: Did deck and/or cabin number impact MLL?\n",
    "Embarked/cabin: Did port of boarding impact cabin and, by extention, cabin analysis?\n",
    "Fare/cabin: Did cost of ticket impact cabin and, by extention, cabin analysis?\n",
    "Embarked/fare/cabin: Did a combination of where passenger boarded and fare paid impact cabin and, by extention, cabin analysis?\n",
    "\n",
    "Also slightly more comlex would be ship level (as indicated by ticket letter). As people could have been anywhere on the ship, though, Class is probably still a better measure."
   ]
  },
  {
   "cell_type": "raw",
   "metadata": {},
   "source": [
    "Age is missing data for 177 passengers, about 1/5 of those aboard. Data manually inserted using encyclopedia titanica data. 26 passengers not represented. Children under 1 year old recorded in decimals--convert to 1. \n",
    "\n",
    "Several people are attached to each ticket, which should make the family analysis easier\n",
    "\n",
    "Many cabins are NaN which should like up to 3rd class. Further exporation shows that 208 1st and 2nd class passengers lack a cabin designation.\n",
    "\n",
    "Two passengers are missing Embark data. Ticket number should indicate where they came aboard since there are such different codes for each port."
   ]
  },
  {
   "cell_type": "code",
   "execution_count": 6,
   "metadata": {
    "collapsed": false,
    "scrolled": true
   },
   "outputs": [
    {
     "data": {
      "text/html": [
       "<div>\n",
       "<table border=\"1\" class=\"dataframe\">\n",
       "  <thead>\n",
       "    <tr style=\"text-align: right;\">\n",
       "      <th></th>\n",
       "      <th>Survived</th>\n",
       "      <th>Pclass</th>\n",
       "      <th>Name</th>\n",
       "      <th>Sex</th>\n",
       "      <th>Age</th>\n",
       "      <th>SibSp</th>\n",
       "      <th>Parch</th>\n",
       "      <th>Ticket</th>\n",
       "      <th>Fare</th>\n",
       "      <th>Cabin</th>\n",
       "      <th>Embarked</th>\n",
       "    </tr>\n",
       "    <tr>\n",
       "      <th>PassengerId</th>\n",
       "      <th></th>\n",
       "      <th></th>\n",
       "      <th></th>\n",
       "      <th></th>\n",
       "      <th></th>\n",
       "      <th></th>\n",
       "      <th></th>\n",
       "      <th></th>\n",
       "      <th></th>\n",
       "      <th></th>\n",
       "      <th></th>\n",
       "    </tr>\n",
       "  </thead>\n",
       "  <tbody>\n",
       "    <tr>\n",
       "      <th>631</th>\n",
       "      <td>1</td>\n",
       "      <td>1</td>\n",
       "      <td>Barkworth, Mr. Algernon Henry Wilson</td>\n",
       "      <td>male</td>\n",
       "      <td>80</td>\n",
       "      <td>0</td>\n",
       "      <td>0</td>\n",
       "      <td>27042</td>\n",
       "      <td>30.0000</td>\n",
       "      <td>A23</td>\n",
       "      <td>S</td>\n",
       "    </tr>\n",
       "    <tr>\n",
       "      <th>852</th>\n",
       "      <td>0</td>\n",
       "      <td>3</td>\n",
       "      <td>Svensson, Mr. Johan</td>\n",
       "      <td>male</td>\n",
       "      <td>74</td>\n",
       "      <td>0</td>\n",
       "      <td>0</td>\n",
       "      <td>347060</td>\n",
       "      <td>7.7750</td>\n",
       "      <td>NaN</td>\n",
       "      <td>S</td>\n",
       "    </tr>\n",
       "    <tr>\n",
       "      <th>494</th>\n",
       "      <td>0</td>\n",
       "      <td>1</td>\n",
       "      <td>Artagaveytia, Mr. Ramon</td>\n",
       "      <td>male</td>\n",
       "      <td>71</td>\n",
       "      <td>0</td>\n",
       "      <td>0</td>\n",
       "      <td>PC 17609</td>\n",
       "      <td>49.5042</td>\n",
       "      <td>NaN</td>\n",
       "      <td>C</td>\n",
       "    </tr>\n",
       "    <tr>\n",
       "      <th>97</th>\n",
       "      <td>0</td>\n",
       "      <td>1</td>\n",
       "      <td>Goldschmidt, Mr. George B</td>\n",
       "      <td>male</td>\n",
       "      <td>71</td>\n",
       "      <td>0</td>\n",
       "      <td>0</td>\n",
       "      <td>PC 17754</td>\n",
       "      <td>34.6542</td>\n",
       "      <td>A5</td>\n",
       "      <td>C</td>\n",
       "    </tr>\n",
       "    <tr>\n",
       "      <th>117</th>\n",
       "      <td>0</td>\n",
       "      <td>3</td>\n",
       "      <td>Connors, Mr. Patrick</td>\n",
       "      <td>male</td>\n",
       "      <td>71</td>\n",
       "      <td>0</td>\n",
       "      <td>0</td>\n",
       "      <td>370369</td>\n",
       "      <td>7.7500</td>\n",
       "      <td>NaN</td>\n",
       "      <td>Q</td>\n",
       "    </tr>\n",
       "  </tbody>\n",
       "</table>\n",
       "</div>"
      ],
      "text/plain": [
       "             Survived  Pclass                                  Name   Sex  \\\n",
       "PassengerId                                                                 \n",
       "631                 1       1  Barkworth, Mr. Algernon Henry Wilson  male   \n",
       "852                 0       3                   Svensson, Mr. Johan  male   \n",
       "494                 0       1               Artagaveytia, Mr. Ramon  male   \n",
       "97                  0       1             Goldschmidt, Mr. George B  male   \n",
       "117                 0       3                  Connors, Mr. Patrick  male   \n",
       "\n",
       "             Age  SibSp  Parch    Ticket     Fare Cabin Embarked  \n",
       "PassengerId                                                       \n",
       "631           80      0      0     27042  30.0000   A23        S  \n",
       "852           74      0      0    347060   7.7750   NaN        S  \n",
       "494           71      0      0  PC 17609  49.5042   NaN        C  \n",
       "97            71      0      0  PC 17754  34.6542    A5        C  \n",
       "117           71      0      0    370369   7.7500   NaN        Q  "
      ]
     },
     "execution_count": 6,
     "metadata": {},
     "output_type": "execute_result"
    }
   ],
   "source": [
    "# reading in data with ages populated\n",
    "\n",
    "# mac path\n",
    "df1 = pd.read_csv('/Users/EKandTower/GA-DSI/projects/projects-weekly/project-05/code/titanic.csv')\n",
    "\n",
    "#windows path\n",
    "# df1 = pd.read_csv('C:/Users/Elizabeth/GA-DSI/projects/projects-weekly/project-05/code/titanic.csv')\n",
    "\n",
    "\n",
    "#remove index row\n",
    "df1.pop('index')\n",
    "\n",
    "# set passenger number as index\n",
    "df1=df1.set_index('PassengerId')\n",
    "\n",
    "#impute na with medians\n",
    "df1.fillna(df1.median(), inplace=True)\n",
    "\n",
    "df1.head()"
   ]
  },
  {
   "cell_type": "code",
   "execution_count": 7,
   "metadata": {
    "collapsed": false
   },
   "outputs": [
    {
     "data": {
      "text/plain": [
       "Survived      0\n",
       "Pclass        0\n",
       "Name          0\n",
       "Sex           0\n",
       "Age           0\n",
       "SibSp         0\n",
       "Parch         0\n",
       "Ticket        0\n",
       "Fare          0\n",
       "Cabin       687\n",
       "Embarked      2\n",
       "dtype: int64"
      ]
     },
     "execution_count": 7,
     "metadata": {},
     "output_type": "execute_result"
    }
   ],
   "source": [
    "df1.isnull().sum()"
   ]
  },
  {
   "cell_type": "code",
   "execution_count": 8,
   "metadata": {
    "collapsed": false
   },
   "outputs": [
    {
     "data": {
      "text/html": [
       "<div>\n",
       "<table border=\"1\" class=\"dataframe\">\n",
       "  <thead>\n",
       "    <tr style=\"text-align: right;\">\n",
       "      <th></th>\n",
       "      <th>Survived</th>\n",
       "      <th>Pclass</th>\n",
       "      <th>Age</th>\n",
       "      <th>SibSp</th>\n",
       "      <th>Parch</th>\n",
       "      <th>Fare</th>\n",
       "    </tr>\n",
       "  </thead>\n",
       "  <tbody>\n",
       "    <tr>\n",
       "      <th>count</th>\n",
       "      <td>891.000000</td>\n",
       "      <td>891.000000</td>\n",
       "      <td>891.000000</td>\n",
       "      <td>891.000000</td>\n",
       "      <td>891.000000</td>\n",
       "      <td>891.000000</td>\n",
       "    </tr>\n",
       "    <tr>\n",
       "      <th>mean</th>\n",
       "      <td>0.383838</td>\n",
       "      <td>2.308642</td>\n",
       "      <td>28.815937</td>\n",
       "      <td>0.523008</td>\n",
       "      <td>0.381594</td>\n",
       "      <td>32.204208</td>\n",
       "    </tr>\n",
       "    <tr>\n",
       "      <th>std</th>\n",
       "      <td>0.486592</td>\n",
       "      <td>0.836071</td>\n",
       "      <td>14.826253</td>\n",
       "      <td>1.102743</td>\n",
       "      <td>0.806057</td>\n",
       "      <td>49.693429</td>\n",
       "    </tr>\n",
       "    <tr>\n",
       "      <th>min</th>\n",
       "      <td>0.000000</td>\n",
       "      <td>1.000000</td>\n",
       "      <td>0.000000</td>\n",
       "      <td>0.000000</td>\n",
       "      <td>0.000000</td>\n",
       "      <td>0.000000</td>\n",
       "    </tr>\n",
       "    <tr>\n",
       "      <th>25%</th>\n",
       "      <td>0.000000</td>\n",
       "      <td>2.000000</td>\n",
       "      <td>20.000000</td>\n",
       "      <td>0.000000</td>\n",
       "      <td>0.000000</td>\n",
       "      <td>7.910400</td>\n",
       "    </tr>\n",
       "    <tr>\n",
       "      <th>50%</th>\n",
       "      <td>0.000000</td>\n",
       "      <td>3.000000</td>\n",
       "      <td>28.000000</td>\n",
       "      <td>0.000000</td>\n",
       "      <td>0.000000</td>\n",
       "      <td>14.454200</td>\n",
       "    </tr>\n",
       "    <tr>\n",
       "      <th>75%</th>\n",
       "      <td>1.000000</td>\n",
       "      <td>3.000000</td>\n",
       "      <td>38.000000</td>\n",
       "      <td>1.000000</td>\n",
       "      <td>0.000000</td>\n",
       "      <td>31.000000</td>\n",
       "    </tr>\n",
       "    <tr>\n",
       "      <th>max</th>\n",
       "      <td>1.000000</td>\n",
       "      <td>3.000000</td>\n",
       "      <td>80.000000</td>\n",
       "      <td>8.000000</td>\n",
       "      <td>6.000000</td>\n",
       "      <td>512.329200</td>\n",
       "    </tr>\n",
       "  </tbody>\n",
       "</table>\n",
       "</div>"
      ],
      "text/plain": [
       "         Survived      Pclass         Age       SibSp       Parch        Fare\n",
       "count  891.000000  891.000000  891.000000  891.000000  891.000000  891.000000\n",
       "mean     0.383838    2.308642   28.815937    0.523008    0.381594   32.204208\n",
       "std      0.486592    0.836071   14.826253    1.102743    0.806057   49.693429\n",
       "min      0.000000    1.000000    0.000000    0.000000    0.000000    0.000000\n",
       "25%      0.000000    2.000000   20.000000    0.000000    0.000000    7.910400\n",
       "50%      0.000000    3.000000   28.000000    0.000000    0.000000   14.454200\n",
       "75%      1.000000    3.000000   38.000000    1.000000    0.000000   31.000000\n",
       "max      1.000000    3.000000   80.000000    8.000000    6.000000  512.329200"
      ]
     },
     "execution_count": 8,
     "metadata": {},
     "output_type": "execute_result"
    }
   ],
   "source": [
    "df1.describe()\n"
   ]
  },
  {
   "cell_type": "code",
   "execution_count": 9,
   "metadata": {
    "collapsed": false
   },
   "outputs": [
    {
     "name": "stdout",
     "output_type": "stream",
     "text": [
      "<class 'pandas.core.frame.DataFrame'>\n",
      "Int64Index: 891 entries, 631 to 774\n",
      "Data columns (total 11 columns):\n",
      "Survived    891 non-null int64\n",
      "Pclass      891 non-null int64\n",
      "Name        891 non-null object\n",
      "Sex         891 non-null object\n",
      "Age         891 non-null int64\n",
      "SibSp       891 non-null int64\n",
      "Parch       891 non-null int64\n",
      "Ticket      891 non-null object\n",
      "Fare        891 non-null float64\n",
      "Cabin       204 non-null object\n",
      "Embarked    889 non-null object\n",
      "dtypes: float64(1), int64(5), object(5)\n",
      "memory usage: 83.5+ KB\n"
     ]
    }
   ],
   "source": [
    "df1.info()"
   ]
  },
  {
   "cell_type": "code",
   "execution_count": 10,
   "metadata": {
    "collapsed": false
   },
   "outputs": [
    {
     "data": {
      "text/plain": [
       "Survived      342.0000\n",
       "Pclass       2057.0000\n",
       "Age         25675.0000\n",
       "SibSp         466.0000\n",
       "Parch         340.0000\n",
       "Fare        28693.9493\n",
       "dtype: float64"
      ]
     },
     "execution_count": 10,
     "metadata": {},
     "output_type": "execute_result"
    }
   ],
   "source": [
    "df1.sum()"
   ]
  },
  {
   "cell_type": "markdown",
   "metadata": {},
   "source": [
    "#### 2. Visualize the Data"
   ]
  },
  {
   "cell_type": "code",
   "execution_count": 11,
   "metadata": {
    "collapsed": false
   },
   "outputs": [
    {
     "data": {
      "text/plain": [
       "array([[<matplotlib.axes._subplots.AxesSubplot object at 0x118c2cb50>,\n",
       "        <matplotlib.axes._subplots.AxesSubplot object at 0x118fc9ed0>],\n",
       "       [<matplotlib.axes._subplots.AxesSubplot object at 0x118db4690>,\n",
       "        <matplotlib.axes._subplots.AxesSubplot object at 0x118e36710>],\n",
       "       [<matplotlib.axes._subplots.AxesSubplot object at 0x11b26c690>,\n",
       "        <matplotlib.axes._subplots.AxesSubplot object at 0x11b419950>]], dtype=object)"
      ]
     },
     "execution_count": 11,
     "metadata": {},
     "output_type": "execute_result"
    },
    {
     "data": {
      "image/png": "[encoded data removed]",
      "text/plain": [
       "<matplotlib.figure.Figure at 0x118ee3950>"
      ]
     },
     "metadata": {},
     "output_type": "display_data"
    }
   ],
   "source": [
    "#histograms of numerical data\n",
    "df1.hist(figsize=(10,12))"
   ]
  },
  {
   "cell_type": "code",
   "execution_count": 12,
   "metadata": {
    "collapsed": false
   },
   "outputs": [
    {
     "data": {
      "text/plain": [
       "<seaborn.axisgrid.PairGrid at 0x11bdd6dd0>"
      ]
     },
     "execution_count": 12,
     "metadata": {},
     "output_type": "execute_result"
    },
    {
     "data": {
      "image/png": "[encoded data removed]",
      "text/plain": [
       "<matplotlib.figure.Figure at 0x118cdbc10>"
      ]
     },
     "metadata": {},
     "output_type": "display_data"
    }
   ],
   "source": [
    "palette = \"diverging\"\n",
    "sns.pairplot(df1, kind=\"scatter\", hue=\"Survived\")"
   ]
  },
  {
   "cell_type": "markdown",
   "metadata": {},
   "source": [
    "## Part 3: Data Wrangling"
   ]
  },
  {
   "cell_type": "markdown",
   "metadata": {},
   "source": [
    "#### 1. Create Dummy Variables for *Sex* "
   ]
  },
  {
   "cell_type": "code",
   "execution_count": 13,
   "metadata": {
    "collapsed": false
   },
   "outputs": [],
   "source": [
    "# creating dummies for gender, ticket class, and port of embarkment\n",
    "\n",
    "gendummy = pd.get_dummies(df1['Sex'], prefix='Sex')\n",
    "classdummy = pd.get_dummies(df1['Pclass'], prefix='Class')\n",
    "portdummy = pd.get_dummies(df1['Embarked'], prefix='Port')"
   ]
  },
  {
   "cell_type": "code",
   "execution_count": 14,
   "metadata": {
    "collapsed": false
   },
   "outputs": [],
   "source": [
    "# binning ages\n",
    "\n",
    "age_bins = [0, 10, 20, 30, 40, 50, 60, 70, 81]\n",
    "\n",
    "abns = ['5', '15', '25', '35', '45', '55', '65', '75']\n",
    "\n",
    "ages = pd.cut(df1['Age'], age_bins, labels=abns, right=False)"
   ]
  },
  {
   "cell_type": "markdown",
   "metadata": {},
   "source": [
    "## Part 4: Logistic Regression and Model Validation"
   ]
  },
  {
   "cell_type": "markdown",
   "metadata": {},
   "source": [
    "#### 1. Define the variables that we will use in our classification analysis"
   ]
  },
  {
   "cell_type": "raw",
   "metadata": {
    "collapsed": true
   },
   "source": [
    "Gender\n",
    "Class (prior work showed high correlation between class and ticket price so ticket price excluded)\n",
    "Age\n",
    "SibSp\n",
    "Parch\n"
   ]
  },
  {
   "cell_type": "code",
   "execution_count": 36,
   "metadata": {
    "collapsed": false,
    "scrolled": true
   },
   "outputs": [
    {
     "name": "stdout",
     "output_type": "stream",
     "text": [
      "<class 'pandas.core.frame.DataFrame'>\n",
      "Int64Index: 891 entries, 631 to 774\n",
      "Data columns (total 11 columns):\n",
      "Survived    891 non-null int64\n",
      "SibSp       891 non-null int64\n",
      "Parch       891 non-null int64\n",
      "Sex_male    891 non-null float64\n",
      "Class_1     891 non-null float64\n",
      "Class_2     891 non-null float64\n",
      "Class_3     891 non-null float64\n",
      "Port_C      891 non-null float64\n",
      "Port_Q      891 non-null float64\n",
      "Port_S      891 non-null float64\n",
      "ages        891 non-null int64\n",
      "dtypes: float64(7), int64(4)\n",
      "memory usage: 83.5 KB\n"
     ]
    }
   ],
   "source": [
    "orig_colls_to_keep = ['Survived', 'SibSp','Parch']\n",
    "df2 = df1[orig_colls_to_keep].join(gendummy.ix[:,'Sex_male':])\n",
    "df2 = df2.join(classdummy)\n",
    "df2 = df2.join(portdummy)\n",
    "df2['ages'] = ages.astype(int)\n",
    "df2.info()"
   ]
  },
  {
   "cell_type": "code",
   "execution_count": 16,
   "metadata": {
    "collapsed": false
   },
   "outputs": [
    {
     "data": {
      "text/html": [
       "<div>\n",
       "<table border=\"1\" class=\"dataframe\">\n",
       "  <thead>\n",
       "    <tr style=\"text-align: right;\">\n",
       "      <th></th>\n",
       "      <th>Survived</th>\n",
       "      <th>SibSp</th>\n",
       "      <th>Parch</th>\n",
       "      <th>male</th>\n",
       "      <th>1st_Class</th>\n",
       "      <th>2nd_Class</th>\n",
       "      <th>3rd_Class</th>\n",
       "      <th>Port_C</th>\n",
       "      <th>Port_Q</th>\n",
       "      <th>Port_S</th>\n",
       "      <th>Age0-10</th>\n",
       "      <th>Age10-20</th>\n",
       "      <th>Age20-30</th>\n",
       "      <th>Age30-40</th>\n",
       "      <th>Age40-50</th>\n",
       "      <th>Age50-60</th>\n",
       "      <th>Age60-70</th>\n",
       "      <th>Age70-80</th>\n",
       "    </tr>\n",
       "    <tr>\n",
       "      <th>PassengerId</th>\n",
       "      <th></th>\n",
       "      <th></th>\n",
       "      <th></th>\n",
       "      <th></th>\n",
       "      <th></th>\n",
       "      <th></th>\n",
       "      <th></th>\n",
       "      <th></th>\n",
       "      <th></th>\n",
       "      <th></th>\n",
       "      <th></th>\n",
       "      <th></th>\n",
       "      <th></th>\n",
       "      <th></th>\n",
       "      <th></th>\n",
       "      <th></th>\n",
       "      <th></th>\n",
       "      <th></th>\n",
       "    </tr>\n",
       "  </thead>\n",
       "  <tbody>\n",
       "    <tr>\n",
       "      <th>631</th>\n",
       "      <td>1</td>\n",
       "      <td>0</td>\n",
       "      <td>0</td>\n",
       "      <td>1.0</td>\n",
       "      <td>1.0</td>\n",
       "      <td>0.0</td>\n",
       "      <td>0.0</td>\n",
       "      <td>0.0</td>\n",
       "      <td>0.0</td>\n",
       "      <td>1.0</td>\n",
       "      <td>0.0</td>\n",
       "      <td>0.0</td>\n",
       "      <td>0.0</td>\n",
       "      <td>0.0</td>\n",
       "      <td>0.0</td>\n",
       "      <td>0.0</td>\n",
       "      <td>0.0</td>\n",
       "      <td>1.0</td>\n",
       "    </tr>\n",
       "    <tr>\n",
       "      <th>852</th>\n",
       "      <td>0</td>\n",
       "      <td>0</td>\n",
       "      <td>0</td>\n",
       "      <td>1.0</td>\n",
       "      <td>0.0</td>\n",
       "      <td>0.0</td>\n",
       "      <td>1.0</td>\n",
       "      <td>0.0</td>\n",
       "      <td>0.0</td>\n",
       "      <td>1.0</td>\n",
       "      <td>0.0</td>\n",
       "      <td>0.0</td>\n",
       "      <td>0.0</td>\n",
       "      <td>0.0</td>\n",
       "      <td>0.0</td>\n",
       "      <td>0.0</td>\n",
       "      <td>0.0</td>\n",
       "      <td>1.0</td>\n",
       "    </tr>\n",
       "    <tr>\n",
       "      <th>494</th>\n",
       "      <td>0</td>\n",
       "      <td>0</td>\n",
       "      <td>0</td>\n",
       "      <td>1.0</td>\n",
       "      <td>1.0</td>\n",
       "      <td>0.0</td>\n",
       "      <td>0.0</td>\n",
       "      <td>1.0</td>\n",
       "      <td>0.0</td>\n",
       "      <td>0.0</td>\n",
       "      <td>0.0</td>\n",
       "      <td>0.0</td>\n",
       "      <td>0.0</td>\n",
       "      <td>0.0</td>\n",
       "      <td>0.0</td>\n",
       "      <td>0.0</td>\n",
       "      <td>0.0</td>\n",
       "      <td>1.0</td>\n",
       "    </tr>\n",
       "    <tr>\n",
       "      <th>97</th>\n",
       "      <td>0</td>\n",
       "      <td>0</td>\n",
       "      <td>0</td>\n",
       "      <td>1.0</td>\n",
       "      <td>1.0</td>\n",
       "      <td>0.0</td>\n",
       "      <td>0.0</td>\n",
       "      <td>1.0</td>\n",
       "      <td>0.0</td>\n",
       "      <td>0.0</td>\n",
       "      <td>0.0</td>\n",
       "      <td>0.0</td>\n",
       "      <td>0.0</td>\n",
       "      <td>0.0</td>\n",
       "      <td>0.0</td>\n",
       "      <td>0.0</td>\n",
       "      <td>0.0</td>\n",
       "      <td>1.0</td>\n",
       "    </tr>\n",
       "    <tr>\n",
       "      <th>117</th>\n",
       "      <td>0</td>\n",
       "      <td>0</td>\n",
       "      <td>0</td>\n",
       "      <td>1.0</td>\n",
       "      <td>0.0</td>\n",
       "      <td>0.0</td>\n",
       "      <td>1.0</td>\n",
       "      <td>0.0</td>\n",
       "      <td>1.0</td>\n",
       "      <td>0.0</td>\n",
       "      <td>0.0</td>\n",
       "      <td>0.0</td>\n",
       "      <td>0.0</td>\n",
       "      <td>0.0</td>\n",
       "      <td>0.0</td>\n",
       "      <td>0.0</td>\n",
       "      <td>0.0</td>\n",
       "      <td>1.0</td>\n",
       "    </tr>\n",
       "  </tbody>\n",
       "</table>\n",
       "</div>"
      ],
      "text/plain": [
       "             Survived  SibSp  Parch  male  1st_Class  2nd_Class  3rd_Class  \\\n",
       "PassengerId                                                                  \n",
       "631                 1      0      0   1.0        1.0        0.0        0.0   \n",
       "852                 0      0      0   1.0        0.0        0.0        1.0   \n",
       "494                 0      0      0   1.0        1.0        0.0        0.0   \n",
       "97                  0      0      0   1.0        1.0        0.0        0.0   \n",
       "117                 0      0      0   1.0        0.0        0.0        1.0   \n",
       "\n",
       "             Port_C  Port_Q  Port_S  Age0-10  Age10-20  Age20-30  Age30-40  \\\n",
       "PassengerId                                                                  \n",
       "631             0.0     0.0     1.0      0.0       0.0       0.0       0.0   \n",
       "852             0.0     0.0     1.0      0.0       0.0       0.0       0.0   \n",
       "494             1.0     0.0     0.0      0.0       0.0       0.0       0.0   \n",
       "97              1.0     0.0     0.0      0.0       0.0       0.0       0.0   \n",
       "117             0.0     1.0     0.0      0.0       0.0       0.0       0.0   \n",
       "\n",
       "             Age40-50  Age50-60  Age60-70  Age70-80  \n",
       "PassengerId                                          \n",
       "631               0.0       0.0       0.0       1.0  \n",
       "852               0.0       0.0       0.0       1.0  \n",
       "494               0.0       0.0       0.0       1.0  \n",
       "97                0.0       0.0       0.0       1.0  \n",
       "117               0.0       0.0       0.0       1.0  "
      ]
     },
     "execution_count": 16,
     "metadata": {},
     "output_type": "execute_result"
    }
   ],
   "source": [
    "agedummy = pd.get_dummies(df2['ages'], prefix='Age')\n",
    "df2 = df2.join(agedummy)\n",
    "df2.pop('ages')\n",
    "df2.columns =['Survived','SibSp','Parch','male','1st_Class','2nd_Class','3rd_Class','Port_C','Port_Q','Port_S','Age0-10'\\\n",
    "      ,'Age10-20','Age20-30','Age30-40','Age40-50','Age50-60','Age60-70','Age70-80']\n",
    "df2.head()"
   ]
  },
  {
   "cell_type": "code",
   "execution_count": 17,
   "metadata": {
    "collapsed": false
   },
   "outputs": [
    {
     "data": {
      "text/plain": [
       "891"
      ]
     },
     "execution_count": 17,
     "metadata": {},
     "output_type": "execute_result"
    }
   ],
   "source": [
    "df2.sort_index(axis=0, inplace=True)\n",
    "\n",
    "len(df2)"
   ]
  },
  {
   "cell_type": "markdown",
   "metadata": {},
   "source": [
    "#### 2. Transform \"Y\" into a 1-Dimensional Array for SciKit-Learn"
   ]
  },
  {
   "cell_type": "code",
   "execution_count": 18,
   "metadata": {
    "collapsed": false
   },
   "outputs": [
    {
     "data": {
      "text/plain": [
       "pandas.core.series.Series"
      ]
     },
     "execution_count": 18,
     "metadata": {},
     "output_type": "execute_result"
    }
   ],
   "source": [
    "s = df2['Survived'].astype(int)\n",
    "# print s\n",
    "type(s)"
   ]
  },
  {
   "cell_type": "markdown",
   "metadata": {},
   "source": [
    "#### 3. Conduct the logistic regression"
   ]
  },
  {
   "cell_type": "code",
   "execution_count": 35,
   "metadata": {
    "collapsed": false
   },
   "outputs": [
    {
     "name": "stdout",
     "output_type": "stream",
     "text": [
      "Warning: Maximum number of iterations has been exceeded.\n",
      "         Current function value: 0.436621\n",
      "         Iterations: 35\n"
     ]
    },
    {
     "name": "stderr",
     "output_type": "stream",
     "text": [
      "/Users/EKandTower/anaconda/lib/python2.7/site-packages/statsmodels/base/model.py:466: ConvergenceWarning:\n",
      "\n",
      "Maximum Likelihood optimization failed to converge. Check mle_retvals\n",
      "\n"
     ]
    },
    {
     "data": {
      "text/plain": [
       "Index([u'SibSp', u'Parch', u'male', u'1st_Class', u'2nd_Class', u'3rd_Class',\n",
       "       u'Port_C', u'Port_Q', u'Port_S', u'Age0-10', u'Age10-20', u'Age20-30',\n",
       "       u'Age30-40', u'Age40-50', u'Age50-60', u'Age60-70', u'Age70-80'],\n",
       "      dtype='object')"
      ]
     },
     "execution_count": 35,
     "metadata": {},
     "output_type": "execute_result"
    }
   ],
   "source": [
    "train_cols = df2.columns[1:]\n",
    "logit = sm.Logit(df2['Survived'], df2[train_cols], maxiter=500)\n",
    "result = logit.fit()\n",
    "\n",
    "train_cols"
   ]
  },
  {
   "cell_type": "markdown",
   "metadata": {},
   "source": [
    "#### 4. Examine the coefficients to see our correlations"
   ]
  },
  {
   "cell_type": "code",
   "execution_count": 20,
   "metadata": {
    "collapsed": true
   },
   "outputs": [],
   "source": [
    "def examine_coefficients(model, dftitles):\n",
    "    dftitles = pd.DataFrame(\n",
    "        { 'Coefficient' : model.coef_[0] , 'Feature' : dftitles.columns}\n",
    "    ).sort_values(by='Coefficient')\n",
    "    return dftitles[dftitles.Coefficient !=0 ]"
   ]
  },
  {
   "cell_type": "code",
   "execution_count": 21,
   "metadata": {
    "collapsed": false
   },
   "outputs": [],
   "source": [
    "model = linear_model.LogisticRegression(penalty = 'l1', C = 10.0) \n",
    "\n",
    "X = df2[['SibSp','Parch','male','1st_Class','2nd_Class','3rd_Class','Port_C','Port_Q','Port_S','Age0-10'\\\n",
    "      ,'Age10-20','Age20-30','Age30-40','Age40-50','Age50-60','Age60-70','Age70-80']]\n",
    "y = df2['Survived']\n",
    "\n",
    "model.fit(X, y)\n",
    "datatitle = examine_coefficients(model, X)"
   ]
  },
  {
   "cell_type": "code",
   "execution_count": 22,
   "metadata": {
    "collapsed": false
   },
   "outputs": [
    {
     "data": {
      "text/html": [
       "<div>\n",
       "<table border=\"1\" class=\"dataframe\">\n",
       "  <thead>\n",
       "    <tr style=\"text-align: right;\">\n",
       "      <th></th>\n",
       "      <th>Coefficient</th>\n",
       "      <th>Feature</th>\n",
       "    </tr>\n",
       "  </thead>\n",
       "  <tbody>\n",
       "    <tr>\n",
       "      <th>2</th>\n",
       "      <td>-2.794226</td>\n",
       "      <td>male</td>\n",
       "    </tr>\n",
       "    <tr>\n",
       "      <th>5</th>\n",
       "      <td>-0.699238</td>\n",
       "      <td>3rd_Class</td>\n",
       "    </tr>\n",
       "    <tr>\n",
       "      <th>16</th>\n",
       "      <td>-0.677399</td>\n",
       "      <td>Age70-80</td>\n",
       "    </tr>\n",
       "    <tr>\n",
       "      <th>15</th>\n",
       "      <td>-0.594686</td>\n",
       "      <td>Age60-70</td>\n",
       "    </tr>\n",
       "    <tr>\n",
       "      <th>0</th>\n",
       "      <td>-0.356397</td>\n",
       "      <td>SibSp</td>\n",
       "    </tr>\n",
       "    <tr>\n",
       "      <th>14</th>\n",
       "      <td>-0.351353</td>\n",
       "      <td>Age50-60</td>\n",
       "    </tr>\n",
       "    <tr>\n",
       "      <th>8</th>\n",
       "      <td>-0.328782</td>\n",
       "      <td>Port_S</td>\n",
       "    </tr>\n",
       "    <tr>\n",
       "      <th>1</th>\n",
       "      <td>-0.114185</td>\n",
       "      <td>Parch</td>\n",
       "    </tr>\n",
       "    <tr>\n",
       "      <th>7</th>\n",
       "      <td>0.030305</td>\n",
       "      <td>Port_Q</td>\n",
       "    </tr>\n",
       "    <tr>\n",
       "      <th>4</th>\n",
       "      <td>0.580888</td>\n",
       "      <td>2nd_Class</td>\n",
       "    </tr>\n",
       "    <tr>\n",
       "      <th>11</th>\n",
       "      <td>0.620381</td>\n",
       "      <td>Age20-30</td>\n",
       "    </tr>\n",
       "    <tr>\n",
       "      <th>12</th>\n",
       "      <td>0.622920</td>\n",
       "      <td>Age30-40</td>\n",
       "    </tr>\n",
       "    <tr>\n",
       "      <th>10</th>\n",
       "      <td>0.638347</td>\n",
       "      <td>Age10-20</td>\n",
       "    </tr>\n",
       "    <tr>\n",
       "      <th>3</th>\n",
       "      <td>1.685662</td>\n",
       "      <td>1st_Class</td>\n",
       "    </tr>\n",
       "    <tr>\n",
       "      <th>9</th>\n",
       "      <td>1.891500</td>\n",
       "      <td>Age0-10</td>\n",
       "    </tr>\n",
       "  </tbody>\n",
       "</table>\n",
       "</div>"
      ],
      "text/plain": [
       "    Coefficient    Feature\n",
       "2     -2.794226       male\n",
       "5     -0.699238  3rd_Class\n",
       "16    -0.677399   Age70-80\n",
       "15    -0.594686   Age60-70\n",
       "0     -0.356397      SibSp\n",
       "14    -0.351353   Age50-60\n",
       "8     -0.328782     Port_S\n",
       "1     -0.114185      Parch\n",
       "7      0.030305     Port_Q\n",
       "4      0.580888  2nd_Class\n",
       "11     0.620381   Age20-30\n",
       "12     0.622920   Age30-40\n",
       "10     0.638347   Age10-20\n",
       "3      1.685662  1st_Class\n",
       "9      1.891500    Age0-10"
      ]
     },
     "execution_count": 22,
     "metadata": {},
     "output_type": "execute_result"
    }
   ],
   "source": [
    "datatitle"
   ]
  },
  {
   "cell_type": "code",
   "execution_count": 23,
   "metadata": {
    "collapsed": false
   },
   "outputs": [
    {
     "name": "stdout",
     "output_type": "stream",
     "text": [
      "           Survived     SibSp     Parch      male  1st_Class  2nd_Class  \\\n",
      "Survived   1.000000 -0.035322  0.081629 -0.543351   0.285904   0.093349   \n",
      "SibSp     -0.035322  1.000000  0.414838 -0.114631  -0.054582  -0.055932   \n",
      "Parch      0.081629  0.414838  1.000000 -0.245489  -0.017633  -0.000734   \n",
      "male      -0.543351 -0.114631 -0.245489  1.000000  -0.098013  -0.064746   \n",
      "1st_Class  0.285904 -0.054582 -0.017633 -0.098013   1.000000  -0.288585   \n",
      "2nd_Class  0.093349 -0.055932 -0.000734 -0.064746  -0.288585   1.000000   \n",
      "3rd_Class -0.322308  0.092548  0.015790  0.137143  -0.626738  -0.565210   \n",
      "Port_C     0.168240 -0.059528 -0.011069 -0.082853   0.296423  -0.125416   \n",
      "Port_Q     0.003650 -0.026354 -0.081228 -0.074115  -0.155342  -0.127301   \n",
      "Port_S    -0.155660  0.070941  0.063036  0.125722  -0.170379   0.192061   \n",
      "Age0-10    0.074518  0.291176  0.295371 -0.052564  -0.160171  -0.021768   \n",
      "Age10-20  -0.009731  0.132921  0.044031 -0.057318  -0.086640  -0.048459   \n",
      "Age20-30  -0.059480 -0.106063 -0.147608  0.045805  -0.178992  -0.003860   \n",
      "Age30-40   0.037705 -0.097129 -0.059840  0.006085   0.053644   0.070441   \n",
      "Age40-50   0.005910 -0.067264  0.004640 -0.003311   0.211850  -0.030999   \n",
      "Age50-60   0.004215 -0.055557 -0.038750 -0.000272   0.176283   0.053327   \n",
      "Age60-70  -0.041160 -0.045139 -0.015608  0.046008   0.139125  -0.030592   \n",
      "Age70-80  -0.044095 -0.030694 -0.026371  0.065645   0.068316  -0.013993   \n",
      "\n",
      "           3rd_Class    Port_C    Port_Q    Port_S   Age0-10  Age10-20  \\\n",
      "Survived   -0.322308  0.168240  0.003650 -0.155660  0.074518 -0.009731   \n",
      "SibSp       0.092548 -0.059528 -0.026354  0.070941  0.291176  0.132921   \n",
      "Parch       0.015790 -0.011069 -0.081228  0.063036  0.295371  0.044031   \n",
      "male        0.137143 -0.082853 -0.074115  0.125722 -0.052564 -0.057318   \n",
      "1st_Class  -0.626738  0.296423 -0.155342 -0.170379 -0.160171 -0.086640   \n",
      "2nd_Class  -0.565210 -0.125416 -0.127301  0.192061 -0.021768 -0.048459   \n",
      "3rd_Class   1.000000 -0.153329  0.237449 -0.009511  0.155720  0.114088   \n",
      "Port_C     -0.153329  1.000000 -0.148258 -0.778359  0.105322 -0.006825   \n",
      "Port_Q      0.237449 -0.148258  1.000000 -0.496624 -0.014608  0.041312   \n",
      "Port_S     -0.009511 -0.778359 -0.496624  1.000000 -0.081143 -0.017981   \n",
      "Age0-10     0.155720  0.105322 -0.014608 -0.081143  1.000000 -0.136139   \n",
      "Age10-20    0.114088 -0.006825  0.041312 -0.017981 -0.136139  1.000000   \n",
      "Age20-30    0.157362 -0.077269  0.098204  0.009306 -0.234909 -0.271152   \n",
      "Age30-40   -0.103549 -0.020477 -0.057261  0.050448 -0.182377 -0.210515   \n",
      "Age40-50   -0.157302  0.011267 -0.046919  0.021537 -0.132207 -0.152604   \n",
      "Age50-60   -0.195287  0.041796 -0.058589  0.001490 -0.084621 -0.097677   \n",
      "Age60-70   -0.094974 -0.006092 -0.024877  0.005945 -0.055903 -0.064528   \n",
      "Age70-80   -0.047474  0.022104  0.017874 -0.030089 -0.030560 -0.035275   \n",
      "\n",
      "           Age20-30  Age30-40  Age40-50  Age50-60  Age60-70  Age70-80  \n",
      "Survived  -0.059480  0.037705  0.005910  0.004215 -0.041160 -0.044095  \n",
      "SibSp     -0.106063 -0.097129 -0.067264 -0.055557 -0.045139 -0.030694  \n",
      "Parch     -0.147608 -0.059840  0.004640 -0.038750 -0.015608 -0.026371  \n",
      "male       0.045805  0.006085 -0.003311 -0.000272  0.046008  0.065645  \n",
      "1st_Class -0.178992  0.053644  0.211850  0.176283  0.139125  0.068316  \n",
      "2nd_Class -0.003860  0.070441 -0.030999  0.053327 -0.030592 -0.013993  \n",
      "3rd_Class  0.157362 -0.103549 -0.157302 -0.195287 -0.094974 -0.047474  \n",
      "Port_C    -0.077269 -0.020477  0.011267  0.041796 -0.006092  0.022104  \n",
      "Port_Q     0.098204 -0.057261 -0.046919 -0.058589 -0.024877  0.017874  \n",
      "Port_S     0.009306  0.050448  0.021537  0.001490  0.005945 -0.030089  \n",
      "Age0-10   -0.234909 -0.182377 -0.132207 -0.084621 -0.055903 -0.030560  \n",
      "Age10-20  -0.271152 -0.210515 -0.152604 -0.097677 -0.064528 -0.035275  \n",
      "Age20-30   1.000000 -0.363246 -0.263319 -0.168543 -0.111345 -0.060868  \n",
      "Age30-40  -0.363246  1.000000 -0.204434 -0.130852 -0.086445 -0.047256  \n",
      "Age40-50  -0.263319 -0.204434  1.000000 -0.094856 -0.062665 -0.034256  \n",
      "Age50-60  -0.168543 -0.130852 -0.094856  1.000000 -0.040110 -0.021926  \n",
      "Age60-70  -0.111345 -0.086445 -0.062665 -0.040110  1.000000 -0.014485  \n",
      "Age70-80  -0.060868 -0.047256 -0.034256 -0.021926 -0.014485  1.000000  \n"
     ]
    }
   ],
   "source": [
    "print df2.corr()\n",
    "\n"
   ]
  },
  {
   "cell_type": "raw",
   "metadata": {},
   "source": [
    "Coefficients and Correlations were similar with gender as the most significant factor in surviving the disaster. \n",
    "\n",
    "The coefficients also show that being a 1st Class passenger or, to a lesser extent 2nd Class, gave a high liklihood for survival. \n",
    "\n",
    "While women and children were first, you had to be a very small child to have the advantage. Coefficients for teens were neck-and-neck with everyone else up to 40 years old. If you were over 50 things didn't bode well for you.\n",
    "\n",
    "Correlations tended to follow the same pattern with 3rd class passengers far more likely to perish than those in 1st, though here age had much less impact. "
   ]
  },
  {
   "cell_type": "code",
   "execution_count": 24,
   "metadata": {
    "collapsed": false,
    "scrolled": true
   },
   "outputs": [
    {
     "data": {
      "text/plain": [
       "Survived     342.0\n",
       "SibSp        466.0\n",
       "Parch        340.0\n",
       "male         577.0\n",
       "1st_Class    216.0\n",
       "2nd_Class    184.0\n",
       "3rd_Class    491.0\n",
       "Port_C       168.0\n",
       "Port_Q        77.0\n",
       "Port_S       644.0\n",
       "Age0-10       94.0\n",
       "Age10-20     121.0\n",
       "Age20-30     284.0\n",
       "Age30-40     196.0\n",
       "Age40-50     115.0\n",
       "Age50-60      51.0\n",
       "Age60-70      23.0\n",
       "Age70-80       7.0\n",
       "dtype: float64"
      ]
     },
     "execution_count": 24,
     "metadata": {},
     "output_type": "execute_result"
    }
   ],
   "source": [
    "df2.sum()"
   ]
  },
  {
   "cell_type": "markdown",
   "metadata": {},
   "source": [
    "There were 577 male aboard and 314 females, about 65% of the passengers. Over half of the passengers were in steerage and 72% boarded in Southampton."
   ]
  },
  {
   "cell_type": "markdown",
   "metadata": {},
   "source": [
    "#### 6. Test the Model by introducing a *Test* or *Validaton* set "
   ]
  },
  {
   "cell_type": "code",
   "execution_count": 25,
   "metadata": {
    "collapsed": false
   },
   "outputs": [],
   "source": [
    "X_train, X_test, y_train, y_test = train_test_split(X, y, test_size=.33)"
   ]
  },
  {
   "cell_type": "code",
   "execution_count": 26,
   "metadata": {
    "collapsed": false
   },
   "outputs": [
    {
     "name": "stdout",
     "output_type": "stream",
     "text": [
      "Length of X_train: 596\n",
      "Length of y_train: 596\n",
      "\n",
      "Length of X_test: 295\n",
      "Length of y_test: 295\n"
     ]
    }
   ],
   "source": [
    "print 'Length of X_train: ' + str(len(X_train))\n",
    "print 'Length of y_train: ' + str(len(y_train))\n",
    "print\n",
    "print 'Length of X_test: ' + str(len(X_test))\n",
    "print 'Length of y_test: ' + str(len(y_test))"
   ]
  },
  {
   "cell_type": "code",
   "execution_count": 27,
   "metadata": {
    "collapsed": false
   },
   "outputs": [
    {
     "data": {
      "text/html": [
       "<div>\n",
       "<table border=\"1\" class=\"dataframe\">\n",
       "  <thead>\n",
       "    <tr style=\"text-align: right;\">\n",
       "      <th></th>\n",
       "      <th>Coefficient</th>\n",
       "      <th>Feature</th>\n",
       "    </tr>\n",
       "  </thead>\n",
       "  <tbody>\n",
       "    <tr>\n",
       "      <th>2</th>\n",
       "      <td>-2.494790</td>\n",
       "      <td>male</td>\n",
       "    </tr>\n",
       "    <tr>\n",
       "      <th>14</th>\n",
       "      <td>-1.140613</td>\n",
       "      <td>Age50-60</td>\n",
       "    </tr>\n",
       "    <tr>\n",
       "      <th>1</th>\n",
       "      <td>-0.292912</td>\n",
       "      <td>Parch</td>\n",
       "    </tr>\n",
       "    <tr>\n",
       "      <th>13</th>\n",
       "      <td>-0.179747</td>\n",
       "      <td>Age40-50</td>\n",
       "    </tr>\n",
       "    <tr>\n",
       "      <th>0</th>\n",
       "      <td>-0.019166</td>\n",
       "      <td>SibSp</td>\n",
       "    </tr>\n",
       "    <tr>\n",
       "      <th>5</th>\n",
       "      <td>-0.005095</td>\n",
       "      <td>3rd_Class</td>\n",
       "    </tr>\n",
       "    <tr>\n",
       "      <th>8</th>\n",
       "      <td>0.004606</td>\n",
       "      <td>Port_S</td>\n",
       "    </tr>\n",
       "    <tr>\n",
       "      <th>11</th>\n",
       "      <td>0.054130</td>\n",
       "      <td>Age20-30</td>\n",
       "    </tr>\n",
       "    <tr>\n",
       "      <th>12</th>\n",
       "      <td>0.107896</td>\n",
       "      <td>Age30-40</td>\n",
       "    </tr>\n",
       "    <tr>\n",
       "      <th>10</th>\n",
       "      <td>0.479930</td>\n",
       "      <td>Age10-20</td>\n",
       "    </tr>\n",
       "    <tr>\n",
       "      <th>6</th>\n",
       "      <td>0.517147</td>\n",
       "      <td>Port_C</td>\n",
       "    </tr>\n",
       "    <tr>\n",
       "      <th>9</th>\n",
       "      <td>0.612776</td>\n",
       "      <td>Age0-10</td>\n",
       "    </tr>\n",
       "    <tr>\n",
       "      <th>4</th>\n",
       "      <td>1.438086</td>\n",
       "      <td>2nd_Class</td>\n",
       "    </tr>\n",
       "    <tr>\n",
       "      <th>3</th>\n",
       "      <td>1.798640</td>\n",
       "      <td>1st_Class</td>\n",
       "    </tr>\n",
       "  </tbody>\n",
       "</table>\n",
       "</div>"
      ],
      "text/plain": [
       "    Coefficient    Feature\n",
       "2     -2.494790       male\n",
       "14    -1.140613   Age50-60\n",
       "1     -0.292912      Parch\n",
       "13    -0.179747   Age40-50\n",
       "0     -0.019166      SibSp\n",
       "5     -0.005095  3rd_Class\n",
       "8      0.004606     Port_S\n",
       "11     0.054130   Age20-30\n",
       "12     0.107896   Age30-40\n",
       "10     0.479930   Age10-20\n",
       "6      0.517147     Port_C\n",
       "9      0.612776    Age0-10\n",
       "4      1.438086  2nd_Class\n",
       "3      1.798640  1st_Class"
      ]
     },
     "execution_count": 27,
     "metadata": {},
     "output_type": "execute_result"
    }
   ],
   "source": [
    "model = linear_model.LogisticRegression(penalty = 'l1', C = 10.0) \n",
    "# \n",
    "model.fit(X_test, y_test)\n",
    "datatitle = examine_coefficients(model, X)\n",
    "datatitle"
   ]
  },
  {
   "cell_type": "raw",
   "metadata": {},
   "source": [
    "Train test performed well, returning similarly high numbers for men, though it found being over 70 to be far more lethal.\n",
    "\n",
    "Being in 1st or 2nd class or under 10 years old were still the marks of a better chance to survive.\n",
    "\n"
   ]
  },
  {
   "cell_type": "markdown",
   "metadata": {},
   "source": [
    "#### 7. Predict the class labels for the *Test* set"
   ]
  },
  {
   "cell_type": "code",
   "execution_count": 28,
   "metadata": {
    "collapsed": false
   },
   "outputs": [
    {
     "data": {
      "text/plain": [
       "array([0, 0, 0, 0, 0, 0, 0, 0, 1, 1, 0, 0, 0, 1, 0, 1, 0, 0, 0, 1, 0, 1, 0,\n",
       "       0, 1, 0, 0, 0, 0, 0, 1, 1, 0, 1, 0, 0, 0, 0, 0, 0, 0, 0, 1, 1, 0, 0,\n",
       "       1, 0, 0, 0, 0, 0, 1, 1, 1, 0, 0, 1, 0, 0, 0, 0, 0, 0, 1, 0, 0, 0, 0,\n",
       "       0, 0, 0, 0, 0, 1, 1, 0, 0, 1, 1, 0, 0, 1, 1, 1, 0, 0, 0, 0, 1, 0, 1,\n",
       "       1, 0, 0, 0, 0, 1, 1, 1, 0, 0, 0, 1, 0, 0, 0, 0, 1, 0, 0, 1, 0, 1, 1,\n",
       "       0, 0, 1, 1, 0, 0, 0, 1, 0, 0, 0, 0, 0, 0, 0, 1, 1, 0, 1, 1, 0, 0, 1,\n",
       "       0, 0, 1, 1, 0, 0, 0, 0, 1, 1, 1, 0, 1, 1, 0, 0, 0, 1, 1, 0, 0, 1, 0,\n",
       "       0, 1, 0, 0, 1, 0, 0, 1, 0, 0, 0, 0, 0, 0, 1, 0, 0, 0, 1, 1, 0, 0, 1,\n",
       "       0, 0, 0, 0, 0, 0, 0, 0, 1, 0, 0, 0, 1, 1, 0, 0, 1, 1, 1, 0, 0, 0, 0,\n",
       "       0, 0, 1, 1, 1, 1, 1, 0, 0, 0, 0, 1, 0, 0, 0, 1, 1, 0, 0, 0, 0, 0, 0,\n",
       "       1, 1, 0, 1, 0, 0, 1, 0, 0, 0, 0, 1, 0, 1, 0, 1, 0, 0, 0, 1, 0, 0, 1,\n",
       "       0, 1, 0, 0, 0, 0, 0, 1, 0, 0, 0, 1, 0, 1, 1, 0, 0, 0, 0, 0, 1, 0, 0,\n",
       "       0, 0, 0, 0, 1, 1, 0, 1, 0, 0, 1, 0, 0, 0, 1, 0, 1, 0, 0])"
      ]
     },
     "execution_count": 28,
     "metadata": {},
     "output_type": "execute_result"
    }
   ],
   "source": [
    "y_pred = model.predict(X_test)\n",
    "y_pred"
   ]
  },
  {
   "cell_type": "markdown",
   "metadata": {},
   "source": [
    "#### 8. Predict the class probabilities for the *Test* set"
   ]
  },
  {
   "cell_type": "code",
   "execution_count": 29,
   "metadata": {
    "collapsed": false
   },
   "outputs": [
    {
     "data": {
      "text/plain": [
       "array([[ 0.89556766,  0.10443234],\n",
       "       [ 0.87527823,  0.12472177],\n",
       "       [ 0.56953069,  0.43046931],\n",
       "       [ 0.89043109,  0.10956891],\n",
       "       [ 0.83963893,  0.16036107],\n",
       "       [ 0.89599765,  0.10400235],\n",
       "       [ 0.58544903,  0.41455097],\n",
       "       [ 0.91550586,  0.08449414],\n",
       "       [ 0.14655567,  0.85344433],\n",
       "       [ 0.41550208,  0.58449792],\n",
       "       [ 0.83130123,  0.16869877],\n",
       "       [ 0.89599765,  0.10400235],\n",
       "       [ 0.89043109,  0.10956891],\n",
       "       [ 0.099448  ,  0.900552  ],\n",
       "       [ 0.89043109,  0.10956891],\n",
       "       [ 0.40139936,  0.59860064],\n",
       "       [ 0.64085095,  0.35914905],\n",
       "       [ 0.89556766,  0.10443234],\n",
       "       [ 0.89556766,  0.10443234],\n",
       "       [ 0.47812425,  0.52187575],\n",
       "       [ 0.89043109,  0.10956891],\n",
       "       [ 0.14318885,  0.85681115],\n",
       "       [ 0.87015734,  0.12984266],\n",
       "       [ 0.64645568,  0.35354432],\n",
       "       [ 0.27790775,  0.72209225],\n",
       "       [ 0.84853006,  0.15146994],\n",
       "       [ 0.8995159 ,  0.1004841 ],\n",
       "       [ 0.92145448,  0.07854552],\n",
       "       [ 0.64525032,  0.35474968],\n",
       "       [ 0.89556766,  0.10443234],\n",
       "       [ 0.27884752,  0.72115248],\n",
       "       [ 0.31711419,  0.68288581],\n",
       "       [ 0.59852252,  0.40147748],\n",
       "       [ 0.12833843,  0.87166157],\n",
       "       [ 0.90093472,  0.09906528],\n",
       "       [ 0.57234296,  0.42765704],\n",
       "       [ 0.87442722,  0.12557278],\n",
       "       [ 0.84912109,  0.15087891],\n",
       "       [ 0.5166235 ,  0.4833765 ],\n",
       "       [ 0.65745435,  0.34254565],\n",
       "       [ 0.89556766,  0.10443234],\n",
       "       [ 0.57234296,  0.42765704],\n",
       "       [ 0.42567316,  0.57432684],\n",
       "       [ 0.30338416,  0.69661584],\n",
       "       [ 0.83704142,  0.16295858],\n",
       "       [ 0.89556766,  0.10443234],\n",
       "       [ 0.42016426,  0.57983574],\n",
       "       [ 0.95113616,  0.04886384],\n",
       "       [ 0.90488856,  0.09511144],\n",
       "       [ 0.89556766,  0.10443234],\n",
       "       [ 0.84853006,  0.15146994],\n",
       "       [ 0.71902148,  0.28097852],\n",
       "       [ 0.18300183,  0.81699817],\n",
       "       [ 0.13049786,  0.86950214],\n",
       "       [ 0.31611762,  0.68388238],\n",
       "       [ 0.83704142,  0.16295858],\n",
       "       [ 0.64085095,  0.35914905],\n",
       "       [ 0.16820793,  0.83179207],\n",
       "       [ 0.89556766,  0.10443234],\n",
       "       [ 0.61628979,  0.38371021],\n",
       "       [ 0.74011219,  0.25988781],\n",
       "       [ 0.57702764,  0.42297236],\n",
       "       [ 0.84912109,  0.15087891],\n",
       "       [ 0.89982333,  0.10017667],\n",
       "       [ 0.4397868 ,  0.5602132 ],\n",
       "       [ 0.65067289,  0.34932711],\n",
       "       [ 0.89556766,  0.10443234],\n",
       "       [ 0.89556766,  0.10443234],\n",
       "       [ 0.57234296,  0.42765704],\n",
       "       [ 0.87046604,  0.12953396],\n",
       "       [ 0.59852252,  0.40147748],\n",
       "       [ 0.89556766,  0.10443234],\n",
       "       [ 0.83065432,  0.16934568],\n",
       "       [ 0.89043109,  0.10956891],\n",
       "       [ 0.43507026,  0.56492974],\n",
       "       [ 0.32027569,  0.67972431],\n",
       "       [ 0.74606431,  0.25393569],\n",
       "       [ 0.71902148,  0.28097852],\n",
       "       [ 0.47203042,  0.52796958],\n",
       "       [ 0.47927364,  0.52072636],\n",
       "       [ 0.84853006,  0.15146994],\n",
       "       [ 0.89556766,  0.10443234],\n",
       "       [ 0.21683401,  0.78316599],\n",
       "       [ 0.36031635,  0.63968365],\n",
       "       [ 0.31711419,  0.68288581],\n",
       "       [ 0.89556766,  0.10443234],\n",
       "       [ 0.829574  ,  0.170426  ],\n",
       "       [ 0.89043109,  0.10956891],\n",
       "       [ 0.91719075,  0.08280925],\n",
       "       [ 0.14896924,  0.85103076],\n",
       "       [ 0.54954952,  0.45045048],\n",
       "       [ 0.17433982,  0.82566018],\n",
       "       [ 0.08248103,  0.91751897],\n",
       "       [ 0.7382673 ,  0.2617327 ],\n",
       "       [ 0.66175768,  0.33824232],\n",
       "       [ 0.89043109,  0.10956891],\n",
       "       [ 0.89556766,  0.10443234],\n",
       "       [ 0.18149041,  0.81850959],\n",
       "       [ 0.30338416,  0.69661584],\n",
       "       [ 0.1648166 ,  0.8351834 ],\n",
       "       [ 0.84912109,  0.15087891],\n",
       "       [ 0.66945845,  0.33054155],\n",
       "       [ 0.88444332,  0.11555668],\n",
       "       [ 0.11551339,  0.88448661],\n",
       "       [ 0.89556766,  0.10443234],\n",
       "       [ 0.74606431,  0.25393569],\n",
       "       [ 0.89556766,  0.10443234],\n",
       "       [ 0.64085095,  0.35914905],\n",
       "       [ 0.18588489,  0.81411511],\n",
       "       [ 0.64085095,  0.35914905],\n",
       "       [ 0.8922871 ,  0.1077129 ],\n",
       "       [ 0.41550208,  0.58449792],\n",
       "       [ 0.73640866,  0.26359134],\n",
       "       [ 0.2238972 ,  0.7761028 ],\n",
       "       [ 0.05759305,  0.94240695],\n",
       "       [ 0.65745435,  0.34254565],\n",
       "       [ 0.91550586,  0.08449414],\n",
       "       [ 0.42521585,  0.57478415],\n",
       "       [ 0.41904256,  0.58095744],\n",
       "       [ 0.89043109,  0.10956891],\n",
       "       [ 0.5166235 ,  0.4833765 ],\n",
       "       [ 0.66945845,  0.33054155],\n",
       "       [ 0.2865542 ,  0.7134458 ],\n",
       "       [ 0.91586147,  0.08413853],\n",
       "       [ 0.89556766,  0.10443234],\n",
       "       [ 0.89556766,  0.10443234],\n",
       "       [ 0.74606431,  0.25393569],\n",
       "       [ 0.59852252,  0.40147748],\n",
       "       [ 0.89556766,  0.10443234],\n",
       "       [ 0.74726739,  0.25273261],\n",
       "       [ 0.31611762,  0.68388238],\n",
       "       [ 0.45825795,  0.54174205],\n",
       "       [ 0.61281701,  0.38718299],\n",
       "       [ 0.13049786,  0.86950214],\n",
       "       [ 0.44494314,  0.55505686],\n",
       "       [ 0.829574  ,  0.170426  ],\n",
       "       [ 0.83063426,  0.16936574],\n",
       "       [ 0.41438393,  0.58561607],\n",
       "       [ 0.86994582,  0.13005418],\n",
       "       [ 0.57234296,  0.42765704],\n",
       "       [ 0.44683583,  0.55316417],\n",
       "       [ 0.06204081,  0.93795919],\n",
       "       [ 0.87701438,  0.12298562],\n",
       "       [ 0.52140815,  0.47859185],\n",
       "       [ 0.89909882,  0.10090118],\n",
       "       [ 0.56953069,  0.43046931],\n",
       "       [ 0.41438393,  0.58561607],\n",
       "       [ 0.24880792,  0.75119208],\n",
       "       [ 0.13049786,  0.86950214],\n",
       "       [ 0.52140815,  0.47859185],\n",
       "       [ 0.06316555,  0.93683445],\n",
       "       [ 0.36491224,  0.63508776],\n",
       "       [ 0.86436236,  0.13563764],\n",
       "       [ 0.89087965,  0.10912035],\n",
       "       [ 0.84853006,  0.15146994],\n",
       "       [ 0.41438393,  0.58561607],\n",
       "       [ 0.12234428,  0.87765572],\n",
       "       [ 0.52140815,  0.47859185],\n",
       "       [ 0.65745435,  0.34254565],\n",
       "       [ 0.10878017,  0.89121983],\n",
       "       [ 0.93557787,  0.06442213],\n",
       "       [ 0.66945845,  0.33054155],\n",
       "       [ 0.41529013,  0.58470987],\n",
       "       [ 0.89556766,  0.10443234],\n",
       "       [ 0.6813247 ,  0.3186753 ],\n",
       "       [ 0.49155267,  0.50844733],\n",
       "       [ 0.89556766,  0.10443234],\n",
       "       [ 0.84853006,  0.15146994],\n",
       "       [ 0.13671818,  0.86328182],\n",
       "       [ 0.74606431,  0.25393569],\n",
       "       [ 0.96589666,  0.03410334],\n",
       "       [ 0.68695216,  0.31304784],\n",
       "       [ 0.86209955,  0.13790045],\n",
       "       [ 0.93699592,  0.06300408],\n",
       "       [ 0.90488856,  0.09511144],\n",
       "       [ 0.28566531,  0.71433469],\n",
       "       [ 0.83704142,  0.16295858],\n",
       "       [ 0.66175768,  0.33824232],\n",
       "       [ 0.89556766,  0.10443234],\n",
       "       [ 0.27065537,  0.72934463],\n",
       "       [ 0.1203011 ,  0.8796989 ],\n",
       "       [ 0.86994582,  0.13005418],\n",
       "       [ 0.61737839,  0.38262161],\n",
       "       [ 0.13671818,  0.86328182],\n",
       "       [ 0.91550586,  0.08449414],\n",
       "       [ 0.89556766,  0.10443234],\n",
       "       [ 0.51793939,  0.48206061],\n",
       "       [ 0.89556766,  0.10443234],\n",
       "       [ 0.89599765,  0.10400235],\n",
       "       [ 0.57234296,  0.42765704],\n",
       "       [ 0.77850266,  0.22149734],\n",
       "       [ 0.66945845,  0.33054155],\n",
       "       [ 0.4727319 ,  0.5272681 ],\n",
       "       [ 0.5166235 ,  0.4833765 ],\n",
       "       [ 0.69546155,  0.30453845],\n",
       "       [ 0.54814929,  0.45185071],\n",
       "       [ 0.40601322,  0.59398678],\n",
       "       [ 0.13671818,  0.86328182],\n",
       "       [ 0.89556766,  0.10443234],\n",
       "       [ 0.89556766,  0.10443234],\n",
       "       [ 0.17500381,  0.82499619],\n",
       "       [ 0.41550208,  0.58449792],\n",
       "       [ 0.14655567,  0.85344433],\n",
       "       [ 0.89777019,  0.10222981],\n",
       "       [ 0.67368583,  0.32631417],\n",
       "       [ 0.83704142,  0.16295858],\n",
       "       [ 0.67788515,  0.32211485],\n",
       "       [ 0.89556766,  0.10443234],\n",
       "       [ 0.87701438,  0.12298562],\n",
       "       [ 0.40601322,  0.59398678],\n",
       "       [ 0.36491224,  0.63508776],\n",
       "       [ 0.31711419,  0.68288581],\n",
       "       [ 0.24880792,  0.75119208],\n",
       "       [ 0.10436798,  0.89563202],\n",
       "       [ 0.79748405,  0.20251595],\n",
       "       [ 0.89556766,  0.10443234],\n",
       "       [ 0.64085095,  0.35914905],\n",
       "       [ 0.90652537,  0.09347463],\n",
       "       [ 0.1549095 ,  0.8450905 ],\n",
       "       [ 0.89556766,  0.10443234],\n",
       "       [ 0.829574  ,  0.170426  ],\n",
       "       [ 0.82895783,  0.17104217],\n",
       "       [ 0.42757746,  0.57242254],\n",
       "       [ 0.17711599,  0.82288401],\n",
       "       [ 0.57702764,  0.42297236],\n",
       "       [ 0.74606431,  0.25393569],\n",
       "       [ 0.72393182,  0.27606818],\n",
       "       [ 0.93703511,  0.06296489],\n",
       "       [ 0.89043109,  0.10956891],\n",
       "       [ 0.74726739,  0.25273261],\n",
       "       [ 0.13671818,  0.86328182],\n",
       "       [ 0.06642293,  0.93357707],\n",
       "       [ 0.90052288,  0.09947712],\n",
       "       [ 0.40601322,  0.59398678],\n",
       "       [ 0.89043109,  0.10956891],\n",
       "       [ 0.64085095,  0.35914905],\n",
       "       [ 0.24524293,  0.75475707],\n",
       "       [ 0.84853006,  0.15146994],\n",
       "       [ 0.89556766,  0.10443234],\n",
       "       [ 0.91550586,  0.08449414],\n",
       "       [ 0.65745435,  0.34254565],\n",
       "       [ 0.13899612,  0.86100388],\n",
       "       [ 0.89043109,  0.10956891],\n",
       "       [ 0.41550208,  0.58449792],\n",
       "       [ 0.92145448,  0.07854552],\n",
       "       [ 0.40139936,  0.59860064],\n",
       "       [ 0.8922871 ,  0.1077129 ],\n",
       "       [ 0.83704142,  0.16295858],\n",
       "       [ 0.74496667,  0.25503333],\n",
       "       [ 0.17433982,  0.82566018],\n",
       "       [ 0.89556766,  0.10443234],\n",
       "       [ 0.89043109,  0.10956891],\n",
       "       [ 0.13109699,  0.86890301],\n",
       "       [ 0.57234296,  0.42765704],\n",
       "       [ 0.06642293,  0.93357707],\n",
       "       [ 0.89043109,  0.10956891],\n",
       "       [ 0.91423234,  0.08576766],\n",
       "       [ 0.56953069,  0.43046931],\n",
       "       [ 0.89734669,  0.10265331],\n",
       "       [ 0.89556766,  0.10443234],\n",
       "       [ 0.08104211,  0.91895789],\n",
       "       [ 0.89556766,  0.10443234],\n",
       "       [ 0.59852252,  0.40147748],\n",
       "       [ 0.72287737,  0.27712263],\n",
       "       [ 0.2524074 ,  0.7475926 ],\n",
       "       [ 0.82092931,  0.17907069],\n",
       "       [ 0.47172315,  0.52827685],\n",
       "       [ 0.2817703 ,  0.7182297 ],\n",
       "       [ 0.65745435,  0.34254565],\n",
       "       [ 0.90322614,  0.09677386],\n",
       "       [ 0.83704142,  0.16295858],\n",
       "       [ 0.68958658,  0.31041342],\n",
       "       [ 0.64085095,  0.35914905],\n",
       "       [ 0.08288072,  0.91711928],\n",
       "       [ 0.89556766,  0.10443234],\n",
       "       [ 0.84853006,  0.15146994],\n",
       "       [ 0.829574  ,  0.170426  ],\n",
       "       [ 0.65745435,  0.34254565],\n",
       "       [ 0.91586147,  0.08413853],\n",
       "       [ 0.58544903,  0.41455097],\n",
       "       [ 0.2524074 ,  0.7475926 ],\n",
       "       [ 0.06204081,  0.93795919],\n",
       "       [ 0.66945845,  0.33054155],\n",
       "       [ 0.08104211,  0.91895789],\n",
       "       [ 0.65745435,  0.34254565],\n",
       "       [ 0.65745435,  0.34254565],\n",
       "       [ 0.41438393,  0.58561607],\n",
       "       [ 0.89599765,  0.10400235],\n",
       "       [ 0.61281701,  0.38718299],\n",
       "       [ 0.83385661,  0.16614339],\n",
       "       [ 0.18733742,  0.81266258],\n",
       "       [ 0.89043109,  0.10956891],\n",
       "       [ 0.11356953,  0.88643047],\n",
       "       [ 0.55487162,  0.44512838],\n",
       "       [ 0.89043109,  0.10956891]])"
      ]
     },
     "execution_count": 29,
     "metadata": {},
     "output_type": "execute_result"
    }
   ],
   "source": [
    "y_pp = model.predict_proba(X_test)\n",
    "y_pp"
   ]
  },
  {
   "cell_type": "markdown",
   "metadata": {},
   "source": [
    "#### 9. Evaluate the *Test* set"
   ]
  },
  {
   "cell_type": "code",
   "execution_count": 30,
   "metadata": {
    "collapsed": false
   },
   "outputs": [
    {
     "name": "stdout",
     "output_type": "stream",
     "text": [
      "mean accuracy: 0.796857463524, all: [ 0.79124579  0.80808081  0.79124579]\n",
      "mean precision: 0.757682615506, all: [ 0.75490196  0.73553719  0.7826087 ]\n",
      "mean recall: 0.695906432749, all: [ 0.6754386   0.78070175  0.63157895]\n",
      "mean roc_auc: 0.848808040137, all: [ 0.82722174  0.86274087  0.85646151]\n"
     ]
    }
   ],
   "source": [
    "for metric in ['accuracy', 'precision', 'recall', 'roc_auc']:\n",
    "    scores = cross_val_score(model, X, y, scoring=metric)\n",
    "    print(\"mean {}: {}, all: {}\".format(metric, scores.mean(), scores))"
   ]
  },
  {
   "cell_type": "markdown",
   "metadata": {},
   "source": [
    "#### 10. Cross validate the test set"
   ]
  },
  {
   "cell_type": "code",
   "execution_count": 31,
   "metadata": {
    "collapsed": false
   },
   "outputs": [
    {
     "data": {
      "text/plain": [
       "array([ 0.79888268,  0.7877095 ,  0.80337079,  0.7752809 ,  0.79096045])"
      ]
     },
     "execution_count": 31,
     "metadata": {},
     "output_type": "execute_result"
    }
   ],
   "source": [
    "\n",
    "cross_val_score(model, X, y, n_jobs=1, cv=5)"
   ]
  },
  {
   "cell_type": "code",
   "execution_count": 32,
   "metadata": {
    "collapsed": false
   },
   "outputs": [
    {
     "data": {
      "text/plain": [
       "0.79124086322832188"
      ]
     },
     "execution_count": 32,
     "metadata": {},
     "output_type": "execute_result"
    }
   ],
   "source": [
    "cross_val_score(model, X, y, n_jobs=1, cv=5).mean()"
   ]
  },
  {
   "cell_type": "code",
   "execution_count": 33,
   "metadata": {
    "collapsed": false
   },
   "outputs": [
    {
     "name": "stderr",
     "output_type": "stream",
     "text": [
      "/Users/EKandTower/anaconda/lib/python2.7/site-packages/sklearn/metrics/classification.py:1074: UndefinedMetricWarning:\n",
      "\n",
      "F-score is ill-defined and being set to 0.0 due to no predicted samples.\n",
      "\n"
     ]
    },
    {
     "name": "stdout",
     "output_type": "stream",
     "text": [
      "best C for class:\n",
      "{0: 0.0001, 1: 0.00026366508987303583}\n"
     ]
    }
   ],
   "source": [
    "logreg_cv = LogisticRegressionCV(Cs=20, solver='liblinear', cv=3, penalty='l1', scoring='f1')\n",
    "cv_model = logreg_cv.fit(X_train, y_train)\n",
    "\n",
    "print('best C for class:')\n",
    "best_C = {logreg_cv.classes_[i]:x for i, (x, c) in enumerate(zip(logreg_cv.Cs_, logreg_cv.classes_))}\n",
    "print(best_C)"
   ]
  },
  {
   "cell_type": "code",
   "execution_count": 34,
   "metadata": {
    "collapsed": false
   },
   "outputs": [
    {
     "ename": "NameError",
     "evalue": "name 'gs' is not defined",
     "output_type": "error",
     "traceback": [
      "\u001b[0;31m---------------------------------------------------------------------------\u001b[0m",
      "\u001b[0;31mNameError\u001b[0m                                 Traceback (most recent call last)",
      "\u001b[0;32m<ipython-input-34-cdd9b47fcec7>\u001b[0m in \u001b[0;36m<module>\u001b[0;34m()\u001b[0m\n\u001b[0;32m----> 1\u001b[0;31m \u001b[0mgs\u001b[0m\u001b[0;34m.\u001b[0m\u001b[0mbest_params_\u001b[0m\u001b[0;34m\u001b[0m\u001b[0m\n\u001b[0m",
      "\u001b[0;31mNameError\u001b[0m: name 'gs' is not defined"
     ]
    }
   ],
   "source": [
    "gs.best_params_"
   ]
  },
  {
   "cell_type": "markdown",
   "metadata": {},
   "source": [
    "#### 11. Check the Classification Report"
   ]
  },
  {
   "cell_type": "code",
   "execution_count": null,
   "metadata": {
    "collapsed": false
   },
   "outputs": [],
   "source": [
    "print classification_report(y_test, y_pred)"
   ]
  },
  {
   "cell_type": "markdown",
   "metadata": {},
   "source": [
    "#### 12. What do the classification metrics tell us?"
   ]
  },
  {
   "cell_type": "markdown",
   "metadata": {},
   "source": [
    "This is a pretty strong model with precision, recall, and f1-score all averaging 0.84"
   ]
  },
  {
   "cell_type": "markdown",
   "metadata": {},
   "source": [
    "#### 13. Check the Confusion Matrix"
   ]
  },
  {
   "cell_type": "code",
   "execution_count": null,
   "metadata": {
    "collapsed": false
   },
   "outputs": [],
   "source": [
    "conmat = np.array(confusion_matrix(y_test, y_pred, labels=[1,0]))\n",
    "\n",
    "confusion = pd.DataFrame(conmat, index=['Survived', 'Fatality'],\n",
    "                         columns=['predicted_Survived','predicted_Fatality'])\n",
    "\n",
    "print(confusion)"
   ]
  },
  {
   "cell_type": "markdown",
   "metadata": {},
   "source": [
    "#### 14. What does the Confusion Matrix tell us? "
   ]
  },
  {
   "cell_type": "markdown",
   "metadata": {},
   "source": [
    "There were 156 true negatives (predicted fatality correctly), 26 false positives/TypeI Error (predicted alive, but actually dead), 28 false negatives/Type-II Error (predicted dead, actually alive), and 85 true positives (perdicted survived correctly)."
   ]
  },
  {
   "cell_type": "markdown",
   "metadata": {},
   "source": [
    "#### 15. Plot the ROC curve"
   ]
  },
  {
   "cell_type": "code",
   "execution_count": null,
   "metadata": {
    "collapsed": false
   },
   "outputs": [],
   "source": [
    "logreg = LogisticRegression(random_state=77)\n",
    "logreg.fit(X_train, y_train)\n",
    "Y_pred = logreg.predict(X_test)\n",
    "\n",
    "\n",
    "# generic curve plotting function\n",
    "def auc_plotting_function(rate1, rate2, rate1_name, rate2_name, curve_name):\n",
    "    AUC = auc(rate1, rate2)\n",
    "    # Plot of a ROC curve for class 1 (fatality)\n",
    "    plt.figure(figsize=[11,9])\n",
    "    plt.plot(rate1, rate2, label=curve_name + ' (area = %0.2f)' % AUC, linewidth=4)\n",
    "    plt.plot([0, 1], [0, 1], 'k--', linewidth=4)\n",
    "    plt.xlim([0.0, 1.0])\n",
    "    plt.ylim([0.0, 1.05])\n",
    "    plt.xlabel(rate1_name, fontsize=18)\n",
    "    plt.ylabel(rate2_name, fontsize=18)\n",
    "    plt.title(curve_name + ' fatality', fontsize=18)\n",
    "    plt.legend(loc=\"lower right\")\n",
    "    plt.show()\n",
    "\n",
    "# plot receiving operator characteristic curve\n",
    "def plot_roc(y_true, y_score):\n",
    "    fpr, tpr, _ = roc_curve(y_true, y_score)\n",
    "    auc_plotting_function(fpr, tpr, 'False Positive Rate', 'True Positive Rate', 'ROC')\n",
    "    \n",
    "Y_score = logreg.decision_function(X_test)\n",
    "plot_roc(y_test, Y_score)\n"
   ]
  },
  {
   "cell_type": "markdown",
   "metadata": {},
   "source": [
    "#### 16. What does the ROC curve tell us?"
   ]
  },
  {
   "cell_type": "markdown",
   "metadata": {},
   "source": [
    "The extent to which a model is likely to give true positives (correct readings) versus false positives (incorrect readings). The larger the area under the curve (the space from the lower righthand corner to the ROC curve) the more likely it is that you will give a correct reading."
   ]
  },
  {
   "cell_type": "markdown",
   "metadata": {},
   "source": [
    "## Part 5: Gridsearch"
   ]
  },
  {
   "cell_type": "markdown",
   "metadata": {},
   "source": [
    "#### 1. Use GridSearchCV with logistic regression to search for optimal parameters \n",
    "\n",
    "- Use the provided parameter grid. Feel free to add if you like (such as n_jobs).\n",
    "- Use 5-fold cross-validation."
   ]
  },
  {
   "cell_type": "code",
   "execution_count": null,
   "metadata": {
    "collapsed": false
   },
   "outputs": [],
   "source": [
    "logreg = LogisticRegression(solver='liblinear')\n",
    "C_vals = np.logspace(-5,1,50)\n",
    "penalties = ['l1','l2']\n",
    "\n",
    "gs = GridSearchCV(logreg, {'penalty': penalties, 'C': C_vals}, cv=5)\n",
    "gs.fit(X, y)\n",
    "\n"
   ]
  },
  {
   "cell_type": "markdown",
   "metadata": {},
   "source": [
    "#### 2. Print out the best parameters and best score. Are they better than the vanilla logistic regression?"
   ]
  },
  {
   "cell_type": "code",
   "execution_count": null,
   "metadata": {
    "collapsed": false
   },
   "outputs": [],
   "source": [
    "gs.best_params_"
   ]
  },
  {
   "cell_type": "code",
   "execution_count": null,
   "metadata": {
    "collapsed": true
   },
   "outputs": [],
   "source": []
  },
  {
   "cell_type": "code",
   "execution_count": null,
   "metadata": {
    "collapsed": false,
    "scrolled": true
   },
   "outputs": [],
   "source": [
    "logreg = LogisticRegression(C=gs.best_params_['C'], penalty=gs.best_params_['penalty'])\n",
    "cv_model = logreg.fit(X_train, y_train)\n",
    "\n",
    "\n",
    "cv_pred = cv_model.predict(X_test)\n",
    "\n",
    "cm = confusion_matrix(y_test, cv_pred, labels=logreg.classes_)\n",
    "\n",
    "cm = pd.DataFrame(cm, columns=logreg.classes_, index=logreg.classes_)\n",
    "\n",
    "cm"
   ]
  },
  {
   "cell_type": "code",
   "execution_count": null,
   "metadata": {
    "collapsed": false
   },
   "outputs": [],
   "source": [
    "print classification_report(y_test, cv_pred, labels=logreg.classes_)"
   ]
  },
  {
   "cell_type": "raw",
   "metadata": {},
   "source": [
    "The results are very similar"
   ]
  },
  {
   "cell_type": "markdown",
   "metadata": {},
   "source": [
    "#### 3. Explain the difference between the difference between the L1 (Lasso) and L2 (Ridge) penalties on the model coefficients."
   ]
  },
  {
   "cell_type": "markdown",
   "metadata": {},
   "source": [
    "Lasso will find betas that don't have significant impact on the model and drop their coefficients to (or very close to) zero, effectively killing them out of the model (and effectively performing feature elimination). This encourages saparcity.\n",
    "\n",
    "Ridge doesn't kill weak betas off, it just pushes their coefficients down to the point where they only have token representation in the model.\n",
    "\n",
    "*smartass response: there is no difference between the difference. They have the same difference."
   ]
  },
  {
   "cell_type": "markdown",
   "metadata": {},
   "source": [
    "#### 4. What hypothetical situations are the Ridge and Lasso penalties useful?"
   ]
  },
  {
   "cell_type": "markdown",
   "metadata": {},
   "source": [
    "Ridge is useful when you have a lot of betas with small coefficients but not if there are a lot of betas with large coefficients. Ridge also needs the betas to be scaled while LASSO is more flexible.\n",
    "\n",
    "In this project LASSO was a better utility because gender and, to lesser degrees, class and age dominated the model. There were only a couple of fairly small coefficients and Fare was highly correlated with class.\n",
    "\n",
    "Ridge would be better in a situation where there were many data points that all contributed slightly.\n",
    "\n",
    "In the home price exercises Ridge would be better because there are so many things that can sway price."
   ]
  },
  {
   "cell_type": "markdown",
   "metadata": {},
   "source": [
    "#### 5. [BONUS] Explain how the regularization strength (C) modifies the regression loss function. Why do the Ridge and Lasso penalties have their respective effects on the coefficients?"
   ]
  },
  {
   "cell_type": "markdown",
   "metadata": {
    "collapsed": true
   },
   "source": [
    "C is basically 1/alpha so you're talking about the same concept just from the other side of things. It acts to reduce the power of betas' coefficients to either eliminate factors (LASSO) or reduce them so they are more uniform (Ridge)"
   ]
  },
  {
   "cell_type": "markdown",
   "metadata": {},
   "source": [
    "#### 6.a. [BONUS] You decide that you want to minimize false positives. Use the predicted probabilities from the model to set your threshold for labeling the positive class to need at least 90% confidence. How and why does this affect your confusion matrix?"
   ]
  },
  {
   "cell_type": "code",
   "execution_count": null,
   "metadata": {
    "collapsed": false
   },
   "outputs": [],
   "source": [
    "y_pp = model.predict_proba(X_test)\n",
    "y_pp"
   ]
  },
  {
   "cell_type": "markdown",
   "metadata": {},
   "source": [
    "## Part 6: Gridsearch and kNN"
   ]
  },
  {
   "cell_type": "markdown",
   "metadata": {},
   "source": [
    "#### 1. Perform Gridsearch for the same classification problem as above, but use KNeighborsClassifier as your estimator\n",
    "\n",
    "At least have number of neighbors and weights in your parameters dictionary."
   ]
  },
  {
   "cell_type": "code",
   "execution_count": null,
   "metadata": {
    "collapsed": false
   },
   "outputs": [],
   "source": [
    "GK_cv = KNeighborsClassifier(n_neighbors=8, weights='distance', n_jobs=5,)\n",
    "cv_model = GK_cv.fit(X_train, y_train)"
   ]
  },
  {
   "cell_type": "markdown",
   "metadata": {},
   "source": [
    "#### 2. Print the best parameters and score for the gridsearched kNN model. How does it compare to the logistic regression model?"
   ]
  },
  {
   "cell_type": "code",
   "execution_count": null,
   "metadata": {
    "collapsed": false
   },
   "outputs": [],
   "source": [
    "gs.best_params_\n"
   ]
  },
  {
   "cell_type": "code",
   "execution_count": null,
   "metadata": {
    "collapsed": false
   },
   "outputs": [],
   "source": [
    "print classification_report(y_test, cv_pred, labels=GK_cv.classes_)"
   ]
  },
  {
   "cell_type": "markdown",
   "metadata": {},
   "source": [
    "classification numbers were 4 points softer than the logistic regression model's."
   ]
  },
  {
   "cell_type": "markdown",
   "metadata": {},
   "source": [
    "#### 3. How does the number of neighbors affect the bias-variance tradeoff of your model?\n",
    "\n",
    "#### [BONUS] Why?"
   ]
  },
  {
   "cell_type": "markdown",
   "metadata": {
    "collapsed": true
   },
   "source": [
    "The higher the k the more vairance / less bias you have. As you go further from the point of origin you get a blurier picture."
   ]
  },
  {
   "cell_type": "markdown",
   "metadata": {},
   "source": [
    "#### 4. In what hypothetical scenario(s) might you prefer logistic regression over kNN, aside from model performance metrics?"
   ]
  },
  {
   "cell_type": "markdown",
   "metadata": {
    "collapsed": true
   },
   "source": [
    "logistic regression would be more useful when there are multiple factors that could impact the outcome. kNN is a very simple method."
   ]
  },
  {
   "cell_type": "markdown",
   "metadata": {},
   "source": [
    "#### 5. Fit a new kNN model with the optimal parameters found in gridsearch. "
   ]
  },
  {
   "cell_type": "code",
   "execution_count": null,
   "metadata": {
    "collapsed": false
   },
   "outputs": [],
   "source": [
    "def knn_classifier(labeled_points, new_point, k):\n",
    "    if k % 2 == 0:\n",
    "        return \"Must use odd k, to prevent ties\"\n",
    "        label_distances = []\n",
    "\n",
    "    for p in labeled_points:\n",
    "\n",
    "        distance = calculate_distance(p[0],new_point)\n",
    "        label_distances.append((distance,p[1]))\n",
    "    \n",
    "    label_distances.sort() #\n",
    "  \n",
    "    prediction = neighbor_vote([label[1] for label in label_distances[:k]])\n",
    "    return prediction\n",
    "\n",
    "\n",
    "X_train, X_test, y_train, y_test = train_test_split(X, y, test_size=0.30, random_state=77)\n",
    "\n",
    "# Split 70/30 into initial data and new points to classify\n",
    "training_df = pd.DataFrame({'feature1':X_train[:,0],'feature2':X_train[:,1],'class':y_train})\n",
    "test_df = pd.DataFrame({'feature1':X_test[:,0],'feature2':X_test[:,1],'class':y_test})"
   ]
  },
  {
   "cell_type": "markdown",
   "metadata": {},
   "source": [
    "#### 6. Construct the confusion matrix for the optimal kNN model. Is it different from the logistic regression model? If so, how?"
   ]
  },
  {
   "cell_type": "code",
   "execution_count": null,
   "metadata": {
    "collapsed": true
   },
   "outputs": [],
   "source": []
  },
  {
   "cell_type": "markdown",
   "metadata": {},
   "source": [
    "#### 7. [BONUS] Plot the ROC curves for the optimized logistic regression model and the optimized kNN model on the same plot."
   ]
  },
  {
   "cell_type": "code",
   "execution_count": null,
   "metadata": {
    "collapsed": true
   },
   "outputs": [],
   "source": []
  },
  {
   "cell_type": "markdown",
   "metadata": {},
   "source": [
    "## Part 7: [BONUS] Precision-recall"
   ]
  },
  {
   "cell_type": "markdown",
   "metadata": {},
   "source": [
    "#### 1. Gridsearch the same parameters for logistic regression but change the scoring function to 'average_precision'\n",
    "\n",
    "`'average_precision'` will optimize parameters for area under the precision-recall curve instead of for accuracy."
   ]
  },
  {
   "cell_type": "code",
   "execution_count": null,
   "metadata": {
    "collapsed": true
   },
   "outputs": [],
   "source": []
  },
  {
   "cell_type": "markdown",
   "metadata": {},
   "source": [
    "#### 2. Examine the best parameters and score. Are they different than the logistic regression gridsearch in part 5?"
   ]
  },
  {
   "cell_type": "code",
   "execution_count": null,
   "metadata": {
    "collapsed": true
   },
   "outputs": [],
   "source": []
  },
  {
   "cell_type": "markdown",
   "metadata": {},
   "source": [
    "#### 3. Create the confusion matrix. Is it different than when you optimized for the accuracy? If so, why would this be?"
   ]
  },
  {
   "cell_type": "code",
   "execution_count": null,
   "metadata": {
    "collapsed": true
   },
   "outputs": [],
   "source": []
  },
  {
   "cell_type": "markdown",
   "metadata": {},
   "source": [
    "#### 4. Plot the precision-recall curve. What does this tell us as opposed to the ROC curve?\n",
    "\n",
    "[See the sklearn plotting example here.](http://scikit-learn.org/stable/auto_examples/model_selection/plot_precision_recall.html)"
   ]
  },
  {
   "cell_type": "code",
   "execution_count": null,
   "metadata": {
    "collapsed": true
   },
   "outputs": [],
   "source": []
  },
  {
   "cell_type": "markdown",
   "metadata": {},
   "source": [
    "## Part 8: [VERY BONUS] Decision trees, ensembles, bagging"
   ]
  },
  {
   "cell_type": "markdown",
   "metadata": {},
   "source": [
    "#### 1. Gridsearch a decision tree classifier model on the data, searching for optimal depth. Create a new decision tree model with the optimal parameters."
   ]
  },
  {
   "cell_type": "code",
   "execution_count": null,
   "metadata": {
    "collapsed": true
   },
   "outputs": [],
   "source": []
  },
  {
   "cell_type": "markdown",
   "metadata": {},
   "source": [
    "#### 2. Compare the performace of the decision tree model to the logistic regression and kNN models."
   ]
  },
  {
   "cell_type": "code",
   "execution_count": null,
   "metadata": {
    "collapsed": true
   },
   "outputs": [],
   "source": []
  },
  {
   "cell_type": "markdown",
   "metadata": {},
   "source": [
    "#### 3. Plot all three optimized models' ROC curves on the same plot. "
   ]
  },
  {
   "cell_type": "code",
   "execution_count": null,
   "metadata": {
    "collapsed": true
   },
   "outputs": [],
   "source": []
  },
  {
   "cell_type": "markdown",
   "metadata": {},
   "source": [
    "#### 4. Use sklearn's BaggingClassifier with the base estimator your optimized decision tree model. How does the performance compare to the single decision tree classifier?"
   ]
  },
  {
   "cell_type": "code",
   "execution_count": null,
   "metadata": {
    "collapsed": true
   },
   "outputs": [],
   "source": []
  },
  {
   "cell_type": "markdown",
   "metadata": {},
   "source": [
    "#### 5. Gridsearch the optimal n_estimators, max_samples, and max_features for the bagging classifier."
   ]
  },
  {
   "cell_type": "code",
   "execution_count": null,
   "metadata": {
    "collapsed": true
   },
   "outputs": [],
   "source": []
  },
  {
   "cell_type": "markdown",
   "metadata": {},
   "source": [
    "#### 6. Create a bagging classifier model with the optimal parameters and compare it's performance to the other two models."
   ]
  },
  {
   "cell_type": "code",
   "execution_count": null,
   "metadata": {
    "collapsed": true
   },
   "outputs": [],
   "source": []
  }
 ],
 "metadata": {
  "anaconda-cloud": {},
  "kernelspec": {
   "display_name": "Python [Root]",
   "language": "python",
   "name": "Python [Root]"
  },
  "language_info": {
   "codemirror_mode": {
    "name": "ipython",
    "version": 2
   },
   "file_extension": ".py",
   "mimetype": "text/x-python",
   "name": "python",
   "nbconvert_exporter": "python",
   "pygments_lexer": "ipython2",
   "version": "2.7.12"
  }
 },
 "nbformat": 4,
 "nbformat_minor": 0
}
